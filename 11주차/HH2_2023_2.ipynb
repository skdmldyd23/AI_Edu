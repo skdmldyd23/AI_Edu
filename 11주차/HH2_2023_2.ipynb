{
  "nbformat": 4,
  "nbformat_minor": 0,
  "metadata": {
    "colab": {
      "provenance": [],
      "collapsed_sections": [
        "7SZmAA9UQJK8",
        "ForNcwgdQQHI",
        "k5isDh7r_zml",
        "ThzwwkL5r2QG",
        "yVjKkCb4_2eL",
        "N5cGomarZpPH",
        "TujL6BDkm5lY",
        "QJC__UG_uoiw"
      ]
    },
    "kernelspec": {
      "name": "python3",
      "display_name": "Python 3"
    },
    "language_info": {
      "name": "python"
    }
  },
  "cells": [
    {
      "cell_type": "markdown",
      "source": [
        "#1. 이미지 파일 처리 및 분류 적용"
      ],
      "metadata": {
        "id": "7SZmAA9UQJK8"
      }
    },
    {
      "cell_type": "markdown",
      "source": [
        "0. Caltech101 이미지 데이터: https://www.vision.caltech.edu/Image_Datasets/Caltech101/Caltech101.html\n",
        "\n",
        "1. content의 caltech의 zip파일을 압축을 해제\n",
        "- !unzip 파일이름.zip\n",
        "2. 각 폴더에 있는 이미지들을 읽으셔서 크기를 50,50으로 resize하셔서, 모두 png 파일로 저장해주세요\n",
        " - 파일이름은 폴더이름_resized_일련번호.png"
      ],
      "metadata": {
        "id": "Y15iNpxHL1HS"
      }
    },
    {
      "cell_type": "code",
      "source": [
        "import os\n",
        "\n",
        "os.chdir(\"/content/caltech\")\n",
        "!unzip 101_ObjectCategories.zip"
      ],
      "metadata": {
        "id": "8fvhMQCkM6ah",
        "colab": {
          "base_uri": "https://localhost:8080/"
        },
        "outputId": "4d9b30eb-135e-4ecf-e94c-6e8f8410692b"
      },
      "execution_count": 3,
      "outputs": [
        {
          "output_type": "stream",
          "name": "stdout",
          "text": [
            "Archive:  101_ObjectCategories.zip\n",
            "  inflating: flamingo/image_0001.jpg  \n",
            "  inflating: flamingo/image_0002.jpg  \n",
            "  inflating: flamingo/image_0003.jpg  \n",
            "  inflating: flamingo/image_0004.jpg  \n",
            "  inflating: flamingo/image_0005.jpg  \n",
            "  inflating: flamingo/image_0006.jpg  \n",
            "  inflating: flamingo/image_0007.jpg  \n",
            "  inflating: flamingo/image_0008.jpg  \n",
            "  inflating: flamingo/image_0009.jpg  \n",
            "  inflating: flamingo/image_0010.jpg  \n",
            "  inflating: flamingo/image_0011.jpg  \n",
            "  inflating: flamingo/image_0012.jpg  \n",
            "  inflating: flamingo/image_0013.jpg  \n",
            "  inflating: flamingo/image_0014.jpg  \n",
            "  inflating: flamingo/image_0015.jpg  \n",
            "  inflating: flamingo/image_0016.jpg  \n",
            "  inflating: flamingo/image_0017.jpg  \n",
            "  inflating: flamingo/image_0018.jpg  \n",
            "  inflating: flamingo/image_0019.jpg  \n",
            "  inflating: flamingo/image_0020.jpg  \n",
            "  inflating: flamingo/image_0021.jpg  \n",
            "  inflating: flamingo/image_0022.jpg  \n",
            "  inflating: flamingo/image_0023.jpg  \n",
            "  inflating: flamingo/image_0024.jpg  \n",
            "  inflating: flamingo/image_0025.jpg  \n",
            "  inflating: flamingo/image_0026.jpg  \n",
            "  inflating: flamingo/image_0027.jpg  \n",
            "  inflating: flamingo/image_0028.jpg  \n",
            "  inflating: flamingo/image_0029.jpg  \n",
            "  inflating: flamingo/image_0030.jpg  \n",
            "  inflating: flamingo/image_0031.jpg  \n",
            "  inflating: flamingo/image_0032.jpg  \n",
            "  inflating: flamingo/image_0033.jpg  \n",
            "  inflating: flamingo/image_0034.jpg  \n",
            "  inflating: flamingo/image_0035.jpg  \n",
            "  inflating: flamingo/image_0036.jpg  \n",
            "  inflating: flamingo/image_0037.jpg  \n",
            "  inflating: flamingo/image_0038.jpg  \n",
            "  inflating: flamingo/image_0039.jpg  \n",
            "  inflating: flamingo/image_0040.jpg  \n",
            "  inflating: flamingo/image_0041.jpg  \n",
            "  inflating: flamingo/image_0042.jpg  \n",
            "  inflating: flamingo/image_0043.jpg  \n",
            "  inflating: flamingo/image_0044.jpg  \n",
            "  inflating: flamingo/image_0045.jpg  \n",
            "  inflating: flamingo/image_0046.jpg  \n",
            "  inflating: flamingo/image_0047.jpg  \n",
            "  inflating: flamingo/image_0048.jpg  \n",
            "  inflating: flamingo/image_0049.jpg  \n",
            "  inflating: flamingo/image_0050.jpg  \n",
            "  inflating: flamingo/image_0051.jpg  \n",
            "  inflating: flamingo/image_0052.jpg  \n",
            "  inflating: flamingo/image_0053.jpg  \n",
            "  inflating: flamingo/image_0054.jpg  \n",
            "  inflating: flamingo/image_0055.jpg  \n",
            "  inflating: flamingo/image_0056.jpg  \n",
            "  inflating: flamingo/image_0057.jpg  \n",
            "  inflating: flamingo/image_0058.jpg  \n",
            "  inflating: flamingo/image_0059.jpg  \n",
            "  inflating: flamingo/image_0060.jpg  \n",
            "  inflating: flamingo/image_0061.jpg  \n",
            "  inflating: flamingo/image_0062.jpg  \n",
            "  inflating: flamingo/image_0063.jpg  \n",
            "  inflating: flamingo/image_0064.jpg  \n",
            "  inflating: flamingo/image_0065.jpg  \n",
            "  inflating: flamingo/image_0066.jpg  \n",
            "  inflating: flamingo/image_0067.jpg  \n",
            "  inflating: butterfly/image_0001.jpg  \n",
            "  inflating: butterfly/image_0002.jpg  \n",
            "  inflating: butterfly/image_0003.jpg  \n",
            "  inflating: butterfly/image_0004.jpg  \n",
            "  inflating: butterfly/image_0005.jpg  \n",
            "  inflating: butterfly/image_0006.jpg  \n",
            "  inflating: butterfly/image_0007.jpg  \n",
            "  inflating: butterfly/image_0008.jpg  \n",
            "  inflating: butterfly/image_0009.jpg  \n",
            "  inflating: butterfly/image_0010.jpg  \n",
            "  inflating: butterfly/image_0011.jpg  \n",
            "  inflating: butterfly/image_0012.jpg  \n",
            "  inflating: butterfly/image_0013.jpg  \n",
            "  inflating: butterfly/image_0014.jpg  \n",
            "  inflating: butterfly/image_0015.jpg  \n",
            "  inflating: butterfly/image_0016.jpg  \n",
            "  inflating: butterfly/image_0017.jpg  \n",
            "  inflating: butterfly/image_0018.jpg  \n",
            "  inflating: butterfly/image_0019.jpg  \n",
            "  inflating: butterfly/image_0020.jpg  \n",
            "  inflating: butterfly/image_0021.jpg  \n",
            "  inflating: butterfly/image_0022.jpg  \n",
            "  inflating: butterfly/image_0023.jpg  \n",
            "  inflating: butterfly/image_0024.jpg  \n",
            "  inflating: butterfly/image_0025.jpg  \n",
            "  inflating: butterfly/image_0026.jpg  \n",
            "  inflating: butterfly/image_0027.jpg  \n",
            "  inflating: butterfly/image_0028.jpg  \n",
            "  inflating: butterfly/image_0029.jpg  \n",
            "  inflating: butterfly/image_0030.jpg  \n",
            "  inflating: butterfly/image_0031.jpg  \n",
            "  inflating: butterfly/image_0032.jpg  \n",
            "  inflating: butterfly/image_0033.jpg  \n",
            "  inflating: butterfly/image_0034.jpg  \n",
            "  inflating: butterfly/image_0035.jpg  \n",
            "  inflating: butterfly/image_0036.jpg  \n",
            "  inflating: butterfly/image_0037.jpg  \n",
            "  inflating: butterfly/image_0038.jpg  \n",
            "  inflating: butterfly/image_0039.jpg  \n",
            "  inflating: butterfly/image_0040.jpg  \n",
            "  inflating: butterfly/image_0041.jpg  \n",
            "  inflating: butterfly/image_0042.jpg  \n",
            "  inflating: butterfly/image_0043.jpg  \n",
            "  inflating: butterfly/image_0044.jpg  \n",
            "  inflating: butterfly/image_0045.jpg  \n",
            "  inflating: butterfly/image_0046.jpg  \n",
            "  inflating: butterfly/image_0047.jpg  \n",
            "  inflating: butterfly/image_0048.jpg  \n",
            "  inflating: butterfly/image_0049.jpg  \n",
            "  inflating: butterfly/image_0050.jpg  \n",
            "  inflating: butterfly/image_0051.jpg  \n",
            "  inflating: butterfly/image_0052.jpg  \n",
            "  inflating: butterfly/image_0053.jpg  \n",
            "  inflating: butterfly/image_0054.jpg  \n",
            "  inflating: butterfly/image_0055.jpg  \n",
            "  inflating: butterfly/image_0056.jpg  \n",
            "  inflating: butterfly/image_0057.jpg  \n",
            "  inflating: butterfly/image_0058.jpg  \n",
            "  inflating: butterfly/image_0059.jpg  \n",
            "  inflating: butterfly/image_0060.jpg  \n",
            "  inflating: butterfly/image_0061.jpg  \n",
            "  inflating: butterfly/image_0062.jpg  \n",
            "  inflating: butterfly/image_0063.jpg  \n",
            "  inflating: butterfly/image_0064.jpg  \n",
            "  inflating: butterfly/image_0065.jpg  \n",
            "  inflating: butterfly/image_0066.jpg  \n",
            "  inflating: butterfly/image_0067.jpg  \n",
            "  inflating: butterfly/image_0068.jpg  \n",
            "  inflating: butterfly/image_0069.jpg  \n",
            "  inflating: butterfly/image_0070.jpg  \n",
            "  inflating: butterfly/image_0071.jpg  \n",
            "  inflating: butterfly/image_0072.jpg  \n",
            "  inflating: butterfly/image_0073.jpg  \n",
            "  inflating: butterfly/image_0074.jpg  \n",
            "  inflating: butterfly/image_0075.jpg  \n",
            "  inflating: butterfly/image_0076.jpg  \n",
            "  inflating: butterfly/image_0077.jpg  \n",
            "  inflating: butterfly/image_0078.jpg  \n",
            "  inflating: butterfly/image_0079.jpg  \n",
            "  inflating: butterfly/image_0080.jpg  \n",
            "  inflating: butterfly/image_0081.jpg  \n",
            "  inflating: butterfly/image_0082.jpg  \n",
            "  inflating: butterfly/image_0083.jpg  \n",
            "  inflating: butterfly/image_0084.jpg  \n",
            "  inflating: butterfly/image_0085.jpg  \n",
            "  inflating: butterfly/image_0086.jpg  \n",
            "  inflating: butterfly/image_0087.jpg  \n",
            "  inflating: butterfly/image_0088.jpg  \n",
            "  inflating: butterfly/image_0089.jpg  \n",
            "  inflating: butterfly/image_0090.jpg  \n",
            "  inflating: butterfly/image_0091.jpg  \n",
            "  inflating: camera/image_0001.jpg   \n",
            "  inflating: camera/image_0002.jpg   \n",
            "  inflating: camera/image_0003.jpg   \n",
            "  inflating: camera/image_0004.jpg   \n",
            "  inflating: camera/image_0005.jpg   \n",
            "  inflating: camera/image_0006.jpg   \n",
            "  inflating: camera/image_0007.jpg   \n",
            "  inflating: camera/image_0008.jpg   \n",
            "  inflating: camera/image_0009.jpg   \n",
            "  inflating: camera/image_0010.jpg   \n",
            "  inflating: camera/image_0011.jpg   \n",
            "  inflating: camera/image_0012.jpg   \n",
            "  inflating: camera/image_0013.jpg   \n",
            "  inflating: camera/image_0014.jpg   \n",
            "  inflating: camera/image_0015.jpg   \n",
            "  inflating: camera/image_0016.jpg   \n",
            "  inflating: camera/image_0017.jpg   \n",
            "  inflating: camera/image_0018.jpg   \n",
            "  inflating: camera/image_0019.jpg   \n",
            "  inflating: camera/image_0020.jpg   \n",
            "  inflating: camera/image_0021.jpg   \n",
            "  inflating: camera/image_0022.jpg   \n",
            "  inflating: camera/image_0023.jpg   \n",
            "  inflating: camera/image_0024.jpg   \n",
            "  inflating: camera/image_0025.jpg   \n",
            "  inflating: camera/image_0026.jpg   \n",
            "  inflating: camera/image_0027.jpg   \n",
            "  inflating: camera/image_0028.jpg   \n",
            "  inflating: camera/image_0029.jpg   \n",
            "  inflating: camera/image_0030.jpg   \n",
            "  inflating: camera/image_0031.jpg   \n",
            "  inflating: camera/image_0032.jpg   \n",
            "  inflating: camera/image_0033.jpg   \n",
            "  inflating: camera/image_0034.jpg   \n",
            "  inflating: camera/image_0035.jpg   \n",
            "  inflating: camera/image_0036.jpg   \n",
            "  inflating: camera/image_0037.jpg   \n",
            "  inflating: camera/image_0038.jpg   \n",
            "  inflating: camera/image_0039.jpg   \n",
            "  inflating: camera/image_0040.jpg   \n",
            "  inflating: camera/image_0041.jpg   \n",
            "  inflating: camera/image_0042.jpg   \n",
            "  inflating: camera/image_0043.jpg   \n",
            " extracting: camera/image_0044.jpg   \n",
            " extracting: camera/image_0045.jpg   \n",
            "  inflating: camera/image_0046.jpg   \n",
            "  inflating: camera/image_0047.jpg   \n",
            "  inflating: camera/image_0048.jpg   \n",
            "  inflating: camera/image_0049.jpg   \n",
            "  inflating: camera/image_0050.jpg   \n",
            "  inflating: chair/image_0001.jpg    \n",
            "  inflating: chair/image_0002.jpg    \n",
            "  inflating: chair/image_0003.jpg    \n",
            "  inflating: chair/image_0004.jpg    \n",
            "  inflating: chair/image_0005.jpg    \n",
            "  inflating: chair/image_0006.jpg    \n",
            "  inflating: chair/image_0007.jpg    \n",
            "  inflating: chair/image_0008.jpg    \n",
            "  inflating: chair/image_0009.jpg    \n",
            "  inflating: chair/image_0010.jpg    \n",
            "  inflating: chair/image_0011.jpg    \n",
            "  inflating: chair/image_0012.jpg    \n",
            "  inflating: chair/image_0013.jpg    \n",
            "  inflating: chair/image_0014.jpg    \n",
            "  inflating: chair/image_0015.jpg    \n",
            "  inflating: chair/image_0016.jpg    \n",
            "  inflating: chair/image_0017.jpg    \n",
            "  inflating: chair/image_0018.jpg    \n",
            "  inflating: chair/image_0019.jpg    \n",
            "  inflating: chair/image_0020.jpg    \n",
            "  inflating: chair/image_0021.jpg    \n",
            "  inflating: chair/image_0022.jpg    \n",
            "  inflating: chair/image_0023.jpg    \n",
            "  inflating: chair/image_0024.jpg    \n",
            "  inflating: chair/image_0025.jpg    \n",
            "  inflating: chair/image_0026.jpg    \n",
            "  inflating: chair/image_0027.jpg    \n",
            " extracting: chair/image_0028.jpg    \n",
            "  inflating: chair/image_0029.jpg    \n",
            "  inflating: chair/image_0030.jpg    \n",
            "  inflating: chair/image_0031.jpg    \n",
            "  inflating: chair/image_0032.jpg    \n",
            "  inflating: chair/image_0033.jpg    \n",
            "  inflating: chair/image_0034.jpg    \n",
            "  inflating: chair/image_0035.jpg    \n",
            "  inflating: chair/image_0036.jpg    \n",
            "  inflating: chair/image_0037.jpg    \n",
            "  inflating: chair/image_0038.jpg    \n",
            "  inflating: chair/image_0039.jpg    \n",
            "  inflating: chair/image_0040.jpg    \n",
            "  inflating: chair/image_0041.jpg    \n",
            "  inflating: chair/image_0042.jpg    \n",
            "  inflating: chair/image_0043.jpg    \n",
            "  inflating: chair/image_0044.jpg    \n",
            "  inflating: chair/image_0045.jpg    \n",
            "  inflating: chair/image_0046.jpg    \n",
            "  inflating: chair/image_0047.jpg    \n",
            "  inflating: chair/image_0048.jpg    \n",
            "  inflating: chair/image_0049.jpg    \n",
            "  inflating: chair/image_0050.jpg    \n",
            "  inflating: chair/image_0051.jpg    \n",
            "  inflating: chair/image_0052.jpg    \n",
            "  inflating: chair/image_0053.jpg    \n",
            "  inflating: chair/image_0054.jpg    \n",
            "  inflating: chair/image_0055.jpg    \n",
            "  inflating: chair/image_0056.jpg    \n",
            "  inflating: chair/image_0057.jpg    \n",
            "  inflating: chair/image_0058.jpg    \n",
            "  inflating: chair/image_0059.jpg    \n",
            "  inflating: chair/image_0060.jpg    \n",
            "  inflating: chair/image_0061.jpg    \n",
            "  inflating: chair/image_0062.jpg    \n",
            "  inflating: elephant/image_0001.jpg  \n",
            "  inflating: elephant/image_0002.jpg  \n",
            "  inflating: elephant/image_0003.jpg  \n",
            "  inflating: elephant/image_0004.jpg  \n",
            "  inflating: elephant/image_0005.jpg  \n",
            "  inflating: elephant/image_0006.jpg  \n",
            "  inflating: elephant/image_0007.jpg  \n",
            "  inflating: elephant/image_0008.jpg  \n",
            "  inflating: elephant/image_0009.jpg  \n",
            "  inflating: elephant/image_0010.jpg  \n",
            "  inflating: elephant/image_0011.jpg  \n",
            "  inflating: elephant/image_0012.jpg  \n",
            "  inflating: elephant/image_0013.jpg  \n",
            "  inflating: elephant/image_0014.jpg  \n",
            "  inflating: elephant/image_0015.jpg  \n",
            "  inflating: elephant/image_0016.jpg  \n",
            "  inflating: elephant/image_0017.jpg  \n",
            "  inflating: elephant/image_0018.jpg  \n",
            "  inflating: elephant/image_0019.jpg  \n",
            "  inflating: elephant/image_0020.jpg  \n",
            "  inflating: elephant/image_0021.jpg  \n",
            "  inflating: elephant/image_0022.jpg  \n",
            "  inflating: elephant/image_0023.jpg  \n",
            "  inflating: elephant/image_0024.jpg  \n",
            "  inflating: elephant/image_0025.jpg  \n",
            "  inflating: elephant/image_0026.jpg  \n",
            "  inflating: elephant/image_0027.jpg  \n",
            "  inflating: elephant/image_0028.jpg  \n",
            "  inflating: elephant/image_0029.jpg  \n",
            "  inflating: elephant/image_0030.jpg  \n",
            "  inflating: elephant/image_0031.jpg  \n",
            "  inflating: elephant/image_0032.jpg  \n",
            "  inflating: elephant/image_0033.jpg  \n",
            "  inflating: elephant/image_0034.jpg  \n",
            "  inflating: elephant/image_0035.jpg  \n",
            "  inflating: elephant/image_0036.jpg  \n",
            "  inflating: elephant/image_0037.jpg  \n",
            "  inflating: elephant/image_0038.jpg  \n",
            "  inflating: elephant/image_0039.jpg  \n",
            "  inflating: elephant/image_0040.jpg  \n",
            "  inflating: elephant/image_0041.jpg  \n",
            "  inflating: elephant/image_0042.jpg  \n",
            "  inflating: elephant/image_0043.jpg  \n",
            "  inflating: elephant/image_0044.jpg  \n",
            "  inflating: elephant/image_0045.jpg  \n",
            "  inflating: elephant/image_0046.jpg  \n",
            "  inflating: elephant/image_0047.jpg  \n",
            "  inflating: elephant/image_0048.jpg  \n",
            "  inflating: elephant/image_0049.jpg  \n",
            "  inflating: elephant/image_0050.jpg  \n",
            "  inflating: elephant/image_0051.jpg  \n",
            "  inflating: elephant/image_0052.jpg  \n",
            "  inflating: elephant/image_0053.jpg  \n",
            "  inflating: elephant/image_0054.jpg  \n",
            "  inflating: elephant/image_0055.jpg  \n",
            "  inflating: elephant/image_0056.jpg  \n",
            "  inflating: elephant/image_0057.jpg  \n",
            "  inflating: elephant/image_0058.jpg  \n",
            "  inflating: elephant/image_0059.jpg  \n",
            " extracting: elephant/image_0060.jpg  \n",
            "  inflating: elephant/image_0061.jpg  \n",
            "  inflating: elephant/image_0062.jpg  \n",
            "  inflating: elephant/image_0063.jpg  \n",
            " extracting: elephant/image_0064.jpg  \n"
          ]
        }
      ]
    },
    {
      "cell_type": "code",
      "source": [
        "categories = [ i for i in os.listdir() if not (i.endswith(\".zip\"))]\n",
        "categories"
      ],
      "metadata": {
        "colab": {
          "base_uri": "https://localhost:8080/"
        },
        "id": "_rXH5kwxXG9u",
        "outputId": "20c63f58-aac1-48f7-b80d-b77ff6a69524"
      },
      "execution_count": 14,
      "outputs": [
        {
          "output_type": "execute_result",
          "data": {
            "text/plain": [
              "['butterfly', 'chair', 'camera', 'elephant', 'flamingo']"
            ]
          },
          "metadata": {},
          "execution_count": 14
        }
      ]
    },
    {
      "cell_type": "code",
      "source": [
        "#/content/caltech/result 폴더에 저장하기\n",
        "from PIL import Image\n",
        "\n",
        "os.makedirs(\"result\")\n",
        "\n",
        "for i in categories:\n",
        "  files = os.listdir( i )\n",
        "  q=1\n",
        "  for j in files:\n",
        "    img = Image.open(i+\"/\"+j)\n",
        "    img.resize( (50, 50) )\n",
        "    img.save(\"result/\"+i+\"_resized_\"+str(q)+\".jpg\")\n",
        "    q=q+1"
      ],
      "metadata": {
        "id": "eWpSdNSuOIdN"
      },
      "execution_count": 15,
      "outputs": []
    },
    {
      "cell_type": "code",
      "source": [
        "import numpy as np\n",
        "from sklearn.model_selection import train_test_split\n",
        "\n",
        "os.chdir(\"/content/caltech\")\n",
        "#대상 카테고리\n",
        "nb_classes = len(categories)\n",
        "\n",
        "#image size\n",
        "image_w=50\n",
        "image_h=50\n",
        "pixels = image_w * image_h * 3\n",
        "\n",
        "#read\n",
        "X=[]\n",
        "Y=[]\n",
        "categories"
      ],
      "metadata": {
        "id": "B4DLJS5FZh3V",
        "colab": {
          "base_uri": "https://localhost:8080/"
        },
        "outputId": "8af89737-39ee-41cd-ad02-f026221caa99"
      },
      "execution_count": 16,
      "outputs": [
        {
          "output_type": "execute_result",
          "data": {
            "text/plain": [
              "['butterfly', 'chair', 'camera', 'elephant', 'flamingo']"
            ]
          },
          "metadata": {},
          "execution_count": 16
        }
      ]
    },
    {
      "cell_type": "code",
      "source": [
        "np.array(img)"
      ],
      "metadata": {
        "id": "DCv1XHZfVfdz"
      },
      "execution_count": null,
      "outputs": []
    },
    {
      "cell_type": "code",
      "source": [
        "import glob\n",
        "\n",
        "os.chdir(\"/content\")\n",
        "\n",
        "for idx, cat in enumerate( categories):\n",
        "\n",
        "  #label\n",
        "  label=[0 for i in range(nb_classes)]\n",
        "  label[idx]=1\n",
        "\n",
        "  #image\n",
        "  image_dir=\"caltech/\"+cat\n",
        "  files = glob.glob(image_dir+\"/*.jpg\") #현재 또는 주어진 디렉토리의 특정 확장자의 파일 선택\n",
        "  print(image_dir)\n",
        "\n",
        "  for i, f in enumerate(files):\n",
        "    img = Image.open(f)\n",
        "    img = img.convert(\"RGB\")\n",
        "    img = img.resize((image_w, image_h))\n",
        "    data=np.array(img)\n",
        "    X.append(data)\n",
        "    Y.append(label)\n",
        "    if i%10 ==0:\n",
        "      print(i, \"\\n\", data)\n",
        "\n",
        "X=np.array(X)\n",
        "Y=np.array(Y)\n",
        "\n",
        "print(X.shape)\n",
        "\n",
        "#partition\n",
        "X_train, X_test, y_train, y_test = train_test_split( X,Y)\n"
      ],
      "metadata": {
        "id": "TptvjEOzoHDm"
      },
      "execution_count": null,
      "outputs": []
    },
    {
      "cell_type": "markdown",
      "source": [
        "#2. 플릭커 API를 통한 이미지 수집"
      ],
      "metadata": {
        "id": "ForNcwgdQQHI"
      }
    },
    {
      "cell_type": "code",
      "source": [
        "# 플릭커 API를 통한 이미지 수집 및 라벨링\n",
        "#www.flickr.com\n",
        "#Yahoo.com 계정 생성 후에 Flickr API 페이지에 들어가서 생성\n",
        "#https://www.flickr.com/services/api\n",
        "\n",
        "#화면 상단의 App 제작 또는 Create APP 클릭->비상업용 키 신청->App 이름 및 설명 입력 후 등록(submit)\n",
        "#key, secret을 보관\n",
        "!pip install flickrapi"
      ],
      "metadata": {
        "colab": {
          "base_uri": "https://localhost:8080/"
        },
        "id": "6y22fAKgo5an",
        "outputId": "2e4d9bf6-336a-411c-de6a-a6b5c1227fd2"
      },
      "execution_count": 19,
      "outputs": [
        {
          "output_type": "stream",
          "name": "stdout",
          "text": [
            "Collecting flickrapi\n",
            "  Downloading flickrapi-2.4.0-py2.py3-none-any.whl (26 kB)\n",
            "Requirement already satisfied: six>=1.5.2 in /usr/local/lib/python3.10/dist-packages (from flickrapi) (1.16.0)\n",
            "Requirement already satisfied: requests>=2.2.1 in /usr/local/lib/python3.10/dist-packages (from flickrapi) (2.27.1)\n",
            "Requirement already satisfied: requests-oauthlib>=0.4.0 in /usr/local/lib/python3.10/dist-packages (from flickrapi) (1.3.1)\n",
            "Collecting requests-toolbelt>=0.3.1 (from flickrapi)\n",
            "  Downloading requests_toolbelt-1.0.0-py2.py3-none-any.whl (54 kB)\n",
            "\u001b[?25l     \u001b[90m━━━━━━━━━━━━━━━━━━━━━━━━━━━━━━━━━━━━━━━━\u001b[0m \u001b[32m0.0/54.5 kB\u001b[0m \u001b[31m?\u001b[0m eta \u001b[36m-:--:--\u001b[0m\r\u001b[2K     \u001b[90m━━━━━━━━━━━━━━━━━━━━━━━━━━━━━━━━━━━━━━━━\u001b[0m \u001b[32m54.5/54.5 kB\u001b[0m \u001b[31m5.6 MB/s\u001b[0m eta \u001b[36m0:00:00\u001b[0m\n",
            "\u001b[?25hRequirement already satisfied: urllib3<1.27,>=1.21.1 in /usr/local/lib/python3.10/dist-packages (from requests>=2.2.1->flickrapi) (1.26.16)\n",
            "Requirement already satisfied: certifi>=2017.4.17 in /usr/local/lib/python3.10/dist-packages (from requests>=2.2.1->flickrapi) (2023.5.7)\n",
            "Requirement already satisfied: charset-normalizer~=2.0.0 in /usr/local/lib/python3.10/dist-packages (from requests>=2.2.1->flickrapi) (2.0.12)\n",
            "Requirement already satisfied: idna<4,>=2.5 in /usr/local/lib/python3.10/dist-packages (from requests>=2.2.1->flickrapi) (3.4)\n",
            "Requirement already satisfied: oauthlib>=3.0.0 in /usr/local/lib/python3.10/dist-packages (from requests-oauthlib>=0.4.0->flickrapi) (3.2.2)\n",
            "Installing collected packages: requests-toolbelt, flickrapi\n",
            "Successfully installed flickrapi-2.4.0 requests-toolbelt-1.0.0\n"
          ]
        }
      ]
    },
    {
      "cell_type": "code",
      "source": [
        "os.getcwd()"
      ],
      "metadata": {
        "colab": {
          "base_uri": "https://localhost:8080/",
          "height": 35
        },
        "id": "Jlb6MDsyZsuz",
        "outputId": "745d4a81-2556-44da-af31-975cf27e309a"
      },
      "execution_count": 20,
      "outputs": [
        {
          "output_type": "execute_result",
          "data": {
            "text/plain": [
              "'/content'"
            ],
            "application/vnd.google.colaboratory.intrinsic+json": {
              "type": "string"
            }
          },
          "metadata": {},
          "execution_count": 20
        }
      ]
    },
    {
      "cell_type": "code",
      "source": [
        "from flickrapi import FlickrAPI\n",
        "from urllib.request import urlretrieve\n",
        "from pprint import pprint\n",
        "import os, time, sys\n",
        "\n",
        "key=\"348a661161bac897bf4f589ba140a26e\"\n",
        "secret=\"05eba4606a8c0d8a\"\n",
        "\n",
        "wait_time=1\n",
        "\n",
        "#사진 검색 및 저장\n",
        "savedir=\"udon\"\n",
        "if not os.path.exists(savedir):\n",
        " os.mkdir(savedir)\n",
        "\n",
        "#API로 다운로드\n",
        "flickr = FlickrAPI(key, secret, format=\"parsed-json\")\n",
        "res=flickr.photos.search( text=\"우동\", per_page=200, media=\"photos\", sort=\"relevance\", safe_search=1, extras=\"url_q, license\")\n",
        "\n",
        "photos=res['photos']\n",
        "pprint(photos)"
      ],
      "metadata": {
        "id": "a6fu22VksMGh"
      },
      "execution_count": null,
      "outputs": []
    },
    {
      "cell_type": "code",
      "source": [
        "try:\n",
        " for i , photo in enumerate(photos['photo']):\n",
        "  url_q = photo['url_q']\n",
        "  filepath = savedir+'/'+photo['id']+'.jpg'\n",
        "  if os.path.exists(filepath):continue\n",
        "  #print(str(i+1)+\":download=\", url_q)\n",
        "  urlretrieve(url_q, filepath)\n",
        "  time.sleep(wait_time)\n",
        "except:\n",
        " import traceback\n",
        " traceback.print_exc()\n",
        "\n",
        "# 2개 이상의 키워드로 플릭커에서 위의 코드를 이용하셔서 이미지를 수집해보세요.\n",
        "\n"
      ],
      "metadata": {
        "id": "2FJxsS1us1BU",
        "colab": {
          "base_uri": "https://localhost:8080/"
        },
        "outputId": "10e502af-18d1-4323-8cd1-2a769891a12a"
      },
      "execution_count": 22,
      "outputs": [
        {
          "output_type": "stream",
          "name": "stderr",
          "text": [
            "Traceback (most recent call last):\n",
            "  File \"<ipython-input-22-8dc0ed9f47b5>\", line 8, in <cell line: 1>\n",
            "    time.sleep(wait_time)\n",
            "KeyboardInterrupt\n"
          ]
        }
      ]
    },
    {
      "cell_type": "code",
      "source": [
        "x=[]\n",
        "y=[]"
      ],
      "metadata": {
        "id": "IFiV2fyzZ33b"
      },
      "execution_count": 23,
      "outputs": []
    },
    {
      "cell_type": "code",
      "source": [
        "#flick 사진 처리\n",
        "import numpy as np\n",
        "from PIL import Image\n",
        "import os, glob, random\n",
        "\n",
        "max_photo = 100\n",
        "photo_size=32\n",
        "\n",
        "files = glob.glob( \"udon\"+\"/*.jpg\")\n",
        "random.shuffle(files)\n",
        "\n",
        "num=0\n",
        "\n",
        "for f in files:\n",
        " if num >= max_photo: break\n",
        " num +=1\n",
        " img = Image.open(f)\n",
        " img= img.convert(\"RGB\")\n",
        " img= img.resize((photo_size, photo_size))\n",
        " img= np.asarray(img)\n",
        " x.append(img)\n",
        " y.append(0)\t#label을 0으로 지정\n",
        "\n",
        "\n",
        "#이미지 출력\n",
        "import matplotlib.pyplot as plt\n",
        "idx = 0\n",
        "plt.figure(figsize=(10,10))\n",
        "for i in range(25):\n",
        " plt.subplot(5,5,i+1)\n",
        " plt.title(y[i+idx])\n",
        " plt.imshow(x[i+idx])\n",
        "plt.show()\n",
        "\n"
      ],
      "metadata": {
        "id": "Cix0MRkAZljx",
        "colab": {
          "base_uri": "https://localhost:8080/",
          "height": 853
        },
        "outputId": "c9129bc3-bae0-46ba-d19b-47ca0aab9ecb"
      },
      "execution_count": 24,
      "outputs": [
        {
          "output_type": "display_data",
          "data": {
            "text/plain": [
              "<Figure size 1000x1000 with 25 Axes>"
            ],
            "image/png": "[encoded data removed]"
          },
          "metadata": {}
        }
      ]
    },
    {
      "cell_type": "code",
      "source": [
        "train_x, test_x, train_y, test_y = train_test_split( x, y, test_size=0.2)"
      ],
      "metadata": {
        "id": "H3fVmv4sjiK6"
      },
      "execution_count": 27,
      "outputs": []
    },
    {
      "cell_type": "code",
      "source": [
        "x[0]/255"
      ],
      "metadata": {
        "colab": {
          "base_uri": "https://localhost:8080/"
        },
        "id": "Up1XEDKBkCwY",
        "outputId": "551b5022-e0ca-49e1-c2a5-33e4dfcc6d89"
      },
      "execution_count": 28,
      "outputs": [
        {
          "output_type": "execute_result",
          "data": {
            "text/plain": [
              "array([[[0.45882353, 0.43529412, 0.45490196],\n",
              "        [0.67843137, 0.63921569, 0.68235294],\n",
              "        [0.75686275, 0.72156863, 0.76862745],\n",
              "        ...,\n",
              "        [0.61960784, 0.58823529, 0.6       ],\n",
              "        [0.60392157, 0.57254902, 0.58823529],\n",
              "        [0.60784314, 0.57254902, 0.59215686]],\n",
              "\n",
              "       [[0.46666667, 0.44705882, 0.45098039],\n",
              "        [0.6745098 , 0.63921569, 0.68235294],\n",
              "        [0.74117647, 0.70980392, 0.75686275],\n",
              "        ...,\n",
              "        [0.67058824, 0.63921569, 0.67058824],\n",
              "        [0.65098039, 0.61960784, 0.65098039],\n",
              "        [0.64705882, 0.61176471, 0.64313725]],\n",
              "\n",
              "       [[0.41176471, 0.37254902, 0.40784314],\n",
              "        [0.67843137, 0.64313725, 0.67843137],\n",
              "        [0.72941176, 0.69803922, 0.74509804],\n",
              "        ...,\n",
              "        [0.67843137, 0.64705882, 0.68627451],\n",
              "        [0.65882353, 0.62745098, 0.65882353],\n",
              "        [0.65098039, 0.60784314, 0.64705882]],\n",
              "\n",
              "       ...,\n",
              "\n",
              "       [[0.5254902 , 0.50980392, 0.50588235],\n",
              "        [0.51764706, 0.50196078, 0.49803922],\n",
              "        [0.54117647, 0.5254902 , 0.52156863],\n",
              "        ...,\n",
              "        [0.50980392, 0.48627451, 0.49019608],\n",
              "        [0.50196078, 0.47843137, 0.48627451],\n",
              "        [0.4745098 , 0.45098039, 0.45882353]],\n",
              "\n",
              "       [[0.52156863, 0.50980392, 0.50196078],\n",
              "        [0.51764706, 0.50196078, 0.49803922],\n",
              "        [0.5372549 , 0.52156863, 0.51764706],\n",
              "        ...,\n",
              "        [0.49803922, 0.4745098 , 0.48627451],\n",
              "        [0.49411765, 0.47058824, 0.48235294],\n",
              "        [0.46666667, 0.44705882, 0.45882353]],\n",
              "\n",
              "       [[0.51764706, 0.50196078, 0.49803922],\n",
              "        [0.51764706, 0.49803922, 0.49803922],\n",
              "        [0.54117647, 0.51764706, 0.51764706],\n",
              "        ...,\n",
              "        [0.49411765, 0.47058824, 0.48235294],\n",
              "        [0.49019608, 0.46666667, 0.48235294],\n",
              "        [0.46666667, 0.44313725, 0.45882353]]])"
            ]
          },
          "metadata": {},
          "execution_count": 28
        }
      ]
    },
    {
      "cell_type": "markdown",
      "source": [
        "#3.웹 수집"
      ],
      "metadata": {
        "id": "k5isDh7r_zml"
      }
    },
    {
      "cell_type": "markdown",
      "metadata": {
        "id": "5zRdb1L5qepi"
      },
      "source": [
        "- 1 크롤링(Crawling), 스크래핑(Scarping)\n",
        "\n",
        "- 2 HTTP(Hyper Text Transfer Protocol): 인터넷에서 데이터를 주고 받을 수 있는 프로토콜\n",
        "\n",
        "- 3 HTML: 웹에 사용되는 표준 Markup언어\n",
        "\n",
        "- 4 파싱(Parsing) : 어떤 페이지(문서, html)에서 원하는 데이터를 특정 패턴이나 순서로 추출하여 정보 가공\n",
        "\n"
      ]
    },
    {
      "cell_type": "code",
      "source": [],
      "metadata": {
        "id": "23n3bk65rG0p"
      },
      "execution_count": null,
      "outputs": []
    },
    {
      "cell_type": "markdown",
      "metadata": {
        "id": "ThzwwkL5r2QG"
      },
      "source": [
        "- HTML 소개\n",
        "\n",
        "<Strong>\n",
        "Hypertext Markup <U>Language </U> (HTML)\n",
        "</Strong>\n",
        "\n",
        "<h1>Test</h1>\n",
        "<h1>This is heading 1</h1>\n",
        "<h2>This is heading 2</h2>\n",
        "<h3>This is heading</h3>\n",
        "<h4>This is heading</h4>\n",
        "<h5>This is heading</h5>\n",
        "<h6>This is heading</h6>\n",
        "\n",
        "# This is heading1"
      ]
    },
    {
      "cell_type": "markdown",
      "metadata": {
        "id": "D0iszA3iugbm"
      },
      "source": [
        "- 5 HTML 태그?: 태그 내부에 값을 넣을 수 있을 뿐만 아니라, 태그마다 속성을 부여할 수 있음. 태그의 속성은 <태그 속성=\"값\"> 의 형태로 사용, 태그마다 여러 속성을 부여 할 수도 있음."
      ]
    },
    {
      "cell_type": "markdown",
      "metadata": {
        "id": "yx6-AebIZXH3"
      },
      "source": [
        "- 6 Xpath: XML 문서의 특정 요소나 속성에 접근하기 위한 경로를 지정하는 언어.\n",
        "\n",
        "/html/body/div/span/a..."
      ]
    },
    {
      "cell_type": "markdown",
      "metadata": {
        "id": "-sp7pnHZKjeA"
      },
      "source": [
        "- 7 requests - 웹페이지 읽기 / urllib, urllib2 을 사용하거나 requests 를 사용\n",
        "-HTTP GET, POST, PUT, DELETE 등을 사용할 수 있음\n",
        "-데이타 인코딩 기능을 제공: 데이타를 Dictionary로 만들어 GET, POST 등에서 사용\n"
      ]
    },
    {
      "cell_type": "code",
      "metadata": {
        "colab": {
          "base_uri": "https://localhost:8080/"
        },
        "id": "wcdtswhqKqYE",
        "outputId": "2f9a9dff-5a52-4e72-888a-d66b9fa01b0d"
      },
      "source": [
        "!pip install requests"
      ],
      "execution_count": 29,
      "outputs": [
        {
          "output_type": "stream",
          "name": "stdout",
          "text": [
            "Requirement already satisfied: requests in /usr/local/lib/python3.10/dist-packages (2.27.1)\n",
            "Requirement already satisfied: urllib3<1.27,>=1.21.1 in /usr/local/lib/python3.10/dist-packages (from requests) (1.26.16)\n",
            "Requirement already satisfied: certifi>=2017.4.17 in /usr/local/lib/python3.10/dist-packages (from requests) (2023.5.7)\n",
            "Requirement already satisfied: charset-normalizer~=2.0.0 in /usr/local/lib/python3.10/dist-packages (from requests) (2.0.12)\n",
            "Requirement already satisfied: idna<4,>=2.5 in /usr/local/lib/python3.10/dist-packages (from requests) (3.4)\n"
          ]
        }
      ]
    },
    {
      "cell_type": "code",
      "metadata": {
        "colab": {
          "base_uri": "https://localhost:8080/"
        },
        "id": "5G5z22VgKs5K",
        "outputId": "7d3db0d5-54ac-415f-9396-4fdad52e44e6"
      },
      "source": [
        "import requests\n",
        "res = requests.get('http://www.naver.com')\n",
        "print('결과: ', res.status_code) #200은 정상적인 접속"
      ],
      "execution_count": 30,
      "outputs": [
        {
          "output_type": "stream",
          "name": "stdout",
          "text": [
            "결과:  200\n"
          ]
        }
      ]
    },
    {
      "cell_type": "code",
      "metadata": {
        "colab": {
          "base_uri": "https://localhost:8080/"
        },
        "id": "hZ8yXegsLGu0",
        "outputId": "0abebb13-24db-405f-ce14-62a9866e92c5"
      },
      "source": [
        "import requests\n",
        "res = requests.get('https://www.naver.com/abcdefg')\n",
        "print('결과 : ', res.status_code) #400수준 코드는 접속 불가"
      ],
      "execution_count": 31,
      "outputs": [
        {
          "output_type": "stream",
          "name": "stdout",
          "text": [
            "결과 :  404\n"
          ]
        }
      ]
    },
    {
      "cell_type": "code",
      "metadata": {
        "colab": {
          "base_uri": "https://localhost:8080/"
        },
        "id": "x47aQ_09MMd4",
        "outputId": "1d0c43d2-dac1-4263-f673-de1886852659"
      },
      "source": [
        "import requests\n",
        "res = requests.get('http://naver.com')\n",
        "print('결과: ', res.status_code)\n",
        "\n",
        "if res.status_code == requests.codes.ok:\n",
        "  print('ok')\n",
        "else :\n",
        "  print(\"error code:\",res.status_code)"
      ],
      "execution_count": 32,
      "outputs": [
        {
          "output_type": "stream",
          "name": "stdout",
          "text": [
            "결과:  200\n",
            "ok\n"
          ]
        }
      ]
    },
    {
      "cell_type": "code",
      "metadata": {
        "colab": {
          "base_uri": "https://localhost:8080/"
        },
        "id": "zemz2-d7Mw3Y",
        "outputId": "69221896-389e-472e-a933-a02c36ee2d20"
      },
      "source": [
        "import requests\n",
        "res = requests.get('http://naver.com')\n",
        "print('결과 : ', res.status_code)\n",
        "\n",
        "res.raise_for_status() #res가 정상이 아닌 경우 오류\n",
        "print('crawling start')"
      ],
      "execution_count": 33,
      "outputs": [
        {
          "output_type": "stream",
          "name": "stdout",
          "text": [
            "결과 :  200\n",
            "crawling start\n"
          ]
        }
      ]
    },
    {
      "cell_type": "code",
      "metadata": {
        "id": "f-x2086NNJJn",
        "colab": {
          "base_uri": "https://localhost:8080/",
          "height": 144
        },
        "outputId": "555b5f1b-89c4-4b00-9205-88639e9c64e8"
      },
      "source": [
        "import requests\n",
        "res = requests.get('http://naver.com')\n",
        "res.raise_for_status()\n",
        "\n",
        "res.text"
      ],
      "execution_count": 34,
      "outputs": [
        {
          "output_type": "execute_result",
          "data": {
            "text/plain": [
              "'   <!doctype html> <html lang=\"ko\" class=\"fzoom\"> <head> <meta charset=\"utf-8\"> <meta http-equiv=\"X-UA-Compatible\" content=\"IE=edge\"> <meta name=\"viewport\" content=\"width=1190\"> <title>NAVER</title> <meta name=\"apple-mobile-web-app-title\" content=\"NAVER\"/> <meta name=\"robots\" content=\"index,nofollow\"/> <meta name=\"description\" content=\"네이버 메인에서 다양한 정보와 유용한 컨텐츠를 만나 보세요\"/> <meta property=\"og:title\" content=\"네이버\"> <meta property=\"og:url\" content=\"https://www.naver.com/\"> <meta property=\"og:image\" content=\"https://s.pstatic.net/static/www/mobile/edit/2016/0705/mobile_212852414260.png\"> <meta property=\"og:description\" content=\"네이버 메인에서 다양한 정보와 유용한 컨텐츠를 만나 보세요\"/> <meta name=\"twitter:card\" content=\"summary\"> <meta name=\"twitter:title\" content=\"\"> <meta name=\"twitter:url\" content=\"https://www.naver.com/\"> <meta name=\"twitter:image\" content=\"https://s.pstatic.net/static/www/mobile/edit/2016/0705/mobile_212852414260.png\"> <meta name=\"twitter:description\" content=\"네이버 메인에서 다양한 정보와 유용한 컨텐츠를 만나 보세요\"/> <link rel=\"shortcut icon\" type=\"image/x-icon\" href=\"/favicon.ico?1\"> <link rel=\"apple-touch-icon-precomposed\" href=\"https://s.pstatic.net/static/www/nFavicon96.png\"/> <link rel=\"apple-touch-icon\" sizes=\"114x114\" href=\"https://s.pstatic.net/static/www/u/2014/0328/mma_204243574.png\"/> <link rel=\"apple-touch-icon\" href=\"https://s.pstatic.net/static/www/u/2014/0328/mma_20432863.png\"/> <link rel=\"stylesheet\" href=\"https://ssl.pstatic.net/sstatic/search/pc/css/sp_autocomplete_220526.css\"> <script>window.gladsdk=window.gladsdk||{},window.gladsdk.cmd=window.gladsdk.cmd||[],window.ndpsdk=window.ndpsdk||{},window.ndpsdk.cmd=window.ndpsdk.cmd||[],window.ndpsdk.polyfill=window.ndpsdk.polyfill||{cmd:[]};var g_ssc=\"navertop.v5\";window.nsc=g_ssc</script> <script async src=\"https://ssl.pstatic.net/tveta/libs/ndpsdk/prod/ndp-loader.js\"></script> <script async src=\"https://ssl.pstatic.net/tveta/libs/glad/prod/gfp-core.js\"></script> <script src=\"https://ssl.pstatic.net/tveta/libs/assets/js/pc/main/min/pc.veta.core.min.js\" defer=\"defer\"></script>  <script>\\n  window[\"EAGER-DATA\"] = window[\"EAGER-DATA\"] || {};\\n  \\n    window[\"EAGER-DATA\"][\"PC-FEED-WRAPPER\"] = {\"@type\":\"BLOCK\",\"blocks\":[{\"@type\":\"BLOCK\",\"blocks\":[{\"@type\":\"PC-FEED-BLOCK\",\"blocks\":[{\"@type\":\"PC-FEED-BLOCK\",\"materials\":[{\"@type\":\"MATERIAL-PC-FEED\",\"title\":\"고물가가 살려낸 ‘값비싼’ 뷔페의 역설\",\"url\":\"https://post.naver.com/viewer/postView.naver?volumeNo=36246737&memberNo=12494964&navigationType=push\",\"image\":{\"url\":\"https://s.pstatic.net/dthumb.phinf/?src=%22https%3A%2F%2Fs.pstatic.net%2Fstatic%2Fwww%2Fmobile%2Fedit%2F20230714_1095%2Fupload_1689323811080gxEQ8.jpg%22&type=f504_292&service=navermain\"},\"source\":{\"name\":\"더스쿠프\",\"service\":\"POST\",\"image\":{\"url\":\"https://s.pstatic.net/post.phinf/MjAyMjEyMTlfMTcg/MDAxNjcxNDA3NTI1Mzgz.z8IF0jqSPk7YaDj9fQYPRG9nK3ncSsGUruaJYsgB2RQg.ngmda5QxKIeFr0EYXJabRN9ThvOut7yIcp8lStbX0Pwg.JPEG/post_254069777706265590.jpg?type=f120_120\"}},\"_id\":\"64ad6ec119ff407b89776216\"},{\"@type\":\"MATERIAL-PC-FEED\",\"title\":\"경제학자들이 최저임금을 싫어한다는 오해\",\"url\":\"https://contents.premium.naver.com/snahm/knowledge/contents/230619235751604cr\",\"image\":{\"url\":\"https://s.pstatic.net/dthumb.phinf/?src=%22https%3A%2F%2Fs.pstatic.net%2Fstatic%2Fwww%2Fmobile%2Fedit%2F20230714_1095%2Fupload_1689323846431UYANu.jpg%22&type=f504_292&service=navermain\"},\"source\":{\"name\":\"이슈 속의 경제학\",\"service\":\"PREMIUM\",\"image\":{\"url\":\"https://s.pstatic.net/scs.phinf/MjAyMjA1MDhfMTE4/MDAxNjUxOTgyMjY3NjE1.Jf6UG1zg8zDBo04HDl38zxwo6enLh28DuxX9lKFmjTcg.hLufBmvIYktTjA-SyEUdx-IWQLqR7CYm3GllBaZmfrcg.PNG/image%7Cpremium%7Cchannel%7Csnahm%7C2022%7C05%7C08%7C1651982267596.png\"}},\"_id\":\"64ad6ec119ff407b89776217\"},{\"@type\":\"MATERIAL-PC-FEED\",\"title\":\"‘평등하지 않은 세상을 꿈꾸는 당신’ 광고가 망친 브랜딩\",\"url\":\"https://post.naver.com/viewer/postView.naver?volumeNo=36240492&memberNo=35002835&navigationType=push\",\"image\":{\"url\":\"https://s.pstatic.net/dthumb.phinf/?src=%22https%3A%2F%2Fs.pstatic.net%2Fstatic%2Fwww%2Fmobile%2Fedit%2F20230714_1095%2Fupload_1689323826977OVAqN.jpg%22&type=f504_292&service=navermain\"},\"source\":{\"name\":\"이코노미조선\",\"service\":\"POST\",\"image\":{\"url\":\"https://s.pstatic.net/post.phinf/MjAxODA4MjJfMTk5/MDAxNTM0OTA0NTI2NTMz.OxXvgEH0CpN-3-6724Oi7c6R9_A9suH8FTdg0EXkZOwg.KoFDjG11KIBu3q5Udpcx_rVz2bS2bL-zSQmR7jKofegg.JPEG/post_1134984983157675801.jpg?type=f120_120\"}},\"_id\":\"64ad6ec119ff407b89776218\"}],\"excludeInPaging\":false,\"positionForPaging\":0,\"realtime\":false,\"ad\":false,\"@type\":\"PC-FEED-BLOCK\",\"@template\":\"NONE\"}],\"excludeInPaging\":false,\"positionForPaging\":0,\"realtime\":false,\"ad\":false,\"@type\":\"PC-FEED-BLOCK\",\"@code\":\"PC-FEED-LECTURE-TODAY-LECTURE\",\"@template\":\"HIGHLIGHTED-COLUMNS\"},{\"@type\":\"PC-FEED-BLOCK\",\"materials\":[{\"@type\":\"MATERIAL-PC-FEED\",\"title\":\"45. 긴급 속보! 게으른 자의 업그레이드된 설거지 법. OO 하나면 기름기 설거지, 오븐 청소, 전자레인지 청소는 껌이지.\",\"url\":\"https://contents.premium.naver.com/chemistryeverywhere/knowledge/contents/230716200859992pg\",\"image\":{\"url\":\"https://s.pstatic.net/dthumb.phinf/?src=%22https%3A%2F%2Fs.pstatic.net%2Fscs.phinf%2FMjAyMzA3MTZfMjQ1%2FMDAxNjg5NTA1MzYxMDIw.9qagVSdh3SI_tSK0IlDFEg0xfSDC99LGkdUwQyJ_1_Qg.6gDcEL7xrBlYhc0TFXKWepHkDQMKYmQ74NBgixqNO90g.PNG%2Fimage.png%22&type=nf308_200&service=navermain\"},\"desc\":\"이광렬의 \\\\\"모두를 위한 화학\\\\\"\",\"source\":{\"name\":\"이광렬의 \\\\\"모두를 위한 화학\\\\\"\",\"image\":{\"url\":\"https://s.pstatic.net/dthumb.phinf/?src=%22https%3A%2F%2Fs.pstatic.net%2Fscs.phinf%2FMjAyMjA1MTVfMjI0%2FMDAxNjUyNjAzODU0Mzc5.S6Sj6BDIUnX6IQVaoa2Nx5soGWQaq-_u_nNGoJTpVhYg.CBaU0ouOWKEXgv130m07jZCVCQpimq6L32uwNYHcDCgg.JPEG%2Fimage%257Cpremium%257Cchannel%257Cchemistryeverywhere%257C2022%257C05%257C15%257C1652603854351.jpg%22&type=nf96_96&service=navermain\"}},\"labels\":[{\"type\":\"free\",\"text\":null}],\"_id\":\"6441ca92c499cc07f334c439\"},{\"@type\":\"MATERIAL-PC-FEED\",\"title\":\"뱅뱅 돌아가는 여름 방학 생활 계획표 도안 10종\",\"url\":\"https://contents.premium.naver.com/echobook/making/contents/230716211946329ki\",\"image\":{\"url\":\"https://s.pstatic.net/dthumb.phinf/?src=%22https%3A%2F%2Fs.pstatic.net%2Fscs.phinf%2FMjAyMzA3MTZfMjkg%2FMDAxNjg5NTA4MDE5MDYy.JD0enOguzHfiZ5X20xBB1QaAkNGnxba0DAWOsDP2eTog.Di85t2b5o-CZdcFCp01SHV5qTdkaWik1Mxk2oL0NJvUg.JPEG%2F%EC%97%AC%EB%A6%84%EB%B0%A9%ED%95%99%EA%B3%84%ED%9A%8D%ED%91%9C%2810%EC%A2%85%29_%EA%B4%91%EA%B3%A0773-2.jpg%22&type=nf308_200&service=navermain\"},\"desc\":\"에코북 EchoBook\",\"source\":{\"name\":\"에코북 EchoBook\",\"image\":{\"url\":\"https://s.pstatic.net/dthumb.phinf/?src=%22https%3A%2F%2Fs.pstatic.net%2Fscs.phinf%2FMjAyMjExMjNfMTUw%2FMDAxNjY5MjE0ODQ0MDQ4.yxXB5wnAvCnZRnvGHdl4S1iVZ4LAHfhPhQEqmtheQ5Ag.lWMCy43-7Lq0FbEFtVW_Hi1CCO9l19Uew2NXGf1uDoMg.JPEG%2Fimage%257Cpremium%257Cchannel%257Cechobook%257C2022%257C11%257C23%257C1669214844025.jpg%22&type=nf96_96&service=navermain\"}},\"labels\":[{\"type\":\"paid\",\"text\":null}],\"_id\":\"6441ca92c499cc07f334c43a\"},{\"@type\":\"MATERIAL-PC-FEED\",\"title\":\"\\'배고픔\\' 느끼면 노화 느려진다\",\"url\":\"https://m.post.naver.com/viewer/postView.naver?volumeNo=36256028&memberNo=16485321&vType=VERTICAL\",\"image\":{\"url\":\"https://s.pstatic.net/dthumb.phinf/?src=%22https%3A%2F%2Fs.pstatic.net%2Fpost.phinf%2FMjAyMzA3MTZfMTAy%2FMDAxNjg5NTAwMDcxOTIx.CnNgELvwcfincGYcJmOEIuGVqsSlebYNdKtUCuQ4us8g.bsr-QPXFZcsDo72qVGG2iub2lTR7-b322m6n5Woi24cg.PNG%2FISs6yW9RAr5ojOi1Mj3oYGnbGVto.jpg%22&type=nf308_200&service=navermain\"},\"desc\":\"데일리포스트\",\"source\":{\"name\":\"데일리포스트\",\"image\":{\"url\":\"https://s.pstatic.net/dthumb.phinf/?src=%22https%3A%2F%2Fs.pstatic.net%2Fpost.phinf%2FMjAxOTEyMjJfMTU1%2FMDAxNTc2OTkyMDEyNzQ0.whF7vf7zQfSnYjQMDyU4Iu27MoHnhss2HXlNjUMncDUg.fEO8r6YhQFTV8S3WHyJTtkl1MmvuDvIAgBwGqoTXXnUg.JPEG%2Fpost_2510860009776168724.jpg%3Ftype%3Df200_200%22&type=nf96_96&service=navermain\"}},\"_id\":\"6441ca92c499cc07f334c43b\"},{\"@type\":\"MATERIAL-PC-FEED\",\"title\":\"사회 지능이 낮은 사람들의 특징\",\"url\":\"https://contents.premium.naver.com/theanswer/seouletter/contents/230715203510446vy\",\"image\":{\"url\":\"https://s.pstatic.net/dthumb.phinf/?src=%22https%3A%2F%2Fs.pstatic.net%2Fscs.phinf%2FMjAyMzA3MTVfMjkz%2FMDAxNjg5NDIwODU1NzMw.h0Gz-FjS0ia-_MIGUlg9M96xba_ytXYWHOir0dlM1KIg.4oDKQbxnEp9kxatvo9rLj9W0wM4gsfescZpZuh_6FHUg.JPEG%2F001.jpg%22&type=nf308_200&service=navermain\"},\"desc\":\"장서우의 조금특별한사이\",\"source\":{\"name\":\"장서우의 조금특별한사이\",\"image\":{\"url\":\"https://s.pstatic.net/dthumb.phinf/?src=%22https%3A%2F%2Fs.pstatic.net%2Fscs.phinf%2FMjAyMjA0MDhfMTYx%2FMDAxNjQ5MzgyOTkzMTE3.C_lBnL83eZGojkRnyn6lAIPEI6jfnaVj2Ez1i6DDWckg.7uxLYfYx7WqyyzdPR51fgwOGnpJqTj-G-jEmrPpplpcg.JPEG%2Fimage%257Cpremium%257Cchannel%257Ctheanswer%257C2022%257C04%257C08%257C1649382993071.jpg%22&type=nf96_96&service=navermain\"}},\"labels\":[{\"type\":\"paid\",\"text\":null}],\"_id\":\"6441ca92c499cc07f334c43c\"},{\"@type\":\"MATERIAL-PC-FEED\",\"title\":\"사람의 눈은 몇 화소일까?\",\"url\":\"https://m.tv.naver.com/v/38067009\",\"image\":{\"url\":\"https://s.pstatic.net/dthumb.phinf/?src=%22https%3A%2F%2Fs.pstatic.net%2Ftvcast.phinf%2F20230715_86%2FDDvws_1689385874344ww85Q_PNG%2F1689385833794.png%22&type=nf308_200&service=navermain\"},\"desc\":\"사물궁이 잡학지식\",\"source\":{\"name\":\"사물궁이 잡학지식\",\"image\":{\"url\":\"https://s.pstatic.net/dthumb.phinf/?src=%22https%3A%2F%2Fs.pstatic.net%2Ftvcast.phinf%2F20230409_12%2FWGHBa_16810341064810jsHH_PNG%2F1681034106480.png%22&type=nf96_96&service=navermain\"}},\"video\":{\"playTime\":\"00:59\"},\"_id\":\"6441ca92c499cc07f334c43d\"},{\"@type\":\"MATERIAL-PC-FEED\",\"title\":\"포르쉐가 한정판 페인트를 출시한 이유...놓치면 아쉬운 브랜드 이슈 3가지ㅣ브랜더쿠\",\"url\":\"https://blog.naver.com/businessinsight/223156205185\",\"image\":{\"url\":\"https://s.pstatic.net/dthumb.phinf/?src=%22http%3A%2F%2Fblogfiles.naver.net%2FMjAyMzA3MTRfODMg%2FMDAxNjg5MzIxNTM5Njcw.jv0r2_6kPhOOeVLb3Em5joIBpCtMQi32x4ZJAAruBG8g._nhJLZbAwznf6QZ584Bzvzb1JFDngBsMKHKUsxU6YKUg.JPEG.businessinsight%2F%ED%99%94%EB%A9%B4_%EC%BA%A1%EC%B2%98_2023-07-12_180150.jpg%22&type=nf308_200&service=navermain\"},\"desc\":\"인터비즈\",\"source\":{\"name\":\"인터비즈\",\"image\":{\"url\":\"https://s.pstatic.net/dthumb.phinf/?src=%22http%3A%2F%2Fblogpfthumb.phinf.naver.net%2F20220116_144%2Fbusinessinsight_1642289673281I8Mjr_PNG%2Fprofile.png%22&type=nf96_96&service=navermain\"}},\"_id\":\"6441ca92c499cc07f334c43e\"},{\"@type\":\"MATERIAL-PC-FEED\",\"title\":\"비운의 왕비가 숨었던 \\'비밀의 방\\' 복원\",\"url\":\"https://m.post.naver.com/viewer/postView.naver?volumeNo=36252031&memberNo=156429&vType=VERTICAL\",\"image\":{\"url\":\"https://s.pstatic.net/dthumb.phinf/?src=%22https%3A%2F%2Fs.pstatic.net%2Fpost.phinf%2FMjAyMzA3MTVfMTMz%2FMDAxNjg5Mzg1NTYyODM4.MEye1SRj5ogb1RR-sweke8G8vPfEe7uCy15LxIGu9qsg.qd7Bwv6g76FhgM2XfXuRQdyqN46KZ2MyM5x4qzlDAqsg.JPEG%2FIB8wRdZxnkmKivDNyiP92w34GXeE.jpg%22&type=nf308_200&service=navermain\"},\"desc\":\"스푸트니크\",\"source\":{\"name\":\"스푸트니크\",\"image\":{\"url\":\"https://s.pstatic.net/dthumb.phinf/?src=%22https%3A%2F%2Fs.pstatic.net%2Fpost.phinf%2FMjAyMDEyMjZfNjgg%2FMDAxNjA4OTc0NjEwODM3.Dy1ZI-soz94naj3rhg516fY7LuAy-u_1r994gytyzugg.MCxC_GMwasi97EAsmMX8wUccAgpB1cyUj6kPBNpRj8cg.JPEG%2Fpost_665389228577463991.jpg%3Ftype%3Df200_200%22&type=nf96_96&service=navermain\"}},\"_id\":\"6441ca92c499cc07f334c43f\"},{\"@type\":\"MATERIAL-PC-FEED\",\"title\":\"방학 생활 계획표_슬라이드바를 움직이며 계획을 실천해보세요!\",\"url\":\"https://contents.premium.naver.com/pickmissem/pickmissam/contents/230716215030003om\",\"image\":{\"url\":\"https://s.pstatic.net/dthumb.phinf/?src=%22https%3A%2F%2Fs.pstatic.net%2Fscs.phinf%2FMjAyMzA3MTZfNjgg%2FMDAxNjg5NTExNTQ3Njc5.TckuLDKy-UIcEUmu2sKS8T2_wlsZlx_rpOgl0AYOu7Ug.u6hzRnFgt1S0guhOZrj4KMRuuda4BHkc-V3S6LQI3ZUg.JPEG%2FSE-dea964c3-4961-4033-84cf-f71ebac94b6e.jpg%22&type=nf308_200&service=navermain\"},\"desc\":\"픽미쌤 Premium Art\",\"source\":{\"name\":\"픽미쌤 Premium Art\",\"image\":{\"url\":\"https://s.pstatic.net/dthumb.phinf/?src=%22https%3A%2F%2Fs.pstatic.net%2Fscs.phinf%2FMjAyMzAzMThfOTcg%2FMDAxNjc5MTM0OTE3NjY5.HnBRuSynYxpTwEshSgIx5LqUJGeUAKadrVhJVyw3oP8g.I7pOSLx_Yvq3TmEkZI1pUj7hU2hk17pzMcxByMCRni0g.PNG%2Fimage%257Cpremium%257Cchannel%257Cpickmissem%257C2023%257C03%257C18%257C1679134917598.png%22&type=nf96_96&service=navermain\"}},\"labels\":[{\"type\":\"free\",\"text\":null}],\"_id\":\"6441ca92c499cc07f334c440\"}],\"excludeInPaging\":false,\"positionForPaging\":0,\"realtime\":false,\"ad\":false,\"@type\":\"PC-FEED-BLOCK\",\"@code\":\"PC-FEED-LECTURE-AIRS-0\",\"@template\":\"TWO-COLUMNS\"},{\"@type\":\"PC-FEED-BLOCK\",\"blocks\":[{\"@type\":\"PC-FEED-BLOCK\",\"excludeInPaging\":false,\"positionForPaging\":0,\"realtime\":false,\"ad\":false,\"@type\":\"PC-FEED-BLOCK\",\"@template\":\"NONE\"}],\"excludeInPaging\":false,\"positionForPaging\":0,\"realtime\":false,\"ad\":false,\"@type\":\"PC-FEED-BLOCK\",\"@code\":\"PC-FEED-LECTURE-INTEREST-CONTENTS\",\"@template\":\"HIGHLIGHTED-COLUMNS\"},{\"@type\":\"PC-FEED-BLOCK\",\"materials\":[{\"@type\":\"MATERIAL-PC-FEED\",\"title\":\"[예고] 여인천하! 후궁 경빈은 진짜 중종을 죽이려 했나\",\"url\":\"https://m.tv.naver.com/v/38028979\",\"image\":{\"url\":\"https://s.pstatic.net/dthumb.phinf/?src=%22https%3A%2F%2Fs.pstatic.net%2Ftvcast.phinf%2F20230714_255%2FYg3BV_1689296488386Oi6Ou_JPEG%2F290b915b-d899-4ee1-be2a-8857f97e93bd_B.jpg%22&type=nf308_200&service=navermain\"},\"desc\":\"벌거벗은 한국사\",\"source\":{\"name\":\"벌거벗은 한국사\",\"image\":{\"url\":\"https://s.pstatic.net/dthumb.phinf/?src=%22https%3A%2F%2Fs.pstatic.net%2Ftvcast.phinf%2F20220418_48%2FkohCq_16502603564782qxms_JPEG%2F5b8057ba-2954-4adb-a7b0-586b7a49d7de.jpg%22&type=nf96_96&service=navermain\"}},\"video\":{\"playTime\":\"00:43\"},\"_id\":\"6441ca92c499cc07f334c441\"},{\"@type\":\"MATERIAL-PC-FEED\",\"title\":\"(그릿) 아이들에게 끈기를 어떻게 알려줄 수 있을까요? : 끈기와 관련된 도서 7권 소개합니다\",\"url\":\"https://contents.premium.naver.com/eduity/eduiti/contents/230716204921162kl\",\"image\":{\"url\":\"https://s.pstatic.net/dthumb.phinf/?src=%22https%3A%2F%2Fs.pstatic.net%2Fscs.phinf%2FMjAyMzA3MTZfMTY1%2FMDAxNjg5NTA3OTA2NzI5.bgBu4ZMfCCzEIRDl4lAWYa35EcYjhU0xxdRmXS7jEoIg.yiGxV_C8gwIdJYiRxfC3mMoutFhxYovGBptKkxD5o0gg.JPEG%2F1438.jpeg%22&type=nf308_200&service=navermain\"},\"desc\":\"다시, 학교공부\",\"source\":{\"name\":\"다시, 학교공부\",\"image\":{\"url\":\"https://s.pstatic.net/dthumb.phinf/?src=%22https%3A%2F%2Fs.pstatic.net%2Fscs.phinf%2FMjAyMzA2MDRfMTEz%2FMDAxNjg1ODc1ODE5Njcy.7wff_qDW1f-eRQK_gq_JCXCtc9ubaYh_7ehsnmkx7Okg.qUp9NzgKzcS4f9OBNl0zaUlV3KX38yScSrH1Ohto68cg.JPEG%2Fimage%257Cpremium%257Cchannel%257Ceduity%257C2023%257C06%257C04%257C1685875819633.jpg%22&type=nf96_96&service=navermain\"}},\"labels\":[{\"type\":\"free\",\"text\":null}],\"_id\":\"6441ca92c499cc07f334c442\"},{\"@type\":\"MATERIAL-PC-FEED\",\"title\":\"아파치 가디언부터 소형무장헬기 LAH까지, 우리나라가 운용하는 공격헬기!\",\"url\":\"https://blog.naver.com/dapapr/223154267961\",\"image\":{\"url\":\"https://s.pstatic.net/dthumb.phinf/?src=%22http%3A%2F%2Fblogfiles.naver.net%2FMjAyMzA3MTJfMTE2%2FMDAxNjg5MTQyOTQ4Njkx.8Sfb7rqEB88Jc2OnT8vbkeo7zGCWPAeN3VGa7N5KOagg.Cyk5-1HAdVrs-LHPLVs2cBegt8pJs_596UuWyk2x8cwg.JPEG.dapapr%2F%EB%B0%A9%EC%9C%84%EC%82%AC%EC%97%85%EC%B2%AD_%EB%B8%94%EB%A1%9C%EA%B7%B8_%EC%8D%B8%EB%84%A4%EC%9D%BC_%ED%85%9C%ED%94%8C%EB%A6%BF_%2814%29.jpg%22&type=nf308_200&service=navermain\"},\"desc\":\"방위사업청\",\"source\":{\"name\":\"방위사업청\",\"image\":{\"url\":\"https://s.pstatic.net/dthumb.phinf/?src=%22http%3A%2F%2Fblogpfthumb.phinf.naver.net%2FMjAxODEyMDdfMTY1%2FMDAxNTQ0MTc0OTY5Nzgy.TvqW-rTtPaosOoubtdNdWAtohGHYXLj9oquW_BrS8PAg.JV0pCu0ok_HKPXExTz5JO9lgzskIJaGxmuOmkPfk9v4g.PNG.dapapr%2FFB_profile_1.png%22&type=nf96_96&service=navermain\"}},\"_id\":\"6441ca92c499cc07f334c443\"},{\"@type\":\"MATERIAL-PC-FEED\",\"title\":\"하지정맥류 = 혈관돌출? 대표 증상은 따로 있어요\",\"url\":\"https://m.post.naver.com/viewer/postView.naver?volumeNo=36240600&memberNo=19859711&vType=VERTICAL\",\"image\":{\"url\":\"https://s.pstatic.net/dthumb.phinf/?src=%22https%3A%2F%2Fs.pstatic.net%2Fpost.phinf%2FMjAyMzA3MTNfOTEg%2FMDAxNjg5MjE0NDIwOTY2.JgzhITKRkJa9maPZqaaU9R3jVitzWBEYJHjb6aXjY_cg.ViXnrCUy--d4bt4A0fUfmhS_Z3bsjm5D0a0MuLYa-dAg.JPEG%2FI-zuvMTx7QgHvZxGKj6lYFGjQfgs.jpg%22&type=nf308_200&service=navermain\"},\"desc\":\"강동경희대학교병원\",\"source\":{\"name\":\"강동경희대학교병원\",\"image\":{\"url\":\"https://s.pstatic.net/dthumb.phinf/?src=%22https%3A%2F%2Fs.pstatic.net%2Fpost.phinf%2FMjAxODA0MTFfMjE5%2FMDAxNTIzNDE1MzUzODE4.CARMqdNUWgFLtzbSRzDUWXytFufgVoyL_eDVM7OS6Ywg.dXv-S36ZAdEgcE-LRXyc1WQ7g8Ka2V2NiwGmErfhgScg.JPEG%2Fpost_654046830679772331.jpg%3Ftype%3Df200_200%22&type=nf96_96&service=navermain\"}},\"_id\":\"6441ca92c499cc07f334c444\"},{\"@type\":\"MATERIAL-PC-FEED\",\"title\":\"[예고] 유전병 원인은 근친혼?! 합스부르크 가문의 저주\",\"url\":\"https://m.tv.naver.com/v/38010322\",\"image\":{\"url\":\"https://s.pstatic.net/dthumb.phinf/?src=%22https%3A%2F%2Fs.pstatic.net%2Ftvcast.phinf%2F20230713_208%2FvFwku_1689246762530RyJdq_JPEG%2F1aa379e3-c842-49b0-9806-8a342bf13340_B.jpg%22&type=nf308_200&service=navermain\"},\"desc\":\"벌거벗은 세계사\",\"source\":{\"name\":\"벌거벗은 세계사\",\"image\":{\"url\":\"https://s.pstatic.net/dthumb.phinf/?src=%22https%3A%2F%2Fs.pstatic.net%2Ftvcast.phinf%2F20210121_56%2FpVkIK_1611216554307RGDDb_JPEG%2Ff056457d-879f-4d4d-bfc6-ae05931a978e.jpg%22&type=nf96_96&service=navermain\"}},\"video\":{\"playTime\":\"00:32\"},\"_id\":\"6441ca92c499cc07f334c445\"},{\"@type\":\"MATERIAL-PC-FEED\",\"title\":\"금융 앱은 여러 개 사용하며 SNS로 금융 지식 쌓는 MZ세대\",\"url\":\"https://blog.naver.com/tech-plus/223145638520\",\"image\":{\"url\":\"https://s.pstatic.net/dthumb.phinf/?src=%22http%3A%2F%2Fblogfiles.naver.net%2FMjAyMzA3MDNfMTYy%2FMDAxNjg4MzcwMDQ1OTc5.1zyJ8NnBWEOGgqT9YEdtEtRllz7pNydXjPZhlEcOIf4g.SCjM4UXEBWYfGxGa6mqtGvUR0CAypR77t5DET_aMVdAg.JPEG.tech-plus%2FScreenshot_2023-07-03_at_16.40.37.JPG%22&type=nf308_200&service=navermain\"},\"desc\":\"테크플러스\",\"source\":{\"name\":\"테크플러스\",\"image\":{\"url\":\"https://s.pstatic.net/dthumb.phinf/?src=%22http%3A%2F%2Fblogpfthumb.phinf.naver.net%2FMjAxOTA4MjdfMyAg%2FMDAxNTY2ODkzMDA3ODc5.y7C4Ybnsip2DjrvLkFptceck1G9vYaEYk91p-8NyT6kg.BIMjhjzJ-8dcqFSQV-Z5Chj7e_EkPWJygRXoXSpN114g.JPEG.tech-plus%2F01logoUntitled-1.JPG%22&type=nf96_96&service=navermain\"}},\"_id\":\"6441ca92c499cc07f334c446\"},{\"@type\":\"MATERIAL-PC-FEED\",\"title\":\"창조적인 사람들이 느끼는 특별한 외로움: 세상에는 외톨이도 필요해\",\"url\":\"https://contents.premium.naver.com/yeoul/salondemuse/contents/230714223721121br\",\"image\":{\"url\":\"https://s.pstatic.net/dthumb.phinf/?src=%22https%3A%2F%2Fs.pstatic.net%2Fscs.phinf%2FMjAyMzA3MTRfMjQw%2FMDAxNjg5MzQxOTg3Mjk0.Ztz2Ns15ZgDqXQW0-ubwoPVUrZm1AekaR59c59SJz-cg.KzO2OynpvKGnYKmlicBzn1M3rlF90WhUniMA8t88_AEg.PNG%2Fimage.png%22&type=nf308_200&service=navermain\"},\"desc\":\"정여울의 살롱 드 뮤즈\",\"source\":{\"name\":\"정여울의 살롱 드 뮤즈\",\"image\":{\"url\":\"https://s.pstatic.net/dthumb.phinf/?src=%22https%3A%2F%2Fs.pstatic.net%2Fscs.phinf%2FMjAyMTExMjNfMTY1%2FMDAxNjM3NjU4OTIyMzI2.gIIpu26fAgvNMJSUoBnbF7Zrd5ZCgSW7GhP7p6M9wVIg.6jfQbtP2NzQ5K1Mx25VSecQnToKr07JFyU6N9mg0mA0g.PNG%2Fimage%257Cpremium%257Cchannel%257Cyeoul%257C2021%257C11%257C23%257C1637658922233.png%22&type=nf96_96&service=navermain\"}},\"labels\":[{\"type\":\"paid\",\"text\":null}],\"_id\":\"6441ca92c499cc07f334c447\"},{\"@type\":\"MATERIAL-PC-FEED\",\"title\":\"스마트폰 중독에서 벗어나는 방법\",\"url\":\"https://m.post.naver.com/viewer/postView.naver?volumeNo=36241845&memberNo=41817687&vType=VERTICAL\",\"image\":{\"url\":\"https://s.pstatic.net/dthumb.phinf/?src=%22https%3A%2F%2Fs.pstatic.net%2Fpost.phinf%2FMjAyMzA3MTNfMTUx%2FMDAxNjg5MjI1MjkwNTkw.EN3pwTQsADeSc_b-KNcya1RnyAZa0zJ8AshIOb4O3QIg.HuaKeKNdx9Pk_IAGz-Vwu8thfJSlOFmlXo8dQG0tHSYg.PNG%2FIOiT02ZQ6OvYcXJ6jWoIJ7CQUQ3c.jpg%22&type=nf308_200&service=navermain\"},\"desc\":\"정신건강연구회\",\"source\":{\"name\":\"정신건강연구회\",\"image\":{\"url\":\"https://s.pstatic.net/dthumb.phinf/?src=%22https%3A%2F%2Fs.pstatic.net%2Fpost.phinf%2FMjAyMTA2MjJfNzUg%2FMDAxNjI0MzM5ODU0NTE2.3VRADN4Td-YlKB4sUwxfIaTpuAdkkfcGp5kvM7MBqQAg.Ewy6sQ3cFOuanB8HS5sxDspqWi9sLXd0lCoNA3-gZ6Eg.PNG%2Fpost_8039537269308849543.png%3Ftype%3Df200_200%22&type=nf96_96&service=navermain\"}},\"_id\":\"6441ca92c499cc07f334c448\"}],\"excludeInPaging\":false,\"positionForPaging\":0,\"realtime\":false,\"ad\":false,\"@type\":\"PC-FEED-BLOCK\",\"@code\":\"PC-FEED-LECTURE-AIRS-1\",\"@template\":\"TWO-COLUMNS\"},{\"@type\":\"PC-FEED-BLOCK\",\"materials\":[{\"@type\":\"MATERIAL-PC-FEED\",\"title\":\"41. 게으른 자 Q&A: 빨래를 할 때 구연산, 베이킹소다, 과탄산소다가 하는 역할을 알고 사용하자\",\"url\":\"https://contents.premium.naver.com/chemistryeverywhere/knowledge/contents/230714220534787pu\",\"image\":{\"url\":\"https://s.pstatic.net/dthumb.phinf/?src=%22https%3A%2F%2Fs.pstatic.net%2Fscs.phinf%2FMjAyMzA3MTRfODUg%2FMDAxNjg5MjkwNzE3NjQy.QvcKtEn7f91dweRBAhxLFtswcIvx8MzDcOlaQU25OPUg.hX4C5rJscpfHyEqKRms1xEnbpZnnokJijq9VTOfEp4Ug.PNG%2Fimage.png%22&type=f222_222&service=navermain\"},\"desc\":\"이광렬의 \\\\\"모두를 위한 화학\\\\\"\",\"source\":{\"name\":\"이광렬의 \\\\\"모두를 위한 화학\\\\\"\",\"image\":{\"url\":\"https://s.pstatic.net/scs.phinf/MjAyMjA1MTVfMjI0/MDAxNjUyNjAzODU0Mzc5.S6Sj6BDIUnX6IQVaoa2Nx5soGWQaq-_u_nNGoJTpVhYg.CBaU0ouOWKEXgv130m07jZCVCQpimq6L32uwNYHcDCgg.JPEG/image%7Cpremium%7Cchannel%7Cchemistryeverywhere%7C2022%7C05%7C15%7C1652603854351.jpg\"}},\"labels\":[{\"type\":\"free\",\"text\":null}],\"_id\":\"64911ef160f3c014e7a8a601\"},{\"@type\":\"MATERIAL-PC-FEED\",\"title\":\"하지정맥류 = 혈관돌출? 대표 증상은 따로 있어요\",\"url\":\"https://m.post.naver.com/viewer/postView.naver?volumeNo=36240600&memberNo=19859711&vType=VERTICAL\",\"image\":{\"url\":\"https://s.pstatic.net/dthumb.phinf/?src=%22https%3A%2F%2Fs.pstatic.net%2Fpost.phinf%2FMjAyMzA3MTNfOTEg%2FMDAxNjg5MjE0NDIwOTY2.JgzhITKRkJa9maPZqaaU9R3jVitzWBEYJHjb6aXjY_cg.ViXnrCUy--d4bt4A0fUfmhS_Z3bsjm5D0a0MuLYa-dAg.JPEG%2FI-zuvMTx7QgHvZxGKj6lYFGjQfgs.jpg%22&type=f222_222&service=navermain\"},\"desc\":\"강동경희대학교병원\",\"source\":{\"name\":\"강동경희대학교병원\",\"image\":{\"url\":\"https://s.pstatic.net/post.phinf/MjAxODA0MTFfMjE5/MDAxNTIzNDE1MzUzODE4.CARMqdNUWgFLtzbSRzDUWXytFufgVoyL_eDVM7OS6Ywg.dXv-S36ZAdEgcE-LRXyc1WQ7g8Ka2V2NiwGmErfhgScg.JPEG/post_654046830679772331.jpg?type=f200_200\"}},\"_id\":\"64911ef160f3c014e7a8a602\"},{\"@type\":\"MATERIAL-PC-FEED\",\"title\":\"심해 최강의 위장술사 유리오징어 포착\",\"url\":\"https://m.post.naver.com/viewer/postView.naver?volumeNo=36253174&memberNo=156429&vType=VERTICAL\",\"image\":{\"url\":\"https://s.pstatic.net/dthumb.phinf/?src=%22https%3A%2F%2Fs.pstatic.net%2Fpost.phinf%2FMjAyMzA3MTVfMjcx%2FMDAxNjg5NDE1NTk5ODE0.HJELuXk6fRlrM-STX1F6YgLdiCI-I5cQxJQc7Xwg1R0g.rh77icld1MluYkE1Dw9-Bjapu0TKqYQXir3qYJt3i-8g.PNG%2FI_asuTd882ybNiKsF38_AODB__6A.jpg%22&type=f222_222&service=navermain\"},\"desc\":\"스푸트니크\",\"source\":{\"name\":\"스푸트니크\",\"image\":{\"url\":\"https://s.pstatic.net/post.phinf/MjAyMDEyMjZfNjgg/MDAxNjA4OTc0NjEwODM3.Dy1ZI-soz94naj3rhg516fY7LuAy-u_1r994gytyzugg.MCxC_GMwasi97EAsmMX8wUccAgpB1cyUj6kPBNpRj8cg.JPEG/post_665389228577463991.jpg?type=f200_200\"}},\"_id\":\"64911ef160f3c014e7a8a603\"},{\"@type\":\"MATERIAL-PC-FEED\",\"title\":\"포르쉐가 한정판 페인트를 출시한 이유...놓치면 아쉬운 브랜드 이슈 3가지ㅣ브랜더쿠\",\"url\":\"https://blog.naver.com/businessinsight/223156205185\",\"image\":{\"url\":\"https://s.pstatic.net/dthumb.phinf/?src=%22http%3A%2F%2Fblogfiles.naver.net%2FMjAyMzA3MTRfODMg%2FMDAxNjg5MzIxNTM5Njcw.jv0r2_6kPhOOeVLb3Em5joIBpCtMQi32x4ZJAAruBG8g._nhJLZbAwznf6QZ584Bzvzb1JFDngBsMKHKUsxU6YKUg.JPEG.businessinsight%2F%ED%99%94%EB%A9%B4_%EC%BA%A1%EC%B2%98_2023-07-12_180150.jpg%22&type=f222_222&service=navermain\"},\"desc\":\"인터비즈\",\"source\":{\"name\":\"인터비즈\",\"image\":{\"url\":\"http://blogpfthumb.phinf.naver.net/20220116_144/businessinsight_1642289673281I8Mjr_PNG/profile.png\"}},\"_id\":\"64911ef160f3c014e7a8a604\"},{\"@type\":\"MATERIAL-PC-FEED\",\"title\":\"사회 지능이 낮은 사람들의 특징\",\"url\":\"https://contents.premium.naver.com/theanswer/seouletter/contents/230715203510446vy\",\"image\":{\"url\":\"https://s.pstatic.net/dthumb.phinf/?src=%22https%3A%2F%2Fs.pstatic.net%2Fscs.phinf%2FMjAyMzA3MTVfMjkz%2FMDAxNjg5NDIwODU1NzMw.h0Gz-FjS0ia-_MIGUlg9M96xba_ytXYWHOir0dlM1KIg.4oDKQbxnEp9kxatvo9rLj9W0wM4gsfescZpZuh_6FHUg.JPEG%2F001.jpg%22&type=f222_222&service=navermain\"},\"desc\":\"장서우의 조금특별한사이\",\"source\":{\"name\":\"장서우의 조금특별한사이\",\"image\":{\"url\":\"https://s.pstatic.net/scs.phinf/MjAyMjA0MDhfMTYx/MDAxNjQ5MzgyOTkzMTE3.C_lBnL83eZGojkRnyn6lAIPEI6jfnaVj2Ez1i6DDWckg.7uxLYfYx7WqyyzdPR51fgwOGnpJqTj-G-jEmrPpplpcg.JPEG/image%7Cpremium%7Cchannel%7Ctheanswer%7C2022%7C04%7C08%7C1649382993071.jpg\"}},\"labels\":[{\"type\":\"paid\",\"text\":null}],\"_id\":\"64911ef160f3c014e7a8a605\"},{\"@type\":\"MATERIAL-PC-FEED\",\"title\":\"\\'배고픔\\' 느끼면 노화 느려진다\",\"url\":\"https://m.post.naver.com/viewer/postView.naver?volumeNo=36256028&memberNo=16485321&vType=VERTICAL\",\"image\":{\"url\":\"https://s.pstatic.net/dthumb.phinf/?src=%22https%3A%2F%2Fs.pstatic.net%2Fpost.phinf%2FMjAyMzA3MTZfMTAy%2FMDAxNjg5NTAwMDcxOTIx.CnNgELvwcfincGYcJmOEIuGVqsSlebYNdKtUCuQ4us8g.bsr-QPXFZcsDo72qVGG2iub2lTR7-b322m6n5Woi24cg.PNG%2FISs6yW9RAr5ojOi1Mj3oYGnbGVto.jpg%22&type=f222_222&service=navermain\"},\"desc\":\"데일리포스트\",\"source\":{\"name\":\"데일리포스트\",\"image\":{\"url\":\"https://s.pstatic.net/post.phinf/MjAxOTEyMjJfMTU1/MDAxNTc2OTkyMDEyNzQ0.whF7vf7zQfSnYjQMDyU4Iu27MoHnhss2HXlNjUMncDUg.fEO8r6YhQFTV8S3WHyJTtkl1MmvuDvIAgBwGqoTXXnUg.JPEG/post_2510860009776168724.jpg?type=f200_200\"}},\"_id\":\"64911ef160f3c014e7a8a606\"},{\"@type\":\"MATERIAL-PC-FEED\",\"title\":\"42. 게으른 자가 게을러서 잘하는 일: 곰팡이 제거\",\"url\":\"https://contents.premium.naver.com/chemistryeverywhere/knowledge/contents/230715010452525iz\",\"image\":{\"url\":\"https://s.pstatic.net/dthumb.phinf/?src=%22https%3A%2F%2Fs.pstatic.net%2Fscs.phinf%2FMjAyMzAxMTFfMTA5%2FMDAxNjczNDEwMjQxMzA5.Dup00ljygl2duhtlPnRDyIu_eIZY5W2XCgg-29N9qXog.fg0RrlUhCaSm9ibXyCLUZ_cgAFVBF_YRpKxOdLPN0Jwg.PNG%2Fimage.png%22&type=f222_222&service=navermain\"},\"desc\":\"이광렬의 \\\\\"모두를 위한 화학\\\\\"\",\"source\":{\"name\":\"이광렬의 \\\\\"모두를 위한 화학\\\\\"\",\"image\":{\"url\":\"https://s.pstatic.net/scs.phinf/MjAyMjA1MTVfMjI0/MDAxNjUyNjAzODU0Mzc5.S6Sj6BDIUnX6IQVaoa2Nx5soGWQaq-_u_nNGoJTpVhYg.CBaU0ouOWKEXgv130m07jZCVCQpimq6L32uwNYHcDCgg.JPEG/image%7Cpremium%7Cchannel%7Cchemistryeverywhere%7C2022%7C05%7C15%7C1652603854351.jpg\"}},\"labels\":[{\"type\":\"free\",\"text\":null}],\"_id\":\"64911ef160f3c014e7a8a607\"},{\"@type\":\"MATERIAL-PC-FEED\",\"title\":\"성형수술한 사람이 죽어서 화장할 때 보형물은 어떻게 될까?\",\"url\":\"https://m.tv.naver.com/v/37884678\",\"image\":{\"url\":\"https://s.pstatic.net/dthumb.phinf/?src=%22https%3A%2F%2Fs.pstatic.net%2Ftvcast.phinf%2F20230710_154%2FOHUCI_1688994042615MzVAi_PNG%2F1688993974598.png%22&type=f222_222&service=navermain\"},\"desc\":\"사물궁이 잡학지식\",\"source\":{\"name\":\"사물궁이 잡학지식\",\"image\":{\"url\":\"https://s.pstatic.net/tvcast.phinf/20230409_12/WGHBa_16810341064810jsHH_PNG/1681034106480.png\"}},\"video\":{\"playTime\":\"00:59\"},\"_id\":\"64911ef160f3c014e7a8a608\"},{\"@type\":\"MATERIAL-PC-FEED\",\"title\":\"스마트폰 중독에서 벗어나는 방법\",\"url\":\"https://m.post.naver.com/viewer/postView.naver?volumeNo=36241845&memberNo=41817687&vType=VERTICAL\",\"image\":{\"url\":\"https://s.pstatic.net/dthumb.phinf/?src=%22https%3A%2F%2Fs.pstatic.net%2Fpost.phinf%2FMjAyMzA3MTNfMTUx%2FMDAxNjg5MjI1MjkwNTkw.EN3pwTQsADeSc_b-KNcya1RnyAZa0zJ8AshIOb4O3QIg.HuaKeKNdx9Pk_IAGz-Vwu8thfJSlOFmlXo8dQG0tHSYg.PNG%2FIOiT02ZQ6OvYcXJ6jWoIJ7CQUQ3c.jpg%22&type=f222_222&service=navermain\"},\"desc\":\"정신건강연구회\",\"source\":{\"name\":\"정신건강연구회\",\"image\":{\"url\":\"https://s.pstatic.net/post.phinf/MjAyMTA2MjJfNzUg/MDAxNjI0MzM5ODU0NTE2.3VRADN4Td-YlKB4sUwxfIaTpuAdkkfcGp5kvM7MBqQAg.Ewy6sQ3cFOuanB8HS5sxDspqWi9sLXd0lCoNA3-gZ6Eg.PNG/post_8039537269308849543.png?type=f200_200\"}},\"_id\":\"64911ef160f3c014e7a8a609\"},{\"@type\":\"MATERIAL-PC-FEED\",\"title\":\"사람의 눈은 몇 화소일까?\",\"url\":\"https://m.tv.naver.com/v/38067009\",\"image\":{\"url\":\"https://s.pstatic.net/dthumb.phinf/?src=%22https%3A%2F%2Fs.pstatic.net%2Ftvcast.phinf%2F20230715_86%2FDDvws_1689385874344ww85Q_PNG%2F1689385833794.png%22&type=f222_222&service=navermain\"},\"desc\":\"사물궁이 잡학지식\",\"source\":{\"name\":\"사물궁이 잡학지식\",\"image\":{\"url\":\"https://s.pstatic.net/tvcast.phinf/20230409_12/WGHBa_16810341064810jsHH_PNG/1681034106480.png\"}},\"video\":{\"playTime\":\"00:59\"},\"_id\":\"64911ef160f3c014e7a8a60a\"}],\"excludeInPaging\":false,\"positionForPaging\":0,\"realtime\":false,\"title\":\"많이 본 콘텐츠\",\"ad\":false,\"@type\":\"PC-FEED-BLOCK\",\"@code\":\"PC-FEED-LECTURE-AIRS-BEST\",\"@template\":\"SIX-COLUMNS\"},{\"@type\":\"PC-FEED-BLOCK\",\"materials\":[{\"@type\":\"MATERIAL-PC-FEED\",\"title\":\"71. 적절한 태도 앞에서 불행은 무력해진다\",\"url\":\"https://contents.premium.naver.com/yoonseol/writer/contents/230709000751254bl\",\"image\":{\"url\":\"https://s.pstatic.net/dthumb.phinf/?src=%22https%3A%2F%2Fs.pstatic.net%2Fscs.phinf%2FMjAyMzA3MDlfMjg3%2FMDAxNjg4ODI4NjU1NjA3.shWFMFz6Dy6NDcr1y7whVKAzjLyigvSDZgjV14iJ4Fsg.JFA8IiEYLr2Q37kfUNtNtJidxbNqJl1PHGL4feeEufYg.JPEG%2F%EC%9D%BC%EA%B0%84_%EC%9C%A4%EC%84%A4_71.jpg%22&type=nf308_200&service=navermain\"},\"desc\":\"윤설 작가\",\"source\":{\"name\":\"윤설 작가\",\"image\":{\"url\":\"https://s.pstatic.net/dthumb.phinf/?src=%22https%3A%2F%2Fs.pstatic.net%2Fscs.phinf%2FMjAyMzAxMTNfNzUg%2FMDAxNjczNTM1OTI3NzM3.fSphe8V5RImOx8P2Y0PqSQW4o3DU2AL2ugYYK3WVHTYg.bYwf30ADmrCuoFH0meRlrgmVoGFVSNPK3WHnEag6J0gg.JPEG%2Fimage%257Cpremium%257Cchannel%257Cyoonseol%257C2023%257C01%257C13%257C1673535927545.jpg%22&type=nf96_96&service=navermain\"}},\"labels\":[{\"type\":\"paid\",\"text\":null}],\"_id\":\"6441ca92c499cc07f334c453\"},{\"@type\":\"MATERIAL-PC-FEED\",\"title\":\"중이염, 방치하면 큰일나요!/ 이비인후과 정연훈 교수\",\"url\":\"https://m.post.naver.com/viewer/postView.naver?volumeNo=36243373&memberNo=42175191&vType=VERTICAL\",\"image\":{\"url\":\"https://s.pstatic.net/dthumb.phinf/?src=%22https%3A%2F%2Fs.pstatic.net%2Fpost.phinf%2FMjAyMzA3MTNfOTYg%2FMDAxNjg5MjM1Njc4MTM3.YrcwsdFhwEXxSpAluMe8LSpNzdQZHe7ypEVysBfWAWwg.4EEe7-D9Z3deTYrj3NO6-mwrzqSqK7xrf30smpJLEFEg.PNG%2FI-ntArwVHumIYDPFcOvqLaywr30Q.jpg%22&type=nf308_200&service=navermain\"},\"desc\":\"아주대학교병원\",\"source\":{\"name\":\"아주대학교병원\",\"image\":{\"url\":\"https://s.pstatic.net/dthumb.phinf/?src=%22https%3A%2F%2Fs.pstatic.net%2Fpost.phinf%2FMjAxOTAxMDRfMTA5%2FMDAxNTQ2NTgwMjk3Mzc3.4atalvHqtn9dFSBTGphprqflM3Cakv2CS4sMJJJfAvYg.4s-TPEaMGKrvIXtpkaYJ7WRN85CYIahefazKwME1ef8g.PNG%2Fpost_641042744082102906.png%3Ftype%3Df200_200%22&type=nf96_96&service=navermain\"}},\"_id\":\"6441ca92c499cc07f334c454\"},{\"@type\":\"MATERIAL-PC-FEED\",\"title\":\"델 울트라샤프 32 6K 모니터(U3224KB): 6K 디스플레이에 4K 웹캠, 사운드바까지! | #Review\",\"url\":\"https://m.tv.naver.com/v/37785340\",\"image\":{\"url\":\"https://s.pstatic.net/dthumb.phinf/?src=%22https%3A%2F%2Fs.pstatic.net%2Ftvcast.phinf%2F20230707_64%2FeC6xp_1688713380268Vd8c9_JPEG%2F1688713079357.jpg%22&type=nf308_200&service=navermain\"},\"desc\":\"씨넷코리아(CNET Korea)\",\"source\":{\"name\":\"씨넷코리아(CNET Korea)\",\"image\":{\"url\":\"https://s.pstatic.net/dthumb.phinf/?src=%22https%3A%2F%2Fs.pstatic.net%2Ftvcast.phinf%2F20220616_84%2FMtVS5_1655374025434pFGuy_PNG%2F1655374025411.png%22&type=nf96_96&service=navermain\"}},\"video\":{\"playTime\":\"13:52\"},\"_id\":\"6441ca92c499cc07f334c455\"},{\"@type\":\"MATERIAL-PC-FEED\",\"title\":\"EPL에서 펼쳐지는 중동 왕족들의 ‘新 삼국지\\'\",\"url\":\"https://contents.premium.naver.com/outstanding/outstandcrew/contents/230714135307592fi\",\"image\":{\"url\":\"https://s.pstatic.net/dthumb.phinf/?src=%22https%3A%2F%2Fs.pstatic.net%2Fscs.phinf%2FMjAyMzA3MTRfMjYx%2FMDAxNjg5MzEwMzc2OTU0.IDuuhb2WhwFIpT9_fE2rOPFexjFCdB_j_btokcMWvGAg.xMOcKG3esfPdqi1cSptskwuaFviiT1GGi85j_uW4iKAg.JPEG%2Fpl_thumbnail-1080x608.jpg%22&type=nf308_200&service=navermain\"},\"desc\":\"아웃스탠딩\",\"source\":{\"name\":\"아웃스탠딩\",\"image\":{\"url\":\"https://s.pstatic.net/dthumb.phinf/?src=%22https%3A%2F%2Fs.pstatic.net%2Fscs.phinf%2FMjAyMjA2MTVfMjE1%2FMDAxNjU1MjU4NzcwNTE3.D9aZbqQYk0zvQ0hdHLXBb_uOwNyDogaGNcPcCuH4g4og.zSC3RBouwyBGCz1qK8vQZuPH_zymWadZZokLPHCm4SAg.PNG%2Fimage%257Cpremium%257Cchannel%257Coutstanding%257C2022%257C06%257C15%257C1655258770465.png%22&type=nf96_96&service=navermain\"}},\"labels\":[{\"type\":\"paid\",\"text\":null}],\"_id\":\"6441ca92c499cc07f334c456\"},{\"@type\":\"MATERIAL-PC-FEED\",\"title\":\"[건강이슈 Pick]빠지지 않는 겨드랑이살, 혹시 부유방?\",\"url\":\"https://m.post.naver.com/viewer/postView.naver?volumeNo=36242334&memberNo=4901432&vType=VERTICAL\",\"image\":{\"url\":\"https://s.pstatic.net/dthumb.phinf/?src=%22https%3A%2F%2Fs.pstatic.net%2Fpost.phinf%2FMjAyMzA3MTNfMjk2%2FMDAxNjg5MjI4NDQ2OTk5.mnqbKXrZwAbRg8uRmFOZRVDYyuN-MlvHlregfY9R-hog.sPMTFqk3WADa4AZrnyMGE05l3cBd8VjQie_Rdy9ILewg.JPEG%2FIrAp7lv_QnbPvmoOZNQX0Ui83_dQ.jpg%22&type=nf308_200&service=navermain\"},\"desc\":\"인하대병원\",\"source\":{\"name\":\"인하대병원\",\"image\":{\"url\":\"https://s.pstatic.net/dthumb.phinf/?src=%22https%3A%2F%2Fs.pstatic.net%2Fpost.phinf%2FMjAxOTEyMDZfOTQg%2FMDAxNTc1NTg5OTc2NjQy.LBr4SX3XhHrtmyNNQx9Z6h2PFLJRs6R4yO4GbUUbyL0g.gWVvQqpWhTIy4VE4bIoBOyaMaPRm-9iyhwSo4DSqdFcg.PNG%2Fpost_6729230926344498941.png%3Ftype%3Df200_200%22&type=nf96_96&service=navermain\"}},\"_id\":\"6441ca92c499cc07f334c457\"},{\"@type\":\"MATERIAL-PC-FEED\",\"title\":\"푹 잤는데도 졸음이 몰려온다면? \\'과다수면증\\' 의심!\",\"url\":\"https://blog.naver.com/humc_health/223147676452\",\"image\":{\"url\":\"https://s.pstatic.net/dthumb.phinf/?src=%22http%3A%2F%2Fblogfiles.naver.net%2FMjAyMzA3MDVfMTA5%2FMDAxNjg4NTM4MDY4NDE0.7OhgdDbD9lTHHSINybU7BAjWP-4KC3B52R7EoIB-k4kg.oA3-QXEm2GjR9ysFv4q0tjqzQoPSTt8E_tmOT_e46Ecg.PNG.humc_health%2F%EC%8D%B8%EB%84%A4%EC%9D%BC.png%22&type=nf308_200&service=navermain\"},\"desc\":\"한림대학교의료원\",\"source\":{\"name\":\"한림대학교의료원\",\"image\":{\"url\":\"https://s.pstatic.net/dthumb.phinf/?src=%22http%3A%2F%2Fblogpfthumb.phinf.naver.net%2F20120111_102%2Fhumc_health_1326254058479_X14KwD_jpg%2FA-5-1.jpg%22&type=nf96_96&service=navermain\"}},\"_id\":\"6441ca92c499cc07f334c458\"},{\"@type\":\"MATERIAL-PC-FEED\",\"title\":\"AI로 오해받은 진짜 사진, 대회에서 탈락하다\",\"url\":\"https://contents.premium.naver.com/remazine/remazineai/contents/230714075024380tn\",\"image\":{\"url\":\"https://s.pstatic.net/dthumb.phinf/?src=%22https%3A%2F%2Fs.pstatic.net%2Fscs.phinf%2FMjAyMzA3MTRfNjQg%2FMDAxNjg5Mjg2NjIyODU2.87vsgXUAqUpjPbmWAW1ileD_L-Sr7KKct_bq1Z_TJ-8g.Ywt5oDTcdld4G6bJRzaj3IIfSIX9e-FyWZ-WXEbp-SIg.PNG%2Fimage.png%22&type=nf308_200&service=navermain\"},\"desc\":\"리매진의 AI 다이제스트\",\"source\":{\"name\":\"리매진의 AI 다이제스트\",\"image\":{\"url\":\"https://s.pstatic.net/dthumb.phinf/?src=%22https%3A%2F%2Fs.pstatic.net%2Fscs.phinf%2FMjAyMzA2MjBfMTU1%2FMDAxNjg3MjI4MTA1NzMx.n5vUu-Iu04rFPlbM9muwXHN3qhCWP47Te-trmwfiDEsg.SVVkvLzA5JJ01i1JTP2kQlbXx74O1AshfuOsOU1Ykg4g.PNG%2Fimage%257Cpremium%257Cchannel%257Cremazine%257C2023%257C06%257C20%257C1687228105712.png%22&type=nf96_96&service=navermain\"}},\"labels\":[{\"type\":\"paid\",\"text\":null}],\"_id\":\"6441ca92c499cc07f334c459\"},{\"@type\":\"MATERIAL-PC-FEED\",\"title\":\"설사가 계속된다면? 언제 검사 받아봐야 할까?\",\"url\":\"https://m.post.naver.com/viewer/postView.naver?volumeNo=36243734&memberNo=3600238&vType=VERTICAL\",\"image\":{\"url\":\"https://s.pstatic.net/dthumb.phinf/?src=%22https%3A%2F%2Fs.pstatic.net%2Fpost.phinf%2FMjAyMzA3MTNfMTk0%2FMDAxNjg5MjM3MTIwNTQw.UqEASw6rx_uRu7VI_XP1aX9kcjG50nh2mC_xih4Daqcg.WYJaaa9diEceEBZdYMt-bVVCa2aKMPo963hEPgRHq9sg.PNG%2FIT31ZjG1oFIUbyXfCXdpPnNoyryo.jpg%22&type=nf308_200&service=navermain\"},\"desc\":\"서울대학교병원\",\"source\":{\"name\":\"서울대학교병원\",\"image\":{\"url\":\"https://s.pstatic.net/dthumb.phinf/?src=%22https%3A%2F%2Fs.pstatic.net%2Fpost.phinf%2FMjAyMTA1MDdfMjE5%2FMDAxNjIwMzYzMDE0Njk0.hdSypAIZ6xaqnNPAVL3oAUv75GcI-bLGM9G5-t-O6Jsg.360bfP--TQrW161cJgmpt1QJ5HKZFZah1E5g8CzGQr4g.PNG%2Fpost_2835437813680955194.png%3Ftype%3Df200_200%22&type=nf96_96&service=navermain\"}},\"_id\":\"6441ca92c499cc07f334c45a\"}],\"excludeInPaging\":false,\"positionForPaging\":0,\"realtime\":false,\"ad\":false,\"@type\":\"PC-FEED-BLOCK\",\"@code\":\"PC-FEED-LECTURE-AIRS-2\",\"@template\":\"TWO-COLUMNS\"},{\"@type\":\"PC-FEED-BLOCK\",\"materials\":[{\"@type\":\"MATERIAL-PC-FEED\",\"title\":\"[예고] 세계를 제패한 가문 합스부르크! 실상은 막장 드라마였다?\",\"url\":\"https://m.tv.naver.com/v/38010320\",\"image\":{\"url\":\"https://s.pstatic.net/dthumb.phinf/?src=%22https%3A%2F%2Fs.pstatic.net%2Ftvcast.phinf%2F20230713_61%2F9bqWy_1689246760875Sh70E_JPEG%2Fb0bb3a9f-da47-4948-9922-fbd0fa5a6435_B.jpg%22&type=nf308_200&service=navermain\"},\"desc\":\"벌거벗은 세계사\",\"source\":{\"name\":\"벌거벗은 세계사\",\"image\":{\"url\":\"https://s.pstatic.net/dthumb.phinf/?src=%22https%3A%2F%2Fs.pstatic.net%2Ftvcast.phinf%2F20210121_56%2FpVkIK_1611216554307RGDDb_JPEG%2Ff056457d-879f-4d4d-bfc6-ae05931a978e.jpg%22&type=nf96_96&service=navermain\"}},\"video\":{\"playTime\":\"00:15\"},\"_id\":\"6441ca92c499cc07f334c45b\"},{\"@type\":\"MATERIAL-PC-FEED\",\"title\":\"한가위에 먹는 송편에 이런 유래가?\",\"url\":\"https://blog.naver.com/kookbang_media_lab/223154236167\",\"image\":{\"url\":\"https://s.pstatic.net/dthumb.phinf/?src=%22http%3A%2F%2Fblogfiles.naver.net%2FMjAyMzA3MTBfMTk1%2FMDAxNjg4OTcyODE4MTA2.NVp0m1Qr6j2jLF40MOC_0qqiAVvhTBOUbnAbkXy86jEg.sjc1WXA71CAbSnr77iEz76Vq88fw8AfAHjRiXZ3wc-sg.JPEG.kookbang_media_lab%2F3_%EC%86%A1%ED%8E%B8.jpg%22&type=nf308_200&service=navermain\"},\"desc\":\"국방일보\",\"source\":{\"name\":\"국방일보\",\"image\":{\"url\":\"https://s.pstatic.net/dthumb.phinf/?src=%22http%3A%2F%2Fblogpfthumb.phinf.naver.net%2FMjAyMTA4MDlfMTE4%2FMDAxNjI4NDcyOTYxNTc0.CHu35cC0qkiy-TnEealT2guWeoRpS_1wPoUQSg018Jwg.8FupjobJ2rvgyVsM6euJeP6BNP5NprENstwzUDNzQiwg.JPEG.kookbang_media_lab%2F%25EA%25B5%25AD%25EB%25B0%25A9%25EC%259D%25BC%25EB%25B3%25B4%25EB%2594%2594%25EC%25A7%2580%25ED%2584%25B8%25ED%2594%258C%25EB%259F%25AC%25EC%258A%25A4_%25EB%25A1%259C%25EA%25B3%25A0_%25EC%259D%25B8%25EC%258A%25A4%25ED%2583%2580%25ED%2585%258C%25EC%258A%25A4%25ED%258A%25B8-03.jpg%22&type=nf96_96&service=navermain\"}},\"_id\":\"6441ca92c499cc07f334c45c\"},{\"@type\":\"MATERIAL-PC-FEED\",\"title\":\"고관절 통증 원인은 이 근육들 때문?(ft. 고관절 통증 풀어주는 스트레칭)\",\"url\":\"https://m.post.naver.com/viewer/postView.naver?volumeNo=36234325&memberNo=11195360&vType=VERTICAL\",\"image\":{\"url\":\"https://s.pstatic.net/dthumb.phinf/?src=%22https%3A%2F%2Fs.pstatic.net%2Fpost.phinf%2FMjAyMzA3MTJfMTUw%2FMDAxNjg5MTI2MjA1MDUw.TWwKL5mc49BnyptePtmQHnj5vgFjg4OChZyudjL7_Uog.4UnH9fGkdOCZzyAhD8ymsi3Qm8BQ6YQSCKoX0bMOtvIg.PNG%2FI_3zLbDjUL3CHtL34CTQaHRoAz0s.jpg%22&type=nf308_200&service=navermain\"},\"desc\":\"자생한방병원 강남\",\"source\":{\"name\":\"자생한방병원 강남\",\"image\":{\"url\":\"https://s.pstatic.net/dthumb.phinf/?src=%22https%3A%2F%2Fs.pstatic.net%2Fpost.phinf%2FMjAxODA0MTBfMzYg%2FMDAxNTIzMzE5Njg2MDAw.zqhe3t7Z4zLa7JhWImI8_-FwivZ-SZ9AFX4Tn1WJSI0g.AuAIIHmgk53yAJqwW5lXKR_z1gGBG5G_kNXxFV7flt0g.PNG%2Fpost_7221355901514719831.png%3Ftype%3Df200_200%22&type=nf96_96&service=navermain\"}},\"_id\":\"6441ca92c499cc07f334c45d\"},{\"@type\":\"MATERIAL-PC-FEED\",\"title\":\"클룹이 ‘패키지’ 전략 비틀어 반년 만에 700만캔 판매한 방법\",\"url\":\"https://contents.premium.naver.com/connectx/us/contents/230715180620665qa\",\"image\":{\"url\":\"https://s.pstatic.net/dthumb.phinf/?src=%22https%3A%2F%2Fs.pstatic.net%2Fscs.phinf%2FMjAyMzA3MTVfMTEy%2FMDAxNjg5NDExNjc5OTQ1.wjElhAVDkk7yWBdbGJGSG8ecPCZkJKJI3HwdSaANSGUg.mtayBDUnMvdRZGdEQn8ak9LCsA0YzTDruUnEXsqNecUg.JPEG%2F%EB%B9%84%EB%B9%84_%EC%A0%9C%EB%A1%9C%EC%86%8C%EB%8B%A4_%EA%B4%91%EA%B3%A0.jpg%22&type=nf308_200&service=navermain\"},\"desc\":\"커넥터스\",\"source\":{\"name\":\"커넥터스\",\"image\":{\"url\":\"https://s.pstatic.net/dthumb.phinf/?src=%22https%3A%2F%2Fs.pstatic.net%2Fscs.phinf%2FMjAyMTA5MjhfMjQy%2FMDAxNjMyODA2NDg4NzQw.ett3oiQXRMptrZ6F9NvVDy0MvpkKPVQTrmG-c7D-WXsg.H3nfTjUpJi5GOgsvKb00t7ZImA_t6gFcsvwdmEsVkAMg.JPEG%2Fimage%257Cpremium%257Cchannel%257Cconnectx%257C2021%257C09%257C28%257C1632806488722.jpg%22&type=nf96_96&service=navermain\"}},\"labels\":[{\"type\":\"free\",\"text\":null}],\"_id\":\"6441ca92c499cc07f334c45e\"},{\"@type\":\"MATERIAL-PC-FEED\",\"title\":\"인텔 미니 PC \\'NUC\\' 역사 속으로...?\",\"url\":\"https://blog.naver.com/tech-plus/223154042382\",\"image\":{\"url\":\"https://s.pstatic.net/dthumb.phinf/?src=%22http%3A%2F%2Fblogfiles.naver.net%2FMjAyMzA3MTJfMjYz%2FMDAxNjg5MTQxMTc5NzE1.ZDpU7Zwne4N5rVJRMUWn5s_kCqRNdEWwN0LA9BHBbDwg.YY-nGA53ZIx4BHEieFundwCM_FM8xO7VW7sb6G0M4IQg.JPEG.tech-plus%2F001.jpg%22&type=nf308_200&service=navermain\"},\"desc\":\"테크플러스\",\"source\":{\"name\":\"테크플러스\",\"image\":{\"url\":\"https://s.pstatic.net/dthumb.phinf/?src=%22http%3A%2F%2Fblogpfthumb.phinf.naver.net%2FMjAxOTA4MjdfMyAg%2FMDAxNTY2ODkzMDA3ODc5.y7C4Ybnsip2DjrvLkFptceck1G9vYaEYk91p-8NyT6kg.BIMjhjzJ-8dcqFSQV-Z5Chj7e_EkPWJygRXoXSpN114g.JPEG.tech-plus%2F01logoUntitled-1.JPG%22&type=nf96_96&service=navermain\"}},\"_id\":\"6441ca92c499cc07f334c45f\"},{\"@type\":\"MATERIAL-PC-FEED\",\"title\":\"성형수술한 사람이 죽어서 화장할 때 보형물은 어떻게 될까?\",\"url\":\"https://m.tv.naver.com/v/37884678\",\"image\":{\"url\":\"https://s.pstatic.net/dthumb.phinf/?src=%22https%3A%2F%2Fs.pstatic.net%2Ftvcast.phinf%2F20230710_154%2FOHUCI_1688994042615MzVAi_PNG%2F1688993974598.png%22&type=nf308_200&service=navermain\"},\"desc\":\"사물궁이 잡학지식\",\"source\":{\"name\":\"사물궁이 잡학지식\",\"image\":{\"url\":\"https://s.pstatic.net/dthumb.phinf/?src=%22https%3A%2F%2Fs.pstatic.net%2Ftvcast.phinf%2F20230409_12%2FWGHBa_16810341064810jsHH_PNG%2F1681034106480.png%22&type=nf96_96&service=navermain\"}},\"video\":{\"playTime\":\"00:59\"},\"_id\":\"6441ca92c499cc07f334c460\"},{\"@type\":\"MATERIAL-PC-FEED\",\"title\":\"군용 전자통신장비, 모델명을 알면 장비가 보인다\",\"url\":\"https://m.post.naver.com/viewer/postView.naver?volumeNo=36241344&memberNo=44743697&vType=VERTICAL\",\"image\":{\"url\":\"https://s.pstatic.net/dthumb.phinf/?src=%22https%3A%2F%2Fs.pstatic.net%2Fpost.phinf%2FMjAyMzA3MTJfOTEg%2FMDAxNjg5MTQwNjYyOTM1.NcAmA_3p3TiTOAY-dSeg4JVJq35055R6REOB8ynwkAMg.lx8Dabk-LHgJmd6Aei8z018doqkq2M5PPgKWu9aI4L4g.JPEG%2FIJduPG0hn6f55nSrPc-cWs96ZOYI.jpg%22&type=nf308_200&service=navermain\"},\"desc\":\"국방일보\",\"source\":{\"name\":\"국방일보\",\"image\":{\"url\":\"https://s.pstatic.net/dthumb.phinf/?src=%22https%3A%2F%2Fs.pstatic.net%2Fpost.phinf%2FMjAyMTEwMDdfNDQg%2FMDAxNjMzNTg4OTAyNTg0.DjxARlBYrHfJbVRbD1JD0gq-pJjL0d9Qji4nJgvmmwMg.pYePKEA14kxrmyTXKxzBJ8SfrM_eTg_xYBnOs5Utngog.JPEG%2Fpost_7092076554049687678.jpg%3Ftype%3Df200_200%22&type=nf96_96&service=navermain\"}},\"_id\":\"6441ca92c499cc07f334c461\"},{\"@type\":\"MATERIAL-PC-FEED\",\"title\":\"한국 작가의 해외 미술판 \\'뒤집기\\'... 최하늘 이배 등 韓·獨 동시 전시\",\"url\":\"https://contents.premium.naver.com/socialartnews/artnews/contents/230713121427998kn\",\"image\":{\"url\":\"https://s.pstatic.net/dthumb.phinf/?src=%22https%3A%2F%2Fs.pstatic.net%2Fscs.phinf%2FMjAyMzA3MTJfMjMy%2FMDAxNjg5MDkyMDAzNTYx.p9CMB3pqETu3ShtL3Je8mIpYrkTYdAxPkWlKuloTwjYg.tGHCJpq6c3VoQdLIexZN3D8JLQ4zh5axldODeOH05egg.JPEG%2FIMG_0296.jpg%22&type=nf308_200&service=navermain\"},\"desc\":\"미술관가는남자\",\"source\":{\"name\":\"미술관가는남자\",\"image\":{\"url\":\"https://s.pstatic.net/dthumb.phinf/?src=%22https%3A%2F%2Fs.pstatic.net%2Fscs.phinf%2FMjAyMTA5MjBfMTk0%2FMDAxNjMyMTI3ODA4NDMz.hur3esZZUOD_6kD4tNXlZYjLAodKAf7yTz8fWJht0G0g.zIxSy7hXQtTLYkOs4cbwzxs8AEeJTxe1t78KPltKb88g.PNG%2Fimage%257Cpremium%257Cchannel%257Csocialartnews%257C2021%257C09%257C20%257C1632127808419.png%22&type=nf96_96&service=navermain\"}},\"labels\":[{\"type\":\"paid\",\"text\":null}],\"_id\":\"6441ca92c499cc07f334c462\"}],\"excludeInPaging\":false,\"positionForPaging\":0,\"realtime\":false,\"ad\":false,\"@type\":\"PC-FEED-BLOCK\",\"@code\":\"PC-FEED-LECTURE-AIRS-3\",\"@template\":\"TWO-COLUMNS\"},{\"@type\":\"PC-FEED-BLOCK\",\"materials\":[{\"@type\":\"MATERIAL-PC-FEED\",\"title\":\"마세라티는 왜 사진과 실물의 차이가 클까?\",\"url\":\"https://contents.premium.naver.com/koosangdesign/knowledge/contents/230712070916965pk\",\"image\":{\"url\":\"https://s.pstatic.net/dthumb.phinf/?src=%22https%3A%2F%2Fs.pstatic.net%2Fscs.phinf%2FMjAyMzA3MTJfMTQ5%2FMDAxNjg5MTEzMjIyMzUw.KNhOJYQw1blbiu3foN3AKW9Fk-zq8CB5Is8sNt0KGhcg.9BV-2MbJmLA5MGYMPDpwu78FW48F7YVCmHjoHb2A0DIg.JPEG%2F2022_MC20_exclusive.jpg%22&type=nf308_200&service=navermain\"},\"desc\":\"구상 교수의 모빌리티 디자인 구상\",\"source\":{\"name\":\"구상 교수의 모빌리티 디자인 구상\",\"image\":{\"url\":\"https://s.pstatic.net/dthumb.phinf/?src=%22https%3A%2F%2Fs.pstatic.net%2Fscs.phinf%2FMjAyMjA2MDhfNTYg%2FMDAxNjU0NjUwNDg1NTM4.skUO-zRMk99lEF3nUTSutcz2xU9IrATDE_NKs2SxaI4g.zBv3EULV2dffGx8JyZyC_r7e3A4vviyxW9-HE2ZhwmAg.JPEG%2Fimage%257Cpremium%257Cchannel%257Ckoosangdesign%257C2022%257C06%257C08%257C1654650485268.jpg%22&type=nf96_96&service=navermain\"}},\"labels\":[{\"type\":\"free\",\"text\":null}],\"_id\":\"6441ca92c499cc07f334c463\"},{\"@type\":\"MATERIAL-PC-FEED\",\"title\":\"[137] 명화로 보는 그리스로마 신화와 성서 이야기 <성서편>\",\"url\":\"https://m.post.naver.com/viewer/postView.naver?volumeNo=35434595&memberNo=2622873&vType=VERTICAL\",\"image\":{\"url\":\"https://s.pstatic.net/dthumb.phinf/?src=%22https%3A%2F%2Fs.pstatic.net%2Fpost.phinf%2FMjAyMzAyMTJfMTEw%2FMDAxNjc2MTg1ODA0MjA1.idRFB7k-Kon4s0FOjtRLdn0baWZ_uyihM51Nc2yrKswg.FqyA9BJPmwo9nowNtK1UWqdbi2DBT5F05tsUggii8Xog.JPEG%2FIP_AvGQeg7kSzw498TKzOjyfERuo.jpg%22&type=nf308_200&service=navermain\"},\"desc\":\"테디의 미술 기행\",\"source\":{\"name\":\"테디의 미술 기행\",\"image\":{\"url\":\"https://s.pstatic.net/dthumb.phinf/?src=%22https%3A%2F%2Fs.pstatic.net%2Fpost.phinf%2FMjAyMDA1MjdfNjkg%2FMDAxNTkwNTM5ODgyODM1.HlKMolAvL3qpUrsaAlgZvlYRVUvCN3wRhiJDBorrTIsg.vGZroF644Ho0JXT-kk8Rq4vS2N-K9gsSQTCBHs0iIPcg.JPEG%2Fpost_1959916265438619235.jpg%3Ftype%3Df200_200%22&type=nf96_96&service=navermain\"}},\"_id\":\"6441ca92c499cc07f334c464\"},{\"@type\":\"MATERIAL-PC-FEED\",\"title\":\"영조의 눈에 들어 세자빈이 된 혜경궁 홍씨, 기다리고 있던 건 가혹한 시집살이? | tvN STORY 230705 방송\",\"url\":\"https://m.tv.naver.com/v/37745872\",\"image\":{\"url\":\"https://s.pstatic.net/dthumb.phinf/?src=%22https%3A%2F%2Fs.pstatic.net%2Ftvcast.phinf%2F20230706_32%2Fjo5Yp_1688628451936EeLf3_JPEG%2F17166c3d-eb21-410e-8875-6347289c045b_B.jpg%22&type=nf308_200&service=navermain\"},\"desc\":\"벌거벗은 한국사\",\"source\":{\"name\":\"벌거벗은 한국사\",\"image\":{\"url\":\"https://s.pstatic.net/dthumb.phinf/?src=%22https%3A%2F%2Fs.pstatic.net%2Ftvcast.phinf%2F20220418_48%2FkohCq_16502603564782qxms_JPEG%2F5b8057ba-2954-4adb-a7b0-586b7a49d7de.jpg%22&type=nf96_96&service=navermain\"}},\"video\":{\"playTime\":\"10:58\"},\"_id\":\"6441ca92c499cc07f334c465\"},{\"@type\":\"MATERIAL-PC-FEED\",\"title\":\"이런 우산은 처음이지?\",\"url\":\"https://contents.premium.naver.com/sciencepick/sciencenow/contents/230713090853904mi\",\"image\":{\"url\":\"https://s.pstatic.net/dthumb.phinf/?src=%22https%3A%2F%2Fs.pstatic.net%2Fscs.phinf%2FMjAyMzA3MTNfMjUy%2FMDAxNjg5MjA1OTM1Nzg1.rJ3JZc23PlLcJoOkPgUmHMEJdR1Ny2Mmk1CzGyZuZ-og.nvMy_v6-kA4CP0jctC0vh2ZQt4k6BxOM7aZv0YZ_BC4g.PNG%2Fimage.png%22&type=nf308_200&service=navermain\"},\"desc\":\"지금 과학\",\"source\":{\"name\":\"지금 과학\",\"image\":{\"url\":\"https://s.pstatic.net/dthumb.phinf/?src=%22https%3A%2F%2Fs.pstatic.net%2Fscs.phinf%2FMjAyMjAyMDhfMTE1%2FMDAxNjQ0MzAyNzM4NjIy.LLLhViIcSBDG5O35BacmwkuWpuVgDfRmwel7qFfFg2Yg.Pk9cAjHfzCJ8ZePI5r9Hkxn1CFb5Id1Vs-R2kNGgCecg.JPEG%2Fimage%257Cpremium%257Cchannel%257Csciencepick%257C2022%257C02%257C08%257C1644302738558.jpg%22&type=nf96_96&service=navermain\"}},\"labels\":[{\"type\":\"paid\",\"text\":null}],\"_id\":\"6441ca92c499cc07f334c466\"},{\"@type\":\"MATERIAL-PC-FEED\",\"title\":\"간경화(간경변증)에 좋은 음식은?\",\"url\":\"https://m.post.naver.com/viewer/postView.naver?volumeNo=36236317&memberNo=25786904&vType=VERTICAL\",\"image\":{\"url\":\"https://s.pstatic.net/dthumb.phinf/?src=%22https%3A%2F%2Fs.pstatic.net%2Fpost.phinf%2FMjAyMzA3MTFfNCAg%2FMDAxNjg5MDM2NzA0Mzkw.KJBkf6ZLRDCzs-QWaQUlQht8aNbowKBkmdqpEnD1uiQg.0gxLT6WRvNwuGhJdHmJ7N9jCPpj9Vz1blKN0R3pFNj0g.JPEG%2FIaKayQuZx0m-dxL7ULQnsnmPTJ40.jpg%22&type=nf308_200&service=navermain\"},\"desc\":\"차병원\",\"source\":{\"name\":\"차병원\",\"image\":{\"url\":\"https://s.pstatic.net/dthumb.phinf/?src=%22https%3A%2F%2Fs.pstatic.net%2Fpost.phinf%2FMjAxNzA4MTRfNTMg%2FMDAxNTAyNjc3MjEwNDcx.HJCIVrNX6Fy1vUo_aJmJQ4ywgn-j7vTITcbUlkNI2IIg.Zc9kdn_rMOB_HeMvT6t0Ma6IRNX39yKuy8Ba1Yqpic4g.JPEG%2Fpost_9104384997506936403.jpg%3Ftype%3Df200_200%22&type=nf96_96&service=navermain\"}},\"_id\":\"6441ca92c499cc07f334c467\"},{\"@type\":\"MATERIAL-PC-FEED\",\"title\":\"S22 심장 품고...\\'갤럭시S23 팬 에디션\\' 나온다\",\"url\":\"https://blog.naver.com/tech-plus/223152967942\",\"image\":{\"url\":\"https://s.pstatic.net/dthumb.phinf/?src=%22http%3A%2F%2Fblogfiles.naver.net%2FMjAyMzA3MTFfMjQ1%2FMDAxNjg5MDU1MTk1ODIx.sDwhi0ETGIINssN5_EtWPXzsdQAShFS6M-JTEBd_8vcg.tFWjZSQIhLts6fuPclTLIu6nKpcLhdq2ngxiKH2Cs9Mg.JPEG.tech-plus%2F004.jpg%22&type=nf308_200&service=navermain\"},\"desc\":\"테크플러스\",\"source\":{\"name\":\"테크플러스\",\"image\":{\"url\":\"https://s.pstatic.net/dthumb.phinf/?src=%22http%3A%2F%2Fblogpfthumb.phinf.naver.net%2FMjAxOTA4MjdfMyAg%2FMDAxNTY2ODkzMDA3ODc5.y7C4Ybnsip2DjrvLkFptceck1G9vYaEYk91p-8NyT6kg.BIMjhjzJ-8dcqFSQV-Z5Chj7e_EkPWJygRXoXSpN114g.JPEG.tech-plus%2F01logoUntitled-1.JPG%22&type=nf96_96&service=navermain\"}},\"_id\":\"6441ca92c499cc07f334c468\"},{\"@type\":\"MATERIAL-PC-FEED\",\"title\":\"유난이 땀이 많다면, 다한증 의심\",\"url\":\"https://m.post.naver.com/viewer/postView.naver?volumeNo=36232254&memberNo=5266975&vType=VERTICAL\",\"image\":{\"url\":\"https://s.pstatic.net/dthumb.phinf/?src=%22https%3A%2F%2Fs.pstatic.net%2Fpost.phinf%2FMjAyMzA3MTFfMTQy%2FMDAxNjg5MDgxNzgzNDcx.Ls3bZqcKCgc_dhZMCYADF4q3umoiLj5ciSXC0ep_PGQg.KVHKdTS43HkBeBv5clGMCLoH4te8SyRCIWpLyp_dwkYg.JPEG%2FItFIbYumb2tGVjeAw1D3XHg74a24.jpg%22&type=nf308_200&service=navermain\"},\"desc\":\"서울성모병원\",\"source\":{\"name\":\"서울성모병원\",\"image\":{\"url\":\"https://s.pstatic.net/dthumb.phinf/?src=%22https%3A%2F%2Fs.pstatic.net%2Fpost.phinf%2FMjAxNzA5MDZfMjU2%2FMDAxNTA0Njc5NDk3NDYz.Pb51_twD4Z3DBURI9sPe9jy_UM0LAAWejrxxFuLegyQg.tKc3YOJBWrNLm0qPUVUtC_h_80WX_g0YpW-xKYmOXH8g.JPEG%2Fpost_1619880188973890700.jpg%3Ftype%3Df200_200%22&type=nf96_96&service=navermain\"}},\"_id\":\"6441ca92c499cc07f334c469\"},{\"@type\":\"MATERIAL-PC-FEED\",\"title\":\"〔멜랑콜리 스펙트럼④-1〕 멜랑콜리와 개는 무슨 관련이 있을까요?\",\"url\":\"https://contents.premium.naver.com/kimdong/knowledge/contents/230712184112323ty\",\"image\":{\"url\":\"https://s.pstatic.net/dthumb.phinf/?src=%22https%3A%2F%2Fs.pstatic.net%2Fscs.phinf%2FMjAyMzA3MDdfNzMg%2FMDAxNjg4NzA2MjM1MzM3.FsXUyqWoLADHw9UqA-dspW5OfpdyLEUxAdIsM_IExFsg.GCO2kBWQ9Dd7CGZumCPbtGtOB7wIEOScbGmqqAtWu8wg.JPEG%2Fdog-7089935_1280.jpg%22&type=nf308_200&service=navermain\"},\"desc\":\"철학자의 사랑법\",\"source\":{\"name\":\"철학자의 사랑법\",\"image\":{\"url\":\"https://s.pstatic.net/dthumb.phinf/?src=%22https%3A%2F%2Fs.pstatic.net%2Fscs.phinf%2FMjAyMTExMTZfMTg2%2FMDAxNjM3MDQ4MzczMDAy.EDuB79Z19lBQW47wCbdUxFBQcgEKIVQh2Y-MrHnIjwEg.oYwxJGI08nGb2U7ls6nx9eRt8s4ZVmQWYMHWKkxlpqQg.PNG%2Fimage%257Cpremium%257Cchannel%257Ckimdong%257C2021%257C11%257C16%257C1637048372860.png%22&type=nf96_96&service=navermain\"}},\"labels\":[{\"type\":\"free\",\"text\":null}],\"_id\":\"6441ca92c499cc07f334c46a\"}],\"excludeInPaging\":false,\"positionForPaging\":0,\"realtime\":false,\"ad\":false,\"@type\":\"PC-FEED-BLOCK\",\"@code\":\"PC-FEED-LECTURE-AIRS-4\",\"@template\":\"TWO-COLUMNS\"}],\"materials\":null,\"excludeInPaging\":false,\"positionForPaging\":0,\"realtime\":false,\"_id\":null,\"@type\":\"BLOCK\",\"@code\":\"PC-FEED-LECTURE\",\"@template\":\"NONE\",\"@flowId\":null,\"@flowExecutionId\":null,\"@provider\":null,\"@lastModifiedAt\":null}],\"materials\":null,\"excludeInPaging\":false,\"positionForPaging\":0,\"realtime\":false,\"_id\":\"6441ca92a10d3006855f9acd\",\"@type\":\"BLOCK\",\"@code\":\"PC-FEED-WRAPPER\",\"@template\":\"PC-FEED-WRAPPER\",\"@flowId\":\"PC-FEED-WRAPPER\",\"@flowExecutionId\":\"073afa5e-23f1-11ee-9e15-1de74709c8ba\",\"@provider\":\"lambda\",\"@lastModifiedAt\":[2023,7,16,15,54,21,843000000]}\\n  \\n    window[\"EAGER-DATA\"][\"CAS-MINICONTENT-PC-SPECIAL-LOGO\"] = {\"@type\":\"MINI-CONTENT-BLOCK\",\"blocks\":null,\"materials\":null,\"excludeInPaging\":false,\"positionForPaging\":0,\"realtime\":false,\"items\":[{\"content\":{\"input\":{\"logoImage\":\"https://s.pstatic.net/static/www/mobile/edit/20230714_1095/upload_1689322092965fiMrr.png\",\"color\":\"#a3691b\"},\"logo\":{\"clickAreaList\":[{\"url\":\"https://search.naver.com/search.naver?where=nexearch&sm=top_brd&fbm=0&ie=utf8&query=%EC%A0%9C%ED%97%8C%EC%A0%88\",\"alt\":\"제헌절\",\"left\":0,\"top\":0,\"height\":109,\"width\":171,\"clickCode\":\"top.splogo1\"}],\"alt\":\"제헌절\",\"imageDark\":\"https://mml.pstatic.net/www/mobile/edit/20230714_1095/upload_1689322108371tmeFS.png\",\"image\":\"https://mml.pstatic.net/www/mobile/edit/20230714_1095/upload_1689322101817enVXw.png\",\"left\":114,\"top\":19},\"@type\":\"BLOCK-PC-LOGO\"},\"exposure\":true,\"@miniContentId\":\"64b102b7daf519668cfa3384\",\"@miniContentCode\":\"PC-SPECIAL-LOGO\",\"@startAt\":\"2023-07-17 00:00\",\"@endAt\":\"2023-07-17 23:59\",\"@createdAt\":\"2023-07-14T17:09:27.821\",\"@updatedAt\":\"2023-07-14T20:58:06.453\"}],\"_id\":\"6433d8e3a10d3006850274e8\",\"@type\":\"MINI-CONTENT-BLOCK\",\"@code\":\"CAS-MINICONTENT-PC-SPECIAL-LOGO\",\"@template\":\"NONE\",\"@flowId\":\"CAS-MINICONTENT\",\"@flowExecutionId\":\"1201eb04-23f1-11ee-917e-db3119de55ae\",\"@provider\":\"lambda\",\"@lastModifiedAt\":[2023,7,16,15,54,39,161000000]}\\n  \\n    window[\"EAGER-DATA\"][\"PC-MEDIA-WRAPPER\"] = {\"@type\":\"PC-MEDIA-CONTENTS-BLOCK\",\"blocks\":[{\"@type\":\"BLOCK\",\"blocks\":[{\"@type\":\"PC-NEWSSTAND-BLOCK\",\"blocks\":[{\"@type\":\"PC-NEWSSTAND-PRESS-BLOCK\",\"blocks\":null,\"materials\":null,\"excludeInPaging\":false,\"positionForPaging\":0,\"realtime\":false,\"pid\":\"907\",\"name\":\"경북매일신문\",\"logoLight\":{\"url\":\"https://s.pstatic.net/static/newsstand/2020/logo/light/0604/907.png\"},\"logoDark\":{\"url\":\"https://s.pstatic.net/static/newsstand/2020/logo/dark/0604/907.png\"},\"showThumbnailView\":true,\"showListView\":true,\"regDate\":\"20230717 00:40:20\",\"_id\":null,\"@type\":\"PC-NEWSSTAND-PRESS-BLOCK\",\"@code\":null,\"@template\":\"NONE\",\"@flowId\":null,\"@flowExecutionId\":null,\"@provider\":null,\"@lastModifiedAt\":null},{\"@type\":\"PC-NEWSSTAND-PRESS-BLOCK\",\"blocks\":null,\"materials\":null,\"excludeInPaging\":false,\"positionForPaging\":0,\"realtime\":false,\"pid\":\"908\",\"name\":\"국방일보\",\"logoLight\":{\"url\":\"https://s.pstatic.net/static/newsstand/2020/logo/light/0604/908.png\"},\"logoDark\":{\"url\":\"https://s.pstatic.net/static/newsstand/2020/logo/dark/0604/908.png\"},\"showThumbnailView\":true,\"showListView\":true,\"regDate\":\"20230716 17:40:43\",\"_id\":null,\"@type\":\"PC-NEWSSTAND-PRESS-BLOCK\",\"@code\":null,\"@template\":\"NONE\",\"@flowId\":null,\"@flowExecutionId\":null,\"@provider\":null,\"@lastModifiedAt\":null},{\"@type\":\"PC-NEWSSTAND-PRESS-BLOCK\",\"blocks\":null,\"materials\":null,\"excludeInPaging\":false,\"positionForPaging\":0,\"realtime\":false,\"pid\":\"909\",\"name\":\"기호일보\",\"logoLight\":{\"url\":\"https://s.pstatic.net/static/newsstand/2020/logo/light/0604/909.png\"},\"logoDark\":{\"url\":\"https://s.pstatic.net/static/newsstand/2020/logo/dark/0604/909.png\"},\"showThumbnailView\":true,\"showListView\":true,\"regDate\":\"20230716 19:12:36\",\"_id\":null,\"@type\":\"PC-NEWSSTAND-PRESS-BLOCK\",\"@code\":null,\"@template\":\"NONE\",\"@flowId\":null,\"@flowExecutionId\":null,\"@provider\":null,\"@lastModifiedAt\":null},{\"@type\":\"PC-NEWSSTAND-PRESS-BLOCK\",\"blocks\":null,\"materials\":null,\"excludeInPaging\":false,\"positionForPaging\":0,\"realtime\":false,\"pid\":\"353\",\"name\":\"중앙SUNDAY\",\"logoLight\":{\"url\":\"https://s.pstatic.net/static/newsstand/2020/logo/light/0604/353.png\"},\"logoDark\":{\"url\":\"https://s.pstatic.net/static/newsstand/2020/logo/dark/0604/353.png\"},\"showThumbnailView\":true,\"showListView\":true,\"regDate\":\"20230715 06:51:19\",\"_id\":null,\"@type\":\"PC-NEWSSTAND-PRESS-BLOCK\",\"@code\":null,\"@template\":\"NONE\",\"@flowId\":null,\"@flowExecutionId\":null,\"@provider\":null,\"@lastModifiedAt\":null},{\"@type\":\"PC-NEWSSTAND-PRESS-BLOCK\",\"blocks\":null,\"materials\":null,\"excludeInPaging\":false,\"positionForPaging\":0,\"realtime\":false,\"pid\":\"354\",\"name\":\"엘르\",\"logoLight\":{\"url\":\"https://s.pstatic.net/static/newsstand/2020/logo/light/0604/354.png\"},\"logoDark\":{\"url\":\"https://s.pstatic.net/static/newsstand/2020/logo/dark/0604/354.png\"},\"showThumbnailView\":true,\"showListView\":true,\"regDate\":\"20230717 00:00:00\",\"_id\":null,\"@type\":\"PC-NEWSSTAND-PRESS-BLOCK\",\"@code\":null,\"@template\":\"NONE\",\"@flowId\":null,\"@flowExecutionId\":null,\"@provider\":null,\"@lastModifiedAt\":null},{\"@type\":\"PC-NEWSSTAND-PRESS-BLOCK\",\"blocks\":null,\"materials\":null,\"excludeInPaging\":false,\"positionForPaging\":0,\"realtime\":false,\"pid\":\"355\",\"name\":\"사이언스타임즈\",\"logoLight\":{\"url\":\"https://s.pstatic.net/static/newsstand/2020/logo/light/0604/355.png\"},\"logoDark\":{\"url\":\"https://s.pstatic.net/static/newsstand/2020/logo/dark/0604/355.png\"},\"showThumbnailView\":true,\"showListView\":true,\"regDate\":\"20230714 10:41:16\",\"_id\":null,\"@type\":\"PC-NEWSSTAND-PRESS-BLOCK\",\"@code\":null,\"@template\":\"NONE\",\"@flowId\":null,\"@flowExecutionId\":null,\"@provider\":null,\"@lastModifiedAt\":null},{\"@type\":\"PC-NEWSSTAND-PRESS-BLOCK\",\"blocks\":null,\"materials\":null,\"excludeInPaging\":false,\"positionForPaging\":0,\"realtime\":false,\"pid\":\"356\",\"name\":\"게임메카\",\"logoLight\":{\"url\":\"https://s.pstatic.net/static/newsstand/2020/logo/light/0604/356.png\"},\"logoDark\":{\"url\":\"https://s.pstatic.net/static/newsstand/2020/logo/dark/0604/356.png\"},\"showThumbnailView\":true,\"showListView\":true,\"regDate\":\"20230716 18:34:31\",\"_id\":null,\"@type\":\"PC-NEWSSTAND-PRESS-BLOCK\",\"@code\":null,\"@template\":\"NONE\",\"@flowId\":null,\"@flowExecutionId\":null,\"@provider\":null,\"@lastModifiedAt\":null},{\"@type\":\"PC-NEWSSTAND-PRESS-BLOCK\",\"blocks\":null,\"materials\":null,\"excludeInPaging\":false,\"positionForPaging\":0,\"realtime\":false,\"pid\":\"477\",\"name\":\"스포티비뉴스\",\"logoLight\":{\"url\":\"https://s.pstatic.net/static/newsstand/up/2021/1130/nsd10159718.png\"},\"logoDark\":{\"url\":\"https://s.pstatic.net/static/newsstand/up/2021/1130/nsd101536636.png\"},\"showThumbnailView\":true,\"showListView\":true,\"regDate\":\"20230717 00:40:10\",\"_id\":null,\"@type\":\"PC-NEWSSTAND-PRESS-BLOCK\",\"@code\":null,\"@template\":\"NONE\",\"@flowId\":null,\"@flowExecutionId\":null,\"@provider\":null,\"@lastModifiedAt\":null},{\"@type\":\"PC-NEWSSTAND-PRESS-BLOCK\",\"blocks\":null,\"materials\":null,\"excludeInPaging\":false,\"positionForPaging\":0,\"realtime\":false,\"pid\":\"117\",\"name\":\"마이데일리\",\"logoLight\":{\"url\":\"https://s.pstatic.net/static/newsstand/2020/logo/light/0604/117.png\"},\"logoDark\":{\"url\":\"https://s.pstatic.net/static/newsstand/2020/logo/dark/0604/117.png\"},\"showThumbnailView\":true,\"showListView\":true,\"regDate\":\"20230714 16:00:03\",\"_id\":null,\"@type\":\"PC-NEWSSTAND-PRESS-BLOCK\",\"@code\":null,\"@template\":\"NONE\",\"@flowId\":null,\"@flowExecutionId\":null,\"@provider\":null,\"@lastModifiedAt\":null},{\"@type\":\"PC-NEWSSTAND-PRESS-BLOCK\",\"blocks\":null,\"materials\":null,\"excludeInPaging\":false,\"positionForPaging\":0,\"realtime\":false,\"pid\":\"910\",\"name\":\"넥스트데일리\",\"logoLight\":{\"url\":\"https://s.pstatic.net/static/newsstand/2020/logo/light/0604/910.png\"},\"logoDark\":{\"url\":\"https://s.pstatic.net/static/newsstand/2020/logo/dark/0604/910.png\"},\"showThumbnailView\":true,\"showListView\":true,\"regDate\":\"20230717 00:40:39\",\"_id\":null,\"@type\":\"PC-NEWSSTAND-PRESS-BLOCK\",\"@code\":null,\"@template\":\"NONE\",\"@flowId\":null,\"@flowExecutionId\":null,\"@provider\":null,\"@lastModifiedAt\":null},{\"@type\":\"PC-NEWSSTAND-PRESS-BLOCK\",\"blocks\":null,\"materials\":null,\"excludeInPaging\":false,\"positionForPaging\":0,\"realtime\":false,\"pid\":\"911\",\"name\":\"농민신문\",\"logoLight\":{\"url\":\"https://s.pstatic.net/static/newsstand/2020/logo/light/0604/911.png\"},\"logoDark\":{\"url\":\"https://s.pstatic.net/static/newsstand/2020/logo/dark/0604/911.png\"},\"showThumbnailView\":true,\"showListView\":true,\"regDate\":\"20230714 07:00:02\",\"_id\":null,\"@type\":\"PC-NEWSSTAND-PRESS-BLOCK\",\"@code\":null,\"@template\":\"NONE\",\"@flowId\":null,\"@flowExecutionId\":null,\"@provider\":null,\"@lastModifiedAt\":null},{\"@type\":\"PC-NEWSSTAND-PRESS-BLOCK\",\"blocks\":null,\"materials\":null,\"excludeInPaging\":false,\"positionForPaging\":0,\"realtime\":false,\"pid\":\"913\",\"name\":\"뉴스토마토\",\"logoLight\":{\"url\":\"https://s.pstatic.net/static/newsstand/2020/logo/light/0604/913.png\"},\"logoDark\":{\"url\":\"https://s.pstatic.net/static/newsstand/2020/logo/dark/0604/913.png\"},\"showThumbnailView\":true,\"showListView\":true,\"regDate\":\"20230717 00:50:12\",\"_id\":null,\"@type\":\"PC-NEWSSTAND-PRESS-BLOCK\",\"@code\":null,\"@template\":\"NONE\",\"@flowId\":null,\"@flowExecutionId\":null,\"@provider\":null,\"@lastModifiedAt\":null},{\"@type\":\"PC-NEWSSTAND-PRESS-BLOCK\",\"blocks\":null,\"materials\":null,\"excludeInPaging\":false,\"positionForPaging\":0,\"realtime\":false,\"pid\":\"914\",\"name\":\"뉴스핌\",\"logoLight\":{\"url\":\"https://s.pstatic.net/static/newsstand/2020/logo/light/0604/914.png\"},\"logoDark\":{\"url\":\"https://s.pstatic.net/static/newsstand/2020/logo/dark/0604/914.png\"},\"showThumbnailView\":true,\"showListView\":true,\"regDate\":\"20230717 00:50:59\",\"_id\":null,\"@type\":\"PC-NEWSSTAND-PRESS-BLOCK\",\"@code\":null,\"@template\":\"NONE\",\"@flowId\":null,\"@flowExecutionId\":null,\"@provider\":null,\"@lastModifiedAt\":null},{\"@type\":\"PC-NEWSSTAND-PRESS-BLOCK\",\"blocks\":null,\"materials\":null,\"excludeInPaging\":false,\"positionForPaging\":0,\"realtime\":false,\"pid\":\"915\",\"name\":\"르몽드 디플로마티크\",\"logoLight\":{\"url\":\"https://s.pstatic.net/static/newsstand/2020/logo/light/0604/915.png\"},\"logoDark\":{\"url\":\"https://s.pstatic.net/static/newsstand/2020/logo/dark/0604/915.png\"},\"showThumbnailView\":true,\"showListView\":true,\"regDate\":\"20230714 11:54:12\",\"_id\":null,\"@type\":\"PC-NEWSSTAND-PRESS-BLOCK\",\"@code\":null,\"@template\":\"NONE\",\"@flowId\":null,\"@flowExecutionId\":null,\"@provider\":null,\"@lastModifiedAt\":null},{\"@type\":\"PC-NEWSSTAND-PRESS-BLOCK\",\"blocks\":null,\"materials\":null,\"excludeInPaging\":false,\"positionForPaging\":0,\"realtime\":false,\"pid\":\"916\",\"name\":\"머니투데이방송\",\"logoLight\":{\"url\":\"https://s.pstatic.net/static/newsstand/up/2021/0420/nsd105139164.png\"},\"logoDark\":{\"url\":\"https://s.pstatic.net/static/newsstand/up/2021/0420/nsd104943516.png\"},\"showThumbnailView\":true,\"showListView\":true,\"regDate\":\"20230716 14:53:58\",\"_id\":null,\"@type\":\"PC-NEWSSTAND-PRESS-BLOCK\",\"@code\":null,\"@template\":\"NONE\",\"@flowId\":null,\"@flowExecutionId\":null,\"@provider\":null,\"@lastModifiedAt\":null},{\"@type\":\"PC-NEWSSTAND-PRESS-BLOCK\",\"blocks\":null,\"materials\":null,\"excludeInPaging\":false,\"positionForPaging\":0,\"realtime\":false,\"pid\":\"917\",\"name\":\"IT조선\",\"logoLight\":{\"url\":\"https://s.pstatic.net/static/newsstand/2020/logo/light/0604/917.png\"},\"logoDark\":{\"url\":\"https://s.pstatic.net/static/newsstand/2020/logo/dark/0604/917.png\"},\"showThumbnailView\":true,\"showListView\":true,\"regDate\":\"20230716 17:58:55\",\"_id\":null,\"@type\":\"PC-NEWSSTAND-PRESS-BLOCK\",\"@code\":null,\"@template\":\"NONE\",\"@flowId\":null,\"@flowExecutionId\":null,\"@provider\":null,\"@lastModifiedAt\":null},{\"@type\":\"PC-NEWSSTAND-PRESS-BLOCK\",\"blocks\":null,\"materials\":null,\"excludeInPaging\":false,\"positionForPaging\":0,\"realtime\":false,\"pid\":\"361\",\"name\":\"채널예스\",\"logoLight\":{\"url\":\"https://s.pstatic.net/static/newsstand/up/2023/0418/nsd124959421.png\"},\"logoDark\":{\"url\":\"https://s.pstatic.net/static/newsstand/up/2023/0418/nsd124945796.png\"},\"showThumbnailView\":true,\"showListView\":true,\"regDate\":\"20230717 00:40:46\",\"_id\":null,\"@type\":\"PC-NEWSSTAND-PRESS-BLOCK\",\"@code\":null,\"@template\":\"NONE\",\"@flowId\":null,\"@flowExecutionId\":null,\"@provider\":null,\"@lastModifiedAt\":null},{\"@type\":\"PC-NEWSSTAND-PRESS-BLOCK\",\"blocks\":null,\"materials\":null,\"excludeInPaging\":false,\"positionForPaging\":0,\"realtime\":false,\"pid\":\"120\",\"name\":\"EBN\",\"logoLight\":{\"url\":\"https://s.pstatic.net/static/newsstand/2020/logo/light/0604/120.png\"},\"logoDark\":{\"url\":\"https://s.pstatic.net/static/newsstand/2020/logo/dark/0604/120.png\"},\"showThumbnailView\":true,\"showListView\":true,\"regDate\":\"20230716 12:23:43\",\"_id\":null,\"@type\":\"PC-NEWSSTAND-PRESS-BLOCK\",\"@code\":null,\"@template\":\"NONE\",\"@flowId\":null,\"@flowExecutionId\":null,\"@provider\":null,\"@lastModifiedAt\":null},{\"@type\":\"PC-NEWSSTAND-PRESS-BLOCK\",\"blocks\":null,\"materials\":null,\"excludeInPaging\":false,\"positionForPaging\":0,\"realtime\":false,\"pid\":\"241\",\"name\":\"일간스포츠\",\"logoLight\":{\"url\":\"https://s.pstatic.net/static/newsstand/up/2023/0112/nsd92558162.png\"},\"logoDark\":{\"url\":\"https://s.pstatic.net/static/newsstand/2020/logo/dark/0604/241.png\"},\"showThumbnailView\":true,\"showListView\":true,\"regDate\":\"20230716 16:57:16\",\"_id\":null,\"@type\":\"PC-NEWSSTAND-PRESS-BLOCK\",\"@code\":null,\"@template\":\"NONE\",\"@flowId\":null,\"@flowExecutionId\":null,\"@provider\":null,\"@lastModifiedAt\":null},{\"@type\":\"PC-NEWSSTAND-PRESS-BLOCK\",\"blocks\":null,\"materials\":null,\"excludeInPaging\":false,\"positionForPaging\":0,\"realtime\":false,\"pid\":\"363\",\"name\":\"동아사이언스\",\"logoLight\":{\"url\":\"https://s.pstatic.net/static/newsstand/2020/logo/light/0604/363.png\"},\"logoDark\":{\"url\":\"https://s.pstatic.net/static/newsstand/2020/logo/dark/0604/363.png\"},\"showThumbnailView\":true,\"showListView\":true,\"regDate\":\"20230712 17:59:20\",\"_id\":null,\"@type\":\"PC-NEWSSTAND-PRESS-BLOCK\",\"@code\":null,\"@template\":\"NONE\",\"@flowId\":null,\"@flowExecutionId\":null,\"@provider\":null,\"@lastModifiedAt\":null},{\"@type\":\"PC-NEWSSTAND-PRESS-BLOCK\",\"blocks\":null,\"materials\":null,\"excludeInPaging\":false,\"positionForPaging\":0,\"realtime\":false,\"pid\":\"122\",\"name\":\"법률신문\",\"logoLight\":{\"url\":\"https://s.pstatic.net/static/newsstand/up/2022/1103/nsd124326426.png\"},\"logoDark\":{\"url\":\"https://s.pstatic.net/static/newsstand/up/2022/1103/nsd124320554.png\"},\"showThumbnailView\":true,\"showListView\":true,\"regDate\":\"20230716 21:21:50\",\"_id\":null,\"@type\":\"PC-NEWSSTAND-PRESS-BLOCK\",\"@code\":null,\"@template\":\"NONE\",\"@flowId\":null,\"@flowExecutionId\":null,\"@provider\":null,\"@lastModifiedAt\":null},{\"@type\":\"PC-NEWSSTAND-PRESS-BLOCK\",\"blocks\":null,\"materials\":null,\"excludeInPaging\":false,\"positionForPaging\":0,\"realtime\":false,\"pid\":\"243\",\"name\":\"이코노미스트\",\"logoLight\":{\"url\":\"https://s.pstatic.net/static/newsstand/2020/logo/light/0604/243.png\"},\"logoDark\":{\"url\":\"https://s.pstatic.net/static/newsstand/2020/logo/dark/0604/243.png\"},\"showThumbnailView\":true,\"showListView\":true,\"regDate\":\"20230716 18:14:25\",\"_id\":null,\"@type\":\"PC-NEWSSTAND-PRESS-BLOCK\",\"@code\":null,\"@template\":\"NONE\",\"@flowId\":null,\"@flowExecutionId\":null,\"@provider\":null,\"@lastModifiedAt\":null},{\"@type\":\"PC-NEWSSTAND-PRESS-BLOCK\",\"blocks\":null,\"materials\":null,\"excludeInPaging\":false,\"positionForPaging\":0,\"realtime\":false,\"pid\":\"364\",\"name\":\"PC사랑\",\"logoLight\":{\"url\":\"https://s.pstatic.net/static/newsstand/2020/logo/light/0604/364.png\"},\"logoDark\":{\"url\":\"https://s.pstatic.net/static/newsstand/2020/logo/dark/0604/364.png\"},\"showThumbnailView\":true,\"showListView\":true,\"regDate\":\"20230713 09:58:00\",\"_id\":null,\"@type\":\"PC-NEWSSTAND-PRESS-BLOCK\",\"@code\":null,\"@template\":\"NONE\",\"@flowId\":null,\"@flowExecutionId\":null,\"@provider\":null,\"@lastModifiedAt\":null},{\"@type\":\"PC-NEWSSTAND-PRESS-BLOCK\",\"blocks\":null,\"materials\":null,\"excludeInPaging\":false,\"positionForPaging\":0,\"realtime\":false,\"pid\":\"002\",\"name\":\"프레시안\",\"logoLight\":{\"url\":\"https://s.pstatic.net/static/newsstand/2020/logo/light/0604/002.png\"},\"logoDark\":{\"url\":\"https://s.pstatic.net/static/newsstand/2020/logo/dark/0604/002.png\"},\"showThumbnailView\":true,\"showListView\":true,\"regDate\":\"20230716 18:33:42\",\"_id\":null,\"@type\":\"PC-NEWSSTAND-PRESS-BLOCK\",\"@code\":null,\"@template\":\"NONE\",\"@flowId\":null,\"@flowExecutionId\":null,\"@provider\":null,\"@lastModifiedAt\":null},{\"@type\":\"PC-NEWSSTAND-PRESS-BLOCK\",\"blocks\":null,\"materials\":null,\"excludeInPaging\":false,\"positionForPaging\":0,\"realtime\":false,\"pid\":\"123\",\"name\":\"조세일보\",\"logoLight\":{\"url\":\"https://s.pstatic.net/static/newsstand/2020/logo/light/0604/123.png\"},\"logoDark\":{\"url\":\"https://s.pstatic.net/static/newsstand/2020/logo/dark/0604/123.png\"},\"showThumbnailView\":true,\"showListView\":true,\"regDate\":\"20230716 16:01:44\",\"_id\":null,\"@type\":\"PC-NEWSSTAND-PRESS-BLOCK\",\"@code\":null,\"@template\":\"NONE\",\"@flowId\":null,\"@flowExecutionId\":null,\"@provider\":null,\"@lastModifiedAt\":null},{\"@type\":\"PC-NEWSSTAND-PRESS-BLOCK\",\"blocks\":null,\"materials\":null,\"excludeInPaging\":false,\"positionForPaging\":0,\"realtime\":false,\"pid\":\"003\",\"name\":\"뉴시스\",\"logoLight\":{\"url\":\"https://s.pstatic.net/static/newsstand/2020/logo/light/0604/003.png\"},\"logoDark\":{\"url\":\"https://s.pstatic.net/static/newsstand/2020/logo/dark/0604/003.png\"},\"showThumbnailView\":true,\"showListView\":true,\"regDate\":\"20230716 21:24:36\",\"_id\":null,\"@type\":\"PC-NEWSSTAND-PRESS-BLOCK\",\"@code\":null,\"@template\":\"NONE\",\"@flowId\":null,\"@flowExecutionId\":null,\"@provider\":null,\"@lastModifiedAt\":null},{\"@type\":\"PC-NEWSSTAND-PRESS-BLOCK\",\"blocks\":null,\"materials\":null,\"excludeInPaging\":false,\"positionForPaging\":0,\"realtime\":false,\"pid\":\"366\",\"name\":\"조선비즈\",\"logoLight\":{\"url\":\"https://s.pstatic.net/static/newsstand/2020/logo/light/0604/366.png\"},\"logoDark\":{\"url\":\"https://s.pstatic.net/static/newsstand/2020/logo/dark/0604/366.png\"},\"showThumbnailView\":true,\"showListView\":true,\"regDate\":\"20230716 23:50:40\",\"_id\":null,\"@type\":\"PC-NEWSSTAND-PRESS-BLOCK\",\"@code\":null,\"@template\":\"NONE\",\"@flowId\":null,\"@flowExecutionId\":null,\"@provider\":null,\"@lastModifiedAt\":null},{\"@type\":\"PC-NEWSSTAND-PRESS-BLOCK\",\"blocks\":null,\"materials\":null,\"excludeInPaging\":false,\"positionForPaging\":0,\"realtime\":false,\"pid\":\"005\",\"name\":\"국민일보\",\"logoLight\":{\"url\":\"https://s.pstatic.net/static/newsstand/2020/logo/light/0604/005.png\"},\"logoDark\":{\"url\":\"https://s.pstatic.net/static/newsstand/2020/logo/dark/0604/005.png\"},\"showThumbnailView\":true,\"showListView\":true,\"regDate\":\"20230716 22:56:31\",\"_id\":null,\"@type\":\"PC-NEWSSTAND-PRESS-BLOCK\",\"@code\":null,\"@template\":\"NONE\",\"@flowId\":null,\"@flowExecutionId\":null,\"@provider\":null,\"@lastModifiedAt\":null},{\"@type\":\"PC-NEWSSTAND-PRESS-BLOCK\",\"blocks\":null,\"materials\":null,\"excludeInPaging\":false,\"positionForPaging\":0,\"realtime\":false,\"pid\":\"368\",\"name\":\"데일리안\",\"logoLight\":{\"url\":\"https://s.pstatic.net/static/newsstand/2020/logo/light/0604/368.png\"},\"logoDark\":{\"url\":\"https://s.pstatic.net/static/newsstand/2020/logo/dark/0604/368.png\"},\"showThumbnailView\":true,\"showListView\":true,\"regDate\":\"20230717 00:37:25\",\"_id\":null,\"@type\":\"PC-NEWSSTAND-PRESS-BLOCK\",\"@code\":null,\"@template\":\"NONE\",\"@flowId\":null,\"@flowExecutionId\":null,\"@provider\":null,\"@lastModifiedAt\":null},{\"@type\":\"PC-NEWSSTAND-PRESS-BLOCK\",\"blocks\":null,\"materials\":null,\"excludeInPaging\":false,\"positionForPaging\":0,\"realtime\":false,\"pid\":\"006\",\"name\":\"미디어오늘\",\"logoLight\":{\"url\":\"https://s.pstatic.net/static/newsstand/2020/logo/light/0604/006.png\"},\"logoDark\":{\"url\":\"https://s.pstatic.net/static/newsstand/2020/logo/dark/0604/006.png\"},\"showThumbnailView\":true,\"showListView\":true,\"regDate\":\"20230717 00:45:02\",\"_id\":null,\"@type\":\"PC-NEWSSTAND-PRESS-BLOCK\",\"@code\":null,\"@template\":\"NONE\",\"@flowId\":null,\"@flowExecutionId\":null,\"@provider\":null,\"@lastModifiedAt\":null},{\"@type\":\"PC-NEWSSTAND-PRESS-BLOCK\",\"blocks\":null,\"materials\":null,\"excludeInPaging\":false,\"positionForPaging\":0,\"realtime\":false,\"pid\":\"920\",\"name\":\"아시아투데이\",\"logoLight\":{\"url\":\"https://s.pstatic.net/static/newsstand/2020/logo/light/0604/920.png\"},\"logoDark\":{\"url\":\"https://s.pstatic.net/static/newsstand/2020/logo/dark/0604/920.png\"},\"showThumbnailView\":true,\"showListView\":true,\"regDate\":\"20230716 22:43:22\",\"_id\":null,\"@type\":\"PC-NEWSSTAND-PRESS-BLOCK\",\"@code\":null,\"@template\":\"NONE\",\"@flowId\":null,\"@flowExecutionId\":null,\"@provider\":null,\"@lastModifiedAt\":null},{\"@type\":\"PC-NEWSSTAND-PRESS-BLOCK\",\"blocks\":null,\"materials\":null,\"excludeInPaging\":false,\"positionForPaging\":0,\"realtime\":false,\"pid\":\"008\",\"name\":\"머니투데이\",\"logoLight\":{\"url\":\"https://s.pstatic.net/static/newsstand/2020/logo/light/0604/008.png\"},\"logoDark\":{\"url\":\"https://s.pstatic.net/static/newsstand/2020/logo/dark/0604/008.png\"},\"showThumbnailView\":true,\"showListView\":true,\"regDate\":\"20230717 00:45:05\",\"_id\":null,\"@type\":\"PC-NEWSSTAND-PRESS-BLOCK\",\"@code\":null,\"@template\":\"NONE\",\"@flowId\":null,\"@flowExecutionId\":null,\"@provider\":null,\"@lastModifiedAt\":null},{\"@type\":\"PC-NEWSSTAND-PRESS-BLOCK\",\"blocks\":null,\"materials\":null,\"excludeInPaging\":false,\"positionForPaging\":0,\"realtime\":false,\"pid\":\"921\",\"name\":\"아주경제\",\"logoLight\":{\"url\":\"https://s.pstatic.net/static/newsstand/2020/logo/light/0604/921.png\"},\"logoDark\":{\"url\":\"https://s.pstatic.net/static/newsstand/2020/logo/dark/0604/921.png\"},\"showThumbnailView\":true,\"showListView\":true,\"regDate\":\"20230717 00:50:01\",\"_id\":null,\"@type\":\"PC-NEWSSTAND-PRESS-BLOCK\",\"@code\":null,\"@template\":\"NONE\",\"@flowId\":null,\"@flowExecutionId\":null,\"@provider\":null,\"@lastModifiedAt\":null},{\"@type\":\"PC-NEWSSTAND-PRESS-BLOCK\",\"blocks\":null,\"materials\":null,\"excludeInPaging\":false,\"positionForPaging\":0,\"realtime\":false,\"pid\":\"009\",\"name\":\"매일경제\",\"logoLight\":{\"url\":\"https://s.pstatic.net/static/newsstand/2020/logo/light/0604/009.png\"},\"logoDark\":{\"url\":\"https://s.pstatic.net/static/newsstand/2020/logo/dark/0604/009.png\"},\"showThumbnailView\":true,\"showListView\":true,\"regDate\":\"20230717 00:51:25\",\"_id\":null,\"@type\":\"PC-NEWSSTAND-PRESS-BLOCK\",\"@code\":null,\"@template\":\"NONE\",\"@flowId\":null,\"@flowExecutionId\":null,\"@provider\":null,\"@lastModifiedAt\":null},{\"@type\":\"PC-NEWSSTAND-PRESS-BLOCK\",\"blocks\":null,\"materials\":null,\"excludeInPaging\":false,\"positionForPaging\":0,\"realtime\":false,\"pid\":\"801\",\"name\":\"위키리크스한국\",\"logoLight\":{\"url\":\"https://s.pstatic.net/static/newsstand/2020/logo/light/0604/801.png\"},\"logoDark\":{\"url\":\"https://s.pstatic.net/static/newsstand/2020/logo/dark/0604/801.png\"},\"showThumbnailView\":true,\"showListView\":true,\"regDate\":\"20230717 00:40:14\",\"_id\":null,\"@type\":\"PC-NEWSSTAND-PRESS-BLOCK\",\"@code\":null,\"@template\":\"NONE\",\"@flowId\":null,\"@flowExecutionId\":null,\"@provider\":null,\"@lastModifiedAt\":null},{\"@type\":\"PC-NEWSSTAND-PRESS-BLOCK\",\"blocks\":null,\"materials\":null,\"excludeInPaging\":false,\"positionForPaging\":0,\"realtime\":false,\"pid\":\"922\",\"name\":\"이투데이\",\"logoLight\":{\"url\":\"https://s.pstatic.net/static/newsstand/2020/logo/light/0604/922.png\"},\"logoDark\":{\"url\":\"https://s.pstatic.net/static/newsstand/2020/logo/dark/0604/922.png\"},\"showThumbnailView\":true,\"showListView\":true,\"regDate\":\"20230716 21:58:46\",\"_id\":null,\"@type\":\"PC-NEWSSTAND-PRESS-BLOCK\",\"@code\":null,\"@template\":\"NONE\",\"@flowId\":null,\"@flowExecutionId\":null,\"@provider\":null,\"@lastModifiedAt\":null},{\"@type\":\"PC-NEWSSTAND-PRESS-BLOCK\",\"blocks\":null,\"materials\":null,\"excludeInPaging\":false,\"positionForPaging\":0,\"realtime\":false,\"pid\":\"802\",\"name\":\"스포츠Q\",\"logoLight\":{\"url\":\"https://s.pstatic.net/static/newsstand/2020/logo/light/0604/802.png\"},\"logoDark\":{\"url\":\"https://s.pstatic.net/static/newsstand/2020/logo/dark/0604/802.png\"},\"showThumbnailView\":true,\"showListView\":true,\"regDate\":\"20230717 00:40:15\",\"_id\":null,\"@type\":\"PC-NEWSSTAND-PRESS-BLOCK\",\"@code\":null,\"@template\":\"NONE\",\"@flowId\":null,\"@flowExecutionId\":null,\"@provider\":null,\"@lastModifiedAt\":null},{\"@type\":\"PC-NEWSSTAND-PRESS-BLOCK\",\"blocks\":null,\"materials\":null,\"excludeInPaging\":false,\"positionForPaging\":0,\"realtime\":false,\"pid\":\"923\",\"name\":\"인민망\",\"logoLight\":{\"url\":\"https://s.pstatic.net/static/newsstand/2020/logo/light/0604/923.png\"},\"logoDark\":{\"url\":\"https://s.pstatic.net/static/newsstand/2020/logo/dark/0604/923.png\"},\"showThumbnailView\":true,\"showListView\":true,\"regDate\":\"20230712 15:30:04\",\"_id\":null,\"@type\":\"PC-NEWSSTAND-PRESS-BLOCK\",\"@code\":null,\"@template\":\"NONE\",\"@flowId\":null,\"@flowExecutionId\":null,\"@provider\":null,\"@lastModifiedAt\":null},{\"@type\":\"PC-NEWSSTAND-PRESS-BLOCK\",\"blocks\":null,\"materials\":null,\"excludeInPaging\":false,\"positionForPaging\":0,\"realtime\":false,\"pid\":\"803\",\"name\":\"인더스트리뉴스\",\"logoLight\":{\"url\":\"https://s.pstatic.net/static/newsstand/up/2021/0907/nsd9423633.png\"},\"logoDark\":{\"url\":\"https://s.pstatic.net/static/newsstand/up/2021/0907/nsd94216114.png\"},\"showThumbnailView\":true,\"showListView\":true,\"regDate\":\"20230717 00:40:16\",\"_id\":null,\"@type\":\"PC-NEWSSTAND-PRESS-BLOCK\",\"@code\":null,\"@template\":\"NONE\",\"@flowId\":null,\"@flowExecutionId\":null,\"@provider\":null,\"@lastModifiedAt\":null},{\"@type\":\"PC-NEWSSTAND-PRESS-BLOCK\",\"blocks\":null,\"materials\":null,\"excludeInPaging\":false,\"positionForPaging\":0,\"realtime\":false,\"pid\":\"924\",\"name\":\"인벤\",\"logoLight\":{\"url\":\"https://s.pstatic.net/static/newsstand/2020/logo/light/0604/924.png\"},\"logoDark\":{\"url\":\"https://s.pstatic.net/static/newsstand/2020/logo/dark/0604/924.png\"},\"showThumbnailView\":true,\"showListView\":true,\"regDate\":\"20230716 04:28:10\",\"_id\":null,\"@type\":\"PC-NEWSSTAND-PRESS-BLOCK\",\"@code\":null,\"@template\":\"NONE\",\"@flowId\":null,\"@flowExecutionId\":null,\"@provider\":null,\"@lastModifiedAt\":null},{\"@type\":\"PC-NEWSSTAND-PRESS-BLOCK\",\"blocks\":null,\"materials\":null,\"excludeInPaging\":false,\"positionForPaging\":0,\"realtime\":false,\"pid\":\"804\",\"name\":\"데이터뉴스\",\"logoLight\":{\"url\":\"https://s.pstatic.net/static/newsstand/2020/logo/light/0604/804.png\"},\"logoDark\":{\"url\":\"https://s.pstatic.net/static/newsstand/2020/logo/dark/0604/804.png\"},\"showThumbnailView\":true,\"showListView\":true,\"regDate\":\"20230716 09:30:02\",\"_id\":null,\"@type\":\"PC-NEWSSTAND-PRESS-BLOCK\",\"@code\":null,\"@template\":\"NONE\",\"@flowId\":null,\"@flowExecutionId\":null,\"@provider\":null,\"@lastModifiedAt\":null},{\"@type\":\"PC-NEWSSTAND-PRESS-BLOCK\",\"blocks\":null,\"materials\":null,\"excludeInPaging\":false,\"positionForPaging\":0,\"realtime\":false,\"pid\":\"925\",\"name\":\"일요신문\",\"logoLight\":{\"url\":\"https://s.pstatic.net/static/newsstand/2020/logo/light/0604/925.png\"},\"logoDark\":{\"url\":\"https://s.pstatic.net/static/newsstand/2020/logo/dark/0604/925.png\"},\"showThumbnailView\":true,\"showListView\":true,\"regDate\":\"20230716 17:33:16\",\"_id\":null,\"@type\":\"PC-NEWSSTAND-PRESS-BLOCK\",\"@code\":null,\"@template\":\"NONE\",\"@flowId\":null,\"@flowExecutionId\":null,\"@provider\":null,\"@lastModifiedAt\":null},{\"@type\":\"PC-NEWSSTAND-PRESS-BLOCK\",\"blocks\":null,\"materials\":null,\"excludeInPaging\":false,\"positionForPaging\":0,\"realtime\":false,\"pid\":\"805\",\"name\":\"한경잡앤조이\",\"logoLight\":{\"url\":\"https://s.pstatic.net/static/newsstand/up/2020/0615/nsd10319824.png\"},\"logoDark\":{\"url\":\"https://s.pstatic.net/static/newsstand/up/2020/0615/nsd10311145.png\"},\"showThumbnailView\":true,\"showListView\":true,\"regDate\":\"20230713 10:12:50\",\"_id\":null,\"@type\":\"PC-NEWSSTAND-PRESS-BLOCK\",\"@code\":null,\"@template\":\"NONE\",\"@flowId\":null,\"@flowExecutionId\":null,\"@provider\":null,\"@lastModifiedAt\":null},{\"@type\":\"PC-NEWSSTAND-PRESS-BLOCK\",\"blocks\":null,\"materials\":null,\"excludeInPaging\":false,\"positionForPaging\":0,\"realtime\":false,\"pid\":\"926\",\"name\":\"중부일보\",\"logoLight\":{\"url\":\"https://s.pstatic.net/static/newsstand/up/2022/0704/nsd231551300.png\"},\"logoDark\":{\"url\":\"https://s.pstatic.net/static/newsstand/up/2022/0704/nsd231545458.png\"},\"showThumbnailView\":true,\"showListView\":true,\"regDate\":\"20230717 00:09:55\",\"_id\":null,\"@type\":\"PC-NEWSSTAND-PRESS-BLOCK\",\"@code\":null,\"@template\":\"NONE\",\"@flowId\":null,\"@flowExecutionId\":null,\"@provider\":null,\"@lastModifiedAt\":null},{\"@type\":\"PC-NEWSSTAND-PRESS-BLOCK\",\"blocks\":null,\"materials\":null,\"excludeInPaging\":false,\"positionForPaging\":0,\"realtime\":false,\"pid\":\"806\",\"name\":\"MONEY\",\"logoLight\":{\"url\":\"https://s.pstatic.net/static/newsstand/2020/logo/light/0604/806.png\"},\"logoDark\":{\"url\":\"https://s.pstatic.net/static/newsstand/2020/logo/dark/0604/806.png\"},\"showThumbnailView\":true,\"showListView\":true,\"regDate\":\"20230705 10:04:29\",\"_id\":null,\"@type\":\"PC-NEWSSTAND-PRESS-BLOCK\",\"@code\":null,\"@template\":\"NONE\",\"@flowId\":null,\"@flowExecutionId\":null,\"@provider\":null,\"@lastModifiedAt\":null},{\"@type\":\"PC-NEWSSTAND-PRESS-BLOCK\",\"blocks\":null,\"materials\":null,\"excludeInPaging\":false,\"positionForPaging\":0,\"realtime\":false,\"pid\":\"927\",\"name\":\"충북일보\",\"logoLight\":{\"url\":\"https://s.pstatic.net/static/newsstand/2020/logo/light/0604/927.png\"},\"logoDark\":{\"url\":\"https://s.pstatic.net/static/newsstand/2020/logo/dark/0604/927.png\"},\"showThumbnailView\":true,\"showListView\":true,\"regDate\":\"20230716 19:22:59\",\"_id\":null,\"@type\":\"PC-NEWSSTAND-PRESS-BLOCK\",\"@code\":null,\"@template\":\"NONE\",\"@flowId\":null,\"@flowExecutionId\":null,\"@provider\":null,\"@lastModifiedAt\":null},{\"@type\":\"PC-NEWSSTAND-PRESS-BLOCK\",\"blocks\":null,\"materials\":null,\"excludeInPaging\":false,\"positionForPaging\":0,\"realtime\":false,\"pid\":\"807\",\"name\":\"인사이트코리아\",\"logoLight\":{\"url\":\"https://s.pstatic.net/static/newsstand/2020/logo/light/0604/807.png\"},\"logoDark\":{\"url\":\"https://s.pstatic.net/static/newsstand/2020/logo/dark/0604/807.png\"},\"showThumbnailView\":true,\"showListView\":true,\"regDate\":\"20230717 00:40:19\",\"_id\":null,\"@type\":\"PC-NEWSSTAND-PRESS-BLOCK\",\"@code\":null,\"@template\":\"NONE\",\"@flowId\":null,\"@flowExecutionId\":null,\"@provider\":null,\"@lastModifiedAt\":null},{\"@type\":\"PC-NEWSSTAND-PRESS-BLOCK\",\"blocks\":null,\"materials\":null,\"excludeInPaging\":false,\"positionForPaging\":0,\"realtime\":false,\"pid\":\"928\",\"name\":\"컴퓨터월드\",\"logoLight\":{\"url\":\"https://s.pstatic.net/static/newsstand/2020/logo/light/0604/928.png\"},\"logoDark\":{\"url\":\"https://s.pstatic.net/static/newsstand/2020/logo/dark/0604/928.png\"},\"showThumbnailView\":true,\"showListView\":true,\"regDate\":\"20230630 14:10:07\",\"_id\":null,\"@type\":\"PC-NEWSSTAND-PRESS-BLOCK\",\"@code\":null,\"@template\":\"NONE\",\"@flowId\":null,\"@flowExecutionId\":null,\"@provider\":null,\"@lastModifiedAt\":null},{\"@type\":\"PC-NEWSSTAND-PRESS-BLOCK\",\"blocks\":null,\"materials\":null,\"excludeInPaging\":false,\"positionForPaging\":0,\"realtime\":false,\"pid\":\"808\",\"name\":\"산업일보\",\"logoLight\":{\"url\":\"https://s.pstatic.net/static/newsstand/2020/logo/light/0604/808.png\"},\"logoDark\":{\"url\":\"https://s.pstatic.net/static/newsstand/2020/logo/dark/0604/808.png\"},\"showThumbnailView\":true,\"showListView\":true,\"regDate\":\"20230717 00:51:02\",\"_id\":null,\"@type\":\"PC-NEWSSTAND-PRESS-BLOCK\",\"@code\":null,\"@template\":\"NONE\",\"@flowId\":null,\"@flowExecutionId\":null,\"@provider\":null,\"@lastModifiedAt\":null},{\"@type\":\"PC-NEWSSTAND-PRESS-BLOCK\",\"blocks\":null,\"materials\":null,\"excludeInPaging\":false,\"positionForPaging\":0,\"realtime\":false,\"pid\":\"809\",\"name\":\"미디어펜\",\"logoLight\":{\"url\":\"https://s.pstatic.net/static/newsstand/2020/logo/light/0604/809.png\"},\"logoDark\":{\"url\":\"https://s.pstatic.net/static/newsstand/2020/logo/dark/0604/809.png\"},\"showThumbnailView\":true,\"showListView\":true,\"regDate\":\"20230715 14:41:30\",\"_id\":null,\"@type\":\"PC-NEWSSTAND-PRESS-BLOCK\",\"@code\":null,\"@template\":\"NONE\",\"@flowId\":null,\"@flowExecutionId\":null,\"@provider\":null,\"@lastModifiedAt\":null},{\"@type\":\"PC-NEWSSTAND-PRESS-BLOCK\",\"blocks\":null,\"materials\":null,\"excludeInPaging\":false,\"positionForPaging\":0,\"realtime\":false,\"pid\":\"011\",\"name\":\"서울경제\",\"logoLight\":{\"url\":\"https://s.pstatic.net/static/newsstand/2019/logo/011.png\"},\"logoDark\":{\"url\":\"https://s.pstatic.net/static/newsstand/2020/logo/dark/0604/011.png\"},\"showThumbnailView\":true,\"showListView\":true,\"regDate\":\"20230716 22:58:20\",\"_id\":null,\"@type\":\"PC-NEWSSTAND-PRESS-BLOCK\",\"@code\":null,\"@template\":\"NONE\",\"@flowId\":null,\"@flowExecutionId\":null,\"@provider\":null,\"@lastModifiedAt\":null},{\"@type\":\"PC-NEWSSTAND-PRESS-BLOCK\",\"blocks\":null,\"materials\":null,\"excludeInPaging\":false,\"positionForPaging\":0,\"realtime\":false,\"pid\":\"374\",\"name\":\"SBS Biz\",\"logoLight\":{\"url\":\"https://s.pstatic.net/static/newsstand/up/2020/1229/nsd165811867.png\"},\"logoDark\":{\"url\":\"https://s.pstatic.net/static/newsstand/up/2020/1229/nsd165811867.png\"},\"showThumbnailView\":true,\"showListView\":true,\"regDate\":\"20230716 20:57:32\",\"_id\":null,\"@type\":\"PC-NEWSSTAND-PRESS-BLOCK\",\"@code\":null,\"@template\":\"NONE\",\"@flowId\":null,\"@flowExecutionId\":null,\"@provider\":null,\"@lastModifiedAt\":null},{\"@type\":\"PC-NEWSSTAND-PRESS-BLOCK\",\"blocks\":null,\"materials\":null,\"excludeInPaging\":false,\"positionForPaging\":0,\"realtime\":false,\"pid\":\"013\",\"name\":\"연합인포맥스\",\"logoLight\":{\"url\":\"https://s.pstatic.net/static/newsstand/2020/logo/light/0604/013.png\"},\"logoDark\":{\"url\":\"https://s.pstatic.net/static/newsstand/2020/logo/dark/0604/013.png\"},\"showThumbnailView\":true,\"showListView\":true,\"regDate\":\"20230717 00:40:48\",\"_id\":null,\"@type\":\"PC-NEWSSTAND-PRESS-BLOCK\",\"@code\":null,\"@template\":\"NONE\",\"@flowId\":null,\"@flowExecutionId\":null,\"@provider\":null,\"@lastModifiedAt\":null},{\"@type\":\"PC-NEWSSTAND-PRESS-BLOCK\",\"blocks\":null,\"materials\":null,\"excludeInPaging\":false,\"positionForPaging\":0,\"realtime\":false,\"pid\":\"376\",\"name\":\"지지통신\",\"logoLight\":{\"url\":\"https://s.pstatic.net/static/newsstand/2020/logo/light/0604/376.png\"},\"logoDark\":{\"url\":\"https://s.pstatic.net/static/newsstand/2020/logo/dark/0604/376.png\"},\"showThumbnailView\":true,\"showListView\":true,\"regDate\":\"20230717 00:10:02\",\"_id\":null,\"@type\":\"PC-NEWSSTAND-PRESS-BLOCK\",\"@code\":null,\"@template\":\"NONE\",\"@flowId\":null,\"@flowExecutionId\":null,\"@provider\":null,\"@lastModifiedAt\":null},{\"@type\":\"PC-NEWSSTAND-PRESS-BLOCK\",\"blocks\":null,\"materials\":null,\"excludeInPaging\":false,\"positionForPaging\":0,\"realtime\":false,\"pid\":\"014\",\"name\":\"파이낸셜뉴스\",\"logoLight\":{\"url\":\"https://s.pstatic.net/static/newsstand/2020/logo/light/0604/014.png\"},\"logoDark\":{\"url\":\"https://s.pstatic.net/static/newsstand/2020/logo/dark/0604/014.png\"},\"showThumbnailView\":true,\"showListView\":true,\"regDate\":\"20230716 22:00:06\",\"_id\":null,\"@type\":\"PC-NEWSSTAND-PRESS-BLOCK\",\"@code\":null,\"@template\":\"NONE\",\"@flowId\":null,\"@flowExecutionId\":null,\"@provider\":null,\"@lastModifiedAt\":null},{\"@type\":\"PC-NEWSSTAND-PRESS-BLOCK\",\"blocks\":null,\"materials\":null,\"excludeInPaging\":false,\"positionForPaging\":0,\"realtime\":false,\"pid\":\"135\",\"name\":\"시사저널\",\"logoLight\":{\"url\":\"https://s.pstatic.net/static/newsstand/2020/logo/light/0604/135.png\"},\"logoDark\":{\"url\":\"https://s.pstatic.net/static/newsstand/2020/logo/dark/0604/135.png\"},\"showThumbnailView\":true,\"showListView\":true,\"regDate\":\"20230717 00:40:11\",\"_id\":null,\"@type\":\"PC-NEWSSTAND-PRESS-BLOCK\",\"@code\":null,\"@template\":\"NONE\",\"@flowId\":null,\"@flowExecutionId\":null,\"@provider\":null,\"@lastModifiedAt\":null},{\"@type\":\"PC-NEWSSTAND-PRESS-BLOCK\",\"blocks\":null,\"materials\":null,\"excludeInPaging\":false,\"positionForPaging\":0,\"realtime\":false,\"pid\":\"015\",\"name\":\"한국경제\",\"logoLight\":{\"url\":\"https://s.pstatic.net/static/newsstand/2020/logo/light/0604/015.png\"},\"logoDark\":{\"url\":\"https://s.pstatic.net/static/newsstand/2020/logo/dark/0604/015.png\"},\"showThumbnailView\":true,\"showListView\":true,\"regDate\":\"20230716 23:34:51\",\"_id\":null,\"@type\":\"PC-NEWSSTAND-PRESS-BLOCK\",\"@code\":null,\"@template\":\"NONE\",\"@flowId\":null,\"@flowExecutionId\":null,\"@provider\":null,\"@lastModifiedAt\":null},{\"@type\":\"PC-NEWSSTAND-PRESS-BLOCK\",\"blocks\":null,\"materials\":null,\"excludeInPaging\":false,\"positionForPaging\":0,\"realtime\":false,\"pid\":\"016\",\"name\":\"헤럴드경제\",\"logoLight\":{\"url\":\"https://s.pstatic.net/static/newsstand/2020/logo/light/0604/016.png\"},\"logoDark\":{\"url\":\"https://s.pstatic.net/static/newsstand/2020/logo/dark/0604/016.png\"},\"showThumbnailView\":true,\"showListView\":true,\"regDate\":\"20230716 22:58:23\",\"_id\":null,\"@type\":\"PC-NEWSSTAND-PRESS-BLOCK\",\"@code\":null,\"@template\":\"NONE\",\"@flowId\":null,\"@flowExecutionId\":null,\"@provider\":null,\"@lastModifiedAt\":null},{\"@type\":\"PC-NEWSSTAND-PRESS-BLOCK\",\"blocks\":null,\"materials\":null,\"excludeInPaging\":false,\"positionForPaging\":0,\"realtime\":false,\"pid\":\"138\",\"name\":\"디지털데일리\",\"logoLight\":{\"url\":\"https://s.pstatic.net/static/newsstand/2020/logo/light/0604/138.png\"},\"logoDark\":{\"url\":\"https://s.pstatic.net/static/newsstand/2020/logo/dark/0604/138.png\"},\"showThumbnailView\":true,\"showListView\":true,\"regDate\":\"20230716 12:09:37\",\"_id\":null,\"@type\":\"PC-NEWSSTAND-PRESS-BLOCK\",\"@code\":null,\"@template\":\"NONE\",\"@flowId\":null,\"@flowExecutionId\":null,\"@provider\":null,\"@lastModifiedAt\":null},{\"@type\":\"PC-NEWSSTAND-PRESS-BLOCK\",\"blocks\":null,\"materials\":null,\"excludeInPaging\":false,\"positionForPaging\":0,\"realtime\":false,\"pid\":\"930\",\"name\":\"뉴스타파\",\"logoLight\":{\"url\":\"https://s.pstatic.net/static/newsstand/2020/logo/light/0604/930.png\"},\"logoDark\":{\"url\":\"https://s.pstatic.net/static/newsstand/2020/logo/dark/0604/930.png\"},\"showThumbnailView\":true,\"showListView\":true,\"regDate\":\"20230716 21:11:17\",\"_id\":null,\"@type\":\"PC-NEWSSTAND-PRESS-BLOCK\",\"@code\":null,\"@template\":\"NONE\",\"@flowId\":null,\"@flowExecutionId\":null,\"@provider\":null,\"@lastModifiedAt\":null},{\"@type\":\"PC-NEWSSTAND-PRESS-BLOCK\",\"blocks\":null,\"materials\":null,\"excludeInPaging\":false,\"positionForPaging\":0,\"realtime\":false,\"pid\":\"018\",\"name\":\"이데일리\",\"logoLight\":{\"url\":\"https://s.pstatic.net/static/newsstand/2020/logo/light/0604/018.png\"},\"logoDark\":{\"url\":\"https://s.pstatic.net/static/newsstand/2020/logo/dark/0604/018.png\"},\"showThumbnailView\":true,\"showListView\":true,\"regDate\":\"20230716 20:31:25\",\"_id\":null,\"@type\":\"PC-NEWSSTAND-PRESS-BLOCK\",\"@code\":null,\"@template\":\"NONE\",\"@flowId\":null,\"@flowExecutionId\":null,\"@provider\":null,\"@lastModifiedAt\":null},{\"@type\":\"PC-NEWSSTAND-PRESS-BLOCK\",\"blocks\":null,\"materials\":null,\"excludeInPaging\":false,\"positionForPaging\":0,\"realtime\":false,\"pid\":\"139\",\"name\":\"스포탈코리아\",\"logoLight\":{\"url\":\"https://s.pstatic.net/static/newsstand/2020/logo/light/0604/139.png\"},\"logoDark\":{\"url\":\"https://s.pstatic.net/static/newsstand/2020/logo/dark/0604/139.png\"},\"showThumbnailView\":true,\"showListView\":true,\"regDate\":\"20230716 00:06:17\",\"_id\":null,\"@type\":\"PC-NEWSSTAND-PRESS-BLOCK\",\"@code\":null,\"@template\":\"NONE\",\"@flowId\":null,\"@flowExecutionId\":null,\"@provider\":null,\"@lastModifiedAt\":null},{\"@type\":\"PC-NEWSSTAND-PRESS-BLOCK\",\"blocks\":null,\"materials\":null,\"excludeInPaging\":false,\"positionForPaging\":0,\"realtime\":false,\"pid\":\"810\",\"name\":\"신아일보\",\"logoLight\":{\"url\":\"https://s.pstatic.net/static/newsstand/up/2021/0316/nsd103953129.png\"},\"logoDark\":{\"url\":\"https://s.pstatic.net/static/newsstand/up/2021/0316/nsd104012979.png\"},\"showThumbnailView\":true,\"showListView\":true,\"regDate\":\"20230717 00:40:18\",\"_id\":null,\"@type\":\"PC-NEWSSTAND-PRESS-BLOCK\",\"@code\":null,\"@template\":\"NONE\",\"@flowId\":null,\"@flowExecutionId\":null,\"@provider\":null,\"@lastModifiedAt\":null},{\"@type\":\"PC-NEWSSTAND-PRESS-BLOCK\",\"blocks\":null,\"materials\":null,\"excludeInPaging\":false,\"positionForPaging\":0,\"realtime\":false,\"pid\":\"811\",\"name\":\"한국농어촌방송\",\"logoLight\":{\"url\":\"https://s.pstatic.net/static/newsstand/up/2022/0315/nsd181452869.png\"},\"logoDark\":{\"url\":\"https://s.pstatic.net/static/newsstand/up/2022/0315/nsd18156958.png\"},\"showThumbnailView\":true,\"showListView\":true,\"regDate\":\"20230717 00:40:22\",\"_id\":null,\"@type\":\"PC-NEWSSTAND-PRESS-BLOCK\",\"@code\":null,\"@template\":\"NONE\",\"@flowId\":null,\"@flowExecutionId\":null,\"@provider\":null,\"@lastModifiedAt\":null},{\"@type\":\"PC-NEWSSTAND-PRESS-BLOCK\",\"blocks\":null,\"materials\":null,\"excludeInPaging\":false,\"positionForPaging\":0,\"realtime\":false,\"pid\":\"932\",\"name\":\"CEO스코어데일리\",\"logoLight\":{\"url\":\"https://s.pstatic.net/static/newsstand/2020/logo/light/0604/932.png\"},\"logoDark\":{\"url\":\"https://s.pstatic.net/static/newsstand/2020/logo/dark/0604/932.png\"},\"showThumbnailView\":true,\"showListView\":true,\"regDate\":\"20230716 07:10:51\",\"_id\":null,\"@type\":\"PC-NEWSSTAND-PRESS-BLOCK\",\"@code\":null,\"@template\":\"NONE\",\"@flowId\":null,\"@flowExecutionId\":null,\"@provider\":null,\"@lastModifiedAt\":null},{\"@type\":\"PC-NEWSSTAND-PRESS-BLOCK\",\"blocks\":null,\"materials\":null,\"excludeInPaging\":false,\"positionForPaging\":0,\"realtime\":false,\"pid\":\"812\",\"name\":\"데일리임팩트\",\"logoLight\":{\"url\":\"https://s.pstatic.net/static/newsstand/up/2021/0819/nsd151219656.png\"},\"logoDark\":{\"url\":\"https://s.pstatic.net/static/newsstand/up/2021/0819/nsd151254429.png\"},\"showThumbnailView\":true,\"showListView\":true,\"regDate\":\"20230717 00:40:23\",\"_id\":null,\"@type\":\"PC-NEWSSTAND-PRESS-BLOCK\",\"@code\":null,\"@template\":\"NONE\",\"@flowId\":null,\"@flowExecutionId\":null,\"@provider\":null,\"@lastModifiedAt\":null},{\"@type\":\"PC-NEWSSTAND-PRESS-BLOCK\",\"blocks\":null,\"materials\":null,\"excludeInPaging\":false,\"positionForPaging\":0,\"realtime\":false,\"pid\":\"813\",\"name\":\"이코노믹리뷰\",\"logoLight\":{\"url\":\"https://s.pstatic.net/static/newsstand/up/2022/0418/nsd164755323.png\"},\"logoDark\":{\"url\":\"https://s.pstatic.net/static/newsstand/up/2022/0418/nsd164818946.png\"},\"showThumbnailView\":true,\"showListView\":true,\"regDate\":\"20230717 00:40:25\",\"_id\":null,\"@type\":\"PC-NEWSSTAND-PRESS-BLOCK\",\"@code\":null,\"@template\":\"NONE\",\"@flowId\":null,\"@flowExecutionId\":null,\"@provider\":null,\"@lastModifiedAt\":null},{\"@type\":\"PC-NEWSSTAND-PRESS-BLOCK\",\"blocks\":null,\"materials\":null,\"excludeInPaging\":false,\"positionForPaging\":0,\"realtime\":false,\"pid\":\"934\",\"name\":\"아리랑TV\",\"logoLight\":{\"url\":\"https://s.pstatic.net/static/newsstand/2020/logo/light/0604/934.png\"},\"logoDark\":{\"url\":\"https://s.pstatic.net/static/newsstand/2020/logo/dark/0604/934.png\"},\"showThumbnailView\":true,\"showListView\":true,\"regDate\":\"20230716 18:59:52\",\"_id\":null,\"@type\":\"PC-NEWSSTAND-PRESS-BLOCK\",\"@code\":null,\"@template\":\"NONE\",\"@flowId\":null,\"@flowExecutionId\":null,\"@provider\":null,\"@lastModifiedAt\":null},{\"@type\":\"PC-NEWSSTAND-PRESS-BLOCK\",\"blocks\":null,\"materials\":null,\"excludeInPaging\":false,\"positionForPaging\":0,\"realtime\":false,\"pid\":\"814\",\"name\":\"미주한국일보\",\"logoLight\":{\"url\":\"https://s.pstatic.net/static/newsstand/2020/logo/light/0604/814.png\"},\"logoDark\":{\"url\":\"https://s.pstatic.net/static/newsstand/2020/logo/dark/0604/814.png\"},\"showThumbnailView\":false,\"showListView\":false,\"regDate\":\"20230619 03:30:34\",\"_id\":null,\"@type\":\"PC-NEWSSTAND-PRESS-BLOCK\",\"@code\":null,\"@template\":\"NONE\",\"@flowId\":null,\"@flowExecutionId\":null,\"@provider\":null,\"@lastModifiedAt\":null},{\"@type\":\"PC-NEWSSTAND-PRESS-BLOCK\",\"blocks\":null,\"materials\":null,\"excludeInPaging\":false,\"positionForPaging\":0,\"realtime\":false,\"pid\":\"935\",\"name\":\"경상일보\",\"logoLight\":{\"url\":\"https://s.pstatic.net/static/newsstand/2020/logo/light/0604/935.png\"},\"logoDark\":{\"url\":\"https://s.pstatic.net/static/newsstand/2020/logo/dark/0604/935.png\"},\"showThumbnailView\":true,\"showListView\":true,\"regDate\":\"20230717 00:23:02\",\"_id\":null,\"@type\":\"PC-NEWSSTAND-PRESS-BLOCK\",\"@code\":null,\"@template\":\"NONE\",\"@flowId\":null,\"@flowExecutionId\":null,\"@provider\":null,\"@lastModifiedAt\":null},{\"@type\":\"PC-NEWSSTAND-PRESS-BLOCK\",\"blocks\":null,\"materials\":null,\"excludeInPaging\":false,\"positionForPaging\":0,\"realtime\":false,\"pid\":\"815\",\"name\":\"법률방송뉴스\",\"logoLight\":{\"url\":\"https://s.pstatic.net/static/newsstand/2020/logo/light/0604/815.png\"},\"logoDark\":{\"url\":\"https://s.pstatic.net/static/newsstand/2020/logo/dark/0604/815.png\"},\"showThumbnailView\":true,\"showListView\":true,\"regDate\":\"20230717 00:40:24\",\"_id\":null,\"@type\":\"PC-NEWSSTAND-PRESS-BLOCK\",\"@code\":null,\"@template\":\"NONE\",\"@flowId\":null,\"@flowExecutionId\":null,\"@provider\":null,\"@lastModifiedAt\":null},{\"@type\":\"PC-NEWSSTAND-PRESS-BLOCK\",\"blocks\":null,\"materials\":null,\"excludeInPaging\":false,\"positionForPaging\":0,\"realtime\":false,\"pid\":\"936\",\"name\":\"대구일보\",\"logoLight\":{\"url\":\"https://s.pstatic.net/static/newsstand/2020/logo/light/0604/936.png\"},\"logoDark\":{\"url\":\"https://s.pstatic.net/static/newsstand/2020/logo/dark/0604/936.png\"},\"showThumbnailView\":true,\"showListView\":true,\"regDate\":\"20230716 20:10:22\",\"_id\":null,\"@type\":\"PC-NEWSSTAND-PRESS-BLOCK\",\"@code\":null,\"@template\":\"NONE\",\"@flowId\":null,\"@flowExecutionId\":null,\"@provider\":null,\"@lastModifiedAt\":null},{\"@type\":\"PC-NEWSSTAND-PRESS-BLOCK\",\"blocks\":null,\"materials\":null,\"excludeInPaging\":false,\"positionForPaging\":0,\"realtime\":false,\"pid\":\"816\",\"name\":\"시사오늘\",\"logoLight\":{\"url\":\"https://s.pstatic.net/static/newsstand/2020/logo/light/0604/816.png\"},\"logoDark\":{\"url\":\"https://s.pstatic.net/static/newsstand/2020/logo/dark/0604/816.png\"},\"showThumbnailView\":true,\"showListView\":true,\"regDate\":\"20230717 00:40:26\",\"_id\":null,\"@type\":\"PC-NEWSSTAND-PRESS-BLOCK\",\"@code\":null,\"@template\":\"NONE\",\"@flowId\":null,\"@flowExecutionId\":null,\"@provider\":null,\"@lastModifiedAt\":null},{\"@type\":\"PC-NEWSSTAND-PRESS-BLOCK\",\"blocks\":null,\"materials\":null,\"excludeInPaging\":false,\"positionForPaging\":0,\"realtime\":false,\"pid\":\"937\",\"name\":\"전북도민일보\",\"logoLight\":{\"url\":\"https://s.pstatic.net/static/newsstand/2020/logo/light/0604/937.png\"},\"logoDark\":{\"url\":\"https://s.pstatic.net/static/newsstand/2020/logo/dark/0604/937.png\"},\"showThumbnailView\":true,\"showListView\":true,\"regDate\":\"20230716 20:13:04\",\"_id\":null,\"@type\":\"PC-NEWSSTAND-PRESS-BLOCK\",\"@code\":null,\"@template\":\"NONE\",\"@flowId\":null,\"@flowExecutionId\":null,\"@provider\":null,\"@lastModifiedAt\":null},{\"@type\":\"PC-NEWSSTAND-PRESS-BLOCK\",\"blocks\":null,\"materials\":null,\"excludeInPaging\":false,\"positionForPaging\":0,\"realtime\":false,\"pid\":\"817\",\"name\":\"미디어제주\",\"logoLight\":{\"url\":\"https://s.pstatic.net/static/newsstand/2020/logo/light/0604/817.png\"},\"logoDark\":{\"url\":\"https://s.pstatic.net/static/newsstand/2020/logo/dark/0604/817.png\"},\"showThumbnailView\":true,\"showListView\":true,\"regDate\":\"20230717 00:40:27\",\"_id\":null,\"@type\":\"PC-NEWSSTAND-PRESS-BLOCK\",\"@code\":null,\"@template\":\"NONE\",\"@flowId\":null,\"@flowExecutionId\":null,\"@provider\":null,\"@lastModifiedAt\":null},{\"@type\":\"PC-NEWSSTAND-PRESS-BLOCK\",\"blocks\":null,\"materials\":null,\"excludeInPaging\":false,\"positionForPaging\":0,\"realtime\":false,\"pid\":\"938\",\"name\":\"그린포스트코리아\",\"logoLight\":{\"url\":\"https://s.pstatic.net/static/newsstand/2020/logo/light/0604/938.png\"},\"logoDark\":{\"url\":\"https://s.pstatic.net/static/newsstand/2020/logo/dark/0604/938.png\"},\"showThumbnailView\":true,\"showListView\":true,\"regDate\":\"20230715 10:09:50\",\"_id\":null,\"@type\":\"PC-NEWSSTAND-PRESS-BLOCK\",\"@code\":null,\"@template\":\"NONE\",\"@flowId\":null,\"@flowExecutionId\":null,\"@provider\":null,\"@lastModifiedAt\":null},{\"@type\":\"PC-NEWSSTAND-PRESS-BLOCK\",\"blocks\":null,\"materials\":null,\"excludeInPaging\":false,\"positionForPaging\":0,\"realtime\":false,\"pid\":\"818\",\"name\":\"IT동아\",\"logoLight\":{\"url\":\"https://s.pstatic.net/static/newsstand/2020/logo/light/0604/818.png\"},\"logoDark\":{\"url\":\"https://s.pstatic.net/static/newsstand/2020/logo/dark/0604/818.png\"},\"showThumbnailView\":true,\"showListView\":true,\"regDate\":\"20230717 00:38:19\",\"_id\":null,\"@type\":\"PC-NEWSSTAND-PRESS-BLOCK\",\"@code\":null,\"@template\":\"NONE\",\"@flowId\":null,\"@flowExecutionId\":null,\"@provider\":null,\"@lastModifiedAt\":null},{\"@type\":\"PC-NEWSSTAND-PRESS-BLOCK\",\"blocks\":null,\"materials\":null,\"excludeInPaging\":false,\"positionForPaging\":0,\"realtime\":false,\"pid\":\"819\",\"name\":\"바이라인네트워크\",\"logoLight\":{\"url\":\"https://s.pstatic.net/static/newsstand/2020/logo/light/0604/819.png\"},\"logoDark\":{\"url\":\"https://s.pstatic.net/static/newsstand/2020/logo/dark/0604/819.png\"},\"showThumbnailView\":true,\"showListView\":true,\"regDate\":\"20230714 15:35:27\",\"_id\":null,\"@type\":\"PC-NEWSSTAND-PRESS-BLOCK\",\"@code\":null,\"@template\":\"NONE\",\"@flowId\":null,\"@flowExecutionId\":null,\"@provider\":null,\"@lastModifiedAt\":null},{\"@type\":\"PC-NEWSSTAND-PRESS-BLOCK\",\"blocks\":null,\"materials\":null,\"excludeInPaging\":false,\"positionForPaging\":0,\"realtime\":false,\"pid\":\"140\",\"name\":\"씨네21\",\"logoLight\":{\"url\":\"https://s.pstatic.net/static/newsstand/2020/logo/light/0604/140.png\"},\"logoDark\":{\"url\":\"https://s.pstatic.net/static/newsstand/2020/logo/dark/0604/140.png\"},\"showThumbnailView\":true,\"showListView\":true,\"regDate\":\"20230717 00:00:00\",\"_id\":null,\"@type\":\"PC-NEWSSTAND-PRESS-BLOCK\",\"@code\":null,\"@template\":\"NONE\",\"@flowId\":null,\"@flowExecutionId\":null,\"@provider\":null,\"@lastModifiedAt\":null},{\"@type\":\"PC-NEWSSTAND-PRESS-BLOCK\",\"blocks\":null,\"materials\":null,\"excludeInPaging\":false,\"positionForPaging\":0,\"realtime\":false,\"pid\":\"020\",\"name\":\"동아일보\",\"logoLight\":{\"url\":\"https://s.pstatic.net/static/newsstand/2020/logo/light/0604/020.png\"},\"logoDark\":{\"url\":\"https://s.pstatic.net/static/newsstand/2020/logo/dark/0604/020.png\"},\"showThumbnailView\":true,\"showListView\":true,\"regDate\":\"20230717 00:15:15\",\"_id\":null,\"@type\":\"PC-NEWSSTAND-PRESS-BLOCK\",\"@code\":null,\"@template\":\"NONE\",\"@flowId\":null,\"@flowExecutionId\":null,\"@provider\":null,\"@lastModifiedAt\":null},{\"@type\":\"PC-NEWSSTAND-PRESS-BLOCK\",\"blocks\":null,\"materials\":null,\"excludeInPaging\":false,\"positionForPaging\":0,\"realtime\":false,\"pid\":\"021\",\"name\":\"문화일보\",\"logoLight\":{\"url\":\"https://s.pstatic.net/static/newsstand/2020/logo/light/0604/021.png\"},\"logoDark\":{\"url\":\"https://s.pstatic.net/static/newsstand/2020/logo/dark/0604/021.png\"},\"showThumbnailView\":true,\"showListView\":true,\"regDate\":\"20230717 00:40:54\",\"_id\":null,\"@type\":\"PC-NEWSSTAND-PRESS-BLOCK\",\"@code\":null,\"@template\":\"NONE\",\"@flowId\":null,\"@flowExecutionId\":null,\"@provider\":null,\"@lastModifiedAt\":null},{\"@type\":\"PC-NEWSSTAND-PRESS-BLOCK\",\"blocks\":null,\"materials\":null,\"excludeInPaging\":false,\"positionForPaging\":0,\"realtime\":false,\"pid\":\"384\",\"name\":\"한국대학신문\",\"logoLight\":{\"url\":\"https://s.pstatic.net/static/newsstand/2020/logo/light/0604/384.png\"},\"logoDark\":{\"url\":\"https://s.pstatic.net/static/newsstand/2020/logo/dark/0604/384.png\"},\"showThumbnailView\":true,\"showListView\":true,\"regDate\":\"20230717 00:40:09\",\"_id\":null,\"@type\":\"PC-NEWSSTAND-PRESS-BLOCK\",\"@code\":null,\"@template\":\"NONE\",\"@flowId\":null,\"@flowExecutionId\":null,\"@provider\":null,\"@lastModifiedAt\":null},{\"@type\":\"PC-NEWSSTAND-PRESS-BLOCK\",\"blocks\":null,\"materials\":null,\"excludeInPaging\":false,\"positionForPaging\":0,\"realtime\":false,\"pid\":\"022\",\"name\":\"세계일보\",\"logoLight\":{\"url\":\"https://s.pstatic.net/static/newsstand/2020/logo/light/0604/022.png\"},\"logoDark\":{\"url\":\"https://s.pstatic.net/static/newsstand/2020/logo/dark/0604/022.png\"},\"showThumbnailView\":true,\"showListView\":true,\"regDate\":\"20230717 00:02:26\",\"_id\":null,\"@type\":\"PC-NEWSSTAND-PRESS-BLOCK\",\"@code\":null,\"@template\":\"NONE\",\"@flowId\":null,\"@flowExecutionId\":null,\"@provider\":null,\"@lastModifiedAt\":null},{\"@type\":\"PC-NEWSSTAND-PRESS-BLOCK\",\"blocks\":null,\"materials\":null,\"excludeInPaging\":false,\"positionForPaging\":0,\"realtime\":false,\"pid\":\"143\",\"name\":\"쿠키뉴스\",\"logoLight\":{\"url\":\"https://s.pstatic.net/static/newsstand/up/2022/0823/nsd105911492.png\"},\"logoDark\":{\"url\":\"https://s.pstatic.net/static/newsstand/up/2022/0819/nsd181056744.png\"},\"showThumbnailView\":true,\"showListView\":true,\"regDate\":\"20230716 21:04:49\",\"_id\":null,\"@type\":\"PC-NEWSSTAND-PRESS-BLOCK\",\"@code\":null,\"@template\":\"NONE\",\"@flowId\":null,\"@flowExecutionId\":null,\"@provider\":null,\"@lastModifiedAt\":null},{\"@type\":\"PC-NEWSSTAND-PRESS-BLOCK\",\"blocks\":null,\"materials\":null,\"excludeInPaging\":false,\"positionForPaging\":0,\"realtime\":false,\"pid\":\"385\",\"name\":\"영남일보\",\"logoLight\":{\"url\":\"https://s.pstatic.net/static/newsstand/2020/logo/light/0604/385.png\"},\"logoDark\":{\"url\":\"https://s.pstatic.net/static/newsstand/2020/logo/dark/0604/385.png\"},\"showThumbnailView\":true,\"showListView\":true,\"regDate\":\"20230716 19:00:06\",\"_id\":null,\"@type\":\"PC-NEWSSTAND-PRESS-BLOCK\",\"@code\":null,\"@template\":\"NONE\",\"@flowId\":null,\"@flowExecutionId\":null,\"@provider\":null,\"@lastModifiedAt\":null},{\"@type\":\"PC-NEWSSTAND-PRESS-BLOCK\",\"blocks\":null,\"materials\":null,\"excludeInPaging\":false,\"positionForPaging\":0,\"realtime\":false,\"pid\":\"023\",\"name\":\"조선일보\",\"logoLight\":{\"url\":\"https://s.pstatic.net/static/newsstand/up/2020/0903/nsd185255316.png\"},\"logoDark\":{\"url\":\"https://s.pstatic.net/static/newsstand/up/2020/0903/nsd185246724.png\"},\"showThumbnailView\":true,\"showListView\":true,\"regDate\":\"20230717 00:39:26\",\"_id\":null,\"@type\":\"PC-NEWSSTAND-PRESS-BLOCK\",\"@code\":null,\"@template\":\"NONE\",\"@flowId\":null,\"@flowExecutionId\":null,\"@provider\":null,\"@lastModifiedAt\":null},{\"@type\":\"PC-NEWSSTAND-PRESS-BLOCK\",\"blocks\":null,\"materials\":null,\"excludeInPaging\":false,\"positionForPaging\":0,\"realtime\":false,\"pid\":\"144\",\"name\":\"스포츠경향\",\"logoLight\":{\"url\":\"https://s.pstatic.net/static/newsstand/2020/logo/light/0604/144.png\"},\"logoDark\":{\"url\":\"https://s.pstatic.net/static/newsstand/2020/logo/dark/0604/144.png\"},\"showThumbnailView\":true,\"showListView\":true,\"regDate\":\"20230716 22:51:48\",\"_id\":null,\"@type\":\"PC-NEWSSTAND-PRESS-BLOCK\",\"@code\":null,\"@template\":\"NONE\",\"@flowId\":null,\"@flowExecutionId\":null,\"@provider\":null,\"@lastModifiedAt\":null},{\"@type\":\"PC-NEWSSTAND-PRESS-BLOCK\",\"blocks\":null,\"materials\":null,\"excludeInPaging\":false,\"positionForPaging\":0,\"realtime\":false,\"pid\":\"024\",\"name\":\"매경이코노미\",\"logoLight\":{\"url\":\"https://s.pstatic.net/static/newsstand/2020/logo/light/0604/024.png\"},\"logoDark\":{\"url\":\"https://s.pstatic.net/static/newsstand/2020/logo/dark/0604/024.png\"},\"showThumbnailView\":true,\"showListView\":true,\"regDate\":\"20230717 00:50:01\",\"_id\":null,\"@type\":\"PC-NEWSSTAND-PRESS-BLOCK\",\"@code\":null,\"@template\":\"NONE\",\"@flowId\":null,\"@flowExecutionId\":null,\"@provider\":null,\"@lastModifiedAt\":null},{\"@type\":\"PC-NEWSSTAND-PRESS-BLOCK\",\"blocks\":null,\"materials\":null,\"excludeInPaging\":false,\"positionForPaging\":0,\"realtime\":false,\"pid\":\"387\",\"name\":\"인천일보\",\"logoLight\":{\"url\":\"https://s.pstatic.net/static/newsstand/up/2022/0331/nsd155937506.png\"},\"logoDark\":{\"url\":\"https://s.pstatic.net/static/newsstand/up/2022/0331/nsd15594915.png\"},\"showThumbnailView\":true,\"showListView\":true,\"regDate\":\"20230717 00:40:04\",\"_id\":null,\"@type\":\"PC-NEWSSTAND-PRESS-BLOCK\",\"@code\":null,\"@template\":\"NONE\",\"@flowId\":null,\"@flowExecutionId\":null,\"@provider\":null,\"@lastModifiedAt\":null},{\"@type\":\"PC-NEWSSTAND-PRESS-BLOCK\",\"blocks\":null,\"materials\":null,\"excludeInPaging\":false,\"positionForPaging\":0,\"realtime\":false,\"pid\":\"025\",\"name\":\"중앙일보\",\"logoLight\":{\"url\":\"https://s.pstatic.net/static/newsstand/up/2021/0824/nsd115034872.png\"},\"logoDark\":{\"url\":\"https://s.pstatic.net/static/newsstand/up/2021/0823/nsd101834185.png\"},\"showThumbnailView\":true,\"showListView\":true,\"regDate\":\"20230717 00:38:51\",\"_id\":null,\"@type\":\"PC-NEWSSTAND-PRESS-BLOCK\",\"@code\":null,\"@template\":\"NONE\",\"@flowId\":null,\"@flowExecutionId\":null,\"@provider\":null,\"@lastModifiedAt\":null},{\"@type\":\"PC-NEWSSTAND-PRESS-BLOCK\",\"blocks\":null,\"materials\":null,\"excludeInPaging\":false,\"positionForPaging\":0,\"realtime\":false,\"pid\":\"388\",\"name\":\"전남일보\",\"logoLight\":{\"url\":\"https://s.pstatic.net/static/newsstand/2020/logo/light/0604/388.png\"},\"logoDark\":{\"url\":\"https://s.pstatic.net/static/newsstand/2020/logo/dark/0604/388.png\"},\"showThumbnailView\":true,\"showListView\":true,\"regDate\":\"20230717 00:45:01\",\"_id\":null,\"@type\":\"PC-NEWSSTAND-PRESS-BLOCK\",\"@code\":null,\"@template\":\"NONE\",\"@flowId\":null,\"@flowExecutionId\":null,\"@provider\":null,\"@lastModifiedAt\":null},{\"@type\":\"PC-NEWSSTAND-PRESS-BLOCK\",\"blocks\":null,\"materials\":null,\"excludeInPaging\":false,\"positionForPaging\":0,\"realtime\":false,\"pid\":\"389\",\"name\":\"제주도민일보\",\"logoLight\":{\"url\":\"https://s.pstatic.net/static/newsstand/2020/logo/light/0604/389.png\"},\"logoDark\":{\"url\":\"https://s.pstatic.net/static/newsstand/2020/logo/dark/0604/389.png\"},\"showThumbnailView\":true,\"showListView\":true,\"regDate\":\"20230717 00:40:35\",\"_id\":null,\"@type\":\"PC-NEWSSTAND-PRESS-BLOCK\",\"@code\":null,\"@template\":\"NONE\",\"@flowId\":null,\"@flowExecutionId\":null,\"@provider\":null,\"@lastModifiedAt\":null},{\"@type\":\"PC-NEWSSTAND-PRESS-BLOCK\",\"blocks\":null,\"materials\":null,\"excludeInPaging\":false,\"positionForPaging\":0,\"realtime\":false,\"pid\":\"940\",\"name\":\"스포츠투데이\",\"logoLight\":{\"url\":\"https://s.pstatic.net/static/newsstand/up/2022/0328/nsd223244325.png\"},\"logoDark\":{\"url\":\"https://s.pstatic.net/static/newsstand/up/2022/0328/nsd223257107.png\"},\"showThumbnailView\":true,\"showListView\":true,\"regDate\":\"20230717 00:40:01\",\"_id\":null,\"@type\":\"PC-NEWSSTAND-PRESS-BLOCK\",\"@code\":null,\"@template\":\"NONE\",\"@flowId\":null,\"@flowExecutionId\":null,\"@provider\":null,\"@lastModifiedAt\":null},{\"@type\":\"PC-NEWSSTAND-PRESS-BLOCK\",\"blocks\":null,\"materials\":null,\"excludeInPaging\":false,\"positionForPaging\":0,\"realtime\":false,\"pid\":\"028\",\"name\":\"한겨레\",\"logoLight\":{\"url\":\"https://s.pstatic.net/static/newsstand/2020/logo/light/0604/028.png\"},\"logoDark\":{\"url\":\"https://s.pstatic.net/static/newsstand/2020/logo/dark/0604/028.png\"},\"showThumbnailView\":true,\"showListView\":true,\"regDate\":\"20230717 00:30:41\",\"_id\":null,\"@type\":\"PC-NEWSSTAND-PRESS-BLOCK\",\"@code\":null,\"@template\":\"NONE\",\"@flowId\":null,\"@flowExecutionId\":null,\"@provider\":null,\"@lastModifiedAt\":null},{\"@type\":\"PC-NEWSSTAND-PRESS-BLOCK\",\"blocks\":null,\"materials\":null,\"excludeInPaging\":false,\"positionForPaging\":0,\"realtime\":false,\"pid\":\"820\",\"name\":\"월간노동법률\",\"logoLight\":{\"url\":\"https://s.pstatic.net/static/newsstand/up/2022/0817/nsd14480190.png\"},\"logoDark\":{\"url\":\"https://s.pstatic.net/static/newsstand/up/2022/0817/nsd144754102.png\"},\"showThumbnailView\":true,\"showListView\":true,\"regDate\":\"20230713 18:01:59\",\"_id\":null,\"@type\":\"PC-NEWSSTAND-PRESS-BLOCK\",\"@code\":null,\"@template\":\"NONE\",\"@flowId\":null,\"@flowExecutionId\":null,\"@provider\":null,\"@lastModifiedAt\":null},{\"@type\":\"PC-NEWSSTAND-PRESS-BLOCK\",\"blocks\":null,\"materials\":null,\"excludeInPaging\":false,\"positionForPaging\":0,\"realtime\":false,\"pid\":\"941\",\"name\":\"초이스경제\",\"logoLight\":{\"url\":\"https://s.pstatic.net/static/newsstand/2020/logo/light/0604/941.png\"},\"logoDark\":{\"url\":\"https://s.pstatic.net/static/newsstand/2020/logo/dark/0604/941.png\"},\"showThumbnailView\":true,\"showListView\":true,\"regDate\":\"20230716 17:25:03\",\"_id\":null,\"@type\":\"PC-NEWSSTAND-PRESS-BLOCK\",\"@code\":null,\"@template\":\"NONE\",\"@flowId\":null,\"@flowExecutionId\":null,\"@provider\":null,\"@lastModifiedAt\":null},{\"@type\":\"PC-NEWSSTAND-PRESS-BLOCK\",\"blocks\":null,\"materials\":null,\"excludeInPaging\":false,\"positionForPaging\":0,\"realtime\":false,\"pid\":\"029\",\"name\":\"디지털타임스\",\"logoLight\":{\"url\":\"https://s.pstatic.net/static/newsstand/2020/logo/light/0604/029.png\"},\"logoDark\":{\"url\":\"https://s.pstatic.net/static/newsstand/2020/logo/dark/0604/029.png\"},\"showThumbnailView\":true,\"showListView\":true,\"regDate\":\"20230717 00:34:03\",\"_id\":null,\"@type\":\"PC-NEWSSTAND-PRESS-BLOCK\",\"@code\":null,\"@template\":\"NONE\",\"@flowId\":null,\"@flowExecutionId\":null,\"@provider\":null,\"@lastModifiedAt\":null},{\"@type\":\"PC-NEWSSTAND-PRESS-BLOCK\",\"blocks\":null,\"materials\":null,\"excludeInPaging\":false,\"positionForPaging\":0,\"realtime\":false,\"pid\":\"821\",\"name\":\"경남도민일보\",\"logoLight\":{\"url\":\"https://s.pstatic.net/static/newsstand/2020/logo/light/0604/821.png\"},\"logoDark\":{\"url\":\"https://s.pstatic.net/static/newsstand/2020/logo/dark/0604/821.png\"},\"showThumbnailView\":true,\"showListView\":true,\"regDate\":\"20230717 00:40:29\",\"_id\":null,\"@type\":\"PC-NEWSSTAND-PRESS-BLOCK\",\"@code\":null,\"@template\":\"NONE\",\"@flowId\":null,\"@flowExecutionId\":null,\"@provider\":null,\"@lastModifiedAt\":null},{\"@type\":\"PC-NEWSSTAND-PRESS-BLOCK\",\"blocks\":null,\"materials\":null,\"excludeInPaging\":false,\"positionForPaging\":0,\"realtime\":false,\"pid\":\"942\",\"name\":\"비즈니스포스트\",\"logoLight\":{\"url\":\"https://s.pstatic.net/static/newsstand/2020/logo/light/0604/942.png\"},\"logoDark\":{\"url\":\"https://s.pstatic.net/static/newsstand/2020/logo/dark/0604/942.png\"},\"showThumbnailView\":true,\"showListView\":true,\"regDate\":\"20230716 17:07:13\",\"_id\":null,\"@type\":\"PC-NEWSSTAND-PRESS-BLOCK\",\"@code\":null,\"@template\":\"NONE\",\"@flowId\":null,\"@flowExecutionId\":null,\"@provider\":null,\"@lastModifiedAt\":null},{\"@type\":\"PC-NEWSSTAND-PRESS-BLOCK\",\"blocks\":null,\"materials\":null,\"excludeInPaging\":false,\"positionForPaging\":0,\"realtime\":false,\"pid\":\"822\",\"name\":\"프라임경제\",\"logoLight\":{\"url\":\"https://s.pstatic.net/static/newsstand/up/2020/0730/nsd13728808.png\"},\"logoDark\":{\"url\":\"https://s.pstatic.net/static/newsstand/up/2020/0730/nsd13719939.png\"},\"showThumbnailView\":true,\"showListView\":true,\"regDate\":\"20230716 21:00:03\",\"_id\":null,\"@type\":\"PC-NEWSSTAND-PRESS-BLOCK\",\"@code\":null,\"@template\":\"NONE\",\"@flowId\":null,\"@flowExecutionId\":null,\"@provider\":null,\"@lastModifiedAt\":null},{\"@type\":\"PC-NEWSSTAND-PRESS-BLOCK\",\"blocks\":null,\"materials\":null,\"excludeInPaging\":false,\"positionForPaging\":0,\"realtime\":false,\"pid\":\"943\",\"name\":\"비즈워치\",\"logoLight\":{\"url\":\"https://s.pstatic.net/static/newsstand/up/2023/0213/nsd17943530.png\"},\"logoDark\":{\"url\":\"https://s.pstatic.net/static/newsstand/up/2023/0213/nsd17100999.png\"},\"showThumbnailView\":true,\"showListView\":true,\"regDate\":\"20230716 16:55:42\",\"_id\":null,\"@type\":\"PC-NEWSSTAND-PRESS-BLOCK\",\"@code\":null,\"@template\":\"NONE\",\"@flowId\":null,\"@flowExecutionId\":null,\"@provider\":null,\"@lastModifiedAt\":null},{\"@type\":\"PC-NEWSSTAND-PRESS-BLOCK\",\"blocks\":null,\"materials\":null,\"excludeInPaging\":false,\"positionForPaging\":0,\"realtime\":false,\"pid\":\"823\",\"name\":\"UPI뉴스\",\"logoLight\":{\"url\":\"https://s.pstatic.net/static/newsstand/2020/logo/light/0604/823.png\"},\"logoDark\":{\"url\":\"https://s.pstatic.net/static/newsstand/2020/logo/dark/0604/823.png\"},\"showThumbnailView\":true,\"showListView\":true,\"regDate\":\"20230716 15:40:58\",\"_id\":null,\"@type\":\"PC-NEWSSTAND-PRESS-BLOCK\",\"@code\":null,\"@template\":\"NONE\",\"@flowId\":null,\"@flowExecutionId\":null,\"@provider\":null,\"@lastModifiedAt\":null},{\"@type\":\"PC-NEWSSTAND-PRESS-BLOCK\",\"blocks\":null,\"materials\":null,\"excludeInPaging\":false,\"positionForPaging\":0,\"realtime\":false,\"pid\":\"944\",\"name\":\"나우뉴스\",\"logoLight\":{\"url\":\"https://s.pstatic.net/static/newsstand/up/2022/0804/nsd1343054.png\"},\"logoDark\":{\"url\":\"https://s.pstatic.net/static/newsstand/up/2022/0804/nsd13457540.png\"},\"showThumbnailView\":true,\"showListView\":true,\"regDate\":\"20230716 20:02:03\",\"_id\":null,\"@type\":\"PC-NEWSSTAND-PRESS-BLOCK\",\"@code\":null,\"@template\":\"NONE\",\"@flowId\":null,\"@flowExecutionId\":null,\"@provider\":null,\"@lastModifiedAt\":null},{\"@type\":\"PC-NEWSSTAND-PRESS-BLOCK\",\"blocks\":null,\"materials\":null,\"excludeInPaging\":false,\"positionForPaging\":0,\"realtime\":false,\"pid\":\"824\",\"name\":\"서울파이낸스\",\"logoLight\":{\"url\":\"https://s.pstatic.net/static/newsstand/2020/logo/light/0604/824.png\"},\"logoDark\":{\"url\":\"https://s.pstatic.net/static/newsstand/2020/logo/dark/0604/824.png\"},\"showThumbnailView\":true,\"showListView\":true,\"regDate\":\"20230717 00:40:30\",\"_id\":null,\"@type\":\"PC-NEWSSTAND-PRESS-BLOCK\",\"@code\":null,\"@template\":\"NONE\",\"@flowId\":null,\"@flowExecutionId\":null,\"@provider\":null,\"@lastModifiedAt\":null},{\"@type\":\"PC-NEWSSTAND-PRESS-BLOCK\",\"blocks\":null,\"materials\":null,\"excludeInPaging\":false,\"positionForPaging\":0,\"realtime\":false,\"pid\":\"945\",\"name\":\"YTN사이언스\",\"logoLight\":{\"url\":\"https://s.pstatic.net/static/newsstand/up/2020/0922/nsd152336602.png\"},\"logoDark\":{\"url\":\"https://s.pstatic.net/static/newsstand/up/2020/0922/nsd152323211.png\"},\"showThumbnailView\":true,\"showListView\":true,\"regDate\":\"20230717 00:44:58\",\"_id\":null,\"@type\":\"PC-NEWSSTAND-PRESS-BLOCK\",\"@code\":null,\"@template\":\"NONE\",\"@flowId\":null,\"@flowExecutionId\":null,\"@provider\":null,\"@lastModifiedAt\":null},{\"@type\":\"PC-NEWSSTAND-PRESS-BLOCK\",\"blocks\":null,\"materials\":null,\"excludeInPaging\":false,\"positionForPaging\":0,\"realtime\":false,\"pid\":\"825\",\"name\":\"이로운넷\",\"logoLight\":{\"url\":\"https://s.pstatic.net/static/newsstand/2020/logo/light/0604/825.png\"},\"logoDark\":{\"url\":\"https://s.pstatic.net/static/newsstand/2020/logo/dark/0604/825.png\"},\"showThumbnailView\":true,\"showListView\":true,\"regDate\":\"20230717 00:40:32\",\"_id\":null,\"@type\":\"PC-NEWSSTAND-PRESS-BLOCK\",\"@code\":null,\"@template\":\"NONE\",\"@flowId\":null,\"@flowExecutionId\":null,\"@provider\":null,\"@lastModifiedAt\":null},{\"@type\":\"PC-NEWSSTAND-PRESS-BLOCK\",\"blocks\":null,\"materials\":null,\"excludeInPaging\":false,\"positionForPaging\":0,\"realtime\":false,\"pid\":\"946\",\"name\":\"YONHAPNEWS\",\"logoLight\":{\"url\":\"https://s.pstatic.net/static/newsstand/2020/logo/light/0604/946.png\"},\"logoDark\":{\"url\":\"https://s.pstatic.net/static/newsstand/2020/logo/dark/0604/946.png\"},\"showThumbnailView\":true,\"showListView\":true,\"regDate\":\"20230717 00:48:00\",\"_id\":null,\"@type\":\"PC-NEWSSTAND-PRESS-BLOCK\",\"@code\":null,\"@template\":\"NONE\",\"@flowId\":null,\"@flowExecutionId\":null,\"@provider\":null,\"@lastModifiedAt\":null},{\"@type\":\"PC-NEWSSTAND-PRESS-BLOCK\",\"blocks\":null,\"materials\":null,\"excludeInPaging\":false,\"positionForPaging\":0,\"realtime\":false,\"pid\":\"826\",\"name\":\"톱데일리\",\"logoLight\":{\"url\":\"https://s.pstatic.net/static/newsstand/up/2022/0817/nsd14491516.png\"},\"logoDark\":{\"url\":\"https://s.pstatic.net/static/newsstand/up/2022/0817/nsd14499446.png\"},\"showThumbnailView\":true,\"showListView\":true,\"regDate\":\"20230717 00:40:08\",\"_id\":null,\"@type\":\"PC-NEWSSTAND-PRESS-BLOCK\",\"@code\":null,\"@template\":\"NONE\",\"@flowId\":null,\"@flowExecutionId\":null,\"@provider\":null,\"@lastModifiedAt\":null},{\"@type\":\"PC-NEWSSTAND-PRESS-BLOCK\",\"blocks\":null,\"materials\":null,\"excludeInPaging\":false,\"positionForPaging\":0,\"realtime\":false,\"pid\":\"947\",\"name\":\"조이뉴스24\",\"logoLight\":{\"url\":\"https://s.pstatic.net/static/newsstand/2020/logo/light/0604/947.png\"},\"logoDark\":{\"url\":\"https://s.pstatic.net/static/newsstand/2020/logo/dark/0604/947.png\"},\"showThumbnailView\":true,\"showListView\":true,\"regDate\":\"20230716 20:10:10\",\"_id\":null,\"@type\":\"PC-NEWSSTAND-PRESS-BLOCK\",\"@code\":null,\"@template\":\"NONE\",\"@flowId\":null,\"@flowExecutionId\":null,\"@provider\":null,\"@lastModifiedAt\":null},{\"@type\":\"PC-NEWSSTAND-PRESS-BLOCK\",\"blocks\":null,\"materials\":null,\"excludeInPaging\":false,\"positionForPaging\":0,\"realtime\":false,\"pid\":\"827\",\"name\":\"베이비뉴스\",\"logoLight\":{\"url\":\"https://s.pstatic.net/static/newsstand/up/2021/0222/nsd13325188.png\"},\"logoDark\":{\"url\":\"https://s.pstatic.net/static/newsstand/up/2021/0222/nsd13338358.png\"},\"showThumbnailView\":true,\"showListView\":true,\"regDate\":\"20230717 00:40:36\",\"_id\":null,\"@type\":\"PC-NEWSSTAND-PRESS-BLOCK\",\"@code\":null,\"@template\":\"NONE\",\"@flowId\":null,\"@flowExecutionId\":null,\"@provider\":null,\"@lastModifiedAt\":null},{\"@type\":\"PC-NEWSSTAND-PRESS-BLOCK\",\"blocks\":null,\"materials\":null,\"excludeInPaging\":false,\"positionForPaging\":0,\"realtime\":false,\"pid\":\"948\",\"name\":\"한겨레21\",\"logoLight\":{\"url\":\"https://s.pstatic.net/static/newsstand/2020/logo/light/0604/948.png\"},\"logoDark\":{\"url\":\"https://s.pstatic.net/static/newsstand/2020/logo/dark/0604/948.png\"},\"showThumbnailView\":true,\"showListView\":true,\"regDate\":\"20230716 22:43:59\",\"_id\":null,\"@type\":\"PC-NEWSSTAND-PRESS-BLOCK\",\"@code\":null,\"@template\":\"NONE\",\"@flowId\":null,\"@flowExecutionId\":null,\"@provider\":null,\"@lastModifiedAt\":null},{\"@type\":\"PC-NEWSSTAND-PRESS-BLOCK\",\"blocks\":null,\"materials\":null,\"excludeInPaging\":false,\"positionForPaging\":0,\"realtime\":false,\"pid\":\"828\",\"name\":\"식품저널 foodnews\",\"logoLight\":{\"url\":\"https://s.pstatic.net/static/newsstand/up/2021/0211/nsd0427277.png\"},\"logoDark\":{\"url\":\"https://s.pstatic.net/static/newsstand/up/2021/0211/nsd0439284.png\"},\"showThumbnailView\":true,\"showListView\":true,\"regDate\":\"20230717 00:40:36\",\"_id\":null,\"@type\":\"PC-NEWSSTAND-PRESS-BLOCK\",\"@code\":null,\"@template\":\"NONE\",\"@flowId\":null,\"@flowExecutionId\":null,\"@provider\":null,\"@lastModifiedAt\":null},{\"@type\":\"PC-NEWSSTAND-PRESS-BLOCK\",\"blocks\":null,\"materials\":null,\"excludeInPaging\":false,\"positionForPaging\":0,\"realtime\":false,\"pid\":\"829\",\"name\":\"미디어스\",\"logoLight\":{\"url\":\"https://s.pstatic.net/static/newsstand/up/2021/0211/nsd01153196.png\"},\"logoDark\":{\"url\":\"https://s.pstatic.net/static/newsstand/up/2021/0211/nsd01153196.png\"},\"showThumbnailView\":true,\"showListView\":true,\"regDate\":\"20230717 00:40:45\",\"_id\":null,\"@type\":\"PC-NEWSSTAND-PRESS-BLOCK\",\"@code\":null,\"@template\":\"NONE\",\"@flowId\":null,\"@flowExecutionId\":null,\"@provider\":null,\"@lastModifiedAt\":null},{\"@type\":\"PC-NEWSSTAND-PRESS-BLOCK\",\"blocks\":null,\"materials\":null,\"excludeInPaging\":false,\"positionForPaging\":0,\"realtime\":false,\"pid\":\"391\",\"name\":\"충청일보\",\"logoLight\":{\"url\":\"https://s.pstatic.net/static/newsstand/2020/logo/light/0604/391.png\"},\"logoDark\":{\"url\":\"https://s.pstatic.net/static/newsstand/2020/logo/dark/0604/391.png\"},\"showThumbnailView\":true,\"showListView\":true,\"regDate\":\"20230716 22:05:00\",\"_id\":null,\"@type\":\"PC-NEWSSTAND-PRESS-BLOCK\",\"@code\":null,\"@template\":\"NONE\",\"@flowId\":null,\"@flowExecutionId\":null,\"@provider\":null,\"@lastModifiedAt\":null},{\"@type\":\"PC-NEWSSTAND-PRESS-BLOCK\",\"blocks\":null,\"materials\":null,\"excludeInPaging\":false,\"positionForPaging\":0,\"realtime\":false,\"pid\":\"030\",\"name\":\"전자신문\",\"logoLight\":{\"url\":\"https://s.pstatic.net/static/newsstand/2020/logo/light/0604/030.png\"},\"logoDark\":{\"url\":\"https://s.pstatic.net/static/newsstand/2020/logo/dark/0604/030.png\"},\"showThumbnailView\":true,\"showListView\":true,\"regDate\":\"20230717 00:40:10\",\"_id\":null,\"@type\":\"PC-NEWSSTAND-PRESS-BLOCK\",\"@code\":null,\"@template\":\"NONE\",\"@flowId\":null,\"@flowExecutionId\":null,\"@provider\":null,\"@lastModifiedAt\":null},{\"@type\":\"PC-NEWSSTAND-PRESS-BLOCK\",\"blocks\":null,\"materials\":null,\"excludeInPaging\":false,\"positionForPaging\":0,\"realtime\":false,\"pid\":\"031\",\"name\":\"아이뉴스24\",\"logoLight\":{\"url\":\"https://s.pstatic.net/static/newsstand/2020/logo/light/0604/031.png\"},\"logoDark\":{\"url\":\"https://s.pstatic.net/static/newsstand/2020/logo/dark/0604/031.png\"},\"showThumbnailView\":true,\"showListView\":true,\"regDate\":\"20230717 00:00:12\",\"_id\":null,\"@type\":\"PC-NEWSSTAND-PRESS-BLOCK\",\"@code\":null,\"@template\":\"NONE\",\"@flowId\":null,\"@flowExecutionId\":null,\"@provider\":null,\"@lastModifiedAt\":null},{\"@type\":\"PC-NEWSSTAND-PRESS-BLOCK\",\"blocks\":null,\"materials\":null,\"excludeInPaging\":false,\"positionForPaging\":0,\"realtime\":false,\"pid\":\"032\",\"name\":\"경향신문\",\"logoLight\":{\"url\":\"https://s.pstatic.net/static/newsstand/2020/logo/light/0604/032.png\"},\"logoDark\":{\"url\":\"https://s.pstatic.net/static/newsstand/2020/logo/dark/0604/032.png\"},\"showThumbnailView\":true,\"showListView\":true,\"regDate\":\"20230716 22:25:12\",\"_id\":null,\"@type\":\"PC-NEWSSTAND-PRESS-BLOCK\",\"@code\":null,\"@template\":\"NONE\",\"@flowId\":null,\"@flowExecutionId\":null,\"@provider\":null,\"@lastModifiedAt\":null},{\"@type\":\"PC-NEWSSTAND-PRESS-BLOCK\",\"blocks\":null,\"materials\":null,\"excludeInPaging\":false,\"positionForPaging\":0,\"realtime\":false,\"pid\":\"396\",\"name\":\"스포츠월드\",\"logoLight\":{\"url\":\"https://s.pstatic.net/static/newsstand/2020/logo/light/0604/396.png\"},\"logoDark\":{\"url\":\"https://s.pstatic.net/static/newsstand/2020/logo/dark/0604/396.png\"},\"showThumbnailView\":true,\"showListView\":true,\"regDate\":\"20230717 00:02:26\",\"_id\":null,\"@type\":\"PC-NEWSSTAND-PRESS-BLOCK\",\"@code\":null,\"@template\":\"NONE\",\"@flowId\":null,\"@flowExecutionId\":null,\"@provider\":null,\"@lastModifiedAt\":null},{\"@type\":\"PC-NEWSSTAND-PRESS-BLOCK\",\"blocks\":null,\"materials\":null,\"excludeInPaging\":false,\"positionForPaging\":0,\"realtime\":false,\"pid\":\"277\",\"name\":\"아시아경제\",\"logoLight\":{\"url\":\"https://s.pstatic.net/static/newsstand/2020/logo/light/0604/277.png\"},\"logoDark\":{\"url\":\"https://s.pstatic.net/static/newsstand/2020/logo/dark/0604/277.png\"},\"showThumbnailView\":true,\"showListView\":true,\"regDate\":\"20230716 22:03:11\",\"_id\":null,\"@type\":\"PC-NEWSSTAND-PRESS-BLOCK\",\"@code\":null,\"@template\":\"NONE\",\"@flowId\":null,\"@flowExecutionId\":null,\"@provider\":null,\"@lastModifiedAt\":null},{\"@type\":\"PC-NEWSSTAND-PRESS-BLOCK\",\"blocks\":null,\"materials\":null,\"excludeInPaging\":false,\"positionForPaging\":0,\"realtime\":false,\"pid\":\"950\",\"name\":\"월간중앙\",\"logoLight\":{\"url\":\"https://s.pstatic.net/static/newsstand/2020/logo/light/0604/950.png\"},\"logoDark\":{\"url\":\"https://s.pstatic.net/static/newsstand/2020/logo/dark/0604/950.png\"},\"showThumbnailView\":true,\"showListView\":true,\"regDate\":\"20230717 00:00:00\",\"_id\":null,\"@type\":\"PC-NEWSSTAND-PRESS-BLOCK\",\"@code\":null,\"@template\":\"NONE\",\"@flowId\":null,\"@flowExecutionId\":null,\"@provider\":null,\"@lastModifiedAt\":null},{\"@type\":\"PC-NEWSSTAND-PRESS-BLOCK\",\"blocks\":null,\"materials\":null,\"excludeInPaging\":false,\"positionForPaging\":0,\"realtime\":false,\"pid\":\"038\",\"name\":\"한국일보\",\"logoLight\":{\"url\":\"https://s.pstatic.net/static/newsstand/2020/logo/light/0604/038.png\"},\"logoDark\":{\"url\":\"https://s.pstatic.net/static/newsstand/2020/logo/dark/0604/038.png\"},\"showThumbnailView\":true,\"showListView\":true,\"regDate\":\"20230717 00:00:25\",\"_id\":null,\"@type\":\"PC-NEWSSTAND-PRESS-BLOCK\",\"@code\":null,\"@template\":\"NONE\",\"@flowId\":null,\"@flowExecutionId\":null,\"@provider\":null,\"@lastModifiedAt\":null},{\"@type\":\"PC-NEWSSTAND-PRESS-BLOCK\",\"blocks\":null,\"materials\":null,\"excludeInPaging\":false,\"positionForPaging\":0,\"realtime\":false,\"pid\":\"830\",\"name\":\"게임동아\",\"logoLight\":{\"url\":\"https://s.pstatic.net/static/newsstand/up/2021/0211/nsd02321523.png\"},\"logoDark\":{\"url\":\"https://s.pstatic.net/static/newsstand/up/2021/0211/nsd02332888.png\"},\"showThumbnailView\":true,\"showListView\":true,\"regDate\":\"20230714 18:14:41\",\"_id\":null,\"@type\":\"PC-NEWSSTAND-PRESS-BLOCK\",\"@code\":null,\"@template\":\"NONE\",\"@flowId\":null,\"@flowExecutionId\":null,\"@provider\":null,\"@lastModifiedAt\":null},{\"@type\":\"PC-NEWSSTAND-PRESS-BLOCK\",\"blocks\":null,\"materials\":null,\"excludeInPaging\":false,\"positionForPaging\":0,\"realtime\":false,\"pid\":\"951\",\"name\":\"포브스코리아\",\"logoLight\":{\"url\":\"https://s.pstatic.net/static/newsstand/2020/logo/light/0604/951.png\"},\"logoDark\":{\"url\":\"https://s.pstatic.net/static/newsstand/2020/logo/dark/0604/951.png\"},\"showThumbnailView\":true,\"showListView\":true,\"regDate\":\"20230717 00:00:00\",\"_id\":null,\"@type\":\"PC-NEWSSTAND-PRESS-BLOCK\",\"@code\":null,\"@template\":\"NONE\",\"@flowId\":null,\"@flowExecutionId\":null,\"@provider\":null,\"@lastModifiedAt\":null},{\"@type\":\"PC-NEWSSTAND-PRESS-BLOCK\",\"blocks\":null,\"materials\":null,\"excludeInPaging\":false,\"positionForPaging\":0,\"realtime\":false,\"pid\":\"952\",\"name\":\"보안뉴스\",\"logoLight\":{\"url\":\"https://s.pstatic.net/static/newsstand/2020/logo/light/0604/952.png\"},\"logoDark\":{\"url\":\"https://s.pstatic.net/static/newsstand/2020/logo/dark/0604/952.png\"},\"showThumbnailView\":true,\"showListView\":true,\"regDate\":\"20230717 00:17:00\",\"_id\":null,\"@type\":\"PC-NEWSSTAND-PRESS-BLOCK\",\"@code\":null,\"@template\":\"NONE\",\"@flowId\":null,\"@flowExecutionId\":null,\"@provider\":null,\"@lastModifiedAt\":null},{\"@type\":\"PC-NEWSSTAND-PRESS-BLOCK\",\"blocks\":null,\"materials\":null,\"excludeInPaging\":false,\"positionForPaging\":0,\"realtime\":false,\"pid\":\"953\",\"name\":\"디지털투데이\",\"logoLight\":{\"url\":\"https://s.pstatic.net/static/newsstand/2020/logo/light/0604/953.png\"},\"logoDark\":{\"url\":\"https://s.pstatic.net/static/newsstand/2020/logo/dark/0604/953.png\"},\"showThumbnailView\":true,\"showListView\":true,\"regDate\":\"20230717 00:00:02\",\"_id\":null,\"@type\":\"PC-NEWSSTAND-PRESS-BLOCK\",\"@code\":null,\"@template\":\"NONE\",\"@flowId\":null,\"@flowExecutionId\":null,\"@provider\":null,\"@lastModifiedAt\":null},{\"@type\":\"PC-NEWSSTAND-PRESS-BLOCK\",\"blocks\":null,\"materials\":null,\"excludeInPaging\":false,\"positionForPaging\":0,\"realtime\":false,\"pid\":\"954\",\"name\":\"CNB뉴스\",\"logoLight\":{\"url\":\"https://s.pstatic.net/static/newsstand/2020/logo/light/0604/954.png\"},\"logoDark\":{\"url\":\"https://s.pstatic.net/static/newsstand/2020/logo/dark/0604/954.png\"},\"showThumbnailView\":true,\"showListView\":true,\"regDate\":\"20230715 16:05:02\",\"_id\":null,\"@type\":\"PC-NEWSSTAND-PRESS-BLOCK\",\"@code\":null,\"@template\":\"NONE\",\"@flowId\":null,\"@flowExecutionId\":null,\"@provider\":null,\"@lastModifiedAt\":null},{\"@type\":\"PC-NEWSSTAND-PRESS-BLOCK\",\"blocks\":null,\"materials\":null,\"excludeInPaging\":false,\"positionForPaging\":0,\"realtime\":false,\"pid\":\"955\",\"name\":\"독서신문\",\"logoLight\":{\"url\":\"https://s.pstatic.net/static/newsstand/2020/logo/light/0604/955.png\"},\"logoDark\":{\"url\":\"https://s.pstatic.net/static/newsstand/2020/logo/dark/0604/955.png\"},\"showThumbnailView\":true,\"showListView\":true,\"regDate\":\"20230717 00:40:07\",\"_id\":null,\"@type\":\"PC-NEWSSTAND-PRESS-BLOCK\",\"@code\":null,\"@template\":\"NONE\",\"@flowId\":null,\"@flowExecutionId\":null,\"@provider\":null,\"@lastModifiedAt\":null},{\"@type\":\"PC-NEWSSTAND-PRESS-BLOCK\",\"blocks\":null,\"materials\":null,\"excludeInPaging\":false,\"positionForPaging\":0,\"realtime\":false,\"pid\":\"956\",\"name\":\"철강금속신문\",\"logoLight\":{\"url\":\"https://s.pstatic.net/static/newsstand/2020/logo/light/0604/956.png\"},\"logoDark\":{\"url\":\"https://s.pstatic.net/static/newsstand/2020/logo/dark/0604/956.png\"},\"showThumbnailView\":true,\"showListView\":true,\"regDate\":\"20230717 00:40:05\",\"_id\":null,\"@type\":\"PC-NEWSSTAND-PRESS-BLOCK\",\"@code\":null,\"@template\":\"NONE\",\"@flowId\":null,\"@flowExecutionId\":null,\"@provider\":null,\"@lastModifiedAt\":null},{\"@type\":\"PC-NEWSSTAND-PRESS-BLOCK\",\"blocks\":null,\"materials\":null,\"excludeInPaging\":false,\"positionForPaging\":0,\"realtime\":false,\"pid\":\"957\",\"name\":\"시사위크\",\"logoLight\":{\"url\":\"https://s.pstatic.net/static/newsstand/2020/logo/light/0604/957.png\"},\"logoDark\":{\"url\":\"https://s.pstatic.net/static/newsstand/2020/logo/dark/0604/957.png\"},\"showThumbnailView\":true,\"showListView\":true,\"regDate\":\"20230714 18:20:07\",\"_id\":null,\"@type\":\"PC-NEWSSTAND-PRESS-BLOCK\",\"@code\":null,\"@template\":\"NONE\",\"@flowId\":null,\"@flowExecutionId\":null,\"@provider\":null,\"@lastModifiedAt\":null},{\"@type\":\"PC-NEWSSTAND-PRESS-BLOCK\",\"blocks\":null,\"materials\":null,\"excludeInPaging\":false,\"positionForPaging\":0,\"realtime\":false,\"pid\":\"958\",\"name\":\"베리타스알파\",\"logoLight\":{\"url\":\"https://s.pstatic.net/static/newsstand/2020/logo/light/0604/958.png\"},\"logoDark\":{\"url\":\"https://s.pstatic.net/static/newsstand/2020/logo/dark/0604/958.png\"},\"showThumbnailView\":true,\"showListView\":true,\"regDate\":\"20230714 18:11:39\",\"_id\":null,\"@type\":\"PC-NEWSSTAND-PRESS-BLOCK\",\"@code\":null,\"@template\":\"NONE\",\"@flowId\":null,\"@flowExecutionId\":null,\"@provider\":null,\"@lastModifiedAt\":null},{\"@type\":\"PC-NEWSSTAND-PRESS-BLOCK\",\"blocks\":null,\"materials\":null,\"excludeInPaging\":false,\"positionForPaging\":0,\"realtime\":false,\"pid\":\"959\",\"name\":\"M이코노미뉴스\",\"logoLight\":{\"url\":\"https://s.pstatic.net/static/newsstand/up/2021/1221/nsd15292271.png\"},\"logoDark\":{\"url\":\"https://s.pstatic.net/static/newsstand/up/2021/1221/nsd171157172.png\"},\"showThumbnailView\":true,\"showListView\":true,\"regDate\":\"20230717 00:40:05\",\"_id\":null,\"@type\":\"PC-NEWSSTAND-PRESS-BLOCK\",\"@code\":null,\"@template\":\"NONE\",\"@flowId\":null,\"@flowExecutionId\":null,\"@provider\":null,\"@lastModifiedAt\":null},{\"@type\":\"PC-NEWSSTAND-PRESS-BLOCK\",\"blocks\":null,\"materials\":null,\"excludeInPaging\":false,\"positionForPaging\":0,\"realtime\":false,\"pid\":\"040\",\"name\":\"코리아타임스\",\"logoLight\":{\"url\":\"https://s.pstatic.net/static/newsstand/2020/logo/light/0604/040.png\"},\"logoDark\":{\"url\":\"https://s.pstatic.net/static/newsstand/2020/logo/dark/0604/040.png\"},\"showThumbnailView\":true,\"showListView\":true,\"regDate\":\"20230717 00:45:10\",\"_id\":null,\"@type\":\"PC-NEWSSTAND-PRESS-BLOCK\",\"@code\":null,\"@template\":\"NONE\",\"@flowId\":null,\"@flowExecutionId\":null,\"@provider\":null,\"@lastModifiedAt\":null},{\"@type\":\"PC-NEWSSTAND-PRESS-BLOCK\",\"blocks\":null,\"materials\":null,\"excludeInPaging\":false,\"positionForPaging\":0,\"realtime\":false,\"pid\":\"042\",\"name\":\"데일리한국\",\"logoLight\":{\"url\":\"https://s.pstatic.net/static/newsstand/2020/logo/light/0604/042.png\"},\"logoDark\":{\"url\":\"https://s.pstatic.net/static/newsstand/2020/logo/dark/0604/042.png\"},\"showThumbnailView\":true,\"showListView\":true,\"regDate\":\"20230717 00:40:42\",\"_id\":null,\"@type\":\"PC-NEWSSTAND-PRESS-BLOCK\",\"@code\":null,\"@template\":\"NONE\",\"@flowId\":null,\"@flowExecutionId\":null,\"@provider\":null,\"@lastModifiedAt\":null},{\"@type\":\"PC-NEWSSTAND-PRESS-BLOCK\",\"blocks\":null,\"materials\":null,\"excludeInPaging\":false,\"positionForPaging\":0,\"realtime\":false,\"pid\":\"044\",\"name\":\"코리아헤럴드\",\"logoLight\":{\"url\":\"https://s.pstatic.net/static/newsstand/2020/logo/light/0604/044.png\"},\"logoDark\":{\"url\":\"https://s.pstatic.net/static/newsstand/2020/logo/dark/0604/044.png\"},\"showThumbnailView\":true,\"showListView\":true,\"regDate\":\"20230716 23:54:20\",\"_id\":null,\"@type\":\"PC-NEWSSTAND-PRESS-BLOCK\",\"@code\":null,\"@template\":\"NONE\",\"@flowId\":null,\"@flowExecutionId\":null,\"@provider\":null,\"@lastModifiedAt\":null},{\"@type\":\"PC-NEWSSTAND-PRESS-BLOCK\",\"blocks\":null,\"materials\":null,\"excludeInPaging\":false,\"positionForPaging\":0,\"realtime\":false,\"pid\":\"047\",\"name\":\"오마이뉴스\",\"logoLight\":{\"url\":\"https://s.pstatic.net/static/newsstand/2020/logo/light/0604/047.png\"},\"logoDark\":{\"url\":\"https://s.pstatic.net/static/newsstand/2020/logo/dark/0604/047.png\"},\"showThumbnailView\":true,\"showListView\":true,\"regDate\":\"20230716 23:06:08\",\"_id\":null,\"@type\":\"PC-NEWSSTAND-PRESS-BLOCK\",\"@code\":null,\"@template\":\"NONE\",\"@flowId\":null,\"@flowExecutionId\":null,\"@provider\":null,\"@lastModifiedAt\":null},{\"@type\":\"PC-NEWSSTAND-PRESS-BLOCK\",\"blocks\":null,\"materials\":null,\"excludeInPaging\":false,\"positionForPaging\":0,\"realtime\":false,\"pid\":\"960\",\"name\":\"대한경제\",\"logoLight\":{\"url\":\"https://s.pstatic.net/static/newsstand/up/2022/1115/nsd153942530.png\"},\"logoDark\":{\"url\":\"https://s.pstatic.net/static/newsstand/up/2022/1115/nsd153934427.png\"},\"showThumbnailView\":true,\"showListView\":true,\"regDate\":\"20230717 00:40:20\",\"_id\":null,\"@type\":\"PC-NEWSSTAND-PRESS-BLOCK\",\"@code\":null,\"@template\":\"NONE\",\"@flowId\":null,\"@flowExecutionId\":null,\"@provider\":null,\"@lastModifiedAt\":null},{\"@type\":\"PC-NEWSSTAND-PRESS-BLOCK\",\"blocks\":null,\"materials\":null,\"excludeInPaging\":false,\"positionForPaging\":0,\"realtime\":false,\"pid\":\"961\",\"name\":\"메트로신문\",\"logoLight\":{\"url\":\"https://s.pstatic.net/static/newsstand/2020/logo/light/0604/961.png\"},\"logoDark\":{\"url\":\"https://s.pstatic.net/static/newsstand/2020/logo/dark/0604/961.png\"},\"showThumbnailView\":true,\"showListView\":true,\"regDate\":\"20230716 16:11:16\",\"_id\":null,\"@type\":\"PC-NEWSSTAND-PRESS-BLOCK\",\"@code\":null,\"@template\":\"NONE\",\"@flowId\":null,\"@flowExecutionId\":null,\"@provider\":null,\"@lastModifiedAt\":null},{\"@type\":\"PC-NEWSSTAND-PRESS-BLOCK\",\"blocks\":null,\"materials\":null,\"excludeInPaging\":false,\"positionForPaging\":0,\"realtime\":false,\"pid\":\"962\",\"name\":\"스포츠한국\",\"logoLight\":{\"url\":\"https://s.pstatic.net/static/newsstand/2020/logo/light/0604/962.png\"},\"logoDark\":{\"url\":\"https://s.pstatic.net/static/newsstand/2020/logo/dark/0604/962.png\"},\"showThumbnailView\":true,\"showListView\":true,\"regDate\":\"20230717 00:40:44\",\"_id\":null,\"@type\":\"PC-NEWSSTAND-PRESS-BLOCK\",\"@code\":null,\"@template\":\"NONE\",\"@flowId\":null,\"@flowExecutionId\":null,\"@provider\":null,\"@lastModifiedAt\":null},{\"@type\":\"PC-NEWSSTAND-PRESS-BLOCK\",\"blocks\":null,\"materials\":null,\"excludeInPaging\":false,\"positionForPaging\":0,\"realtime\":false,\"pid\":\"963\",\"name\":\"에너지경제\",\"logoLight\":{\"url\":\"https://s.pstatic.net/static/newsstand/2020/logo/light/0604/963.png\"},\"logoDark\":{\"url\":\"https://s.pstatic.net/static/newsstand/2020/logo/dark/0604/963.png\"},\"showThumbnailView\":true,\"showListView\":true,\"regDate\":\"20230717 00:40:01\",\"_id\":null,\"@type\":\"PC-NEWSSTAND-PRESS-BLOCK\",\"@code\":null,\"@template\":\"NONE\",\"@flowId\":null,\"@flowExecutionId\":null,\"@provider\":null,\"@lastModifiedAt\":null},{\"@type\":\"PC-NEWSSTAND-PRESS-BLOCK\",\"blocks\":null,\"materials\":null,\"excludeInPaging\":false,\"positionForPaging\":0,\"realtime\":false,\"pid\":\"964\",\"name\":\"이뉴스투데이\",\"logoLight\":{\"url\":\"https://s.pstatic.net/static/newsstand/2020/logo/light/0604/964.png\"},\"logoDark\":{\"url\":\"https://s.pstatic.net/static/newsstand/2020/logo/dark/0604/964.png\"},\"showThumbnailView\":true,\"showListView\":true,\"regDate\":\"20230717 00:08:09\",\"_id\":null,\"@type\":\"PC-NEWSSTAND-PRESS-BLOCK\",\"@code\":null,\"@template\":\"NONE\",\"@flowId\":null,\"@flowExecutionId\":null,\"@provider\":null,\"@lastModifiedAt\":null},{\"@type\":\"PC-NEWSSTAND-PRESS-BLOCK\",\"blocks\":null,\"materials\":null,\"excludeInPaging\":false,\"positionForPaging\":0,\"realtime\":false,\"pid\":\"965\",\"name\":\"전기신문\",\"logoLight\":{\"url\":\"https://s.pstatic.net/static/newsstand/2020/logo/light/0604/965.png\"},\"logoDark\":{\"url\":\"https://s.pstatic.net/static/newsstand/2020/logo/dark/0604/965.png\"},\"showThumbnailView\":true,\"showListView\":true,\"regDate\":\"20230717 00:40:41\",\"_id\":null,\"@type\":\"PC-NEWSSTAND-PRESS-BLOCK\",\"@code\":null,\"@template\":\"NONE\",\"@flowId\":null,\"@flowExecutionId\":null,\"@provider\":null,\"@lastModifiedAt\":null},{\"@type\":\"PC-NEWSSTAND-PRESS-BLOCK\",\"blocks\":null,\"materials\":null,\"excludeInPaging\":false,\"positionForPaging\":0,\"realtime\":false,\"pid\":\"966\",\"name\":\"정신의학신문\",\"logoLight\":{\"url\":\"https://s.pstatic.net/static/newsstand/2020/logo/light/0604/966.png\"},\"logoDark\":{\"url\":\"https://s.pstatic.net/static/newsstand/2020/logo/dark/0604/966.png\"},\"showThumbnailView\":true,\"showListView\":true,\"regDate\":\"20230717 00:40:37\",\"_id\":null,\"@type\":\"PC-NEWSSTAND-PRESS-BLOCK\",\"@code\":null,\"@template\":\"NONE\",\"@flowId\":null,\"@flowExecutionId\":null,\"@provider\":null,\"@lastModifiedAt\":null},{\"@type\":\"PC-NEWSSTAND-PRESS-BLOCK\",\"blocks\":null,\"materials\":null,\"excludeInPaging\":false,\"positionForPaging\":0,\"realtime\":false,\"pid\":\"967\",\"name\":\"코리아쉬핑가제트\",\"logoLight\":{\"url\":\"https://s.pstatic.net/static/newsstand/2020/logo/light/0604/967.png\"},\"logoDark\":{\"url\":\"https://s.pstatic.net/static/newsstand/2020/logo/dark/0604/967.png\"},\"showThumbnailView\":true,\"showListView\":true,\"regDate\":\"20230717 00:40:02\",\"_id\":null,\"@type\":\"PC-NEWSSTAND-PRESS-BLOCK\",\"@code\":null,\"@template\":\"NONE\",\"@flowId\":null,\"@flowExecutionId\":null,\"@provider\":null,\"@lastModifiedAt\":null},{\"@type\":\"PC-NEWSSTAND-PRESS-BLOCK\",\"blocks\":null,\"materials\":null,\"excludeInPaging\":false,\"positionForPaging\":0,\"realtime\":false,\"pid\":\"968\",\"name\":\"한국금융신문\",\"logoLight\":{\"url\":\"https://s.pstatic.net/static/newsstand/2020/logo/light/0604/968.png\"},\"logoDark\":{\"url\":\"https://s.pstatic.net/static/newsstand/2020/logo/dark/0604/968.png\"},\"showThumbnailView\":true,\"showListView\":true,\"regDate\":\"20230714 15:19:37\",\"_id\":null,\"@type\":\"PC-NEWSSTAND-PRESS-BLOCK\",\"@code\":null,\"@template\":\"NONE\",\"@flowId\":null,\"@flowExecutionId\":null,\"@provider\":null,\"@lastModifiedAt\":null},{\"@type\":\"PC-NEWSSTAND-PRESS-BLOCK\",\"blocks\":null,\"materials\":null,\"excludeInPaging\":false,\"positionForPaging\":0,\"realtime\":false,\"pid\":\"969\",\"name\":\"매일노동뉴스\",\"logoLight\":{\"url\":\"https://s.pstatic.net/static/newsstand/2020/logo/light/0604/969.png\"},\"logoDark\":{\"url\":\"https://s.pstatic.net/static/newsstand/2020/logo/dark/0604/969.png\"},\"showThumbnailView\":true,\"showListView\":true,\"regDate\":\"20230716 07:40:03\",\"_id\":null,\"@type\":\"PC-NEWSSTAND-PRESS-BLOCK\",\"@code\":null,\"@template\":\"NONE\",\"@flowId\":null,\"@flowExecutionId\":null,\"@provider\":null,\"@lastModifiedAt\":null},{\"@type\":\"PC-NEWSSTAND-PRESS-BLOCK\",\"blocks\":null,\"materials\":null,\"excludeInPaging\":false,\"positionForPaging\":0,\"realtime\":false,\"pid\":\"050\",\"name\":\"한경비즈니스\",\"logoLight\":{\"url\":\"https://s.pstatic.net/static/newsstand/up/2020/0928/nsd125033437.png\"},\"logoDark\":{\"url\":\"https://s.pstatic.net/static/newsstand/up/2020/0928/nsd125026855.png\"},\"showThumbnailView\":true,\"showListView\":true,\"regDate\":\"20230715 09:53:17\",\"_id\":null,\"@type\":\"PC-NEWSSTAND-PRESS-BLOCK\",\"@code\":null,\"@template\":\"NONE\",\"@flowId\":null,\"@flowExecutionId\":null,\"@provider\":null,\"@lastModifiedAt\":null},{\"@type\":\"PC-NEWSSTAND-PRESS-BLOCK\",\"blocks\":null,\"materials\":null,\"excludeInPaging\":false,\"positionForPaging\":0,\"realtime\":false,\"pid\":\"293\",\"name\":\"블로터\",\"logoLight\":{\"url\":\"https://s.pstatic.net/static/newsstand/2020/logo/light/0604/293.png\"},\"logoDark\":{\"url\":\"https://s.pstatic.net/static/newsstand/2020/logo/dark/0604/293.png\"},\"showThumbnailView\":true,\"showListView\":true,\"regDate\":\"20230717 00:40:53\",\"_id\":null,\"@type\":\"PC-NEWSSTAND-PRESS-BLOCK\",\"@code\":null,\"@template\":\"NONE\",\"@flowId\":null,\"@flowExecutionId\":null,\"@provider\":null,\"@lastModifiedAt\":null},{\"@type\":\"PC-NEWSSTAND-PRESS-BLOCK\",\"blocks\":null,\"materials\":null,\"excludeInPaging\":false,\"positionForPaging\":0,\"realtime\":false,\"pid\":\"052\",\"name\":\"YTN\",\"logoLight\":{\"url\":\"https://s.pstatic.net/static/newsstand/2020/logo/light/0604/052.png\"},\"logoDark\":{\"url\":\"https://s.pstatic.net/static/newsstand/2020/logo/dark/0604/052.png\"},\"showThumbnailView\":true,\"showListView\":true,\"regDate\":\"20230717 00:20:24\",\"_id\":null,\"@type\":\"PC-NEWSSTAND-PRESS-BLOCK\",\"@code\":null,\"@template\":\"NONE\",\"@flowId\":null,\"@flowExecutionId\":null,\"@provider\":null,\"@lastModifiedAt\":null},{\"@type\":\"PC-NEWSSTAND-PRESS-BLOCK\",\"blocks\":null,\"materials\":null,\"excludeInPaging\":false,\"positionForPaging\":0,\"realtime\":false,\"pid\":\"296\",\"name\":\"코메디닷컴\",\"logoLight\":{\"url\":\"https://s.pstatic.net/static/newsstand/2020/logo/light/0604/296.png\"},\"logoDark\":{\"url\":\"https://s.pstatic.net/static/newsstand/2020/logo/dark/0604/296.png\"},\"showThumbnailView\":true,\"showListView\":true,\"regDate\":\"20230716 19:36:18\",\"_id\":null,\"@type\":\"PC-NEWSSTAND-PRESS-BLOCK\",\"@code\":null,\"@template\":\"NONE\",\"@flowId\":null,\"@flowExecutionId\":null,\"@provider\":null,\"@lastModifiedAt\":null},{\"@type\":\"PC-NEWSSTAND-PRESS-BLOCK\",\"blocks\":null,\"materials\":null,\"excludeInPaging\":false,\"positionForPaging\":0,\"realtime\":false,\"pid\":\"055\",\"name\":\"SBS\",\"logoLight\":{\"url\":\"https://s.pstatic.net/static/newsstand/2020/logo/light/0604/055.png\"},\"logoDark\":{\"url\":\"https://s.pstatic.net/static/newsstand/2020/logo/dark/0604/055.png\"},\"showThumbnailView\":true,\"showListView\":true,\"regDate\":\"20230717 00:51:24\",\"_id\":null,\"@type\":\"PC-NEWSSTAND-PRESS-BLOCK\",\"@code\":null,\"@template\":\"NONE\",\"@flowId\":null,\"@flowExecutionId\":null,\"@provider\":null,\"@lastModifiedAt\":null},{\"@type\":\"PC-NEWSSTAND-PRESS-BLOCK\",\"blocks\":null,\"materials\":null,\"excludeInPaging\":false,\"positionForPaging\":0,\"realtime\":false,\"pid\":\"056\",\"name\":\"KBS\",\"logoLight\":{\"url\":\"https://s.pstatic.net/static/newsstand/2020/logo/light/0604/056.png\"},\"logoDark\":{\"url\":\"https://s.pstatic.net/static/newsstand/2020/logo/dark/0604/056.png\"},\"showThumbnailView\":true,\"showListView\":true,\"regDate\":\"20230717 00:49:17\",\"_id\":null,\"@type\":\"PC-NEWSSTAND-PRESS-BLOCK\",\"@code\":null,\"@template\":\"NONE\",\"@flowId\":null,\"@flowExecutionId\":null,\"@provider\":null,\"@lastModifiedAt\":null},{\"@type\":\"PC-NEWSSTAND-PRESS-BLOCK\",\"blocks\":null,\"materials\":null,\"excludeInPaging\":false,\"positionForPaging\":0,\"realtime\":false,\"pid\":\"057\",\"name\":\"MBN\",\"logoLight\":{\"url\":\"https://s.pstatic.net/static/newsstand/2020/logo/light/0604/057.png\"},\"logoDark\":{\"url\":\"https://s.pstatic.net/static/newsstand/2020/logo/dark/0604/057.png\"},\"showThumbnailView\":true,\"showListView\":true,\"regDate\":\"20230717 00:49:01\",\"_id\":null,\"@type\":\"PC-NEWSSTAND-PRESS-BLOCK\",\"@code\":null,\"@template\":\"NONE\",\"@flowId\":null,\"@flowExecutionId\":null,\"@provider\":null,\"@lastModifiedAt\":null},{\"@type\":\"PC-NEWSSTAND-PRESS-BLOCK\",\"blocks\":null,\"materials\":null,\"excludeInPaging\":false,\"positionForPaging\":0,\"realtime\":false,\"pid\":\"970\",\"name\":\"소비자가만드는신문\",\"logoLight\":{\"url\":\"https://s.pstatic.net/static/newsstand/2020/logo/light/0604/970.png\"},\"logoDark\":{\"url\":\"https://s.pstatic.net/static/newsstand/2020/logo/dark/0604/970.png\"},\"showThumbnailView\":true,\"showListView\":true,\"regDate\":\"20230716 08:35:18\",\"_id\":null,\"@type\":\"PC-NEWSSTAND-PRESS-BLOCK\",\"@code\":null,\"@template\":\"NONE\",\"@flowId\":null,\"@flowExecutionId\":null,\"@provider\":null,\"@lastModifiedAt\":null},{\"@type\":\"PC-NEWSSTAND-PRESS-BLOCK\",\"blocks\":null,\"materials\":null,\"excludeInPaging\":false,\"positionForPaging\":0,\"realtime\":false,\"pid\":\"971\",\"name\":\"일요시사\",\"logoLight\":{\"url\":\"https://s.pstatic.net/static/newsstand/2020/logo/light/0604/971.png\"},\"logoDark\":{\"url\":\"https://s.pstatic.net/static/newsstand/2020/logo/dark/0604/971.png\"},\"showThumbnailView\":true,\"showListView\":true,\"regDate\":\"20230717 00:40:02\",\"_id\":null,\"@type\":\"PC-NEWSSTAND-PRESS-BLOCK\",\"@code\":null,\"@template\":\"NONE\",\"@flowId\":null,\"@flowExecutionId\":null,\"@provider\":null,\"@lastModifiedAt\":null},{\"@type\":\"PC-NEWSSTAND-PRESS-BLOCK\",\"blocks\":null,\"materials\":null,\"excludeInPaging\":false,\"positionForPaging\":0,\"realtime\":false,\"pid\":\"972\",\"name\":\"PD저널\",\"logoLight\":{\"url\":\"https://s.pstatic.net/static/newsstand/2020/logo/light/0604/972.png\"},\"logoDark\":{\"url\":\"https://s.pstatic.net/static/newsstand/2020/logo/dark/0604/972.png\"},\"showThumbnailView\":true,\"showListView\":true,\"regDate\":\"20230627 11:05:17\",\"_id\":null,\"@type\":\"PC-NEWSSTAND-PRESS-BLOCK\",\"@code\":null,\"@template\":\"NONE\",\"@flowId\":null,\"@flowExecutionId\":null,\"@provider\":null,\"@lastModifiedAt\":null},{\"@type\":\"PC-NEWSSTAND-PRESS-BLOCK\",\"blocks\":null,\"materials\":null,\"excludeInPaging\":false,\"positionForPaging\":0,\"realtime\":false,\"pid\":\"973\",\"name\":\"비즈한국\",\"logoLight\":{\"url\":\"https://s.pstatic.net/static/newsstand/2020/logo/light/0604/973.png\"},\"logoDark\":{\"url\":\"https://s.pstatic.net/static/newsstand/2020/logo/dark/0604/973.png\"},\"showThumbnailView\":true,\"showListView\":true,\"regDate\":\"20230714 10:42:51\",\"_id\":null,\"@type\":\"PC-NEWSSTAND-PRESS-BLOCK\",\"@code\":null,\"@template\":\"NONE\",\"@flowId\":null,\"@flowExecutionId\":null,\"@provider\":null,\"@lastModifiedAt\":null},{\"@type\":\"PC-NEWSSTAND-PRESS-BLOCK\",\"blocks\":null,\"materials\":null,\"excludeInPaging\":false,\"positionForPaging\":0,\"realtime\":false,\"pid\":\"974\",\"name\":\"BBS NEWS\",\"logoLight\":{\"url\":\"https://s.pstatic.net/static/newsstand/2020/logo/light/0604/974.png\"},\"logoDark\":{\"url\":\"https://s.pstatic.net/static/newsstand/2020/logo/dark/0604/974.png\"},\"showThumbnailView\":true,\"showListView\":true,\"regDate\":\"20230716 19:49:45\",\"_id\":null,\"@type\":\"PC-NEWSSTAND-PRESS-BLOCK\",\"@code\":null,\"@template\":\"NONE\",\"@flowId\":null,\"@flowExecutionId\":null,\"@provider\":null,\"@lastModifiedAt\":null},{\"@type\":\"PC-NEWSSTAND-PRESS-BLOCK\",\"blocks\":null,\"materials\":null,\"excludeInPaging\":false,\"positionForPaging\":0,\"realtime\":false,\"pid\":\"975\",\"name\":\"시사저널이코노미\",\"logoLight\":{\"url\":\"https://s.pstatic.net/static/newsstand/2020/logo/light/0604/975.png\"},\"logoDark\":{\"url\":\"https://s.pstatic.net/static/newsstand/2020/logo/dark/0604/975.png\"},\"showThumbnailView\":true,\"showListView\":true,\"regDate\":\"20230717 00:40:13\",\"_id\":null,\"@type\":\"PC-NEWSSTAND-PRESS-BLOCK\",\"@code\":null,\"@template\":\"NONE\",\"@flowId\":null,\"@flowExecutionId\":null,\"@provider\":null,\"@lastModifiedAt\":null},{\"@type\":\"PC-NEWSSTAND-PRESS-BLOCK\",\"blocks\":null,\"materials\":null,\"excludeInPaging\":false,\"positionForPaging\":0,\"realtime\":false,\"pid\":\"976\",\"name\":\"무등일보\",\"logoLight\":{\"url\":\"https://s.pstatic.net/static/newsstand/2020/logo/light/0604/976.png\"},\"logoDark\":{\"url\":\"https://s.pstatic.net/static/newsstand/2020/logo/dark/0604/976.png\"},\"showThumbnailView\":true,\"showListView\":true,\"regDate\":\"20230717 00:40:08\",\"_id\":null,\"@type\":\"PC-NEWSSTAND-PRESS-BLOCK\",\"@code\":null,\"@template\":\"NONE\",\"@flowId\":null,\"@flowExecutionId\":null,\"@provider\":null,\"@lastModifiedAt\":null},{\"@type\":\"PC-NEWSSTAND-PRESS-BLOCK\",\"blocks\":null,\"materials\":null,\"excludeInPaging\":false,\"positionForPaging\":0,\"realtime\":false,\"pid\":\"977\",\"name\":\"헬로디디\",\"logoLight\":{\"url\":\"https://s.pstatic.net/static/newsstand/2020/logo/light/0604/977.png\"},\"logoDark\":{\"url\":\"https://s.pstatic.net/static/newsstand/2020/logo/dark/0604/977.png\"},\"showThumbnailView\":true,\"showListView\":true,\"regDate\":\"20230717 00:40:34\",\"_id\":null,\"@type\":\"PC-NEWSSTAND-PRESS-BLOCK\",\"@code\":null,\"@template\":\"NONE\",\"@flowId\":null,\"@flowExecutionId\":null,\"@provider\":null,\"@lastModifiedAt\":null},{\"@type\":\"PC-NEWSSTAND-PRESS-BLOCK\",\"blocks\":null,\"materials\":null,\"excludeInPaging\":false,\"positionForPaging\":0,\"realtime\":false,\"pid\":\"978\",\"name\":\"경북도민일보\",\"logoLight\":{\"url\":\"https://s.pstatic.net/static/newsstand/2020/logo/light/0604/978.png\"},\"logoDark\":{\"url\":\"https://s.pstatic.net/static/newsstand/2020/logo/dark/0604/978.png\"},\"showThumbnailView\":true,\"showListView\":true,\"regDate\":\"20230716 18:46:58\",\"_id\":null,\"@type\":\"PC-NEWSSTAND-PRESS-BLOCK\",\"@code\":null,\"@template\":\"NONE\",\"@flowId\":null,\"@flowExecutionId\":null,\"@provider\":null,\"@lastModifiedAt\":null},{\"@type\":\"PC-NEWSSTAND-PRESS-BLOCK\",\"blocks\":null,\"materials\":null,\"excludeInPaging\":false,\"positionForPaging\":0,\"realtime\":false,\"pid\":\"979\",\"name\":\"약사공론\",\"logoLight\":{\"url\":\"https://s.pstatic.net/static/newsstand/2020/logo/light/0604/979.png\"},\"logoDark\":{\"url\":\"https://s.pstatic.net/static/newsstand/2020/logo/dark/0604/979.png\"},\"showThumbnailView\":true,\"showListView\":true,\"regDate\":\"20230716 12:28:24\",\"_id\":null,\"@type\":\"PC-NEWSSTAND-PRESS-BLOCK\",\"@code\":null,\"@template\":\"NONE\",\"@flowId\":null,\"@flowExecutionId\":null,\"@provider\":null,\"@lastModifiedAt\":null},{\"@type\":\"PC-NEWSSTAND-PRESS-BLOCK\",\"blocks\":null,\"materials\":null,\"excludeInPaging\":false,\"positionForPaging\":0,\"realtime\":false,\"pid\":\"980\",\"name\":\"KBC광주방송\",\"logoLight\":{\"url\":\"https://s.pstatic.net/static/newsstand/2020/logo/light/0604/980.png\"},\"logoDark\":{\"url\":\"https://s.pstatic.net/static/newsstand/2020/logo/dark/0604/980.png\"},\"showThumbnailView\":true,\"showListView\":true,\"regDate\":\"20230716 20:32:48\",\"_id\":null,\"@type\":\"PC-NEWSSTAND-PRESS-BLOCK\",\"@code\":null,\"@template\":\"NONE\",\"@flowId\":null,\"@flowExecutionId\":null,\"@provider\":null,\"@lastModifiedAt\":null},{\"@type\":\"PC-NEWSSTAND-PRESS-BLOCK\",\"blocks\":null,\"materials\":null,\"excludeInPaging\":false,\"positionForPaging\":0,\"realtime\":false,\"pid\":\"981\",\"name\":\"TBS\",\"logoLight\":{\"url\":\"https://s.pstatic.net/static/newsstand/2020/logo/light/0604/981.png\"},\"logoDark\":{\"url\":\"https://s.pstatic.net/static/newsstand/2020/logo/dark/0604/981.png\"},\"showThumbnailView\":true,\"showListView\":true,\"regDate\":\"20230717 00:51:53\",\"_id\":null,\"@type\":\"PC-NEWSSTAND-PRESS-BLOCK\",\"@code\":null,\"@template\":\"NONE\",\"@flowId\":null,\"@flowExecutionId\":null,\"@provider\":null,\"@lastModifiedAt\":null},{\"@type\":\"PC-NEWSSTAND-PRESS-BLOCK\",\"blocks\":null,\"materials\":null,\"excludeInPaging\":false,\"positionForPaging\":0,\"realtime\":false,\"pid\":\"982\",\"name\":\"이코노미조선\",\"logoLight\":{\"url\":\"https://s.pstatic.net/static/newsstand/2020/logo/light/0604/982.png\"},\"logoDark\":{\"url\":\"https://s.pstatic.net/static/newsstand/2020/logo/dark/0604/982.png\"},\"showThumbnailView\":true,\"showListView\":true,\"regDate\":\"20230710 14:19:13\",\"_id\":null,\"@type\":\"PC-NEWSSTAND-PRESS-BLOCK\",\"@code\":null,\"@template\":\"NONE\",\"@flowId\":null,\"@flowExecutionId\":null,\"@provider\":null,\"@lastModifiedAt\":null},{\"@type\":\"PC-NEWSSTAND-PRESS-BLOCK\",\"blocks\":null,\"materials\":null,\"excludeInPaging\":false,\"positionForPaging\":0,\"realtime\":false,\"pid\":\"983\",\"name\":\"중부매일신문\",\"logoLight\":{\"url\":\"https://s.pstatic.net/static/newsstand/2020/logo/light/0604/983.png\"},\"logoDark\":{\"url\":\"https://s.pstatic.net/static/newsstand/2020/logo/dark/0604/983.png\"},\"showThumbnailView\":true,\"showListView\":true,\"regDate\":\"20230716 20:15:15\",\"_id\":null,\"@type\":\"PC-NEWSSTAND-PRESS-BLOCK\",\"@code\":null,\"@template\":\"NONE\",\"@flowId\":null,\"@flowExecutionId\":null,\"@provider\":null,\"@lastModifiedAt\":null},{\"@type\":\"PC-NEWSSTAND-PRESS-BLOCK\",\"blocks\":null,\"materials\":null,\"excludeInPaging\":false,\"positionForPaging\":0,\"realtime\":false,\"pid\":\"984\",\"name\":\"낚시춘추\",\"logoLight\":{\"url\":\"https://s.pstatic.net/static/newsstand/2020/logo/light/0604/984.png\"},\"logoDark\":{\"url\":\"https://s.pstatic.net/static/newsstand/2020/logo/dark/0604/984.png\"},\"showThumbnailView\":true,\"showListView\":true,\"regDate\":\"20230710 15:35:00\",\"_id\":null,\"@type\":\"PC-NEWSSTAND-PRESS-BLOCK\",\"@code\":null,\"@template\":\"NONE\",\"@flowId\":null,\"@flowExecutionId\":null,\"@provider\":null,\"@lastModifiedAt\":null},{\"@type\":\"PC-NEWSSTAND-PRESS-BLOCK\",\"blocks\":null,\"materials\":null,\"excludeInPaging\":false,\"positionForPaging\":0,\"realtime\":false,\"pid\":\"986\",\"name\":\"투데이신문\",\"logoLight\":{\"url\":\"https://s.pstatic.net/static/newsstand/up/2020/1019/nsd144531857.png\"},\"logoDark\":{\"url\":\"https://s.pstatic.net/static/newsstand/up/2020/1019/nsd144525568.png\"},\"showThumbnailView\":true,\"showListView\":true,\"regDate\":\"20230717 00:40:06\",\"_id\":null,\"@type\":\"PC-NEWSSTAND-PRESS-BLOCK\",\"@code\":null,\"@template\":\"NONE\",\"@flowId\":null,\"@flowExecutionId\":null,\"@provider\":null,\"@lastModifiedAt\":null},{\"@type\":\"PC-NEWSSTAND-PRESS-BLOCK\",\"blocks\":null,\"materials\":null,\"excludeInPaging\":false,\"positionForPaging\":0,\"realtime\":false,\"pid\":\"988\",\"name\":\"이웃집과학자\",\"logoLight\":{\"url\":\"https://s.pstatic.net/static/newsstand/2020/logo/light/0604/988.png\"},\"logoDark\":{\"url\":\"https://s.pstatic.net/static/newsstand/2020/logo/dark/0604/988.png\"},\"showThumbnailView\":true,\"showListView\":true,\"regDate\":\"20230702 17:23:20\",\"_id\":null,\"@type\":\"PC-NEWSSTAND-PRESS-BLOCK\",\"@code\":null,\"@template\":\"NONE\",\"@flowId\":null,\"@flowExecutionId\":null,\"@provider\":null,\"@lastModifiedAt\":null},{\"@type\":\"PC-NEWSSTAND-PRESS-BLOCK\",\"blocks\":null,\"materials\":null,\"excludeInPaging\":false,\"positionForPaging\":0,\"realtime\":false,\"pid\":\"989\",\"name\":\"TBC\",\"logoLight\":{\"url\":\"https://s.pstatic.net/static/newsstand/2020/logo/light/0604/989.png\"},\"logoDark\":{\"url\":\"https://s.pstatic.net/static/newsstand/2020/logo/dark/0604/989.png\"},\"showThumbnailView\":true,\"showListView\":true,\"regDate\":\"20230716 21:16:39\",\"_id\":null,\"@type\":\"PC-NEWSSTAND-PRESS-BLOCK\",\"@code\":null,\"@template\":\"NONE\",\"@flowId\":null,\"@flowExecutionId\":null,\"@provider\":null,\"@lastModifiedAt\":null},{\"@type\":\"PC-NEWSSTAND-PRESS-BLOCK\",\"blocks\":null,\"materials\":null,\"excludeInPaging\":false,\"positionForPaging\":0,\"realtime\":false,\"pid\":\"073\",\"name\":\"스포츠서울\",\"logoLight\":{\"url\":\"https://s.pstatic.net/static/newsstand/up/2020/0708/nsd94830278.png\"},\"logoDark\":{\"url\":\"https://s.pstatic.net/static/newsstand/up/2020/0708/nsd94820151.png\"},\"showThumbnailView\":true,\"showListView\":true,\"regDate\":\"20230717 00:51:26\",\"_id\":null,\"@type\":\"PC-NEWSSTAND-PRESS-BLOCK\",\"@code\":null,\"@template\":\"NONE\",\"@flowId\":null,\"@flowExecutionId\":null,\"@provider\":null,\"@lastModifiedAt\":null},{\"@type\":\"PC-NEWSSTAND-PRESS-BLOCK\",\"blocks\":null,\"materials\":null,\"excludeInPaging\":false,\"positionForPaging\":0,\"realtime\":false,\"pid\":\"075\",\"name\":\"맥스무비\",\"logoLight\":{\"url\":\"https://s.pstatic.net/static/newsstand/2020/logo/light/0604/075.png\"},\"logoDark\":{\"url\":\"https://s.pstatic.net/static/newsstand/2020/logo/dark/0604/075.png\"},\"showThumbnailView\":true,\"showListView\":true,\"regDate\":\"20230716 21:07:45\",\"_id\":null,\"@type\":\"PC-NEWSSTAND-PRESS-BLOCK\",\"@code\":null,\"@template\":\"NONE\",\"@flowId\":null,\"@flowExecutionId\":null,\"@provider\":null,\"@lastModifiedAt\":null},{\"@type\":\"PC-NEWSSTAND-PRESS-BLOCK\",\"blocks\":null,\"materials\":null,\"excludeInPaging\":false,\"positionForPaging\":0,\"realtime\":false,\"pid\":\"076\",\"name\":\"스포츠조선\",\"logoLight\":{\"url\":\"https://s.pstatic.net/static/newsstand/2020/logo/light/0604/076.png\"},\"logoDark\":{\"url\":\"https://s.pstatic.net/static/newsstand/2020/logo/dark/0604/076.png\"},\"showThumbnailView\":true,\"showListView\":true,\"regDate\":\"20230716 16:56:03\",\"_id\":null,\"@type\":\"PC-NEWSSTAND-PRESS-BLOCK\",\"@code\":null,\"@template\":\"NONE\",\"@flowId\":null,\"@flowExecutionId\":null,\"@provider\":null,\"@lastModifiedAt\":null},{\"@type\":\"PC-NEWSSTAND-PRESS-BLOCK\",\"blocks\":null,\"materials\":null,\"excludeInPaging\":false,\"positionForPaging\":0,\"realtime\":false,\"pid\":\"990\",\"name\":\"주간조선\",\"logoLight\":{\"url\":\"https://s.pstatic.net/static/newsstand/2020/logo/light/0604/990.png\"},\"logoDark\":{\"url\":\"https://s.pstatic.net/static/newsstand/2020/logo/dark/0604/990.png\"},\"showThumbnailView\":true,\"showListView\":true,\"regDate\":\"20230717 00:40:46\",\"_id\":null,\"@type\":\"PC-NEWSSTAND-PRESS-BLOCK\",\"@code\":null,\"@template\":\"NONE\",\"@flowId\":null,\"@flowExecutionId\":null,\"@provider\":null,\"@lastModifiedAt\":null},{\"@type\":\"PC-NEWSSTAND-PRESS-BLOCK\",\"blocks\":null,\"materials\":null,\"excludeInPaging\":false,\"positionForPaging\":0,\"realtime\":false,\"pid\":\"991\",\"name\":\"데일리NK\",\"logoLight\":{\"url\":\"https://s.pstatic.net/static/newsstand/2020/logo/light/0604/991.png\"},\"logoDark\":{\"url\":\"https://s.pstatic.net/static/newsstand/2020/logo/dark/0604/991.png\"},\"showThumbnailView\":true,\"showListView\":true,\"regDate\":\"20230714 08:01:13\",\"_id\":null,\"@type\":\"PC-NEWSSTAND-PRESS-BLOCK\",\"@code\":null,\"@template\":\"NONE\",\"@flowId\":null,\"@flowExecutionId\":null,\"@provider\":null,\"@lastModifiedAt\":null},{\"@type\":\"PC-NEWSSTAND-PRESS-BLOCK\",\"blocks\":null,\"materials\":null,\"excludeInPaging\":false,\"positionForPaging\":0,\"realtime\":false,\"pid\":\"079\",\"name\":\"노컷뉴스\",\"logoLight\":{\"url\":\"https://s.pstatic.net/static/newsstand/2020/logo/light/0604/079.png\"},\"logoDark\":{\"url\":\"https://s.pstatic.net/static/newsstand/2020/logo/dark/0604/079.png\"},\"showThumbnailView\":true,\"showListView\":true,\"regDate\":\"20230716 23:45:46\",\"_id\":null,\"@type\":\"PC-NEWSSTAND-PRESS-BLOCK\",\"@code\":null,\"@template\":\"NONE\",\"@flowId\":null,\"@flowExecutionId\":null,\"@provider\":null,\"@lastModifiedAt\":null},{\"@type\":\"PC-NEWSSTAND-PRESS-BLOCK\",\"blocks\":null,\"materials\":null,\"excludeInPaging\":false,\"positionForPaging\":0,\"realtime\":false,\"pid\":\"993\",\"name\":\"허프포스트코리아\",\"logoLight\":{\"url\":\"https://s.pstatic.net/static/newsstand/2020/logo/light/0604/993.png\"},\"logoDark\":{\"url\":\"https://s.pstatic.net/static/newsstand/2020/logo/dark/0604/993.png\"},\"showThumbnailView\":true,\"showListView\":true,\"regDate\":\"20230717 00:40:48\",\"_id\":null,\"@type\":\"PC-NEWSSTAND-PRESS-BLOCK\",\"@code\":null,\"@template\":\"NONE\",\"@flowId\":null,\"@flowExecutionId\":null,\"@provider\":null,\"@lastModifiedAt\":null},{\"@type\":\"PC-NEWSSTAND-PRESS-BLOCK\",\"blocks\":null,\"materials\":null,\"excludeInPaging\":false,\"positionForPaging\":0,\"realtime\":false,\"pid\":\"994\",\"name\":\"AI타임스\",\"logoLight\":{\"url\":\"https://s.pstatic.net/static/newsstand/up/2021/1112/nsd102040597.png\"},\"logoDark\":{\"url\":\"https://s.pstatic.net/static/newsstand/up/2021/1112/nsd102110770.png\"},\"showThumbnailView\":true,\"showListView\":true,\"regDate\":\"20230717 00:40:39\",\"_id\":null,\"@type\":\"PC-NEWSSTAND-PRESS-BLOCK\",\"@code\":null,\"@template\":\"NONE\",\"@flowId\":null,\"@flowExecutionId\":null,\"@provider\":null,\"@lastModifiedAt\":null},{\"@type\":\"PC-NEWSSTAND-PRESS-BLOCK\",\"blocks\":null,\"materials\":null,\"excludeInPaging\":false,\"positionForPaging\":0,\"realtime\":false,\"pid\":\"995\",\"name\":\"뉴스포스트\",\"logoLight\":{\"url\":\"https://s.pstatic.net/static/newsstand/up/2021/1112/nsd10248812.png\"},\"logoDark\":{\"url\":\"https://s.pstatic.net/static/newsstand/up/2021/1112/nsd102419893.png\"},\"showThumbnailView\":true,\"showListView\":true,\"regDate\":\"20230717 00:40:40\",\"_id\":null,\"@type\":\"PC-NEWSSTAND-PRESS-BLOCK\",\"@code\":null,\"@template\":\"NONE\",\"@flowId\":null,\"@flowExecutionId\":null,\"@provider\":null,\"@lastModifiedAt\":null},{\"@type\":\"PC-NEWSSTAND-PRESS-BLOCK\",\"blocks\":null,\"materials\":null,\"excludeInPaging\":false,\"positionForPaging\":0,\"realtime\":false,\"pid\":\"996\",\"name\":\"매경헬스\",\"logoLight\":{\"url\":\"https://s.pstatic.net/static/newsstand/up/2023/0330/nsd10125746.png\"},\"logoDark\":{\"url\":\"https://s.pstatic.net/static/newsstand/up/2023/0330/nsd10148542.png\"},\"showThumbnailView\":true,\"showListView\":true,\"regDate\":\"20230717 00:40:43\",\"_id\":null,\"@type\":\"PC-NEWSSTAND-PRESS-BLOCK\",\"@code\":null,\"@template\":\"NONE\",\"@flowId\":null,\"@flowExecutionId\":null,\"@provider\":null,\"@lastModifiedAt\":null},{\"@type\":\"PC-NEWSSTAND-PRESS-BLOCK\",\"blocks\":null,\"materials\":null,\"excludeInPaging\":false,\"positionForPaging\":0,\"realtime\":false,\"pid\":\"997\",\"name\":\"뉴스펭귄\",\"logoLight\":{\"url\":\"https://s.pstatic.net/static/newsstand/up/2022/0405/nsd15024245.png\"},\"logoDark\":{\"url\":\"https://s.pstatic.net/static/newsstand/up/2022/0405/nsd15014578.png\"},\"showThumbnailView\":true,\"showListView\":true,\"regDate\":\"20230717 00:40:44\",\"_id\":null,\"@type\":\"PC-NEWSSTAND-PRESS-BLOCK\",\"@code\":null,\"@template\":\"NONE\",\"@flowId\":null,\"@flowExecutionId\":null,\"@provider\":null,\"@lastModifiedAt\":null},{\"@type\":\"PC-NEWSSTAND-PRESS-BLOCK\",\"blocks\":null,\"materials\":null,\"excludeInPaging\":false,\"positionForPaging\":0,\"realtime\":false,\"pid\":\"998\",\"name\":\"뉴스앤조이\",\"logoLight\":{\"url\":\"https://s.pstatic.net/static/newsstand/up/2022/0328/nsd22503109.png\"},\"logoDark\":{\"url\":\"https://s.pstatic.net/static/newsstand/up/2022/0328/nsd22509287.png\"},\"showThumbnailView\":true,\"showListView\":true,\"regDate\":\"20230717 00:40:43\",\"_id\":null,\"@type\":\"PC-NEWSSTAND-PRESS-BLOCK\",\"@code\":null,\"@template\":\"NONE\",\"@flowId\":null,\"@flowExecutionId\":null,\"@provider\":null,\"@lastModifiedAt\":null},{\"@type\":\"PC-NEWSSTAND-PRESS-BLOCK\",\"blocks\":null,\"materials\":null,\"excludeInPaging\":false,\"positionForPaging\":0,\"realtime\":false,\"pid\":\"081\",\"name\":\"서울신문\",\"logoLight\":{\"url\":\"https://s.pstatic.net/static/newsstand/up/2022/0208/nsd16121208.png\"},\"logoDark\":{\"url\":\"https://s.pstatic.net/static/newsstand/up/2022/0208/nsd161212576.png\"},\"showThumbnailView\":true,\"showListView\":true,\"regDate\":\"20230716 23:25:56\",\"_id\":null,\"@type\":\"PC-NEWSSTAND-PRESS-BLOCK\",\"@code\":null,\"@template\":\"NONE\",\"@flowId\":null,\"@flowExecutionId\":null,\"@provider\":null,\"@lastModifiedAt\":null},{\"@type\":\"PC-NEWSSTAND-PRESS-BLOCK\",\"blocks\":null,\"materials\":null,\"excludeInPaging\":false,\"positionForPaging\":0,\"realtime\":false,\"pid\":\"082\",\"name\":\"부산일보\",\"logoLight\":{\"url\":\"https://s.pstatic.net/static/newsstand/up/2021/0322/nsd21527882.png\"},\"logoDark\":{\"url\":\"https://s.pstatic.net/static/newsstand/up/2021/0322/nsd215225866.png\"},\"showThumbnailView\":true,\"showListView\":true,\"regDate\":\"20230716 20:47:14\",\"_id\":null,\"@type\":\"PC-NEWSSTAND-PRESS-BLOCK\",\"@code\":null,\"@template\":\"NONE\",\"@flowId\":null,\"@flowExecutionId\":null,\"@provider\":null,\"@lastModifiedAt\":null},{\"@type\":\"PC-NEWSSTAND-PRESS-BLOCK\",\"blocks\":null,\"materials\":null,\"excludeInPaging\":false,\"positionForPaging\":0,\"realtime\":false,\"pid\":\"083\",\"name\":\"광주일보\",\"logoLight\":{\"url\":\"https://s.pstatic.net/static/newsstand/up/2023/0309/nsd195548501.png\"},\"logoDark\":{\"url\":\"https://s.pstatic.net/static/newsstand/up/2023/0309/nsd1956932.png\"},\"showThumbnailView\":true,\"showListView\":true,\"regDate\":\"20230717 00:30:01\",\"_id\":null,\"@type\":\"PC-NEWSSTAND-PRESS-BLOCK\",\"@code\":null,\"@template\":\"NONE\",\"@flowId\":null,\"@flowExecutionId\":null,\"@provider\":null,\"@lastModifiedAt\":null},{\"@type\":\"PC-NEWSSTAND-PRESS-BLOCK\",\"blocks\":null,\"materials\":null,\"excludeInPaging\":false,\"positionForPaging\":0,\"realtime\":false,\"pid\":\"087\",\"name\":\"강원일보\",\"logoLight\":{\"url\":\"https://s.pstatic.net/static/newsstand/2020/logo/light/0604/087.png\"},\"logoDark\":{\"url\":\"https://s.pstatic.net/static/newsstand/2020/logo/dark/0604/087.png\"},\"showThumbnailView\":true,\"showListView\":true,\"regDate\":\"20230717 00:04:10\",\"_id\":null,\"@type\":\"PC-NEWSSTAND-PRESS-BLOCK\",\"@code\":null,\"@template\":\"NONE\",\"@flowId\":null,\"@flowExecutionId\":null,\"@provider\":null,\"@lastModifiedAt\":null},{\"@type\":\"PC-NEWSSTAND-PRESS-BLOCK\",\"blocks\":null,\"materials\":null,\"excludeInPaging\":false,\"positionForPaging\":0,\"realtime\":false,\"pid\":\"088\",\"name\":\"매일신문\",\"logoLight\":{\"url\":\"https://s.pstatic.net/static/newsstand/2020/logo/light/0604/088.png\"},\"logoDark\":{\"url\":\"https://s.pstatic.net/static/newsstand/2020/logo/dark/0604/088.png\"},\"showThumbnailView\":true,\"showListView\":true,\"regDate\":\"20230716 22:21:45\",\"_id\":null,\"@type\":\"PC-NEWSSTAND-PRESS-BLOCK\",\"@code\":null,\"@template\":\"NONE\",\"@flowId\":null,\"@flowExecutionId\":null,\"@provider\":null,\"@lastModifiedAt\":null},{\"@type\":\"PC-NEWSSTAND-PRESS-BLOCK\",\"blocks\":null,\"materials\":null,\"excludeInPaging\":false,\"positionForPaging\":0,\"realtime\":false,\"pid\":\"089\",\"name\":\"대전일보\",\"logoLight\":{\"url\":\"https://s.pstatic.net/static/newsstand/2020/logo/light/0604/089.png\"},\"logoDark\":{\"url\":\"https://s.pstatic.net/static/newsstand/2020/logo/dark/0604/089.png\"},\"showThumbnailView\":true,\"showListView\":true,\"regDate\":\"20230717 00:45:02\",\"_id\":null,\"@type\":\"PC-NEWSSTAND-PRESS-BLOCK\",\"@code\":null,\"@template\":\"NONE\",\"@flowId\":null,\"@flowExecutionId\":null,\"@provider\":null,\"@lastModifiedAt\":null},{\"@type\":\"PC-NEWSSTAND-PRESS-BLOCK\",\"blocks\":null,\"materials\":null,\"excludeInPaging\":false,\"positionForPaging\":0,\"realtime\":false,\"pid\":\"529\",\"name\":\"스포츠춘추\",\"logoLight\":{\"url\":\"https://s.pstatic.net/static/newsstand/up/2022/0116/nsd19454239.png\"},\"logoDark\":{\"url\":\"https://s.pstatic.net/static/newsstand/up/2022/0116/nsd194523259.png\"},\"showThumbnailView\":true,\"showListView\":true,\"regDate\":\"20230717 00:40:40\",\"_id\":null,\"@type\":\"PC-NEWSSTAND-PRESS-BLOCK\",\"@code\":null,\"@template\":\"NONE\",\"@flowId\":null,\"@flowExecutionId\":null,\"@provider\":null,\"@lastModifiedAt\":null},{\"@type\":\"PC-NEWSSTAND-PRESS-BLOCK\",\"blocks\":null,\"materials\":null,\"excludeInPaging\":false,\"positionForPaging\":0,\"realtime\":false,\"pid\":\"092\",\"name\":\"지디넷코리아\",\"logoLight\":{\"url\":\"https://s.pstatic.net/static/newsstand/up/2022/0905/nsd131925414.png\"},\"logoDark\":{\"url\":\"https://s.pstatic.net/static/newsstand/up/2022/0905/nsd91639628.png\"},\"showThumbnailView\":true,\"showListView\":true,\"regDate\":\"20230717 00:21:29\",\"_id\":null,\"@type\":\"PC-NEWSSTAND-PRESS-BLOCK\",\"@code\":null,\"@template\":\"NONE\",\"@flowId\":null,\"@flowExecutionId\":null,\"@provider\":null,\"@lastModifiedAt\":null},{\"@type\":\"PC-NEWSSTAND-PRESS-BLOCK\",\"blocks\":null,\"materials\":null,\"excludeInPaging\":false,\"positionForPaging\":0,\"realtime\":false,\"pid\":\"094\",\"name\":\"월간 산\",\"logoLight\":{\"url\":\"https://s.pstatic.net/static/newsstand/2020/logo/light/0604/094.png\"},\"logoDark\":{\"url\":\"https://s.pstatic.net/static/newsstand/2020/logo/dark/0604/094.png\"},\"showThumbnailView\":true,\"showListView\":true,\"regDate\":\"20230717 00:40:47\",\"_id\":null,\"@type\":\"PC-NEWSSTAND-PRESS-BLOCK\",\"@code\":null,\"@template\":\"NONE\",\"@flowId\":null,\"@flowExecutionId\":null,\"@provider\":null,\"@lastModifiedAt\":null},{\"@type\":\"PC-NEWSSTAND-PRESS-BLOCK\",\"blocks\":null,\"materials\":null,\"excludeInPaging\":false,\"positionForPaging\":0,\"realtime\":false,\"pid\":\"410\",\"name\":\"MK스포츠\",\"logoLight\":{\"url\":\"https://s.pstatic.net/static/newsstand/2020/logo/light/0604/410.png\"},\"logoDark\":{\"url\":\"https://s.pstatic.net/static/newsstand/2020/logo/dark/0604/410.png\"},\"showThumbnailView\":true,\"showListView\":true,\"regDate\":\"20230717 00:48:01\",\"_id\":null,\"@type\":\"PC-NEWSSTAND-PRESS-BLOCK\",\"@code\":null,\"@template\":\"NONE\",\"@flowId\":null,\"@flowExecutionId\":null,\"@provider\":null,\"@lastModifiedAt\":null},{\"@type\":\"PC-NEWSSTAND-PRESS-BLOCK\",\"blocks\":null,\"materials\":null,\"excludeInPaging\":false,\"positionForPaging\":0,\"realtime\":false,\"pid\":\"536\",\"name\":\"더팩트\",\"logoLight\":{\"url\":\"https://s.pstatic.net/static/newsstand/2020/logo/light/0604/536.png\"},\"logoDark\":{\"url\":\"https://s.pstatic.net/static/newsstand/2020/logo/dark/0604/536.png\"},\"showThumbnailView\":true,\"showListView\":true,\"regDate\":\"20230717 00:32:13\",\"_id\":null,\"@type\":\"PC-NEWSSTAND-PRESS-BLOCK\",\"@code\":null,\"@template\":\"NONE\",\"@flowId\":null,\"@flowExecutionId\":null,\"@provider\":null,\"@lastModifiedAt\":null},{\"@type\":\"PC-NEWSSTAND-PRESS-BLOCK\",\"blocks\":null,\"materials\":null,\"excludeInPaging\":false,\"positionForPaging\":0,\"realtime\":false,\"pid\":\"416\",\"name\":\"SBS연예뉴스\",\"logoLight\":{\"url\":\"https://s.pstatic.net/static/newsstand/up/2020/1228/nsd1681569.png\"},\"logoDark\":{\"url\":\"https://s.pstatic.net/static/newsstand/up/2020/1228/nsd1688305.png\"},\"showThumbnailView\":true,\"showListView\":true,\"regDate\":\"20230717 00:49:49\",\"_id\":null,\"@type\":\"PC-NEWSSTAND-PRESS-BLOCK\",\"@code\":null,\"@template\":\"NONE\",\"@flowId\":null,\"@flowExecutionId\":null,\"@provider\":null,\"@lastModifiedAt\":null},{\"@type\":\"PC-NEWSSTAND-PRESS-BLOCK\",\"blocks\":null,\"materials\":null,\"excludeInPaging\":false,\"positionForPaging\":0,\"realtime\":false,\"pid\":\"417\",\"name\":\"머니에스\",\"logoLight\":{\"url\":\"https://s.pstatic.net/static/newsstand/2020/logo/light/0604/417.png\"},\"logoDark\":{\"url\":\"https://s.pstatic.net/static/newsstand/2020/logo/dark/0604/417.png\"},\"showThumbnailView\":true,\"showListView\":true,\"regDate\":\"20230717 00:45:04\",\"_id\":null,\"@type\":\"PC-NEWSSTAND-PRESS-BLOCK\",\"@code\":null,\"@template\":\"NONE\",\"@flowId\":null,\"@flowExecutionId\":null,\"@provider\":null,\"@lastModifiedAt\":null},{\"@type\":\"PC-NEWSSTAND-PRESS-BLOCK\",\"blocks\":null,\"materials\":null,\"excludeInPaging\":false,\"positionForPaging\":0,\"realtime\":false,\"pid\":\"539\",\"name\":\"위키트리\",\"logoLight\":{\"url\":\"https://s.pstatic.net/static/newsstand/2020/logo/light/0604/539.png\"},\"logoDark\":{\"url\":\"https://s.pstatic.net/static/newsstand/2020/logo/dark/0604/539.png\"},\"showThumbnailView\":true,\"showListView\":true,\"regDate\":\"20230717 00:51:44\",\"_id\":null,\"@type\":\"PC-NEWSSTAND-PRESS-BLOCK\",\"@code\":null,\"@template\":\"NONE\",\"@flowId\":null,\"@flowExecutionId\":null,\"@provider\":null,\"@lastModifiedAt\":null},{\"@type\":\"PC-NEWSSTAND-PRESS-BLOCK\",\"blocks\":null,\"materials\":null,\"excludeInPaging\":false,\"positionForPaging\":0,\"realtime\":false,\"pid\":\"421\",\"name\":\"뉴스1\",\"logoLight\":{\"url\":\"https://s.pstatic.net/static/newsstand/2020/logo/light/0604/421.png\"},\"logoDark\":{\"url\":\"https://s.pstatic.net/static/newsstand/2020/logo/dark/0604/421.png\"},\"showThumbnailView\":true,\"showListView\":true,\"regDate\":\"20230717 00:00:48\",\"_id\":null,\"@type\":\"PC-NEWSSTAND-PRESS-BLOCK\",\"@code\":null,\"@template\":\"NONE\",\"@flowId\":null,\"@flowExecutionId\":null,\"@provider\":null,\"@lastModifiedAt\":null},{\"@type\":\"PC-NEWSSTAND-PRESS-BLOCK\",\"blocks\":null,\"materials\":null,\"excludeInPaging\":false,\"positionForPaging\":0,\"realtime\":false,\"pid\":\"301\",\"name\":\"광주드림\",\"logoLight\":{\"url\":\"https://s.pstatic.net/static/newsstand/2020/logo/light/0604/301.png\"},\"logoDark\":{\"url\":\"https://s.pstatic.net/static/newsstand/2020/logo/dark/0604/301.png\"},\"showThumbnailView\":true,\"showListView\":true,\"regDate\":\"20230717 00:40:33\",\"_id\":null,\"@type\":\"PC-NEWSSTAND-PRESS-BLOCK\",\"@code\":null,\"@template\":\"NONE\",\"@flowId\":null,\"@flowExecutionId\":null,\"@provider\":null,\"@lastModifiedAt\":null},{\"@type\":\"PC-NEWSSTAND-PRESS-BLOCK\",\"blocks\":null,\"materials\":null,\"excludeInPaging\":false,\"positionForPaging\":0,\"realtime\":false,\"pid\":\"422\",\"name\":\"연합뉴스TV\",\"logoLight\":{\"url\":\"https://s.pstatic.net/static/newsstand/2020/logo/light/0604/422.png\"},\"logoDark\":{\"url\":\"https://s.pstatic.net/static/newsstand/2020/logo/dark/0604/422.png\"},\"showThumbnailView\":true,\"showListView\":true,\"regDate\":\"20230717 00:51:37\",\"_id\":null,\"@type\":\"PC-NEWSSTAND-PRESS-BLOCK\",\"@code\":null,\"@template\":\"NONE\",\"@flowId\":null,\"@flowExecutionId\":null,\"@provider\":null,\"@lastModifiedAt\":null},{\"@type\":\"PC-NEWSSTAND-PRESS-BLOCK\",\"blocks\":null,\"materials\":null,\"excludeInPaging\":false,\"positionForPaging\":0,\"realtime\":false,\"pid\":\"308\",\"name\":\"시사인\",\"logoLight\":{\"url\":\"https://s.pstatic.net/static/newsstand/2020/logo/light/0604/308.png\"},\"logoDark\":{\"url\":\"https://s.pstatic.net/static/newsstand/2020/logo/dark/0604/308.png\"},\"showThumbnailView\":true,\"showListView\":true,\"regDate\":\"20230716 14:40:00\",\"_id\":null,\"@type\":\"PC-NEWSSTAND-PRESS-BLOCK\",\"@code\":null,\"@template\":\"NONE\",\"@flowId\":null,\"@flowExecutionId\":null,\"@provider\":null,\"@lastModifiedAt\":null},{\"@type\":\"PC-NEWSSTAND-PRESS-BLOCK\",\"blocks\":null,\"materials\":null,\"excludeInPaging\":false,\"positionForPaging\":0,\"realtime\":false,\"pid\":\"310\",\"name\":\"여성신문\",\"logoLight\":{\"url\":\"https://s.pstatic.net/static/newsstand/2020/logo/light/0604/310.png\"},\"logoDark\":{\"url\":\"https://s.pstatic.net/static/newsstand/2020/logo/dark/0604/310.png\"},\"showThumbnailView\":true,\"showListView\":true,\"regDate\":\"20230717 00:40:03\",\"_id\":null,\"@type\":\"PC-NEWSSTAND-PRESS-BLOCK\",\"@code\":null,\"@template\":\"NONE\",\"@flowId\":null,\"@flowExecutionId\":null,\"@provider\":null,\"@lastModifiedAt\":null},{\"@type\":\"PC-NEWSSTAND-PRESS-BLOCK\",\"blocks\":null,\"materials\":null,\"excludeInPaging\":false,\"positionForPaging\":0,\"realtime\":false,\"pid\":\"311\",\"name\":\"엑스포츠뉴스\",\"logoLight\":{\"url\":\"https://s.pstatic.net/static/newsstand/2020/logo/light/0604/311.png\"},\"logoDark\":{\"url\":\"https://s.pstatic.net/static/newsstand/2020/logo/dark/0604/311.png\"},\"showThumbnailView\":true,\"showListView\":true,\"regDate\":\"20230716 21:33:02\",\"_id\":null,\"@type\":\"PC-NEWSSTAND-PRESS-BLOCK\",\"@code\":null,\"@template\":\"NONE\",\"@flowId\":null,\"@flowExecutionId\":null,\"@provider\":null,\"@lastModifiedAt\":null},{\"@type\":\"PC-NEWSSTAND-PRESS-BLOCK\",\"blocks\":null,\"materials\":null,\"excludeInPaging\":false,\"positionForPaging\":0,\"realtime\":false,\"pid\":\"312\",\"name\":\"텐아시아\",\"logoLight\":{\"url\":\"https://s.pstatic.net/static/newsstand/2020/logo/light/0604/312.png\"},\"logoDark\":{\"url\":\"https://s.pstatic.net/static/newsstand/2020/logo/dark/0604/312.png\"},\"showThumbnailView\":true,\"showListView\":true,\"regDate\":\"20230715 16:00:37\",\"_id\":null,\"@type\":\"PC-NEWSSTAND-PRESS-BLOCK\",\"@code\":null,\"@template\":\"NONE\",\"@flowId\":null,\"@flowExecutionId\":null,\"@provider\":null,\"@lastModifiedAt\":null},{\"@type\":\"PC-NEWSSTAND-PRESS-BLOCK\",\"blocks\":null,\"materials\":null,\"excludeInPaging\":false,\"positionForPaging\":0,\"realtime\":false,\"pid\":\"314\",\"name\":\"스포츠동아\",\"logoLight\":{\"url\":\"https://s.pstatic.net/static/newsstand/2020/logo/light/0604/314.png\"},\"logoDark\":{\"url\":\"https://s.pstatic.net/static/newsstand/2020/logo/dark/0604/314.png\"},\"showThumbnailView\":true,\"showListView\":true,\"regDate\":\"20230716 23:00:54\",\"_id\":null,\"@type\":\"PC-NEWSSTAND-PRESS-BLOCK\",\"@code\":null,\"@template\":\"NONE\",\"@flowId\":null,\"@flowExecutionId\":null,\"@provider\":null,\"@lastModifiedAt\":null},{\"@type\":\"PC-NEWSSTAND-PRESS-BLOCK\",\"blocks\":null,\"materials\":null,\"excludeInPaging\":false,\"positionForPaging\":0,\"realtime\":false,\"pid\":\"681\",\"name\":\"이코노타임즈\",\"logoLight\":{\"url\":\"https://s.pstatic.net/static/newsstand/up/2022/0615/nsd7251644.png\"},\"logoDark\":{\"url\":\"https://s.pstatic.net/static/newsstand/up/2022/0615/nsd7244919.png\"},\"showThumbnailView\":true,\"showListView\":true,\"regDate\":\"20230711 16:26:50\",\"_id\":null,\"@type\":\"PC-NEWSSTAND-PRESS-BLOCK\",\"@code\":null,\"@template\":\"NONE\",\"@flowId\":null,\"@flowExecutionId\":null,\"@provider\":null,\"@lastModifiedAt\":null},{\"@type\":\"PC-NEWSSTAND-PRESS-BLOCK\",\"blocks\":null,\"materials\":null,\"excludeInPaging\":false,\"positionForPaging\":0,\"realtime\":false,\"pid\":\"440\",\"name\":\"티브이데일리\",\"logoLight\":{\"url\":\"https://s.pstatic.net/static/newsstand/2020/logo/light/0604/440.png\"},\"logoDark\":{\"url\":\"https://s.pstatic.net/static/newsstand/2020/logo/dark/0604/440.png\"},\"showThumbnailView\":true,\"showListView\":true,\"regDate\":\"20230717 00:40:01\",\"_id\":null,\"@type\":\"PC-NEWSSTAND-PRESS-BLOCK\",\"@code\":null,\"@template\":\"NONE\",\"@flowId\":null,\"@flowExecutionId\":null,\"@provider\":null,\"@lastModifiedAt\":null},{\"@type\":\"PC-NEWSSTAND-PRESS-BLOCK\",\"blocks\":null,\"materials\":null,\"excludeInPaging\":false,\"positionForPaging\":0,\"realtime\":false,\"pid\":\"682\",\"name\":\"여성경제신문\",\"logoLight\":{\"url\":\"https://s.pstatic.net/static/newsstand/up/2022/1018/nsd132851977.png\"},\"logoDark\":{\"url\":\"https://s.pstatic.net/static/newsstand/up/2022/1018/nsd132844419.png\"},\"showThumbnailView\":true,\"showListView\":true,\"regDate\":\"20230717 00:40:50\",\"_id\":null,\"@type\":\"PC-NEWSSTAND-PRESS-BLOCK\",\"@code\":null,\"@template\":\"NONE\",\"@flowId\":null,\"@flowExecutionId\":null,\"@provider\":null,\"@lastModifiedAt\":null},{\"@type\":\"PC-NEWSSTAND-PRESS-BLOCK\",\"blocks\":null,\"materials\":null,\"excludeInPaging\":false,\"positionForPaging\":0,\"realtime\":false,\"pid\":\"683\",\"name\":\"MS투데이\",\"logoLight\":{\"url\":\"https://s.pstatic.net/static/newsstand/up/2022/1017/nsd202940832.png\"},\"logoDark\":{\"url\":\"https://s.pstatic.net/static/newsstand/up/2022/1017/nsd202933363.png\"},\"showThumbnailView\":true,\"showListView\":true,\"regDate\":\"20230717 00:40:52\",\"_id\":null,\"@type\":\"PC-NEWSSTAND-PRESS-BLOCK\",\"@code\":null,\"@template\":\"NONE\",\"@flowId\":null,\"@flowExecutionId\":null,\"@provider\":null,\"@lastModifiedAt\":null},{\"@type\":\"PC-NEWSSTAND-PRESS-BLOCK\",\"blocks\":null,\"materials\":null,\"excludeInPaging\":false,\"positionForPaging\":0,\"realtime\":false,\"pid\":\"684\",\"name\":\"TJB대전방송\",\"logoLight\":{\"url\":\"https://s.pstatic.net/static/newsstand/up/2023/0103/nsd95227559.png\"},\"logoDark\":{\"url\":\"https://s.pstatic.net/static/newsstand/up/2023/0103/nsd9522095.png\"},\"showThumbnailView\":true,\"showListView\":true,\"regDate\":\"20230716 23:00:02\",\"_id\":null,\"@type\":\"PC-NEWSSTAND-PRESS-BLOCK\",\"@code\":null,\"@template\":\"NONE\",\"@flowId\":null,\"@flowExecutionId\":null,\"@provider\":null,\"@lastModifiedAt\":null},{\"@type\":\"PC-NEWSSTAND-PRESS-BLOCK\",\"blocks\":null,\"materials\":null,\"excludeInPaging\":false,\"positionForPaging\":0,\"realtime\":false,\"pid\":\"685\",\"name\":\"서울와이어\",\"logoLight\":{\"url\":\"https://s.pstatic.net/static/newsstand/up/2022/1024/nsd174430433.png\"},\"logoDark\":{\"url\":\"https://s.pstatic.net/static/newsstand/up/2022/1024/nsd174424325.png\"},\"showThumbnailView\":true,\"showListView\":true,\"regDate\":\"20230717 00:40:51\",\"_id\":null,\"@type\":\"PC-NEWSSTAND-PRESS-BLOCK\",\"@code\":null,\"@template\":\"NONE\",\"@flowId\":null,\"@flowExecutionId\":null,\"@provider\":null,\"@lastModifiedAt\":null},{\"@type\":\"PC-NEWSSTAND-PRESS-BLOCK\",\"blocks\":null,\"materials\":null,\"excludeInPaging\":false,\"positionForPaging\":0,\"realtime\":false,\"pid\":\"686\",\"name\":\"주간경향\",\"logoLight\":{\"url\":\"https://s.pstatic.net/static/newsstand/up/2022/1007/nsd161849944.png\"},\"logoDark\":{\"url\":\"https://s.pstatic.net/static/newsstand/up/2022/1007/nsd161842489.png\"},\"showThumbnailView\":true,\"showListView\":true,\"regDate\":\"20230716 21:38:28\",\"_id\":null,\"@type\":\"PC-NEWSSTAND-PRESS-BLOCK\",\"@code\":null,\"@template\":\"NONE\",\"@flowId\":null,\"@flowExecutionId\":null,\"@provider\":null,\"@lastModifiedAt\":null},{\"@type\":\"PC-NEWSSTAND-PRESS-BLOCK\",\"blocks\":null,\"materials\":null,\"excludeInPaging\":false,\"positionForPaging\":0,\"realtime\":false,\"pid\":\"687\",\"name\":\"뉴스클레임\",\"logoLight\":{\"url\":\"https://s.pstatic.net/static/newsstand/up/2022/1006/nsd205818702.png\"},\"logoDark\":{\"url\":\"https://s.pstatic.net/static/newsstand/up/2022/1006/nsd205810265.png\"},\"showThumbnailView\":true,\"showListView\":true,\"regDate\":\"20230717 00:40:49\",\"_id\":null,\"@type\":\"PC-NEWSSTAND-PRESS-BLOCK\",\"@code\":null,\"@template\":\"NONE\",\"@flowId\":null,\"@flowExecutionId\":null,\"@provider\":null,\"@lastModifiedAt\":null},{\"@type\":\"PC-NEWSSTAND-PRESS-BLOCK\",\"blocks\":null,\"materials\":null,\"excludeInPaging\":false,\"positionForPaging\":0,\"realtime\":false,\"pid\":\"688\",\"name\":\"경기신문\",\"logoLight\":{\"url\":\"https://s.pstatic.net/static/newsstand/up/2022/1017/nsd202616515.png\"},\"logoDark\":{\"url\":\"https://s.pstatic.net/static/newsstand/up/2022/1017/nsd20268714.png\"},\"showThumbnailView\":true,\"showListView\":true,\"regDate\":\"20230717 00:50:02\",\"_id\":null,\"@type\":\"PC-NEWSSTAND-PRESS-BLOCK\",\"@code\":null,\"@template\":\"NONE\",\"@flowId\":null,\"@flowExecutionId\":null,\"@provider\":null,\"@lastModifiedAt\":null},{\"@type\":\"PC-NEWSSTAND-PRESS-BLOCK\",\"blocks\":null,\"materials\":null,\"excludeInPaging\":false,\"positionForPaging\":0,\"realtime\":false,\"pid\":\"326\",\"name\":\"KBS World\",\"logoLight\":{\"url\":\"https://s.pstatic.net/static/newsstand/2020/logo/light/0604/326.png\"},\"logoDark\":{\"url\":\"https://s.pstatic.net/static/newsstand/2020/logo/dark/0604/326.png\"},\"showThumbnailView\":true,\"showListView\":true,\"regDate\":\"20230716 16:35:29\",\"_id\":null,\"@type\":\"PC-NEWSSTAND-PRESS-BLOCK\",\"@code\":null,\"@template\":\"NONE\",\"@flowId\":null,\"@flowExecutionId\":null,\"@provider\":null,\"@lastModifiedAt\":null},{\"@type\":\"PC-NEWSSTAND-PRESS-BLOCK\",\"blocks\":null,\"materials\":null,\"excludeInPaging\":false,\"positionForPaging\":0,\"realtime\":false,\"pid\":\"447\",\"name\":\"뉴스엔\",\"logoLight\":{\"url\":\"https://s.pstatic.net/static/newsstand/2020/logo/light/0604/447.png\"},\"logoDark\":{\"url\":\"https://s.pstatic.net/static/newsstand/2020/logo/dark/0604/447.png\"},\"showThumbnailView\":true,\"showListView\":true,\"regDate\":\"20230716 22:24:30\",\"_id\":null,\"@type\":\"PC-NEWSSTAND-PRESS-BLOCK\",\"@code\":null,\"@template\":\"NONE\",\"@flowId\":null,\"@flowExecutionId\":null,\"@provider\":null,\"@lastModifiedAt\":null},{\"@type\":\"PC-NEWSSTAND-PRESS-BLOCK\",\"blocks\":null,\"materials\":null,\"excludeInPaging\":false,\"positionForPaging\":0,\"realtime\":false,\"pid\":\"689\",\"name\":\"인천투데이\",\"logoLight\":{\"url\":\"https://s.pstatic.net/static/newsstand/up/2022/1107/nsd1054226.png\"},\"logoDark\":{\"url\":\"https://s.pstatic.net/static/newsstand/up/2022/1107/nsd105354391.png\"},\"showThumbnailView\":true,\"showListView\":true,\"regDate\":\"20230717 00:40:49\",\"_id\":null,\"@type\":\"PC-NEWSSTAND-PRESS-BLOCK\",\"@code\":null,\"@template\":\"NONE\",\"@flowId\":null,\"@flowExecutionId\":null,\"@provider\":null,\"@lastModifiedAt\":null},{\"@type\":\"PC-NEWSSTAND-PRESS-BLOCK\",\"blocks\":null,\"materials\":null,\"excludeInPaging\":false,\"positionForPaging\":0,\"realtime\":false,\"pid\":\"327\",\"name\":\"뉴데일리\",\"logoLight\":{\"url\":\"https://s.pstatic.net/static/newsstand/2020/logo/light/0604/327.png\"},\"logoDark\":{\"url\":\"https://s.pstatic.net/static/newsstand/2020/logo/dark/0604/327.png\"},\"showThumbnailView\":true,\"showListView\":true,\"regDate\":\"20230717 00:40:10\",\"_id\":null,\"@type\":\"PC-NEWSSTAND-PRESS-BLOCK\",\"@code\":null,\"@template\":\"NONE\",\"@flowId\":null,\"@flowExecutionId\":null,\"@provider\":null,\"@lastModifiedAt\":null},{\"@type\":\"PC-NEWSSTAND-PRESS-BLOCK\",\"blocks\":null,\"materials\":null,\"excludeInPaging\":false,\"positionForPaging\":0,\"realtime\":false,\"pid\":\"328\",\"name\":\"에이블뉴스\",\"logoLight\":{\"url\":\"https://s.pstatic.net/static/newsstand/2020/logo/light/0604/328.png\"},\"logoDark\":{\"url\":\"https://s.pstatic.net/static/newsstand/2020/logo/dark/0604/328.png\"},\"showThumbnailView\":true,\"showListView\":true,\"regDate\":\"20230717 00:40:52\",\"_id\":null,\"@type\":\"PC-NEWSSTAND-PRESS-BLOCK\",\"@code\":null,\"@template\":\"NONE\",\"@flowId\":null,\"@flowExecutionId\":null,\"@provider\":null,\"@lastModifiedAt\":null},{\"@type\":\"PC-NEWSSTAND-PRESS-BLOCK\",\"blocks\":null,\"materials\":null,\"excludeInPaging\":false,\"positionForPaging\":0,\"realtime\":false,\"pid\":\"329\",\"name\":\"소년한국일보\",\"logoLight\":{\"url\":\"https://s.pstatic.net/static/newsstand/up/2021/0728/nsd1110888.png\"},\"logoDark\":{\"url\":\"https://s.pstatic.net/static/newsstand/up/2021/0728/nsd111059924.png\"},\"showThumbnailView\":true,\"showListView\":true,\"regDate\":\"20230717 00:40:38\",\"_id\":null,\"@type\":\"PC-NEWSSTAND-PRESS-BLOCK\",\"@code\":null,\"@template\":\"NONE\",\"@flowId\":null,\"@flowExecutionId\":null,\"@provider\":null,\"@lastModifiedAt\":null},{\"@type\":\"PC-NEWSSTAND-PRESS-BLOCK\",\"blocks\":null,\"materials\":null,\"excludeInPaging\":false,\"positionForPaging\":0,\"realtime\":false,\"pid\":\"690\",\"name\":\"정책브리핑\",\"logoLight\":{\"url\":\"https://s.pstatic.net/static/newsstand/up/2022/1116/nsd113848865.png\"},\"logoDark\":{\"url\":\"https://s.pstatic.net/static/newsstand/up/2022/1116/nsd113840778.png\"},\"showThumbnailView\":true,\"showListView\":true,\"regDate\":\"20230717 00:42:00\",\"_id\":null,\"@type\":\"PC-NEWSSTAND-PRESS-BLOCK\",\"@code\":null,\"@template\":\"NONE\",\"@flowId\":null,\"@flowExecutionId\":null,\"@provider\":null,\"@lastModifiedAt\":null},{\"@type\":\"PC-NEWSSTAND-PRESS-BLOCK\",\"blocks\":null,\"materials\":null,\"excludeInPaging\":false,\"positionForPaging\":0,\"realtime\":false,\"pid\":\"691\",\"name\":\"여성동아\",\"logoLight\":{\"url\":\"https://s.pstatic.net/static/newsstand/up/2023/0418/nsd124451202.png\"},\"logoDark\":{\"url\":\"https://s.pstatic.net/static/newsstand/up/2023/0418/nsd124439166.png\"},\"showThumbnailView\":true,\"showListView\":true,\"regDate\":\"20230714 09:28:31\",\"_id\":null,\"@type\":\"PC-NEWSSTAND-PRESS-BLOCK\",\"@code\":null,\"@template\":\"NONE\",\"@flowId\":null,\"@flowExecutionId\":null,\"@provider\":null,\"@lastModifiedAt\":null},{\"@type\":\"PC-NEWSSTAND-PRESS-BLOCK\",\"blocks\":null,\"materials\":null,\"excludeInPaging\":false,\"positionForPaging\":0,\"realtime\":false,\"pid\":\"330\",\"name\":\"중앙데일리\",\"logoLight\":{\"url\":\"https://s.pstatic.net/static/newsstand/2020/logo/light/0604/330.png\"},\"logoDark\":{\"url\":\"https://s.pstatic.net/static/newsstand/2020/logo/dark/0604/330.png\"},\"showThumbnailView\":true,\"showListView\":true,\"regDate\":\"20230716 19:47:51\",\"_id\":null,\"@type\":\"PC-NEWSSTAND-PRESS-BLOCK\",\"@code\":null,\"@template\":\"NONE\",\"@flowId\":null,\"@flowExecutionId\":null,\"@provider\":null,\"@lastModifiedAt\":null},{\"@type\":\"PC-NEWSSTAND-PRESS-BLOCK\",\"blocks\":null,\"materials\":null,\"excludeInPaging\":false,\"positionForPaging\":0,\"realtime\":false,\"pid\":\"331\",\"name\":\"충청투데이\",\"logoLight\":{\"url\":\"https://s.pstatic.net/static/newsstand/2020/logo/light/0604/331.png\"},\"logoDark\":{\"url\":\"https://s.pstatic.net/static/newsstand/2020/logo/dark/0604/331.png\"},\"showThumbnailView\":true,\"showListView\":true,\"regDate\":\"20230716 18:27:01\",\"_id\":null,\"@type\":\"PC-NEWSSTAND-PRESS-BLOCK\",\"@code\":null,\"@template\":\"NONE\",\"@flowId\":null,\"@flowExecutionId\":null,\"@provider\":null,\"@lastModifiedAt\":null},{\"@type\":\"PC-NEWSSTAND-PRESS-BLOCK\",\"blocks\":null,\"materials\":null,\"excludeInPaging\":false,\"positionForPaging\":0,\"realtime\":false,\"pid\":\"332\",\"name\":\"국제신문\",\"logoLight\":{\"url\":\"https://s.pstatic.net/static/newsstand/2020/logo/light/0604/332.png\"},\"logoDark\":{\"url\":\"https://s.pstatic.net/static/newsstand/2020/logo/dark/0604/332.png\"},\"showThumbnailView\":true,\"showListView\":true,\"regDate\":\"20230716 22:07:49\",\"_id\":null,\"@type\":\"PC-NEWSSTAND-PRESS-BLOCK\",\"@code\":null,\"@template\":\"NONE\",\"@flowId\":null,\"@flowExecutionId\":null,\"@provider\":null,\"@lastModifiedAt\":null},{\"@type\":\"PC-NEWSSTAND-PRESS-BLOCK\",\"blocks\":null,\"materials\":null,\"excludeInPaging\":false,\"positionForPaging\":0,\"realtime\":false,\"pid\":\"333\",\"name\":\"경남신문\",\"logoLight\":{\"url\":\"https://s.pstatic.net/static/newsstand/2020/logo/light/0604/333.png\"},\"logoDark\":{\"url\":\"https://s.pstatic.net/static/newsstand/2020/logo/dark/0604/333.png\"},\"showThumbnailView\":true,\"showListView\":true,\"regDate\":\"20230717 00:01:03\",\"_id\":null,\"@type\":\"PC-NEWSSTAND-PRESS-BLOCK\",\"@code\":null,\"@template\":\"NONE\",\"@flowId\":null,\"@flowExecutionId\":null,\"@provider\":null,\"@lastModifiedAt\":null},{\"@type\":\"PC-NEWSSTAND-PRESS-BLOCK\",\"blocks\":null,\"materials\":null,\"excludeInPaging\":false,\"positionForPaging\":0,\"realtime\":false,\"pid\":\"213\",\"name\":\"TV리포트\",\"logoLight\":{\"url\":\"https://s.pstatic.net/static/newsstand/up/2023/0714/nsd125517690.png\"},\"logoDark\":{\"url\":\"https://s.pstatic.net/static/newsstand/up/2023/0714/nsd125510155.png\"},\"showThumbnailView\":true,\"showListView\":true,\"regDate\":\"20230716 20:13:34\",\"_id\":null,\"@type\":\"PC-NEWSSTAND-PRESS-BLOCK\",\"@code\":null,\"@template\":\"NONE\",\"@flowId\":null,\"@flowExecutionId\":null,\"@provider\":null,\"@lastModifiedAt\":null},{\"@type\":\"PC-NEWSSTAND-PRESS-BLOCK\",\"blocks\":null,\"materials\":null,\"excludeInPaging\":false,\"positionForPaging\":0,\"realtime\":false,\"pid\":\"334\",\"name\":\"제주의소리\",\"logoLight\":{\"url\":\"https://s.pstatic.net/static/newsstand/2020/logo/light/0604/334.png\"},\"logoDark\":{\"url\":\"https://s.pstatic.net/static/newsstand/2020/logo/dark/0604/334.png\"},\"showThumbnailView\":true,\"showListView\":true,\"regDate\":\"20230716 17:02:26\",\"_id\":null,\"@type\":\"PC-NEWSSTAND-PRESS-BLOCK\",\"@code\":null,\"@template\":\"NONE\",\"@flowId\":null,\"@flowExecutionId\":null,\"@provider\":null,\"@lastModifiedAt\":null},{\"@type\":\"PC-NEWSSTAND-PRESS-BLOCK\",\"blocks\":null,\"materials\":null,\"excludeInPaging\":false,\"positionForPaging\":0,\"realtime\":false,\"pid\":\"214\",\"name\":\"MBC\",\"logoLight\":{\"url\":\"https://s.pstatic.net/static/newsstand/2020/logo/light/0604/214.png\"},\"logoDark\":{\"url\":\"https://s.pstatic.net/static/newsstand/2020/logo/dark/0604/214.png\"},\"showThumbnailView\":true,\"showListView\":true,\"regDate\":\"20230717 00:21:53\",\"_id\":null,\"@type\":\"PC-NEWSSTAND-PRESS-BLOCK\",\"@code\":null,\"@template\":\"NONE\",\"@flowId\":null,\"@flowExecutionId\":null,\"@provider\":null,\"@lastModifiedAt\":null},{\"@type\":\"PC-NEWSSTAND-PRESS-BLOCK\",\"blocks\":null,\"materials\":null,\"excludeInPaging\":false,\"positionForPaging\":0,\"realtime\":false,\"pid\":\"335\",\"name\":\"강원도민일보\",\"logoLight\":{\"url\":\"https://s.pstatic.net/static/newsstand/2020/logo/light/0604/335.png\"},\"logoDark\":{\"url\":\"https://s.pstatic.net/static/newsstand/2020/logo/dark/0604/335.png\"},\"showThumbnailView\":true,\"showListView\":true,\"regDate\":\"20230717 00:10:02\",\"_id\":null,\"@type\":\"PC-NEWSSTAND-PRESS-BLOCK\",\"@code\":null,\"@template\":\"NONE\",\"@flowId\":null,\"@flowExecutionId\":null,\"@provider\":null,\"@lastModifiedAt\":null},{\"@type\":\"PC-NEWSSTAND-PRESS-BLOCK\",\"blocks\":null,\"materials\":null,\"excludeInPaging\":false,\"positionForPaging\":0,\"realtime\":false,\"pid\":\"215\",\"name\":\"한국경제TV\",\"logoLight\":{\"url\":\"https://s.pstatic.net/static/newsstand/2020/logo/light/0604/215.png\"},\"logoDark\":{\"url\":\"https://s.pstatic.net/static/newsstand/2020/logo/dark/0604/215.png\"},\"showThumbnailView\":true,\"showListView\":true,\"regDate\":\"20230717 00:00:00\",\"_id\":null,\"@type\":\"PC-NEWSSTAND-PRESS-BLOCK\",\"@code\":null,\"@template\":\"NONE\",\"@flowId\":null,\"@flowExecutionId\":null,\"@provider\":null,\"@lastModifiedAt\":null},{\"@type\":\"PC-NEWSSTAND-PRESS-BLOCK\",\"blocks\":null,\"materials\":null,\"excludeInPaging\":false,\"positionForPaging\":0,\"realtime\":false,\"pid\":\"336\",\"name\":\"전북일보\",\"logoLight\":{\"url\":\"https://s.pstatic.net/static/newsstand/2020/logo/light/0604/336.png\"},\"logoDark\":{\"url\":\"https://s.pstatic.net/static/newsstand/2020/logo/dark/0604/336.png\"},\"showThumbnailView\":true,\"showListView\":true,\"regDate\":\"20230716 19:24:15\",\"_id\":null,\"@type\":\"PC-NEWSSTAND-PRESS-BLOCK\",\"@code\":null,\"@template\":\"NONE\",\"@flowId\":null,\"@flowExecutionId\":null,\"@provider\":null,\"@lastModifiedAt\":null},{\"@type\":\"PC-NEWSSTAND-PRESS-BLOCK\",\"blocks\":null,\"materials\":null,\"excludeInPaging\":false,\"positionForPaging\":0,\"realtime\":false,\"pid\":\"337\",\"name\":\"경북일보\",\"logoLight\":{\"url\":\"https://s.pstatic.net/static/newsstand/2020/logo/light/0604/337.png\"},\"logoDark\":{\"url\":\"https://s.pstatic.net/static/newsstand/2020/logo/dark/0604/337.png\"},\"showThumbnailView\":true,\"showListView\":true,\"regDate\":\"20230715 12:12:07\",\"_id\":null,\"@type\":\"PC-NEWSSTAND-PRESS-BLOCK\",\"@code\":null,\"@template\":\"NONE\",\"@flowId\":null,\"@flowExecutionId\":null,\"@provider\":null,\"@lastModifiedAt\":null},{\"@type\":\"PC-NEWSSTAND-PRESS-BLOCK\",\"blocks\":null,\"materials\":null,\"excludeInPaging\":false,\"positionForPaging\":0,\"realtime\":false,\"pid\":\"338\",\"name\":\"경인일보\",\"logoLight\":{\"url\":\"https://s.pstatic.net/static/newsstand/2020/logo/light/0604/338.png\"},\"logoDark\":{\"url\":\"https://s.pstatic.net/static/newsstand/2020/logo/dark/0604/338.png\"},\"showThumbnailView\":true,\"showListView\":true,\"regDate\":\"20230716 21:36:43\",\"_id\":null,\"@type\":\"PC-NEWSSTAND-PRESS-BLOCK\",\"@code\":null,\"@template\":\"NONE\",\"@flowId\":null,\"@flowExecutionId\":null,\"@provider\":null,\"@lastModifiedAt\":null},{\"@type\":\"PC-NEWSSTAND-PRESS-BLOCK\",\"blocks\":null,\"materials\":null,\"excludeInPaging\":false,\"positionForPaging\":0,\"realtime\":false,\"pid\":\"339\",\"name\":\"경기일보\",\"logoLight\":{\"url\":\"https://s.pstatic.net/static/newsstand/2020/logo/light/0604/339.png\"},\"logoDark\":{\"url\":\"https://s.pstatic.net/static/newsstand/2020/logo/dark/0604/339.png\"},\"showThumbnailView\":true,\"showListView\":true,\"regDate\":\"20230716 21:07:42\",\"_id\":null,\"@type\":\"PC-NEWSSTAND-PRESS-BLOCK\",\"@code\":null,\"@template\":\"NONE\",\"@flowId\":null,\"@flowExecutionId\":null,\"@provider\":null,\"@lastModifiedAt\":null},{\"@type\":\"PC-NEWSSTAND-PRESS-BLOCK\",\"blocks\":null,\"materials\":null,\"excludeInPaging\":false,\"positionForPaging\":0,\"realtime\":false,\"pid\":\"340\",\"name\":\"OBS\",\"logoLight\":{\"url\":\"https://s.pstatic.net/static/newsstand/2020/logo/light/0604/340.png\"},\"logoDark\":{\"url\":\"https://s.pstatic.net/static/newsstand/2020/logo/dark/0604/340.png\"},\"showThumbnailView\":true,\"showListView\":true,\"regDate\":\"20230716 20:21:22\",\"_id\":null,\"@type\":\"PC-NEWSSTAND-PRESS-BLOCK\",\"@code\":null,\"@template\":\"NONE\",\"@flowId\":null,\"@flowExecutionId\":null,\"@provider\":null,\"@lastModifiedAt\":null},{\"@type\":\"PC-NEWSSTAND-PRESS-BLOCK\",\"blocks\":null,\"materials\":null,\"excludeInPaging\":false,\"positionForPaging\":0,\"realtime\":false,\"pid\":\"344\",\"name\":\"EBS\",\"logoLight\":{\"url\":\"https://s.pstatic.net/static/newsstand/up/2020/0803/nsd20247547.png\"},\"logoDark\":{\"url\":\"https://s.pstatic.net/static/newsstand/up/2020/0803/nsd202358800.png\"},\"showThumbnailView\":true,\"showListView\":true,\"regDate\":\"20230714 23:05:41\",\"_id\":null,\"@type\":\"PC-NEWSSTAND-PRESS-BLOCK\",\"@code\":null,\"@template\":\"NONE\",\"@flowId\":null,\"@flowExecutionId\":null,\"@provider\":null,\"@lastModifiedAt\":null},{\"@type\":\"PC-NEWSSTAND-PRESS-BLOCK\",\"blocks\":null,\"materials\":null,\"excludeInPaging\":false,\"positionForPaging\":0,\"realtime\":false,\"pid\":\"345\",\"name\":\"디자인정글\",\"logoLight\":{\"url\":\"https://s.pstatic.net/static/newsstand/2020/logo/light/0604/345.png\"},\"logoDark\":{\"url\":\"https://s.pstatic.net/static/newsstand/2020/logo/dark/0604/345.png\"},\"showThumbnailView\":true,\"showListView\":true,\"regDate\":\"20230716 18:27:27\",\"_id\":null,\"@type\":\"PC-NEWSSTAND-PRESS-BLOCK\",\"@code\":null,\"@template\":\"NONE\",\"@flowId\":null,\"@flowExecutionId\":null,\"@provider\":null,\"@lastModifiedAt\":null},{\"@type\":\"PC-NEWSSTAND-PRESS-BLOCK\",\"blocks\":null,\"materials\":null,\"excludeInPaging\":false,\"positionForPaging\":0,\"realtime\":false,\"pid\":\"346\",\"name\":\"헬스조선\",\"logoLight\":{\"url\":\"https://s.pstatic.net/static/newsstand/2020/logo/light/0604/346.png\"},\"logoDark\":{\"url\":\"https://s.pstatic.net/static/newsstand/2020/logo/dark/0604/346.png\"},\"showThumbnailView\":true,\"showListView\":true,\"regDate\":\"20230717 00:46:02\",\"_id\":null,\"@type\":\"PC-NEWSSTAND-PRESS-BLOCK\",\"@code\":null,\"@template\":\"NONE\",\"@flowId\":null,\"@flowExecutionId\":null,\"@provider\":null,\"@lastModifiedAt\":null},{\"@type\":\"PC-NEWSSTAND-PRESS-BLOCK\",\"blocks\":null,\"materials\":null,\"excludeInPaging\":false,\"positionForPaging\":0,\"realtime\":false,\"pid\":\"108\",\"name\":\"스타뉴스\",\"logoLight\":{\"url\":\"https://s.pstatic.net/static/newsstand/2020/logo/light/0604/108.png\"},\"logoDark\":{\"url\":\"https://s.pstatic.net/static/newsstand/2020/logo/dark/0604/108.png\"},\"showThumbnailView\":true,\"showListView\":true,\"regDate\":\"20230717 00:45:05\",\"_id\":null,\"@type\":\"PC-NEWSSTAND-PRESS-BLOCK\",\"@code\":null,\"@template\":\"NONE\",\"@flowId\":null,\"@flowExecutionId\":null,\"@provider\":null,\"@lastModifiedAt\":null},{\"@type\":\"PC-NEWSSTAND-PRESS-BLOCK\",\"blocks\":null,\"materials\":null,\"excludeInPaging\":false,\"positionForPaging\":0,\"realtime\":false,\"pid\":\"109\",\"name\":\"OSEN\",\"logoLight\":{\"url\":\"https://s.pstatic.net/static/newsstand/up/2020/0610/nsd151458769.png\"},\"logoDark\":{\"url\":\"https://s.pstatic.net/static/newsstand/up/2020/0610/nsd151458769.png\"},\"showThumbnailView\":true,\"showListView\":true,\"regDate\":\"20230716 17:23:33\",\"_id\":null,\"@type\":\"PC-NEWSSTAND-PRESS-BLOCK\",\"@code\":null,\"@template\":\"NONE\",\"@flowId\":null,\"@flowExecutionId\":null,\"@provider\":null,\"@lastModifiedAt\":null},{\"@type\":\"PC-NEWSSTAND-PRESS-BLOCK\",\"blocks\":null,\"materials\":null,\"excludeInPaging\":false,\"positionForPaging\":0,\"realtime\":false,\"pid\":\"901\",\"name\":\"제민일보\",\"logoLight\":{\"url\":\"https://s.pstatic.net/static/newsstand/up/2020/1119/nsd213345745.png\"},\"logoDark\":{\"url\":\"https://s.pstatic.net/static/newsstand/up/2020/1119/nsd213339585.png\"},\"showThumbnailView\":true,\"showListView\":true,\"regDate\":\"20230716 21:01:52\",\"_id\":null,\"@type\":\"PC-NEWSSTAND-PRESS-BLOCK\",\"@code\":null,\"@template\":\"NONE\",\"@flowId\":null,\"@flowExecutionId\":null,\"@provider\":null,\"@lastModifiedAt\":null},{\"@type\":\"PC-NEWSSTAND-PRESS-BLOCK\",\"blocks\":null,\"materials\":null,\"excludeInPaging\":false,\"positionForPaging\":0,\"realtime\":false,\"pid\":\"902\",\"name\":\"TV조선\",\"logoLight\":{\"url\":\"https://s.pstatic.net/static/newsstand/2020/logo/light/0604/902.png\"},\"logoDark\":{\"url\":\"https://s.pstatic.net/static/newsstand/2020/logo/dark/0604/902.png\"},\"showThumbnailView\":true,\"showListView\":true,\"regDate\":\"20230717 00:10:19\",\"_id\":null,\"@type\":\"PC-NEWSSTAND-PRESS-BLOCK\",\"@code\":null,\"@template\":\"NONE\",\"@flowId\":null,\"@flowExecutionId\":null,\"@provider\":null,\"@lastModifiedAt\":null},{\"@type\":\"PC-NEWSSTAND-PRESS-BLOCK\",\"blocks\":null,\"materials\":null,\"excludeInPaging\":false,\"positionForPaging\":0,\"realtime\":false,\"pid\":\"903\",\"name\":\"채널에이\",\"logoLight\":{\"url\":\"https://s.pstatic.net/static/newsstand/2020/logo/light/0604/903.png\"},\"logoDark\":{\"url\":\"https://s.pstatic.net/static/newsstand/2020/logo/dark/0604/903.png\"},\"showThumbnailView\":true,\"showListView\":true,\"regDate\":\"20230716 22:14:13\",\"_id\":null,\"@type\":\"PC-NEWSSTAND-PRESS-BLOCK\",\"@code\":null,\"@template\":\"NONE\",\"@flowId\":null,\"@flowExecutionId\":null,\"@provider\":null,\"@lastModifiedAt\":null},{\"@type\":\"PC-NEWSSTAND-PRESS-BLOCK\",\"blocks\":null,\"materials\":null,\"excludeInPaging\":false,\"positionForPaging\":0,\"realtime\":false,\"pid\":\"904\",\"name\":\"JTBC\",\"logoLight\":{\"url\":\"https://s.pstatic.net/static/newsstand/2020/logo/light/0604/904.png\"},\"logoDark\":{\"url\":\"https://s.pstatic.net/static/newsstand/2020/logo/dark/0604/904.png\"},\"showThumbnailView\":true,\"showListView\":true,\"regDate\":\"20230717 00:45:00\",\"_id\":null,\"@type\":\"PC-NEWSSTAND-PRESS-BLOCK\",\"@code\":null,\"@template\":\"NONE\",\"@flowId\":null,\"@flowExecutionId\":null,\"@provider\":null,\"@lastModifiedAt\":null},{\"@type\":\"PC-NEWSSTAND-PRESS-BLOCK\",\"blocks\":null,\"materials\":null,\"excludeInPaging\":false,\"positionForPaging\":0,\"realtime\":false,\"pid\":\"905\",\"name\":\"더스쿠프\",\"logoLight\":{\"url\":\"https://s.pstatic.net/static/newsstand/2020/logo/light/0604/905.png\"},\"logoDark\":{\"url\":\"https://s.pstatic.net/static/newsstand/2020/logo/dark/0604/905.png\"},\"showThumbnailView\":true,\"showListView\":true,\"regDate\":\"20230714 17:59:59\",\"_id\":null,\"@type\":\"PC-NEWSSTAND-PRESS-BLOCK\",\"@code\":null,\"@template\":\"NONE\",\"@flowId\":null,\"@flowExecutionId\":null,\"@provider\":null,\"@lastModifiedAt\":null},{\"@type\":\"PC-NEWSSTAND-PRESS-BLOCK\",\"blocks\":null,\"materials\":null,\"excludeInPaging\":false,\"positionForPaging\":0,\"realtime\":false,\"pid\":\"906\",\"name\":\"KNN\",\"logoLight\":{\"url\":\"https://s.pstatic.net/static/newsstand/2020/logo/light/0604/906.png\"},\"logoDark\":{\"url\":\"https://s.pstatic.net/static/newsstand/2020/logo/dark/0604/906.png\"},\"showThumbnailView\":true,\"showListView\":true,\"regDate\":\"20230716 21:07:08\",\"_id\":null,\"@type\":\"PC-NEWSSTAND-PRESS-BLOCK\",\"@code\":null,\"@template\":\"NONE\",\"@flowId\":null,\"@flowExecutionId\":null,\"@provider\":null,\"@lastModifiedAt\":null}],\"materials\":null,\"excludeInPaging\":false,\"positionForPaging\":0,\"realtime\":false,\"majorPidList\":[\"032\",\"005\",\"079\",\"327\",\"930\",\"003\",\"368\",\"020\",\"029\",\"117\",\"009\",\"008\",\"021\",\"006\",\"293\",\"011\",\"081\",\"022\",\"314\",\"073\",\"076\",\"139\",\"308\",\"277\",\"031\",\"422\",\"047\",\"018\",\"241\",\"030\",\"366\",\"023\",\"330\",\"025\",\"092\",\"376\",\"044\",\"014\",\"002\",\"028\",\"015\",\"215\",\"038\",\"016\",\"904\",\"056\",\"326\",\"214\",\"057\",\"109\",\"055\",\"052\"],\"minorPidList\":[\"944\",\"687\",\"913\",\"914\",\"960\",\"536\",\"804\",\"812\",\"042\",\"969\",\"417\",\"961\",\"809\",\"814\",\"942\",\"943\",\"973\",\"685\",\"824\",\"970\",\"816\",\"957\",\"975\",\"810\",\"920\",\"921\",\"963\",\"682\",\"013\",\"801\",\"539\",\"964\",\"825\",\"243\",\"922\",\"803\",\"923\",\"971\",\"925\",\"690\",\"123\",\"353\",\"941\",\"143\",\"826\",\"822\",\"968\",\"993\",\"974\",\"932\",\"954\",\"120\",\"959\",\"972\",\"823\",\"421\",\"916\",\"934\",\"903\",\"344\",\"980\",\"906\",\"340\",\"374\",\"989\",\"981\",\"684\",\"902\",\"945\",\"910\",\"138\",\"953\",\"952\",\"977\",\"994\",\"818\",\"917\",\"681\",\"040\",\"946\",\"830\",\"447\",\"108\",\"802\",\"144\",\"396\",\"529\",\"940\",\"962\",\"477\",\"311\",\"947\",\"312\",\"440\",\"410\",\"416\",\"213\",\"356\",\"908\",\"938\",\"984\",\"911\",\"998\",\"997\",\"995\",\"905\",\"991\",\"955\",\"363\",\"345\",\"915\",\"024\",\"996\",\"075\",\"829\",\"819\",\"815\",\"122\",\"958\",\"827\",\"355\",\"808\",\"329\",\"135\",\"828\",\"140\",\"979\",\"328\",\"354\",\"691\",\"310\",\"094\",\"820\",\"950\",\"988\",\"982\",\"813\",\"924\",\"807\",\"965\",\"966\",\"686\",\"990\",\"361\",\"956\",\"928\",\"967\",\"296\",\"986\",\"951\",\"948\",\"050\",\"805\",\"811\",\"384\",\"346\",\"806\",\"364\"],\"catePidList\":{\"ct7\":[\"356\",\"908\",\"938\",\"984\",\"911\",\"998\",\"997\",\"995\",\"905\",\"991\",\"955\",\"363\",\"345\",\"915\",\"024\",\"996\",\"075\",\"829\",\"819\",\"815\",\"122\",\"958\",\"827\",\"355\",\"808\",\"329\",\"308\",\"135\",\"828\",\"140\",\"979\",\"328\",\"354\",\"691\",\"310\",\"094\",\"820\",\"950\",\"988\",\"982\",\"813\",\"924\",\"807\",\"965\",\"966\",\"686\",\"990\",\"361\",\"956\",\"928\",\"967\",\"296\",\"986\",\"951\",\"948\",\"050\",\"805\",\"811\",\"384\",\"346\",\"806\",\"364\"],\"ct8\":[\"335\",\"087\",\"688\",\"339\",\"821\",\"333\",\"978\",\"907\",\"337\",\"935\",\"338\",\"301\",\"083\",\"332\",\"909\",\"936\",\"089\",\"088\",\"976\",\"817\",\"082\",\"385\",\"387\",\"689\",\"388\",\"937\",\"336\",\"901\",\"389\",\"334\",\"983\",\"926\",\"927\",\"391\",\"331\",\"683\"],\"ct5\":[\"681\",\"330\",\"040\",\"044\",\"326\",\"946\"],\"ct6\":[\"830\",\"447\",\"117\",\"108\",\"802\",\"144\",\"314\",\"073\",\"396\",\"076\",\"529\",\"940\",\"962\",\"139\",\"477\",\"311\",\"241\",\"947\",\"312\",\"440\",\"410\",\"109\",\"416\",\"213\"],\"ct3\":[\"421\",\"003\",\"916\",\"934\",\"422\",\"376\",\"903\",\"215\",\"344\",\"904\",\"980\",\"056\",\"906\",\"214\",\"057\",\"340\",\"055\",\"374\",\"989\",\"981\",\"684\",\"902\",\"052\",\"945\"],\"ct4\":[\"910\",\"138\",\"029\",\"953\",\"952\",\"293\",\"030\",\"092\",\"977\",\"994\",\"818\",\"917\"],\"ct2\":[\"032\",\"005\",\"944\",\"079\",\"327\",\"687\",\"930\",\"913\",\"914\",\"960\",\"536\",\"804\",\"368\",\"812\",\"042\",\"020\",\"009\",\"969\",\"417\",\"008\",\"961\",\"021\",\"006\",\"809\",\"814\",\"942\",\"943\",\"973\",\"011\",\"081\",\"685\",\"824\",\"022\",\"970\",\"816\",\"957\",\"975\",\"810\",\"277\",\"920\",\"031\",\"921\",\"963\",\"682\",\"013\",\"047\",\"801\",\"539\",\"964\",\"018\",\"825\",\"243\",\"922\",\"803\",\"923\",\"971\",\"925\",\"690\",\"366\",\"023\",\"123\",\"353\",\"025\",\"941\",\"143\",\"826\",\"014\",\"822\",\"002\",\"028\",\"015\",\"968\",\"038\",\"993\",\"016\",\"974\",\"932\",\"954\",\"120\",\"959\",\"972\",\"823\"]},\"targetLocalPidList\":[\"335\",\"087\",\"688\",\"339\",\"821\",\"333\",\"978\",\"907\",\"337\",\"935\",\"338\",\"301\",\"083\",\"332\",\"909\",\"936\",\"089\",\"088\",\"976\",\"817\",\"082\",\"385\",\"387\",\"689\",\"388\",\"937\",\"336\",\"901\",\"389\",\"334\",\"983\",\"926\",\"927\",\"391\",\"331\",\"683\"],\"subsPidList\":[],\"firstPressBlock\":null,\"rcode2\":\"default\",\"rcode\":\"default\",\"_id\":null,\"@type\":\"PC-NEWSSTAND-BLOCK\",\"@code\":\"PC-NEWSSTAND\",\"@template\":\"PC-NEWSSTAND\",\"@flowId\":null,\"@flowExecutionId\":null,\"@provider\":null,\"@lastModifiedAt\":null}],\"materials\":null,\"excludeInPaging\":false,\"positionForPaging\":0,\"realtime\":false,\"_id\":null,\"@type\":\"BLOCK\",\"@code\":\"PC-MEDIA-NEWSSTAND\",\"@template\":\"NONE\",\"@flowId\":null,\"@flowExecutionId\":null,\"@provider\":null,\"@lastModifiedAt\":null}],\"materials\":null,\"excludeInPaging\":false,\"positionForPaging\":0,\"realtime\":false,\"sportsLive\":false,\"_id\":\"643e68a5a10d3006855e268d\",\"@type\":\"PC-MEDIA-CONTENTS-BLOCK\",\"@code\":\"PC-MEDIA-WRAPPER\",\"@template\":\"PC-MEDIA-WRAPPER\",\"@flowId\":\"PC-MEDIA-WRAPPER\",\"@flowExecutionId\":\"35b94a36-23f1-11ee-9e15-d926a2cd2c9f\",\"@provider\":\"lambda\",\"@lastModifiedAt\":[2023,7,16,15,55,44,361000000]}\\n  \\n    window[\"EAGER-DATA\"][\"PC-NEWSSTAND-YONHAP\"] = {\"@type\":\"BLOCK\",\"blocks\":[{\"@type\":\"BLOCK\",\"blocks\":null,\"materials\":[],\"excludeInPaging\":false,\"positionForPaging\":0,\"realtime\":false,\"_id\":null,\"@type\":\"BLOCK\",\"@code\":null,\"@template\":\"NONE\",\"@flowId\":null,\"@flowExecutionId\":null,\"@provider\":null,\"@lastModifiedAt\":null}],\"materials\":[{\"@type\":\"MATERIAL-PC-NEWS-ONELINE\",\"gdid\":null,\"title\":\"신혼교사·70대 노모·세 아이 아빠…폭우 사망·실종자 45명\",\"url\":\"https://news.naver.com/main/list.naver?mode=LPOD&mid=sec&sid1=001&sid2=140&oid=001&isYeonhapFlash=Y&aid=0014071173\",\"aid\":null,\"emergency\":false,\"notCompleted\":false,\"officeName\":\"연합뉴스\",\"officeId\":\"001\",\"officeHomeUrl\":null,\"officeWeight\":0,\"officeWeightRate\":0.0,\"_id\":\"643543b2caf3d87b7e0a0da6\"},{\"@type\":\"MATERIAL-PC-NEWS-ONELINE\",\"gdid\":null,\"title\":\"\\'최악 수해\\' 특별재난지역 선포될 듯…대통령실 \\\\\"빠른 실무검토\\\\\"\",\"url\":\"https://news.naver.com/main/list.naver?mode=LPOD&mid=sec&sid1=001&sid2=140&oid=001&isYeonhapFlash=Y&aid=0014071115\",\"aid\":null,\"emergency\":false,\"notCompleted\":false,\"officeName\":\"연합뉴스\",\"officeId\":\"001\",\"officeHomeUrl\":null,\"officeWeight\":0,\"officeWeightRate\":0.0,\"_id\":\"647041a633520e07dab64d9f\"},{\"@type\":\"MATERIAL-PC-NEWS-ONELINE\",\"gdid\":null,\"title\":\"18일까지 충청·남부지방 중심 많은 비…많게는 250㎜ 더\",\"url\":\"https://news.naver.com/main/list.naver?mode=LPOD&mid=sec&sid1=001&sid2=140&oid=001&isYeonhapFlash=Y&aid=0014070971\",\"aid\":null,\"emergency\":false,\"notCompleted\":false,\"officeName\":\"연합뉴스\",\"officeId\":\"001\",\"officeHomeUrl\":null,\"officeWeight\":0,\"officeWeightRate\":0.0,\"_id\":\"647041a633520e07dab64da0\"},{\"@type\":\"MATERIAL-PC-NEWS-ONELINE\",\"gdid\":null,\"title\":\"폭우 덮친 예천서 \\'나는 자연인이다\\' 장병근씨 아내 사망\",\"url\":\"https://news.naver.com/main/list.naver?mode=LPOD&mid=sec&sid1=001&sid2=140&oid=001&isYeonhapFlash=Y&aid=0014071025\",\"aid\":null,\"emergency\":false,\"notCompleted\":false,\"officeName\":\"연합뉴스\",\"officeId\":\"001\",\"officeHomeUrl\":null,\"officeWeight\":0,\"officeWeightRate\":0.0,\"_id\":\"647041a633520e07dab64da1\"},{\"@type\":\"MATERIAL-PC-NEWS-ONELINE\",\"gdid\":null,\"title\":\"\\'몇초 차로 생사 갈렸다\\'…끔찍했던 그 아침 오송 지하차도\",\"url\":\"https://news.naver.com/main/list.naver?mode=LPOD&mid=sec&sid1=001&sid2=140&oid=001&isYeonhapFlash=Y&aid=0014070709\",\"aid\":null,\"emergency\":false,\"notCompleted\":false,\"officeName\":\"연합뉴스\",\"officeId\":\"001\",\"officeHomeUrl\":null,\"officeWeight\":0,\"officeWeightRate\":0.0,\"_id\":\"647041a633520e07dab64da2\"},{\"@type\":\"MATERIAL-PC-NEWS-ONELINE\",\"gdid\":null,\"title\":\"코레일 \\\\\"17일부터 경부선·전라선 등 일반 열차 최소 수준 운행\\\\\"\",\"url\":\"https://news.naver.com/main/list.naver?mode=LPOD&mid=sec&sid1=001&sid2=140&oid=001&isYeonhapFlash=Y&aid=0014071032\",\"aid\":null,\"emergency\":false,\"notCompleted\":false,\"officeName\":\"연합뉴스\",\"officeId\":\"001\",\"officeHomeUrl\":null,\"officeWeight\":0,\"officeWeightRate\":0.0,\"_id\":\"647041a633520e07dab64da3\"},{\"@type\":\"MATERIAL-PC-NEWS-ONELINE\",\"gdid\":null,\"title\":\"\\\\\"우크라에 지뢰 탐지기 지원 확대…재건 등에 9개 지원패키지\\\\\"\",\"url\":\"https://news.naver.com/main/list.naver?mode=LPOD&mid=sec&sid1=001&sid2=140&oid=001&isYeonhapFlash=Y&aid=0014070863\",\"aid\":null,\"emergency\":false,\"notCompleted\":false,\"officeName\":\"연합뉴스\",\"officeId\":\"001\",\"officeHomeUrl\":null,\"officeWeight\":0,\"officeWeightRate\":0.0,\"_id\":\"647041a633520e07dab64da4\"},{\"@type\":\"MATERIAL-PC-NEWS-ONELINE\",\"gdid\":null,\"title\":\"美 안보보좌관 \\\\\"북, 7차 핵실험·추가 미사일 가능성 우려\\\\\"\",\"url\":\"https://news.naver.com/main/list.naver?mode=LPOD&mid=sec&sid1=001&sid2=140&oid=001&isYeonhapFlash=Y&aid=0014071131\",\"aid\":null,\"emergency\":false,\"notCompleted\":false,\"officeName\":\"연합뉴스\",\"officeId\":\"001\",\"officeHomeUrl\":null,\"officeWeight\":0,\"officeWeightRate\":0.0,\"_id\":\"64af64da548a597b72d36f44\"},{\"@type\":\"MATERIAL-PC-NEWS-ONELINE\",\"gdid\":null,\"title\":\"일본 국민 80% \\\\\"정부 오염수 방류 설명 불충분\\\\\"\",\"url\":\"https://news.naver.com/main/list.naver?mode=LPOD&mid=sec&sid1=001&sid2=140&oid=001&isYeonhapFlash=Y&aid=0014070962\",\"aid\":null,\"emergency\":false,\"notCompleted\":false,\"officeName\":\"연합뉴스\",\"officeId\":\"001\",\"officeHomeUrl\":null,\"officeWeight\":0,\"officeWeightRate\":0.0,\"_id\":\"64b3559a7a6b147b6bf9d712\"},{\"@type\":\"MATERIAL-PC-NEWS-ONELINE\",\"gdid\":null,\"title\":\"푸틴 \\\\\"집속탄 쓰면 우리도 쓴다\\\\\"…우크라·서방에 맞불 경고\",\"url\":\"https://news.naver.com/main/list.naver?mode=LPOD&mid=sec&sid1=001&sid2=140&oid=001&isYeonhapFlash=Y&aid=0014070965\",\"aid\":null,\"emergency\":false,\"notCompleted\":false,\"officeName\":\"연합뉴스\",\"officeId\":\"001\",\"officeHomeUrl\":null,\"officeWeight\":0,\"officeWeightRate\":0.0,\"_id\":\"64b391d60123ecca7c889ccb\"}],\"excludeInPaging\":false,\"positionForPaging\":0,\"realtime\":false,\"_id\":\"643543b2a10d3006850fa263\",\"@type\":\"BLOCK\",\"@code\":\"PC-NEWSSTAND-YONHAP\",\"@template\":\"PC-NEWSSTAND-YONHAP\",\"@flowId\":\"PC-YONHAP\",\"@flowExecutionId\":\"116e0f03-23f1-11ee-9e15-e108280d759e\",\"@provider\":\"lambda\",\"@lastModifiedAt\":[2023,7,16,15,54,38,301000000]}\\n  \\n    window[\"EAGER-DATA\"][\"CAS-MINICONTENT-PC-SEARCH-RIGHT\"] = {\"@type\":\"MINI-CONTENT-BLOCK\",\"blocks\":null,\"materials\":null,\"excludeInPaging\":false,\"positionForPaging\":0,\"realtime\":false,\"items\":[],\"_id\":\"6433d8a5a10d300685012682\",\"@type\":\"MINI-CONTENT-BLOCK\",\"@code\":\"CAS-MINICONTENT-PC-SEARCH-RIGHT\",\"@template\":\"NONE\",\"@flowId\":\"CAS-MINICONTENT\",\"@flowExecutionId\":\"10c217f9-23f1-11ee-917e-7fd1be6f1aaf\",\"@provider\":\"lambda\",\"@lastModifiedAt\":[2023,7,16,15,54,37,73000000]}\\n  \\n    window[\"EAGER-DATA\"][\"CAS-MINICONTENT-PC-MEDIA-TAB-EVENT\"] = {\"@type\":\"MINI-CONTENT-BLOCK\",\"blocks\":null,\"materials\":null,\"excludeInPaging\":false,\"positionForPaging\":0,\"realtime\":false,\"items\":[],\"_id\":\"643687e1a10d300685630556\",\"@type\":\"MINI-CONTENT-BLOCK\",\"@code\":\"CAS-MINICONTENT-PC-MEDIA-TAB-EVENT\",\"@template\":\"NONE\",\"@flowId\":\"CAS-MINICONTENT\",\"@flowExecutionId\":\"f426ca01-23f0-11ee-917e-fd916b5c99ff\",\"@provider\":\"lambda\",\"@lastModifiedAt\":[2023,7,16,15,53,49,72000000]}\\n  \\n    window[\"EAGER-DATA\"][\"CAS-MINICONTENT-PC-MID-BANNER\"] = {\"@type\":\"MINI-CONTENT-BLOCK\",\"blocks\":null,\"materials\":null,\"excludeInPaging\":false,\"positionForPaging\":0,\"realtime\":false,\"items\":[],\"_id\":\"648ae476a10d300685fbab10\",\"@type\":\"MINI-CONTENT-BLOCK\",\"@code\":\"CAS-MINICONTENT-PC-MID-BANNER\",\"@template\":\"NONE\",\"@flowId\":\"CAS-MINICONTENT\",\"@flowExecutionId\":\"0d3b3b3e-23f1-11ee-bae7-7b92a7455708\",\"@provider\":\"lambda\",\"@lastModifiedAt\":[2023,7,16,15,54,31,138000000]}\\n  \\n</script>\\n <script defer=\"defer\" src=\"https://pm.pstatic.net/resources/js/polyfill.f47ccc9a.js?o=www\" crossorigin=\"anonymous\"></script><script defer=\"defer\" src=\"https://pm.pstatic.net/resources/js/preload.2efda94c.js?o=www\" crossorigin=\"anonymous\"></script><script defer=\"defer\" src=\"https://pm.pstatic.net/resources/js/search.90d1988d.js?o=www\" crossorigin=\"anonymous\"></script><script defer=\"defer\" src=\"https://pm.pstatic.net/resources/js/main.0e1ee444.js?o=www\" crossorigin=\"anonymous\"></script><link href=\"https://pm.pstatic.net/resources/css/main.35d37fef.css\" rel=\"stylesheet\"></head> <body> <div id=\"u_skip\"> <a href=\"#topAsideButton\"><span>상단영역 바로가기</span></a> <a href=\"#shortcutArea\"><span>서비스 메뉴 바로가기</span></a> <a href=\"#newsstand\"><span>새소식 블록 바로가기</span></a> <a href=\"#shopping\"><span>쇼핑 블록 바로가기</span></a> <a href=\"#feed\"><span>관심사 블록 바로가기</span></a> <a href=\"#account\"><span>MY 영역 바로가기</span></a> <a href=\"#widgetboard\"><span>위젯 보드 바로가기</span></a> <a href=\"#viewSetting\"><span>보기 설정 바로가기</span></a> </div>   <script type=\"text/plain\" id=\"ad-timeboard-response\" data-gfp-banner-size=\"830x130\" data-gfp-banner-type=\"full\">{\"requestId\":\"3accaf4b2b774baa9e0b57841a3a521a\",\"head\":{\"version\":\"0.0.1\",\"description\":\"Naver SSP Waterfall List\"},\"eventTracking\":{\"ackImpressions\":[{\"url\":\"https://tivan.naver.com/sc2/1/\"}],\"activeViewImpressions\":[{\"url\":\"https://tivan.naver.com/sc2/2/\"}],\"clicks\":[{\"url\":\"https://tivan.naver.com/sc2/3/\"}],\"completions\":[{\"url\":\"https://tivan.naver.com/sc2/4/\"}],\"attached\":[{\"url\":\"https://tivan.naver.com/sc2/10/\"}],\"renderedImpressions\":[{\"url\":\"https://tivan.naver.com/sc2/11/\"}],\"viewableImpressions\":[{\"url\":\"https://tivan.naver.com/sc2/12/\"}],\"loadErrors\":[{\"url\":\"https://tivan.naver.com/sc2/91/\"}],\"startErrors\":[{\"url\":\"https://tivan.naver.com/sc2/92/\"}],\"mute\":[{\"url\":\"https://tivan.naver.com/sc2/5/\"}]},\"adUnit\":\"p_main_timeboard_v1\",\"randomNumber\":98,\"adDivId\":\"ad_timeboard\",\"advertiserDomains\":[\"www.hyundai.com\"],\"adDuplicationKeys\":[\"URL:https://www.hyundai.com\"],\"ads\":[{\"encrypted\":\"H2nLDwovJ6vQPfDW28M2ByZqbfA9rlanT1XEr6MKKQBJd6iphxUzhOAmuFq6a19L0RTUp2kHdeoBRv8yu4D_BHZfGLglO-58avGz21dsn30G9a6Dg8UUyXR7vfLazUSg2hsbollrnk1P0NIEeDmjWC_M6gD1v4zNN8EA4-TRxCq9ZqSs2S9uPokEpxoqhYOTmxT-GGZQu2ry-NRmrl-oCOEwIMgSjvnVajKYGgN0HVCEx3fCkXWFxXNT74JyEBJV-2R_ZOElsfkx-8Vt4599vq6WTVvbrQQR0N7ilifIZmhqMdXQS0wlfDqEepxJiBVGQAPtEp4fPEr_f4rhcUvj6sDnmUIKC1apURylnA9Gi2IGlFv3OT9B9MwYbN4Da0L_6jJc3K7sWi_KD3j7IgOqwNpZLsJZn-OnB4ZE84kzRUX_ZyKjUtS0tlQgOdq_SVXKbYXLXKfft--QG5kaALLZMhSJauE0sI2wVoCKqmLb8qYpV1-I497QOK1iOEN6QzRsVuY5r2JLJ0Wcy2PMRgadE80beHQA3EhFQ_Mu0Je5LaZPGSXN5_5m0Chv2XzF3CdSfJsp9VGWZ1RIcOxfb2uzGTXNOIUgB7ZgtckEup6k38tg30jXs59z7hrP7bX8GjawfF-kwcQXv9HboApYfBPL3kAEH11jriy-laQRgG_W9Ew=\",\"connectionType\":\"S2S\",\"adProviderType\":\"IN_NAVER\",\"adProviderName\":\"NDP_SF\",\"layoutType\":\"FLUID\",\"creativeType\":\"BANNER\",\"renderType\":\"SF\",\"eventTracking\":{\"ackImpressions\":[{\"url\":\"https://siape.veta.naver.com/openrtb/nurl?eu=EU10043567\\\\u0026calp=-\\\\u0026oj=cQgn6aire5NgHnEbxnyi25U3p7dWiZvhPomgD4f%2BR%2F%2F8G8QeV2q92dAnU%2FSrYQgF5sz8TOCxud8OUv9ulMW2%2BR0tgcGnc%2Fyv8t0ZxoP6l1NUm6krydHIR8ZUV3E600t9QGg3q%2Bjskg8Ds2%2FsKIsqnpH4IYR7C5ZCEFwetYPeoFbrGD%2BaRaGe9A\\\\u0026ac=8803747\\\\u0026src=6582081\\\\u0026evtcd=BID_WIN\\\\u0026x_ti=1504\\\\u0026rk=5W2z2pdXxR61ksA3i5pIsQ\\\\u0026eltts=%2FMnI5iN4fA54XeXVkkL15g%3D%3D\\\\u0026brs=Y\\\\u0026\"}],\"attached\":[],\"activeViewImpressions\":[],\"renderedImpressions\":[],\"viewableImpressions\":[],\"clicks\":[],\"vimp1px\":[],\"vimp100\":[],\"vimp100p\":[],\"admute\":[],\"advmute\":[],\"like\":[],\"unlike\":[],\"close\":[],\"bounce\":[]},\"adInfo\":{\"placeId\":\"6436232db28a76002ea3f30c\",\"adomain\":[\"www.hyundai.com\"],\"exp\":86400,\"adm\":\"%3Cscript%20src%3D%22https%3A%2F%2Fssl.pstatic.net%2Fmelona%2Flibs%2Fglad%2Fbridge%2Fgfp-bridge.js%22%3E%3C%2Fscript%3E%0D%0A%0D%0A%3Ca%20href%3D%22https%3A%2F%2Fsiape.veta.naver.com%2Ffxclick%3Feu%3DEU10043567%26calp%3D-%26oj%3DcQgn6aire5NgHnEbxnyi25U3p7dWiZvhPomgD4f%252BR%252F%252F8G8QeV2q92dAnU%252FSrYQgF5sz8TOCxud8OUv9ulMW2%252BR0tgcGnc%252Fyv8t0ZxoP6l1NUm6krydHIR8ZUV3E600t9QGg3q%252Bjskg8Ds2%252FsKIsqnpH4IYR7C5ZCEFwetYPeoFbrGD%252BaRaGe9A%26ac%3D8803747%26src%3D6582081%26br%3D4284671%26evtcd%3DP901%26x_ti%3D1504%26tb%3D%26oid%3D%26sid1%3D%26sid2%3D%26rk%3D5W2z2pdXxR61ksA3i5pIsQ%26eltts%3D%252FMnI5iN4fA54XeXVkkL15g%253D%253D%26lu%3D%26brs%3DY%26%22%20id%3D%22ac_banner_a%22%20target%3D%22_blank%22%20style%3D%22display%3Ablock%22%3E%0D%0A%20%20%20%20%3Cimg%20src%3D%22https%3A%2F%2Fssl.pstatic.net%2Fmelona%2Flibs%2F1456%2F1456756%2F5a5787eb2e65f53f8636_20230623210839472.jpg%22%20width%3D%22830%22%20height%3D%22130%22%20alt%3D%22%5B%EA%B4%91%EA%B3%A0%5D%EC%A0%84%EA%B8%B0%EC%B0%A8%20%EC%8B%9C%EB%8C%80%EC%9D%98%20%EC%83%88%EB%A1%9C%EC%9A%B4%20%EC%9D%BC%EC%83%81%EC%9D%84%20%EB%A7%8C%EB%93%A4%EB%8B%A4%21%20%202023%20Hyundai%20IONIQ%206%22%3E%0D%0A%3C%2Fa%3E%0D%0A%0D%0A%3Cscript%20type%3D%22text%2Fjavascript%22%20src%3D%22https%3A%2F%2Fssl.pstatic.net%2Fmelona%2Flibs%2Fassets%2Fjs%2Fpc%2Fmain%2Fmin%2Fpc.veta.core.min.js%3F20211105%22%3E%3C%2Fscript%3E%0D%0A%3Cscript%20type%3D%22text%2Fjavascript%22%3E%0D%0A%20%20%20%20%28function%28ns%2C%20bridge%29%20%7B%0D%0A%20%20%20%20%20%20%20%20var%20LOG%20%3D%20%7B%0D%0A%20%20%20%20%20%20%20%20%20%20%20%20VIEWABLED%3A%20%22https%3A%2F%2Fsiape.veta.naver.com%2Ffxview%3Feu%3DEU10043567%26calp%3D-%26oj%3DcQgn6aire5NgHnEbxnyi25U3p7dWiZvhPomgD4f%252BR%252F%252F8G8QeV2q92dAnU%252FSrYQgF5sz8TOCxud8OUv9ulMW2%252BR0tgcGnc%252Fyv8t0ZxoP6l1NUm6krydHIR8ZUV3E600t9QGg3q%252Bjskg8Ds2%252FsKIsqnpH4IYR7C5ZCEFwetYPeoFbrGD%252BaRaGe9A%26ac%3D8803747%26src%3D6582081%26evtcd%3DV900%26x_ti%3D1504%26tb%3D%26oid%3D%26sid1%3D%26sid2%3D%26rk%3D5W2z2pdXxR61ksA3i5pIsQ%26eltts%3D%252FMnI5iN4fA54XeXVkkL15g%253D%253D%26brs%3DY%26%26eid%3DV900%22%2C%0D%0A%20%20%20%20%20%20%20%20%20%20%20%20RENDERED%3A%20%22https%3A%2F%2Fsiape.veta.naver.com%2Ffxview%3Feu%3DEU10043567%26calp%3D-%26oj%3DcQgn6aire5NgHnEbxnyi25U3p7dWiZvhPomgD4f%252BR%252F%252F8G8QeV2q92dAnU%252FSrYQgF5sz8TOCxud8OUv9ulMW2%252BR0tgcGnc%252Fyv8t0ZxoP6l1NUm6krydHIR8ZUV3E600t9QGg3q%252Bjskg8Ds2%252FsKIsqnpH4IYR7C5ZCEFwetYPeoFbrGD%252BaRaGe9A%26ac%3D8803747%26src%3D6582082%26evtcd%3DV602%26x_ti%3D1504%26tb%3D%26oid%3D%26sid1%3D%26sid2%3D%26rk%3D5W2z2pdXxR61ksA3i5pIsQ%26eltts%3D%252FMnI5iN4fA54XeXVkkL15g%253D%253D%26brs%3DY%26%26eid%3DV810%22%0D%0A%20%20%20%20%20%20%20%20%7D%3B%0D%0A%0D%0A%20%20%20%20%20%20%20%20var%20util%20%3D%20ns.Util%20%3F%20new%20ns.Util%28%29%20%3A%20new%20NBP_CORP.Nimp%28%29%3B%0D%0A%20%20%20%20%20%20%20%20var%20gladSdkBridge%20%3D%20bridge.createSdkBridge%28%29%3B%0D%0A%20%20%20%20%20%20%20%20var%20eventList%20%3D%20%7B%7D%3B%0D%0A%0D%0A%20%20%20%20%20%20%20%20%2F%2F%20%EC%9D%91%EB%8B%B5%EB%85%B8%EC%B6%9C%0D%0A%20%20%20%20%20%20%20%20util.log%28LOG.RENDERED%29%3B%0D%0A%0D%0A%20%20%20%20%20%20%20%20%2F%2F%20%EC%9C%A0%ED%9A%A8%EB%85%B8%EC%B6%9C%0D%0A%20%20%20%20%20%20%20%20eventList%5Bbridge.EVENT.VIEWABLED%5D%20%3D%20function%28%29%20%7B%0D%0A%20%20%20%20%20%20%20%20%20%20%20%20util.log%28LOG.VIEWABLED%29%3B%0D%0A%20%20%20%20%20%20%20%20%7D%3B%0D%0A%0D%0A%20%20%20%20%20%20%20%20gladSdkBridge.setEventListeners%28eventList%29%3B%0D%0A%20%20%20%20%7D%29%28%0D%0A%20%20%20%20%20%20%20%20window.naver_corp_da%20%7C%7C%20%7B%7D%2C%0D%0A%20%20%20%20%20%20%20%20window.gladBridge%0D%0A%20%20%20%20%29%3B%0D%0A%3C%2Fscript%3E\",\"encoded\":1,\"responseSize\":{\"height\":130,\"width\":830,\"force\":0},\"template\":\"%3C%21doctype%20html%3E%3Chtml%3E%3Chead%3E%3Cmeta%20name%3D%22viewport%22%20content%3D%22width%3Ddevice-width%2C%20user-scalable%3Dno%22%2F%3E%3Cstyle%20data-gfp-role%3D%22adMarkLegacyStyle%22%3E%5Bdata-gfp-role%3D%22adMarkLegacy%22%5D%20%7Bdisplay%3A%20none%3B%7D%3C%2Fstyle%3E%3Cscript%3Ewindow.gladBridge%20%3D%20%7BRUNTIME%3A%20%22InApp%22%7D%3B%3C%2Fscript%3E%3C%2Fhead%3E%3Cbody%20style%3D%22margin%3A%200%3B%20padding%3A%200%22%3E%7B%7Badm%7D%7D%3Cscript%20src%3D%22https%3A%2F%2Fssl.pstatic.net%2Ftveta%2Flibs%2Fglad_admute%2Fprod%2Fglad-admute.js%22%3E%3C%2Fscript%3E%3Cscript%3Econst%20adMuteOptions%20%3D%20%7BmuteUrl%3A%20%22%25%25MUTE_URL%25%25%22%2C%20privacyUrl%3A%20%22%25%25PRIV_URL%25%25%22%2C%20creativeType%3A%20%22BANNER%22%2C%20runtimeType%3A%20%22InApp%22%7D%3B%20window.gladAdMute.checkAdMarkLegacyStyle%28adMuteOptions%29%3B%20const%20adMuteController%20%3D%20window.gladAdMute.createAdMuteController%28adMuteOptions%29%3B%20adMuteController.render%28%29%3B%3C%2Fscript%3E%3C%2Fbody%3E%3C%2Fhtml%3E\"}},{\"encrypted\":\"70CxuLldMGgw_5dBIrUfjTjgdanhPKMqNQJXZx1pwOhNUzAu_QMmWQSw59R62xWhPoNdnZOFiC1cbWqy743CO1jTWhcgy5fGmSs0sARI5ebWHK1SyY0YJOqTmH5C7L_udfztGGbbl2QnBwcE-uDUJHLc3lj0DQ2gkgzlctO3laIeSISUT8IsQ_qJRCpNW2esflHPvdZ9UypceI0jPG3n1gA1jLOQND_WVscTW1Z-PvMQLGcdiyZ-Y1l0x0s5edTZBsvT7M2xkI_Z_qrESRnTX6E90vijMI4tab3VIsJzlF6OMTQN65Vq95On6Cn776AolQ7Ya8ticM9edOnkTEZPJ-6A1iB1l6l57h91SCTjiXRlE59aapol3vk_40ELZkMM-uWfggw1PgwfhKBKxXrlNZwNJxOQrF52ocI-VeTrU_fWPipTCezMlJbSmi88MLBZ\",\"connectionType\":\"S2S\",\"adProviderName\":\"GFP\",\"layoutType\":\"FLUID\",\"creativeType\":\"BANNER\",\"renderType\":\"EMPTY\",\"eventTracking\":{\"ackImpressions\":[],\"attached\":[],\"activeViewImpressions\":[{\"url\":\"https://siape.veta.naver.com/openrtb/nbimp?oj=cQgn6aire5NgHnEbxnyi25U3p7dWiZvhPomgD4f%2BR%2F%2F8G8QeV2q92dAnU%2FSrYQgF5sz8TOCxud8OUv9ulMW2%2BR0tgcGnc%2Fyv8t0ZxoP6l1NUm6krydHIR8ZUV3E600t9QGg3q%2Bjskg8Ds2%2FsKIsqnpH4IYR7C5ZCEFwetYPeoFbrGD%2BaRaGe9A\\\\u0026rk=5W2z2pdXxR61ksA3i5pIsQ\\\\u0026eltts=%2FMnI5iN4fA54XeXVkkL15g%3D%3D\"}],\"renderedImpressions\":[],\"viewableImpressions\":[{\"url\":\"https://siape.veta.naver.com/openrtb/nbimp?oj=cQgn6aire5NgHnEbxnyi25U3p7dWiZvhPomgD4f%2BR%2F%2F8G8QeV2q92dAnU%2FSrYQgF5sz8TOCxud8OUv9ulMW2%2BR0tgcGnc%2Fyv8t0ZxoP6l1NUm6krydHIR8ZUV3E600t9QGg3q%2Bjskg8Ds2%2FsKIsqnpH4IYR7C5ZCEFwetYPeoFbrGD%2BaRaGe9A\\\\u0026rk=5W2z2pdXxR61ksA3i5pIsQ\\\\u0026eltts=%2FMnI5iN4fA54XeXVkkL15g%3D%3D\"}],\"clicks\":[],\"vimp1px\":[],\"vimp100\":[],\"vimp100p\":[],\"admute\":[],\"advmute\":[],\"like\":[],\"unlike\":[],\"close\":[],\"bounce\":[]},\"adInfo\":{\"responseSize\":{\"height\":0,\"width\":0}}}],\"config\":{\"imp\":{\"ratio\":100,\"ms\":0}}}\\n</script> <div id=\"wrap\"> <div id=\"header\" role=\"banner\"> <div id=\"topSearchWrap\" class=\"header_inner\"> <div id=\"special-logo\" class=\"search_special_bg\"></div> <div id=\"timeboard-ex\" class=\"ad_area\" style=\"min-width:1340px\"> </div> <div id=\"search_area\" class=\"search_area\" style=\"border-color:#fff\"> <div id=\"special-input-logo-ex\" class=\"link_search_special\" style=\"display:none\"></div> <div class=\"search_group\"> <div id=\"search\" class=\"search_group_inner\"> <h1 id=\"special-input-logo\" class=\"search_logo\"></h1> <form id=\"sform\" name=\"search\" role=\"search\" action=\"https://search.naver.com/search.naver\" method=\"get\"> <fieldset> <legend class=\"blind\">검색</legend> <input type=\"hidden\" name=\"where\" value=\"nexearch\"/> <input type=\"hidden\" id=\"sm\" name=\"sm\" value=\"top_hty\"/> <input type=\"hidden\" id=\"fbm\" name=\"fbm\" value=\"0\"/> <input type=\"hidden\" id=\"acr\" name=\"acr\" value=\"\" disabled=\"disabled\"/> <input type=\"hidden\" id=\"acq\" name=\"acq\" value=\"\" disabled=\"disabled\"/> <input type=\"hidden\" id=\"qdt\" name=\"qdt\" value=\"\" disabled=\"disabled\"/> <input type=\"hidden\" id=\"ie\" name=\"ie\" value=\"utf8\"/> <input type=\"hidden\" id=\"acir\" name=\"acir\" value=\"\" disabled=\"disabled\"/> <input type=\"hidden\" id=\"os\" name=\"os\" value=\"\" disabled=\"disabled\"/> <input type=\"hidden\" id=\"bid\" name=\"bid\" value=\"\" disabled=\"disabled\"/> <input type=\"hidden\" id=\"pkid\" name=\"pkid\" value=\"\" disabled=\"disabled\"/> <input type=\"hidden\" id=\"eid\" name=\"eid\" value=\"\" disabled=\"disabled\"/> <input type=\"hidden\" id=\"mra\" name=\"mra\" value=\"\" disabled=\"disabled\"/> <div class=\"search_input_box\"> <input id=\"query\" name=\"query\" type=\"search\" title=\"검색어를 입력해 주세요.\" placeholder=\"검색어를 입력해 주세요.\" maxlength=\"255\" autocomplete=\"off\" class=\"search_input\" data-atcmp-element/> </div> <button type=\"submit\" class=\"btn_search\" onclick=\\'window.nclk_v2(this,\"sch.action\")\\'> <span id=\"search-btn\" class=\"ico_btn_search\"></span> <span class=\"blind\">검색</span> </button> </fieldset> </form> <div class=\"search_box\"> <button id=\"ke_kbd_btn\" type=\"button\" class=\"btn_keyboard\" aria-pressed=\"false\"> <span class=\"keybord_text\"> <span class=\"blind\">입력도구</span> </span> </button> <div id=\"_nx_kbd\" style=\"display:none\"></div> <button id=\"nautocomplete\" type=\"button\" class=\"btn_arrow\" data-atcmp-element> <span class=\"blind\">자동완성/최근검색어펼치기</span> </button> </div> <div class=\"layer_atcmp\" id=\"autoFrame\" style=\"display:none\"> <div class=\"ly_atcmp\" data-atcmp-element> <div class=\"api_atcmp_wrap\"> <div class=\"atcmp_fixer _recent_layer\" style=\"display:none\"> <div class=\"atcmp_header _recent_header\"> <strong class=\"tit\">최근검색어</strong> <div class=\"option\"> <a role=\"button\" href=\"#\" class=\"item _delAll\" aria-pressed=\"false\">전체삭제</a> </div> </div> <div class=\"atcmp_container\"> <ul class=\"kwd_lst _recent\"> <li class=\"item _item\" data-rank=\"@rank@\" data-template-type=\"history\" data-keyword=\"@in_txt@\"> <a href=\"#\" class=\"kwd\"> <span class=\"fix\"><span class=\"common_ico_kwd\"><i class=\"imsc ico_search\"></i></span><span>@txt@</span></span> </a> <span class=\"etc\"> <em class=\"date\">@date@.</em> <a href=\"#\" role=\"button\" class=\"bt_item _del\" aria-pressed=\"false\"><i class=\"imsc ico_del\">삭제</i></a> </span> </li> </ul> <div class=\"kwd_info kwd_off _offMsg\" style=\"display:none\">검색어 저장 기능이 꺼져 있습니다.<br/><span class=\"kwd_dsc\">설정이 초기화 된다면 <a href=\"https://help.naver.com/support/alias/search/word/word_29.naver\" class=\"kwd_help\" data-clk=\"sly.help\" target=\"_blank\">도움말</a>을 확인해주세요.</span></div> <div class=\"kwd_info kwd_none _recentNone\" style=\"display:none\">최근 검색어 내역이 없습니다.<br/><span class=\"kwd_dsc\">설정이 초기화 된다면 <a href=\"https://help.naver.com/support/alias/search/word/word_29.naver\" class=\"kwd_help\" data-clk=\"sly.help\" target=\"_blank\">도움말</a>을 확인해주세요.</span></div> </div> <div class=\"atcmp_footer\"> <span class=\"side_opt_area\"> <span class=\"opt_item\"><a href=\"https://help.naver.com/support/service/main.help?serviceNo=605&amp;categoryNo=1991\" data-clk=\"sly.help\" target=\"_blank\">도움말</a></span> </span> <span class=\"rside_opt_area\"> <span class=\"opt_item\"> <a href=\"#\" class=\"close _keywordOnOff\">자동저장 끄기</a> </span> </span> </div> </div> <div class=\"atcmp_fixer _atcmp_layer\" style=\"display:none\"> <div class=\"atcmp_container _words\"> <div class=\"atcmp_correct type_lotto _answer\" data-template-type=\"answer_3\" data-code=\"@code@\" data-keyword=\"@1@\"> <a href=\"#\" class=\"link_item\"> <span class=\"common_ico_kwd\"><i class=\"imsc ico_search\"></i></span> <div class=\"dsc_area\"> <span class=\"tit\">@5@회 당첨번호</span> <span class=\"dsc\"> <span class=\"item\">동행복권 제공</span> </span> </div> <span class=\"etc_area\"> <span class=\"etc lotto\"> <em class=\"n@6@\">@6@</em><em class=\"n@7@\">@7@</em><em class=\"n@8@\">@8@</em><em class=\"n@9@\">@9@</em><em class=\"n@10@\">@10@</em><em class=\"n@11@\">@11@</em><em class=\"imsc_bf bonus n@12@\">@12@</em> </span> </span> </a> </div> <div class=\"atcmp_correct type_exchange _answer\" data-template-type=\"answer_9\" data-code=\"@code@\" data-keyword=\"@1@\"> <a href=\"#\" class=\"link_item @11@\"> <span class=\"common_ico_kwd\"><i class=\"imsc ico @12@\">@14@</i></span> <div class=\"dsc_area\"> <span class=\"tit\">@txt@<span class=\"sub\">@currency@</span></span> <span class=\"dsc\"> <span class=\"item\"><i class=\"imsc ico_arr\"></i>@8@(@9@%)</span> </span> </div> <span class=\"etc_area\"> <span class=\"etc\"><em class=\"num\">@6@</em>원</span> </span> </a> </div> <div class=\"atcmp_correct type_weather _answer\" data-template-type=\"answer_11\" data-code=\"@code@\" data-keyword=\"@1@\"> <a href=\"#\" class=\"link_item @12@\"> <span class=\"common_ico_kwd\"><i class=\"imsc ico_search\"></i></span> <div class=\"dsc_area\"> <span class=\"tit\">@txt@</span> <span class=\"dsc\"> <span class=\"item\">@7@, @message@</span> </span> </div> <span class=\"etc_area\"> <span class=\"etc\"> <span class=\"ico_weather\"><i class=\"imsc ico ico@iconNo@\">@7@</i></span> <em class=\"degree\">@8@<sup class=\"celsius\">°</sup></em> </span> </span> </a> </div> <div class=\"atcmp_correct type_site _answer\" data-template-type=\"answer_17\" data-code=\"@code@\" data-keyword=\"@1@\"> <a href=\"@5@\" class=\"link_item\" target=\"_blank\"> <span class=\"common_ico_kwd\"><i class=\"imsc ico_url\"></i></span> <div class=\"dsc_area\"> <span class=\"tit\">@txt@</span> <span class=\"dsc\"> <span class=\"item\">@5@</span> </span> </div> <span class=\"etc_area\"> <span class=\"etc\">바로가기</span> </span> </a> </div> <ul class=\"kwd_lst _kwd_list\"> <li class=\"item _item\" data-rank=\"@rank@\" data-template-type=\"suggestion\" data-keyword=\"@in_txt@\"> <a href=\"#\" class=\"kwd\"> <span class=\"fix\"><span class=\"common_ico_kwd\"><i class=\"imsc ico_search\"></i></span>@txt@</span> </a> <span class=\"etc\"> <a href=\"#\" role=\"button\" class=\"bt_item _add\" aria-pressed=\"false\"><i class=\"imsc ico_insert\">추가</i></a> </span> </li> <li class=\"item has_correct _item\" data-rank=\"@rank@\" data-template-type=\"history\" data-keyword=\"@in_txt@\"> <a href=\"#\" class=\"kwd\"> <span class=\"fix\"><span class=\"common_ico_kwd\"><i class=\"imsc ico_search\"></i></span>@txt@</span> </a> <span class=\"etc\"> <em class=\"date\">@date@.</em> <a href=\"#\" role=\"button\" class=\"bt_item _add\" aria-pressed=\"false\"><i class=\"imsc ico_insert\">추가</i></a> </span> </li> </ul> <li class=\"item has_correct _item\" data-rank=\"@rank@\" data-intend-rank=\"@intendRank@\" data-template-type=\"intend\" data-keyword=\"@transQuery@\"> <a href=\"#\" class=\"kwd\"> <span class=\"fix\"><span class=\"common_ico_kwd\"><i class=\"imsc ico_search\"></i></span>@query@ <span class=\"context\">@intend@</span></span> </a> <span class=\"etc\"> <a href=\"#\" role=\"button\" class=\"bt_item _add\" aria-pressed=\"false\"><i class=\"imsc ico_insert\">추가</i></a> </span> </li> <div class=\"atcmp_alert _alert\"> <div class=\"dsc_election\"> <p class=\"dsc\"> <i class=\"imsc ico_election\"></i><span class=\"_alert_passage\"></span> </p> <span class=\"dsc_inner\"> <span class=\"_alert_passage2\"></span> <a href=\"#\" class=\"link _alert_link\" target=\"_blank\">자세히보기</a> </span> </div> </div> <div class=\"atcmp_plus _plus\"> <div class=\"dsc_plus\"> <a href=\"https://help.naver.com/support/alias/search/word/word_16.naver\" class=\"link_dsc\" data-clk=\"sug.cxhelp\" target=\"_blank\">관심사를 반영한 컨텍스트 자동완성<i class=\"imsc ico_help\">도움말</i></a> </div> <div class=\"switch\"> <a role=\"button\" href=\"#\" class=\"bt_switch active _plus_btn\" aria-pressed=\"false\"><i class=\"imsc ico_option\">컨텍스트 자동완성</i></a> </div> <div class=\"layer_plus _plus_layer\"> <strong class=\"tit\">컨텍스트 자동완성</strong> <div class=\"_plus_layer_isloggedin\" style=\"display:none\"> <p class=\"dsc\">ON/OFF 설정은<br/>해당기기(브라우저)에 저장됩니다.</p> <div class=\"btn_area\"> <a href=\"https://help.naver.com/support/alias/search/word/word_16.naver\" class=\"btn btn_view\" data-clk=\"sug.cxlink\" target=\"_blank\">자세히</a> </div> </div> <div class=\"_plus_layer_isnotloggedin\" style=\"display:none\"> <p class=\"dsc\"><em class=\"txt\">동일한 시간대/연령/남녀별</em> 사용자 그룹의<br/>관심사에 맞춰 자동완성을 제공합니다.</p> <div class=\"btn_area\"> <a href=\"https://nid.naver.com/nidlogin.login\" class=\"btn btn_login\" data-clk=\"sug.cxlogin\">로그인</a> <a href=\"https://help.naver.com/support/alias/search/word/word_16.naver\" class=\"btn btn_view\" data-clk=\"sug.cxlink\" target=\"_blank\">자세히</a> </div> </div> <a href=\"#\" role=\"button\" class=\"btn_close _plus_layer_close\"><i class=\"imsc ico_close\">컨텍스트 자동완성 레이어 닫기</i></a> </div> </div> </div> <div class=\"atcmp_footer\"> <span class=\"side_opt_area\"> <span class=\"opt_item\"><a href=\"https://help.naver.com/support/service/main.help?serviceNo=605&categoryNo=1987\" data-clk=\"sug.help\" target=\"_blank\">도움말</a></span> <span class=\"opt_item\"><a href=\"https://help.naver.com/support/contents/contents.help?serviceNo=605&categoryNo=18215\" class=\"report\" data-clk=\"sug.report\" target=\"_blank\">신고</a></span> </span> <span class=\"rside_opt_area\"> <span class=\"opt_item\"> <a href=\"#\" class=\"close _suggestOnOff\">자동완성 끄기</a> </span> </span> </div> </div> </div> </div> </div> </div> </div> </div> <div id=\"search-right-banner\"></div> <div id=\"shortcutArea\" class=\"shortcut_area\" role=\"region\"></div> <div id=\"topAsideArea\" class=\"menu_area\"></div> <div id=\"topPayArea\" class=\"pay_area\"></div> <div id=\"topNotiArea\" class=\"notify_area\"></div> </div> </div> <div id=\"container\" role=\"main\"> <div id=\"root\"></div> </div> <div id=\"footer\" role=\"contentinfo\"></div> </div>      <script> window[\\'EAGER-DATA\\'] = window[\\'EAGER-DATA\\'] || {};\\n        window[\\'EAGER-DATA\\'][\\'GV\\'] = {\\n            svt: \\'20230717005655\\',  }; </script> <script>!function(){function t(t){var e=document.getElementById(\"search_area\"),n=document.getElementById(\"search-btn\");t?(e&&e.setAttribute(\"style\",\"border-color: \"+t),n&&n.setAttribute(\"class\",\"ico_btn_search type_color\"),n&&n.setAttribute(\"style\",\"background-color: \"+t)):e&&e.removeAttribute(\"style\")}var e=window[\"EAGER-DATA\"][\"CAS-MINICONTENT-PC-SPECIAL-LOGO\"];if(e&&e.items&&e.items.length>0!=!1){var n=Math.floor(Math.random()*e.items.length),o=e.items[n];e.items=[o],t(o&&o.content&&o.content.input&&o.content.input.color);var r=o&&o.content&&o.content.input&&o.content.input.placeholder;if(r){var c=document.getElementById(\"query\");c&&r&&c.setAttribute(\"title\",r),c&&r&&c.setAttribute(\"placeholder\",r)}}else t()}()</script> </body> </html> '"
            ],
            "application/vnd.google.colaboratory.intrinsic+json": {
              "type": "string"
            }
          },
          "metadata": {},
          "execution_count": 34
        }
      ]
    },
    {
      "cell_type": "code",
      "metadata": {
        "id": "J8q9kVHaNhmQ"
      },
      "source": [
        "import requests\n",
        "res = requests.get('http://google.com')\n",
        "res.raise_for_status()\n",
        "\n",
        "with open('crawl1.html','w', encoding = 'utf-8') as f:\n",
        "  f.write(res.text)\n"
      ],
      "execution_count": 35,
      "outputs": []
    },
    {
      "cell_type": "markdown",
      "metadata": {
        "id": "sNxVt7bvQkmG"
      },
      "source": [
        "8) beautifulsoup : HTML 파싱을 위한 라이브러리"
      ]
    },
    {
      "cell_type": "code",
      "metadata": {
        "id": "6a9UYLZCqeT5",
        "colab": {
          "base_uri": "https://localhost:8080/"
        },
        "outputId": "fcc8fb47-53dd-41d5-d88a-07885f7c32f7"
      },
      "source": [
        "!pip install beautifulsoup4 #Parsing을 위한 라이브러리\n",
        "!pip install lxml #XML parser로 이용"
      ],
      "execution_count": 36,
      "outputs": [
        {
          "output_type": "stream",
          "name": "stdout",
          "text": [
            "Requirement already satisfied: beautifulsoup4 in /usr/local/lib/python3.10/dist-packages (4.11.2)\n",
            "Requirement already satisfied: soupsieve>1.2 in /usr/local/lib/python3.10/dist-packages (from beautifulsoup4) (2.4.1)\n",
            "Requirement already satisfied: lxml in /usr/local/lib/python3.10/dist-packages (4.9.3)\n"
          ]
        }
      ]
    },
    {
      "cell_type": "code",
      "metadata": {
        "id": "FvaK9ZxzqeNp",
        "colab": {
          "base_uri": "https://localhost:8080/"
        },
        "outputId": "331c332b-cdbe-4b5f-9857-d50b022b60b6"
      },
      "source": [
        "import requests\n",
        "from bs4 import BeautifulSoup\n",
        "\n",
        "url = 'https://comic.naver.com/webtoon/weekday.nhn'\n",
        "res = requests.get(url)\n",
        "res.raise_for_status()\n",
        "\n",
        "soup = BeautifulSoup(res.text, \"lxml\")\n",
        "soup\n"
      ],
      "execution_count": 37,
      "outputs": [
        {
          "output_type": "execute_result",
          "data": {
            "text/plain": [
              "<!DOCTYPE html>\n",
              "<html lang=\"ko\">\n",
              "<head>\n",
              "<title>네이버 웹툰</title>\n",
              "<link href=\"https://ssl.pstatic.net/static/m/comic/im/favicon/1804/webtoon_favicon_32x32.ico\" rel=\"shortcut icon\" type=\"image/x-icon\"/>\n",
              "<meta charset=\"utf-8\"/>\n",
              "<meta content=\"ie=edge\" http-equiv=\"x-ua-compatible\"/>\n",
              "<meta content=\"article\" property=\"og:type\"/>\n",
              "<meta content=\"네이버 웹툰\" property=\"og:article:author\"/>\n",
              "<meta content=\"https://comic.naver.com\" property=\"og:article:author:url\"/>\n",
              "<meta content=\"네이버 웹툰\" property=\"og:title\"/>\n",
              "<meta content=\"https://ssl.pstatic.net/static/comic/images/og_tag_v2.png\" property=\"og:image\"/>\n",
              "<meta content=\"매일매일 새로운 재미, 네이버 웹툰.\" property=\"og:description\"/>\n",
              "<script>\n",
              "\t\tif (/MSIE \\d|Trident.*rv:/.test(navigator.userAgent)) {\n",
              "\t\t\twindow.location = 'microsoft-edge:' + window.location;\n",
              "\t\t\tsetTimeout(function () {\n",
              "\t\t\t\twindow.location = 'https://go.microsoft.com/fwlink/?linkid=2135547';\n",
              "\t\t\t}, 1);\n",
              "\t\t}\n",
              "\t</script>\n",
              "<script async=\"\" src=\"https://ssl.pstatic.net/tveta/libs/glad/prod/gfp-core.js\"></script>\n",
              "<script>\n",
              "\t\tvar ccsrv = 'cc.naver.com';\n",
              "\t\twindow.gladsdk = window.gladsdk || { cmd: [] };\n",
              "\t</script>\n",
              "</head>\n",
              "<body>\n",
              "<div id=\"root\"></div>\n",
              "</body>\n",
              "<script src=\"/runtime-997449e3bbc391b95375.js\" type=\"text/javascript\"></script>\n",
              "<script src=\"/vendor-react-d37d9c657a271200d9cf.js\" type=\"text/javascript\"></script>\n",
              "<script src=\"/vendor-react-common-9fc837dada41110dc1fd.js\" type=\"text/javascript\"></script>\n",
              "<script src=\"/vendor-common-0b0b0cc3031d3b0a1965.js\" type=\"text/javascript\"></script>\n",
              "<script src=\"/vendor-log-8df3dc520d958957bcbd.js\" type=\"text/javascript\"></script>\n",
              "<script src=\"/router-08fcd57cb4d630efd408.js\" type=\"text/javascript\"></script>\n",
              "</html>"
            ]
          },
          "metadata": {},
          "execution_count": 37
        }
      ]
    },
    {
      "cell_type": "code",
      "metadata": {
        "id": "m4gP-Ba7qeJV",
        "colab": {
          "base_uri": "https://localhost:8080/"
        },
        "outputId": "ceeea8cc-28a3-455c-b883-f33d7684c0b4"
      },
      "source": [
        "soup.title"
      ],
      "execution_count": 38,
      "outputs": [
        {
          "output_type": "execute_result",
          "data": {
            "text/plain": [
              "<title>네이버 웹툰</title>"
            ]
          },
          "metadata": {},
          "execution_count": 38
        }
      ]
    },
    {
      "cell_type": "code",
      "metadata": {
        "id": "IO0EZP-HqeGD",
        "colab": {
          "base_uri": "https://localhost:8080/",
          "height": 35
        },
        "outputId": "58601b29-fb3b-4619-ea44-8b3e37a5a0a9"
      },
      "source": [
        "soup.title.get_text() #해당 태그에 대한 텍스트값"
      ],
      "execution_count": 44,
      "outputs": [
        {
          "output_type": "execute_result",
          "data": {
            "text/plain": [
              "'네이버 웹툰'"
            ],
            "application/vnd.google.colaboratory.intrinsic+json": {
              "type": "string"
            }
          },
          "metadata": {},
          "execution_count": 44
        }
      ]
    },
    {
      "cell_type": "markdown",
      "source": [
        "9) daum 검색 결과"
      ],
      "metadata": {
        "id": "Yaj5Kmh8cgWa"
      }
    },
    {
      "cell_type": "code",
      "metadata": {
        "id": "_SqTuGFFgGaz",
        "colab": {
          "base_uri": "https://localhost:8080/"
        },
        "outputId": "325202fa-0b6b-421a-f47e-c9d55529c3b0"
      },
      "source": [
        "import requests\n",
        "from bs4 import BeautifulSoup\n",
        "\n",
        "res = requests.get('https://search.daum.net/search?w=tot&DA=YZR&t__nil_searchbox=btn&sug=&sugo=&sq=&o=&q=2022%EB%85%84%EC%98%81%ED%99%94%EC%88%9C%EC%9C%84')\n",
        "res.raise_for_status()\n",
        "soup = BeautifulSoup(res.text, 'lxml')\n",
        "\n",
        "images = soup.find_all('img', attrs = {'class':'thumb_img'})\n",
        "\n",
        "for idx, image in enumerate(images):\n",
        "  print(image['src'])\n",
        "  image_url = image['src']\n",
        "  if image_url.startswith('//'):\n",
        "    image_url = 'http'+ image_url\n",
        "\n",
        "  print(image_url)\n",
        "  image_res = requests.get(image_url)\n",
        "  image_res.raise_for_status()\n",
        "\n",
        "  with open('moive{}.jpg'.format(idx+1), 'wb')as f:\n",
        "    f.write(image_res.content)\n",
        "  if idx>=4 :#상위 5개 이미지 다운로드\n",
        "    break"
      ],
      "execution_count": 57,
      "outputs": [
        {
          "output_type": "stream",
          "name": "stdout",
          "text": [
            "https://search1.kakaocdn.net/thumb/R232x328.q85/?fname=https%3A%2F%2Ft1.daumcdn.net%2Fmovie%2F3f7e3035989e7918c6426e541c864d0d8a295de2\n",
            "https://search1.kakaocdn.net/thumb/R232x328.q85/?fname=https%3A%2F%2Ft1.daumcdn.net%2Fmovie%2F3f7e3035989e7918c6426e541c864d0d8a295de2\n",
            "https://search1.kakaocdn.net/thumb/R232x328.q85/?fname=https%3A%2F%2Ft1.daumcdn.net%2Fmovie%2F4eb261668eb43a125d0adc250a89adb48216c005\n",
            "https://search1.kakaocdn.net/thumb/R232x328.q85/?fname=https%3A%2F%2Ft1.daumcdn.net%2Fmovie%2F4eb261668eb43a125d0adc250a89adb48216c005\n",
            "https://search1.kakaocdn.net/thumb/R232x328.q85/?fname=https%3A%2F%2Ft1.daumcdn.net%2Fmovie%2F0cdb0abb3d8da8c6332bf6a945a86f9a32f67abd\n",
            "https://search1.kakaocdn.net/thumb/R232x328.q85/?fname=https%3A%2F%2Ft1.daumcdn.net%2Fmovie%2F0cdb0abb3d8da8c6332bf6a945a86f9a32f67abd\n",
            "https://search1.kakaocdn.net/thumb/R232x328.q85/?fname=https%3A%2F%2Ft1.daumcdn.net%2Fmovie%2F2032840c034ca7a2536b55adabb0e8a5ca99dd83\n",
            "https://search1.kakaocdn.net/thumb/R232x328.q85/?fname=https%3A%2F%2Ft1.daumcdn.net%2Fmovie%2F2032840c034ca7a2536b55adabb0e8a5ca99dd83\n",
            "https://search1.kakaocdn.net/thumb/R232x328.q85/?fname=https%3A%2F%2Ft1.daumcdn.net%2Fmovie%2F36f22dea0e0a9e0e626c549ce689558160c46ed4\n",
            "https://search1.kakaocdn.net/thumb/R232x328.q85/?fname=https%3A%2F%2Ft1.daumcdn.net%2Fmovie%2F36f22dea0e0a9e0e626c549ce689558160c46ed4\n"
          ]
        }
      ]
    },
    {
      "cell_type": "markdown",
      "metadata": {
        "id": "pqflgLzHQ8es"
      },
      "source": [
        "10) 네이버 주가 정보"
      ]
    },
    {
      "cell_type": "code",
      "metadata": {
        "id": "YG5A5NZUQ7z1",
        "colab": {
          "base_uri": "https://localhost:8080/"
        },
        "outputId": "17cd2dea-3acd-4388-8d6f-1ba3fbb784e3"
      },
      "source": [
        "import csv\n",
        "import requests\n",
        "from bs4 import BeautifulSoup\n",
        "\n",
        "url = 'https://finance.naver.com/sise/sise_market_sum.nhn?sosok=0&page='\n",
        "\n",
        "for page in range(1,2):\n",
        "  res = requests.get(url + str(page))\n",
        "  res.raise_for_status()\n",
        "  soup = BeautifulSoup(res.text, 'lxml')\n",
        "\n",
        "\n",
        "  data_rows = soup.find('table',attrs={'class':'type_2'}).find('tbody').find_all('tr')\n",
        "  for row in data_rows:\n",
        "    columns = row.find_all('td')\n",
        "    data = [column.get_text().strip() for column in columns]\n",
        "    print(data)\n"
      ],
      "execution_count": 54,
      "outputs": [
        {
          "output_type": "stream",
          "name": "stdout",
          "text": [
            "['']\n",
            "['1', '삼성전자', '73,400', '1,500', '+2.09%', '100', '4,381,820', '5,969,783', '52.91', '15,738,175', '11.08', '17.07', '']\n",
            "['2', 'LG에너지솔루션', '542,000', '0', '0.00%', '500', '1,268,280', '234,000', '5.26', '321,917', '121.80', '5.75', '']\n",
            "['3', 'SK하이닉스', '118,000', '3,900', '+3.42%', '5,000', '859,043', '728,002', '51.72', '5,618,237', '-36.88', '3.56', '']\n",
            "['4', '삼성바이오로직스', '744,000', '4,000', '-0.53%', '2,500', '529,535', '71,174', '10.50', '64,361', '66.59', '11.42', '']\n",
            "['5', '삼성전자우', '60,300', '400', '+0.67%', '100', '496,201', '822,887', '72.53', '994,740', '9.10', 'N/A', '']\n",
            "['']\n",
            "['']\n",
            "['']\n",
            "['6', '삼성SDI', '716,000', '1,000', '+0.14%', '5,000', '492,354', '68,765', '49.52', '184,912', '24.77', '12.52', '']\n",
            "['7', 'LG화학', '680,000', '10,000', '+1.49%', '5,000', '480,028', '70,592', '46.99', '269,866', '32.63', '6.95', '']\n",
            "['8', '현대차', '208,500', '5,000', '+2.46%', '5,000', '441,043', '211,532', '32.58', '654,405', '6.34', '9.36', '']\n",
            "['9', 'POSCO홀딩스', '447,000', '15,500', '+3.59%', '5,000', '378,033', '84,571', '37.13', '2,184,187', '17.72', '6.11', '']\n",
            "['10', '기아', '88,700', '1,200', '+1.37%', '5,000', '356,613', '402,044', '38.21', '1,209,094', '5.53', '14.57', '']\n",
            "['']\n",
            "['']\n",
            "['']\n",
            "['11', 'NAVER', '204,500', '4,800', '+2.40%', '100', '335,480', '164,049', '46.89', '734,425', '52.09', '3.29', '']\n",
            "['12', '포스코퓨처엠', '401,000', '12,500', '+3.22%', '500', '310,628', '77,463', '7.36', '829,419', '256.39', '4.87', '']\n",
            "['13', '카카오', '52,800', '900', '+1.73%', '100', '234,571', '444,263', '25.63', '1,892,630', '184.62', '13.54', '']\n",
            "['14', '현대모비스', '248,500', '15,500', '+6.65%', '5,000', '234,298', '94,285', '37.28', '594,017', '8.36', '6.80', '']\n",
            "['15', '셀트리온', '158,200', '2,200', '+1.41%', '1,000', '231,590', '146,391', '20.01', '678,867', '39.59', '13.35', '']\n",
            "['']\n",
            "['']\n",
            "['']\n",
            "['16', 'LG전자', '125,400', '4,000', '+3.29%', '5,000', '205,214', '163,648', '29.60', '884,054', '51.41', '6.61', '']\n",
            "['17', 'KB금융', '48,750', '1,650', '+3.50%', '5,000', '196,712', '403,511', '72.08', '1,964,681', '4.50', '9.17', '']\n",
            "['18', '삼성물산', '104,200', '1,100', '+1.07%', '100', '193,387', '185,592', '18.24', '187,716', '9.09', '7.16', '']\n",
            "['19', '신한지주', '34,100', '750', '+2.25%', '5,000', '176,756', '518,347', '59.03', '1,163,898', '3.90', '9.70', '']\n",
            "['20', 'SK이노베이션', '163,700', '1,700', '-1.03%', '5,000', '151,366', '92,466', '23.48', '566,795', '23.81', '8.49', '']\n",
            "['']\n",
            "['']\n",
            "['']\n",
            "['21', '삼성생명', '71,000', '1,800', '+2.60%', '500', '142,000', '200,000', '16.59', '310,688', '7.03', '5.73', '']\n",
            "['22', 'LG', '87,300', '2,100', '+2.46%', '5,000', '137,324', '157,301', '35.95', '226,626', '12.72', '8.48', '']\n",
            "['23', '한국전력', '20,450', '250', '-1.21%', '5,000', '131,282', '641,964', '14.76', '1,270,090', '-0.56', '-46.91', '']\n",
            "['24', 'HD현대중공업', '147,800', '2,300', '+1.58%', '5,000', '131,207', '88,773', '7.25', '141,004', '-66.70', '-6.47', '']\n",
            "['25', '카카오뱅크', '25,700', '400', '+1.58%', '5,000', '122,529', '476,767', '14.26', '1,317,223', '41.05', '4.68', '']\n",
            "['']\n",
            "['']\n",
            "['']\n",
            "['26', '하나금융지주', '39,300', '1,150', '+3.01%', '5,000', '116,290', '295,903', '68.41', '1,032,401', '3.10', '10.06', '']\n",
            "['27', '삼성화재', '244,500', '6,000', '+2.52%', '500', '115,831', '47,375', '52.95', '83,038', '8.56', '9.70', '']\n",
            "['28', '두산에너빌리티', '17,890', '1,170', '-6.14%', '5,000', '114,596', '640,561', '13.58', '12,551,650', '-17.14', '-11.70', '']\n",
            "['29', 'KT&G', '82,800', '100', '+0.12%', '5,000', '113,678', '137,292', '42.91', '248,856', '11.12', '11.00', '']\n",
            "['30', '삼성전기', '150,300', '2,100', '+1.42%', '5,000', '112,265', '74,694', '31.54', '533,510', '15.02', '13.76', '']\n",
            "['']\n",
            "['']\n",
            "['']\n",
            "['31', 'SK', '149,400', '1,900', '+1.29%', '200', '109,358', '73,198', '22.29', '137,845', '-7,470.00', '5.13', '']\n",
            "['32', '하이브', '256,500', '2,500', '-0.97%', '500', '106,838', '41,652', '16.15', '283,126', '240.62', '1.87', '']\n",
            "['33', '한화오션', '47,700', '750', '-1.55%', '5,000', '103,449', '216,873', '2.29', '1,871,783', '-3.73', '-117.79', '']\n",
            "['34', 'SK텔레콤', '46,050', '150', '+0.33%', '100', '100,773', '218,833', '41.92', '478,735', '10.16', '7.97', '']\n",
            "['35', '대한항공', '26,100', '550', '+2.15%', '5,000', '96,106', '368,221', '15.43', '2,076,805', '6.67', '21.95', '']\n",
            "['']\n",
            "['']\n",
            "['']\n",
            "['36', 'HMM', '19,400', '150', '+0.78%', '5,000', '94,874', '489,039', '10.98', '1,133,410', '1.31', '64.98', '']\n",
            "['37', '메리츠금융지주', '45,550', '1,200', '+2.71%', '500', '94,843', '208,218', '15.68', '884,364', '4.91', '30.32', '']\n",
            "['38', '삼성에스디에스', '122,500', '4,100', '+3.46%', '500', '94,788', '77,378', '16.29', '147,451', '8.58', '14.23', '']\n",
            "['39', '크래프톤', '194,600', '2,400', '+1.25%', '100', '94,114', '48,363', '31.61', '75,838', '18.29', '10.29', '']\n",
            "['40', '고려아연', '472,500', '10,000', '+2.16%', '5,000', '93,853', '19,863', '20.91', '39,212', '12.07', '9.38', '']\n",
            "['']\n",
            "['']\n",
            "['']\n",
            "['41', 'HD한국조선해양', '129,400', '400', '+0.31%', '5,000', '91,580', '70,773', '22.64', '299,829', '-73.23', '-2.22', '']\n",
            "['42', '우리금융지주', '11,790', '190', '+1.64%', '5,000', '85,838', '728,061', '38.09', '2,123,270', '2.67', '11.51', '']\n",
            "['43', '포스코인터내셔널', '48,450', '2,650', '+5.79%', '5,000', '85,235', '175,923', '5.47', '6,310,707', '10.82', '15.79', '']\n",
            "['44', '기업은행', '10,360', '100', '+0.97%', '5,000', '82,613', '797,426', '13.89', '1,040,540', '2.91', '9.85', '']\n",
            "['45', 'KT', '29,850', '150', '+0.51%', '5,000', '77,942', '261,112', '39.71', '500,712', '6.78', '7.99', '']\n",
            "['']\n",
            "['']\n",
            "['']\n",
            "['46', '한화솔루션', '44,500', '550', '-1.22%', '5,000', '76,492', '171,893', '24.08', '1,302,999', '22.73', '4.21', '']\n",
            "['47', 'S-Oil', '67,900', '1,300', '+1.95%', '2,500', '76,444', '112,583', '77.02', '380,704', '5.28', '27.20', '']\n",
            "['48', '현대글로비스', '198,500', '3,700', '+1.90%', '500', '74,438', '37,500', '47.87', '92,647', '6.31', '18.78', '']\n",
            "['49', '삼성중공업', '8,310', '0', '0.00%', '1,000', '73,128', '880,000', '18.75', '14,284,462', '-14.48', '-16.08', '']\n",
            "['50', 'LG생활건강', '464,500', '3,500', '+0.76%', '5,000', '72,547', '15,618', '33.93', '57,447', '37.68', '4.41', '']\n",
            "['']\n",
            "['']\n",
            "['']\n"
          ]
        }
      ]
    },
    {
      "cell_type": "code",
      "metadata": {
        "colab": {
          "base_uri": "https://localhost:8080/"
        },
        "id": "6MZM7aKRW1z3",
        "outputId": "1405fc49-871e-48ae-8a4e-dee8feced5b6"
      },
      "source": [
        "import csv\n",
        "import requests\n",
        "from bs4 import BeautifulSoup\n",
        "\n",
        "url = 'https://finance.naver.com/sise/sise_market_sum.nhn?sosok=0&page='\n",
        "\n",
        "for page in range(1,2):\n",
        "  res = requests.get(url + str(page))\n",
        "  res.raise_for_status()\n",
        "  soup = BeautifulSoup(res.text, 'lxml')\n",
        "\n",
        "\n",
        "  data_rows = soup.find('table',attrs={'class':'type_2'}).find('tbody').find_all('tr')\n",
        "  for row in data_rows:\n",
        "    columns = row.find_all('td')\n",
        "    if len(columns) <=1: #비어있는 라인 제외시키기\n",
        "      continue\n",
        "    data = [column.get_text().strip() for column in columns]\n",
        "    print(data)\n"
      ],
      "execution_count": 58,
      "outputs": [
        {
          "output_type": "stream",
          "name": "stdout",
          "text": [
            "['1', '삼성전자', '73,400', '1,500', '+2.09%', '100', '4,381,820', '5,969,783', '52.91', '15,738,175', '11.08', '17.07', '']\n",
            "['2', 'LG에너지솔루션', '542,000', '0', '0.00%', '500', '1,268,280', '234,000', '5.26', '321,917', '121.80', '5.75', '']\n",
            "['3', 'SK하이닉스', '118,000', '3,900', '+3.42%', '5,000', '859,043', '728,002', '51.72', '5,618,237', '-36.88', '3.56', '']\n",
            "['4', '삼성바이오로직스', '744,000', '4,000', '-0.53%', '2,500', '529,535', '71,174', '10.50', '64,361', '66.59', '11.42', '']\n",
            "['5', '삼성전자우', '60,300', '400', '+0.67%', '100', '496,201', '822,887', '72.53', '994,740', '9.10', 'N/A', '']\n",
            "['6', '삼성SDI', '716,000', '1,000', '+0.14%', '5,000', '492,354', '68,765', '49.52', '184,912', '24.77', '12.52', '']\n",
            "['7', 'LG화학', '680,000', '10,000', '+1.49%', '5,000', '480,028', '70,592', '46.99', '269,866', '32.63', '6.95', '']\n",
            "['8', '현대차', '208,500', '5,000', '+2.46%', '5,000', '441,043', '211,532', '32.58', '654,405', '6.34', '9.36', '']\n",
            "['9', 'POSCO홀딩스', '447,000', '15,500', '+3.59%', '5,000', '378,033', '84,571', '37.13', '2,184,187', '17.72', '6.11', '']\n",
            "['10', '기아', '88,700', '1,200', '+1.37%', '5,000', '356,613', '402,044', '38.21', '1,209,094', '5.53', '14.57', '']\n",
            "['11', 'NAVER', '204,500', '4,800', '+2.40%', '100', '335,480', '164,049', '46.89', '734,425', '52.09', '3.29', '']\n",
            "['12', '포스코퓨처엠', '401,000', '12,500', '+3.22%', '500', '310,628', '77,463', '7.36', '829,419', '256.39', '4.87', '']\n",
            "['13', '카카오', '52,800', '900', '+1.73%', '100', '234,571', '444,263', '25.63', '1,892,630', '184.62', '13.54', '']\n",
            "['14', '현대모비스', '248,500', '15,500', '+6.65%', '5,000', '234,298', '94,285', '37.28', '594,017', '8.36', '6.80', '']\n",
            "['15', '셀트리온', '158,200', '2,200', '+1.41%', '1,000', '231,590', '146,391', '20.01', '678,867', '39.59', '13.35', '']\n",
            "['16', 'LG전자', '125,400', '4,000', '+3.29%', '5,000', '205,214', '163,648', '29.60', '884,054', '51.41', '6.61', '']\n",
            "['17', 'KB금융', '48,750', '1,650', '+3.50%', '5,000', '196,712', '403,511', '72.08', '1,964,681', '4.50', '9.17', '']\n",
            "['18', '삼성물산', '104,200', '1,100', '+1.07%', '100', '193,387', '185,592', '18.24', '187,716', '9.09', '7.16', '']\n",
            "['19', '신한지주', '34,100', '750', '+2.25%', '5,000', '176,756', '518,347', '59.03', '1,163,898', '3.90', '9.70', '']\n",
            "['20', 'SK이노베이션', '163,700', '1,700', '-1.03%', '5,000', '151,366', '92,466', '23.48', '566,795', '23.81', '8.49', '']\n",
            "['21', '삼성생명', '71,000', '1,800', '+2.60%', '500', '142,000', '200,000', '16.59', '310,688', '7.03', '5.73', '']\n",
            "['22', 'LG', '87,300', '2,100', '+2.46%', '5,000', '137,324', '157,301', '35.95', '226,626', '12.72', '8.48', '']\n",
            "['23', '한국전력', '20,450', '250', '-1.21%', '5,000', '131,282', '641,964', '14.76', '1,270,090', '-0.56', '-46.91', '']\n",
            "['24', 'HD현대중공업', '147,800', '2,300', '+1.58%', '5,000', '131,207', '88,773', '7.25', '141,004', '-66.70', '-6.47', '']\n",
            "['25', '카카오뱅크', '25,700', '400', '+1.58%', '5,000', '122,529', '476,767', '14.26', '1,317,223', '41.05', '4.68', '']\n",
            "['26', '하나금융지주', '39,300', '1,150', '+3.01%', '5,000', '116,290', '295,903', '68.41', '1,032,401', '3.10', '10.06', '']\n",
            "['27', '삼성화재', '244,500', '6,000', '+2.52%', '500', '115,831', '47,375', '52.95', '83,038', '8.56', '9.70', '']\n",
            "['28', '두산에너빌리티', '17,890', '1,170', '-6.14%', '5,000', '114,596', '640,561', '13.58', '12,551,650', '-17.14', '-11.70', '']\n",
            "['29', 'KT&G', '82,800', '100', '+0.12%', '5,000', '113,678', '137,292', '42.91', '248,856', '11.12', '11.00', '']\n",
            "['30', '삼성전기', '150,300', '2,100', '+1.42%', '5,000', '112,265', '74,694', '31.54', '533,510', '15.02', '13.76', '']\n",
            "['31', 'SK', '149,400', '1,900', '+1.29%', '200', '109,358', '73,198', '22.29', '137,845', '-7,470.00', '5.13', '']\n",
            "['32', '하이브', '256,500', '2,500', '-0.97%', '500', '106,838', '41,652', '16.15', '283,126', '240.62', '1.87', '']\n",
            "['33', '한화오션', '47,700', '750', '-1.55%', '5,000', '103,449', '216,873', '2.29', '1,871,783', '-3.73', '-117.79', '']\n",
            "['34', 'SK텔레콤', '46,050', '150', '+0.33%', '100', '100,773', '218,833', '41.92', '478,735', '10.16', '7.97', '']\n",
            "['35', '대한항공', '26,100', '550', '+2.15%', '5,000', '96,106', '368,221', '15.43', '2,076,805', '6.67', '21.95', '']\n",
            "['36', 'HMM', '19,400', '150', '+0.78%', '5,000', '94,874', '489,039', '10.98', '1,133,410', '1.31', '64.98', '']\n",
            "['37', '메리츠금융지주', '45,550', '1,200', '+2.71%', '500', '94,843', '208,218', '15.68', '884,364', '4.91', '30.32', '']\n",
            "['38', '삼성에스디에스', '122,500', '4,100', '+3.46%', '500', '94,788', '77,378', '16.29', '147,451', '8.58', '14.23', '']\n",
            "['39', '크래프톤', '194,600', '2,400', '+1.25%', '100', '94,114', '48,363', '31.61', '75,838', '18.29', '10.29', '']\n",
            "['40', '고려아연', '472,500', '10,000', '+2.16%', '5,000', '93,853', '19,863', '20.91', '39,212', '12.07', '9.38', '']\n",
            "['41', 'HD한국조선해양', '129,400', '400', '+0.31%', '5,000', '91,580', '70,773', '22.64', '299,829', '-73.23', '-2.22', '']\n",
            "['42', '우리금융지주', '11,790', '190', '+1.64%', '5,000', '85,838', '728,061', '38.09', '2,123,270', '2.67', '11.51', '']\n",
            "['43', '포스코인터내셔널', '48,450', '2,650', '+5.79%', '5,000', '85,235', '175,923', '5.47', '6,310,707', '10.82', '15.79', '']\n",
            "['44', '기업은행', '10,360', '100', '+0.97%', '5,000', '82,613', '797,426', '13.89', '1,040,540', '2.91', '9.85', '']\n",
            "['45', 'KT', '29,850', '150', '+0.51%', '5,000', '77,942', '261,112', '39.71', '500,712', '6.78', '7.99', '']\n",
            "['46', '한화솔루션', '44,500', '550', '-1.22%', '5,000', '76,492', '171,893', '24.08', '1,302,999', '22.73', '4.21', '']\n",
            "['47', 'S-Oil', '67,900', '1,300', '+1.95%', '2,500', '76,444', '112,583', '77.02', '380,704', '5.28', '27.20', '']\n",
            "['48', '현대글로비스', '198,500', '3,700', '+1.90%', '500', '74,438', '37,500', '47.87', '92,647', '6.31', '18.78', '']\n",
            "['49', '삼성중공업', '8,310', '0', '0.00%', '1,000', '73,128', '880,000', '18.75', '14,284,462', '-14.48', '-16.08', '']\n",
            "['50', 'LG생활건강', '464,500', '3,500', '+0.76%', '5,000', '72,547', '15,618', '33.93', '57,447', '37.68', '4.41', '']\n"
          ]
        }
      ]
    },
    {
      "cell_type": "code",
      "metadata": {
        "id": "l1M1GDwzW187"
      },
      "source": [
        "import csv\n",
        "import requests\n",
        "from bs4 import BeautifulSoup\n",
        "\n",
        "url = 'https://finance.naver.com/sise/sise_market_sum.nhn?sosok=0&page='\n",
        "\n",
        "filename = 'kospi.csv'\n",
        "\n",
        "f = open(filename, 'w', encoding = 'utf-8-sig', newline = '') #utf-8에서 인코딩 문제 발생 시, utf-8-signature로 인코딩\n",
        "writer = csv.writer(f)\n",
        "\n",
        "for page in range(1,2):\n",
        "  res = requests.get(url + str(page))\n",
        "  res.raise_for_status()\n",
        "  soup = BeautifulSoup(res.text, 'lxml')\n",
        "\n",
        "  data_rows = soup.find('table',attrs={'class':'type_2'}).find('tbody').find_all('tr')\n",
        "  for row in data_rows:\n",
        "    columns = row.find_all('td')\n",
        "    if len(columns) <=1: #의미 없는 데이터는 skip\n",
        "      continue\n",
        "    data = [column.get_text().strip() for column in columns]\n",
        "    # print(data)\n",
        "    writer.writerow(data)\n"
      ],
      "execution_count": 59,
      "outputs": []
    },
    {
      "cell_type": "code",
      "metadata": {
        "id": "Q7_aSuxoW2BG"
      },
      "source": [
        "import csv\n",
        "import requests\n",
        "from bs4 import BeautifulSoup\n",
        "\n",
        "url = 'https://finance.naver.com/sise/sise_market_sum.nhn?sosok=0&page='\n",
        "\n",
        "filename = 'kospi2.csv'\n",
        "\n",
        "f = open(filename, 'w', encoding = 'utf-8-sig', newline = '')\n",
        "writer = csv.writer(f)\n",
        "\n",
        "title = 'N\t종목명\t현재가\t전일비\t등락률\t액면가\t시가총액\t상장주식수\t외국인비율\t거래량\tPER\tROE'.split('\\t')\n",
        "writer.writerow(title)\n",
        "\n",
        "for page in range(1,5):\n",
        "  res = requests.get(url + str(page))\n",
        "  res.raise_for_status()\n",
        "  soup = BeautifulSoup(res.text, 'lxml')\n",
        "\n",
        "\n",
        "  data_rows = soup.find('table',attrs={'class':'type_2'}).find('tbody').find_all('tr')\n",
        "  for row in data_rows:\n",
        "    columns = row.find_all('td')\n",
        "    if len(columns) <=1: #의미 없는 데이터는 skip\n",
        "      continue\n",
        "    data = [column.get_text().strip() for column in columns]\n",
        "    # print(data)\n",
        "    writer.writerow(data)\n",
        "\n"
      ],
      "execution_count": 60,
      "outputs": []
    },
    {
      "cell_type": "markdown",
      "source": [
        "12) 네이버 뉴스 수집"
      ],
      "metadata": {
        "id": "vHrYBcUsEYXp"
      }
    },
    {
      "cell_type": "code",
      "source": [
        "from bs4 import BeautifulSoup\n",
        "from lxml import etree\n",
        "from urllib import parse\n",
        "import requests\n",
        "import urllib.request\n",
        "import urllib.parse\n",
        "import numpy as np\n",
        "import pandas as pd\n",
        "import time\n",
        "\n",
        "#----------------------------------------------#\n",
        "#변경할 부분\n",
        "startdate = \"2022.01.27\"\n",
        "enddate = \"2022.01.27\"\n",
        "searchword =\"금융 디지털\"#검색어\n",
        "#----------------------------------------------#\n",
        "\n",
        "base_url = \"https://search.naver.com/search.naver?where=news&sm=tab_pge&query\"+parse.urlencode([('',searchword)], doseq=True)+\"&sort=1&photo=3&field=0&pd=3&ds=\"+startdate+\"&de=\"+enddate+\"&mynews=1&office_type=0&office_section_code=0&news_office_checked=&nso=so:dd,p:from\"+startdate.replace(\".\", \"\")+\"to\"+enddate.replace(\".\", \"\")+\",a:all&mynews=0&start=\"\n",
        "titles = [ ]\n",
        "urls = [ ]\n",
        "i=1\n",
        "\n",
        "while True:\n",
        " try:\n",
        "    time.sleep(0.45)\n",
        "    url = base_url+str(i)\n",
        "    html = urllib.request.urlopen(url).read()\n",
        "    soup = BeautifulSoup(html, 'html.parser')\n",
        "    dom = etree.HTML(str(soup))\n",
        "    t_news = dom.xpath('//a[@class=\"news_tit\"]')\n",
        "    t_len = len(t_news)\n",
        "\n",
        "    if t_len <1:\n",
        "        break\n",
        "\n",
        "    for j in np.arange(t_len)+1:\n",
        "            try:\n",
        "                titles.append(dom.xpath('//a[@class=\"news_tit\"]')[j].get(\"title\"))\n",
        "                urls.append(dom.xpath('//a[@class=\"info\"]')[j].get(\"href\"))\n",
        "            except Exception as e:\n",
        "                continue\n",
        "\n",
        "    i=i+10\n",
        "\n",
        " except Exception as e:\n",
        "    continue\n",
        "\n",
        "result = pd.DataFrame({\"Url\": urls, \"Title\":titles})\n",
        "result.to_csv(\"news_\"+searchword+\"_\"+startdate+\"_\"+enddate+\".csv\", index=False)"
      ],
      "metadata": {
        "id": "48AXCGkSETXP"
      },
      "execution_count": 63,
      "outputs": []
    },
    {
      "cell_type": "markdown",
      "source": [
        "13) api 활용 수집\n"
      ],
      "metadata": {
        "id": "ilavI8gvEcfR"
      }
    },
    {
      "cell_type": "code",
      "source": [
        "!pip install -U pykrx"
      ],
      "metadata": {
        "colab": {
          "base_uri": "https://localhost:8080/"
        },
        "id": "GfQQcnW1ETtz",
        "outputId": "79a01bcc-3b53-42b3-d446-99e063ff3f11"
      },
      "execution_count": 62,
      "outputs": [
        {
          "output_type": "stream",
          "name": "stdout",
          "text": [
            "Collecting pykrx\n",
            "  Downloading pykrx-1.0.44-py3-none-any.whl (2.2 MB)\n",
            "\u001b[?25l     \u001b[90m━━━━━━━━━━━━━━━━━━━━━━━━━━━━━━━━━━━━━━━━\u001b[0m \u001b[32m0.0/2.2 MB\u001b[0m \u001b[31m?\u001b[0m eta \u001b[36m-:--:--\u001b[0m\r\u001b[2K     \u001b[91m━━━━━━━━━━━━━━━━━━━━━━━━━━━━━━━━━━━━━━━\u001b[0m\u001b[91m╸\u001b[0m \u001b[32m2.2/2.2 MB\u001b[0m \u001b[31m118.7 MB/s\u001b[0m eta \u001b[36m0:00:01\u001b[0m\r\u001b[2K     \u001b[90m━━━━━━━━━━━━━━━━━━━━━━━━━━━━━━━━━━━━━━━━\u001b[0m \u001b[32m2.2/2.2 MB\u001b[0m \u001b[31m60.4 MB/s\u001b[0m eta \u001b[36m0:00:00\u001b[0m\n",
            "\u001b[?25hRequirement already satisfied: requests in /usr/local/lib/python3.10/dist-packages (from pykrx) (2.27.1)\n",
            "Requirement already satisfied: pandas in /usr/local/lib/python3.10/dist-packages (from pykrx) (1.5.3)\n",
            "Collecting datetime (from pykrx)\n",
            "  Downloading DateTime-5.1-py3-none-any.whl (52 kB)\n",
            "\u001b[?25l     \u001b[90m━━━━━━━━━━━━━━━━━━━━━━━━━━━━━━━━━━━━━━━━\u001b[0m \u001b[32m0.0/52.1 kB\u001b[0m \u001b[31m?\u001b[0m eta \u001b[36m-:--:--\u001b[0m\r\u001b[2K     \u001b[90m━━━━━━━━━━━━━━━━━━━━━━━━━━━━━━━━━━━━━━━━\u001b[0m \u001b[32m52.1/52.1 kB\u001b[0m \u001b[31m6.1 MB/s\u001b[0m eta \u001b[36m0:00:00\u001b[0m\n",
            "\u001b[?25hRequirement already satisfied: numpy in /usr/local/lib/python3.10/dist-packages (from pykrx) (1.22.4)\n",
            "Requirement already satisfied: xlrd in /usr/local/lib/python3.10/dist-packages (from pykrx) (2.0.1)\n",
            "Collecting deprecated (from pykrx)\n",
            "  Downloading Deprecated-1.2.14-py2.py3-none-any.whl (9.6 kB)\n",
            "Requirement already satisfied: multipledispatch in /usr/local/lib/python3.10/dist-packages (from pykrx) (1.0.0)\n",
            "Requirement already satisfied: matplotlib in /usr/local/lib/python3.10/dist-packages (from pykrx) (3.7.1)\n",
            "Collecting zope.interface (from datetime->pykrx)\n",
            "  Downloading zope.interface-6.0-cp310-cp310-manylinux_2_5_x86_64.manylinux1_x86_64.manylinux_2_17_x86_64.manylinux2014_x86_64.whl (246 kB)\n",
            "\u001b[2K     \u001b[90m━━━━━━━━━━━━━━━━━━━━━━━━━━━━━━━━━━━━━━\u001b[0m \u001b[32m247.0/247.0 kB\u001b[0m \u001b[31m17.8 MB/s\u001b[0m eta \u001b[36m0:00:00\u001b[0m\n",
            "\u001b[?25hRequirement already satisfied: pytz in /usr/local/lib/python3.10/dist-packages (from datetime->pykrx) (2022.7.1)\n",
            "Requirement already satisfied: wrapt<2,>=1.10 in /usr/local/lib/python3.10/dist-packages (from deprecated->pykrx) (1.14.1)\n",
            "Requirement already satisfied: contourpy>=1.0.1 in /usr/local/lib/python3.10/dist-packages (from matplotlib->pykrx) (1.1.0)\n",
            "Requirement already satisfied: cycler>=0.10 in /usr/local/lib/python3.10/dist-packages (from matplotlib->pykrx) (0.11.0)\n",
            "Requirement already satisfied: fonttools>=4.22.0 in /usr/local/lib/python3.10/dist-packages (from matplotlib->pykrx) (4.40.0)\n",
            "Requirement already satisfied: kiwisolver>=1.0.1 in /usr/local/lib/python3.10/dist-packages (from matplotlib->pykrx) (1.4.4)\n",
            "Requirement already satisfied: packaging>=20.0 in /usr/local/lib/python3.10/dist-packages (from matplotlib->pykrx) (23.1)\n",
            "Requirement already satisfied: pillow>=6.2.0 in /usr/local/lib/python3.10/dist-packages (from matplotlib->pykrx) (8.4.0)\n",
            "Requirement already satisfied: pyparsing>=2.3.1 in /usr/local/lib/python3.10/dist-packages (from matplotlib->pykrx) (3.1.0)\n",
            "Requirement already satisfied: python-dateutil>=2.7 in /usr/local/lib/python3.10/dist-packages (from matplotlib->pykrx) (2.8.2)\n",
            "Requirement already satisfied: urllib3<1.27,>=1.21.1 in /usr/local/lib/python3.10/dist-packages (from requests->pykrx) (1.26.16)\n",
            "Requirement already satisfied: certifi>=2017.4.17 in /usr/local/lib/python3.10/dist-packages (from requests->pykrx) (2023.5.7)\n",
            "Requirement already satisfied: charset-normalizer~=2.0.0 in /usr/local/lib/python3.10/dist-packages (from requests->pykrx) (2.0.12)\n",
            "Requirement already satisfied: idna<4,>=2.5 in /usr/local/lib/python3.10/dist-packages (from requests->pykrx) (3.4)\n",
            "Requirement already satisfied: six>=1.5 in /usr/local/lib/python3.10/dist-packages (from python-dateutil>=2.7->matplotlib->pykrx) (1.16.0)\n",
            "Requirement already satisfied: setuptools in /usr/local/lib/python3.10/dist-packages (from zope.interface->datetime->pykrx) (67.7.2)\n",
            "Installing collected packages: zope.interface, deprecated, datetime, pykrx\n",
            "Successfully installed datetime-5.1 deprecated-1.2.14 pykrx-1.0.44 zope.interface-6.0\n"
          ]
        }
      ]
    },
    {
      "cell_type": "code",
      "source": [
        "from pykrx import stock\n",
        "\n",
        "tickers = stock.get_market_ticker_list(\"20210115\")\n",
        "tickers\n",
        "\n",
        "stock1 = stock.get_market_ticker_name(\"000660\")\n",
        "stock1\n",
        "\n",
        "df = stock.get_market_ohlcv_by_date(\"20210104\", \"20210108\", \"005930\")\n",
        "df.head(5)\n",
        "\n",
        "df = stock.get_market_ohlcv_by_date(\"20210104\", \"20210108\", \"005930\", \"m\")\n",
        "df.head(5)\n",
        "\n"
      ],
      "metadata": {
        "colab": {
          "base_uri": "https://localhost:8080/",
          "height": 112
        },
        "id": "j4UTjrbkE7g1",
        "outputId": "1f8fa467-791d-453c-817e-b667231cd413"
      },
      "execution_count": 64,
      "outputs": [
        {
          "output_type": "execute_result",
          "data": {
            "text/plain": [
              "               시가     고가     저가     종가        거래량\n",
              "날짜                                               \n",
              "2021-01-31  81000  90000  80200  88800  207737907"
            ],
            "text/html": [
              "\n",
              "\n",
              "  <div id=\"df-6f2de3da-3607-4a02-82c0-185937ec3ea5\">\n",
              "    <div class=\"colab-df-container\">\n",
              "      <div>\n",
              "<style scoped>\n",
              "    .dataframe tbody tr th:only-of-type {\n",
              "        vertical-align: middle;\n",
              "    }\n",
              "\n",
              "    .dataframe tbody tr th {\n",
              "        vertical-align: top;\n",
              "    }\n",
              "\n",
              "    .dataframe thead th {\n",
              "        text-align: right;\n",
              "    }\n",
              "</style>\n",
              "<table border=\"1\" class=\"dataframe\">\n",
              "  <thead>\n",
              "    <tr style=\"text-align: right;\">\n",
              "      <th></th>\n",
              "      <th>시가</th>\n",
              "      <th>고가</th>\n",
              "      <th>저가</th>\n",
              "      <th>종가</th>\n",
              "      <th>거래량</th>\n",
              "    </tr>\n",
              "    <tr>\n",
              "      <th>날짜</th>\n",
              "      <th></th>\n",
              "      <th></th>\n",
              "      <th></th>\n",
              "      <th></th>\n",
              "      <th></th>\n",
              "    </tr>\n",
              "  </thead>\n",
              "  <tbody>\n",
              "    <tr>\n",
              "      <th>2021-01-31</th>\n",
              "      <td>81000</td>\n",
              "      <td>90000</td>\n",
              "      <td>80200</td>\n",
              "      <td>88800</td>\n",
              "      <td>207737907</td>\n",
              "    </tr>\n",
              "  </tbody>\n",
              "</table>\n",
              "</div>\n",
              "      <button class=\"colab-df-convert\" onclick=\"convertToInteractive('df-6f2de3da-3607-4a02-82c0-185937ec3ea5')\"\n",
              "              title=\"Convert this dataframe to an interactive table.\"\n",
              "              style=\"display:none;\">\n",
              "\n",
              "  <svg xmlns=\"http://www.w3.org/2000/svg\" height=\"24px\"viewBox=\"0 0 24 24\"\n",
              "       width=\"24px\">\n",
              "    <path d=\"M0 0h24v24H0V0z\" fill=\"none\"/>\n",
              "    <path d=\"M18.56 5.44l.94 2.06.94-2.06 2.06-.94-2.06-.94-.94-2.06-.94 2.06-2.06.94zm-11 1L8.5 8.5l.94-2.06 2.06-.94-2.06-.94L8.5 2.5l-.94 2.06-2.06.94zm10 10l.94 2.06.94-2.06 2.06-.94-2.06-.94-.94-2.06-.94 2.06-2.06.94z\"/><path d=\"M17.41 7.96l-1.37-1.37c-.4-.4-.92-.59-1.43-.59-.52 0-1.04.2-1.43.59L10.3 9.45l-7.72 7.72c-.78.78-.78 2.05 0 2.83L4 21.41c.39.39.9.59 1.41.59.51 0 1.02-.2 1.41-.59l7.78-7.78 2.81-2.81c.8-.78.8-2.07 0-2.86zM5.41 20L4 18.59l7.72-7.72 1.47 1.35L5.41 20z\"/>\n",
              "  </svg>\n",
              "      </button>\n",
              "\n",
              "\n",
              "\n",
              "    <div id=\"df-ed1a862d-5839-4a22-9577-174676ff2205\">\n",
              "      <button class=\"colab-df-quickchart\" onclick=\"quickchart('df-ed1a862d-5839-4a22-9577-174676ff2205')\"\n",
              "              title=\"Suggest charts.\"\n",
              "              style=\"display:none;\">\n",
              "\n",
              "<svg xmlns=\"http://www.w3.org/2000/svg\" height=\"24px\"viewBox=\"0 0 24 24\"\n",
              "     width=\"24px\">\n",
              "    <g>\n",
              "        <path d=\"M19 3H5c-1.1 0-2 .9-2 2v14c0 1.1.9 2 2 2h14c1.1 0 2-.9 2-2V5c0-1.1-.9-2-2-2zM9 17H7v-7h2v7zm4 0h-2V7h2v10zm4 0h-2v-4h2v4z\"/>\n",
              "    </g>\n",
              "</svg>\n",
              "      </button>\n",
              "    </div>\n",
              "\n",
              "<style>\n",
              "  .colab-df-quickchart {\n",
              "    background-color: #E8F0FE;\n",
              "    border: none;\n",
              "    border-radius: 50%;\n",
              "    cursor: pointer;\n",
              "    display: none;\n",
              "    fill: #1967D2;\n",
              "    height: 32px;\n",
              "    padding: 0 0 0 0;\n",
              "    width: 32px;\n",
              "  }\n",
              "\n",
              "  .colab-df-quickchart:hover {\n",
              "    background-color: #E2EBFA;\n",
              "    box-shadow: 0px 1px 2px rgba(60, 64, 67, 0.3), 0px 1px 3px 1px rgba(60, 64, 67, 0.15);\n",
              "    fill: #174EA6;\n",
              "  }\n",
              "\n",
              "  [theme=dark] .colab-df-quickchart {\n",
              "    background-color: #3B4455;\n",
              "    fill: #D2E3FC;\n",
              "  }\n",
              "\n",
              "  [theme=dark] .colab-df-quickchart:hover {\n",
              "    background-color: #434B5C;\n",
              "    box-shadow: 0px 1px 3px 1px rgba(0, 0, 0, 0.15);\n",
              "    filter: drop-shadow(0px 1px 2px rgba(0, 0, 0, 0.3));\n",
              "    fill: #FFFFFF;\n",
              "  }\n",
              "</style>\n",
              "\n",
              "    <script>\n",
              "      async function quickchart(key) {\n",
              "        const containerElement = document.querySelector('#' + key);\n",
              "        const charts = await google.colab.kernel.invokeFunction(\n",
              "            'suggestCharts', [key], {});\n",
              "      }\n",
              "    </script>\n",
              "\n",
              "      <script>\n",
              "\n",
              "function displayQuickchartButton(domScope) {\n",
              "  let quickchartButtonEl =\n",
              "    domScope.querySelector('#df-ed1a862d-5839-4a22-9577-174676ff2205 button.colab-df-quickchart');\n",
              "  quickchartButtonEl.style.display =\n",
              "    google.colab.kernel.accessAllowed ? 'block' : 'none';\n",
              "}\n",
              "\n",
              "        displayQuickchartButton(document);\n",
              "      </script>\n",
              "      <style>\n",
              "    .colab-df-container {\n",
              "      display:flex;\n",
              "      flex-wrap:wrap;\n",
              "      gap: 12px;\n",
              "    }\n",
              "\n",
              "    .colab-df-convert {\n",
              "      background-color: #E8F0FE;\n",
              "      border: none;\n",
              "      border-radius: 50%;\n",
              "      cursor: pointer;\n",
              "      display: none;\n",
              "      fill: #1967D2;\n",
              "      height: 32px;\n",
              "      padding: 0 0 0 0;\n",
              "      width: 32px;\n",
              "    }\n",
              "\n",
              "    .colab-df-convert:hover {\n",
              "      background-color: #E2EBFA;\n",
              "      box-shadow: 0px 1px 2px rgba(60, 64, 67, 0.3), 0px 1px 3px 1px rgba(60, 64, 67, 0.15);\n",
              "      fill: #174EA6;\n",
              "    }\n",
              "\n",
              "    [theme=dark] .colab-df-convert {\n",
              "      background-color: #3B4455;\n",
              "      fill: #D2E3FC;\n",
              "    }\n",
              "\n",
              "    [theme=dark] .colab-df-convert:hover {\n",
              "      background-color: #434B5C;\n",
              "      box-shadow: 0px 1px 3px 1px rgba(0, 0, 0, 0.15);\n",
              "      filter: drop-shadow(0px 1px 2px rgba(0, 0, 0, 0.3));\n",
              "      fill: #FFFFFF;\n",
              "    }\n",
              "  </style>\n",
              "\n",
              "      <script>\n",
              "        const buttonEl =\n",
              "          document.querySelector('#df-6f2de3da-3607-4a02-82c0-185937ec3ea5 button.colab-df-convert');\n",
              "        buttonEl.style.display =\n",
              "          google.colab.kernel.accessAllowed ? 'block' : 'none';\n",
              "\n",
              "        async function convertToInteractive(key) {\n",
              "          const element = document.querySelector('#df-6f2de3da-3607-4a02-82c0-185937ec3ea5');\n",
              "          const dataTable =\n",
              "            await google.colab.kernel.invokeFunction('convertToInteractive',\n",
              "                                                     [key], {});\n",
              "          if (!dataTable) return;\n",
              "\n",
              "          const docLinkHtml = 'Like what you see? Visit the ' +\n",
              "            '<a target=\"_blank\" href=https://colab.research.google.com/notebooks/data_table.ipynb>data table notebook</a>'\n",
              "            + ' to learn more about interactive tables.';\n",
              "          element.innerHTML = '';\n",
              "          dataTable['output_type'] = 'display_data';\n",
              "          await google.colab.output.renderOutput(dataTable, element);\n",
              "          const docLink = document.createElement('div');\n",
              "          docLink.innerHTML = docLinkHtml;\n",
              "          element.appendChild(docLink);\n",
              "        }\n",
              "      </script>\n",
              "    </div>\n",
              "  </div>\n"
            ]
          },
          "metadata": {},
          "execution_count": 64
        }
      ]
    },
    {
      "cell_type": "markdown",
      "source": [
        "![image.png](data:image/png;base64,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)"
      ],
      "metadata": {
        "id": "PKodG7oJFl_u"
      }
    },
    {
      "cell_type": "code",
      "source": [
        "from pykrx import stock\n",
        "\n",
        "tickers = stock.get_market_ticker_list(\"20210115\")\n",
        "len(tickers)\n",
        "tickers\n",
        "\n",
        "stock1 = stock.get_market_ticker_name(\"060310\")\n",
        "stock1\n"
      ],
      "metadata": {
        "colab": {
          "base_uri": "https://localhost:8080/",
          "height": 35
        },
        "id": "p5WDsldxFe1K",
        "outputId": "29f99d71-2a98-42b9-d171-c26af44b40db"
      },
      "execution_count": 65,
      "outputs": [
        {
          "output_type": "execute_result",
          "data": {
            "text/plain": [
              "'3S'"
            ],
            "application/vnd.google.colaboratory.intrinsic+json": {
              "type": "string"
            }
          },
          "metadata": {},
          "execution_count": 65
        }
      ]
    },
    {
      "cell_type": "code",
      "source": [
        "df = stock.get_market_ohlcv_by_date(\"20210104\", \"20210108\", \"005930\")\n",
        "df.head(5)\n",
        "\n",
        "#월별: m, 일별: d, 연도별: y\n",
        "df = stock.get_market_ohlcv_by_date(\"20210104\", \"20210108\", \"005930\", \"d\")\n",
        "df\n",
        "\n",
        "df = stock.get_market_ohlcv_by_date(\"20201104\", \"20210108\", \"005930\", \"m\")\n",
        "df\n",
        "\n"
      ],
      "metadata": {
        "colab": {
          "base_uri": "https://localhost:8080/",
          "height": 174
        },
        "id": "jHZo2RFnFtVr",
        "outputId": "4288c6b1-b325-48ec-9c65-89caafcc4a5f"
      },
      "execution_count": 66,
      "outputs": [
        {
          "output_type": "execute_result",
          "data": {
            "text/plain": [
              "               시가     고가     저가     종가        거래량\n",
              "날짜                                               \n",
              "2020-11-30  58900  69500  57800  66700  460991347\n",
              "2020-12-31  67100  81300  67100  81000  529998852\n",
              "2021-01-31  81000  90000  80200  88800  207737907"
            ],
            "text/html": [
              "\n",
              "\n",
              "  <div id=\"df-d9b89932-84dc-46dc-a42c-7ec354d36743\">\n",
              "    <div class=\"colab-df-container\">\n",
              "      <div>\n",
              "<style scoped>\n",
              "    .dataframe tbody tr th:only-of-type {\n",
              "        vertical-align: middle;\n",
              "    }\n",
              "\n",
              "    .dataframe tbody tr th {\n",
              "        vertical-align: top;\n",
              "    }\n",
              "\n",
              "    .dataframe thead th {\n",
              "        text-align: right;\n",
              "    }\n",
              "</style>\n",
              "<table border=\"1\" class=\"dataframe\">\n",
              "  <thead>\n",
              "    <tr style=\"text-align: right;\">\n",
              "      <th></th>\n",
              "      <th>시가</th>\n",
              "      <th>고가</th>\n",
              "      <th>저가</th>\n",
              "      <th>종가</th>\n",
              "      <th>거래량</th>\n",
              "    </tr>\n",
              "    <tr>\n",
              "      <th>날짜</th>\n",
              "      <th></th>\n",
              "      <th></th>\n",
              "      <th></th>\n",
              "      <th></th>\n",
              "      <th></th>\n",
              "    </tr>\n",
              "  </thead>\n",
              "  <tbody>\n",
              "    <tr>\n",
              "      <th>2020-11-30</th>\n",
              "      <td>58900</td>\n",
              "      <td>69500</td>\n",
              "      <td>57800</td>\n",
              "      <td>66700</td>\n",
              "      <td>460991347</td>\n",
              "    </tr>\n",
              "    <tr>\n",
              "      <th>2020-12-31</th>\n",
              "      <td>67100</td>\n",
              "      <td>81300</td>\n",
              "      <td>67100</td>\n",
              "      <td>81000</td>\n",
              "      <td>529998852</td>\n",
              "    </tr>\n",
              "    <tr>\n",
              "      <th>2021-01-31</th>\n",
              "      <td>81000</td>\n",
              "      <td>90000</td>\n",
              "      <td>80200</td>\n",
              "      <td>88800</td>\n",
              "      <td>207737907</td>\n",
              "    </tr>\n",
              "  </tbody>\n",
              "</table>\n",
              "</div>\n",
              "      <button class=\"colab-df-convert\" onclick=\"convertToInteractive('df-d9b89932-84dc-46dc-a42c-7ec354d36743')\"\n",
              "              title=\"Convert this dataframe to an interactive table.\"\n",
              "              style=\"display:none;\">\n",
              "\n",
              "  <svg xmlns=\"http://www.w3.org/2000/svg\" height=\"24px\"viewBox=\"0 0 24 24\"\n",
              "       width=\"24px\">\n",
              "    <path d=\"M0 0h24v24H0V0z\" fill=\"none\"/>\n",
              "    <path d=\"M18.56 5.44l.94 2.06.94-2.06 2.06-.94-2.06-.94-.94-2.06-.94 2.06-2.06.94zm-11 1L8.5 8.5l.94-2.06 2.06-.94-2.06-.94L8.5 2.5l-.94 2.06-2.06.94zm10 10l.94 2.06.94-2.06 2.06-.94-2.06-.94-.94-2.06-.94 2.06-2.06.94z\"/><path d=\"M17.41 7.96l-1.37-1.37c-.4-.4-.92-.59-1.43-.59-.52 0-1.04.2-1.43.59L10.3 9.45l-7.72 7.72c-.78.78-.78 2.05 0 2.83L4 21.41c.39.39.9.59 1.41.59.51 0 1.02-.2 1.41-.59l7.78-7.78 2.81-2.81c.8-.78.8-2.07 0-2.86zM5.41 20L4 18.59l7.72-7.72 1.47 1.35L5.41 20z\"/>\n",
              "  </svg>\n",
              "      </button>\n",
              "\n",
              "\n",
              "\n",
              "    <div id=\"df-af30e486-8d30-4505-9c25-fe98559d1774\">\n",
              "      <button class=\"colab-df-quickchart\" onclick=\"quickchart('df-af30e486-8d30-4505-9c25-fe98559d1774')\"\n",
              "              title=\"Suggest charts.\"\n",
              "              style=\"display:none;\">\n",
              "\n",
              "<svg xmlns=\"http://www.w3.org/2000/svg\" height=\"24px\"viewBox=\"0 0 24 24\"\n",
              "     width=\"24px\">\n",
              "    <g>\n",
              "        <path d=\"M19 3H5c-1.1 0-2 .9-2 2v14c0 1.1.9 2 2 2h14c1.1 0 2-.9 2-2V5c0-1.1-.9-2-2-2zM9 17H7v-7h2v7zm4 0h-2V7h2v10zm4 0h-2v-4h2v4z\"/>\n",
              "    </g>\n",
              "</svg>\n",
              "      </button>\n",
              "    </div>\n",
              "\n",
              "<style>\n",
              "  .colab-df-quickchart {\n",
              "    background-color: #E8F0FE;\n",
              "    border: none;\n",
              "    border-radius: 50%;\n",
              "    cursor: pointer;\n",
              "    display: none;\n",
              "    fill: #1967D2;\n",
              "    height: 32px;\n",
              "    padding: 0 0 0 0;\n",
              "    width: 32px;\n",
              "  }\n",
              "\n",
              "  .colab-df-quickchart:hover {\n",
              "    background-color: #E2EBFA;\n",
              "    box-shadow: 0px 1px 2px rgba(60, 64, 67, 0.3), 0px 1px 3px 1px rgba(60, 64, 67, 0.15);\n",
              "    fill: #174EA6;\n",
              "  }\n",
              "\n",
              "  [theme=dark] .colab-df-quickchart {\n",
              "    background-color: #3B4455;\n",
              "    fill: #D2E3FC;\n",
              "  }\n",
              "\n",
              "  [theme=dark] .colab-df-quickchart:hover {\n",
              "    background-color: #434B5C;\n",
              "    box-shadow: 0px 1px 3px 1px rgba(0, 0, 0, 0.15);\n",
              "    filter: drop-shadow(0px 1px 2px rgba(0, 0, 0, 0.3));\n",
              "    fill: #FFFFFF;\n",
              "  }\n",
              "</style>\n",
              "\n",
              "    <script>\n",
              "      async function quickchart(key) {\n",
              "        const containerElement = document.querySelector('#' + key);\n",
              "        const charts = await google.colab.kernel.invokeFunction(\n",
              "            'suggestCharts', [key], {});\n",
              "      }\n",
              "    </script>\n",
              "\n",
              "      <script>\n",
              "\n",
              "function displayQuickchartButton(domScope) {\n",
              "  let quickchartButtonEl =\n",
              "    domScope.querySelector('#df-af30e486-8d30-4505-9c25-fe98559d1774 button.colab-df-quickchart');\n",
              "  quickchartButtonEl.style.display =\n",
              "    google.colab.kernel.accessAllowed ? 'block' : 'none';\n",
              "}\n",
              "\n",
              "        displayQuickchartButton(document);\n",
              "      </script>\n",
              "      <style>\n",
              "    .colab-df-container {\n",
              "      display:flex;\n",
              "      flex-wrap:wrap;\n",
              "      gap: 12px;\n",
              "    }\n",
              "\n",
              "    .colab-df-convert {\n",
              "      background-color: #E8F0FE;\n",
              "      border: none;\n",
              "      border-radius: 50%;\n",
              "      cursor: pointer;\n",
              "      display: none;\n",
              "      fill: #1967D2;\n",
              "      height: 32px;\n",
              "      padding: 0 0 0 0;\n",
              "      width: 32px;\n",
              "    }\n",
              "\n",
              "    .colab-df-convert:hover {\n",
              "      background-color: #E2EBFA;\n",
              "      box-shadow: 0px 1px 2px rgba(60, 64, 67, 0.3), 0px 1px 3px 1px rgba(60, 64, 67, 0.15);\n",
              "      fill: #174EA6;\n",
              "    }\n",
              "\n",
              "    [theme=dark] .colab-df-convert {\n",
              "      background-color: #3B4455;\n",
              "      fill: #D2E3FC;\n",
              "    }\n",
              "\n",
              "    [theme=dark] .colab-df-convert:hover {\n",
              "      background-color: #434B5C;\n",
              "      box-shadow: 0px 1px 3px 1px rgba(0, 0, 0, 0.15);\n",
              "      filter: drop-shadow(0px 1px 2px rgba(0, 0, 0, 0.3));\n",
              "      fill: #FFFFFF;\n",
              "    }\n",
              "  </style>\n",
              "\n",
              "      <script>\n",
              "        const buttonEl =\n",
              "          document.querySelector('#df-d9b89932-84dc-46dc-a42c-7ec354d36743 button.colab-df-convert');\n",
              "        buttonEl.style.display =\n",
              "          google.colab.kernel.accessAllowed ? 'block' : 'none';\n",
              "\n",
              "        async function convertToInteractive(key) {\n",
              "          const element = document.querySelector('#df-d9b89932-84dc-46dc-a42c-7ec354d36743');\n",
              "          const dataTable =\n",
              "            await google.colab.kernel.invokeFunction('convertToInteractive',\n",
              "                                                     [key], {});\n",
              "          if (!dataTable) return;\n",
              "\n",
              "          const docLinkHtml = 'Like what you see? Visit the ' +\n",
              "            '<a target=\"_blank\" href=https://colab.research.google.com/notebooks/data_table.ipynb>data table notebook</a>'\n",
              "            + ' to learn more about interactive tables.';\n",
              "          element.innerHTML = '';\n",
              "          dataTable['output_type'] = 'display_data';\n",
              "          await google.colab.output.renderOutput(dataTable, element);\n",
              "          const docLink = document.createElement('div');\n",
              "          docLink.innerHTML = docLinkHtml;\n",
              "          element.appendChild(docLink);\n",
              "        }\n",
              "      </script>\n",
              "    </div>\n",
              "  </div>\n"
            ]
          },
          "metadata": {},
          "execution_count": 66
        }
      ]
    },
    {
      "cell_type": "code",
      "source": [
        "df = stock.get_market_price_change_by_ticker(\"20210104\", \"20210115\")\n",
        "print(df.head(5))\n",
        "\n",
        "df = stock.get_market_ohlcv_by_date(\"20210104\", \"20210115\", \"000020\")\n",
        "df\n",
        "\n",
        "#KOSPI, KOSDAQ, KONEX 지원\n",
        "df = stock.get_market_trading_volume_by_date(\"20210104\", \"20210115\", \"KOSPI\")\n",
        "print(df.head(5))\n",
        "\n",
        "df = stock.get_market_trading_volume_by_date(\"20200101\", \"20210115\", 'KOSPI', freq='m')\n",
        "df\n",
        "\n",
        "df = stock.get_market_trading_value_by_date(\"20210104\", \"20210115\", \"KOSPI\")\n",
        "df\n"
      ],
      "metadata": {
        "colab": {
          "base_uri": "https://localhost:8080/",
          "height": 647
        },
        "id": "pVIod1n0FwGQ",
        "outputId": "500d39b8-6bb0-415d-ab94-4a3c89a3d574"
      },
      "execution_count": 67,
      "outputs": [
        {
          "output_type": "stream",
          "name": "stdout",
          "text": [
            "            종목명      시가      종가   변동폭   등락률       거래량          거래대금\n",
            "티커                                                                 \n",
            "095570   AJ네트웍스    4615    4510  -105 -2.28   3982449   18726203680\n",
            "006840    AK홀딩스   25150   26300  1150  4.57   1590631   41092351750\n",
            "027410      BGF    4895    4830   -65 -1.33   4729036   23091599895\n",
            "282330   BGF리테일  135500  145000  9500  7.01    809850  114155484750\n",
            "138930  BNK금융지주    5680    5880   200  3.52  36350605  209410643490\n",
            "                기관합계      기타법인        개인     외국인합계  전체\n",
            "날짜                                                    \n",
            "2021-01-04 -18241927  -2321155  13307925   7255157   0\n",
            "2021-01-05   -282797 -20356879  21335001   -695325   0\n",
            "2021-01-06 -28606702   1763197  19464237   7379268   0\n",
            "2021-01-07  16803440  -4926713 -23957887  12081160   0\n",
            "2021-01-08 -24886527   1334709   6228334  17323484   0\n"
          ]
        },
        {
          "output_type": "execute_result",
          "data": {
            "text/plain": [
              "                     기관합계         기타법인             개인          외국인합계  전체\n",
              "날짜                                                                      \n",
              "2021-01-04 -1189876714363  69165156608  1031014166618    89697391137   0\n",
              "2021-01-05  -536265643081  16098509714   728387733108  -208220599741   0\n",
              "2021-01-06 -1369155503764  37370130195  1729261196142  -397475822573   0\n",
              "2021-01-07  1033917002121  36342229807 -1183634539101   113375307173   0\n",
              "2021-01-08 -1147931424901  63596153201  -559141825960  1643477097660   0\n",
              "2021-01-11 -3743203896260 -31327947241  4492145003867  -717613160366   0\n",
              "2021-01-12 -1723898682006  30388878033  2312445113552  -618935309579   0\n",
              "2021-01-13  -372450411172   9868157834   169086090692   193496162646   0\n",
              "2021-01-14 -1428981445508  38743362517   712730906649   677507176342   0\n",
              "2021-01-15 -1414745885546  54444293672  2113924037705  -753622445831   0"
            ],
            "text/html": [
              "\n",
              "\n",
              "  <div id=\"df-f1fa5090-e53b-4813-806a-55ae3c864a57\">\n",
              "    <div class=\"colab-df-container\">\n",
              "      <div>\n",
              "<style scoped>\n",
              "    .dataframe tbody tr th:only-of-type {\n",
              "        vertical-align: middle;\n",
              "    }\n",
              "\n",
              "    .dataframe tbody tr th {\n",
              "        vertical-align: top;\n",
              "    }\n",
              "\n",
              "    .dataframe thead th {\n",
              "        text-align: right;\n",
              "    }\n",
              "</style>\n",
              "<table border=\"1\" class=\"dataframe\">\n",
              "  <thead>\n",
              "    <tr style=\"text-align: right;\">\n",
              "      <th></th>\n",
              "      <th>기관합계</th>\n",
              "      <th>기타법인</th>\n",
              "      <th>개인</th>\n",
              "      <th>외국인합계</th>\n",
              "      <th>전체</th>\n",
              "    </tr>\n",
              "    <tr>\n",
              "      <th>날짜</th>\n",
              "      <th></th>\n",
              "      <th></th>\n",
              "      <th></th>\n",
              "      <th></th>\n",
              "      <th></th>\n",
              "    </tr>\n",
              "  </thead>\n",
              "  <tbody>\n",
              "    <tr>\n",
              "      <th>2021-01-04</th>\n",
              "      <td>-1189876714363</td>\n",
              "      <td>69165156608</td>\n",
              "      <td>1031014166618</td>\n",
              "      <td>89697391137</td>\n",
              "      <td>0</td>\n",
              "    </tr>\n",
              "    <tr>\n",
              "      <th>2021-01-05</th>\n",
              "      <td>-536265643081</td>\n",
              "      <td>16098509714</td>\n",
              "      <td>728387733108</td>\n",
              "      <td>-208220599741</td>\n",
              "      <td>0</td>\n",
              "    </tr>\n",
              "    <tr>\n",
              "      <th>2021-01-06</th>\n",
              "      <td>-1369155503764</td>\n",
              "      <td>37370130195</td>\n",
              "      <td>1729261196142</td>\n",
              "      <td>-397475822573</td>\n",
              "      <td>0</td>\n",
              "    </tr>\n",
              "    <tr>\n",
              "      <th>2021-01-07</th>\n",
              "      <td>1033917002121</td>\n",
              "      <td>36342229807</td>\n",
              "      <td>-1183634539101</td>\n",
              "      <td>113375307173</td>\n",
              "      <td>0</td>\n",
              "    </tr>\n",
              "    <tr>\n",
              "      <th>2021-01-08</th>\n",
              "      <td>-1147931424901</td>\n",
              "      <td>63596153201</td>\n",
              "      <td>-559141825960</td>\n",
              "      <td>1643477097660</td>\n",
              "      <td>0</td>\n",
              "    </tr>\n",
              "    <tr>\n",
              "      <th>2021-01-11</th>\n",
              "      <td>-3743203896260</td>\n",
              "      <td>-31327947241</td>\n",
              "      <td>4492145003867</td>\n",
              "      <td>-717613160366</td>\n",
              "      <td>0</td>\n",
              "    </tr>\n",
              "    <tr>\n",
              "      <th>2021-01-12</th>\n",
              "      <td>-1723898682006</td>\n",
              "      <td>30388878033</td>\n",
              "      <td>2312445113552</td>\n",
              "      <td>-618935309579</td>\n",
              "      <td>0</td>\n",
              "    </tr>\n",
              "    <tr>\n",
              "      <th>2021-01-13</th>\n",
              "      <td>-372450411172</td>\n",
              "      <td>9868157834</td>\n",
              "      <td>169086090692</td>\n",
              "      <td>193496162646</td>\n",
              "      <td>0</td>\n",
              "    </tr>\n",
              "    <tr>\n",
              "      <th>2021-01-14</th>\n",
              "      <td>-1428981445508</td>\n",
              "      <td>38743362517</td>\n",
              "      <td>712730906649</td>\n",
              "      <td>677507176342</td>\n",
              "      <td>0</td>\n",
              "    </tr>\n",
              "    <tr>\n",
              "      <th>2021-01-15</th>\n",
              "      <td>-1414745885546</td>\n",
              "      <td>54444293672</td>\n",
              "      <td>2113924037705</td>\n",
              "      <td>-753622445831</td>\n",
              "      <td>0</td>\n",
              "    </tr>\n",
              "  </tbody>\n",
              "</table>\n",
              "</div>\n",
              "      <button class=\"colab-df-convert\" onclick=\"convertToInteractive('df-f1fa5090-e53b-4813-806a-55ae3c864a57')\"\n",
              "              title=\"Convert this dataframe to an interactive table.\"\n",
              "              style=\"display:none;\">\n",
              "\n",
              "  <svg xmlns=\"http://www.w3.org/2000/svg\" height=\"24px\"viewBox=\"0 0 24 24\"\n",
              "       width=\"24px\">\n",
              "    <path d=\"M0 0h24v24H0V0z\" fill=\"none\"/>\n",
              "    <path d=\"M18.56 5.44l.94 2.06.94-2.06 2.06-.94-2.06-.94-.94-2.06-.94 2.06-2.06.94zm-11 1L8.5 8.5l.94-2.06 2.06-.94-2.06-.94L8.5 2.5l-.94 2.06-2.06.94zm10 10l.94 2.06.94-2.06 2.06-.94-2.06-.94-.94-2.06-.94 2.06-2.06.94z\"/><path d=\"M17.41 7.96l-1.37-1.37c-.4-.4-.92-.59-1.43-.59-.52 0-1.04.2-1.43.59L10.3 9.45l-7.72 7.72c-.78.78-.78 2.05 0 2.83L4 21.41c.39.39.9.59 1.41.59.51 0 1.02-.2 1.41-.59l7.78-7.78 2.81-2.81c.8-.78.8-2.07 0-2.86zM5.41 20L4 18.59l7.72-7.72 1.47 1.35L5.41 20z\"/>\n",
              "  </svg>\n",
              "      </button>\n",
              "\n",
              "\n",
              "\n",
              "    <div id=\"df-d4c26dea-9700-4f16-9d87-dd9923826501\">\n",
              "      <button class=\"colab-df-quickchart\" onclick=\"quickchart('df-d4c26dea-9700-4f16-9d87-dd9923826501')\"\n",
              "              title=\"Suggest charts.\"\n",
              "              style=\"display:none;\">\n",
              "\n",
              "<svg xmlns=\"http://www.w3.org/2000/svg\" height=\"24px\"viewBox=\"0 0 24 24\"\n",
              "     width=\"24px\">\n",
              "    <g>\n",
              "        <path d=\"M19 3H5c-1.1 0-2 .9-2 2v14c0 1.1.9 2 2 2h14c1.1 0 2-.9 2-2V5c0-1.1-.9-2-2-2zM9 17H7v-7h2v7zm4 0h-2V7h2v10zm4 0h-2v-4h2v4z\"/>\n",
              "    </g>\n",
              "</svg>\n",
              "      </button>\n",
              "    </div>\n",
              "\n",
              "<style>\n",
              "  .colab-df-quickchart {\n",
              "    background-color: #E8F0FE;\n",
              "    border: none;\n",
              "    border-radius: 50%;\n",
              "    cursor: pointer;\n",
              "    display: none;\n",
              "    fill: #1967D2;\n",
              "    height: 32px;\n",
              "    padding: 0 0 0 0;\n",
              "    width: 32px;\n",
              "  }\n",
              "\n",
              "  .colab-df-quickchart:hover {\n",
              "    background-color: #E2EBFA;\n",
              "    box-shadow: 0px 1px 2px rgba(60, 64, 67, 0.3), 0px 1px 3px 1px rgba(60, 64, 67, 0.15);\n",
              "    fill: #174EA6;\n",
              "  }\n",
              "\n",
              "  [theme=dark] .colab-df-quickchart {\n",
              "    background-color: #3B4455;\n",
              "    fill: #D2E3FC;\n",
              "  }\n",
              "\n",
              "  [theme=dark] .colab-df-quickchart:hover {\n",
              "    background-color: #434B5C;\n",
              "    box-shadow: 0px 1px 3px 1px rgba(0, 0, 0, 0.15);\n",
              "    filter: drop-shadow(0px 1px 2px rgba(0, 0, 0, 0.3));\n",
              "    fill: #FFFFFF;\n",
              "  }\n",
              "</style>\n",
              "\n",
              "    <script>\n",
              "      async function quickchart(key) {\n",
              "        const containerElement = document.querySelector('#' + key);\n",
              "        const charts = await google.colab.kernel.invokeFunction(\n",
              "            'suggestCharts', [key], {});\n",
              "      }\n",
              "    </script>\n",
              "\n",
              "      <script>\n",
              "\n",
              "function displayQuickchartButton(domScope) {\n",
              "  let quickchartButtonEl =\n",
              "    domScope.querySelector('#df-d4c26dea-9700-4f16-9d87-dd9923826501 button.colab-df-quickchart');\n",
              "  quickchartButtonEl.style.display =\n",
              "    google.colab.kernel.accessAllowed ? 'block' : 'none';\n",
              "}\n",
              "\n",
              "        displayQuickchartButton(document);\n",
              "      </script>\n",
              "      <style>\n",
              "    .colab-df-container {\n",
              "      display:flex;\n",
              "      flex-wrap:wrap;\n",
              "      gap: 12px;\n",
              "    }\n",
              "\n",
              "    .colab-df-convert {\n",
              "      background-color: #E8F0FE;\n",
              "      border: none;\n",
              "      border-radius: 50%;\n",
              "      cursor: pointer;\n",
              "      display: none;\n",
              "      fill: #1967D2;\n",
              "      height: 32px;\n",
              "      padding: 0 0 0 0;\n",
              "      width: 32px;\n",
              "    }\n",
              "\n",
              "    .colab-df-convert:hover {\n",
              "      background-color: #E2EBFA;\n",
              "      box-shadow: 0px 1px 2px rgba(60, 64, 67, 0.3), 0px 1px 3px 1px rgba(60, 64, 67, 0.15);\n",
              "      fill: #174EA6;\n",
              "    }\n",
              "\n",
              "    [theme=dark] .colab-df-convert {\n",
              "      background-color: #3B4455;\n",
              "      fill: #D2E3FC;\n",
              "    }\n",
              "\n",
              "    [theme=dark] .colab-df-convert:hover {\n",
              "      background-color: #434B5C;\n",
              "      box-shadow: 0px 1px 3px 1px rgba(0, 0, 0, 0.15);\n",
              "      filter: drop-shadow(0px 1px 2px rgba(0, 0, 0, 0.3));\n",
              "      fill: #FFFFFF;\n",
              "    }\n",
              "  </style>\n",
              "\n",
              "      <script>\n",
              "        const buttonEl =\n",
              "          document.querySelector('#df-f1fa5090-e53b-4813-806a-55ae3c864a57 button.colab-df-convert');\n",
              "        buttonEl.style.display =\n",
              "          google.colab.kernel.accessAllowed ? 'block' : 'none';\n",
              "\n",
              "        async function convertToInteractive(key) {\n",
              "          const element = document.querySelector('#df-f1fa5090-e53b-4813-806a-55ae3c864a57');\n",
              "          const dataTable =\n",
              "            await google.colab.kernel.invokeFunction('convertToInteractive',\n",
              "                                                     [key], {});\n",
              "          if (!dataTable) return;\n",
              "\n",
              "          const docLinkHtml = 'Like what you see? Visit the ' +\n",
              "            '<a target=\"_blank\" href=https://colab.research.google.com/notebooks/data_table.ipynb>data table notebook</a>'\n",
              "            + ' to learn more about interactive tables.';\n",
              "          element.innerHTML = '';\n",
              "          dataTable['output_type'] = 'display_data';\n",
              "          await google.colab.output.renderOutput(dataTable, element);\n",
              "          const docLink = document.createElement('div');\n",
              "          docLink.innerHTML = docLinkHtml;\n",
              "          element.appendChild(docLink);\n",
              "        }\n",
              "      </script>\n",
              "    </div>\n",
              "  </div>\n"
            ]
          },
          "metadata": {},
          "execution_count": 67
        }
      ]
    },
    {
      "cell_type": "code",
      "source": [
        "df = stock.get_market_fundamental_by_ticker(\"20210115\")\n",
        "print(df.head(2))\n",
        "\n",
        "df = stock.get_market_fundamental_by_date(\"20210104\", \"20210115\", '005930')\n",
        "print(df.head(2))\n",
        "\n",
        "df = stock.get_market_fundamental_by_date(\"20201004\", \"20210115\", \"005930\", \"m\")\n",
        "print(df.head(2))\n"
      ],
      "metadata": {
        "colab": {
          "base_uri": "https://localhost:8080/"
        },
        "id": "O_hOXY3fF1O4",
        "outputId": "24fa2a6a-2b7d-4653-952f-3c2d06cf31e7"
      },
      "execution_count": 68,
      "outputs": [
        {
          "output_type": "stream",
          "name": "stdout",
          "text": [
            "          BPS    PER   PBR   EPS   DIV  DPS\n",
            "티커                                         \n",
            "095570   6802   4.59  0.66   982  6.65  300\n",
            "006840  62448  12.13  0.42  2168  2.85  750\n",
            "              BPS    PER   PBR   EPS   DIV   DPS\n",
            "날짜                                              \n",
            "2021-01-04  37528  26.22  2.21  3166  1.71  1416\n",
            "2021-01-05  37528  26.50  2.24  3166  1.69  1416\n",
            "              BPS    PER   PBR   EPS   DIV   DPS\n",
            "날짜                                              \n",
            "2020-10-31  37528  18.54  1.56  3166  2.41  1416\n",
            "2020-11-30  37528  18.13  1.53  3166  2.47  1416\n"
          ]
        }
      ]
    },
    {
      "cell_type": "markdown",
      "source": [
        "#4. 텍스트 데이터 처리"
      ],
      "metadata": {
        "id": "yVjKkCb4_2eL"
      }
    },
    {
      "cell_type": "markdown",
      "metadata": {
        "id": "S3hmyq0QphHq"
      },
      "source": [
        "### NLP & Text Mining\n",
        "- 자연어처리: Natural Language Processing\n",
        "- Text Mining: 텍스트 데이터를 자연어 처리 기술로 유용한 정보를 추출하여 분석\n",
        "- 텍스트 마이닝 응용 분야: 분류, 감성 분석, 요약, 군집\n",
        "\n",
        "- 텍스트 자료의 정형화\n",
        " - TDM 또는 DTM\n",
        " - Word2Vec, Doc2Vec 등 임베딩 기법\n"
      ]
    },
    {
      "cell_type": "markdown",
      "metadata": {
        "id": "1UvBMD8nvzbs"
      },
      "source": [
        "- 사용 라이브러리\n",
        " - NLTK(National Language Toolkit for python): 기본 필수 라이브러리, 속도 이슈.\n",
        " - Gensim : 토픽 모델링, 임베딩 등의 기능 제공\n",
        " - Word Colud : 시각화\n",
        " - KoNLPy: 한글처리\n",
        "\n",
        "- NLP 단계\n",
        " - Cleansing: 불필요한 문자/문장부호/수치/태그 등 제거\n",
        " - 토큰(token): 문법적으로 최소 언어요소\n",
        " - 토큰화(Text Toeknization): Corpus로 부터 토큰 추출\n",
        " - Stop word 제거 : 분석에 큰 의미가 없는 단어(a, the, is, will등) 정리\n",
        " - Stemming / Lemmatization : 어근(단어 원형) 추출+단어원형 찾기\n",
        " - N-gram: 개별 단어 각각이 토큰이 되는 경우 문맥적 고려 어려움, N-gram은 연속된 n개의 단어를 하나의 토큰처럼 분리. n개 윈도우로 순서대로 토큰화\n"
      ]
    },
    {
      "cell_type": "markdown",
      "metadata": {
        "id": "FlDWit2y1wvK"
      },
      "source": [
        "### 텍스트 전처리 심화 실습: 영어"
      ]
    },
    {
      "cell_type": "code",
      "metadata": {
        "colab": {
          "base_uri": "https://localhost:8080/"
        },
        "id": "5v48yxOepfW-",
        "outputId": "be8d19d8-5880-4376-e79a-c4ec5e8701ff"
      },
      "source": [
        "!pip install nltk"
      ],
      "execution_count": 69,
      "outputs": [
        {
          "output_type": "stream",
          "name": "stdout",
          "text": [
            "Requirement already satisfied: nltk in /usr/local/lib/python3.10/dist-packages (3.8.1)\n",
            "Requirement already satisfied: click in /usr/local/lib/python3.10/dist-packages (from nltk) (8.1.4)\n",
            "Requirement already satisfied: joblib in /usr/local/lib/python3.10/dist-packages (from nltk) (1.3.1)\n",
            "Requirement already satisfied: regex>=2021.8.3 in /usr/local/lib/python3.10/dist-packages (from nltk) (2022.10.31)\n",
            "Requirement already satisfied: tqdm in /usr/local/lib/python3.10/dist-packages (from nltk) (4.65.0)\n"
          ]
        }
      ]
    },
    {
      "cell_type": "markdown",
      "metadata": {
        "id": "kjfJ3M-9Mwc_"
      },
      "source": [
        "-Tokenization"
      ]
    },
    {
      "cell_type": "code",
      "metadata": {
        "colab": {
          "base_uri": "https://localhost:8080/"
        },
        "id": "2L018X-HM6Ik",
        "outputId": "1d9a6d8e-3db5-4bfd-e7d1-87143a876356"
      },
      "source": [
        "import nltk\n",
        "nltk.download('punkt')\n",
        "from nltk.tokenize import word_tokenize\n",
        "print(word_tokenize(\"Don't eat too much, Mr. Jone's food is not delicious.\"))"
      ],
      "execution_count": 70,
      "outputs": [
        {
          "output_type": "stream",
          "name": "stderr",
          "text": [
            "[nltk_data] Downloading package punkt to /root/nltk_data...\n",
            "[nltk_data]   Unzipping tokenizers/punkt.zip.\n"
          ]
        },
        {
          "output_type": "stream",
          "name": "stdout",
          "text": [
            "['Do', \"n't\", 'eat', 'too', 'much', ',', 'Mr.', 'Jone', \"'s\", 'food', 'is', 'not', 'delicious', '.']\n"
          ]
        }
      ]
    },
    {
      "cell_type": "code",
      "metadata": {
        "colab": {
          "base_uri": "https://localhost:8080/"
        },
        "id": "TyC63F9VNXRS",
        "outputId": "d7b7db48-88d0-4a4e-fc32-1e394238a761"
      },
      "source": [
        "from nltk import word_tokenize\n",
        "\n",
        "sentence = \"The dog runs everywhere, here even in this room.\"\n",
        "words = word_tokenize(sentence)\n",
        "print(type(words), len(words))\n",
        "print(words)"
      ],
      "execution_count": 71,
      "outputs": [
        {
          "output_type": "stream",
          "name": "stdout",
          "text": [
            "<class 'list'> 11\n",
            "['The', 'dog', 'runs', 'everywhere', ',', 'here', 'even', 'in', 'this', 'room', '.']\n"
          ]
        }
      ]
    },
    {
      "cell_type": "markdown",
      "metadata": {
        "id": "hYKatZ-VXrPX"
      },
      "source": [
        "-문장부호로도 토큰화: WordPunctTokenizer"
      ]
    },
    {
      "cell_type": "code",
      "metadata": {
        "colab": {
          "base_uri": "https://localhost:8080/"
        },
        "id": "GHXXSbBGXuTm",
        "outputId": "c368a944-0a31-4126-f5dc-3f4508aedd29"
      },
      "source": [
        "from nltk.tokenize import WordPunctTokenizer\n",
        "sentence = \"Don't eat too much, Mr. Jone's food is not delicious.\"\n",
        "words = WordPunctTokenizer().tokenize(sentence)\n",
        "print(words)"
      ],
      "execution_count": 72,
      "outputs": [
        {
          "output_type": "stream",
          "name": "stdout",
          "text": [
            "['Don', \"'\", 't', 'eat', 'too', 'much', ',', 'Mr', '.', 'Jone', \"'\", 's', 'food', 'is', 'not', 'delicious', '.']\n"
          ]
        }
      ]
    },
    {
      "cell_type": "markdown",
      "metadata": {
        "id": "_mZv5a1bXyp2"
      },
      "source": [
        "-nltk 대신 keras의 text_to_word_sequence 활용"
      ]
    },
    {
      "cell_type": "code",
      "metadata": {
        "colab": {
          "base_uri": "https://localhost:8080/"
        },
        "id": "IV8wsdb-Xzz7",
        "outputId": "d460a09b-e4c8-40ea-920e-86ef6ed61a91"
      },
      "source": [
        "from tensorflow.keras.preprocessing.text import text_to_word_sequence\n",
        "sentence = \"Don't eat too much, Mr. Jone's food is not delicious.\"\n",
        "words = text_to_word_sequence(sentence)\n",
        "print(words)"
      ],
      "execution_count": 73,
      "outputs": [
        {
          "output_type": "stream",
          "name": "stdout",
          "text": [
            "[\"don't\", 'eat', 'too', 'much', 'mr', \"jone's\", 'food', 'is', 'not', 'delicious']\n"
          ]
        }
      ]
    },
    {
      "cell_type": "markdown",
      "metadata": {
        "id": "cerrwhX9U6Vn"
      },
      "source": [
        "-표준 토큰화 예제: Penn Treebank Tokenization\n",
        "- 하이픈, 어퍼스트러피 등 구분"
      ]
    },
    {
      "cell_type": "code",
      "metadata": {
        "colab": {
          "base_uri": "https://localhost:8080/"
        },
        "id": "SJLeFcKFVQc0",
        "outputId": "18aa60b3-496c-4e51-a5c8-a7e62d7f0459"
      },
      "source": [
        "from nltk.tokenize import TreebankWordTokenizer\n",
        "tokenizer = TreebankWordTokenizer()\n",
        "text = \"Starting a home-based restaurant may be an ideal. it doesn't have a food chain or restaurant of their own.\"\n",
        "print(tokenizer.tokenize(text))"
      ],
      "execution_count": 74,
      "outputs": [
        {
          "output_type": "stream",
          "name": "stdout",
          "text": [
            "['Starting', 'a', 'home-based', 'restaurant', 'may', 'be', 'an', 'ideal.', 'it', 'does', \"n't\", 'have', 'a', 'food', 'chain', 'or', 'restaurant', 'of', 'their', 'own', '.']\n"
          ]
        }
      ]
    },
    {
      "cell_type": "markdown",
      "metadata": {
        "id": "8wXj6vTUVVil"
      },
      "source": [
        "-문장 토큰화(Sentence Tokenization)\n"
      ]
    },
    {
      "cell_type": "code",
      "metadata": {
        "colab": {
          "base_uri": "https://localhost:8080/"
        },
        "id": "Jrg1fpXtVepL",
        "outputId": "9b655c7b-c239-4dca-e28d-4da5bb76c0e2"
      },
      "source": [
        "from nltk.tokenize import sent_tokenize\n",
        "text = \"His barber kept his word. But keeping such a huge secret to himself was driving him crazy. Finally, the barber went up a mountain and almost to the edge of a cliff. He dug a hole in the midst of some reeds. He looked about, to make sure no one was near.\"\n",
        "print(sent_tokenize(text))"
      ],
      "execution_count": 75,
      "outputs": [
        {
          "output_type": "stream",
          "name": "stdout",
          "text": [
            "['His barber kept his word.', 'But keeping such a huge secret to himself was driving him crazy.', 'Finally, the barber went up a mountain and almost to the edge of a cliff.', 'He dug a hole in the midst of some reeds.', 'He looked about, to make sure no one was near.']\n"
          ]
        }
      ]
    },
    {
      "cell_type": "code",
      "metadata": {
        "colab": {
          "base_uri": "https://localhost:8080/"
        },
        "id": "SVLsShfLVhwI",
        "outputId": "4177bf90-d697-4198-8a3e-a80bcc9661a5"
      },
      "source": [
        "from nltk.tokenize import sent_tokenize\n",
        "text = \"I am actively looking for Ph.D. students. and you are a Ph.D student.\"\n",
        "print(sent_tokenize(text))"
      ],
      "execution_count": 76,
      "outputs": [
        {
          "output_type": "stream",
          "name": "stdout",
          "text": [
            "['I am actively looking for Ph.D. students.', 'and you are a Ph.D student.']\n"
          ]
        }
      ]
    },
    {
      "cell_type": "code",
      "metadata": {
        "colab": {
          "base_uri": "https://localhost:8080/"
        },
        "id": "oCdUr7QH3PhF",
        "outputId": "3f4a8682-0a10-47df-ab29-06f49fd2ddfb"
      },
      "source": [
        "from nltk import sent_tokenize\n",
        "\n",
        "import nltk\n",
        "nltk.download('punkt')\n",
        "\n",
        "text_sample = 'The Matrix is everywhere its all around us, here even in this room. \\\n",
        "               You can see it out your window or on your television. \\\n",
        "               You feel it when you go to work, or go to church or pay your taxes.'\n",
        "sentences = sent_tokenize(text=text_sample)\n",
        "print(type(sentences),len(sentences))\n",
        "print(sentences)"
      ],
      "execution_count": 77,
      "outputs": [
        {
          "output_type": "stream",
          "name": "stdout",
          "text": [
            "<class 'list'> 3\n",
            "['The Matrix is everywhere its all around us, here even in this room.', 'You can see it out your window or on your television.', 'You feel it when you go to work, or go to church or pay your taxes.']\n"
          ]
        },
        {
          "output_type": "stream",
          "name": "stderr",
          "text": [
            "[nltk_data] Downloading package punkt to /root/nltk_data...\n",
            "[nltk_data]   Package punkt is already up-to-date!\n"
          ]
        }
      ]
    },
    {
      "cell_type": "markdown",
      "metadata": {
        "id": "Z16C_I2x7Ky-"
      },
      "source": [
        "-불용어(Stop word) 제거"
      ]
    },
    {
      "cell_type": "code",
      "metadata": {
        "colab": {
          "base_uri": "https://localhost:8080/"
        },
        "id": "ocUsHJo05v1u",
        "outputId": "91a80705-9e70-477c-9e49-64c86d747ffa"
      },
      "source": [
        "import nltk\n",
        "nltk.download('stopwords')\n",
        "\n",
        "print(len(nltk.corpus.stopwords.words('english')))\n",
        "\n",
        "print(nltk.corpus.stopwords.words('english')[:40])"
      ],
      "execution_count": 78,
      "outputs": [
        {
          "output_type": "stream",
          "name": "stdout",
          "text": [
            "179\n",
            "['i', 'me', 'my', 'myself', 'we', 'our', 'ours', 'ourselves', 'you', \"you're\", \"you've\", \"you'll\", \"you'd\", 'your', 'yours', 'yourself', 'yourselves', 'he', 'him', 'his', 'himself', 'she', \"she's\", 'her', 'hers', 'herself', 'it', \"it's\", 'its', 'itself', 'they', 'them', 'their', 'theirs', 'themselves', 'what', 'which', 'who', 'whom', 'this']\n"
          ]
        },
        {
          "output_type": "stream",
          "name": "stderr",
          "text": [
            "[nltk_data] Downloading package stopwords to /root/nltk_data...\n",
            "[nltk_data]   Unzipping corpora/stopwords.zip.\n"
          ]
        }
      ]
    },
    {
      "cell_type": "code",
      "metadata": {
        "colab": {
          "base_uri": "https://localhost:8080/"
        },
        "id": "Ij_CxWZv7PUp",
        "outputId": "ac572cad-98dc-4c3f-afdb-3554b2e664f3"
      },
      "source": [
        "from nltk.corpus import stopwords\n",
        "from nltk.tokenize import word_tokenize\n",
        "\n",
        "example = \"Family is not an important thing. It's everything.\"\n",
        "stop_words = set(stopwords.words('english'))\n",
        "\n",
        "word_tokens = word_tokenize(example)\n",
        "\n",
        "result = []\n",
        "for token in word_tokens:\n",
        "    if token not in stop_words:\n",
        "        result.append(token)\n",
        "\n",
        "print(word_tokens)\n",
        "print(result)"
      ],
      "execution_count": 79,
      "outputs": [
        {
          "output_type": "stream",
          "name": "stdout",
          "text": [
            "['Family', 'is', 'not', 'an', 'important', 'thing', '.', 'It', \"'s\", 'everything', '.']\n",
            "['Family', 'important', 'thing', '.', 'It', \"'s\", 'everything', '.']\n"
          ]
        }
      ]
    },
    {
      "cell_type": "markdown",
      "metadata": {
        "id": "G_-1qKHq7ZZX"
      },
      "source": [
        "-한국어 불용어: https://www.ranks.nl/stopwords/korean\n",
        "별도의 불용어를 유지하는 방법도 있음."
      ]
    },
    {
      "cell_type": "code",
      "metadata": {
        "colab": {
          "base_uri": "https://localhost:8080/"
        },
        "id": "3swy3BIedZuH",
        "outputId": "7aa9a4d7-1d02-4c5f-c727-77b96b881527"
      },
      "source": [
        "from nltk.tokenize import word_tokenize\n",
        "\n",
        "example = \"고기를 아무렇게나 구우려고 하면 안 돼. 고기라고 다 같은 게 아니거든. 예컨대 삼겹살을 구울 때는 중요한 게 있지.\"\n",
        "stop_words = \"아무거나 아무렇게나 어찌하든지 같다 비슷하다 예컨대 이럴정도로 하면 아니거든\"\n",
        "\n",
        "stop_words = set(stop_words.split(' '))\n",
        "word_tokens = word_tokenize(example)\n",
        "\n",
        "result = [word for word in word_tokens if not word in stop_words]\n",
        "\n",
        "print(word_tokens)\n",
        "print(result)"
      ],
      "execution_count": 80,
      "outputs": [
        {
          "output_type": "stream",
          "name": "stdout",
          "text": [
            "['고기를', '아무렇게나', '구우려고', '하면', '안', '돼', '.', '고기라고', '다', '같은', '게', '아니거든', '.', '예컨대', '삼겹살을', '구울', '때는', '중요한', '게', '있지', '.']\n",
            "['고기를', '구우려고', '안', '돼', '.', '고기라고', '다', '같은', '게', '.', '삼겹살을', '구울', '때는', '중요한', '게', '있지', '.']\n"
          ]
        }
      ]
    },
    {
      "cell_type": "markdown",
      "metadata": {
        "id": "njfE_mSOY1H1"
      },
      "source": [
        "-Cleaning and Normalization\n",
        " - Cleaning: noise 제거\n",
        " - Normalization : 소문자 변환 및 표제어 등으로 통합\n",
        " - 길이가 짧은 토큰 제거\n",
        "\n"
      ]
    },
    {
      "cell_type": "code",
      "metadata": {
        "colab": {
          "base_uri": "https://localhost:8080/"
        },
        "id": "H6zk60PUZw6g",
        "outputId": "660221bf-8d58-4e0d-f2f7-39e2d0eeb514"
      },
      "source": [
        "import re\n",
        "text = \"I was wondering if anyone out there could enlighten me on this car.\"\n",
        "\n",
        "# 길이가 1~2인 단어 제거\n",
        "shortword = re.compile(r'\\W*\\b\\w{1,2}\\b')\n",
        "print(shortword.sub('', text))"
      ],
      "execution_count": 81,
      "outputs": [
        {
          "output_type": "stream",
          "name": "stdout",
          "text": [
            " was wondering anyone out there could enlighten this car.\n"
          ]
        }
      ]
    },
    {
      "cell_type": "markdown",
      "metadata": {
        "id": "dPfgtrzwITsF"
      },
      "source": [
        "- Stemming  & Lemmatization\n",
        "- NLTK의 Stemmer: Porter, Lancaster, Snowball Stemmer"
      ]
    },
    {
      "cell_type": "code",
      "metadata": {
        "colab": {
          "base_uri": "https://localhost:8080/"
        },
        "id": "QVLGhdrk7Peo",
        "outputId": "b8b0afc0-c6fa-4573-f057-c49b3e3f55db"
      },
      "source": [
        "from nltk.stem import PorterStemmer\n",
        "stemmer = PorterStemmer()\n",
        "\n",
        "print(stemmer.stem('working'),stemmer.stem('works'),stemmer.stem('worked'))\n",
        "print(stemmer.stem('amusing'),stemmer.stem('amuses'),stemmer.stem('amused'))\n",
        "print(stemmer.stem('happier'),stemmer.stem('happiest'))\n",
        "print(stemmer.stem('fancier'),stemmer.stem('fanciest'))\n",
        "print(stemmer.stem('was'), stemmer.stem('love'))"
      ],
      "execution_count": 82,
      "outputs": [
        {
          "output_type": "stream",
          "name": "stdout",
          "text": [
            "work work work\n",
            "amus amus amus\n",
            "happier happiest\n",
            "fancier fanciest\n",
            "wa love\n"
          ]
        }
      ]
    },
    {
      "cell_type": "markdown",
      "metadata": {
        "id": "kwBMi9TYbxw8"
      },
      "source": [
        "- Lancaster Stemmer"
      ]
    },
    {
      "cell_type": "code",
      "metadata": {
        "colab": {
          "base_uri": "https://localhost:8080/"
        },
        "id": "E-5JB6lUbuMj",
        "outputId": "6a055a90-e642-4c02-ad12-0cabb3d2cec2"
      },
      "source": [
        "from nltk.stem import LancasterStemmer\n",
        "stemmer = LancasterStemmer()\n",
        "\n",
        "print(stemmer.stem('working'),stemmer.stem('works'),stemmer.stem('worked'))\n",
        "print(stemmer.stem('amusing'),stemmer.stem('amuses'),stemmer.stem('amused'))\n",
        "print(stemmer.stem('happier'),stemmer.stem('happiest'))\n",
        "print(stemmer.stem('fancier'),stemmer.stem('fanciest'))\n",
        "print(stemmer.stem('was'), stemmer.stem('love'))"
      ],
      "execution_count": 83,
      "outputs": [
        {
          "output_type": "stream",
          "name": "stdout",
          "text": [
            "work work work\n",
            "amus amus amus\n",
            "happy happiest\n",
            "fant fanciest\n",
            "was lov\n"
          ]
        }
      ]
    },
    {
      "cell_type": "code",
      "metadata": {
        "colab": {
          "base_uri": "https://localhost:8080/"
        },
        "id": "sqYkgntIbGw9",
        "outputId": "5e59ee2c-5403-4bda-9d05-29f6ba23d372"
      },
      "source": [
        "from nltk.stem import PorterStemmer\n",
        "from nltk.tokenize import word_tokenize\n",
        "stemmer = PorterStemmer()\n",
        "text = \"This was not the map we found in Billy Bones's chest, but an accurate copy, complete in all things--names and heights and soundings--with the single exception of the red crosses and the written notes.\"\n",
        "words = word_tokenize(text)\n",
        "print(words)"
      ],
      "execution_count": 84,
      "outputs": [
        {
          "output_type": "stream",
          "name": "stdout",
          "text": [
            "['This', 'was', 'not', 'the', 'map', 'we', 'found', 'in', 'Billy', 'Bones', \"'s\", 'chest', ',', 'but', 'an', 'accurate', 'copy', ',', 'complete', 'in', 'all', 'things', '--', 'names', 'and', 'heights', 'and', 'soundings', '--', 'with', 'the', 'single', 'exception', 'of', 'the', 'red', 'crosses', 'and', 'the', 'written', 'notes', '.']\n"
          ]
        }
      ]
    },
    {
      "cell_type": "code",
      "metadata": {
        "colab": {
          "base_uri": "https://localhost:8080/"
        },
        "id": "TUp1QATdbMVE",
        "outputId": "b0f10ce9-73ef-4c45-940c-5a984f16e1b8"
      },
      "source": [
        "print([stemmer.stem(w) for w in words])"
      ],
      "execution_count": 85,
      "outputs": [
        {
          "output_type": "stream",
          "name": "stdout",
          "text": [
            "['thi', 'wa', 'not', 'the', 'map', 'we', 'found', 'in', 'billi', 'bone', \"'s\", 'chest', ',', 'but', 'an', 'accur', 'copi', ',', 'complet', 'in', 'all', 'thing', '--', 'name', 'and', 'height', 'and', 'sound', '--', 'with', 'the', 'singl', 'except', 'of', 'the', 'red', 'cross', 'and', 'the', 'written', 'note', '.']\n"
          ]
        }
      ]
    },
    {
      "cell_type": "code",
      "metadata": {
        "colab": {
          "base_uri": "https://localhost:8080/"
        },
        "id": "KXnEZ_1KcPWZ",
        "outputId": "ae60ca8f-1fd3-44d2-adb0-f212f0cdf8a3"
      },
      "source": [
        "words = ['formalize', 'allowance', 'electricical']\n",
        "print([stemmer.stem(w) for w in words])"
      ],
      "execution_count": 86,
      "outputs": [
        {
          "output_type": "stream",
          "name": "stdout",
          "text": [
            "['formal', 'allow', 'electric']\n"
          ]
        }
      ]
    },
    {
      "cell_type": "markdown",
      "metadata": {
        "id": "h_s0B4zTcT7V"
      },
      "source": [
        "-표제어 추출(Lemmatization): '기본 사전형 단어', Stemming 이후 적용"
      ]
    },
    {
      "cell_type": "code",
      "metadata": {
        "colab": {
          "base_uri": "https://localhost:8080/"
        },
        "id": "ZMCVdNyb7P7b",
        "outputId": "97b3eb2a-7d3f-4758-828e-65888344b23d"
      },
      "source": [
        "from nltk.stem import WordNetLemmatizer\n",
        "\n",
        "import nltk\n",
        "nltk.download('wordnet')\n",
        "\n",
        "lemma = WordNetLemmatizer()\n",
        "print(lemma.lemmatize('amusing'),lemma.lemmatize('amuses'),lemma.lemmatize('amused'))\n",
        "print(lemma.lemmatize('happier'),lemma.lemmatize('happiest'))\n",
        "print(lemma.lemmatize('fancier'),lemma.lemmatize('fanciest'))\n",
        "print(lemma.lemmatize('was'), lemma.lemmatize('love'))"
      ],
      "execution_count": 87,
      "outputs": [
        {
          "output_type": "stream",
          "name": "stderr",
          "text": [
            "[nltk_data] Downloading package wordnet to /root/nltk_data...\n"
          ]
        },
        {
          "output_type": "stream",
          "name": "stdout",
          "text": [
            "amusing amuses amused\n",
            "happier happiest\n",
            "fancier fanciest\n",
            "wa love\n"
          ]
        }
      ]
    },
    {
      "cell_type": "markdown",
      "metadata": {
        "id": "D-FbBqJwIykr"
      },
      "source": [
        "-품사 정보 활용"
      ]
    },
    {
      "cell_type": "code",
      "metadata": {
        "colab": {
          "base_uri": "https://localhost:8080/"
        },
        "id": "D-7MzmksIwB0",
        "outputId": "0061012e-31c3-4112-9408-fbde6e6abf1e"
      },
      "source": [
        "print(lemma.lemmatize('amusing','v'),lemma.lemmatize('amuses','v'),lemma.lemmatize('amused','v'))\n",
        "print(lemma.lemmatize('happier','a'),lemma.lemmatize('happiest','a'))\n",
        "print(lemma.lemmatize('fancier','a'),lemma.lemmatize('fanciest','a'))\n",
        "print(lemma.lemmatize('was', 'v'), lemma.lemmatize('love', 'v'))"
      ],
      "execution_count": 88,
      "outputs": [
        {
          "output_type": "stream",
          "name": "stdout",
          "text": [
            "amuse amuse amuse\n",
            "happy happy\n",
            "fancy fancy\n",
            "be love\n"
          ]
        }
      ]
    },
    {
      "cell_type": "markdown",
      "metadata": {
        "id": "mPEOm9CVcfkd"
      },
      "source": [
        "-다른 예제"
      ]
    },
    {
      "cell_type": "code",
      "metadata": {
        "colab": {
          "base_uri": "https://localhost:8080/"
        },
        "id": "rq4PS3Gdchxb",
        "outputId": "b79e2202-770e-4d15-b39c-632794b5c9ab"
      },
      "source": [
        "from nltk.stem import WordNetLemmatizer\n",
        "import nltk\n",
        "nltk.download('wordnet')\n",
        "lemmatizer = WordNetLemmatizer()\n",
        "words = ['policy', 'doing', 'organization', 'have', 'going', 'love', 'lives', 'fly', 'dies', 'watched', 'has', 'starting']\n",
        "print([lemmatizer.lemmatize(w) for w in words])"
      ],
      "execution_count": 89,
      "outputs": [
        {
          "output_type": "stream",
          "name": "stdout",
          "text": [
            "['policy', 'doing', 'organization', 'have', 'going', 'love', 'life', 'fly', 'dy', 'watched', 'ha', 'starting']\n"
          ]
        },
        {
          "output_type": "stream",
          "name": "stderr",
          "text": [
            "[nltk_data] Downloading package wordnet to /root/nltk_data...\n",
            "[nltk_data]   Package wordnet is already up-to-date!\n"
          ]
        }
      ]
    },
    {
      "cell_type": "markdown",
      "metadata": {
        "id": "2jcil7RAftO-"
      },
      "source": [
        "### 정규 표현식(Regular Expression)"
      ]
    },
    {
      "cell_type": "markdown",
      "metadata": {
        "id": "b3q068w6mjnX"
      },
      "source": [
        "참고\n",
        "\n",
        "\n",
        "<figure>\n",
        "<img src = 'https://miro.medium.com/max/700/1*Y-q0dkUClSW0dX6uuysnJQ.png'>\n",
        "<figure>\n",
        "\n",
        "<figure>\n",
        "<img src = 'https://miro.medium.com/max/700/1*c__WeRlFyGY_-7LeKQkNnQ.png'>\n",
        "<figure>\n",
        "\n"
      ]
    },
    {
      "cell_type": "markdown",
      "metadata": {
        "id": "DJdmfWnvnXkU"
      },
      "source": [
        "<figure>\n",
        "<img src = 'https://miro.medium.com/max/661/1*6pIp6zuIoRHUOXjEDDUNCA.png'>\n",
        "<figure>"
      ]
    },
    {
      "cell_type": "code",
      "metadata": {
        "colab": {
          "base_uri": "https://localhost:8080/"
        },
        "id": "yWAKfa_XlwVs",
        "outputId": "381e5ce3-84c0-49f1-f4ad-747736626930"
      },
      "source": [
        "import re\n",
        "r = re.compile(\"a.c\")\n",
        "r.search(\"kkk\")\n",
        "# 아무런 결과도 출력되지 않는다.\n",
        "r.search(\"abc\")"
      ],
      "execution_count": 90,
      "outputs": [
        {
          "output_type": "execute_result",
          "data": {
            "text/plain": [
              "<re.Match object; span=(0, 3), match='abc'>"
            ]
          },
          "metadata": {},
          "execution_count": 90
        }
      ]
    },
    {
      "cell_type": "code",
      "metadata": {
        "colab": {
          "base_uri": "https://localhost:8080/"
        },
        "id": "ucM6z0vbnvGQ",
        "outputId": "6439c888-68b6-4751-8ca8-89e2ba7920ed"
      },
      "source": [
        "r = re.compile(\"ab?c\")\n",
        "r.search(\"abbc\")\n",
        "# 아무것도 출력되지 않음\n",
        "r.search(\"abc\")\n",
        "# b가 있는 것으로 판단하여 abc를 매치함."
      ],
      "execution_count": 91,
      "outputs": [
        {
          "output_type": "execute_result",
          "data": {
            "text/plain": [
              "<re.Match object; span=(0, 3), match='abc'>"
            ]
          },
          "metadata": {},
          "execution_count": 91
        }
      ]
    },
    {
      "cell_type": "code",
      "metadata": {
        "colab": {
          "base_uri": "https://localhost:8080/"
        },
        "id": "mEBFlSaJn0aQ",
        "outputId": "0765ff34-209b-4c0a-a9de-64fc9c3b83ab"
      },
      "source": [
        "r.search(\"ac\")\n",
        "# b가 없는 것으로 판단하여 ac를 매치함."
      ],
      "execution_count": 92,
      "outputs": [
        {
          "output_type": "execute_result",
          "data": {
            "text/plain": [
              "<re.Match object; span=(0, 2), match='ac'>"
            ]
          },
          "metadata": {},
          "execution_count": 92
        }
      ]
    },
    {
      "cell_type": "markdown",
      "metadata": {
        "id": "LFr7rlCUn6BM"
      },
      "source": [
        "- 0개 이상 문자 매치\n"
      ]
    },
    {
      "cell_type": "code",
      "metadata": {
        "id": "7CiNe8Fpn5L4"
      },
      "source": [
        "r = re.compile(\"ab*c\")\n",
        "r.search(\"a\")\n",
        "# 아무것도 출력되지 않음."
      ],
      "execution_count": 93,
      "outputs": []
    },
    {
      "cell_type": "code",
      "metadata": {
        "colab": {
          "base_uri": "https://localhost:8080/"
        },
        "id": "q13_T3don5OR",
        "outputId": "94894aab-79f9-46c1-adbe-c59eaa59b410"
      },
      "source": [
        "r.search(\"ac\")"
      ],
      "execution_count": 94,
      "outputs": [
        {
          "output_type": "execute_result",
          "data": {
            "text/plain": [
              "<re.Match object; span=(0, 2), match='ac'>"
            ]
          },
          "metadata": {},
          "execution_count": 94
        }
      ]
    },
    {
      "cell_type": "code",
      "metadata": {
        "colab": {
          "base_uri": "https://localhost:8080/"
        },
        "id": "PZB6GP8zn5SU",
        "outputId": "41385c35-8429-41af-b67d-0c2ac2f2d3dc"
      },
      "source": [
        "r.search(\"abc\")"
      ],
      "execution_count": 95,
      "outputs": [
        {
          "output_type": "execute_result",
          "data": {
            "text/plain": [
              "<re.Match object; span=(0, 3), match='abc'>"
            ]
          },
          "metadata": {},
          "execution_count": 95
        }
      ]
    },
    {
      "cell_type": "code",
      "metadata": {
        "colab": {
          "base_uri": "https://localhost:8080/"
        },
        "id": "BVGmeToLn5Vb",
        "outputId": "1aa5cb57-43f0-40ac-de4c-e71d1983a417"
      },
      "source": [
        "r.search(\"abbc\")"
      ],
      "execution_count": 96,
      "outputs": [
        {
          "output_type": "execute_result",
          "data": {
            "text/plain": [
              "<re.Match object; span=(0, 4), match='abbc'>"
            ]
          },
          "metadata": {},
          "execution_count": 96
        }
      ]
    },
    {
      "cell_type": "markdown",
      "metadata": {
        "id": "ZSkU7IyWoA1h"
      },
      "source": [
        "- '+' : 최소 1번 이상 출현\n"
      ]
    },
    {
      "cell_type": "code",
      "metadata": {
        "colab": {
          "base_uri": "https://localhost:8080/"
        },
        "id": "ErjEqSScn5ZN",
        "outputId": "fbac906f-8a2e-4421-a3fe-09e2de55c089"
      },
      "source": [
        "r = re.compile('ab+c')\n",
        "r.search(\"ac\")\n",
        "# 아무것도 출력되지 않는다.\n",
        "\n",
        "r.search(\"abc\")"
      ],
      "execution_count": 97,
      "outputs": [
        {
          "output_type": "execute_result",
          "data": {
            "text/plain": [
              "<re.Match object; span=(0, 3), match='abc'>"
            ]
          },
          "metadata": {},
          "execution_count": 97
        }
      ]
    },
    {
      "cell_type": "markdown",
      "metadata": {
        "id": "UecA1Y3OoGlE"
      },
      "source": [
        "- ' ^': 시작 문자 지정"
      ]
    },
    {
      "cell_type": "code",
      "metadata": {
        "colab": {
          "base_uri": "https://localhost:8080/"
        },
        "id": "e5WNrSLUn5cB",
        "outputId": "279a39d5-3fca-4094-a7f5-3e4cbfa0d8ce"
      },
      "source": [
        "r = re.compile('^a')\n",
        "r.search('bbc')\n",
        "# 아무것도 출력되지 않음\n",
        "r.search('ab')"
      ],
      "execution_count": 98,
      "outputs": [
        {
          "output_type": "execute_result",
          "data": {
            "text/plain": [
              "<re.Match object; span=(0, 1), match='a'>"
            ]
          },
          "metadata": {},
          "execution_count": 98
        }
      ]
    },
    {
      "cell_type": "markdown",
      "metadata": {
        "id": "GqVYqmPdoKs9"
      },
      "source": [
        "{숫자}: 출현 빈도 지정\n",
        "{숫자1, 숫자2}\n",
        "{숫자,}\n",
        "\n",
        "문자에 해당 기호를 붙이면, 해당 문자를 숫자만큼 반복한 것을 나타낸다. 예를 들어 정규 표현식이 ab{2}c라면 a와 c사이에 b가 존재하면서 b가 2개인 문자열에 대해서 매치한다."
      ]
    },
    {
      "cell_type": "code",
      "metadata": {
        "colab": {
          "base_uri": "https://localhost:8080/"
        },
        "id": "FOqSSzqVn5eh",
        "outputId": "2b55e4d2-08fb-4193-f3da-371fefe7d1aa"
      },
      "source": [
        "r = re.compile(\"ab{2}c\")\n",
        "r.search(\"ac\")\n",
        "# 아무것도 출력되지 않는다.\n",
        "r.search(\"abc\")\n",
        "# 아무것도 출력되지 않는다.\n",
        "r.search(\"abbc\")"
      ],
      "execution_count": 99,
      "outputs": [
        {
          "output_type": "execute_result",
          "data": {
            "text/plain": [
              "<re.Match object; span=(0, 4), match='abbc'>"
            ]
          },
          "metadata": {},
          "execution_count": 99
        }
      ]
    },
    {
      "cell_type": "code",
      "metadata": {
        "id": "6rKFOAa-n5iT"
      },
      "source": [
        "r.search(\"abbbbbc\")"
      ],
      "execution_count": 100,
      "outputs": []
    },
    {
      "cell_type": "code",
      "metadata": {
        "colab": {
          "base_uri": "https://localhost:8080/"
        },
        "id": "dETY6f16oQ4N",
        "outputId": "2f989f95-8351-4943-f74b-3a41e365e6e9"
      },
      "source": [
        "r = re.compile(\"ab{2,8}c\")\n",
        "r.search('ac')\n",
        "# 아무런 결과도 출력되지 않음\n",
        "r.search(\"abc\")\n",
        "# 아무런 결과도 출력되지 않음\n",
        "r.search(\"abbc\")"
      ],
      "execution_count": 101,
      "outputs": [
        {
          "output_type": "execute_result",
          "data": {
            "text/plain": [
              "<re.Match object; span=(0, 4), match='abbc'>"
            ]
          },
          "metadata": {},
          "execution_count": 101
        }
      ]
    },
    {
      "cell_type": "code",
      "metadata": {
        "colab": {
          "base_uri": "https://localhost:8080/"
        },
        "id": "pSy5xqYkoQ63",
        "outputId": "f904763d-34e1-44ff-8b6d-83ec63476b04"
      },
      "source": [
        "r.search(\"abbbbc\")"
      ],
      "execution_count": 102,
      "outputs": [
        {
          "output_type": "execute_result",
          "data": {
            "text/plain": [
              "<re.Match object; span=(0, 6), match='abbbbc'>"
            ]
          },
          "metadata": {},
          "execution_count": 102
        }
      ]
    },
    {
      "cell_type": "code",
      "metadata": {
        "id": "yYt_Z16NoQ9l"
      },
      "source": [
        "r.search(\"abbbbbbbbbbbbbc\")"
      ],
      "execution_count": 103,
      "outputs": []
    },
    {
      "cell_type": "code",
      "metadata": {
        "colab": {
          "base_uri": "https://localhost:8080/"
        },
        "id": "xYDNKfksoRAM",
        "outputId": "1b84cdb4-47f5-4d9f-e01a-5f1e4ef0a779"
      },
      "source": [
        "r = re.compile(\"a{2,}bc\")\n",
        "r.search(\"bc\")\n",
        "# 아무런 결과도 출력되지 않음\n",
        "r.search(\"aa\")\n",
        "# 아무런 결과도 출력되지 않음\n",
        "r.search(\"aabc\")"
      ],
      "execution_count": 104,
      "outputs": [
        {
          "output_type": "execute_result",
          "data": {
            "text/plain": [
              "<re.Match object; span=(0, 4), match='aabc'>"
            ]
          },
          "metadata": {},
          "execution_count": 104
        }
      ]
    },
    {
      "cell_type": "code",
      "metadata": {
        "colab": {
          "base_uri": "https://localhost:8080/"
        },
        "id": "GMS5yC4PoRC2",
        "outputId": "b6e56ac8-6c87-40bc-9b42-abdfc37ab506"
      },
      "source": [
        "r.search(\"aaaaabc\")"
      ],
      "execution_count": 105,
      "outputs": [
        {
          "output_type": "execute_result",
          "data": {
            "text/plain": [
              "<re.Match object; span=(0, 7), match='aaaaabc'>"
            ]
          },
          "metadata": {},
          "execution_count": 105
        }
      ]
    },
    {
      "cell_type": "markdown",
      "metadata": {
        "id": "95LIGxFfopJZ"
      },
      "source": [
        "[] : [ ] 안 문자들과 매치\n",
        "[a-zA-Z]\n",
        "[0–9]"
      ]
    },
    {
      "cell_type": "code",
      "metadata": {
        "colab": {
          "base_uri": "https://localhost:8080/"
        },
        "id": "IV1ubrIcoRFe",
        "outputId": "095e7f45-41c9-47d3-f9a5-237c53adf2f7"
      },
      "source": [
        "r = re.compile(\"[abc]\")\n",
        "r.search('zzz')\n",
        "# 아무것도 출력되지 않음\n",
        "r.search('a')"
      ],
      "execution_count": 106,
      "outputs": [
        {
          "output_type": "execute_result",
          "data": {
            "text/plain": [
              "<re.Match object; span=(0, 1), match='a'>"
            ]
          },
          "metadata": {},
          "execution_count": 106
        }
      ]
    },
    {
      "cell_type": "code",
      "metadata": {
        "colab": {
          "base_uri": "https://localhost:8080/"
        },
        "id": "5VdzaHtYoRJy",
        "outputId": "dd12abfb-4b91-4709-9297-ae1b9a793c71"
      },
      "source": [
        "r.search('acg')"
      ],
      "execution_count": 107,
      "outputs": [
        {
          "output_type": "execute_result",
          "data": {
            "text/plain": [
              "<re.Match object; span=(0, 1), match='a'>"
            ]
          },
          "metadata": {},
          "execution_count": 107
        }
      ]
    },
    {
      "cell_type": "code",
      "metadata": {
        "colab": {
          "base_uri": "https://localhost:8080/"
        },
        "id": "cj_txezzot9l",
        "outputId": "89257891-faf7-49d1-fe4d-abf56d9713d9"
      },
      "source": [
        "r.search('babo')"
      ],
      "execution_count": 108,
      "outputs": [
        {
          "output_type": "execute_result",
          "data": {
            "text/plain": [
              "<re.Match object; span=(0, 1), match='b'>"
            ]
          },
          "metadata": {},
          "execution_count": 108
        }
      ]
    },
    {
      "cell_type": "markdown",
      "metadata": {
        "id": "LwDQcJEPpAMv"
      },
      "source": [
        "[^문자]:  ^ 기호 뒤에 붙은 문자들을 제외한 모든 문자를 매치"
      ]
    },
    {
      "cell_type": "code",
      "metadata": {
        "colab": {
          "base_uri": "https://localhost:8080/"
        },
        "id": "6khEjAygouEM",
        "outputId": "6aa4f982-a8e3-416e-e30c-7916e4e69418"
      },
      "source": [
        "r = re.compile('[^abc]')\n",
        "r.search(\"a\")\n",
        "# 아무것도 출력되지 않음\n",
        "r.search(\"ahoho\")"
      ],
      "execution_count": 109,
      "outputs": [
        {
          "output_type": "execute_result",
          "data": {
            "text/plain": [
              "<re.Match object; span=(1, 2), match='h'>"
            ]
          },
          "metadata": {},
          "execution_count": 109
        }
      ]
    },
    {
      "cell_type": "code",
      "metadata": {
        "colab": {
          "base_uri": "https://localhost:8080/"
        },
        "id": "EIZKaAHpouIH",
        "outputId": "ac97e69b-860f-426b-9560-a152352900be"
      },
      "source": [
        "r.search(\"1st\")"
      ],
      "execution_count": 110,
      "outputs": [
        {
          "output_type": "execute_result",
          "data": {
            "text/plain": [
              "<re.Match object; span=(0, 1), match='1'>"
            ]
          },
          "metadata": {},
          "execution_count": 110
        }
      ]
    },
    {
      "cell_type": "markdown",
      "metadata": {
        "id": "s24N9GSQpHiP"
      },
      "source": [
        "- re.match()와 re.search()의 차이\n",
        " - search()가 정규 표현식 전체에 대해서 문자열이 매치하는지를 본다면, match()는 문자열의 첫 부분부터 정규표현식과 매치하는지를 확인\n",
        "문자열 중간에 찾을 패턴이 있다고 하더라도, match 함수는 문자열의 시작에서 패턴이 일치하지 않으면 찾지 않음"
      ]
    },
    {
      "cell_type": "code",
      "metadata": {
        "colab": {
          "base_uri": "https://localhost:8080/"
        },
        "id": "jo7NJ8FFpGkx",
        "outputId": "57adf3f2-184e-4896-a88a-c7e88466bce4"
      },
      "source": [
        "r = re.compile(\"ab.\")\n",
        "r.search(\"kkkabc\")"
      ],
      "execution_count": 111,
      "outputs": [
        {
          "output_type": "execute_result",
          "data": {
            "text/plain": [
              "<re.Match object; span=(3, 6), match='abc'>"
            ]
          },
          "metadata": {},
          "execution_count": 111
        }
      ]
    },
    {
      "cell_type": "code",
      "metadata": {
        "id": "F26A2vvVpUTP"
      },
      "source": [
        "r.match(\"kkkabc\")\n",
        "# 아무것도 출력되지 않음"
      ],
      "execution_count": 112,
      "outputs": []
    },
    {
      "cell_type": "code",
      "metadata": {
        "colab": {
          "base_uri": "https://localhost:8080/"
        },
        "id": "3JOMnM1QpW7D",
        "outputId": "88850738-ff00-4d93-b749-a4a1b67bd215"
      },
      "source": [
        "r.match(\"abckkk\")"
      ],
      "execution_count": 113,
      "outputs": [
        {
          "output_type": "execute_result",
          "data": {
            "text/plain": [
              "<re.Match object; span=(0, 3), match='abc'>"
            ]
          },
          "metadata": {},
          "execution_count": 113
        }
      ]
    },
    {
      "cell_type": "markdown",
      "metadata": {
        "id": "5xsVXDAvpZVq"
      },
      "source": [
        " - re.split(): 입력된 정규 표현식을 기준으로 문자열들을 분리하여 리스트로 리턴"
      ]
    },
    {
      "cell_type": "code",
      "metadata": {
        "colab": {
          "base_uri": "https://localhost:8080/"
        },
        "id": "eBqfSX0UpGn9",
        "outputId": "fd7e4f47-3e4e-4aad-d3e7-87a9e1078946"
      },
      "source": [
        "text = \"사과 딸기 수박 멜론 바나나\"\n",
        "re.split(\" \",text)"
      ],
      "execution_count": 114,
      "outputs": [
        {
          "output_type": "execute_result",
          "data": {
            "text/plain": [
              "['사과', '딸기', '수박', '멜론', '바나나']"
            ]
          },
          "metadata": {},
          "execution_count": 114
        }
      ]
    },
    {
      "cell_type": "code",
      "metadata": {
        "id": "AgBvcTRPpGt8"
      },
      "source": [
        "text = \"\"\"사과\n",
        "딸기\n",
        "수박\n",
        "멜론\n",
        "바나나\"\"\"\n",
        "re.split(\"\\n\", text)"
      ],
      "execution_count": null,
      "outputs": []
    },
    {
      "cell_type": "code",
      "metadata": {
        "colab": {
          "base_uri": "https://localhost:8080/"
        },
        "id": "KnQw92xFpG0I",
        "outputId": "bf3335c0-7472-48b2-b05e-3ab03e4cf771"
      },
      "source": [
        "text = \"사과+딸기+수박+멜론+바나나\"\n",
        "re.split(\"\\+\", text)"
      ],
      "execution_count": 116,
      "outputs": [
        {
          "output_type": "execute_result",
          "data": {
            "text/plain": [
              "['사과', '딸기', '수박', '멜론', '바나나']"
            ]
          },
          "metadata": {},
          "execution_count": 116
        }
      ]
    },
    {
      "cell_type": "markdown",
      "metadata": {
        "id": "kg2aGh9Wpfoi"
      },
      "source": [
        " - re.findall(): 정규 표현식과 매치되는 모든 문자열들을 리스트로 반환"
      ]
    },
    {
      "cell_type": "code",
      "metadata": {
        "id": "oeYg7WNnpG4K"
      },
      "source": [
        "text = \"\"\"이름 : 김철수\n",
        "전화번호 : 010 - 1234 - 1234\n",
        "나이 : 30\n",
        "성별 : 남\"\"\"\n",
        "re.findall(\"\\d+\", text)"
      ],
      "execution_count": null,
      "outputs": []
    },
    {
      "cell_type": "code",
      "metadata": {
        "colab": {
          "base_uri": "https://localhost:8080/"
        },
        "id": "jJKGJOyhpG7p",
        "outputId": "3b816271-9cea-4829-c8d0-6043430101e5"
      },
      "source": [
        "re.findall(\"\\d+\", \"문자열입니당.\")"
      ],
      "execution_count": 118,
      "outputs": [
        {
          "output_type": "execute_result",
          "data": {
            "text/plain": [
              "[]"
            ]
          },
          "metadata": {},
          "execution_count": 118
        }
      ]
    },
    {
      "cell_type": "markdown",
      "metadata": {
        "id": "IMvuNMA9pmDz"
      },
      "source": [
        " - re.sub()"
      ]
    },
    {
      "cell_type": "code",
      "metadata": {
        "colab": {
          "base_uri": "https://localhost:8080/",
          "height": 53
        },
        "id": "agOy_pS6pG_6",
        "outputId": "7d145a4e-f4ed-4b94-ac23-857ac1c54925"
      },
      "source": [
        "text=\"Regular expression : A regular expression, regex or regexp[1] (sometimes called a rational expression)[2][3] is, in theoretical computer science and formal language theory, a sequence of characters that define a search pattern.\"\n",
        "re.sub('[^a-zA-Z]',' ',text)"
      ],
      "execution_count": 119,
      "outputs": [
        {
          "output_type": "execute_result",
          "data": {
            "text/plain": [
              "'Regular expression   A regular expression  regex or regexp     sometimes called a rational expression        is  in theoretical computer science and formal language theory  a sequence of characters that define a search pattern '"
            ],
            "application/vnd.google.colaboratory.intrinsic+json": {
              "type": "string"
            }
          },
          "metadata": {},
          "execution_count": 119
        }
      ]
    },
    {
      "cell_type": "markdown",
      "metadata": {
        "id": "6ypWDGeuptnH"
      },
      "source": [
        "정규 표현식 텍스트 전처리 연습"
      ]
    },
    {
      "cell_type": "code",
      "metadata": {
        "id": "werXP728pwbr",
        "colab": {
          "base_uri": "https://localhost:8080/"
        },
        "outputId": "1851409e-9f75-4c5b-9dbf-fd7574046675"
      },
      "source": [
        "text = \"\"\"100 John    PROF\n",
        "101 James    STUD\n",
        "102 Mac    STUD\"\"\"\n",
        "re.split('\\s+', text)"
      ],
      "execution_count": 120,
      "outputs": [
        {
          "output_type": "execute_result",
          "data": {
            "text/plain": [
              "['100', 'John', 'PROF', '101', 'James', 'STUD', '102', 'Mac', 'STUD']"
            ]
          },
          "metadata": {},
          "execution_count": 120
        }
      ]
    },
    {
      "cell_type": "markdown",
      "metadata": {
        "id": "6wbXUkKRpzg-"
      },
      "source": [
        "'\\s+' 는 공백 여러 개를 기준으로 split\n"
      ]
    },
    {
      "cell_type": "code",
      "metadata": {
        "colab": {
          "base_uri": "https://localhost:8080/"
        },
        "id": "SW5hRr0jpwsB",
        "outputId": "ca087682-81aa-4c50-c6f9-f73d473815d3"
      },
      "source": [
        "re.findall('\\d+', text)"
      ],
      "execution_count": 121,
      "outputs": [
        {
          "output_type": "execute_result",
          "data": {
            "text/plain": [
              "['100', '101', '102']"
            ]
          },
          "metadata": {},
          "execution_count": 121
        }
      ]
    },
    {
      "cell_type": "markdown",
      "metadata": {
        "id": "L2zf6Da5p3m8"
      },
      "source": [
        "'\\d+' 숫자 문자열을 반환"
      ]
    },
    {
      "cell_type": "code",
      "metadata": {
        "colab": {
          "base_uri": "https://localhost:8080/"
        },
        "id": "FzITueLxp480",
        "outputId": "0d936d9f-2616-49f5-b816-0bfa41b386cd"
      },
      "source": [
        "re.findall('[A-Z]', text)"
      ],
      "execution_count": 122,
      "outputs": [
        {
          "output_type": "execute_result",
          "data": {
            "text/plain": [
              "['J', 'P', 'R', 'O', 'F', 'J', 'S', 'T', 'U', 'D', 'M', 'S', 'T', 'U', 'D']"
            ]
          },
          "metadata": {},
          "execution_count": 122
        }
      ]
    },
    {
      "cell_type": "code",
      "metadata": {
        "colab": {
          "base_uri": "https://localhost:8080/"
        },
        "id": "oJ5NciT0pwvz",
        "outputId": "eddfd5a3-e3c2-4ad0-9984-e4539728c1f2"
      },
      "source": [
        "re.findall('[A-Z]{4}',text)"
      ],
      "execution_count": 123,
      "outputs": [
        {
          "output_type": "execute_result",
          "data": {
            "text/plain": [
              "['PROF', 'STUD', 'STUD']"
            ]
          },
          "metadata": {},
          "execution_count": 123
        }
      ]
    },
    {
      "cell_type": "code",
      "metadata": {
        "colab": {
          "base_uri": "https://localhost:8080/"
        },
        "id": "Qh4Bddxvpwz3",
        "outputId": "447a6a65-9f8c-4e04-82fe-ee292a468576"
      },
      "source": [
        "re.findall('[A-Z][a-z]+', text)"
      ],
      "execution_count": 124,
      "outputs": [
        {
          "output_type": "execute_result",
          "data": {
            "text/plain": [
              "['John', 'James', 'Mac']"
            ]
          },
          "metadata": {},
          "execution_count": 124
        }
      ]
    },
    {
      "cell_type": "markdown",
      "metadata": {
        "id": "i6I-N1xlqCLg"
      },
      "source": [
        "정규 표현식을 이용한 토큰화: RegexpTokenizer"
      ]
    },
    {
      "cell_type": "code",
      "metadata": {
        "colab": {
          "base_uri": "https://localhost:8080/"
        },
        "id": "xSoqN-2Lpw6I",
        "outputId": "c5324c30-6366-429c-8b8d-10671c9e4e42"
      },
      "source": [
        "import nltk\n",
        "from nltk.tokenize import RegexpTokenizer\n",
        "tokenizer = RegexpTokenizer(\"[\\w]+\")\n",
        "print(tokenizer.tokenize(\"Don't be fooled by the dark sounding name, Mr. Jone's Orphanage is as cheery as cheery goes for a pastry shop\"))"
      ],
      "execution_count": 125,
      "outputs": [
        {
          "output_type": "stream",
          "name": "stdout",
          "text": [
            "['Don', 't', 'be', 'fooled', 'by', 'the', 'dark', 'sounding', 'name', 'Mr', 'Jone', 's', 'Orphanage', 'is', 'as', 'cheery', 'as', 'cheery', 'goes', 'for', 'a', 'pastry', 'shop']\n"
          ]
        }
      ]
    },
    {
      "cell_type": "markdown",
      "metadata": {
        "id": "I60Nr2JiqapF"
      },
      "source": [
        "### 토큰 인코딩\n",
        "\n",
        "1) Dictionary 사용\n",
        "\n"
      ]
    },
    {
      "cell_type": "code",
      "metadata": {
        "id": "o2fFOmT3pxAi"
      },
      "source": [
        "from nltk.tokenize import sent_tokenize\n",
        "from nltk.tokenize import word_tokenize\n",
        "from nltk.corpus import stopwords"
      ],
      "execution_count": 126,
      "outputs": []
    },
    {
      "cell_type": "code",
      "metadata": {
        "id": "RVy91QNSpxFO"
      },
      "source": [
        "text = \"A barber is a person. a barber is good person. a barber is huge person. he Knew A Secret! The Secret He Kept is huge secret. Huge secret. His barber kept his word. a barber kept his word. His barber kept his secret. But keeping and keeping such a huge secret to himself was driving the barber crazy. the barber went up a huge mountain.\""
      ],
      "execution_count": 127,
      "outputs": []
    },
    {
      "cell_type": "code",
      "metadata": {
        "colab": {
          "base_uri": "https://localhost:8080/"
        },
        "id": "UnLfR-Yfqu58",
        "outputId": "b467f74b-31e0-41d2-a6ae-144135a7725c"
      },
      "source": [
        "# 문장 토큰화\n",
        "text = sent_tokenize(text)\n",
        "print(text)"
      ],
      "execution_count": 128,
      "outputs": [
        {
          "output_type": "stream",
          "name": "stdout",
          "text": [
            "['A barber is a person.', 'a barber is good person.', 'a barber is huge person.', 'he Knew A Secret!', 'The Secret He Kept is huge secret.', 'Huge secret.', 'His barber kept his word.', 'a barber kept his word.', 'His barber kept his secret.', 'But keeping and keeping such a huge secret to himself was driving the barber crazy.', 'the barber went up a huge mountain.']\n"
          ]
        }
      ]
    },
    {
      "cell_type": "markdown",
      "metadata": {
        "id": "0TDbUyxLqw8E"
      },
      "source": [
        "- 기존의 텍스트 데이터가 문장 단위로 토큰화 되며, 정제 작업을 병행하며, 단어 토큰화를 수행"
      ]
    },
    {
      "cell_type": "code",
      "metadata": {
        "colab": {
          "base_uri": "https://localhost:8080/"
        },
        "id": "RBKFxbxoqyZL",
        "outputId": "ad630894-0d87-4731-90c0-c9da6f92f1b4"
      },
      "source": [
        "import nltk\n",
        "nltk.download('stopwords')\n",
        "\n",
        "#정제와 단어 토큰화\n",
        "vocab = {} # 파이썬의 dictionary 자료형\n",
        "sentences = []\n",
        "stop_words = set(stopwords.words('english'))\n",
        "\n",
        "for i in text:\n",
        "    sentence = word_tokenize(i) # 단어 토큰화를 수행합니다.\n",
        "    result = []\n",
        "\n",
        "    for word in sentence:\n",
        "        word = word.lower() # 모든 단어를 소문자화하여 단어의 개수를 줄입니다.\n",
        "        if word not in stop_words: # 단어 토큰화 된 결과에 대해서 불용어를 제거합니다.\n",
        "            if len(word) > 2: # 단어 길이가 2이하인 경우에 대하여 추가로 단어를 제거합니다.\n",
        "                result.append(word)\n",
        "                if word not in vocab:\n",
        "                    vocab[word] = 0\n",
        "                vocab[word] += 1\n",
        "    sentences.append(result)\n",
        "print(sentences)"
      ],
      "execution_count": 129,
      "outputs": [
        {
          "output_type": "stream",
          "name": "stdout",
          "text": [
            "[['barber', 'person'], ['barber', 'good', 'person'], ['barber', 'huge', 'person'], ['knew', 'secret'], ['secret', 'kept', 'huge', 'secret'], ['huge', 'secret'], ['barber', 'kept', 'word'], ['barber', 'kept', 'word'], ['barber', 'kept', 'secret'], ['keeping', 'keeping', 'huge', 'secret', 'driving', 'barber', 'crazy'], ['barber', 'went', 'huge', 'mountain']]\n"
          ]
        },
        {
          "output_type": "stream",
          "name": "stderr",
          "text": [
            "[nltk_data] Downloading package stopwords to /root/nltk_data...\n",
            "[nltk_data]   Package stopwords is already up-to-date!\n"
          ]
        }
      ]
    },
    {
      "cell_type": "code",
      "metadata": {
        "colab": {
          "base_uri": "https://localhost:8080/"
        },
        "id": "fhBRkb5Fq7gs",
        "outputId": "ca6a9e00-af77-4746-8f4a-9c59bd0e9797"
      },
      "source": [
        "print(vocab)"
      ],
      "execution_count": 130,
      "outputs": [
        {
          "output_type": "stream",
          "name": "stdout",
          "text": [
            "{'barber': 8, 'person': 3, 'good': 1, 'huge': 5, 'knew': 1, 'secret': 6, 'kept': 4, 'word': 2, 'keeping': 2, 'driving': 1, 'crazy': 1, 'went': 1, 'mountain': 1}\n"
          ]
        }
      ]
    },
    {
      "cell_type": "code",
      "metadata": {
        "colab": {
          "base_uri": "https://localhost:8080/"
        },
        "id": "Wc3J0rP8q_A_",
        "outputId": "88ca4095-e703-4eb2-8023-15035eacc430"
      },
      "source": [
        "print(vocab[\"barber\"]) # 'barber'라는 단어의 빈도수 출력"
      ],
      "execution_count": 131,
      "outputs": [
        {
          "output_type": "stream",
          "name": "stdout",
          "text": [
            "8\n"
          ]
        }
      ]
    },
    {
      "cell_type": "code",
      "metadata": {
        "colab": {
          "base_uri": "https://localhost:8080/"
        },
        "id": "La7hHRpyrA8j",
        "outputId": "1e9677cc-55e6-4cb2-84ba-0abcd0d5f678"
      },
      "source": [
        "#빈도수가 높은 순서대로 정렬\n",
        "vocab_sorted = sorted(vocab.items(), key = lambda x:x[1], reverse = True)\n",
        "print(vocab_sorted)"
      ],
      "execution_count": 132,
      "outputs": [
        {
          "output_type": "stream",
          "name": "stdout",
          "text": [
            "[('barber', 8), ('secret', 6), ('huge', 5), ('kept', 4), ('person', 3), ('word', 2), ('keeping', 2), ('good', 1), ('knew', 1), ('driving', 1), ('crazy', 1), ('went', 1), ('mountain', 1)]\n"
          ]
        }
      ]
    },
    {
      "cell_type": "code",
      "metadata": {
        "colab": {
          "base_uri": "https://localhost:8080/"
        },
        "id": "01nKB_9yrEyj",
        "outputId": "2822cf05-8a29-4e30-e393-77efaca1215b"
      },
      "source": [
        "#높은 빈도수를 가진 단어일수록 낮은 정수 인덱스를 부여\n",
        "word_to_index = {}\n",
        "i=0\n",
        "for (word, frequency) in vocab_sorted :\n",
        "    if frequency > 1 : # 정제(Cleaning) 챕터에서 언급했듯이 빈도수가 적은 단어는 제외한다.\n",
        "        i=i+1\n",
        "        word_to_index[word] = i\n",
        "print(word_to_index)"
      ],
      "execution_count": 133,
      "outputs": [
        {
          "output_type": "stream",
          "name": "stdout",
          "text": [
            "{'barber': 1, 'secret': 2, 'huge': 3, 'kept': 4, 'person': 5, 'word': 6, 'keeping': 7}\n"
          ]
        }
      ]
    },
    {
      "cell_type": "code",
      "metadata": {
        "colab": {
          "base_uri": "https://localhost:8080/"
        },
        "id": "tIbqlRz6rOfy",
        "outputId": "cf6a6438-b9a5-45b2-a795-c87308648552"
      },
      "source": [
        "vocab_size = 5\n",
        "words_frequency = [w for w,c in word_to_index.items() if c >= vocab_size + 1] # 인덱스가 5 초과인 단어 제거\n",
        "for w in words_frequency:\n",
        "    del word_to_index[w] # 해당 단어에 대한 인덱스 정보를 삭제\n",
        "print(word_to_index)"
      ],
      "execution_count": 134,
      "outputs": [
        {
          "output_type": "stream",
          "name": "stdout",
          "text": [
            "{'barber': 1, 'secret': 2, 'huge': 3, 'kept': 4, 'person': 5}\n"
          ]
        }
      ]
    },
    {
      "cell_type": "code",
      "metadata": {
        "id": "dfVZ1ffarOiv"
      },
      "source": [
        "word_to_index['OOV'] = len(word_to_index) + 1"
      ],
      "execution_count": 135,
      "outputs": []
    },
    {
      "cell_type": "code",
      "metadata": {
        "colab": {
          "base_uri": "https://localhost:8080/"
        },
        "id": "ukWR2_64rOlw",
        "outputId": "e4367474-9ea8-4c73-b348-6a73d40ccd2c"
      },
      "source": [
        "#word_to_index를 사용하여 sentences의 모든 단어들을 맵핑되는 정수로 인코딩\n",
        "\n",
        "encoded = []\n",
        "for s in sentences:\n",
        "    temp = []\n",
        "    for w in s:\n",
        "        try:\n",
        "            temp.append(word_to_index[w])\n",
        "        except KeyError:\n",
        "            temp.append(word_to_index['OOV'])\n",
        "    encoded.append(temp)\n",
        "print(encoded)"
      ],
      "execution_count": 136,
      "outputs": [
        {
          "output_type": "stream",
          "name": "stdout",
          "text": [
            "[[1, 5], [1, 6, 5], [1, 3, 5], [6, 2], [2, 4, 3, 2], [3, 2], [1, 4, 6], [1, 4, 6], [1, 4, 2], [6, 6, 3, 2, 6, 1, 6], [1, 6, 3, 6]]\n"
          ]
        }
      ]
    },
    {
      "cell_type": "markdown",
      "metadata": {
        "id": "rcEQ5HY6r5eK"
      },
      "source": [
        "- NLTK의 FreqDist"
      ]
    },
    {
      "cell_type": "code",
      "metadata": {
        "id": "ZN-4UfJTr1wb"
      },
      "source": [
        "from nltk import FreqDist\n",
        "import numpy as np"
      ],
      "execution_count": 137,
      "outputs": []
    },
    {
      "cell_type": "code",
      "metadata": {
        "id": "gwrNH7_Nr10R"
      },
      "source": [
        "# np.hstack으로 문장 구분을 제거하여 입력으로 사용 . ex) ['barber', 'person', 'barber', 'good' ... 중략 ...\n",
        "vocab = FreqDist(np.hstack(sentences))"
      ],
      "execution_count": 138,
      "outputs": []
    },
    {
      "cell_type": "code",
      "metadata": {
        "colab": {
          "base_uri": "https://localhost:8080/"
        },
        "id": "uLy-y9qhr13f",
        "outputId": "cbbc9f87-a7c5-4236-9412-75710b47bc02"
      },
      "source": [
        "print(vocab[\"barber\"]) # 'barber'라는 단어의 빈도수 출력"
      ],
      "execution_count": 139,
      "outputs": [
        {
          "output_type": "stream",
          "name": "stdout",
          "text": [
            "8\n"
          ]
        }
      ]
    },
    {
      "cell_type": "code",
      "metadata": {
        "colab": {
          "base_uri": "https://localhost:8080/"
        },
        "id": "OX9slH5Lr16r",
        "outputId": "8b7adac1-2ad5-474a-c2ab-d5633b134291"
      },
      "source": [
        "vocab_size = 5\n",
        "vocab = vocab.most_common(vocab_size) # 등장 빈도수가 높은 상위 5개의 단어만 저장\n",
        "vocab"
      ],
      "execution_count": 140,
      "outputs": [
        {
          "output_type": "execute_result",
          "data": {
            "text/plain": [
              "[('barber', 8), ('secret', 6), ('huge', 5), ('kept', 4), ('person', 3)]"
            ]
          },
          "metadata": {},
          "execution_count": 140
        }
      ]
    },
    {
      "cell_type": "code",
      "metadata": {
        "colab": {
          "base_uri": "https://localhost:8080/"
        },
        "id": "zd8ue-5Tr19z",
        "outputId": "4d8e36b6-cc9b-4970-fafb-633d48fc380d"
      },
      "source": [
        "word_to_index = {word[0] : index + 1 for index, word in enumerate(vocab)}\n",
        "print(word_to_index)"
      ],
      "execution_count": 141,
      "outputs": [
        {
          "output_type": "stream",
          "name": "stdout",
          "text": [
            "{'barber': 1, 'secret': 2, 'huge': 3, 'kept': 4, 'person': 5}\n"
          ]
        }
      ]
    },
    {
      "cell_type": "markdown",
      "metadata": {
        "id": "fFt0Vg0HilY6"
      },
      "source": [
        "- keras 기능"
      ]
    },
    {
      "cell_type": "code",
      "metadata": {
        "id": "q2iE0I9aizo8"
      },
      "source": [
        "from tensorflow.keras.preprocessing.text import Tokenizer"
      ],
      "execution_count": 142,
      "outputs": []
    },
    {
      "cell_type": "code",
      "metadata": {
        "id": "ELiiAK1hi4Ds"
      },
      "source": [
        "preprocessed_sentences = [['barber', 'person'], ['barber', 'good', 'person'], ['barber', 'huge', 'person'], ['knew', 'secret'], ['secret', 'kept', 'huge', 'secret'], ['huge', 'secret'], ['barber', 'kept', 'word'], ['barber', 'kept', 'word'], ['barber', 'kept', 'secret'], ['keeping', 'keeping', 'huge', 'secret', 'driving', 'barber', 'crazy'], ['barber', 'went', 'huge', 'mountain']]"
      ],
      "execution_count": 143,
      "outputs": []
    },
    {
      "cell_type": "code",
      "metadata": {
        "id": "mmbGuSb-i4Lp"
      },
      "source": [
        "tokenizer = Tokenizer()\n",
        "\n",
        "# fit_on_texts()안에 코퍼스를 입력으로 하면 빈도수를 기준으로 단어 집합을 생성.\n",
        "tokenizer.fit_on_texts(preprocessed_sentences)"
      ],
      "execution_count": 144,
      "outputs": []
    },
    {
      "cell_type": "code",
      "metadata": {
        "colab": {
          "base_uri": "https://localhost:8080/"
        },
        "id": "Uw8akhFui4UP",
        "outputId": "b87f41b0-ff7e-44c6-9356-f18e88a9e338"
      },
      "source": [
        "print(tokenizer.word_index)"
      ],
      "execution_count": 145,
      "outputs": [
        {
          "output_type": "stream",
          "name": "stdout",
          "text": [
            "{'barber': 1, 'secret': 2, 'huge': 3, 'kept': 4, 'person': 5, 'word': 6, 'keeping': 7, 'good': 8, 'knew': 9, 'driving': 10, 'crazy': 11, 'went': 12, 'mountain': 13}\n"
          ]
        }
      ]
    },
    {
      "cell_type": "markdown",
      "metadata": {
        "id": "N-9T_hORjKQ2"
      },
      "source": [
        " - 단어가 인덱스 부여\n"
      ]
    },
    {
      "cell_type": "code",
      "metadata": {
        "colab": {
          "base_uri": "https://localhost:8080/"
        },
        "id": "FtzG6Gfni4fW",
        "outputId": "56107cbe-7b6f-487b-f1fd-c013296b4631"
      },
      "source": [
        "print(tokenizer.word_counts)"
      ],
      "execution_count": 146,
      "outputs": [
        {
          "output_type": "stream",
          "name": "stdout",
          "text": [
            "OrderedDict([('barber', 8), ('person', 3), ('good', 1), ('huge', 5), ('knew', 1), ('secret', 6), ('kept', 4), ('word', 2), ('keeping', 2), ('driving', 1), ('crazy', 1), ('went', 1), ('mountain', 1)])\n"
          ]
        }
      ]
    },
    {
      "cell_type": "markdown",
      "metadata": {
        "id": "yKiF42XZjPDi"
      },
      "source": [
        " - 이미 정해진 인덱스로 변환"
      ]
    },
    {
      "cell_type": "code",
      "metadata": {
        "colab": {
          "base_uri": "https://localhost:8080/"
        },
        "id": "wa-4VD1fi4m2",
        "outputId": "696bd5bc-ccc6-40ff-ba41-145469e6f28c"
      },
      "source": [
        "print(tokenizer.texts_to_sequences(preprocessed_sentences))"
      ],
      "execution_count": 147,
      "outputs": [
        {
          "output_type": "stream",
          "name": "stdout",
          "text": [
            "[[1, 5], [1, 8, 5], [1, 3, 5], [9, 2], [2, 4, 3, 2], [3, 2], [1, 4, 6], [1, 4, 6], [1, 4, 2], [7, 7, 3, 2, 10, 1, 11], [1, 12, 3, 13]]\n"
          ]
        }
      ]
    },
    {
      "cell_type": "markdown",
      "metadata": {
        "id": "z_2tGITvjVPP"
      },
      "source": [
        " - 상위 인덱스 5개 단어만 사용"
      ]
    },
    {
      "cell_type": "code",
      "metadata": {
        "id": "IyTYU7tcjSDM"
      },
      "source": [
        "vocab_size = 5\n",
        "tokenizer = Tokenizer(num_words = vocab_size + 1) # 상위 5개 단어만 사용\n",
        "tokenizer.fit_on_texts(preprocessed_sentences)"
      ],
      "execution_count": 148,
      "outputs": []
    },
    {
      "cell_type": "code",
      "metadata": {
        "colab": {
          "base_uri": "https://localhost:8080/"
        },
        "id": "R6dnn7LsjSJq",
        "outputId": "9d5327a5-a050-4ca8-b04d-49bc0d84548c"
      },
      "source": [
        "print(tokenizer.word_index)"
      ],
      "execution_count": 149,
      "outputs": [
        {
          "output_type": "stream",
          "name": "stdout",
          "text": [
            "{'barber': 1, 'secret': 2, 'huge': 3, 'kept': 4, 'person': 5, 'word': 6, 'keeping': 7, 'good': 8, 'knew': 9, 'driving': 10, 'crazy': 11, 'went': 12, 'mountain': 13}\n"
          ]
        }
      ]
    },
    {
      "cell_type": "markdown",
      "metadata": {
        "id": "kbx4m61iMxIU"
      },
      "source": [
        " - 품사태깅"
      ]
    },
    {
      "cell_type": "code",
      "metadata": {
        "colab": {
          "base_uri": "https://localhost:8080/"
        },
        "id": "hPp_IMdCN70c",
        "outputId": "320e7030-e7e3-43e7-d4b2-5ea01b47ae3b"
      },
      "source": [
        "import nltk\n",
        "nltk.download('punkt')"
      ],
      "execution_count": 150,
      "outputs": [
        {
          "output_type": "stream",
          "name": "stderr",
          "text": [
            "[nltk_data] Downloading package punkt to /root/nltk_data...\n",
            "[nltk_data]   Package punkt is already up-to-date!\n"
          ]
        },
        {
          "output_type": "execute_result",
          "data": {
            "text/plain": [
              "True"
            ]
          },
          "metadata": {},
          "execution_count": 150
        }
      ]
    },
    {
      "cell_type": "code",
      "metadata": {
        "colab": {
          "base_uri": "https://localhost:8080/"
        },
        "id": "hpzjYdZuAB2D",
        "outputId": "25b6b9d6-1c93-4e7b-a20a-9aa432acb02c"
      },
      "source": [
        "from nltk.tokenize import word_tokenize\n",
        "text=\"I am actively looking for Ph.D. students. and you are a Ph.D. student.\"\n",
        "print(word_tokenize(text))"
      ],
      "execution_count": 151,
      "outputs": [
        {
          "output_type": "stream",
          "name": "stdout",
          "text": [
            "['I', 'am', 'actively', 'looking', 'for', 'Ph.D.', 'students', '.', 'and', 'you', 'are', 'a', 'Ph.D.', 'student', '.']\n"
          ]
        }
      ]
    },
    {
      "cell_type": "code",
      "metadata": {
        "colab": {
          "base_uri": "https://localhost:8080/"
        },
        "id": "EVFNXzVoNz0p",
        "outputId": "55bf59a5-d9c5-4085-bac9-ba1ea1246ad3"
      },
      "source": [
        "from nltk.tag import pos_tag\n",
        "import nltk\n",
        "nltk.download('averaged_perceptron_tagger')\n",
        "x=word_tokenize(text)\n",
        "pos_tag(x)"
      ],
      "execution_count": 152,
      "outputs": [
        {
          "output_type": "stream",
          "name": "stderr",
          "text": [
            "[nltk_data] Downloading package averaged_perceptron_tagger to\n",
            "[nltk_data]     /root/nltk_data...\n",
            "[nltk_data]   Unzipping taggers/averaged_perceptron_tagger.zip.\n"
          ]
        },
        {
          "output_type": "execute_result",
          "data": {
            "text/plain": [
              "[('I', 'PRP'),\n",
              " ('am', 'VBP'),\n",
              " ('actively', 'RB'),\n",
              " ('looking', 'VBG'),\n",
              " ('for', 'IN'),\n",
              " ('Ph.D.', 'NNP'),\n",
              " ('students', 'NNS'),\n",
              " ('.', '.'),\n",
              " ('and', 'CC'),\n",
              " ('you', 'PRP'),\n",
              " ('are', 'VBP'),\n",
              " ('a', 'DT'),\n",
              " ('Ph.D.', 'NNP'),\n",
              " ('student', 'NN'),\n",
              " ('.', '.')]"
            ]
          },
          "metadata": {},
          "execution_count": 152
        }
      ]
    },
    {
      "cell_type": "markdown",
      "metadata": {
        "id": "N5cGomarZpPH"
      },
      "source": [
        "# 5. 한글 처리\n",
        "- 한국어 처리: 형태소 분석기 Okt(Open Korea Text), 메캅(Mecab), 코모란(Komoran), 한나눔(Hannanum), 꼬꼬마(Kkma)\n",
        "\n"
      ]
    },
    {
      "cell_type": "markdown",
      "metadata": {
        "id": "-FBJYcRcl_ae"
      },
      "source": [
        "- 형태소 분석:\n",
        " - KoNLPy는 다음과 같은 다양한 형태소 분석, 태깅 라이브러리를 제공\n",
        "\n",
        " - Hannanum: 한나눔. KAIST Semantic Web Research Center 개발.\n",
        "\n",
        " - http://semanticweb.kaist.ac.kr/hannanum/\n",
        "\n",
        " - Kkma: 꼬꼬마. 서울대학교 IDS(Intelligent Data Systems) 연구실 개발.\n",
        "\n",
        " - http://kkma.snu.ac.kr/\n",
        "\n",
        " - Komoran: 코모란. Shineware에서 개발.\n",
        "\n",
        " - https://github.com/shin285/KOMORAN\n",
        "\n",
        " - Mecab: 메카브. 일본어용 형태소 분석기를 한국어를 사용할 수 있도록 수정.\n",
        "\n",
        " - https://bitbucket.org/eunjeon/mecab-ko\n",
        "\n",
        " - Open Korean Text: 오픈 소스 한국어 분석기. 과거 트위터 형태소 분석기.\n",
        "\n",
        " - https://github.com/open-korean-text/open-korean-text"
      ]
    },
    {
      "cell_type": "code",
      "metadata": {
        "colab": {
          "base_uri": "https://localhost:8080/"
        },
        "id": "u780Vl06aFA9",
        "outputId": "10b2cc78-4b31-4238-b1a6-9208c4ec1808"
      },
      "source": [
        "!pip install konlpy"
      ],
      "execution_count": 153,
      "outputs": [
        {
          "output_type": "stream",
          "name": "stdout",
          "text": [
            "Collecting konlpy\n",
            "  Downloading konlpy-0.6.0-py2.py3-none-any.whl (19.4 MB)\n",
            "\u001b[2K     \u001b[90m━━━━━━━━━━━━━━━━━━━━━━━━━━━━━━━━━━━━━━━━\u001b[0m \u001b[32m19.4/19.4 MB\u001b[0m \u001b[31m53.0 MB/s\u001b[0m eta \u001b[36m0:00:00\u001b[0m\n",
            "\u001b[?25hCollecting JPype1>=0.7.0 (from konlpy)\n",
            "  Downloading JPype1-1.4.1-cp310-cp310-manylinux_2_12_x86_64.manylinux2010_x86_64.whl (465 kB)\n",
            "\u001b[2K     \u001b[90m━━━━━━━━━━━━━━━━━━━━━━━━━━━━━━━━━━━━━━\u001b[0m \u001b[32m465.3/465.3 kB\u001b[0m \u001b[31m40.7 MB/s\u001b[0m eta \u001b[36m0:00:00\u001b[0m\n",
            "\u001b[?25hRequirement already satisfied: lxml>=4.1.0 in /usr/local/lib/python3.10/dist-packages (from konlpy) (4.9.3)\n",
            "Requirement already satisfied: numpy>=1.6 in /usr/local/lib/python3.10/dist-packages (from konlpy) (1.22.4)\n",
            "Requirement already satisfied: packaging in /usr/local/lib/python3.10/dist-packages (from JPype1>=0.7.0->konlpy) (23.1)\n",
            "Installing collected packages: JPype1, konlpy\n",
            "Successfully installed JPype1-1.4.1 konlpy-0.6.0\n"
          ]
        }
      ]
    },
    {
      "cell_type": "code",
      "metadata": {
        "colab": {
          "base_uri": "https://localhost:8080/"
        },
        "id": "uLh3AkQvQfA2",
        "outputId": "fa04a8c3-dfb8-4bd2-cdb3-783faefecf5e"
      },
      "source": [
        "from konlpy.tag import Okt\n",
        "okt=Okt()\n",
        "print(okt.morphs(\"열심히 코딩한 당신, 연휴에는 여행을 가봐요\"))\n",
        "# 텍스트를 형태로 단위로 나누는데,이때 각 단어에서 어간을 추출"
      ],
      "execution_count": 154,
      "outputs": [
        {
          "output_type": "stream",
          "name": "stdout",
          "text": [
            "['열심히', '코딩', '한', '당신', ',', '연휴', '에는', '여행', '을', '가봐요']\n"
          ]
        }
      ]
    },
    {
      "cell_type": "code",
      "metadata": {
        "colab": {
          "base_uri": "https://localhost:8080/"
        },
        "id": "yOOsZK_baEQ8",
        "outputId": "efcbe524-6199-4e85-c842-dce06c7672f4"
      },
      "source": [
        "print(okt.pos('열심히 코딩한 당신, 연휴에는 여행을 가봐요'))\n",
        "# 품사추출."
      ],
      "execution_count": 155,
      "outputs": [
        {
          "output_type": "stream",
          "name": "stdout",
          "text": [
            "[('열심히', 'Adverb'), ('코딩', 'Noun'), ('한', 'Josa'), ('당신', 'Noun'), (',', 'Punctuation'), ('연휴', 'Noun'), ('에는', 'Josa'), ('여행', 'Noun'), ('을', 'Josa'), ('가봐요', 'Verb')]\n"
          ]
        }
      ]
    },
    {
      "cell_type": "code",
      "metadata": {
        "colab": {
          "base_uri": "https://localhost:8080/"
        },
        "id": "77gyosOhCbL5",
        "outputId": "3e2ce53c-1a5d-422a-f4f8-e78b1519b6e2"
      },
      "source": [
        "print(okt.nouns('열심히 코딩한 당신, 연휴에는 여행을 가봐요'))\n",
        "# 명사추출."
      ],
      "execution_count": 156,
      "outputs": [
        {
          "output_type": "stream",
          "name": "stdout",
          "text": [
            "['코딩', '당신', '연휴', '여행']\n"
          ]
        }
      ]
    },
    {
      "cell_type": "markdown",
      "metadata": {
        "id": "a-_ERx0nfG56"
      },
      "source": [
        "- 1) morphs : 형태소 추출\n",
        "- 2) pos : 품사 태깅\n",
        "- 3) nouns : 명사 추출\n",
        "\n",
        "\n",
        "- Kkma 이용 시"
      ]
    },
    {
      "cell_type": "code",
      "metadata": {
        "colab": {
          "base_uri": "https://localhost:8080/"
        },
        "id": "8DXkiL4AfRp3",
        "outputId": "ffc73faa-fb44-4677-b0c8-80e9d8cbd6d8"
      },
      "source": [
        "from konlpy.tag import Kkma\n",
        "kkma=Kkma()\n",
        "print(kkma.morphs(\"열심히 코딩한 당신, 연휴에는 여행을 가봐요\"))"
      ],
      "execution_count": 157,
      "outputs": [
        {
          "output_type": "stream",
          "name": "stdout",
          "text": [
            "['열심히', '코딩', '하', 'ㄴ', '당신', ',', '연휴', '에', '는', '여행', '을', '가보', '아요']\n"
          ]
        }
      ]
    },
    {
      "cell_type": "code",
      "metadata": {
        "colab": {
          "base_uri": "https://localhost:8080/"
        },
        "id": "5oDxkMfvfVQd",
        "outputId": "d9164279-a498-4c86-a7ce-a3cfa1478fa9"
      },
      "source": [
        "print(kkma.pos(\"열심히 코딩한 당신, 연휴에는 여행을 가봐요\"))"
      ],
      "execution_count": 158,
      "outputs": [
        {
          "output_type": "stream",
          "name": "stdout",
          "text": [
            "[('열심히', 'MAG'), ('코딩', 'NNG'), ('하', 'XSV'), ('ㄴ', 'ETD'), ('당신', 'NP'), (',', 'SP'), ('연휴', 'NNG'), ('에', 'JKM'), ('는', 'JX'), ('여행', 'NNG'), ('을', 'JKO'), ('가보', 'VV'), ('아요', 'EFN')]\n"
          ]
        }
      ]
    },
    {
      "cell_type": "markdown",
      "metadata": {
        "id": "gkxcbOzLvW2E"
      },
      "source": [
        "- Py-Hanspell: 맞춤법 체크\n"
      ]
    },
    {
      "cell_type": "code",
      "metadata": {
        "colab": {
          "base_uri": "https://localhost:8080/"
        },
        "id": "dUTVc4T4uB4g",
        "outputId": "01b4e587-e832-44ec-e883-76c7229330ee"
      },
      "source": [
        "!pip install git+https://github.com/ssut/py-hanspell.git"
      ],
      "execution_count": 159,
      "outputs": [
        {
          "output_type": "stream",
          "name": "stdout",
          "text": [
            "Collecting git+https://github.com/ssut/py-hanspell.git\n",
            "  Cloning https://github.com/ssut/py-hanspell.git to /tmp/pip-req-build-wwpdmbyb\n",
            "  Running command git clone --filter=blob:none --quiet https://github.com/ssut/py-hanspell.git /tmp/pip-req-build-wwpdmbyb\n",
            "  Resolved https://github.com/ssut/py-hanspell.git to commit fdc6ca50c19f1c85971437a072d89d4e5ce024b8\n",
            "  Preparing metadata (setup.py) ... \u001b[?25l\u001b[?25hdone\n",
            "Requirement already satisfied: requests in /usr/local/lib/python3.10/dist-packages (from py-hanspell==1.1) (2.27.1)\n",
            "Requirement already satisfied: urllib3<1.27,>=1.21.1 in /usr/local/lib/python3.10/dist-packages (from requests->py-hanspell==1.1) (1.26.16)\n",
            "Requirement already satisfied: certifi>=2017.4.17 in /usr/local/lib/python3.10/dist-packages (from requests->py-hanspell==1.1) (2023.5.7)\n",
            "Requirement already satisfied: charset-normalizer~=2.0.0 in /usr/local/lib/python3.10/dist-packages (from requests->py-hanspell==1.1) (2.0.12)\n",
            "Requirement already satisfied: idna<4,>=2.5 in /usr/local/lib/python3.10/dist-packages (from requests->py-hanspell==1.1) (3.4)\n",
            "Building wheels for collected packages: py-hanspell\n",
            "  Building wheel for py-hanspell (setup.py) ... \u001b[?25l\u001b[?25hdone\n",
            "  Created wheel for py-hanspell: filename=py_hanspell-1.1-py3-none-any.whl size=4810 sha256=ca8c42f083f66ff9cb6b8df828e9886cefdaf0aa62d76ed615fb6c4fcaaabb55\n",
            "  Stored in directory: /tmp/pip-ephem-wheel-cache-2u9ummud/wheels/2e/43/cc/753c9e1d91affb9ea40e186cea5654fb9231deb454da6724e5\n",
            "Successfully built py-hanspell\n",
            "Installing collected packages: py-hanspell\n",
            "Successfully installed py-hanspell-1.1\n"
          ]
        }
      ]
    },
    {
      "cell_type": "code",
      "metadata": {
        "colab": {
          "base_uri": "https://localhost:8080/"
        },
        "id": "doE5IVV4veCB",
        "outputId": "096c2c6c-0cba-47ba-dbf5-501cdd009537"
      },
      "source": [
        "from hanspell import spell_checker\n",
        "\n",
        "sent = \"맞춤법 틀리면 외 않되? 쓰고싶은대로쓰면돼지 \"\n",
        "spelled_sent = spell_checker.check(sent)\n",
        "\n",
        "hanspell_sent = spelled_sent.checked\n",
        "print(hanspell_sent)"
      ],
      "execution_count": 160,
      "outputs": [
        {
          "output_type": "stream",
          "name": "stdout",
          "text": [
            "맞춤법 틀리면 왜 안돼? 쓰고 싶은 대로 쓰면 되지 \n"
          ]
        }
      ]
    },
    {
      "cell_type": "markdown",
      "metadata": {
        "id": "TujL6BDkm5lY"
      },
      "source": [
        "# 6. 언어모델 VS BOW\n",
        "- 언어 모델(Language Model): 단어 시퀀스에 확률을 할당(assign), 문장의 확률 예측\n",
        " - 통계 기반 VS GPT 나 Bert, Transformer 또한 인공 신경망 모델 기반\n"
      ]
    },
    {
      "cell_type": "markdown",
      "metadata": {
        "id": "Bc5YmPE1GMg7"
      },
      "source": [
        "- BOW(bag of words): 전통적 방식\n",
        " - Bag of Words란 단어들의 순서는 전혀 고려하지 않고, 단어들의 출현 빈도(frequency)에만 집중하는 텍스트 데이터의 수치화\n",
        " - 쉽게 빠른 구축\n",
        " - 예상보다 문서의 특징을 잘 나타내어 전통적으로 여러분야에서 활용도가 높음\n",
        " - 문맥 의미(Semantic Context) 반영 문제\n",
        " - 희소 행렬 문제\n",
        "\n",
        "\n"
      ]
    },
    {
      "cell_type": "code",
      "metadata": {
        "colab": {
          "base_uri": "https://localhost:8080/"
        },
        "id": "uUoHwyZwWqIM",
        "outputId": "d6862d4b-e195-4492-c0b3-e2d8f26a6fbb"
      },
      "source": [
        "from konlpy.tag import Okt\n",
        "import re\n",
        "okt=Okt()\n",
        "\n",
        "token=re.sub(\"(\\.)\",\"\",\"정부가 발표하는 물가상승률과 소비자가 느끼는 물가상승률은 다르다.\")\n",
        "# 정규 표현식을 통해 마침표 제거\n",
        "token=okt.morphs(token)\n",
        "# OKT 형태소 분석기를 통해 토큰화 작업을 수행\n",
        "\n",
        "word2index={} # dict\n",
        "bow=[] #bag\n",
        "for voca in token:\n",
        "         if voca not in word2index.keys():  #dict의 키가 없다면,\n",
        "             word2index[voca]=len(word2index) # token을 읽으면서, word2index에 없는 (not in) 단어는 새로 추가\n",
        "             bow.insert(len(word2index)-1,1) # BoW 전체에 전부 기본값 1을 넣어줍니다. 단어의 개수는 최소 1개 이상이기 때문\n",
        "         else:\n",
        "            index=word2index.get(voca) # 재등장하는 단어의 인덱스를 확인\n",
        "            bow[index]=bow[index]+1 # 재등장한 단어는 해당하는 인덱스의 위치에 1을 더하기\n",
        "print(word2index)"
      ],
      "execution_count": 185,
      "outputs": [
        {
          "output_type": "stream",
          "name": "stdout",
          "text": [
            "{'정부': 0, '가': 1, '발표': 2, '하는': 3, '물가상승률': 4, '과': 5, '소비자': 6, '느끼는': 7, '은': 8, '다르다': 9}\n"
          ]
        }
      ]
    },
    {
      "cell_type": "code",
      "metadata": {
        "colab": {
          "base_uri": "https://localhost:8080/"
        },
        "id": "LALPk1URIvzJ",
        "outputId": "901b552d-2ab1-413b-8391-d123ed1b0df0"
      },
      "source": [
        "bow"
      ],
      "execution_count": 186,
      "outputs": [
        {
          "output_type": "execute_result",
          "data": {
            "text/plain": [
              "[1, 2, 1, 1, 2, 1, 1, 1, 1, 1]"
            ]
          },
          "metadata": {},
          "execution_count": 186
        }
      ]
    },
    {
      "cell_type": "markdown",
      "metadata": {
        "id": "BC-Qd7iRoJ_b"
      },
      "source": [
        "- CountVectorizer 이용"
      ]
    },
    {
      "cell_type": "code",
      "metadata": {
        "colab": {
          "base_uri": "https://localhost:8080/"
        },
        "id": "9V330lrkIxBV",
        "outputId": "cff6a1f2-9303-4099-d358-ccbacdadc3af"
      },
      "source": [
        "from sklearn.feature_extraction.text import CountVectorizer\n",
        "corpus = ['you know I want your love. because I love you.']\n",
        "vector = CountVectorizer()\n",
        "print(vector.fit_transform(corpus).toarray()) # 코퍼스로부터 각 단어의 빈도 수를 저장.\n",
        "print(vector.vocabulary_) # 각 단어의 인덱스 부여된 상태를 제시"
      ],
      "execution_count": 187,
      "outputs": [
        {
          "output_type": "stream",
          "name": "stdout",
          "text": [
            "[[1 1 2 1 2 1]]\n",
            "{'you': 4, 'know': 1, 'want': 3, 'your': 5, 'love': 2, 'because': 0}\n"
          ]
        }
      ]
    },
    {
      "cell_type": "markdown",
      "metadata": {
        "id": "2DU10n9Ooqh6"
      },
      "source": [
        "- 불용어를 제거한 Bow 만들기\n",
        " - 사용자 정의 불용어"
      ]
    },
    {
      "cell_type": "code",
      "metadata": {
        "colab": {
          "base_uri": "https://localhost:8080/"
        },
        "id": "GxaEm60GobGL",
        "outputId": "b9c1a4d1-7662-439f-9bba-3047cceb2508"
      },
      "source": [
        "from sklearn.feature_extraction.text import CountVectorizer\n",
        "\n",
        "text=[\"Family is not an important thing. It's everything.\"]\n",
        "vect = CountVectorizer(stop_words=[\"the\", \"a\", \"an\", \"is\", \"not\"])\n",
        "print(vect.fit_transform(text).toarray())\n",
        "print(vect.vocabulary_)"
      ],
      "execution_count": 188,
      "outputs": [
        {
          "output_type": "stream",
          "name": "stdout",
          "text": [
            "[[1 1 1 1 1]]\n",
            "{'family': 1, 'important': 2, 'thing': 4, 'it': 3, 'everything': 0}\n"
          ]
        }
      ]
    },
    {
      "cell_type": "markdown",
      "metadata": {
        "id": "GUzctCXNpFyd"
      },
      "source": [
        "- CountVectorizer에서 제공하는 자체 불용어 사용"
      ]
    },
    {
      "cell_type": "code",
      "metadata": {
        "colab": {
          "base_uri": "https://localhost:8080/"
        },
        "id": "UzR66tlzpCoh",
        "outputId": "dc0ba00e-a2c1-4ad1-e3fc-dbfcceda65c9"
      },
      "source": [
        "from sklearn.feature_extraction.text import CountVectorizer\n",
        "\n",
        "text=[\"Family is not an important thing. It's everything.\"]\n",
        "vect = CountVectorizer(stop_words=\"english\")\n",
        "print(vect.fit_transform(text).toarray())\n",
        "print(vect.vocabulary_)"
      ],
      "execution_count": 189,
      "outputs": [
        {
          "output_type": "stream",
          "name": "stdout",
          "text": [
            "[[1 1 1]]\n",
            "{'family': 0, 'important': 1, 'thing': 2}\n"
          ]
        }
      ]
    },
    {
      "cell_type": "markdown",
      "metadata": {
        "id": "UAJEih2vphH5"
      },
      "source": [
        "- NLTK에서 지원하는 불용어 사용"
      ]
    },
    {
      "cell_type": "code",
      "metadata": {
        "colab": {
          "base_uri": "https://localhost:8080/"
        },
        "id": "saqs79b3pKc6",
        "outputId": "2caf3244-229e-44b0-8610-fa6425f6093b"
      },
      "source": [
        "from sklearn.feature_extraction.text import CountVectorizer\n",
        "from nltk.corpus import stopwords\n",
        "\n",
        "text=[\"Family is not an important thing. It's everything.\"]\n",
        "sw = stopwords.words(\"english\")\n",
        "vect = CountVectorizer(stop_words =sw)\n",
        "print(vect.fit_transform(text).toarray())\n",
        "print(vect.vocabulary_)"
      ],
      "execution_count": 190,
      "outputs": [
        {
          "output_type": "stream",
          "name": "stdout",
          "text": [
            "[[1 1 1 1]]\n",
            "{'family': 1, 'important': 2, 'thing': 3, 'everything': 0}\n"
          ]
        }
      ]
    },
    {
      "cell_type": "markdown",
      "metadata": {
        "id": "QJC__UG_uoiw"
      },
      "source": [
        "# 7. 문헌 용어 행렬(Document-Term Matrix, DTM)\n"
      ]
    },
    {
      "cell_type": "markdown",
      "metadata": {
        "id": "jAt5dFohvCjY"
      },
      "source": [
        "- 희소 표현(Sparse representation)\n",
        "- 단순 빈도 수 기반 접근\n",
        "\n",
        "\n"
      ]
    },
    {
      "cell_type": "markdown",
      "metadata": {
        "id": "1xYzJZUMvhu_"
      },
      "source": [
        "- TF-IDF(Term Frequency-Inverse Document Frequency)\n",
        " - TF-IDF는 개별 문서에서 자주 나타나는 단어에 높은 가중치를 주되, 모든 문서에서 전반적으로 자주 나타나는 단어에 대해서는 패널티를 주는 방식으로 값을 부여\n"
      ]
    },
    {
      "cell_type": "markdown",
      "metadata": {
        "id": "Gzhnlsq7400F"
      },
      "source": [
        "- sklearn을 이용한 DTM과 TF-IDF 실습"
      ]
    },
    {
      "cell_type": "code",
      "metadata": {
        "colab": {
          "base_uri": "https://localhost:8080/"
        },
        "id": "jhx7BCqq4vig",
        "outputId": "fdbc9e7b-bf51-4ba3-ba02-08cf705ef805"
      },
      "source": [
        "from sklearn.feature_extraction.text import CountVectorizer\n",
        "corpus = [\n",
        "    'you know I want your love',\n",
        "    'I like you',\n",
        "    'what should I do ',\n",
        "]\n",
        "vector = CountVectorizer()\n",
        "print(vector.fit_transform(corpus).toarray()) # 코퍼스로부터 각 단어의 빈도 수를 기록한다.\n",
        "print(vector.vocabulary_) # 각 단어의 인덱스가 어떻게 부여되었는지를 보여준다."
      ],
      "execution_count": 191,
      "outputs": [
        {
          "output_type": "stream",
          "name": "stdout",
          "text": [
            "[[0 1 0 1 0 1 0 1 1]\n",
            " [0 0 1 0 0 0 0 1 0]\n",
            " [1 0 0 0 1 0 1 0 0]]\n",
            "{'you': 7, 'know': 1, 'want': 5, 'your': 8, 'love': 3, 'like': 2, 'what': 6, 'should': 4, 'do': 0}\n"
          ]
        }
      ]
    },
    {
      "cell_type": "code",
      "metadata": {
        "colab": {
          "base_uri": "https://localhost:8080/"
        },
        "id": "qovwyeEf45jB",
        "outputId": "41e703d6-04cc-44b1-8ce7-fb885737769f"
      },
      "source": [
        "from sklearn.feature_extraction.text import TfidfVectorizer\n",
        "corpus = [\n",
        "    'you know I want your love',\n",
        "    'I like you',\n",
        "    'what should I do ',\n",
        "]\n",
        "tfidfv = TfidfVectorizer().fit(corpus)\n",
        "print(tfidfv.transform(corpus).toarray())\n",
        "print(tfidfv.vocabulary_)"
      ],
      "execution_count": 192,
      "outputs": [
        {
          "output_type": "stream",
          "name": "stdout",
          "text": [
            "[[0.         0.46735098 0.         0.46735098 0.         0.46735098\n",
            "  0.         0.35543247 0.46735098]\n",
            " [0.         0.         0.79596054 0.         0.         0.\n",
            "  0.         0.60534851 0.        ]\n",
            " [0.57735027 0.         0.         0.         0.57735027 0.\n",
            "  0.57735027 0.         0.        ]]\n",
            "{'you': 7, 'know': 1, 'want': 5, 'your': 8, 'love': 3, 'like': 2, 'what': 6, 'should': 4, 'do': 0}\n"
          ]
        }
      ]
    },
    {
      "cell_type": "code",
      "source": [
        "news = pd.read_csv(\"news.csv\", index_col=0)\n",
        "news"
      ],
      "metadata": {
        "colab": {
          "base_uri": "https://localhost:8080/",
          "height": 423
        },
        "id": "5gBjeVrko82t",
        "outputId": "e5c03b7a-5a8c-4075-fd0a-d3c83c816602"
      },
      "execution_count": 243,
      "outputs": [
        {
          "output_type": "execute_result",
          "data": {
            "text/plain": [
              "     label                                           articles\n",
              "0        0  게티이미지뱅크 콩나물(사진)은 대두를 발아시켜 뿌리를 자라게 한 것이다. 동의보감에...\n",
              "1        0  사진 한 장 없이 떠난 일지 스님 불교 현실에 대한 질타 등 생전에 연재했던 글, ...\n",
              "2        0  이재익의 아재음악 열전전태관(왼쪽)과 김종진. <한겨레> 자료사진 2018년을 얼마...\n",
              "3        0  서울대병원 제공서울대병원은 올해 1월부터 국내에서 독자적으로 개발한 인공지능 기술을...\n",
              "4        0  ㆍ2.1㎓ 속도 ‘엑시노스 오토 V9’ㆍ2021년 생산 차량부터 탑재2021년 생산...\n",
              "..     ...                                                ...\n",
              "395      1  박정호 SK텔레콤 사장이 SK브로드밴드 사장을 겸직한 이후 첫 행보로 ‘옥수수 연합...\n",
              "396      1  LG전자가 세계 최초 88인치 8K OLED TV를 내놓는다. 인공지능(AI) 기술...\n",
              "397      1  게임은 사회악 아닌 건전한 놀이문화(지디넷코리아=이도원 기자)\"게임산업 전체의 발전...\n",
              "398      1  10여년 만에 매출예상치 하향…주가도 폭락(지디넷코리아=김익현 기자)최근 10년 여...\n",
              "399      1  [머니투데이 판교(경기)=김지영 기자] [최대주주 지분 매각설에 '긴장감' 흘러…게...\n",
              "\n",
              "[400 rows x 2 columns]"
            ],
            "text/html": [
              "\n",
              "\n",
              "  <div id=\"df-7533aa05-1e51-4ecd-b3c1-45ad822790b7\">\n",
              "    <div class=\"colab-df-container\">\n",
              "      <div>\n",
              "<style scoped>\n",
              "    .dataframe tbody tr th:only-of-type {\n",
              "        vertical-align: middle;\n",
              "    }\n",
              "\n",
              "    .dataframe tbody tr th {\n",
              "        vertical-align: top;\n",
              "    }\n",
              "\n",
              "    .dataframe thead th {\n",
              "        text-align: right;\n",
              "    }\n",
              "</style>\n",
              "<table border=\"1\" class=\"dataframe\">\n",
              "  <thead>\n",
              "    <tr style=\"text-align: right;\">\n",
              "      <th></th>\n",
              "      <th>label</th>\n",
              "      <th>articles</th>\n",
              "    </tr>\n",
              "  </thead>\n",
              "  <tbody>\n",
              "    <tr>\n",
              "      <th>0</th>\n",
              "      <td>0</td>\n",
              "      <td>게티이미지뱅크 콩나물(사진)은 대두를 발아시켜 뿌리를 자라게 한 것이다. 동의보감에...</td>\n",
              "    </tr>\n",
              "    <tr>\n",
              "      <th>1</th>\n",
              "      <td>0</td>\n",
              "      <td>사진 한 장 없이 떠난 일지 스님 불교 현실에 대한 질타 등 생전에 연재했던 글, ...</td>\n",
              "    </tr>\n",
              "    <tr>\n",
              "      <th>2</th>\n",
              "      <td>0</td>\n",
              "      <td>이재익의 아재음악 열전전태관(왼쪽)과 김종진. &lt;한겨레&gt; 자료사진 2018년을 얼마...</td>\n",
              "    </tr>\n",
              "    <tr>\n",
              "      <th>3</th>\n",
              "      <td>0</td>\n",
              "      <td>서울대병원 제공서울대병원은 올해 1월부터 국내에서 독자적으로 개발한 인공지능 기술을...</td>\n",
              "    </tr>\n",
              "    <tr>\n",
              "      <th>4</th>\n",
              "      <td>0</td>\n",
              "      <td>ㆍ2.1㎓ 속도 ‘엑시노스 오토 V9’ㆍ2021년 생산 차량부터 탑재2021년 생산...</td>\n",
              "    </tr>\n",
              "    <tr>\n",
              "      <th>...</th>\n",
              "      <td>...</td>\n",
              "      <td>...</td>\n",
              "    </tr>\n",
              "    <tr>\n",
              "      <th>395</th>\n",
              "      <td>1</td>\n",
              "      <td>박정호 SK텔레콤 사장이 SK브로드밴드 사장을 겸직한 이후 첫 행보로 ‘옥수수 연합...</td>\n",
              "    </tr>\n",
              "    <tr>\n",
              "      <th>396</th>\n",
              "      <td>1</td>\n",
              "      <td>LG전자가 세계 최초 88인치 8K OLED TV를 내놓는다. 인공지능(AI) 기술...</td>\n",
              "    </tr>\n",
              "    <tr>\n",
              "      <th>397</th>\n",
              "      <td>1</td>\n",
              "      <td>게임은 사회악 아닌 건전한 놀이문화(지디넷코리아=이도원 기자)\"게임산업 전체의 발전...</td>\n",
              "    </tr>\n",
              "    <tr>\n",
              "      <th>398</th>\n",
              "      <td>1</td>\n",
              "      <td>10여년 만에 매출예상치 하향…주가도 폭락(지디넷코리아=김익현 기자)최근 10년 여...</td>\n",
              "    </tr>\n",
              "    <tr>\n",
              "      <th>399</th>\n",
              "      <td>1</td>\n",
              "      <td>[머니투데이 판교(경기)=김지영 기자] [최대주주 지분 매각설에 '긴장감' 흘러…게...</td>\n",
              "    </tr>\n",
              "  </tbody>\n",
              "</table>\n",
              "<p>400 rows × 2 columns</p>\n",
              "</div>\n",
              "      <button class=\"colab-df-convert\" onclick=\"convertToInteractive('df-7533aa05-1e51-4ecd-b3c1-45ad822790b7')\"\n",
              "              title=\"Convert this dataframe to an interactive table.\"\n",
              "              style=\"display:none;\">\n",
              "\n",
              "  <svg xmlns=\"http://www.w3.org/2000/svg\" height=\"24px\"viewBox=\"0 0 24 24\"\n",
              "       width=\"24px\">\n",
              "    <path d=\"M0 0h24v24H0V0z\" fill=\"none\"/>\n",
              "    <path d=\"M18.56 5.44l.94 2.06.94-2.06 2.06-.94-2.06-.94-.94-2.06-.94 2.06-2.06.94zm-11 1L8.5 8.5l.94-2.06 2.06-.94-2.06-.94L8.5 2.5l-.94 2.06-2.06.94zm10 10l.94 2.06.94-2.06 2.06-.94-2.06-.94-.94-2.06-.94 2.06-2.06.94z\"/><path d=\"M17.41 7.96l-1.37-1.37c-.4-.4-.92-.59-1.43-.59-.52 0-1.04.2-1.43.59L10.3 9.45l-7.72 7.72c-.78.78-.78 2.05 0 2.83L4 21.41c.39.39.9.59 1.41.59.51 0 1.02-.2 1.41-.59l7.78-7.78 2.81-2.81c.8-.78.8-2.07 0-2.86zM5.41 20L4 18.59l7.72-7.72 1.47 1.35L5.41 20z\"/>\n",
              "  </svg>\n",
              "      </button>\n",
              "\n",
              "\n",
              "\n",
              "    <div id=\"df-52d85bdb-e43c-47a6-876b-db066d3b10e0\">\n",
              "      <button class=\"colab-df-quickchart\" onclick=\"quickchart('df-52d85bdb-e43c-47a6-876b-db066d3b10e0')\"\n",
              "              title=\"Suggest charts.\"\n",
              "              style=\"display:none;\">\n",
              "\n",
              "<svg xmlns=\"http://www.w3.org/2000/svg\" height=\"24px\"viewBox=\"0 0 24 24\"\n",
              "     width=\"24px\">\n",
              "    <g>\n",
              "        <path d=\"M19 3H5c-1.1 0-2 .9-2 2v14c0 1.1.9 2 2 2h14c1.1 0 2-.9 2-2V5c0-1.1-.9-2-2-2zM9 17H7v-7h2v7zm4 0h-2V7h2v10zm4 0h-2v-4h2v4z\"/>\n",
              "    </g>\n",
              "</svg>\n",
              "      </button>\n",
              "    </div>\n",
              "\n",
              "<style>\n",
              "  .colab-df-quickchart {\n",
              "    background-color: #E8F0FE;\n",
              "    border: none;\n",
              "    border-radius: 50%;\n",
              "    cursor: pointer;\n",
              "    display: none;\n",
              "    fill: #1967D2;\n",
              "    height: 32px;\n",
              "    padding: 0 0 0 0;\n",
              "    width: 32px;\n",
              "  }\n",
              "\n",
              "  .colab-df-quickchart:hover {\n",
              "    background-color: #E2EBFA;\n",
              "    box-shadow: 0px 1px 2px rgba(60, 64, 67, 0.3), 0px 1px 3px 1px rgba(60, 64, 67, 0.15);\n",
              "    fill: #174EA6;\n",
              "  }\n",
              "\n",
              "  [theme=dark] .colab-df-quickchart {\n",
              "    background-color: #3B4455;\n",
              "    fill: #D2E3FC;\n",
              "  }\n",
              "\n",
              "  [theme=dark] .colab-df-quickchart:hover {\n",
              "    background-color: #434B5C;\n",
              "    box-shadow: 0px 1px 3px 1px rgba(0, 0, 0, 0.15);\n",
              "    filter: drop-shadow(0px 1px 2px rgba(0, 0, 0, 0.3));\n",
              "    fill: #FFFFFF;\n",
              "  }\n",
              "</style>\n",
              "\n",
              "    <script>\n",
              "      async function quickchart(key) {\n",
              "        const containerElement = document.querySelector('#' + key);\n",
              "        const charts = await google.colab.kernel.invokeFunction(\n",
              "            'suggestCharts', [key], {});\n",
              "      }\n",
              "    </script>\n",
              "\n",
              "      <script>\n",
              "\n",
              "function displayQuickchartButton(domScope) {\n",
              "  let quickchartButtonEl =\n",
              "    domScope.querySelector('#df-52d85bdb-e43c-47a6-876b-db066d3b10e0 button.colab-df-quickchart');\n",
              "  quickchartButtonEl.style.display =\n",
              "    google.colab.kernel.accessAllowed ? 'block' : 'none';\n",
              "}\n",
              "\n",
              "        displayQuickchartButton(document);\n",
              "      </script>\n",
              "      <style>\n",
              "    .colab-df-container {\n",
              "      display:flex;\n",
              "      flex-wrap:wrap;\n",
              "      gap: 12px;\n",
              "    }\n",
              "\n",
              "    .colab-df-convert {\n",
              "      background-color: #E8F0FE;\n",
              "      border: none;\n",
              "      border-radius: 50%;\n",
              "      cursor: pointer;\n",
              "      display: none;\n",
              "      fill: #1967D2;\n",
              "      height: 32px;\n",
              "      padding: 0 0 0 0;\n",
              "      width: 32px;\n",
              "    }\n",
              "\n",
              "    .colab-df-convert:hover {\n",
              "      background-color: #E2EBFA;\n",
              "      box-shadow: 0px 1px 2px rgba(60, 64, 67, 0.3), 0px 1px 3px 1px rgba(60, 64, 67, 0.15);\n",
              "      fill: #174EA6;\n",
              "    }\n",
              "\n",
              "    [theme=dark] .colab-df-convert {\n",
              "      background-color: #3B4455;\n",
              "      fill: #D2E3FC;\n",
              "    }\n",
              "\n",
              "    [theme=dark] .colab-df-convert:hover {\n",
              "      background-color: #434B5C;\n",
              "      box-shadow: 0px 1px 3px 1px rgba(0, 0, 0, 0.15);\n",
              "      filter: drop-shadow(0px 1px 2px rgba(0, 0, 0, 0.3));\n",
              "      fill: #FFFFFF;\n",
              "    }\n",
              "  </style>\n",
              "\n",
              "      <script>\n",
              "        const buttonEl =\n",
              "          document.querySelector('#df-7533aa05-1e51-4ecd-b3c1-45ad822790b7 button.colab-df-convert');\n",
              "        buttonEl.style.display =\n",
              "          google.colab.kernel.accessAllowed ? 'block' : 'none';\n",
              "\n",
              "        async function convertToInteractive(key) {\n",
              "          const element = document.querySelector('#df-7533aa05-1e51-4ecd-b3c1-45ad822790b7');\n",
              "          const dataTable =\n",
              "            await google.colab.kernel.invokeFunction('convertToInteractive',\n",
              "                                                     [key], {});\n",
              "          if (!dataTable) return;\n",
              "\n",
              "          const docLinkHtml = 'Like what you see? Visit the ' +\n",
              "            '<a target=\"_blank\" href=https://colab.research.google.com/notebooks/data_table.ipynb>data table notebook</a>'\n",
              "            + ' to learn more about interactive tables.';\n",
              "          element.innerHTML = '';\n",
              "          dataTable['output_type'] = 'display_data';\n",
              "          await google.colab.output.renderOutput(dataTable, element);\n",
              "          const docLink = document.createElement('div');\n",
              "          docLink.innerHTML = docLinkHtml;\n",
              "          element.appendChild(docLink);\n",
              "        }\n",
              "      </script>\n",
              "    </div>\n",
              "  </div>\n"
            ]
          },
          "metadata": {},
          "execution_count": 243
        }
      ]
    },
    {
      "cell_type": "code",
      "source": [
        "!pip install konlpy\n",
        "\n",
        "from konlpy.tag import Okt\n",
        "okt = Okt() #Kkma, Hannanum....\n",
        "okt.nouns( news.articles[0] )  #수집된 첫번째 기사에 대한 명사\n",
        "\n",
        "def tokenizer(text):  #함수를 만드는 부분\n",
        "    # 입력 인자로 들어온 text 를 형태소 단어로 토큰화 하여 list 객체 반환\n",
        "    tokens_ko = okt.nouns(text) #nouns를 morphs로 바꾸면 명사외에도...\n",
        "    return tokens_ko\n"
      ],
      "metadata": {
        "colab": {
          "base_uri": "https://localhost:8080/"
        },
        "id": "hdQWt20RoqkM",
        "outputId": "a1982ead-d66d-46b6-ff36-312cc08c476e"
      },
      "execution_count": 244,
      "outputs": [
        {
          "output_type": "stream",
          "name": "stdout",
          "text": [
            "Requirement already satisfied: konlpy in /usr/local/lib/python3.10/dist-packages (0.6.0)\n",
            "Requirement already satisfied: JPype1>=0.7.0 in /usr/local/lib/python3.10/dist-packages (from konlpy) (1.4.1)\n",
            "Requirement already satisfied: lxml>=4.1.0 in /usr/local/lib/python3.10/dist-packages (from konlpy) (4.9.3)\n",
            "Requirement already satisfied: numpy>=1.6 in /usr/local/lib/python3.10/dist-packages (from konlpy) (1.22.4)\n",
            "Requirement already satisfied: packaging in /usr/local/lib/python3.10/dist-packages (from JPype1>=0.7.0->konlpy) (23.1)\n"
          ]
        }
      ]
    },
    {
      "cell_type": "code",
      "source": [
        "from sklearn.feature_extraction.text import CountVectorizer\n",
        "from sklearn.feature_extraction.text import TfidfVectorizer\n",
        "\n",
        "tf_vect = TfidfVectorizer(tokenizer=tokenizer,\n",
        "                          #바뀐곳-stop_words로 잡힌 단어를 제거\n",
        "                          stop_words=['건','악','최', '초','총', '탈', '폭'],\n",
        "                          #바뀐곳-0~1사이의 값, 단어\n",
        "                          min_df=0.1)\n",
        "dtm = tf_vect.fit_transform( news.articles )\n",
        "dtm\n"
      ],
      "metadata": {
        "colab": {
          "base_uri": "https://localhost:8080/"
        },
        "id": "l2kAWZTQ9huV",
        "outputId": "99279e6d-0cf8-41cc-aa7f-836fce08a6c7"
      },
      "execution_count": 245,
      "outputs": [
        {
          "output_type": "stream",
          "name": "stderr",
          "text": [
            "/usr/local/lib/python3.10/dist-packages/sklearn/feature_extraction/text.py:528: UserWarning: The parameter 'token_pattern' will not be used since 'tokenizer' is not None'\n",
            "  warnings.warn(\n"
          ]
        },
        {
          "output_type": "execute_result",
          "data": {
            "text/plain": [
              "<400x364 sparse matrix of type '<class 'numpy.float64'>'\n",
              "\twith 29578 stored elements in Compressed Sparse Row format>"
            ]
          },
          "metadata": {},
          "execution_count": 245
        }
      ]
    },
    {
      "cell_type": "markdown",
      "metadata": {
        "id": "R4xH_31iez6P"
      },
      "source": [
        "- 20 Newsgroup 분류 실습\n",
        " - 188846개의 뉴스 20개의 뉴스 카테고리로 분류하기.\n",
        "\n"
      ]
    },
    {
      "cell_type": "code",
      "metadata": {
        "id": "XyPA1h_-fmAL"
      },
      "source": [
        "from sklearn.datasets import fetch_20newsgroups\n",
        "\n",
        "news_data = fetch_20newsgroups(subset = 'all', random_state = 42)"
      ],
      "execution_count": 193,
      "outputs": []
    },
    {
      "cell_type": "code",
      "metadata": {
        "colab": {
          "base_uri": "https://localhost:8080/"
        },
        "id": "w8hkat9-fwm1",
        "outputId": "a1ae3d95-18d1-40d0-f8a6-ac6c2b694b03"
      },
      "source": [
        "print(news_data.keys())"
      ],
      "execution_count": 194,
      "outputs": [
        {
          "output_type": "stream",
          "name": "stdout",
          "text": [
            "dict_keys(['data', 'filenames', 'target_names', 'target', 'DESCR'])\n"
          ]
        }
      ]
    },
    {
      "cell_type": "code",
      "metadata": {
        "colab": {
          "base_uri": "https://localhost:8080/"
        },
        "id": "VQlsRCBkfwpP",
        "outputId": "4eac1104-02f1-4d72-8e91-1dcdfbd1c76b"
      },
      "source": [
        "import pandas as pd\n",
        "\n",
        "print('target 클래스 및 빈도 \\n',pd.Series(news_data.target).value_counts().sort_index())\n",
        "print('target 명칭 \\n',news_data.target_names)"
      ],
      "execution_count": 196,
      "outputs": [
        {
          "output_type": "stream",
          "name": "stdout",
          "text": [
            "target 클래스 및 빈도 \n",
            " 0     799\n",
            "1     973\n",
            "2     985\n",
            "3     982\n",
            "4     963\n",
            "5     988\n",
            "6     975\n",
            "7     990\n",
            "8     996\n",
            "9     994\n",
            "10    999\n",
            "11    991\n",
            "12    984\n",
            "13    990\n",
            "14    987\n",
            "15    997\n",
            "16    910\n",
            "17    940\n",
            "18    775\n",
            "19    628\n",
            "dtype: int64\n",
            "target 명칭 \n",
            " ['alt.atheism', 'comp.graphics', 'comp.os.ms-windows.misc', 'comp.sys.ibm.pc.hardware', 'comp.sys.mac.hardware', 'comp.windows.x', 'misc.forsale', 'rec.autos', 'rec.motorcycles', 'rec.sport.baseball', 'rec.sport.hockey', 'sci.crypt', 'sci.electronics', 'sci.med', 'sci.space', 'soc.religion.christian', 'talk.politics.guns', 'talk.politics.mideast', 'talk.politics.misc', 'talk.religion.misc']\n"
          ]
        }
      ]
    },
    {
      "cell_type": "code",
      "metadata": {
        "colab": {
          "base_uri": "https://localhost:8080/"
        },
        "id": "4PB7Pk3gmPmE",
        "outputId": "a1170746-ce9a-40bc-b44d-1f088ff6a9c5"
      },
      "source": [
        "print(news_data.data[0])"
      ],
      "execution_count": 197,
      "outputs": [
        {
          "output_type": "stream",
          "name": "stdout",
          "text": [
            "From: Mamatha Devineni Ratnam <mr47+@andrew.cmu.edu>\n",
            "Subject: Pens fans reactions\n",
            "Organization: Post Office, Carnegie Mellon, Pittsburgh, PA\n",
            "Lines: 12\n",
            "NNTP-Posting-Host: po4.andrew.cmu.edu\n",
            "\n",
            "\n",
            "\n",
            "I am sure some bashers of Pens fans are pretty confused about the lack\n",
            "of any kind of posts about the recent Pens massacre of the Devils. Actually,\n",
            "I am  bit puzzled too and a bit relieved. However, I am going to put an end\n",
            "to non-PIttsburghers' relief with a bit of praise for the Pens. Man, they\n",
            "are killing those Devils worse than I thought. Jagr just showed you why\n",
            "he is much better than his regular season stats. He is also a lot\n",
            "fo fun to watch in the playoffs. Bowman should let JAgr have a lot of\n",
            "fun in the next couple of games since the Pens are going to beat the pulp out of Jersey anyway. I was very disappointed not to see the Islanders lose the final\n",
            "regular season game.          PENS RULE!!!\n",
            "\n",
            "\n"
          ]
        }
      ]
    },
    {
      "cell_type": "code",
      "metadata": {
        "colab": {
          "base_uri": "https://localhost:8080/"
        },
        "id": "y7dsnel5mQja",
        "outputId": "6fe7a64d-fef9-4a98-9169-0a3b38b592f5"
      },
      "source": [
        "from sklearn.datasets import fetch_20newsgroups\n",
        "\n",
        "# subset='train'으로 학습용(Train) 데이터만 추출, remove=('headers', 'footers', 'quotes')로 내용만 추출\n",
        "train_news= fetch_20newsgroups(subset='train', remove=('headers', 'footers', 'quotes'), random_state=156)\n",
        "X_train = train_news.data\n",
        "y_train = train_news.target\n",
        "print(type(X_train))\n",
        "\n",
        "# subset='test'으로 테스트(Test) 데이터만 추출, remove=('headers', 'footers', 'quotes')로 내용만 추출\n",
        "test_news= fetch_20newsgroups(subset='test',remove=('headers', 'footers','quotes'),random_state=156)\n",
        "X_test = test_news.data\n",
        "y_test = test_news.target\n",
        "print('train set size {0} , test set size {1}'.format(len(train_news.data) , len(test_news.data)))"
      ],
      "execution_count": 199,
      "outputs": [
        {
          "output_type": "stream",
          "name": "stdout",
          "text": [
            "<class 'list'>\n",
            "train set size 11314 , test set size 7532\n"
          ]
        }
      ]
    },
    {
      "cell_type": "code",
      "metadata": {
        "colab": {
          "base_uri": "https://localhost:8080/"
        },
        "id": "LSyZNW2ImQmK",
        "outputId": "2f1f1faa-07fd-4375-d8bf-0ad9909ee73e"
      },
      "source": [
        "from sklearn.feature_extraction.text import CountVectorizer\n",
        "\n",
        "# Count Vectorization으로 feature extraction 변환 수행.\n",
        "cnt_vect = CountVectorizer()\n",
        "cnt_vect.fit(X_train , y_train) #cnt_ect.fit_transform(X_train,y_train)\n",
        "X_train_cnt_vect = cnt_vect.transform(X_train)\n",
        "\n",
        "# 학습 데이터로 fit( )된 CountVectorizer를 이용하여 테스트 데이터를 feature extraction 변환 수행.\n",
        "X_test_cnt_vect = cnt_vect.transform(X_test)\n",
        "\n",
        "print('학습 데이터 Text의 CountVectorizer Shape:',X_train_cnt_vect.shape)"
      ],
      "execution_count": 200,
      "outputs": [
        {
          "output_type": "stream",
          "name": "stdout",
          "text": [
            "학습 데이터 Text의 CountVectorizer Shape: (11314, 101631)\n"
          ]
        }
      ]
    },
    {
      "cell_type": "code",
      "metadata": {
        "colab": {
          "base_uri": "https://localhost:8080/"
        },
        "id": "FYB3rasBmQom",
        "outputId": "3b2fd14c-c537-4d6c-ded0-c33091a41263"
      },
      "source": [
        "from sklearn.linear_model import LogisticRegression\n",
        "from sklearn.metrics import accuracy_score\n",
        "\n",
        "# LogisticRegression을 이용하여 학습/예측/평가 수행.\n",
        "lr_clf = LogisticRegression()\n",
        "lr_clf.fit(X_train_cnt_vect , y_train)\n",
        "pred = lr_clf.predict(X_test_cnt_vect)\n",
        "print('CountVectorized Logistic Regression precision {0:.3f}'.format(accuracy_score(y_test,pred)))"
      ],
      "execution_count": 201,
      "outputs": [
        {
          "output_type": "stream",
          "name": "stdout",
          "text": [
            "CountVectorized Logistic Regression 의 예측 정확도는 0.606\n"
          ]
        },
        {
          "output_type": "stream",
          "name": "stderr",
          "text": [
            "/usr/local/lib/python3.10/dist-packages/sklearn/linear_model/_logistic.py:458: ConvergenceWarning: lbfgs failed to converge (status=1):\n",
            "STOP: TOTAL NO. of ITERATIONS REACHED LIMIT.\n",
            "\n",
            "Increase the number of iterations (max_iter) or scale the data as shown in:\n",
            "    https://scikit-learn.org/stable/modules/preprocessing.html\n",
            "Please also refer to the documentation for alternative solver options:\n",
            "    https://scikit-learn.org/stable/modules/linear_model.html#logistic-regression\n",
            "  n_iter_i = _check_optimize_result(\n"
          ]
        }
      ]
    },
    {
      "cell_type": "code",
      "metadata": {
        "colab": {
          "base_uri": "https://localhost:8080/"
        },
        "id": "_kvF4-D5mQrC",
        "outputId": "1cb4684d-4e89-4864-db44-fd6cf70c23de"
      },
      "source": [
        "from sklearn.feature_extraction.text import TfidfVectorizer\n",
        "\n",
        "# TF-IDF Vectorization 적용하여 학습 데이터셋과 테스트 데이터 셋 변환.\n",
        "tfidf_vect = TfidfVectorizer()\n",
        "tfidf_vect.fit(X_train)\n",
        "X_train_tfidf_vect = tfidf_vect.transform(X_train)\n",
        "X_test_tfidf_vect = tfidf_vect.transform(X_test)\n",
        "\n",
        "# LogisticRegression을 이용하여 학습/예측/평가 수행.\n",
        "lr_clf = LogisticRegression()\n",
        "lr_clf.fit(X_train_tfidf_vect , y_train)\n",
        "pred = lr_clf.predict(X_test_tfidf_vect)\n",
        "print('TF-IDF Logistic Regression 의 예측 정확도는 {0:.3f}'.format(accuracy_score(y_test ,pred)))"
      ],
      "execution_count": 202,
      "outputs": [
        {
          "output_type": "stream",
          "name": "stdout",
          "text": [
            "TF-IDF Logistic Regression 의 예측 정확도는 0.674\n"
          ]
        }
      ]
    },
    {
      "cell_type": "code",
      "metadata": {
        "colab": {
          "base_uri": "https://localhost:8080/"
        },
        "id": "KUQoDvnNmQtb",
        "outputId": "a6184021-f316-4117-a63b-b5dbbc804b1a"
      },
      "source": [
        "# stop words 필터링을 추가하고 ngram을 기본(1,1)에서 (1,2)로 변경하여 Feature Vectorization 적용.\n",
        "tfidf_vect = TfidfVectorizer(stop_words='english',max_df=300 )\n",
        "tfidf_vect.fit(X_train)\n",
        "X_train_tfidf_vect = tfidf_vect.transform(X_train)\n",
        "X_test_tfidf_vect = tfidf_vect.transform(X_test)\n",
        "\n",
        "lr_clf = LogisticRegression()\n",
        "lr_clf.fit(X_train_tfidf_vect , y_train)\n",
        "pred = lr_clf.predict(X_test_tfidf_vect)\n",
        "print('TF-IDF Vectorized Logistic Regression 의 예측 정확도는 {0:.3f}'.format(accuracy_score(y_test ,pred)))"
      ],
      "execution_count": 204,
      "outputs": [
        {
          "output_type": "stream",
          "name": "stdout",
          "text": [
            "TF-IDF Vectorized Logistic Regression 의 예측 정확도는 0.690\n"
          ]
        }
      ]
    },
    {
      "cell_type": "code",
      "metadata": {
        "colab": {
          "base_uri": "https://localhost:8080/"
        },
        "id": "DGyGKFEgmYxz",
        "outputId": "30a02860-2015-4337-89c6-1e882da09f3a"
      },
      "source": [
        "from sklearn.model_selection import GridSearchCV\n",
        "\n",
        "# 최적 C 값 도출 튜닝 수행. CV는 3 Fold셋으로 설정.\n",
        "params = { 'C':[0.01, 0.1]}\n",
        "grid_cv_lr = GridSearchCV(lr_clf ,param_grid=params , cv=3 , scoring='accuracy' , verbose=1 )\n",
        "grid_cv_lr.fit(X_train_tfidf_vect , y_train)\n",
        "print('Logistic Regression best C parameter :',grid_cv_lr.best_params_ )\n",
        "\n",
        "# 최적 C 값으로 학습된 grid_cv로 예측 수행하고 정확도 평가.\n",
        "pred = grid_cv_lr.predict(X_test_tfidf_vect)\n",
        "print('TF-IDF Vectorized Logistic Regression 의 예측 정확도는 {0:.3f}'.format(accuracy_score(y_test ,pred)))"
      ],
      "execution_count": 237,
      "outputs": [
        {
          "output_type": "stream",
          "name": "stdout",
          "text": [
            "Fitting 3 folds for each of 2 candidates, totalling 6 fits\n",
            "Logistic Regression best C parameter : {'C': 0.1}\n",
            "TF-IDF Vectorized Logistic Regression 의 예측 정확도는 0.659\n"
          ]
        }
      ]
    },
    {
      "cell_type": "markdown",
      "metadata": {
        "id": "f0t9wthdmbi5"
      },
      "source": [
        "- sklearn의 파이프라인(Pipeline) 사용 및 GridSearchCV와의 결합"
      ]
    },
    {
      "cell_type": "code",
      "metadata": {
        "id": "d0bK3jz8mY0-"
      },
      "source": [
        "from sklearn.pipeline import Pipeline\n",
        "\n",
        "# TfidfVectorizer 객체를 tfidf_vect 객체명으로, LogisticRegression객체를 lr_clf 객체명으로 생성하는 Pipeline생성\n",
        "pipeline = Pipeline([\n",
        "    ('tfidf_vect', TfidfVectorizer(stop_words='english',  max_df=300)),\n",
        "    ('lr_clf', LogisticRegression(C=10))\n",
        "])\n",
        "\n",
        "# 별도의 TfidfVectorizer객체의 fit_transform( )과 LogisticRegression의 fit(), predict( )가 필요 없음.\n",
        "# pipeline의 fit( ) 과 predict( ) 만으로 한꺼번에 Feature Vectorization과 ML 학습/예측\n",
        "pipeline.fit(X_train, y_train)\n",
        "pred = pipeline.predict(X_test)\n",
        "print('Pipeline을 통한 Logistic Regression 의 예측 정확도는 {0:.3f}'.format(accuracy_score(y_test ,pred)))"
      ],
      "execution_count": null,
      "outputs": []
    }
  ]
}