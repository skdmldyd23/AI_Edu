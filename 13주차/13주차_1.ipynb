{
  "nbformat": 4,
  "nbformat_minor": 0,
  "metadata": {
    "colab": {
      "provenance": [],
      "toc_visible": true
    },
    "kernelspec": {
      "name": "python3",
      "display_name": "Python 3"
    },
    "language_info": {
      "name": "python"
    }
  },
  "cells": [
    {
      "cell_type": "markdown",
      "source": [
        "# TensorFlow로 ANN 시작하기"
      ],
      "metadata": {
        "id": "-5tldUu0CFuG"
      }
    },
    {
      "cell_type": "markdown",
      "source": [
        "Sequential 객체에다가 레이어를 add해준다(Dense)  \n",
        "이후 compile, fitting을 진행하면 되는데,  \n",
        "범주형인 경우 OHE 필요"
      ],
      "metadata": {
        "id": "25z33n5pvZ1p"
      }
    },
    {
      "cell_type": "code",
      "execution_count": null,
      "metadata": {
        "id": "Fy87cJCLCC3z"
      },
      "outputs": [],
      "source": [
        "import numpy as np\n",
        "import tensorflow as tf\n",
        "import matplotlib.pyplot as plt\n",
        "\n",
        "from tensorflow.keras.models import Sequential\n",
        "from tensorflow.keras.layers import Dense\n",
        "from tensorflow.keras.optimizers import SGD\n",
        "from tensorflow.keras.losses import mse\n",
        "\n",
        "tf.random.set_seed(1234) #random seed 설정\n"
      ]
    },
    {
      "cell_type": "code",
      "source": [
        "# 연습용 데이터\n",
        "x = np.array([[0,0],[1,0],[0,1],[1,1]])\n",
        "y = np.array([[0],[1],[1],[1]])"
      ],
      "metadata": {
        "id": "pqf9WWnNtKEP"
      },
      "execution_count": null,
      "outputs": []
    },
    {
      "cell_type": "code",
      "source": [
        "# 인공신경망 모형 구성(퍼셉트론)\n",
        "model = Sequential()\n",
        "model.add(Dense(3, input_shape = (2, ), activation = 'linear')) #\n",
        "model.add(Dense(1, activation = 'linear')) #\n",
        "#모형 컴파일\n",
        "model.compile(optimizer = 'SGD', loss = mse, metrics = ['acc']) #평가지표 설정\n",
        "#모형 학습 및 가중치 확인\n",
        "model.fit(x,y,epochs = 10)\n",
        "model.get_weights()"
      ],
      "metadata": {
        "id": "hiVRaq7qtHzE",
        "colab": {
          "base_uri": "https://localhost:8080/"
        },
        "outputId": "c57da7cd-11ca-451c-87d0-fe09c8a9903f"
      },
      "execution_count": null,
      "outputs": [
        {
          "output_type": "stream",
          "name": "stdout",
          "text": [
            "Epoch 1/10\n",
            "1/1 [==============================] - 1s 727ms/step - loss: 0.3049 - acc: 0.5000\n",
            "Epoch 2/10\n",
            "1/1 [==============================] - 0s 16ms/step - loss: 0.2735 - acc: 0.5000\n",
            "Epoch 3/10\n",
            "1/1 [==============================] - 0s 12ms/step - loss: 0.2461 - acc: 0.5000\n",
            "Epoch 4/10\n",
            "1/1 [==============================] - 0s 15ms/step - loss: 0.2223 - acc: 0.5000\n",
            "Epoch 5/10\n",
            "1/1 [==============================] - 0s 13ms/step - loss: 0.2016 - acc: 0.5000\n",
            "Epoch 6/10\n",
            "1/1 [==============================] - 0s 13ms/step - loss: 0.1837 - acc: 0.7500\n",
            "Epoch 7/10\n",
            "1/1 [==============================] - 0s 16ms/step - loss: 0.1681 - acc: 0.7500\n",
            "Epoch 8/10\n",
            "1/1 [==============================] - 0s 17ms/step - loss: 0.1546 - acc: 0.7500\n",
            "Epoch 9/10\n",
            "1/1 [==============================] - 0s 11ms/step - loss: 0.1428 - acc: 0.7500\n",
            "Epoch 10/10\n",
            "1/1 [==============================] - 0s 11ms/step - loss: 0.1327 - acc: 0.7500\n"
          ]
        },
        {
          "output_type": "execute_result",
          "data": {
            "text/plain": [
              "[array([[-0.4834229 ,  0.02008832, -0.31053188],\n",
              "        [ 0.2915391 ,  0.28329995,  1.0681624 ]], dtype=float32),\n",
              " array([-0.05197674,  0.05901272,  0.02674221], dtype=float32),\n",
              " array([[-0.7737084 ],\n",
              "        [ 0.87714547],\n",
              "        [ 0.4085653 ]], dtype=float32),\n",
              " array([0.0678226], dtype=float32)]"
            ]
          },
          "metadata": {},
          "execution_count": 3
        }
      ]
    },
    {
      "cell_type": "code",
      "source": [
        "from sklearn.neural_network import MLPClassifier\n",
        "model = MLPClassifier( hidden_layer_sizes=(3,1) )\n",
        "model.fit( x,y)"
      ],
      "metadata": {
        "id": "XcSvd4W0yMPv",
        "colab": {
          "base_uri": "https://localhost:8080/",
          "height": 167
        },
        "outputId": "31d70944-b2b2-42d9-ae65-da6a38d75633"
      },
      "execution_count": null,
      "outputs": [
        {
          "output_type": "stream",
          "name": "stderr",
          "text": [
            "/usr/local/lib/python3.10/dist-packages/sklearn/neural_network/_multilayer_perceptron.py:1098: DataConversionWarning: A column-vector y was passed when a 1d array was expected. Please change the shape of y to (n_samples, ), for example using ravel().\n",
            "  y = column_or_1d(y, warn=True)\n",
            "/usr/local/lib/python3.10/dist-packages/sklearn/neural_network/_multilayer_perceptron.py:686: ConvergenceWarning: Stochastic Optimizer: Maximum iterations (200) reached and the optimization hasn't converged yet.\n",
            "  warnings.warn(\n"
          ]
        },
        {
          "output_type": "execute_result",
          "data": {
            "text/plain": [
              "MLPClassifier(hidden_layer_sizes=(3, 1))"
            ],
            "text/html": [
              "<style>#sk-container-id-1 {color: black;background-color: white;}#sk-container-id-1 pre{padding: 0;}#sk-container-id-1 div.sk-toggleable {background-color: white;}#sk-container-id-1 label.sk-toggleable__label {cursor: pointer;display: block;width: 100%;margin-bottom: 0;padding: 0.3em;box-sizing: border-box;text-align: center;}#sk-container-id-1 label.sk-toggleable__label-arrow:before {content: \"▸\";float: left;margin-right: 0.25em;color: #696969;}#sk-container-id-1 label.sk-toggleable__label-arrow:hover:before {color: black;}#sk-container-id-1 div.sk-estimator:hover label.sk-toggleable__label-arrow:before {color: black;}#sk-container-id-1 div.sk-toggleable__content {max-height: 0;max-width: 0;overflow: hidden;text-align: left;background-color: #f0f8ff;}#sk-container-id-1 div.sk-toggleable__content pre {margin: 0.2em;color: black;border-radius: 0.25em;background-color: #f0f8ff;}#sk-container-id-1 input.sk-toggleable__control:checked~div.sk-toggleable__content {max-height: 200px;max-width: 100%;overflow: auto;}#sk-container-id-1 input.sk-toggleable__control:checked~label.sk-toggleable__label-arrow:before {content: \"▾\";}#sk-container-id-1 div.sk-estimator input.sk-toggleable__control:checked~label.sk-toggleable__label {background-color: #d4ebff;}#sk-container-id-1 div.sk-label input.sk-toggleable__control:checked~label.sk-toggleable__label {background-color: #d4ebff;}#sk-container-id-1 input.sk-hidden--visually {border: 0;clip: rect(1px 1px 1px 1px);clip: rect(1px, 1px, 1px, 1px);height: 1px;margin: -1px;overflow: hidden;padding: 0;position: absolute;width: 1px;}#sk-container-id-1 div.sk-estimator {font-family: monospace;background-color: #f0f8ff;border: 1px dotted black;border-radius: 0.25em;box-sizing: border-box;margin-bottom: 0.5em;}#sk-container-id-1 div.sk-estimator:hover {background-color: #d4ebff;}#sk-container-id-1 div.sk-parallel-item::after {content: \"\";width: 100%;border-bottom: 1px solid gray;flex-grow: 1;}#sk-container-id-1 div.sk-label:hover label.sk-toggleable__label {background-color: #d4ebff;}#sk-container-id-1 div.sk-serial::before {content: \"\";position: absolute;border-left: 1px solid gray;box-sizing: border-box;top: 0;bottom: 0;left: 50%;z-index: 0;}#sk-container-id-1 div.sk-serial {display: flex;flex-direction: column;align-items: center;background-color: white;padding-right: 0.2em;padding-left: 0.2em;position: relative;}#sk-container-id-1 div.sk-item {position: relative;z-index: 1;}#sk-container-id-1 div.sk-parallel {display: flex;align-items: stretch;justify-content: center;background-color: white;position: relative;}#sk-container-id-1 div.sk-item::before, #sk-container-id-1 div.sk-parallel-item::before {content: \"\";position: absolute;border-left: 1px solid gray;box-sizing: border-box;top: 0;bottom: 0;left: 50%;z-index: -1;}#sk-container-id-1 div.sk-parallel-item {display: flex;flex-direction: column;z-index: 1;position: relative;background-color: white;}#sk-container-id-1 div.sk-parallel-item:first-child::after {align-self: flex-end;width: 50%;}#sk-container-id-1 div.sk-parallel-item:last-child::after {align-self: flex-start;width: 50%;}#sk-container-id-1 div.sk-parallel-item:only-child::after {width: 0;}#sk-container-id-1 div.sk-dashed-wrapped {border: 1px dashed gray;margin: 0 0.4em 0.5em 0.4em;box-sizing: border-box;padding-bottom: 0.4em;background-color: white;}#sk-container-id-1 div.sk-label label {font-family: monospace;font-weight: bold;display: inline-block;line-height: 1.2em;}#sk-container-id-1 div.sk-label-container {text-align: center;}#sk-container-id-1 div.sk-container {/* jupyter's `normalize.less` sets `[hidden] { display: none; }` but bootstrap.min.css set `[hidden] { display: none !important; }` so we also need the `!important` here to be able to override the default hidden behavior on the sphinx rendered scikit-learn.org. See: https://github.com/scikit-learn/scikit-learn/issues/21755 */display: inline-block !important;position: relative;}#sk-container-id-1 div.sk-text-repr-fallback {display: none;}</style><div id=\"sk-container-id-1\" class=\"sk-top-container\"><div class=\"sk-text-repr-fallback\"><pre>MLPClassifier(hidden_layer_sizes=(3, 1))</pre><b>In a Jupyter environment, please rerun this cell to show the HTML representation or trust the notebook. <br />On GitHub, the HTML representation is unable to render, please try loading this page with nbviewer.org.</b></div><div class=\"sk-container\" hidden><div class=\"sk-item\"><div class=\"sk-estimator sk-toggleable\"><input class=\"sk-toggleable__control sk-hidden--visually\" id=\"sk-estimator-id-1\" type=\"checkbox\" checked><label for=\"sk-estimator-id-1\" class=\"sk-toggleable__label sk-toggleable__label-arrow\">MLPClassifier</label><div class=\"sk-toggleable__content\"><pre>MLPClassifier(hidden_layer_sizes=(3, 1))</pre></div></div></div></div></div>"
            ]
          },
          "metadata": {},
          "execution_count": 4
        }
      ]
    },
    {
      "cell_type": "markdown",
      "source": [
        "- 위에 있는 예제를 변형하셔서\n",
        "- 은닉층 2개인 ANN을 만드세요.\n",
        "- 은닉층1: 노드3,\n",
        "- 은닉층2: 노드1"
      ],
      "metadata": {
        "id": "e9N_CIGawKG2"
      }
    },
    {
      "cell_type": "markdown",
      "source": [
        "- Activation Function: Sigmoid VS ReLU VS TanH VS Step"
      ],
      "metadata": {
        "id": "4-hj8CLnCHg-"
      }
    },
    {
      "cell_type": "code",
      "source": [
        "\n",
        "def sigmoid(z):\n",
        "    return 1 / (1 + np.exp(-z))\n",
        "\n",
        "def relu(z):\n",
        "    return np.maximum(0, z)\n",
        "\n",
        "#함수 미분\n",
        "def derivative(f, z, eps=0.000001):\n",
        "    return (f(z + eps) - f(z - eps))/(2 * eps)\n",
        "\n",
        "z = np.linspace(-5, 5, 200)\n",
        "\n",
        "plt.figure(figsize=(11,4))\n",
        "plt.subplot(121)\n",
        "plt.plot(z, sigmoid(z), \"r--\", linewidth=2, label=\"Sigmoid\")\n",
        "plt.plot(z, relu(z), \"b-.\", linewidth=2, label=\"ReLU\")\n",
        "plt.grid(True)\n",
        "plt.legend(loc=\"center right\", fontsize=10)\n",
        "plt.title(\"Activation func\")\n",
        "\n",
        "plt.subplot(122)\n",
        "#plt.plot(z, derivative(np.sign, z), \"r-\", linewidth=1, label=\"Step\")\n",
        "#plt.plot(0, 0, \"ro\", markersize=5)\n",
        "#plt.plot(0, 0, \"rx\", markersize=10)\n",
        "plt.plot(z, derivative(sigmoid, z), \"r--\", linewidth=2, label=\"Sigmoid\")\n",
        "plt.plot(z, derivative(relu, z), \"b-.\", linewidth=2, label=\"ReLU\")\n",
        "plt.grid(True)\n",
        "plt.title(\"Derivatives\")\n",
        "plt.show()\n"
      ],
      "metadata": {
        "colab": {
          "base_uri": "https://localhost:8080/",
          "height": 391
        },
        "id": "UcKsKypKCHnY",
        "outputId": "904af251-d104-42af-ef70-a160a73b9549"
      },
      "execution_count": null,
      "outputs": [
        {
          "output_type": "display_data",
          "data": {
            "text/plain": [
              "<Figure size 1100x400 with 2 Axes>"
            ],
            "image/png": "[encoded data removed]"
          },
          "metadata": {}
        }
      ]
    },
    {
      "cell_type": "markdown",
      "source": [
        "# 학습율"
      ],
      "metadata": {
        "id": "qOzSKDsNCHsq"
      }
    },
    {
      "cell_type": "code",
      "source": [
        "tf.random.set_seed(1234)\n",
        "\n",
        "# XOR gate를 나타낸 X, Y\n",
        "x = np.array([[0,0],[1,0],[0,1],[1,1]])\n",
        "y = np.array([[0],[1],[1],[0]])\n",
        "\n",
        "#모형 구성\n",
        "model = Sequential()\n",
        "model.add(Dense(32, input_shape = (2, ), activation = 'relu')) #node의 수 32\n",
        "model.add(Dense(1, activation='sigmoid'))\n",
        "model.summary()\n",
        "\n",
        "#모형 컴파일\n",
        "model.compile(optimizer = 'adam', loss = mse, metrics = ['acc'])\n",
        "\n",
        "#학습\n",
        "model.fit(x,y,epochs = 50)\n",
        "\n",
        "#학습율과 경사하강\n",
        "lr_list = [0.001, 0.01, 0.1, 0.55]\n",
        "\n",
        "def get_derivative(lr_list):\n",
        "  weight_prev = 2\n",
        "  derivative = [weight_prev]\n",
        "  y = [weight_prev ** 2] # 손실 함수 y = x^2\n",
        "  for i in range(1,10):\n",
        "    dev_value = weight_prev **2 #미분값\n",
        "    #weight update\n",
        "    weight_new = weight_prev - lr * dev_value\n",
        "    weight_prev = weight_new\n",
        "    derivative.append(weight_prev) #weight\n",
        "    y.append(weight_prev ** 2) #loss\n",
        "  return derivative, y\n",
        "\n",
        "x = np.linspace(-3,3,90)\n",
        "x_square = [i**2 for i in x]\n",
        "\n",
        "#결과 비교\n",
        "fig = plt.figure(figsize=(8, 4))\n",
        "\n",
        "for i,lr in enumerate(lr_list):\n",
        "  derivative, y = get_derivative(lr)\n",
        "  ax = fig.add_subplot(2, 2, i+1)\n",
        "  ax.scatter(derivative, y, color = 'blue')\n",
        "  ax.plot(x, x_square)\n",
        "  ax.title.set_text('lr = '+str(lr))\n",
        "\n",
        "plt.show()\n"
      ],
      "metadata": {
        "colab": {
          "base_uri": "https://localhost:8080/",
          "height": 1000
        },
        "id": "8u1nw5Y1CHz6",
        "outputId": "d817b18c-df69-4851-f1cf-52a5e6ed8885"
      },
      "execution_count": null,
      "outputs": [
        {
          "output_type": "stream",
          "name": "stdout",
          "text": [
            "Model: \"sequential_1\"\n",
            "_________________________________________________________________\n",
            " Layer (type)                Output Shape              Param #   \n",
            "=================================================================\n",
            " dense_2 (Dense)             (None, 32)                96        \n",
            "                                                                 \n",
            " dense_3 (Dense)             (None, 1)                 33        \n",
            "                                                                 \n",
            "=================================================================\n",
            "Total params: 129\n",
            "Trainable params: 129\n",
            "Non-trainable params: 0\n",
            "_________________________________________________________________\n",
            "Epoch 1/50\n",
            "1/1 [==============================] - 1s 868ms/step - loss: 0.2567 - acc: 0.5000\n",
            "Epoch 2/50\n",
            "1/1 [==============================] - 0s 25ms/step - loss: 0.2562 - acc: 0.5000\n",
            "Epoch 3/50\n",
            "1/1 [==============================] - 0s 13ms/step - loss: 0.2555 - acc: 0.5000\n",
            "Epoch 4/50\n",
            "1/1 [==============================] - 0s 16ms/step - loss: 0.2549 - acc: 0.5000\n",
            "Epoch 5/50\n",
            "1/1 [==============================] - 0s 14ms/step - loss: 0.2544 - acc: 0.5000\n",
            "Epoch 6/50\n",
            "1/1 [==============================] - 0s 20ms/step - loss: 0.2538 - acc: 0.5000\n",
            "Epoch 7/50\n",
            "1/1 [==============================] - 0s 13ms/step - loss: 0.2533 - acc: 0.5000\n",
            "Epoch 8/50\n",
            "1/1 [==============================] - 0s 12ms/step - loss: 0.2528 - acc: 0.5000\n",
            "Epoch 9/50\n",
            "1/1 [==============================] - 0s 12ms/step - loss: 0.2523 - acc: 0.5000\n",
            "Epoch 10/50\n",
            "1/1 [==============================] - 0s 10ms/step - loss: 0.2518 - acc: 0.5000\n",
            "Epoch 11/50\n",
            "1/1 [==============================] - 0s 10ms/step - loss: 0.2513 - acc: 0.5000\n",
            "Epoch 12/50\n",
            "1/1 [==============================] - 0s 12ms/step - loss: 0.2508 - acc: 0.5000\n",
            "Epoch 13/50\n",
            "1/1 [==============================] - 0s 12ms/step - loss: 0.2503 - acc: 0.5000\n",
            "Epoch 14/50\n",
            "1/1 [==============================] - 0s 13ms/step - loss: 0.2498 - acc: 0.5000\n",
            "Epoch 15/50\n",
            "1/1 [==============================] - 0s 14ms/step - loss: 0.2492 - acc: 0.5000\n",
            "Epoch 16/50\n",
            "1/1 [==============================] - 0s 11ms/step - loss: 0.2488 - acc: 0.5000\n",
            "Epoch 17/50\n",
            "1/1 [==============================] - 0s 18ms/step - loss: 0.2483 - acc: 0.5000\n",
            "Epoch 18/50\n",
            "1/1 [==============================] - 0s 13ms/step - loss: 0.2478 - acc: 0.5000\n",
            "Epoch 19/50\n",
            "1/1 [==============================] - 0s 11ms/step - loss: 0.2473 - acc: 0.5000\n",
            "Epoch 20/50\n",
            "1/1 [==============================] - 0s 11ms/step - loss: 0.2469 - acc: 0.5000\n",
            "Epoch 21/50\n",
            "1/1 [==============================] - 0s 16ms/step - loss: 0.2464 - acc: 0.5000\n",
            "Epoch 22/50\n",
            "1/1 [==============================] - 0s 14ms/step - loss: 0.2459 - acc: 0.5000\n",
            "Epoch 23/50\n",
            "1/1 [==============================] - 0s 14ms/step - loss: 0.2455 - acc: 0.5000\n",
            "Epoch 24/50\n",
            "1/1 [==============================] - 0s 14ms/step - loss: 0.2450 - acc: 0.5000\n",
            "Epoch 25/50\n",
            "1/1 [==============================] - 0s 13ms/step - loss: 0.2446 - acc: 0.5000\n",
            "Epoch 26/50\n",
            "1/1 [==============================] - 0s 13ms/step - loss: 0.2441 - acc: 0.5000\n",
            "Epoch 27/50\n",
            "1/1 [==============================] - 0s 9ms/step - loss: 0.2436 - acc: 0.5000\n",
            "Epoch 28/50\n",
            "1/1 [==============================] - 0s 11ms/step - loss: 0.2432 - acc: 0.5000\n",
            "Epoch 29/50\n",
            "1/1 [==============================] - 0s 13ms/step - loss: 0.2427 - acc: 0.5000\n",
            "Epoch 30/50\n",
            "1/1 [==============================] - 0s 12ms/step - loss: 0.2422 - acc: 0.5000\n",
            "Epoch 31/50\n",
            "1/1 [==============================] - 0s 15ms/step - loss: 0.2418 - acc: 0.5000\n",
            "Epoch 32/50\n",
            "1/1 [==============================] - 0s 11ms/step - loss: 0.2413 - acc: 0.5000\n",
            "Epoch 33/50\n",
            "1/1 [==============================] - 0s 11ms/step - loss: 0.2408 - acc: 0.5000\n",
            "Epoch 34/50\n",
            "1/1 [==============================] - 0s 12ms/step - loss: 0.2404 - acc: 0.5000\n",
            "Epoch 35/50\n",
            "1/1 [==============================] - 0s 11ms/step - loss: 0.2399 - acc: 0.5000\n",
            "Epoch 36/50\n",
            "1/1 [==============================] - 0s 11ms/step - loss: 0.2395 - acc: 0.5000\n",
            "Epoch 37/50\n",
            "1/1 [==============================] - 0s 11ms/step - loss: 0.2390 - acc: 0.5000\n",
            "Epoch 38/50\n",
            "1/1 [==============================] - 0s 11ms/step - loss: 0.2385 - acc: 0.5000\n",
            "Epoch 39/50\n",
            "1/1 [==============================] - 0s 11ms/step - loss: 0.2381 - acc: 0.5000\n",
            "Epoch 40/50\n",
            "1/1 [==============================] - 0s 11ms/step - loss: 0.2376 - acc: 0.5000\n",
            "Epoch 41/50\n",
            "1/1 [==============================] - 0s 16ms/step - loss: 0.2372 - acc: 0.5000\n",
            "Epoch 42/50\n",
            "1/1 [==============================] - 0s 10ms/step - loss: 0.2367 - acc: 0.5000\n",
            "Epoch 43/50\n",
            "1/1 [==============================] - 0s 11ms/step - loss: 0.2362 - acc: 0.5000\n",
            "Epoch 44/50\n",
            "1/1 [==============================] - 0s 10ms/step - loss: 0.2358 - acc: 0.5000\n",
            "Epoch 45/50\n",
            "1/1 [==============================] - 0s 10ms/step - loss: 0.2353 - acc: 0.5000\n",
            "Epoch 46/50\n",
            "1/1 [==============================] - 0s 10ms/step - loss: 0.2348 - acc: 0.5000\n",
            "Epoch 47/50\n",
            "1/1 [==============================] - 0s 11ms/step - loss: 0.2344 - acc: 0.5000\n",
            "Epoch 48/50\n",
            "1/1 [==============================] - 0s 15ms/step - loss: 0.2339 - acc: 0.5000\n",
            "Epoch 49/50\n",
            "1/1 [==============================] - 0s 11ms/step - loss: 0.2334 - acc: 0.7500\n",
            "Epoch 50/50\n",
            "1/1 [==============================] - 0s 11ms/step - loss: 0.2330 - acc: 0.7500\n"
          ]
        },
        {
          "output_type": "display_data",
          "data": {
            "text/plain": [
              "<Figure size 800x400 with 4 Axes>"
            ],
            "image/png": "[encoded data removed]"
          },
          "metadata": {}
        }
      ]
    },
    {
      "cell_type": "markdown",
      "source": [
        "#연습 1: creditset.csv에 DNN 적용, MLPClassifier와 비교"
      ],
      "metadata": {
        "id": "r8jmB17tC-d2"
      }
    },
    {
      "cell_type": "code",
      "execution_count": null,
      "metadata": {
        "id": "5jiwktasC2fs"
      },
      "outputs": [],
      "source": [
        "import pandas as pd\n",
        "import numpy as np\n",
        "from sklearn.model_selection import train_test_split\n",
        "from sklearn import preprocessing\n",
        "\n",
        "import tensorflow as tf\n",
        "from tensorflow.keras.models import Sequential\n",
        "from tensorflow.keras.layers import Dense\n",
        "from tensorflow.keras.optimizers import SGD\n",
        "from tensorflow.keras.losses import mse\n",
        "\n",
        "csv_data = pd.read_csv(\"creditset.csv\")\n",
        "X = csv_data.iloc[:, 1:4 ]\n",
        "y  = csv_data.iloc[:, 5 ]\n"
      ]
    },
    {
      "cell_type": "code",
      "source": [
        "#Partitioning\n",
        "X_train, X_test, y_train, y_test = train_test_split( X, y, test_size=0.3, random_state=42 )\n",
        "scaler = preprocessing.MinMaxScaler()\n",
        "X_train = scaler.fit_transform( X_train)\n",
        "X_test  = scaler.fit_transform( X_test  )"
      ],
      "metadata": {
        "id": "X8djrBQkUNEM"
      },
      "execution_count": null,
      "outputs": []
    },
    {
      "cell_type": "code",
      "source": [
        "from sklearn.neural_network import MLPClassifier\n",
        "mlp = MLPClassifier(hidden_layer_sizes=(6,3))\n",
        "mlp.fit(X_train,y_train)\n",
        "predictions = mlp.predict(X_test)\n",
        "\n",
        "np.mean( predictions == y_test )"
      ],
      "metadata": {
        "colab": {
          "base_uri": "https://localhost:8080/"
        },
        "id": "tg1nrQGOU0wy",
        "outputId": "574cd3c7-3898-4692-9ea1-bc4c9306df25"
      },
      "execution_count": null,
      "outputs": [
        {
          "output_type": "stream",
          "name": "stderr",
          "text": [
            "/usr/local/lib/python3.10/dist-packages/sklearn/neural_network/_multilayer_perceptron.py:686: ConvergenceWarning: Stochastic Optimizer: Maximum iterations (200) reached and the optimization hasn't converged yet.\n",
            "  warnings.warn(\n"
          ]
        },
        {
          "output_type": "execute_result",
          "data": {
            "text/plain": [
              "0.9383333333333334"
            ]
          },
          "metadata": {},
          "execution_count": 9
        }
      ]
    },
    {
      "cell_type": "code",
      "source": [
        "from sklearn.metrics import classification_report,confusion_matrix\n",
        "print( confusion_matrix(y_test,predictions) )\n",
        "print('\\n', classification_report(y_test,predictions) )"
      ],
      "metadata": {
        "colab": {
          "base_uri": "https://localhost:8080/"
        },
        "id": "fxrOjf7bT_Cs",
        "outputId": "2bb5cec6-d80e-40da-a798-09492803eb6e"
      },
      "execution_count": null,
      "outputs": [
        {
          "output_type": "stream",
          "name": "stdout",
          "text": [
            "[[495  13]\n",
            " [ 24  68]]\n",
            "\n",
            "               precision    recall  f1-score   support\n",
            "\n",
            "           0       0.95      0.97      0.96       508\n",
            "           1       0.84      0.74      0.79        92\n",
            "\n",
            "    accuracy                           0.94       600\n",
            "   macro avg       0.90      0.86      0.88       600\n",
            "weighted avg       0.94      0.94      0.94       600\n",
            "\n"
          ]
        }
      ]
    },
    {
      "cell_type": "code",
      "source": [
        "#DNN\n",
        "from tensorflow.keras.utils import to_categorical\n",
        "y_train = to_categorical(y_train)\n",
        "y_test = to_categorical(y_test)\n",
        "np.argmax(y_test, axis = -1)"
      ],
      "metadata": {
        "id": "y8YKNkdTV2L4",
        "colab": {
          "base_uri": "https://localhost:8080/"
        },
        "outputId": "02c8b5da-7734-46f1-8eaa-73d8f79b904a"
      },
      "execution_count": null,
      "outputs": [
        {
          "output_type": "execute_result",
          "data": {
            "text/plain": [
              "array([1, 1, 0, 0, 0, 0, 0, 1, 0, 0, 1, 1, 1, 0, 0, 1, 0, 0, 0, 0, 0, 0,\n",
              "       0, 0, 0, 1, 0, 0, 1, 0, 0, 0, 0, 0, 0, 0, 0, 1, 0, 0, 0, 0, 0, 1,\n",
              "       1, 0, 0, 1, 0, 0, 0, 0, 0, 0, 0, 0, 1, 0, 0, 1, 0, 0, 1, 0, 0, 0,\n",
              "       0, 1, 0, 0, 1, 0, 0, 0, 0, 0, 1, 0, 0, 0, 0, 0, 0, 0, 0, 1, 0, 0,\n",
              "       0, 0, 1, 0, 0, 0, 0, 0, 0, 0, 0, 0, 0, 0, 1, 0, 0, 0, 0, 0, 0, 1,\n",
              "       0, 0, 0, 0, 0, 0, 0, 0, 0, 0, 0, 0, 0, 0, 0, 0, 1, 0, 0, 0, 0, 0,\n",
              "       0, 0, 0, 1, 0, 0, 0, 0, 0, 1, 0, 0, 1, 0, 0, 0, 1, 0, 0, 0, 0, 0,\n",
              "       0, 0, 1, 0, 1, 1, 0, 0, 0, 0, 0, 1, 0, 1, 0, 0, 0, 1, 0, 0, 0, 1,\n",
              "       0, 0, 0, 0, 0, 0, 0, 0, 0, 1, 0, 0, 0, 1, 0, 0, 0, 0, 0, 0, 0, 0,\n",
              "       0, 0, 1, 0, 0, 0, 0, 0, 0, 0, 0, 0, 0, 0, 0, 0, 1, 0, 1, 0, 0, 0,\n",
              "       0, 0, 0, 0, 0, 0, 1, 0, 0, 0, 0, 0, 0, 0, 0, 0, 0, 0, 0, 0, 0, 0,\n",
              "       0, 1, 0, 0, 0, 0, 0, 0, 1, 1, 0, 0, 0, 0, 1, 0, 0, 0, 0, 0, 0, 0,\n",
              "       0, 0, 0, 0, 0, 0, 0, 1, 1, 0, 0, 0, 1, 0, 0, 0, 1, 0, 0, 0, 0, 0,\n",
              "       0, 0, 0, 0, 0, 0, 0, 0, 0, 0, 0, 0, 0, 1, 1, 0, 0, 1, 1, 0, 0, 0,\n",
              "       0, 0, 0, 0, 0, 0, 0, 0, 0, 0, 0, 0, 0, 1, 0, 0, 0, 0, 1, 0, 0, 0,\n",
              "       0, 1, 0, 0, 1, 0, 0, 1, 0, 0, 0, 0, 1, 0, 0, 0, 0, 0, 0, 0, 0, 1,\n",
              "       0, 1, 0, 0, 0, 0, 0, 0, 0, 0, 0, 0, 0, 0, 0, 0, 0, 0, 0, 0, 1, 0,\n",
              "       0, 0, 1, 0, 0, 1, 0, 1, 0, 0, 0, 0, 1, 0, 0, 0, 0, 0, 0, 0, 1, 1,\n",
              "       0, 1, 0, 1, 0, 0, 0, 0, 0, 0, 0, 0, 0, 0, 0, 0, 1, 0, 1, 0, 0, 0,\n",
              "       0, 0, 0, 0, 0, 0, 0, 0, 0, 0, 0, 0, 0, 0, 0, 0, 0, 0, 0, 0, 0, 0,\n",
              "       0, 0, 1, 0, 0, 0, 0, 0, 0, 0, 0, 0, 0, 0, 0, 0, 0, 0, 0, 0, 0, 0,\n",
              "       0, 0, 0, 1, 1, 0, 1, 0, 0, 0, 0, 0, 0, 0, 0, 1, 1, 0, 0, 0, 0, 0,\n",
              "       0, 0, 0, 0, 0, 0, 0, 0, 0, 0, 0, 0, 0, 0, 0, 0, 0, 0, 0, 0, 0, 0,\n",
              "       0, 0, 1, 0, 0, 0, 0, 0, 0, 0, 0, 0, 0, 0, 0, 0, 0, 0, 0, 0, 0, 0,\n",
              "       0, 0, 0, 0, 0, 0, 0, 0, 1, 0, 0, 0, 0, 0, 0, 0, 1, 1, 0, 0, 0, 0,\n",
              "       0, 1, 0, 0, 0, 1, 0, 0, 0, 0, 0, 0, 0, 0, 0, 0, 0, 0, 0, 1, 0, 1,\n",
              "       0, 0, 0, 1, 0, 0, 1, 1, 0, 1, 0, 0, 0, 1, 0, 0, 0, 0, 0, 0, 0, 0,\n",
              "       0, 0, 1, 0, 0, 0])"
            ]
          },
          "metadata": {},
          "execution_count": 11
        }
      ]
    },
    {
      "cell_type": "code",
      "source": [
        "#모형 구성\n",
        "from tensorflow.keras.models import Sequential\n",
        "from tensorflow.keras.layers import Dense\n",
        "model = Sequential()\n",
        "model.add(Dense(6, activation = 'relu', input_shape = (3, ) ) ) # 은닉층1-입력:3, 출력 6를 표시\n",
        "model.add(Dense(3, activation = 'relu' ) ) # 은닉층2-입력:6, 출력 3를 표시\n",
        "model.add(Dense(2, activation = 'softmax'))  # 은닉층3-출력:2를 표시\n",
        "\n",
        "model.compile(optimizer = 'adam', loss = 'categorical_crossentropy', metrics = ['acc'])# 모형 컴파일\n",
        "\n",
        "# 학습\n",
        "history = model.fit(X_train, y_train, epochs = 20, batch_size = 100)\n",
        "history.history.keys()\n"
      ],
      "metadata": {
        "id": "JEd0fE1dDvpG",
        "colab": {
          "base_uri": "https://localhost:8080/"
        },
        "outputId": "8a90ef0b-9564-4815-cf69-349139e0fb0a"
      },
      "execution_count": null,
      "outputs": [
        {
          "output_type": "stream",
          "name": "stdout",
          "text": [
            "Epoch 1/20\n",
            "14/14 [==============================] - 1s 2ms/step - loss: 0.7000 - acc: 0.6279\n",
            "Epoch 2/20\n",
            "14/14 [==============================] - 0s 2ms/step - loss: 0.6840 - acc: 0.7714\n",
            "Epoch 3/20\n",
            "14/14 [==============================] - 0s 3ms/step - loss: 0.6712 - acc: 0.8314\n",
            "Epoch 4/20\n",
            "14/14 [==============================] - 0s 2ms/step - loss: 0.6607 - acc: 0.8564\n",
            "Epoch 5/20\n",
            "14/14 [==============================] - 0s 2ms/step - loss: 0.6510 - acc: 0.8636\n",
            "Epoch 6/20\n",
            "14/14 [==============================] - 0s 3ms/step - loss: 0.6419 - acc: 0.8636\n",
            "Epoch 7/20\n",
            "14/14 [==============================] - 0s 3ms/step - loss: 0.6332 - acc: 0.8636\n",
            "Epoch 8/20\n",
            "14/14 [==============================] - 0s 3ms/step - loss: 0.6250 - acc: 0.8636\n",
            "Epoch 9/20\n",
            "14/14 [==============================] - 0s 3ms/step - loss: 0.6169 - acc: 0.8636\n",
            "Epoch 10/20\n",
            "14/14 [==============================] - 0s 3ms/step - loss: 0.6090 - acc: 0.8636\n",
            "Epoch 11/20\n",
            "14/14 [==============================] - 0s 3ms/step - loss: 0.6014 - acc: 0.8636\n",
            "Epoch 12/20\n",
            "14/14 [==============================] - 0s 2ms/step - loss: 0.5941 - acc: 0.8636\n",
            "Epoch 13/20\n",
            "14/14 [==============================] - 0s 3ms/step - loss: 0.5871 - acc: 0.8636\n",
            "Epoch 14/20\n",
            "14/14 [==============================] - 0s 2ms/step - loss: 0.5801 - acc: 0.8636\n",
            "Epoch 15/20\n",
            "14/14 [==============================] - 0s 2ms/step - loss: 0.5734 - acc: 0.8636\n",
            "Epoch 16/20\n",
            "14/14 [==============================] - 0s 3ms/step - loss: 0.5671 - acc: 0.8636\n",
            "Epoch 17/20\n",
            "14/14 [==============================] - 0s 2ms/step - loss: 0.5609 - acc: 0.8636\n",
            "Epoch 18/20\n",
            "14/14 [==============================] - 0s 3ms/step - loss: 0.5548 - acc: 0.8636\n",
            "Epoch 19/20\n",
            "14/14 [==============================] - 0s 2ms/step - loss: 0.5491 - acc: 0.8636\n",
            "Epoch 20/20\n",
            "14/14 [==============================] - 0s 2ms/step - loss: 0.5434 - acc: 0.8636\n"
          ]
        },
        {
          "output_type": "execute_result",
          "data": {
            "text/plain": [
              "dict_keys(['loss', 'acc'])"
            ]
          },
          "metadata": {},
          "execution_count": 12
        }
      ]
    },
    {
      "cell_type": "code",
      "source": [
        "# 모형 평가-train, test\n",
        "model.evaluate(X_test, y_test)\n",
        "results = model.predict(X_test)\n",
        "print(results.shape)\n",
        "\n",
        "#confusion matrix: skleanr.metrics의 기능\n",
        "from sklearn.metrics import classification_report, confusion_matrix\n",
        "print('\\n', classification_report(np.argmax(y_test, axis = -1), np.argmax(results, axis = -1)))"
      ],
      "metadata": {
        "id": "63j-dVrHXAPg",
        "colab": {
          "base_uri": "https://localhost:8080/"
        },
        "outputId": "b82baf73-2c84-4e9d-af26-6ced76b61edd"
      },
      "execution_count": null,
      "outputs": [
        {
          "output_type": "stream",
          "name": "stdout",
          "text": [
            "19/19 [==============================] - 0s 2ms/step - loss: 0.5491 - acc: 0.8467\n",
            "19/19 [==============================] - 0s 2ms/step\n",
            "(600, 2)\n",
            "\n",
            "               precision    recall  f1-score   support\n",
            "\n",
            "           0       0.85      1.00      0.92       508\n",
            "           1       0.00      0.00      0.00        92\n",
            "\n",
            "    accuracy                           0.85       600\n",
            "   macro avg       0.42      0.50      0.46       600\n",
            "weighted avg       0.72      0.85      0.78       600\n",
            "\n"
          ]
        },
        {
          "output_type": "stream",
          "name": "stderr",
          "text": [
            "/usr/local/lib/python3.10/dist-packages/sklearn/metrics/_classification.py:1344: UndefinedMetricWarning: Precision and F-score are ill-defined and being set to 0.0 in labels with no predicted samples. Use `zero_division` parameter to control this behavior.\n",
            "  _warn_prf(average, modifier, msg_start, len(result))\n",
            "/usr/local/lib/python3.10/dist-packages/sklearn/metrics/_classification.py:1344: UndefinedMetricWarning: Precision and F-score are ill-defined and being set to 0.0 in labels with no predicted samples. Use `zero_division` parameter to control this behavior.\n",
            "  _warn_prf(average, modifier, msg_start, len(result))\n",
            "/usr/local/lib/python3.10/dist-packages/sklearn/metrics/_classification.py:1344: UndefinedMetricWarning: Precision and F-score are ill-defined and being set to 0.0 in labels with no predicted samples. Use `zero_division` parameter to control this behavior.\n",
            "  _warn_prf(average, modifier, msg_start, len(result))\n"
          ]
        }
      ]
    },
    {
      "cell_type": "markdown",
      "source": [
        "- creditset.csv 에 대해서 tensorflow로 ANN모델링하세요.\n",
        "- 000000000 성능을 개선해보세요~\n",
        "- 4:25까지 해보세요"
      ],
      "metadata": {
        "id": "P0Bg-4CIXm9P"
      }
    },
    {
      "cell_type": "markdown",
      "source": [
        "#연습 2: 반도체 제조 data_semi.csv에 DNN 적용, ML과 비교"
      ],
      "metadata": {
        "id": "7WUcx7FXC_Qa"
      }
    },
    {
      "cell_type": "markdown",
      "source": [
        "- sklearn"
      ],
      "metadata": {
        "id": "of1H_iRlDQtD"
      }
    },
    {
      "cell_type": "code",
      "source": [
        "import pandas as pd\n",
        "import numpy as np\n",
        "csv_data = pd.read_csv(\"data_semi.csv\")\n",
        "csv_data.shape"
      ],
      "metadata": {
        "colab": {
          "base_uri": "https://localhost:8080/"
        },
        "id": "HcH60gDzbV28",
        "outputId": "bea3fa63-6bc2-47ff-a39b-511280afc5c8"
      },
      "execution_count": null,
      "outputs": [
        {
          "output_type": "execute_result",
          "data": {
            "text/plain": [
              "(1567, 49)"
            ]
          },
          "metadata": {},
          "execution_count": 14
        }
      ]
    },
    {
      "cell_type": "code",
      "source": [
        "from sklearn.model_selection import train_test_split\n",
        "from sklearn import preprocessing\n",
        "\n",
        "X = csv_data.iloc[:, 0:48 ]   #모든행, 1열~48열까지\n",
        "y = csv_data.iloc[:, 48 ]    #모든 행, 49열 인덱싱\n",
        "\n",
        "#Partitioning\n",
        "X_train, X_test, y_train, y_test = train_test_split( X, y, test_size=0.3, random_state=42 )\n",
        "scaler = preprocessing.MinMaxScaler()\n",
        "X_train = scaler.fit_transform( X_train)\n",
        "X_test  = scaler.fit_transform( X_test  )"
      ],
      "metadata": {
        "id": "hkMloSOxbwBO"
      },
      "execution_count": null,
      "outputs": []
    },
    {
      "cell_type": "code",
      "source": [
        "from sklearn.naive_bayes import MultinomialNB\n",
        "from sklearn.tree import DecisionTreeClassifier\n",
        "from sklearn.ensemble import RandomForestClassifier\n",
        "from sklearn.neighbors import KNeighborsClassifier\n",
        "from sklearn.svm import SVC\n",
        "from sklearn.neural_network import MLPClassifier\n",
        "\n",
        "#NB\n",
        "clf = MultinomialNB().fit(X_train, y_train)\n",
        "predicted = clf.predict(X_test)\n",
        "print('NB', np.mean(predicted == y_test))\n",
        "\n",
        "#DT\n",
        "dt1 = DecisionTreeClassifier().fit(X_train, y_train)\n",
        "pred = dt1.predict( X_test)\n",
        "print('DT', np.mean( pred == y_test ))\n",
        "\n",
        "#RF\n",
        "rf = RandomForestClassifier(n_estimators=300, random_state=42).fit(X_train, y_train)\n",
        "predicted = rf.predict(X_test)\n",
        "print('RF', np.mean( predicted == y_test ))\n",
        "\n",
        "#KNN\n",
        "knn = KNeighborsClassifier().fit(X_train, y_train)  #k=5\n",
        "predicted = knn.predict(X_test)\n",
        "print('KNN', np.mean( predicted == y_test ))\n",
        "\n",
        "#SVM\n",
        "svm = SVC().fit(X_train, y_train)\n",
        "predicted = svm.predict(X_test)\n",
        "print('SVM', np.mean( predicted == y_test ))\n",
        "\n",
        "#ANN\n",
        "mlp = MLPClassifier(hidden_layer_sizes=(24,12,6)).fit(X_train,y_train)\n",
        "predictions = mlp.predict(X_test)\n",
        "print('ANN',np.mean( predictions == y_test ))"
      ],
      "metadata": {
        "colab": {
          "base_uri": "https://localhost:8080/"
        },
        "id": "Ye5TDh89C_Wx",
        "outputId": "0a44c03e-d5de-4e66-d24d-2f4041b2e26f"
      },
      "execution_count": null,
      "outputs": [
        {
          "output_type": "stream",
          "name": "stdout",
          "text": [
            "NB 0.9320594479830149\n",
            "DT 0.6475583864118896\n",
            "RF 0.9299363057324841\n",
            "KNN 0.9320594479830149\n",
            "SVM 0.9341825902335457\n",
            "ANN 0.9320594479830149\n"
          ]
        },
        {
          "output_type": "stream",
          "name": "stderr",
          "text": [
            "/usr/local/lib/python3.10/dist-packages/sklearn/neural_network/_multilayer_perceptron.py:686: ConvergenceWarning: Stochastic Optimizer: Maximum iterations (200) reached and the optimization hasn't converged yet.\n",
            "  warnings.warn(\n"
          ]
        }
      ]
    },
    {
      "cell_type": "markdown",
      "source": [
        "- tensorflow"
      ],
      "metadata": {
        "id": "LwqTzpSDC_fy"
      }
    },
    {
      "cell_type": "code",
      "source": [
        "#DNN\n",
        "from tensorflow.keras.utils import to_categorical\n",
        "y_train = to_categorical(y_train)\n",
        "y_test = to_categorical(y_test)\n",
        "\n",
        "#모형 구성\n",
        "from tensorflow.keras.models import Sequential\n",
        "from tensorflow.keras.layers import Dense\n",
        "model = Sequential()\n",
        "model.add(Dense(24, activation = 'relu', input_shape = (48, ) ) )\n",
        "model.add(Dense(12, activation = 'relu' ) )\n",
        "model.add(Dense(6, activation = 'relu' ) )\n",
        "model.add(Dense(2, activation = 'softmax'))\n",
        "\n",
        "model.compile(optimizer = 'adam', loss = 'categorical_crossentropy', metrics = ['acc'])# 모형 컴파일\n",
        "\n",
        "# 학습\n",
        "history = model.fit(X_train, y_train, epochs = 20, batch_size = 100)\n",
        "history.history.keys()\n",
        "\n",
        "# 모형 평가-train, test\n",
        "model.evaluate(X_test, y_test)\n",
        "\n",
        "results = model.predict(X_test)\n",
        "print(results.shape)\n",
        "\n",
        "#confusion matrix: skleanr.metrics의 기능\n",
        "from sklearn.metrics import classification_report, confusion_matrix\n",
        "print('\\n', classification_report(np.argmax(y_test, axis = -1), np.argmax(results, axis = -1)))"
      ],
      "metadata": {
        "id": "dv3b75s5C_lm",
        "colab": {
          "base_uri": "https://localhost:8080/"
        },
        "outputId": "9250d9df-5b7e-48ab-84f2-3db930d5a4be"
      },
      "execution_count": null,
      "outputs": [
        {
          "output_type": "stream",
          "name": "stdout",
          "text": [
            "Epoch 1/20\n",
            "11/11 [==============================] - 1s 3ms/step - loss: 0.3764 - acc: 0.9334\n",
            "Epoch 2/20\n",
            "11/11 [==============================] - 0s 4ms/step - loss: 0.2737 - acc: 0.9334\n",
            "Epoch 3/20\n",
            "11/11 [==============================] - 0s 5ms/step - loss: 0.2466 - acc: 0.9334\n",
            "Epoch 4/20\n",
            "11/11 [==============================] - 0s 4ms/step - loss: 0.2459 - acc: 0.9334\n",
            "Epoch 5/20\n",
            "11/11 [==============================] - 0s 3ms/step - loss: 0.2448 - acc: 0.9334\n",
            "Epoch 6/20\n",
            "11/11 [==============================] - 0s 4ms/step - loss: 0.2433 - acc: 0.9334\n",
            "Epoch 7/20\n",
            "11/11 [==============================] - 0s 3ms/step - loss: 0.2435 - acc: 0.9334\n",
            "Epoch 8/20\n",
            "11/11 [==============================] - 0s 3ms/step - loss: 0.2432 - acc: 0.9334\n",
            "Epoch 9/20\n",
            "11/11 [==============================] - 0s 3ms/step - loss: 0.2430 - acc: 0.9334\n",
            "Epoch 10/20\n",
            "11/11 [==============================] - 0s 4ms/step - loss: 0.2427 - acc: 0.9334\n",
            "Epoch 11/20\n",
            "11/11 [==============================] - 0s 3ms/step - loss: 0.2425 - acc: 0.9334\n",
            "Epoch 12/20\n",
            "11/11 [==============================] - 0s 3ms/step - loss: 0.2426 - acc: 0.9334\n",
            "Epoch 13/20\n",
            "11/11 [==============================] - 0s 3ms/step - loss: 0.2420 - acc: 0.9334\n",
            "Epoch 14/20\n",
            "11/11 [==============================] - 0s 3ms/step - loss: 0.2426 - acc: 0.9334\n",
            "Epoch 15/20\n",
            "11/11 [==============================] - 0s 3ms/step - loss: 0.2418 - acc: 0.9334\n",
            "Epoch 16/20\n",
            "11/11 [==============================] - 0s 3ms/step - loss: 0.2414 - acc: 0.9334\n",
            "Epoch 17/20\n",
            "11/11 [==============================] - 0s 3ms/step - loss: 0.2414 - acc: 0.9334\n",
            "Epoch 18/20\n",
            "11/11 [==============================] - 0s 3ms/step - loss: 0.2411 - acc: 0.9334\n",
            "Epoch 19/20\n",
            "11/11 [==============================] - 0s 3ms/step - loss: 0.2413 - acc: 0.9334\n",
            "Epoch 20/20\n",
            "11/11 [==============================] - 0s 4ms/step - loss: 0.2411 - acc: 0.9334\n",
            "15/15 [==============================] - 0s 2ms/step - loss: 0.2444 - acc: 0.9342\n",
            "15/15 [==============================] - 0s 2ms/step\n",
            "(471, 2)\n",
            "\n",
            "               precision    recall  f1-score   support\n",
            "\n",
            "           0       0.93      1.00      0.97       440\n",
            "           1       0.00      0.00      0.00        31\n",
            "\n",
            "    accuracy                           0.93       471\n",
            "   macro avg       0.47      0.50      0.48       471\n",
            "weighted avg       0.87      0.93      0.90       471\n",
            "\n"
          ]
        },
        {
          "output_type": "stream",
          "name": "stderr",
          "text": [
            "/usr/local/lib/python3.10/dist-packages/sklearn/metrics/_classification.py:1344: UndefinedMetricWarning: Precision and F-score are ill-defined and being set to 0.0 in labels with no predicted samples. Use `zero_division` parameter to control this behavior.\n",
            "  _warn_prf(average, modifier, msg_start, len(result))\n",
            "/usr/local/lib/python3.10/dist-packages/sklearn/metrics/_classification.py:1344: UndefinedMetricWarning: Precision and F-score are ill-defined and being set to 0.0 in labels with no predicted samples. Use `zero_division` parameter to control this behavior.\n",
            "  _warn_prf(average, modifier, msg_start, len(result))\n",
            "/usr/local/lib/python3.10/dist-packages/sklearn/metrics/_classification.py:1344: UndefinedMetricWarning: Precision and F-score are ill-defined and being set to 0.0 in labels with no predicted samples. Use `zero_division` parameter to control this behavior.\n",
            "  _warn_prf(average, modifier, msg_start, len(result))\n"
          ]
        }
      ]
    },
    {
      "cell_type": "markdown",
      "source": [
        "# 연습3: DNN 활용"
      ],
      "metadata": {
        "id": "wIfGaPlxgxHt"
      }
    },
    {
      "cell_type": "markdown",
      "source": [
        "- sp500_tm.csv 를 읽으셔서\n",
        "- train, test 파티셔닝 / minmax scaling 하셔서\n",
        "- y는 OHE 적용하세요\n",
        "- 8-4-2 ANN를 만들어보세요\n",
        "- relu, relu, softmax\n",
        "- epoch 10으로 지정하세요.\n"
      ],
      "metadata": {
        "id": "VmiCalJtGW87"
      }
    },
    {
      "cell_type": "code",
      "source": [
        "import pandas as pd\n",
        "csv = pd.read_csv(\"sp500_tm.csv\")\n",
        "from sklearn.model_selection import train_test_split\n",
        "X_train, X_test, y_train, y_test = train_test_split( csv.iloc[ :, 0:3], csv.Direction,\n",
        "                                                    test_size=0.3)\n",
        "from sklearn.preprocessing import MinMaxScaler\n",
        "scaler = MinMaxScaler()\n",
        "X_train = scaler.fit_transform( X_train)\n",
        "X_test = scaler.fit_transform( X_test)\n",
        "y_train = to_categorical( y_train )\n",
        "y_test = to_categorical( y_test )\n",
        "model = Sequential()\n",
        "model.add( Dense( 8, activation=\"relu\", input_shape=(3,)) )\n",
        "model.add( Dense( 4, activation=\"relu\") )\n",
        "model.add( Dense( 2,  activation=\"softmax\"))\n",
        "model.compile( optimizer='adam', loss='categorical_crossentropy', metrics=['acc'])\n",
        "model.fit( X_train, y_train, epochs=20)"
      ],
      "metadata": {
        "id": "fFc-izPZILt3",
        "colab": {
          "base_uri": "https://localhost:8080/"
        },
        "outputId": "aa66bc9d-c9cc-4a5d-dcbf-896d91e9b297"
      },
      "execution_count": null,
      "outputs": [
        {
          "output_type": "stream",
          "name": "stdout",
          "text": [
            "Epoch 1/20\n",
            "3/3 [==============================] - 1s 6ms/step - loss: 0.7048 - acc: 0.4286\n",
            "Epoch 2/20\n",
            "3/3 [==============================] - 0s 6ms/step - loss: 0.7014 - acc: 0.4429\n",
            "Epoch 3/20\n",
            "3/3 [==============================] - 0s 5ms/step - loss: 0.6988 - acc: 0.4286\n",
            "Epoch 4/20\n",
            "3/3 [==============================] - 0s 7ms/step - loss: 0.6960 - acc: 0.4429\n",
            "Epoch 5/20\n",
            "3/3 [==============================] - 0s 7ms/step - loss: 0.6937 - acc: 0.5000\n",
            "Epoch 6/20\n",
            "3/3 [==============================] - 0s 5ms/step - loss: 0.6921 - acc: 0.5286\n",
            "Epoch 7/20\n",
            "3/3 [==============================] - 0s 8ms/step - loss: 0.6903 - acc: 0.5571\n",
            "Epoch 8/20\n",
            "3/3 [==============================] - 0s 7ms/step - loss: 0.6889 - acc: 0.5714\n",
            "Epoch 9/20\n",
            "3/3 [==============================] - 0s 6ms/step - loss: 0.6873 - acc: 0.5857\n",
            "Epoch 10/20\n",
            "3/3 [==============================] - 0s 7ms/step - loss: 0.6862 - acc: 0.6000\n",
            "Epoch 11/20\n",
            "3/3 [==============================] - 0s 6ms/step - loss: 0.6853 - acc: 0.6000\n",
            "Epoch 12/20\n",
            "3/3 [==============================] - 0s 7ms/step - loss: 0.6844 - acc: 0.6000\n",
            "Epoch 13/20\n",
            "3/3 [==============================] - 0s 8ms/step - loss: 0.6834 - acc: 0.6143\n",
            "Epoch 14/20\n",
            "3/3 [==============================] - 0s 6ms/step - loss: 0.6829 - acc: 0.6000\n",
            "Epoch 15/20\n",
            "3/3 [==============================] - 0s 6ms/step - loss: 0.6820 - acc: 0.6000\n",
            "Epoch 16/20\n",
            "3/3 [==============================] - 0s 7ms/step - loss: 0.6809 - acc: 0.6000\n",
            "Epoch 17/20\n",
            "3/3 [==============================] - 0s 7ms/step - loss: 0.6800 - acc: 0.6000\n",
            "Epoch 18/20\n",
            "3/3 [==============================] - 0s 7ms/step - loss: 0.6795 - acc: 0.6000\n",
            "Epoch 19/20\n",
            "3/3 [==============================] - 0s 6ms/step - loss: 0.6788 - acc: 0.6000\n",
            "Epoch 20/20\n",
            "3/3 [==============================] - 0s 6ms/step - loss: 0.6782 - acc: 0.6000\n"
          ]
        },
        {
          "output_type": "execute_result",
          "data": {
            "text/plain": [
              "<keras.callbacks.History at 0x7e0a887e8b80>"
            ]
          },
          "metadata": {},
          "execution_count": 18
        }
      ]
    },
    {
      "cell_type": "code",
      "source": [
        "#분류 보고서\n",
        "print('\\n', classification_report(np.argmax(y_test, axis = -1), np.argmax(results, axis = -1)))\n"
      ],
      "metadata": {
        "colab": {
          "base_uri": "https://localhost:8080/",
          "height": 353
        },
        "id": "lCE-CzOlJGMd",
        "outputId": "1e593393-954d-4efe-b65f-089e99b0cb23"
      },
      "execution_count": null,
      "outputs": [
        {
          "output_type": "error",
          "ename": "ValueError",
          "evalue": "ignored",
          "traceback": [
            "\u001b[0;31m---------------------------------------------------------------------------\u001b[0m",
            "\u001b[0;31mValueError\u001b[0m                                Traceback (most recent call last)",
            "\u001b[0;32m<ipython-input-19-ebbe342b9afa>\u001b[0m in \u001b[0;36m<cell line: 2>\u001b[0;34m()\u001b[0m\n\u001b[1;32m      1\u001b[0m \u001b[0;31m#분류 보고서\u001b[0m\u001b[0;34m\u001b[0m\u001b[0;34m\u001b[0m\u001b[0m\n\u001b[0;32m----> 2\u001b[0;31m \u001b[0mprint\u001b[0m\u001b[0;34m(\u001b[0m\u001b[0;34m'\\n'\u001b[0m\u001b[0;34m,\u001b[0m \u001b[0mclassification_report\u001b[0m\u001b[0;34m(\u001b[0m\u001b[0mnp\u001b[0m\u001b[0;34m.\u001b[0m\u001b[0margmax\u001b[0m\u001b[0;34m(\u001b[0m\u001b[0my_test\u001b[0m\u001b[0;34m,\u001b[0m \u001b[0maxis\u001b[0m \u001b[0;34m=\u001b[0m \u001b[0;34m-\u001b[0m\u001b[0;36m1\u001b[0m\u001b[0;34m)\u001b[0m\u001b[0;34m,\u001b[0m \u001b[0mnp\u001b[0m\u001b[0;34m.\u001b[0m\u001b[0margmax\u001b[0m\u001b[0;34m(\u001b[0m\u001b[0mresults\u001b[0m\u001b[0;34m,\u001b[0m \u001b[0maxis\u001b[0m \u001b[0;34m=\u001b[0m \u001b[0;34m-\u001b[0m\u001b[0;36m1\u001b[0m\u001b[0;34m)\u001b[0m\u001b[0;34m)\u001b[0m\u001b[0;34m)\u001b[0m\u001b[0;34m\u001b[0m\u001b[0;34m\u001b[0m\u001b[0m\n\u001b[0m",
            "\u001b[0;32m/usr/local/lib/python3.10/dist-packages/sklearn/metrics/_classification.py\u001b[0m in \u001b[0;36mclassification_report\u001b[0;34m(y_true, y_pred, labels, target_names, sample_weight, digits, output_dict, zero_division)\u001b[0m\n\u001b[1;32m   2308\u001b[0m     \"\"\"\n\u001b[1;32m   2309\u001b[0m \u001b[0;34m\u001b[0m\u001b[0m\n\u001b[0;32m-> 2310\u001b[0;31m     \u001b[0my_type\u001b[0m\u001b[0;34m,\u001b[0m \u001b[0my_true\u001b[0m\u001b[0;34m,\u001b[0m \u001b[0my_pred\u001b[0m \u001b[0;34m=\u001b[0m \u001b[0m_check_targets\u001b[0m\u001b[0;34m(\u001b[0m\u001b[0my_true\u001b[0m\u001b[0;34m,\u001b[0m \u001b[0my_pred\u001b[0m\u001b[0;34m)\u001b[0m\u001b[0;34m\u001b[0m\u001b[0;34m\u001b[0m\u001b[0m\n\u001b[0m\u001b[1;32m   2311\u001b[0m \u001b[0;34m\u001b[0m\u001b[0m\n\u001b[1;32m   2312\u001b[0m     \u001b[0;32mif\u001b[0m \u001b[0mlabels\u001b[0m \u001b[0;32mis\u001b[0m \u001b[0;32mNone\u001b[0m\u001b[0;34m:\u001b[0m\u001b[0;34m\u001b[0m\u001b[0;34m\u001b[0m\u001b[0m\n",
            "\u001b[0;32m/usr/local/lib/python3.10/dist-packages/sklearn/metrics/_classification.py\u001b[0m in \u001b[0;36m_check_targets\u001b[0;34m(y_true, y_pred)\u001b[0m\n\u001b[1;32m     84\u001b[0m     \u001b[0my_pred\u001b[0m \u001b[0;34m:\u001b[0m \u001b[0marray\u001b[0m \u001b[0;32mor\u001b[0m \u001b[0mindicator\u001b[0m \u001b[0mmatrix\u001b[0m\u001b[0;34m\u001b[0m\u001b[0;34m\u001b[0m\u001b[0m\n\u001b[1;32m     85\u001b[0m     \"\"\"\n\u001b[0;32m---> 86\u001b[0;31m     \u001b[0mcheck_consistent_length\u001b[0m\u001b[0;34m(\u001b[0m\u001b[0my_true\u001b[0m\u001b[0;34m,\u001b[0m \u001b[0my_pred\u001b[0m\u001b[0;34m)\u001b[0m\u001b[0;34m\u001b[0m\u001b[0;34m\u001b[0m\u001b[0m\n\u001b[0m\u001b[1;32m     87\u001b[0m     \u001b[0mtype_true\u001b[0m \u001b[0;34m=\u001b[0m \u001b[0mtype_of_target\u001b[0m\u001b[0;34m(\u001b[0m\u001b[0my_true\u001b[0m\u001b[0;34m,\u001b[0m \u001b[0minput_name\u001b[0m\u001b[0;34m=\u001b[0m\u001b[0;34m\"y_true\"\u001b[0m\u001b[0;34m)\u001b[0m\u001b[0;34m\u001b[0m\u001b[0;34m\u001b[0m\u001b[0m\n\u001b[1;32m     88\u001b[0m     \u001b[0mtype_pred\u001b[0m \u001b[0;34m=\u001b[0m \u001b[0mtype_of_target\u001b[0m\u001b[0;34m(\u001b[0m\u001b[0my_pred\u001b[0m\u001b[0;34m,\u001b[0m \u001b[0minput_name\u001b[0m\u001b[0;34m=\u001b[0m\u001b[0;34m\"y_pred\"\u001b[0m\u001b[0;34m)\u001b[0m\u001b[0;34m\u001b[0m\u001b[0;34m\u001b[0m\u001b[0m\n",
            "\u001b[0;32m/usr/local/lib/python3.10/dist-packages/sklearn/utils/validation.py\u001b[0m in \u001b[0;36mcheck_consistent_length\u001b[0;34m(*arrays)\u001b[0m\n\u001b[1;32m    395\u001b[0m     \u001b[0muniques\u001b[0m \u001b[0;34m=\u001b[0m \u001b[0mnp\u001b[0m\u001b[0;34m.\u001b[0m\u001b[0munique\u001b[0m\u001b[0;34m(\u001b[0m\u001b[0mlengths\u001b[0m\u001b[0;34m)\u001b[0m\u001b[0;34m\u001b[0m\u001b[0;34m\u001b[0m\u001b[0m\n\u001b[1;32m    396\u001b[0m     \u001b[0;32mif\u001b[0m \u001b[0mlen\u001b[0m\u001b[0;34m(\u001b[0m\u001b[0muniques\u001b[0m\u001b[0;34m)\u001b[0m \u001b[0;34m>\u001b[0m \u001b[0;36m1\u001b[0m\u001b[0;34m:\u001b[0m\u001b[0;34m\u001b[0m\u001b[0;34m\u001b[0m\u001b[0m\n\u001b[0;32m--> 397\u001b[0;31m         raise ValueError(\n\u001b[0m\u001b[1;32m    398\u001b[0m             \u001b[0;34m\"Found input variables with inconsistent numbers of samples: %r\"\u001b[0m\u001b[0;34m\u001b[0m\u001b[0;34m\u001b[0m\u001b[0m\n\u001b[1;32m    399\u001b[0m             \u001b[0;34m%\u001b[0m \u001b[0;34m[\u001b[0m\u001b[0mint\u001b[0m\u001b[0;34m(\u001b[0m\u001b[0ml\u001b[0m\u001b[0;34m)\u001b[0m \u001b[0;32mfor\u001b[0m \u001b[0ml\u001b[0m \u001b[0;32min\u001b[0m \u001b[0mlengths\u001b[0m\u001b[0;34m]\u001b[0m\u001b[0;34m\u001b[0m\u001b[0;34m\u001b[0m\u001b[0m\n",
            "\u001b[0;31mValueError\u001b[0m: Found input variables with inconsistent numbers of samples: [30, 471]"
          ]
        }
      ]
    },
    {
      "cell_type": "markdown",
      "source": [
        "# 연습4: MNIST"
      ],
      "metadata": {
        "id": "-oF7PFo5CkUG"
      }
    },
    {
      "cell_type": "code",
      "source": [
        "(x_train, y_train), (x_test, y_test) = tf.keras.datasets.mnist.load_data()\n",
        "print(x_train.shape, y_train.shape,x_test.shape,y_test.shape)\n",
        "x_train.reshape(60000, 784).shape"
      ],
      "metadata": {
        "colab": {
          "base_uri": "https://localhost:8080/"
        },
        "id": "gMdbSz1l6jmg",
        "outputId": "107ed22a-c83a-461a-8772-7b7307a8fcdd"
      },
      "execution_count": null,
      "outputs": [
        {
          "output_type": "stream",
          "name": "stdout",
          "text": [
            "Downloading data from https://storage.googleapis.com/tensorflow/tf-keras-datasets/mnist.npz\n",
            "11490434/11490434 [==============================] - 0s 0us/step\n",
            "(60000, 28, 28) (60000,) (10000, 28, 28) (10000,)\n"
          ]
        },
        {
          "output_type": "execute_result",
          "data": {
            "text/plain": [
              "(60000, 784)"
            ]
          },
          "metadata": {},
          "execution_count": 108
        }
      ]
    },
    {
      "cell_type": "code",
      "source": [
        "\n",
        "#random하게 5개 이미지 확인\n",
        "sample_size = 2\n",
        "random_idx = np.random.randint(60000, size = sample_size)\n",
        "\n",
        "for idx in random_idx:\n",
        "  img = x_train[idx, :]\n",
        "  label = y_train[idx]\n",
        "  plt.figure()\n",
        "  plt.imshow(img)\n",
        "  plt.title('%d-th, label: %d' %(idx, label))"
      ],
      "metadata": {
        "id": "9LURpkBw7yB1"
      },
      "execution_count": null,
      "outputs": []
    },
    {
      "cell_type": "code",
      "source": [
        "# 파티셔닝: 7:3\n",
        "from sklearn.model_selection import train_test_split\n",
        "x_train,x_val,y_train,y_val = train_test_split(x_train,y_train, test_size = 0.3, random_state =1234)\n",
        "\n",
        "print(x_train.shape, y_train.shape)\n",
        "print(x_val.shape, y_val.shape)\n",
        "\n",
        "num_x_train = x_train.shape[0]\n",
        "num_x_val = x_val.shape[0]\n",
        "num_x_test = x_test.shape[0]"
      ],
      "metadata": {
        "colab": {
          "base_uri": "https://localhost:8080/"
        },
        "id": "fSJyMy7N80tD",
        "outputId": "afd7d9f2-fb4d-4f5a-f749-0a746bfdc7bc"
      },
      "execution_count": null,
      "outputs": [
        {
          "output_type": "stream",
          "name": "stdout",
          "text": [
            "(42000, 28, 28) (42000,)\n",
            "(18000, 28, 28) (18000,)\n"
          ]
        }
      ]
    },
    {
      "cell_type": "code",
      "source": [
        "#min_max scaling / flattening\n",
        "x_train = (x_train.reshape((num_x_train, 28*28))) / 255\n",
        "x_val = (x_val.reshape((num_x_val, 28*28))) / 255\n",
        "x_test = (x_test.reshape((num_x_test, 28*28)))/ 255"
      ],
      "metadata": {
        "id": "NPNEiXz69S43"
      },
      "execution_count": null,
      "outputs": []
    },
    {
      "cell_type": "code",
      "source": [
        "#Y: one hot encoding\n",
        "from tensorflow.keras.utils import to_categorical\n",
        "y_train = to_categorical(y_train)\n",
        "y_val = to_categorical(y_val)\n",
        "y_test = to_categorical(y_test)"
      ],
      "metadata": {
        "id": "mZTSBOh_9red"
      },
      "execution_count": null,
      "outputs": []
    },
    {
      "cell_type": "code",
      "source": [
        "#모형 구성\n",
        "from tensorflow.keras.models import Sequential\n",
        "from tensorflow.keras.layers import Dense\n",
        "model = Sequential()\n",
        "# 은닉층1-입력:784, 출력 64를 표시\n",
        "model.add(Dense(64, activation = 'relu', input_shape = (784, ) ) )\n",
        "# 은닉층2-입력:32를 표시\n",
        "model.add(Dense(32, activation = 'relu')) #32개의 출력을 가지는 Dense층\n",
        "# 은닉층3-입력:10를 표시\n",
        "model.add(Dense(10, activation = 'softmax')) # 10개의 출력을 가지는 신경망\n",
        "\n",
        "# 모형 컴파일\n",
        "model.compile(optimizer = 'adam', loss = 'categorical_crossentropy', metrics = ['acc'])\n",
        "\n",
        "# 학습\n",
        "history = model.fit(x_train, y_train, epochs = 20,\n",
        "                    batch_size = 128, validation_data = (x_val,y_val))\n"
      ],
      "metadata": {
        "id": "VJEtBef4CkcV",
        "colab": {
          "base_uri": "https://localhost:8080/"
        },
        "outputId": "c227b0a1-3e4a-4dac-8832-3f0334b9a32e"
      },
      "execution_count": null,
      "outputs": [
        {
          "output_type": "stream",
          "name": "stdout",
          "text": [
            "Epoch 1/20\n",
            "329/329 [==============================] - 3s 6ms/step - loss: 0.5131 - acc: 0.8553 - val_loss: 0.2682 - val_acc: 0.9229\n",
            "Epoch 2/20\n",
            "329/329 [==============================] - 2s 5ms/step - loss: 0.2151 - acc: 0.9391 - val_loss: 0.2008 - val_acc: 0.9416\n",
            "Epoch 3/20\n",
            "329/329 [==============================] - 2s 5ms/step - loss: 0.1659 - acc: 0.9525 - val_loss: 0.1743 - val_acc: 0.9512\n",
            "Epoch 4/20\n",
            "329/329 [==============================] - 2s 5ms/step - loss: 0.1364 - acc: 0.9613 - val_loss: 0.1717 - val_acc: 0.9487\n",
            "Epoch 5/20\n",
            "329/329 [==============================] - 3s 8ms/step - loss: 0.1171 - acc: 0.9660 - val_loss: 0.1410 - val_acc: 0.9591\n",
            "Epoch 6/20\n",
            "329/329 [==============================] - 2s 5ms/step - loss: 0.0996 - acc: 0.9709 - val_loss: 0.1301 - val_acc: 0.9627\n",
            "Epoch 7/20\n",
            "329/329 [==============================] - 2s 5ms/step - loss: 0.0888 - acc: 0.9744 - val_loss: 0.1199 - val_acc: 0.9648\n",
            "Epoch 8/20\n",
            "329/329 [==============================] - 2s 5ms/step - loss: 0.0778 - acc: 0.9775 - val_loss: 0.1168 - val_acc: 0.9658\n",
            "Epoch 9/20\n",
            "329/329 [==============================] - 2s 5ms/step - loss: 0.0673 - acc: 0.9804 - val_loss: 0.1166 - val_acc: 0.9664\n",
            "Epoch 10/20\n",
            "329/329 [==============================] - 2s 5ms/step - loss: 0.0601 - acc: 0.9813 - val_loss: 0.1098 - val_acc: 0.9687\n",
            "Epoch 11/20\n",
            "329/329 [==============================] - 2s 6ms/step - loss: 0.0534 - acc: 0.9844 - val_loss: 0.1040 - val_acc: 0.9692\n",
            "Epoch 12/20\n",
            "329/329 [==============================] - 2s 8ms/step - loss: 0.0469 - acc: 0.9863 - val_loss: 0.1040 - val_acc: 0.9694\n",
            "Epoch 13/20\n",
            "329/329 [==============================] - 2s 5ms/step - loss: 0.0432 - acc: 0.9876 - val_loss: 0.1034 - val_acc: 0.9704\n",
            "Epoch 14/20\n",
            "329/329 [==============================] - 2s 5ms/step - loss: 0.0381 - acc: 0.9888 - val_loss: 0.1032 - val_acc: 0.9708\n",
            "Epoch 15/20\n",
            "329/329 [==============================] - 2s 5ms/step - loss: 0.0324 - acc: 0.9907 - val_loss: 0.1049 - val_acc: 0.9716\n",
            "Epoch 16/20\n",
            "329/329 [==============================] - 2s 5ms/step - loss: 0.0281 - acc: 0.9922 - val_loss: 0.1024 - val_acc: 0.9712\n",
            "Epoch 17/20\n",
            "329/329 [==============================] - 2s 5ms/step - loss: 0.0249 - acc: 0.9935 - val_loss: 0.1063 - val_acc: 0.9703\n",
            "Epoch 18/20\n",
            "329/329 [==============================] - 2s 6ms/step - loss: 0.0221 - acc: 0.9944 - val_loss: 0.1059 - val_acc: 0.9719\n",
            "Epoch 19/20\n",
            "329/329 [==============================] - 2s 7ms/step - loss: 0.0189 - acc: 0.9949 - val_loss: 0.1076 - val_acc: 0.9717\n",
            "Epoch 20/20\n",
            "329/329 [==============================] - 2s 5ms/step - loss: 0.0177 - acc: 0.9950 - val_loss: 0.1203 - val_acc: 0.9689\n"
          ]
        }
      ]
    },
    {
      "cell_type": "markdown",
      "source": [
        "- 현재 은닉층은 64-32-10 구성인데, 이 부분을 64-32-16-10으로 변경해보세요\n",
        "- epcohs를 40으로 변경해보세요\n",
        "- batch_size=256으로 지정해보세요.\n",
        "-학습과정에서 오버피팅 발생하는 epoch도 찾아보세요"
      ],
      "metadata": {
        "id": "clJ1BOnyBLgz"
      }
    },
    {
      "cell_type": "code",
      "source": [
        "confusion_matrix(np.argmax(y_test, axis = -1), np.argmax(results, axis = -1))"
      ],
      "metadata": {
        "colab": {
          "base_uri": "https://localhost:8080/",
          "height": 201
        },
        "id": "3lzMX3VmAiGv",
        "outputId": "e4eedeeb-9d64-4976-83ff-ff747c16873f"
      },
      "execution_count": null,
      "outputs": [
        {
          "output_type": "error",
          "ename": "NameError",
          "evalue": "ignored",
          "traceback": [
            "\u001b[0;31m---------------------------------------------------------------------------\u001b[0m",
            "\u001b[0;31mNameError\u001b[0m                                 Traceback (most recent call last)",
            "\u001b[0;32m<ipython-input-115-43afcd4a978b>\u001b[0m in \u001b[0;36m<cell line: 2>\u001b[0;34m()\u001b[0m\n\u001b[1;32m      1\u001b[0m \u001b[0;32mfrom\u001b[0m \u001b[0msklearn\u001b[0m\u001b[0;34m.\u001b[0m\u001b[0mmetrics\u001b[0m \u001b[0;32mimport\u001b[0m \u001b[0mclassification_report\u001b[0m\u001b[0;34m,\u001b[0m \u001b[0mconfusion_matrix\u001b[0m\u001b[0;34m\u001b[0m\u001b[0;34m\u001b[0m\u001b[0m\n\u001b[0;32m----> 2\u001b[0;31m \u001b[0mconfusion_matrix\u001b[0m\u001b[0;34m(\u001b[0m\u001b[0mnp\u001b[0m\u001b[0;34m.\u001b[0m\u001b[0margmax\u001b[0m\u001b[0;34m(\u001b[0m\u001b[0my_test\u001b[0m\u001b[0;34m,\u001b[0m \u001b[0maxis\u001b[0m \u001b[0;34m=\u001b[0m \u001b[0;34m-\u001b[0m\u001b[0;36m1\u001b[0m\u001b[0;34m)\u001b[0m\u001b[0;34m,\u001b[0m \u001b[0mnp\u001b[0m\u001b[0;34m.\u001b[0m\u001b[0margmax\u001b[0m\u001b[0;34m(\u001b[0m\u001b[0mresults\u001b[0m\u001b[0;34m,\u001b[0m \u001b[0maxis\u001b[0m \u001b[0;34m=\u001b[0m \u001b[0;34m-\u001b[0m\u001b[0;36m1\u001b[0m\u001b[0;34m)\u001b[0m\u001b[0;34m)\u001b[0m\u001b[0;34m\u001b[0m\u001b[0;34m\u001b[0m\u001b[0m\n\u001b[0m",
            "\u001b[0;31mNameError\u001b[0m: name 'results' is not defined"
          ]
        }
      ]
    },
    {
      "cell_type": "markdown",
      "source": [
        "- Confusion Matrix"
      ],
      "metadata": {
        "id": "X2Zo0Y8_Cnv8"
      }
    },
    {
      "cell_type": "code",
      "source": [
        "from sklearn.metrics import classification_report, confusion_matrix\n",
        "import matplotlib.pyplot as plt\n",
        "import seaborn as sns\n",
        "results = model.predict(x_test)\n",
        "#혼동행렬을 만듬.\n",
        "plt.figure(figsize = (7,7))\n",
        "cm = confusion_matrix(np.argmax(y_test, axis = -1), np.argmax(results, axis = -1))\n",
        "sns.heatmap(cm, annot = True, fmt = 'd')\n",
        "plt.xlabel('predicted')\n",
        "plt.ylabel('actual')\n",
        "plt.show()\n",
        "\n",
        "#분류 보고서\n",
        "print('\\n', classification_report(np.argmax(y_test, axis = -1), np.argmax(results, axis = -1)))\n",
        "\n",
        "\n"
      ],
      "metadata": {
        "colab": {
          "base_uri": "https://localhost:8080/",
          "height": 965
        },
        "id": "YfExEsdiCmw3",
        "outputId": "707e9e91-b291-4d51-baf0-a47878eefea7"
      },
      "execution_count": null,
      "outputs": [
        {
          "output_type": "stream",
          "name": "stdout",
          "text": [
            "313/313 [==============================] - 1s 2ms/step\n"
          ]
        },
        {
          "output_type": "display_data",
          "data": {
            "text/plain": [
              "<Figure size 700x700 with 2 Axes>"
            ],
            "image/png": "[encoded data removed]"
          },
          "metadata": {}
        },
        {
          "output_type": "stream",
          "name": "stdout",
          "text": [
            "\n",
            "               precision    recall  f1-score   support\n",
            "\n",
            "           0       0.96      0.99      0.97       980\n",
            "           1       0.99      0.99      0.99      1135\n",
            "           2       0.98      0.96      0.97      1032\n",
            "           3       0.98      0.96      0.97      1010\n",
            "           4       0.99      0.95      0.97       982\n",
            "           5       0.95      0.97      0.96       892\n",
            "           6       0.95      0.98      0.97       958\n",
            "           7       0.96      0.98      0.97      1028\n",
            "           8       0.96      0.95      0.95       974\n",
            "           9       0.96      0.95      0.96      1009\n",
            "\n",
            "    accuracy                           0.97     10000\n",
            "   macro avg       0.97      0.97      0.97     10000\n",
            "weighted avg       0.97      0.97      0.97     10000\n",
            "\n"
          ]
        }
      ]
    },
    {
      "cell_type": "markdown",
      "source": [
        "# 문제"
      ],
      "metadata": {
        "id": "D93jvEDBw4gx"
      }
    },
    {
      "cell_type": "code",
      "source": [
        "# creditset.csv읽어서\n",
        "# Y: default10yr\n",
        "# X: income, age, loan\n",
        "# tensorflow, activation=relu, 마지막 은닉층은 softmax,\n",
        "# scaling, OHT 모두 써보기\n",
        "import pandas as pd\n",
        "from sklearn.preprocessing import MinMaxScaler\n",
        "from sklearn.model_selection import train_test_split\n",
        "\n",
        "from tensorflow.keras.models import Sequential\n",
        "from tensorflow.keras.layers import Dense\n",
        "from tensorflow.keras.optimizers import SGD, Adam\n",
        "from tensorflow.keras.losses import mse\n",
        "\n",
        "crd = pd.read_csv(\"creditset.csv\")\n",
        "crd.head()\n",
        "\n",
        "y = pd.get_dummies(crd.default10yr)\n",
        "X = crd[[\"income\", \"age\", \"loan\"]]\n",
        "\n",
        "X_s = MinMaxScaler().fit_transform(X)\n",
        "\n",
        "X_tr, X_te, y_tr, y_te = train_test_split(X_s, y, stratify=y)\n",
        "\n",
        "model = Sequential()\n",
        "model.add(Dense(100, activation = 'relu', input_shape = (3, ) ) ) # input_shape에다가 X개수 적기\n",
        "model.add(Dense(90, activation = 'relu'))\n",
        "model.add(Dense(80, activation = 'relu'))\n",
        "model.add(Dense(50, activation = 'relu'))\n",
        "model.add(Dense(30, activation = 'relu'))\n",
        "model.add(Dense(10, activation = 'relu'))\n",
        "model.add(Dense(2, activation = 'softmax'))  # 마지막 은닉층\n",
        "\n",
        "#model.compile(optimizer = 'adam', loss = 'categorical_crossentropy', metrics = ['acc'])# 모형 컴파일\n",
        "model.compile(optimizer = Adam(learning_rate=0.0005), loss = 'categorical_crossentropy', metrics = ['acc'])# 모형 컴파일\n",
        "\n",
        "model.fit(X_tr, y_tr, epochs=20)\n"
      ],
      "metadata": {
        "id": "v_2E2Zt8w70E"
      },
      "execution_count": null,
      "outputs": []
    },
    {
      "cell_type": "code",
      "source": [
        "crd.default10yr.value_counts()/2000\n",
        "# -> 0이 너무 많아서 딱 그만큼만 잡아내는 것 같음\n",
        "# 튜닝필요\n",
        "\n",
        "from imblearn.over_sampling import SMOTE\n",
        "\n",
        "sm = SMOTE(sampling_strategy=1, k_neighbors=5, random_state=1)\n",
        "x_train_res, y_train_res = sm.fit_resample(X, y)\n"
      ],
      "metadata": {
        "id": "l60x7BAm06r_"
      },
      "execution_count": null,
      "outputs": []
    },
    {
      "cell_type": "code",
      "source": [
        "# data_semi.csv 읽어서 Y: pass.fail / X: 나머지\n",
        "import pandas as pd\n",
        "from sklearn.preprocessing import MinMaxScaler\n",
        "from sklearn.model_selection import train_test_split\n",
        "\n",
        "from tensorflow.keras.models import Sequential\n",
        "from tensorflow.keras.layers import Dense\n",
        "from tensorflow.keras.optimizers import SGD, Adam\n",
        "from tensorflow.keras.losses import mse\n",
        "\n",
        "ds = pd.read_csv(\"data_semi.csv\")\n",
        "\n",
        "y = pd.get_dummies(ds[\"Pass.Fail\"])\n",
        "X = ds.drop(\"Pass.Fail\", axis=1)\n",
        "\n",
        "X_s = MinMaxScaler().fit_transform(X)\n",
        "\n",
        "X_tr, X_te, y_tr, y_te = train_test_split(X_s, y, stratify=y)\n",
        "\n",
        "model = Sequential()\n",
        "model.add(Dense(100, activation = 'relu', input_shape = (48, ) ) ) # input_shape에다가 X개수 적기\n",
        "model.add(Dense(90, activation = 'relu'))\n",
        "model.add(Dense(80, activation = 'relu'))\n",
        "model.add(Dense(50, activation = 'relu'))\n",
        "model.add(Dense(30, activation = 'relu'))\n",
        "model.add(Dense(10, activation = 'relu'))\n",
        "model.add(Dense(2, activation = 'softmax'))  # 마지막 은닉층\n",
        "\n",
        "#model.compile(optimizer = 'adam', loss = 'categorical_crossentropy', metrics = ['acc'])# 모형 컴파일\n",
        "model.compile(optimizer = Adam(learning_rate=0.0005), loss = 'categorical_crossentropy', metrics = ['acc'])# 모형 컴파일\n",
        "\n",
        "model.fit(X_tr, y_tr, epochs=20)\n",
        "\n",
        "# ---------------------------------------------------\n",
        "\n",
        "pred = model.predict(X_te)\n",
        "\n",
        "import numpy as np\n",
        "pOrgin = np.argmax(pred, axis=1) # 1차원의 원래 값으로 변경\n",
        "yOrgin = np.argmax(y_te.values, axis=1) # 테스트도 원래 값으로 변경\n",
        "\n",
        "#예측값과 원래 값을 넣어서 확인 가능\n",
        "from sklearn.metrics import classification_report\n",
        "print(classification_report(pOrgin, yOrgin))\n",
        "# 값이 0이 97퍼 1이 나머지인데 우연찮게 0으로 다 찍었더니 나온거다 볼 수 있다.\n"
      ],
      "metadata": {
        "id": "aGPRJ0BC46NT"
      },
      "execution_count": null,
      "outputs": []
    },
    {
      "cell_type": "code",
      "source": [
        "!pip install konlpy"
      ],
      "metadata": {
        "colab": {
          "base_uri": "https://localhost:8080/"
        },
        "id": "uc3d7B_kEJT1",
        "outputId": "e573da00-aed8-4efb-bf06-6c4f2f364b1d"
      },
      "execution_count": null,
      "outputs": [
        {
          "output_type": "stream",
          "name": "stdout",
          "text": [
            "Collecting konlpy\n",
            "  Downloading konlpy-0.6.0-py2.py3-none-any.whl (19.4 MB)\n",
            "\u001b[2K     \u001b[90m━━━━━━━━━━━━━━━━━━━━━━━━━━━━━━━━━━━━━━━━\u001b[0m \u001b[32m19.4/19.4 MB\u001b[0m \u001b[31m23.3 MB/s\u001b[0m eta \u001b[36m0:00:00\u001b[0m\n",
            "\u001b[?25hCollecting JPype1>=0.7.0 (from konlpy)\n",
            "  Downloading JPype1-1.4.1-cp310-cp310-manylinux_2_12_x86_64.manylinux2010_x86_64.whl (465 kB)\n",
            "\u001b[2K     \u001b[90m━━━━━━━━━━━━━━━━━━━━━━━━━━━━━━━━━━━━━━\u001b[0m \u001b[32m465.3/465.3 kB\u001b[0m \u001b[31m26.0 MB/s\u001b[0m eta \u001b[36m0:00:00\u001b[0m\n",
            "\u001b[?25hRequirement already satisfied: lxml>=4.1.0 in /usr/local/lib/python3.10/dist-packages (from konlpy) (4.9.3)\n",
            "Requirement already satisfied: numpy>=1.6 in /usr/local/lib/python3.10/dist-packages (from konlpy) (1.22.4)\n",
            "Requirement already satisfied: packaging in /usr/local/lib/python3.10/dist-packages (from JPype1>=0.7.0->konlpy) (23.1)\n",
            "Installing collected packages: JPype1, konlpy\n",
            "Successfully installed JPype1-1.4.1 konlpy-0.6.0\n"
          ]
        }
      ]
    },
    {
      "cell_type": "code",
      "source": [
        "#위의 문제 스탑워드, min_df, node수 변경해서  성능 개선\n",
        "\n",
        "import pandas as pd\n",
        "from sklearn.preprocessing import MinMaxScaler\n",
        "from sklearn.model_selection import train_test_split\n",
        "\n",
        "from tensorflow.keras.models import Sequential\n",
        "from tensorflow.keras.layers import Dense\n",
        "from tensorflow.keras.optimizers import SGD, Adam\n",
        "from tensorflow.keras.losses import mse\n",
        "\n",
        "from konlpy.tag import Okt\n",
        "\n",
        "okt = Okt()\n",
        "def token(text):\n",
        "  tmp = okt.nouns(text)\n",
        "  return tmp\n",
        "\n",
        "from sklearn.feature_extraction.text import TfidfVectorizer\n",
        "\n",
        "tfidf = TfidfVectorizer(tokenizer=token, stop_words=stop_words, min_df = 5)\n",
        "\n",
        "ds = pd.read_csv(\"data.csv\", encoding=\"cp949\")\n",
        "\n",
        "# 2000개로 변경\n",
        "X_tr, X_te = train_test_split(ds, stratify=ds.상황, test_size=0.05)\n",
        "\n",
        "y = pd.get_dummies(X_te[\"상황\"])\n",
        "X = tfidf.fit_transform(X_te.발화문)\n",
        "\n",
        "#X는 DTM이니까 Array로 변경해야함.\n",
        "#X_s = MinMaxScaler().fit_transform(X)\n",
        "X_s = MinMaxScaler().fit_transform(X.toarray())\n",
        "\n",
        "X_tr, X_te, y_tr, y_te = train_test_split(X_s, y, stratify=y)\n",
        "\n",
        "model = Sequential()\n",
        "model.add(Dense(X_tr.shape[1]/2, activation = 'relu', input_shape = (X_tr.shape[1], ) ) ) # input_shape에다가 X개수 적기\n",
        "model.add(Dense(X_tr.shape[1]/4, activation = 'relu'))\n",
        "model.add(Dense(X_tr.shape[1]/8, activation = 'relu'))\n",
        "model.add(Dense(X_tr.shape[1]/16, activation = 'relu'))\n",
        "model.add(Dense(X_tr.shape[1]/32, activation = 'relu'))\n",
        "model.add(Dense(9, activation = 'softmax'))  # 마지막 은닉층 타겟의 범주 개수\n",
        "\n",
        "#model.compile(optimizer = 'adam', loss = 'categorical_crossentropy', metrics = ['acc'])# 모형 컴파일\n",
        "model.compile(optimizer = \"Adam\", loss = 'categorical_crossentropy', metrics = ['acc'])# 모형 컴파일\n",
        "\n",
        "model.fit(X_tr, y_tr, epochs=20)\n",
        "\n",
        "# ---------------------------------------------------\n",
        "\n",
        "pred = model.predict(X_te)\n",
        "\n",
        "import numpy as np\n",
        "pOrgin = np.argmax(pred, axis=1)\n",
        "yOrgin = np.argmax(y_te.values, axis=1)\n",
        "\n",
        "from sklearn.metrics import classification_report\n",
        "print(classification_report(pOrgin, yOrgin))"
      ],
      "metadata": {
        "colab": {
          "base_uri": "https://localhost:8080/"
        },
        "id": "Ggd8r4Qe-dOS",
        "outputId": "0ef77a45-c031-4dfc-fba4-6a00ece65d19"
      },
      "execution_count": null,
      "outputs": [
        {
          "output_type": "stream",
          "name": "stderr",
          "text": [
            "/usr/local/lib/python3.10/dist-packages/sklearn/feature_extraction/text.py:528: UserWarning: The parameter 'token_pattern' will not be used since 'tokenizer' is not None'\n",
            "  warnings.warn(\n",
            "/usr/local/lib/python3.10/dist-packages/sklearn/feature_extraction/text.py:409: UserWarning: Your stop_words may be inconsistent with your preprocessing. Tokenizing the stop words generated tokens ['각하', '간', '개', '거나', '거리', '걸', '겁', '것과', '견지', '결과', '결론', '고려', '곤', '곳', '공동', '관', '관계', '관련', '구체', '구토', '근거', '기대', '기점', '기준', '김', '까닭', '나머지', '남', '낫다', '낼', '년도', '논', '누가', '다시', '답', '대로', '대하', '대해', '더', '더욱이', '도달', '도착', '동시', '됏', '두번째', '뒤', '듯', '따름', '때문', '라면', '리하', '마자', '막론', '만', '만이', '만하', '말', '망정', '메', '몰랏다', '무릎', '바', '반대', '방면', '보아', '본대', '부류', '불구', '불문', '비', '비걱거리', '비교', '뿐', '사람', '상대', '생각', '서술', '수', '시오', '시작', '시초', '아래', '아무', '안', '알', '알다', '앞', '어기', '어쨋', '어찌됏', '여보', '연관', '옆', '외', '요', '우', '위', '위해', '윗', '의거', '의지', '의치', '이로', '이서', '이외', '이용', '이유', '인', '일반', '일지', '임', '입', '입장', '적', '점', '정도', '제외', '젠', '종합', '주저', '줄', '중', '즈음', '지경', '진짜', '집', '쪽', '차', '첫', '토', '통', '편이', '하든', '하자', '한적', '함', '항목', '해', '해도', '향', '형식', '후', '힘'] not in stop_words.\n",
            "  warnings.warn(\n"
          ]
        },
        {
          "output_type": "stream",
          "name": "stdout",
          "text": [
            "Epoch 1/20\n",
            "52/52 [==============================] - 1s 3ms/step - loss: 2.1552 - acc: 0.2303\n",
            "Epoch 2/20\n",
            "52/52 [==============================] - 0s 3ms/step - loss: 1.8636 - acc: 0.3861\n",
            "Epoch 3/20\n",
            "52/52 [==============================] - 0s 3ms/step - loss: 1.3037 - acc: 0.5376\n",
            "Epoch 4/20\n",
            "52/52 [==============================] - 0s 3ms/step - loss: 1.0500 - acc: 0.6485\n",
            "Epoch 5/20\n",
            "52/52 [==============================] - 0s 3ms/step - loss: 0.9001 - acc: 0.7139\n",
            "Epoch 6/20\n",
            "52/52 [==============================] - 0s 3ms/step - loss: 0.7930 - acc: 0.7424\n",
            "Epoch 7/20\n",
            "52/52 [==============================] - 0s 3ms/step - loss: 0.7100 - acc: 0.7830\n",
            "Epoch 8/20\n",
            "52/52 [==============================] - 0s 3ms/step - loss: 0.6302 - acc: 0.8048\n",
            "Epoch 9/20\n",
            "52/52 [==============================] - 0s 3ms/step - loss: 0.5973 - acc: 0.8145\n",
            "Epoch 10/20\n",
            "52/52 [==============================] - 0s 3ms/step - loss: 0.5590 - acc: 0.8236\n",
            "Epoch 11/20\n",
            "52/52 [==============================] - 0s 3ms/step - loss: 0.5304 - acc: 0.8303\n",
            "Epoch 12/20\n",
            "52/52 [==============================] - 0s 3ms/step - loss: 0.5032 - acc: 0.8315\n",
            "Epoch 13/20\n",
            "52/52 [==============================] - 0s 3ms/step - loss: 0.5040 - acc: 0.8370\n",
            "Epoch 14/20\n",
            "52/52 [==============================] - 0s 3ms/step - loss: 0.4917 - acc: 0.8442\n",
            "Epoch 15/20\n",
            "52/52 [==============================] - 0s 3ms/step - loss: 0.4751 - acc: 0.8479\n",
            "Epoch 16/20\n",
            "52/52 [==============================] - 0s 3ms/step - loss: 0.4610 - acc: 0.8545\n",
            "Epoch 17/20\n",
            "52/52 [==============================] - 0s 3ms/step - loss: 0.4553 - acc: 0.8491\n",
            "Epoch 18/20\n",
            "52/52 [==============================] - 0s 3ms/step - loss: 0.4456 - acc: 0.8570\n",
            "Epoch 19/20\n",
            "52/52 [==============================] - 0s 3ms/step - loss: 0.4297 - acc: 0.8618\n",
            "Epoch 20/20\n",
            "52/52 [==============================] - 0s 3ms/step - loss: 0.4329 - acc: 0.8521\n",
            "18/18 [==============================] - 0s 2ms/step\n",
            "              precision    recall  f1-score   support\n",
            "\n",
            "           0       0.70      0.82      0.75        89\n",
            "           1       0.56      0.62      0.59        37\n",
            "           2       0.59      0.76      0.66        45\n",
            "           3       0.48      0.62      0.54        40\n",
            "           4       0.75      0.80      0.77        54\n",
            "           5       0.49      0.57      0.53        35\n",
            "           6       0.86      0.57      0.69       208\n",
            "           7       0.43      0.62      0.51        24\n",
            "           8       0.68      0.83      0.75        18\n",
            "\n",
            "    accuracy                           0.67       550\n",
            "   macro avg       0.61      0.69      0.64       550\n",
            "weighted avg       0.70      0.67      0.67       550\n",
            "\n"
          ]
        }
      ]
    },
    {
      "cell_type": "code",
      "source": [
        "\n",
        "for sentence in tqdm(df['news']):\n",
        "    tokenized_sentence = okt.nouns(sentence)\n",
        "    stopwords_removed_sentence = [word for word in tokenized_sentence if not word in stopwords] # 불용어 제거\n",
        "    dsn_token_data.append(stopwords_removed_sentence)"
      ],
      "metadata": {
        "id": "ShAMotDiJovu"
      },
      "execution_count": null,
      "outputs": []
    },
    {
      "cell_type": "code",
      "source": [
        "stop_words = ['가',\n",
        "'가까스로',\n",
        "'가령',\n",
        "'각',\n",
        "'각각',\n",
        "'각자',\n",
        "'각종',\n",
        "'갖고말하자면',\n",
        "'같다',\n",
        "'같이',\n",
        "'개의치않고',\n",
        "'거니와',\n",
        "'거바',\n",
        "'거의',\n",
        "'것',\n",
        "'것과 같이',\n",
        "'것들',\n",
        "'게다가',\n",
        "'게우다',\n",
        "'겨우',\n",
        "'견지에서',\n",
        "'결과에 이르다',\n",
        "'결국',\n",
        "'결론을 낼 수 있다',\n",
        "'겸사겸사',\n",
        "'고려하면',\n",
        "'고로',\n",
        "'곧',\n",
        "'공동으로',\n",
        "'과',\n",
        "'과연',\n",
        "'관계가 있다',\n",
        "'관계없이',\n",
        "'관련이 있다',\n",
        "'관하여',\n",
        "'관한',\n",
        "'관해서는',\n",
        "'구',\n",
        "'구체적으로',\n",
        "'구토하다',\n",
        "'그',\n",
        "'그들',\n",
        "'그때',\n",
        "'그래',\n",
        "'그래도',\n",
        "'그래서',\n",
        "'그러나',\n",
        "'그러니',\n",
        "'그러니까',\n",
        "'그러면',\n",
        "'그러므로',\n",
        "'그러한즉',\n",
        "'그런 까닭에',\n",
        "'그런데',\n",
        "'그런즉',\n",
        "'그럼',\n",
        "'그럼에도 불구하고',\n",
        "'그렇게 함으로써',\n",
        "'그렇지',\n",
        "'그렇지 않다면',\n",
        "'그렇지 않으면',\n",
        "'그렇지만',\n",
        "'그렇지않으면',\n",
        "'그리고',\n",
        "'그리하여',\n",
        "'그만이다',\n",
        "'그에 따르는',\n",
        "'그위에',\n",
        "'그저',\n",
        "'그중에서',\n",
        "'그치지 않다',\n",
        "'근거로',\n",
        "'근거하여',\n",
        "'기대여',\n",
        "'기점으로',\n",
        "'기준으로',\n",
        "'기타',\n",
        "'까닭으로',\n",
        "'까악',\n",
        "'까지',\n",
        "'까지 미치다',\n",
        "'까지도',\n",
        "'꽈당',\n",
        "'끙끙',\n",
        "'끼익',\n",
        "'나',\n",
        "'나머지는',\n",
        "'남들',\n",
        "'남짓',\n",
        "'너',\n",
        "'너희',\n",
        "'너희들',\n",
        "'네',\n",
        "'넷',\n",
        "'년',\n",
        "'논하지 않다',\n",
        "'놀라다',\n",
        "'누가 알겠는가',\n",
        "'누구',\n",
        "'다른',\n",
        "'다른 방면으로',\n",
        "'다만',\n",
        "'다섯',\n",
        "'다소',\n",
        "'다수',\n",
        "'다시 말하자면',\n",
        "'다시말하면',\n",
        "'다음',\n",
        "'다음에',\n",
        "'다음으로',\n",
        "'단지',\n",
        "'답다',\n",
        "'당신',\n",
        "'당장',\n",
        "'대로 하다',\n",
        "'대하면',\n",
        "'대하여',\n",
        "'대해 말하자면',\n",
        "'대해서',\n",
        "'댕그',\n",
        "'더구나',\n",
        "'더군다나',\n",
        "'더라도',\n",
        "'더불어',\n",
        "'더욱더',\n",
        "'더욱이는',\n",
        "'도달하다',\n",
        "'도착하다',\n",
        "'동시에',\n",
        "'동안',\n",
        "'된바에야',\n",
        "'된이상',\n",
        "'두번째로',\n",
        "'둘',\n",
        "'둥둥',\n",
        "'뒤따라',\n",
        "'뒤이어',\n",
        "'든간에',\n",
        "'들',\n",
        "'등',\n",
        "'등등',\n",
        "'딩동',\n",
        "'따라',\n",
        "'따라서',\n",
        "'따위',\n",
        "'따지지 않다',\n",
        "'딱',\n",
        "'때',\n",
        "'때가 되어',\n",
        "'때문에',\n",
        "'또',\n",
        "'또한',\n",
        "'뚝뚝',\n",
        "'라 해도',\n",
        "'령',\n",
        "'로',\n",
        "'로 인하여',\n",
        "'로부터',\n",
        "'로써',\n",
        "'륙',\n",
        "'를',\n",
        "'마음대로',\n",
        "'마저',\n",
        "'마저도',\n",
        "'마치',\n",
        "'막론하고',\n",
        "'만 못하다',\n",
        "'만약',\n",
        "'만약에',\n",
        "'만은 아니다',\n",
        "'만이 아니다',\n",
        "'만일',\n",
        "'만큼',\n",
        "'말하자면',\n",
        "'말할것도 없고',\n",
        "'매',\n",
        "'매번',\n",
        "'메쓰겁다',\n",
        "'몇',\n",
        "'모',\n",
        "'모두',\n",
        "'무렵',\n",
        "'무릎쓰고',\n",
        "'무슨',\n",
        "'무엇',\n",
        "'무엇때문에',\n",
        "'물론',\n",
        "'및',\n",
        "'바꾸어말하면',\n",
        "'바꾸어말하자면',\n",
        "'바꾸어서 말하면',\n",
        "'바꾸어서 한다면',\n",
        "'바꿔 말하면',\n",
        "'바로',\n",
        "'바와같이',\n",
        "'밖에 안된다',\n",
        "'반대로',\n",
        "'반대로 말하자면',\n",
        "'반드시',\n",
        "'버금',\n",
        "'보는데서',\n",
        "'보다더',\n",
        "'보드득',\n",
        "'본대로',\n",
        "'봐',\n",
        "'봐라',\n",
        "'부류의 사람들',\n",
        "'부터',\n",
        "'불구하고',\n",
        "'불문하고',\n",
        "'붕붕',\n",
        "'비걱거리다',\n",
        "'비교적',\n",
        "'비길수 없다',\n",
        "'비로소',\n",
        "'비록',\n",
        "'비슷하다',\n",
        "'비추어 보아',\n",
        "'비하면',\n",
        "'뿐만 아니라',\n",
        "'뿐만아니라',\n",
        "'뿐이다',\n",
        "'삐걱',\n",
        "'삐걱거리다',\n",
        "'사',\n",
        "'삼',\n",
        "'상대적으로 말하자면',\n",
        "'생각한대로',\n",
        "'설령',\n",
        "'설마',\n",
        "'설사',\n",
        "'셋',\n",
        "'소생',\n",
        "'소인',\n",
        "'솨',\n",
        "'쉿',\n",
        "'습니까',\n",
        "'습니다',\n",
        "'시각',\n",
        "'시간',\n",
        "'시작하여',\n",
        "'시초에',\n",
        "'시키다',\n",
        "'실로',\n",
        "'심지어',\n",
        "'아',\n",
        "'아니',\n",
        "'아니나다를가',\n",
        "'아니라면',\n",
        "'아니면',\n",
        "'아니었다면',\n",
        "'아래윗',\n",
        "'아무거나',\n",
        "'아무도',\n",
        "'아야',\n",
        "'아울러',\n",
        "'아이',\n",
        "'아이고',\n",
        "'아이구',\n",
        "'아이야',\n",
        "'아이쿠',\n",
        "'아하',\n",
        "'아홉',\n",
        "'안 그러면',\n",
        "'않기 위하여',\n",
        "'않기 위해서',\n",
        "'알 수 있다',\n",
        "'알았어',\n",
        "'앗',\n",
        "'앞에서',\n",
        "'앞의것',\n",
        "'야',\n",
        "'약간',\n",
        "'양자',\n",
        "'어',\n",
        "'어기여차',\n",
        "'어느',\n",
        "'어느 년도',\n",
        "'어느것',\n",
        "'어느곳',\n",
        "'어느때',\n",
        "'어느쪽',\n",
        "'어느해',\n",
        "'어디',\n",
        "'어때',\n",
        "'어떠한',\n",
        "'어떤',\n",
        "'어떤것',\n",
        "'어떤것들',\n",
        "'어떻게',\n",
        "'어떻해',\n",
        "'어이',\n",
        "'어째서',\n",
        "'어쨋든',\n",
        "'어쩔수 없다',\n",
        "'어찌',\n",
        "'어찌됏든',\n",
        "'어찌됏어',\n",
        "'어찌하든지',\n",
        "'어찌하여',\n",
        "'언제',\n",
        "'언젠가',\n",
        "'얼마',\n",
        "'얼마 안 되는 것',\n",
        "'얼마간',\n",
        "'얼마나',\n",
        "'얼마든지',\n",
        "'얼마만큼',\n",
        "'얼마큼',\n",
        "'엉엉',\n",
        "'에',\n",
        "'에 가서',\n",
        "'에 달려 있다',\n",
        "'에 대해',\n",
        "'에 있다',\n",
        "'에 한하다',\n",
        "'에게',\n",
        "'에서',\n",
        "'여',\n",
        "'여기',\n",
        "'여덟',\n",
        "'여러분',\n",
        "'여보시오',\n",
        "'여부',\n",
        "'여섯',\n",
        "'여전히',\n",
        "'여차',\n",
        "'연관되다',\n",
        "'연이서',\n",
        "'영',\n",
        "'영차',\n",
        "'옆사람',\n",
        "'예',\n",
        "'예를 들면',\n",
        "'예를 들자면',\n",
        "'예컨대',\n",
        "'예하면',\n",
        "'오',\n",
        "'오로지',\n",
        "'오르다',\n",
        "'오자마자',\n",
        "'오직',\n",
        "'오호',\n",
        "'오히려',\n",
        "'와',\n",
        "'와 같은 사람들',\n",
        "'와르르',\n",
        "'와아',\n",
        "'왜',\n",
        "'왜냐하면',\n",
        "'외에도',\n",
        "'요만큼',\n",
        "'요만한 것',\n",
        "'요만한걸',\n",
        "'요컨대',\n",
        "'우르르',\n",
        "'우리',\n",
        "'우리들',\n",
        "'우선',\n",
        "'우에 종합한것과같이',\n",
        "'운운',\n",
        "'월',\n",
        "'위에서 서술한바와같이',\n",
        "'위하여',\n",
        "'위해서',\n",
        "'윙윙',\n",
        "'육',\n",
        "'으로',\n",
        "'으로 인하여',\n",
        "'으로서',\n",
        "'으로써',\n",
        "'을',\n",
        "'응',\n",
        "'응당',\n",
        "'의',\n",
        "'의거하여',\n",
        "'의지하여',\n",
        "'의해',\n",
        "'의해되다',\n",
        "'의해서',\n",
        "'이',\n",
        "'이 되다',\n",
        "'이 때문에',\n",
        "'이 밖에',\n",
        "'이 외에',\n",
        "'이 정도의',\n",
        "'이것',\n",
        "'이곳',\n",
        "'이때',\n",
        "'이라면',\n",
        "'이래',\n",
        "'이러이러하다',\n",
        "'이러한',\n",
        "'이런',\n",
        "'이럴정도로',\n",
        "'이렇게 많은 것',\n",
        "'이렇게되면',\n",
        "'이렇게말하자면',\n",
        "'이렇구나',\n",
        "'이로 인하여',\n",
        "'이르기까지',\n",
        "'이리하여',\n",
        "'이만큼',\n",
        "'이번',\n",
        "'이봐',\n",
        "'이상',\n",
        "'이어서',\n",
        "'이었다',\n",
        "'이와 같다',\n",
        "'이와 같은',\n",
        "'이와 반대로',\n",
        "'이와같다면',\n",
        "'이외에도',\n",
        "'이용하여',\n",
        "'이유만으로',\n",
        "'이젠',\n",
        "'이지만',\n",
        "'이쪽',\n",
        "'이천구',\n",
        "'이천육',\n",
        "'이천칠',\n",
        "'이천팔',\n",
        "'인 듯하다',\n",
        "'인젠',\n",
        "'일',\n",
        "'일것이다',\n",
        "'일곱',\n",
        "'일단',\n",
        "'일때',\n",
        "'일반적으로',\n",
        "'일지라도',\n",
        "'임에 틀림없다',\n",
        "'입각하여',\n",
        "'입장에서',\n",
        "'잇따라',\n",
        "'있다',\n",
        "'자',\n",
        "'자기',\n",
        "'자기집',\n",
        "'자마자',\n",
        "'자신',\n",
        "'잠깐',\n",
        "'잠시',\n",
        "'저',\n",
        "'저것',\n",
        "'저것만큼',\n",
        "'저기',\n",
        "'저쪽',\n",
        "'저희',\n",
        "'전부',\n",
        "'전자',\n",
        "'전후',\n",
        "'점에서 보아',\n",
        "'정도에 이르다',\n",
        "'제',\n",
        "'제각기',\n",
        "'제외하고',\n",
        "'조금',\n",
        "'조차',\n",
        "'조차도',\n",
        "'졸졸',\n",
        "'좀',\n",
        "'좋아',\n",
        "'좍좍',\n",
        "'주룩주룩',\n",
        "'주저하지 않고',\n",
        "'줄은 몰랏다',\n",
        "'줄은모른다',\n",
        "'중에서',\n",
        "'중의하나',\n",
        "'즈음하여',\n",
        "'즉',\n",
        "'즉시',\n",
        "'지든지',\n",
        "'지만',\n",
        "'지말고',\n",
        "'진짜로',\n",
        "'쪽으로',\n",
        "'차라리',\n",
        "'참',\n",
        "'참나',\n",
        "'첫번째로',\n",
        "'쳇',\n",
        "'총적으로',\n",
        "'총적으로 말하면',\n",
        "'총적으로 보면',\n",
        "'칠',\n",
        "'콸콸',\n",
        "'쾅쾅',\n",
        "'쿵',\n",
        "'타다',\n",
        "'타인',\n",
        "'탕탕',\n",
        "'토하다',\n",
        "'통하여',\n",
        "'툭',\n",
        "'퉤',\n",
        "'틈타',\n",
        "'팍',\n",
        "'팔',\n",
        "'퍽',\n",
        "'펄렁',\n",
        "'하',\n",
        "'하게될것이다',\n",
        "'하게하다',\n",
        "'하겠는가',\n",
        "'하고 있다',\n",
        "'하고있었다',\n",
        "'하곤하였다',\n",
        "'하구나',\n",
        "'하기 때문에',\n",
        "'하기 위하여',\n",
        "'하기는한데',\n",
        "'하기만 하면',\n",
        "'하기보다는',\n",
        "'하기에',\n",
        "'하나',\n",
        "'하느니',\n",
        "'하는 김에',\n",
        "'하는 편이 낫다',\n",
        "'하는것도',\n",
        "'하는것만 못하다',\n",
        "'하는것이 낫다',\n",
        "'하는바',\n",
        "'하더라도',\n",
        "'하도다',\n",
        "'하도록시키다',\n",
        "'하도록하다',\n",
        "'하든지',\n",
        "'하려고하다',\n",
        "'하마터면',\n",
        "'하면 할수록',\n",
        "'하면된다',\n",
        "'하면서',\n",
        "'하물며',\n",
        "'하여금',\n",
        "'하여야',\n",
        "'하자마자',\n",
        "'하지 않는다면',\n",
        "'하지 않도록',\n",
        "'하지마',\n",
        "'하지마라',\n",
        "'하지만',\n",
        "'하하',\n",
        "'한 까닭에',\n",
        "'한 이유는',\n",
        "'한 후',\n",
        "'한다면',\n",
        "'한다면 몰라도',\n",
        "'한데',\n",
        "'한마디',\n",
        "'한적이있다',\n",
        "'한켠으로는',\n",
        "'한항목',\n",
        "'할 따름이다',\n",
        "'할 생각이다',\n",
        "'할 줄 안다',\n",
        "'할 지경이다',\n",
        "'할 힘이 있다',\n",
        "'할때',\n",
        "'할만하다',\n",
        "'할망정',\n",
        "'할뿐',\n",
        "'할수있다',\n",
        "'할수있어',\n",
        "'할줄알다',\n",
        "'할지라도',\n",
        "'할지언정',\n",
        "'함께',\n",
        "'해도된다',\n",
        "'해도좋다',\n",
        "'해봐요',\n",
        "'해서는 안된다',\n",
        "'해야한다',\n",
        "'해요',\n",
        "'했어요',\n",
        "'향하다',\n",
        "'향하여',\n",
        "'향해서',\n",
        "'허',\n",
        "'허걱',\n",
        "'허허',\n",
        "'헉',\n",
        "'헉헉',\n",
        "'헐떡헐떡',\n",
        "'형식으로 쓰여',\n",
        "'혹시',\n",
        "'혹은',\n",
        "'혼자',\n",
        "'훨씬',\n",
        "'휘익',\n",
        "'휴',\n",
        "'흐흐',\n",
        "'흥',\n",
        "'힘입어']"
      ],
      "metadata": {
        "id": "bZaglIThJWeG"
      },
      "execution_count": null,
      "outputs": []
    }
  ]
}