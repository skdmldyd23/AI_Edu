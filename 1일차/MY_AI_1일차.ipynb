{
  "nbformat": 4,
  "nbformat_minor": 0,
  "metadata": {
    "colab": {
      "provenance": [],
      "toc_visible": true,
      "include_colab_link": true
    },
    "kernelspec": {
      "name": "python3",
      "display_name": "Python 3"
    },
    "language_info": {
      "name": "python"
    }
  },
  "cells": [
    {
      "cell_type": "markdown",
      "metadata": {
        "id": "view-in-github",
        "colab_type": "text"
      },
      "source": [
        "<a href=\"https://colab.research.google.com/github/skdmldyd23/AI_Edu/blob/main/AI_1%EC%9D%BC%EC%B0%A8.ipynb\" target=\"_parent\"><img src=\"https://colab.research.google.com/assets/colab-badge.svg\" alt=\"Open In Colab\"/></a>"
      ]
    },
    {
      "cell_type": "markdown",
      "source": [
        "# 1일차 학습 목표\n",
        "- 파이썬 기본 자료구조\n",
        "- 기본 문법\n",
        "- 패키지 활용\n",
        "- numpy, pandas 자료구조\n",
        "- 데이터 처리 연습"
      ],
      "metadata": {
        "id": "EC4jfUUI8vFa"
      }
    },
    {
      "cell_type": "markdown",
      "source": [
        "#1. 기본 자료구조"
      ],
      "metadata": {
        "id": "I0YwBPnl4kKR"
      }
    },
    {
      "cell_type": "code",
      "source": [
        "#좌측 상단 +코드로 코드셀 추가 가능\n",
        "print(\"Hello, World!\")"
      ],
      "metadata": {
        "colab": {
          "base_uri": "https://localhost:8080/"
        },
        "id": "imoLAUYPZ6tW",
        "outputId": "f898a1eb-b0fd-46d5-da93-6f267f3906b2"
      },
      "execution_count": null,
      "outputs": [
        {
          "output_type": "stream",
          "name": "stdout",
          "text": [
            "Hello world\n"
          ]
        }
      ]
    },
    {
      "cell_type": "code",
      "source": [
        "list1 = [ 20,10,5]  #리스트\n",
        "#실행: 플레이버튼, 또는  ctrl+enter\n",
        "print( list1 )\n",
        "list1[ 1 ]#인덱싱\n",
        "list1[ 1:3 ] #슬라이싱\n",
        "list1[ 2 ] = 40\n",
        "list1[ 0 ] = \"data\" #Any Data Type\n",
        "list1.append( 1000000000 )\n",
        "list1.append( list1 )"
      ],
      "metadata": {
        "id": "DXMrz8wqjsmG",
        "colab": {
          "base_uri": "https://localhost:8080/"
        },
        "outputId": "cd5c39d2-ab32-422f-8fd0-2fa97d0e5fdd"
      },
      "execution_count": null,
      "outputs": [
        {
          "output_type": "stream",
          "name": "stdout",
          "text": [
            "[20, 10, 5, 1]\n",
            "10\n",
            "[10, 5]\n",
            "['data', 10, 40, 1, 1000000000, [...]]\n"
          ]
        }
      ]
    },
    {
      "cell_type": "code",
      "source": [
        "tuple1 = ( 10,20,5 )\n",
        "tuple1[1] = 40  #tuple의 값은은 수정 불가"
      ],
      "metadata": {
        "id": "qw9YDsUGlB4s"
      },
      "execution_count": null,
      "outputs": []
    },
    {
      "cell_type": "code",
      "source": [
        "#다음과 같은 리스트를 만들어보세요.\n",
        "#[[1,2],[3,4],[5,6]]\n",
        "list = [[1,2],[3,4],[5,6]]\n",
        "list\n",
        "#list의 첫번째 값\n",
        "list[0]   # = 1,2의 값을 가진 리스트\n",
        "list[0]*2 # = 1,2,1,2"
      ],
      "metadata": {
        "colab": {
          "base_uri": "https://localhost:8080/"
        },
        "id": "o3IgwBjbkL9u",
        "outputId": "2d173fd1-44c9-4a22-b51a-9db9c524b128"
      },
      "execution_count": null,
      "outputs": [
        {
          "output_type": "execute_result",
          "data": {
            "text/plain": [
              "[1, 2, 1, 2]"
            ]
          },
          "metadata": {},
          "execution_count": 10
        }
      ]
    },
    {
      "cell_type": "code",
      "source": [
        "set1 = { 10,20, 5}\n",
        "#set1[ 1 ]#인덱싱 불가\n",
        "dict1 = {  'a':10,  'b':20,  'c':5}\n",
        "dict1 #key-value\n",
        "dict1['a']"
      ],
      "metadata": {
        "colab": {
          "base_uri": "https://localhost:8080/"
        },
        "id": "Ne_x9Xohq5iK",
        "outputId": "409bd50c-57d5-4b27-c44a-b3fb0b5c50f3"
      },
      "execution_count": null,
      "outputs": [
        {
          "output_type": "execute_result",
          "data": {
            "text/plain": [
              "10"
            ]
          },
          "metadata": {},
          "execution_count": 26
        }
      ]
    },
    {
      "cell_type": "code",
      "source": [
        "list3 = [ 3, 2.1, \"A\", 10]\n",
        "list3[ 1:3 ]\n",
        "list3[  2 ] = 100\n",
        "list3.append( 99 )\n",
        "list3"
      ],
      "metadata": {
        "colab": {
          "base_uri": "https://localhost:8080/"
        },
        "id": "YXieC5ditC9G",
        "outputId": "3290624d-8aba-4b2b-d5d8-680502d7be3c"
      },
      "execution_count": null,
      "outputs": [
        {
          "output_type": "execute_result",
          "data": {
            "text/plain": [
              "[3, 2.1, 100, 10, 99]"
            ]
          },
          "metadata": {},
          "execution_count": 29
        }
      ]
    },
    {
      "cell_type": "code",
      "source": [
        "list4 = [1,2,3]\n",
        "list5 = [ [1,2], [3,4]    ]\n",
        "list5"
      ],
      "metadata": {
        "id": "KSVVmkmDtnAd"
      },
      "execution_count": null,
      "outputs": []
    },
    {
      "cell_type": "code",
      "source": [
        "dict2 = {'A':[1,2,3]  , 'B':[4,5,6] }\n",
        "dict2"
      ],
      "metadata": {
        "id": "j2PrgBiGvG-r"
      },
      "execution_count": null,
      "outputs": []
    },
    {
      "cell_type": "code",
      "source": [
        "list6 = [] \n",
        "list6.append( dict2 )\n",
        "list6"
      ],
      "metadata": {
        "colab": {
          "base_uri": "https://localhost:8080/"
        },
        "id": "CzgnVY8YvjP8",
        "outputId": "65a89335-0764-45c2-9a9c-65e42eb18af2"
      },
      "execution_count": null,
      "outputs": [
        {
          "output_type": "execute_result",
          "data": {
            "text/plain": [
              "[{'A': [1, 2, 3], 'B': [4, 5, 6]}]"
            ]
          },
          "metadata": {},
          "execution_count": 38
        }
      ]
    },
    {
      "cell_type": "markdown",
      "source": [
        "## #2. 조건문, 반복문, 예외처리 "
      ],
      "metadata": {
        "id": "9veJLa-14pfc"
      }
    },
    {
      "cell_type": "code",
      "source": [
        "l2 = [4,2,3]\n",
        "l3 = []\n",
        "\n",
        "#반복문으로 곱하기\n",
        "for i in l2:\n",
        "  l3.append(i*3)\n",
        "l3\n",
        "\n",
        "#다른 스타일\n",
        "l4 = [i*4 for i in l2]\n",
        "l4\n",
        "\n",
        "#if문 적용\n",
        "sales = [1,2,3,4,5]\n",
        "print(\"test - \", [i for i in sales if i > 3])"
      ],
      "metadata": {
        "colab": {
          "base_uri": "https://localhost:8080/"
        },
        "id": "wfLAUfQonqGQ",
        "outputId": "d850712f-b869-4970-9189-de99a1417fe1"
      },
      "execution_count": null,
      "outputs": [
        {
          "output_type": "execute_result",
          "data": {
            "text/plain": [
              "[16, 8, 12]"
            ]
          },
          "metadata": {},
          "execution_count": 14
        }
      ]
    },
    {
      "cell_type": "code",
      "source": [
        "#- 1부터 10까지 값을 갖는 리스트\n",
        "# 홀수 *2, 짝수 *3\n",
        "# 결과는 리스트\n",
        "# 두 가지 방법\n",
        "\n",
        "#1\n",
        "list = [1,2,3,4,5,6,7,8,9,10]\n",
        "result = []\n",
        "for i in list:\n",
        "  if i < 5:\n",
        "    result.append(i*2)\n",
        "  else:\n",
        "    result.append(i*3)\n",
        "print(result)\n",
        "\n",
        "#2 \n",
        "list = [1,2,3,4,5,6,7,8,9,10]\n",
        "result = []\n",
        "result.append([i*2 for i in list if i < 5])\n",
        "result.append([i*3 for i in list if i >= 5])\n",
        "print(result)"
      ],
      "metadata": {
        "id": "OClZV6pAokBc"
      },
      "execution_count": null,
      "outputs": []
    },
    {
      "cell_type": "code",
      "source": [
        "list = [1,0,2,0,3,0,0,4,0,0,0,5,0]\n",
        "for i in list:\n",
        "  try:\n",
        "    print(1/i)\n",
        "  except:\n",
        "    print(i,\" - error\")\n",
        "    pass"
      ],
      "metadata": {
        "colab": {
          "base_uri": "https://localhost:8080/"
        },
        "id": "h5MRR3Ocsbux",
        "outputId": "5412a6b8-9443-41ef-b76d-3294439c759a"
      },
      "execution_count": null,
      "outputs": [
        {
          "output_type": "stream",
          "name": "stdout",
          "text": [
            "1.0\n",
            "0  - error\n",
            "0.5\n",
            "0  - error\n",
            "0.3333333333333333\n",
            "0  - error\n",
            "0  - error\n",
            "0.25\n",
            "0  - error\n",
            "0  - error\n",
            "0  - error\n",
            "0.2\n",
            "0  - error\n"
          ]
        }
      ]
    },
    {
      "cell_type": "code",
      "execution_count": null,
      "metadata": {
        "colab": {
          "base_uri": "https://localhost:8080/"
        },
        "id": "fMRWRNfDtAuT",
        "outputId": "43f4d87e-7ed5-4f5b-ffcc-feb2a4296b9b"
      },
      "outputs": [
        {
          "output_type": "execute_result",
          "data": {
            "text/plain": [
              "True"
            ]
          },
          "metadata": {},
          "execution_count": 3
        }
      ],
      "source": [
        "a = 90\n",
        "a > 70"
      ]
    },
    {
      "cell_type": "code",
      "source": [
        "if a > 70 :\n",
        "  print(\"탕수육\")"
      ],
      "metadata": {
        "colab": {
          "base_uri": "https://localhost:8080/"
        },
        "id": "v1kzWKqZvrIW",
        "outputId": "6e14b348-5dea-4142-b5c9-0325b3005109"
      },
      "execution_count": null,
      "outputs": [
        {
          "output_type": "stream",
          "name": "stdout",
          "text": [
            "탕수육\n"
          ]
        }
      ]
    },
    {
      "cell_type": "code",
      "source": [
        "b=65\n",
        "if b < 90 :\n",
        "  if b <70:\n",
        "    print(\"small\")\n",
        "  else:\n",
        "    print(\"중간\")\n",
        "else:\n",
        "  print(\"big\")"
      ],
      "metadata": {
        "colab": {
          "base_uri": "https://localhost:8080/"
        },
        "id": "PifWpQzjwORl",
        "outputId": "2019f23c-fe30-41f7-f746-847ec9b915cd"
      },
      "execution_count": null,
      "outputs": [
        {
          "output_type": "stream",
          "name": "stdout",
          "text": [
            "small\n"
          ]
        }
      ]
    },
    {
      "cell_type": "code",
      "source": [
        "c=91\n",
        "d=50\n",
        "if (c > 90) | (d > 90):\n",
        "  print(\"pizza\")"
      ],
      "metadata": {
        "colab": {
          "base_uri": "https://localhost:8080/"
        },
        "id": "DglZE1gm0n8d",
        "outputId": "754afbdc-a86a-487a-aacf-a74d3f24f10a"
      },
      "execution_count": null,
      "outputs": [
        {
          "output_type": "stream",
          "name": "stdout",
          "text": [
            "pizza\n"
          ]
        }
      ]
    },
    {
      "cell_type": "code",
      "source": [
        "sales = [1,2,3,4,5]\n",
        "for i in sales:\n",
        " if i > 3 :\n",
        "  print(i)\n",
        "\n",
        "# sales2 = [ 10, 7, 12, 5, 19, 6] 일때, sales2의 각 값이 10보다 작으면\n",
        "# 2배해서 출력하고, 그렇지 않으면 그냥 출력하세요\n",
        "sales2 = [ 10, 7, 12, 5, 19, 6]\n",
        "for i in sales2:\n",
        "  if i > 10:\n",
        "    print(i*2)\n",
        "  else:\n",
        "    print(i)\n",
        "\n",
        "#sales2의 값에다가 모두 2를 곱해서 출력하기\n",
        "#방법1\n",
        "for i in sales2:\n",
        "  print( i*2 )\n",
        "#방법2\n",
        "[ i*2 for i in sales2   ]\n",
        "\n",
        "#반복문+조건문 다르게 표현현\n",
        "[ i*2 for i in sales2 if i >3  ]\n",
        "\n",
        "# Q. sales3 = [ 10, 11, 8, 9, 12]\n",
        "# sales3의 값 중에서 10보다 작은 숫자들만 선택을해서,\n",
        "# 5를 더해서 리스트로 만드세요\n",
        "sales3 = [ 10, 11, 8, 9, 12]\n",
        "[ i+5 for i in sales3 if i < 10  ]\n",
        "#위와 같은 작업을 하는 ....\n",
        "result = []\n",
        "for i in sales3:\n",
        "  if i < 10:\n",
        "    result.append(i+5)"
      ],
      "metadata": {
        "id": "cOV0hL-o23SK",
        "colab": {
          "base_uri": "https://localhost:8080/"
        },
        "outputId": "47d49572-0362-4909-b362-fa9bb20010fe"
      },
      "execution_count": null,
      "outputs": [
        {
          "output_type": "stream",
          "name": "stdout",
          "text": [
            "4\n",
            "5\n",
            "test -  [4, 5]\n",
            "10\n",
            "7\n",
            "24\n",
            "5\n",
            "38\n",
            "6\n",
            "20\n",
            "14\n",
            "24\n",
            "10\n",
            "38\n",
            "12\n"
          ]
        }
      ]
    },
    {
      "cell_type": "code",
      "execution_count": null,
      "metadata": {
        "colab": {
          "base_uri": "https://localhost:8080/"
        },
        "id": "QTuuNSaT4Veh",
        "outputId": "685777bc-0e85-4301-c333-fb926f1a2e60"
      },
      "outputs": [
        {
          "output_type": "stream",
          "name": "stdout",
          "text": [
            "1.0\n",
            "0.5\n",
            "0.3333333333333333\n",
            "0.25\n"
          ]
        }
      ],
      "source": [
        "list1 = [1.0,2.0,0.0,3.0,4.0]\n",
        "for i in list1:\n",
        "  try:\n",
        "    print( 1/i)\n",
        "  except:\n",
        "    pass    #print(\"error\")"
      ]
    },
    {
      "cell_type": "markdown",
      "source": [
        "#3. numpy의 array "
      ],
      "metadata": {
        "id": "8NZeMOw147AH"
      }
    },
    {
      "cell_type": "code",
      "source": [],
      "metadata": {
        "id": "DEYhf0CXsgzT"
      },
      "execution_count": null,
      "outputs": []
    },
    {
      "cell_type": "code",
      "source": [
        "#!로 시작하면 터미널로 시작하는 명령어\n",
        "!pip install konlpy"
      ],
      "metadata": {
        "colab": {
          "base_uri": "https://localhost:8080/"
        },
        "id": "CarGWeZ6wP1Z",
        "outputId": "08b9ebbf-6503-472a-a682-eecfbbc0a4a8"
      },
      "execution_count": null,
      "outputs": [
        {
          "output_type": "stream",
          "name": "stdout",
          "text": [
            "Looking in indexes: https://pypi.org/simple, https://us-python.pkg.dev/colab-wheels/public/simple/\n",
            "Collecting konlpy\n",
            "  Downloading konlpy-0.6.0-py2.py3-none-any.whl (19.4 MB)\n",
            "\u001b[2K     \u001b[90m━━━━━━━━━━━━━━━━━━━━━━━━━━━━━━━━━━━━━━━━\u001b[0m \u001b[32m19.4/19.4 MB\u001b[0m \u001b[31m24.4 MB/s\u001b[0m eta \u001b[36m0:00:00\u001b[0m\n",
            "\u001b[?25hCollecting JPype1>=0.7.0\n",
            "  Downloading JPype1-1.4.1-cp39-cp39-manylinux_2_12_x86_64.manylinux2010_x86_64.whl (465 kB)\n",
            "\u001b[2K     \u001b[90m━━━━━━━━━━━━━━━━━━━━━━━━━━━━━━━━━━━━━━\u001b[0m \u001b[32m465.3/465.3 KB\u001b[0m \u001b[31m38.3 MB/s\u001b[0m eta \u001b[36m0:00:00\u001b[0m\n",
            "\u001b[?25hRequirement already satisfied: numpy>=1.6 in /usr/local/lib/python3.9/dist-packages (from konlpy) (1.22.4)\n",
            "Requirement already satisfied: lxml>=4.1.0 in /usr/local/lib/python3.9/dist-packages (from konlpy) (4.9.2)\n",
            "Requirement already satisfied: packaging in /usr/local/lib/python3.9/dist-packages (from JPype1>=0.7.0->konlpy) (23.0)\n",
            "Installing collected packages: JPype1, konlpy\n",
            "Successfully installed JPype1-1.4.1 konlpy-0.6.0\n"
          ]
        }
      ]
    },
    {
      "cell_type": "code",
      "source": [
        "import numpy as np\n",
        "#import로 메모리에 올림\n",
        "#from 패키지 import 함수로도 가능\n",
        "\n",
        "#array로 감싸면 array로 변경\n",
        "ar1 = np.array( [1,2,3])\n",
        "\n",
        "# ndim == 몇차원인지 / shape == 각 차원의 개수\n",
        "ar2 = np.array( [[1,2],[3,4]] )\n",
        "ar2.shape\n",
        "ar1.shape\n",
        "ar3 = np.array(  [[[1,2],[3,4]],[[5,6],[7,8]]])\n",
        "ar3.shape\n",
        "\n",
        "#reshape 개수에 맞게 차원 변형 가능\n",
        "#데이터가 변경되진않음\n",
        "a4 = np.array([1,2,3,4,5,6,7,8])\n",
        "a4.reshape(4,2)\n",
        "\n",
        "#행렬 복사가 아닌 대응되는 위치의 곱\n",
        "ar1*ar1\n",
        "\n",
        "#행렬 곱\n",
        "np.matmul( ar1, ar1)"
      ],
      "metadata": {
        "colab": {
          "base_uri": "https://localhost:8080/"
        },
        "id": "6wZxMvVQ7MaY",
        "outputId": "a7651e5a-b336-4cac-eeac-dfaa99b0e9df"
      },
      "execution_count": null,
      "outputs": [
        {
          "output_type": "execute_result",
          "data": {
            "text/plain": [
              "array([1, 2, 3, 4, 5, 6, 7, 8])"
            ]
          },
          "metadata": {},
          "execution_count": 43
        }
      ]
    },
    {
      "cell_type": "markdown",
      "source": [
        "- array생성 및 차원 확인"
      ],
      "metadata": {
        "id": "JFDAUxXFaZ5y"
      }
    },
    {
      "cell_type": "code",
      "execution_count": null,
      "metadata": {
        "colab": {
          "base_uri": "https://localhost:8080/"
        },
        "id": "mNOQ6If1ZXzP",
        "outputId": "1afc7d24-98a0-4ff4-f115-25ddccde0a7f"
      },
      "outputs": [
        {
          "output_type": "execute_result",
          "data": {
            "text/plain": [
              "dtype('float64')"
            ]
          },
          "metadata": {},
          "execution_count": 78
        }
      ],
      "source": [
        "import numpy as np\n",
        "a = np.array( [0,1,2,3,4, 5.0])\n",
        "a.shape #차원, 값의 개수\n",
        "a.ndim\n",
        "a.dtype #값의 종류, array->단일한 type의 값, 정수와 실수->실수 "
      ]
    },
    {
      "cell_type": "code",
      "source": [
        "a.reshape( (3,2)  ) #a가 변경되지는 않음"
      ],
      "metadata": {
        "colab": {
          "base_uri": "https://localhost:8080/"
        },
        "id": "5i5lHU-PskiX",
        "outputId": "ed3ec6bb-cbe9-402e-bed1-f9ec37233a3a"
      },
      "execution_count": null,
      "outputs": [
        {
          "output_type": "execute_result",
          "data": {
            "text/plain": [
              "array([0., 1., 2., 3., 4., 5.])"
            ]
          },
          "metadata": {},
          "execution_count": 23
        }
      ]
    },
    {
      "cell_type": "code",
      "source": [
        "b = a.reshape((3,2))\n",
        "print(b)\n",
        "b.ndim\n",
        "b.shape"
      ],
      "metadata": {
        "id": "wTFWXP-Eak-B",
        "colab": {
          "base_uri": "https://localhost:8080/"
        },
        "outputId": "4a077d9a-60b6-476a-976d-39f658459c38"
      },
      "execution_count": null,
      "outputs": [
        {
          "output_type": "stream",
          "name": "stdout",
          "text": [
            "[[0. 1.]\n",
            " [2. 3.]\n",
            " [4. 5.]]\n"
          ]
        },
        {
          "output_type": "execute_result",
          "data": {
            "text/plain": [
              "(3, 2)"
            ]
          },
          "metadata": {},
          "execution_count": 79
        }
      ]
    },
    {
      "cell_type": "code",
      "source": [
        "b.reshape( (6, )) #2->1D로 변경"
      ],
      "metadata": {
        "colab": {
          "base_uri": "https://localhost:8080/"
        },
        "id": "nf6IqLDktv-I",
        "outputId": "dae56ba0-7749-4460-a48b-b73012a0b796"
      },
      "execution_count": null,
      "outputs": [
        {
          "output_type": "execute_result",
          "data": {
            "text/plain": [
              "array([0., 1., 2., 3., 4., 5.])"
            ]
          },
          "metadata": {},
          "execution_count": 27
        }
      ]
    },
    {
      "cell_type": "markdown",
      "source": [
        "- array 연산과 인덱싱"
      ],
      "metadata": {
        "id": "YNugRnswaj5f"
      }
    },
    {
      "cell_type": "code",
      "source": [
        "ar = np.array([[1,2,3],[4,5,6]])\n",
        "ar[1, 1]\n",
        "ar[0:2, 0]\n",
        "ar[ :, 0]  #1열만\n",
        "ar[1, :] #2행만\n",
        "ar[0:2, 1:3]\n",
        "\n",
        "#Q. 1~8까지 수를 갖는 1차원 array aa1 만들기.\n",
        "#aa1을 4행 2열로 변경\n",
        "#aa2의 2-3행 1열의 값을 출력\n",
        "aa1 = np.array([1,2,3,4,5,6,7,8])\n",
        "aa2 = aa1.reshape(4,2)\n",
        "aa2[1:3, 0]"
      ],
      "metadata": {
        "colab": {
          "base_uri": "https://localhost:8080/"
        },
        "id": "bnYGo3o32sOD",
        "outputId": "883dfac5-4965-494d-8c53-a42f45f4f685"
      },
      "execution_count": null,
      "outputs": [
        {
          "output_type": "execute_result",
          "data": {
            "text/plain": [
              "array([3, 5])"
            ]
          },
          "metadata": {},
          "execution_count": 61
        }
      ]
    },
    {
      "cell_type": "code",
      "source": [
        "a = np.array([1,2,3,4,5])\n",
        "\n",
        "a>3\n",
        "#array([False, False, False,  True,  True])\n",
        "\n",
        "a[a>3]\n",
        "#array([4, 5])\n",
        "\n",
        "a[(a>2)&(a<4)]\n",
        "#array([3])\n",
        "\n",
        "a[(a<=2)|(a>4)]\n",
        "#array([1, 2, 5])"
      ],
      "metadata": {
        "colab": {
          "base_uri": "https://localhost:8080/"
        },
        "id": "Zw9gqk5R565p",
        "outputId": "b05346eb-ba36-4f69-a8a9-a584347aa06f"
      },
      "execution_count": null,
      "outputs": [
        {
          "output_type": "execute_result",
          "data": {
            "text/plain": [
              "array([1, 2, 5])"
            ]
          },
          "metadata": {},
          "execution_count": 80
        }
      ]
    },
    {
      "cell_type": "code",
      "source": [
        "#array 연산/인덱싱\n",
        "a*2\n",
        "a**2\n",
        "\n",
        "[1,2,3,4,5]*2\t#리스트와는 다름\n",
        "\n",
        "#기본 인덱싱\n",
        "a[ [2,3,4] ]\n",
        "a[ np.array( [2,3,4]) ]\t#인덱싱에 배열도 사용 가능\n",
        "\n",
        "#논리 연산\n",
        "a>4\n",
        "a[ a>4 ]\n",
        "a[ a>4 ] = 4\n",
        "\n"
      ],
      "metadata": {
        "id": "y5Qn5dttaj_w"
      },
      "execution_count": null,
      "outputs": []
    },
    {
      "cell_type": "markdown",
      "source": [
        "- 기본 활용 연습"
      ],
      "metadata": {
        "id": "d4DW53xEax9h"
      }
    },
    {
      "cell_type": "code",
      "source": [
        "x = [0.0, 1, 2, 3, 4]\n",
        "y = np.array(x)\n",
        "y = np.array([[0.0, 1, 2, 3, 4], [5, 6, 7, 8, 9]])\n",
        "np.shape(y)\n",
        "y = np.array([[[1,2],[3,4]],[[5,6],[7,8]]])\n",
        "np.shape(y)\n",
        "\n",
        "x = [0, 1, 2, 3, 4] # Integers\n",
        "y = np.array(x)\n",
        "y.dtype\n",
        "\n",
        "x = [0.0, 1, 2, 3, 4] # 0.0 is a float\n",
        "y = np.array(x)\n",
        "y.dtype\n",
        "\n",
        "x = [0.0, 1, 2, 3, 4] # 하나라도 float이면 전체가 float임\n",
        "y = np.array(x)\n",
        "type(y)\n",
        "y * y # Elementbyelement\n",
        "\n"
      ],
      "metadata": {
        "colab": {
          "base_uri": "https://localhost:8080/"
        },
        "id": "zlJ8IOitayD5",
        "outputId": "8526f838-8f54-42de-9d23-313b0524d292"
      },
      "execution_count": null,
      "outputs": [
        {
          "output_type": "execute_result",
          "data": {
            "text/plain": [
              "array([ 0.,  1.,  4.,  9., 16.])"
            ]
          },
          "metadata": {},
          "execution_count": 4
        }
      ]
    },
    {
      "cell_type": "markdown",
      "source": [
        "- 기본활용연습2: for 활용"
      ],
      "metadata": {
        "id": "IsJNVIXUa40Y"
      }
    },
    {
      "cell_type": "code",
      "source": [
        "#array + for 같이 사용\n",
        "a = np.array([[1, 2], [3, 4], [5, 6]], float) \n",
        "for x in a: \n",
        "    print(x)\n",
        "\n",
        "#array 값 접근하기\n",
        "x = np.array([1.0,2.0,3.0,4.0,5.0])\n",
        "x[0]\n",
        "\n",
        "x = np.array([[1.0,2,3],[4,5,6]])\n",
        "x[1,2]\n"
      ],
      "metadata": {
        "colab": {
          "base_uri": "https://localhost:8080/"
        },
        "id": "e7yPs6bsa49R",
        "outputId": "eb15f1ed-9f44-4814-cfab-a511a020c60b"
      },
      "execution_count": null,
      "outputs": [
        {
          "output_type": "stream",
          "name": "stdout",
          "text": [
            "[1. 2.]\n",
            "[3. 4.]\n",
            "[5. 6.]\n"
          ]
        },
        {
          "output_type": "execute_result",
          "data": {
            "text/plain": [
              "6.0"
            ]
          },
          "metadata": {},
          "execution_count": 5
        }
      ]
    },
    {
      "cell_type": "markdown",
      "source": [
        "- 인덱싱, 슬라이싱"
      ],
      "metadata": {
        "id": "hyhVhtXgbBOf"
      }
    },
    {
      "cell_type": "code",
      "source": [
        "#슬라이싱\n",
        "arr = np.arange(10, dtype=float).reshape((2, 5))\n",
        "arr[0] # 0번째 원소\n",
        "arr[0, 3] # 0행 3열\n",
        "arr[0][3] # 0행3열\n",
        "\n",
        "arr[0, :] # 0행, 1차원 배열\n",
        "arr[:, 0] # 0열, 1차원 배열\n",
        "arr[:, :2] # 첫 2개 열\n",
        "arr[:, 2:] # 2 위치 이후 열\n",
        "arr2 = arr[:, 1:4] # 위치1 과 위치4 사이 열\n",
        "print(arr2)\n",
        "\n",
        "#슬라이싱2\n",
        "arr2 = arr[:, [1,2,3]] # arr 배열의 복사본\n",
        "print(arr2)\n",
        "arr2[0, 0] = 44\n",
        "print(arr2)\n",
        "print(arr)\n",
        "arr2 = arr[arr > 5] # arr 배열의 복사본\n",
        "print(arr2)\n",
        "arr2[0] = 44\n",
        "print(arr2)\n",
        "print(arr)\n",
        "\n",
        "arr[arr > 5] = 0\n",
        "print(arr)\n",
        "\n"
      ],
      "metadata": {
        "colab": {
          "base_uri": "https://localhost:8080/"
        },
        "id": "ATKmfJOUbBUw",
        "outputId": "f79324d4-af74-42e9-8e06-c20f66415742"
      },
      "execution_count": null,
      "outputs": [
        {
          "output_type": "stream",
          "name": "stdout",
          "text": [
            "[[1. 2. 3.]\n",
            " [6. 7. 8.]]\n",
            "[[1. 2. 3.]\n",
            " [6. 7. 8.]]\n",
            "[[44.  2.  3.]\n",
            " [ 6.  7.  8.]]\n",
            "[[0. 1. 2. 3. 4.]\n",
            " [5. 6. 7. 8. 9.]]\n",
            "[6. 7. 8. 9.]\n",
            "[44.  7.  8.  9.]\n",
            "[[0. 1. 2. 3. 4.]\n",
            " [5. 6. 7. 8. 9.]]\n",
            "[[0. 1. 2. 3. 4.]\n",
            " [5. 0. 0. 0. 0.]]\n"
          ]
        }
      ]
    },
    {
      "cell_type": "markdown",
      "source": [
        "- numpy 활용 통계량 계산"
      ],
      "metadata": {
        "id": "x9k0YT3RbGMB"
      }
    },
    {
      "cell_type": "code",
      "source": [
        "x = np.arange(10.0)\t#0~9까지 10개 숫자를 갖는 자료구조 생성\n",
        "x.mean()\n",
        "\n",
        "np.mean(x)\n",
        "x= np.reshape(np.arange(20.0),(4,5))\n",
        "np.mean(x,0)\n",
        "\n",
        "np.median(x)\n",
        "\n",
        "np.std(x)\n",
        "np.var(x)"
      ],
      "metadata": {
        "colab": {
          "base_uri": "https://localhost:8080/"
        },
        "id": "IIS6bQ7pbGRx",
        "outputId": "f5d521c0-32ef-4d79-cfe1-ad815775ab6e"
      },
      "execution_count": null,
      "outputs": [
        {
          "output_type": "execute_result",
          "data": {
            "text/plain": [
              "33.25"
            ]
          },
          "metadata": {},
          "execution_count": 84
        }
      ]
    },
    {
      "cell_type": "markdown",
      "source": [
        "- NaN 값의 처리"
      ],
      "metadata": {
        "id": "0POFAVYwaTFL"
      }
    },
    {
      "cell_type": "code",
      "source": [
        "import numpy as np\n",
        "np.array( [ 1,2,np.NAN,4])\n",
        "np.NAN # not a number"
      ],
      "metadata": {
        "colab": {
          "base_uri": "https://localhost:8080/"
        },
        "id": "cNAk2Da50ppZ",
        "outputId": "53fc0a4e-6ecb-44ef-c356-cffdf011eb85"
      },
      "execution_count": null,
      "outputs": [
        {
          "output_type": "execute_result",
          "data": {
            "text/plain": [
              "nan"
            ]
          },
          "metadata": {},
          "execution_count": 83
        }
      ]
    },
    {
      "cell_type": "code",
      "source": [
        "#numpy.NAN:  숫자로 표현안되는 값\n",
        "c = np.array( [1,2,np.NAN, 3,4])\n",
        "c[  ~np.isnan(c) ]"
      ],
      "metadata": {
        "colab": {
          "base_uri": "https://localhost:8080/"
        },
        "id": "DrtUASS32n1q",
        "outputId": "2e484b05-8915-4f1b-9aaf-ad03afc21998"
      },
      "execution_count": null,
      "outputs": [
        {
          "output_type": "execute_result",
          "data": {
            "text/plain": [
              "array([1., 2., 3., 4.])"
            ]
          },
          "metadata": {},
          "execution_count": 12
        }
      ]
    },
    {
      "cell_type": "code",
      "source": [
        "#numpy.NAN:  숫자로 표현안되는 값\n",
        "c = np.array( [1,2,np.NAN, 3,4])\n",
        "np.isnan(c)\n",
        "c[ ~np.isnan(c) ]\n",
        "\n",
        "np.mean( c[~np.isnan(c) ])\n",
        "\n",
        "#NaN 함수\n",
        "x = np.random.randn(4)\n",
        "x[1] = np.NaN\n",
        "sum(x)\n",
        "np.nansum(x)\n",
        "sum(x[np.logical_not(np.isnan(x))])\n",
        "np.nansum(x) / sum(np.isnan(x))\n",
        "\n"
      ],
      "metadata": {
        "colab": {
          "base_uri": "https://localhost:8080/"
        },
        "id": "MQqNQhUOaTRz",
        "outputId": "dd022025-a92f-48fe-a7fe-33a882e1b330"
      },
      "execution_count": null,
      "outputs": [
        {
          "output_type": "execute_result",
          "data": {
            "text/plain": [
              "-1.3121040542561104"
            ]
          },
          "metadata": {},
          "execution_count": 8
        }
      ]
    },
    {
      "cell_type": "markdown",
      "source": [
        "- 그 외 유용한 기능"
      ],
      "metadata": {
        "id": "2D39eSe1bVBi"
      }
    },
    {
      "cell_type": "code",
      "source": [
        "#max, amax, argmax, min, amin, argmin\n",
        "x = np.random.randn(3,4)\n",
        "np.amax(x)\n",
        "x.max()\n",
        "x.max(0)\t#column별 계산\n",
        "x.max(1) #row별 계산\n",
        "\n",
        "data = np.genfromtxt('creditset2.csv',delimiter=',', skip_header=1)\n",
        "np.mean(data,0)\t#column방향\n",
        "np.median(data, 0)\n",
        "np.var(data, 0)\n",
        "np.std(data, 0)"
      ],
      "metadata": {
        "colab": {
          "base_uri": "https://localhost:8080/",
          "height": 393
        },
        "id": "H5COkxhsbVHo",
        "outputId": "8ae33526-5c6e-44d0-b35d-e6550418fbcd"
      },
      "execution_count": null,
      "outputs": [
        {
          "output_type": "error",
          "ename": "FileNotFoundError",
          "evalue": "ignored",
          "traceback": [
            "\u001b[0;31m---------------------------------------------------------------------------\u001b[0m",
            "\u001b[0;31mFileNotFoundError\u001b[0m                         Traceback (most recent call last)",
            "\u001b[0;32m<ipython-input-85-5b7537d09f1f>\u001b[0m in \u001b[0;36m<cell line: 8>\u001b[0;34m()\u001b[0m\n\u001b[1;32m      6\u001b[0m \u001b[0mx\u001b[0m\u001b[0;34m.\u001b[0m\u001b[0mmax\u001b[0m\u001b[0;34m(\u001b[0m\u001b[0;36m1\u001b[0m\u001b[0;34m)\u001b[0m \u001b[0;31m#row별 계산\u001b[0m\u001b[0;34m\u001b[0m\u001b[0;34m\u001b[0m\u001b[0m\n\u001b[1;32m      7\u001b[0m \u001b[0;34m\u001b[0m\u001b[0m\n\u001b[0;32m----> 8\u001b[0;31m \u001b[0mdata\u001b[0m \u001b[0;34m=\u001b[0m \u001b[0mnp\u001b[0m\u001b[0;34m.\u001b[0m\u001b[0mgenfromtxt\u001b[0m\u001b[0;34m(\u001b[0m\u001b[0;34m'creditset2.csv'\u001b[0m\u001b[0;34m,\u001b[0m\u001b[0mdelimiter\u001b[0m\u001b[0;34m=\u001b[0m\u001b[0;34m','\u001b[0m\u001b[0;34m,\u001b[0m \u001b[0mskip_header\u001b[0m\u001b[0;34m=\u001b[0m\u001b[0;36m1\u001b[0m\u001b[0;34m)\u001b[0m\u001b[0;34m\u001b[0m\u001b[0;34m\u001b[0m\u001b[0m\n\u001b[0m\u001b[1;32m      9\u001b[0m \u001b[0mnp\u001b[0m\u001b[0;34m.\u001b[0m\u001b[0mmean\u001b[0m\u001b[0;34m(\u001b[0m\u001b[0mdata\u001b[0m\u001b[0;34m,\u001b[0m\u001b[0;36m0\u001b[0m\u001b[0;34m)\u001b[0m \u001b[0;31m#column방향\u001b[0m\u001b[0;34m\u001b[0m\u001b[0;34m\u001b[0m\u001b[0m\n\u001b[1;32m     10\u001b[0m \u001b[0mnp\u001b[0m\u001b[0;34m.\u001b[0m\u001b[0mmedian\u001b[0m\u001b[0;34m(\u001b[0m\u001b[0mdata\u001b[0m\u001b[0;34m,\u001b[0m \u001b[0;36m0\u001b[0m\u001b[0;34m)\u001b[0m\u001b[0;34m\u001b[0m\u001b[0;34m\u001b[0m\u001b[0m\n",
            "\u001b[0;32m/usr/local/lib/python3.9/dist-packages/numpy/lib/npyio.py\u001b[0m in \u001b[0;36mgenfromtxt\u001b[0;34m(fname, dtype, comments, delimiter, skip_header, skip_footer, converters, missing_values, filling_values, usecols, names, excludelist, deletechars, replace_space, autostrip, case_sensitive, defaultfmt, unpack, usemask, loose, invalid_raise, max_rows, encoding, like)\u001b[0m\n\u001b[1;32m   1811\u001b[0m             \u001b[0mfname\u001b[0m \u001b[0;34m=\u001b[0m \u001b[0mos_fspath\u001b[0m\u001b[0;34m(\u001b[0m\u001b[0mfname\u001b[0m\u001b[0;34m)\u001b[0m\u001b[0;34m\u001b[0m\u001b[0;34m\u001b[0m\u001b[0m\n\u001b[1;32m   1812\u001b[0m         \u001b[0;32mif\u001b[0m \u001b[0misinstance\u001b[0m\u001b[0;34m(\u001b[0m\u001b[0mfname\u001b[0m\u001b[0;34m,\u001b[0m \u001b[0mstr\u001b[0m\u001b[0;34m)\u001b[0m\u001b[0;34m:\u001b[0m\u001b[0;34m\u001b[0m\u001b[0;34m\u001b[0m\u001b[0m\n\u001b[0;32m-> 1813\u001b[0;31m             \u001b[0mfid\u001b[0m \u001b[0;34m=\u001b[0m \u001b[0mnp\u001b[0m\u001b[0;34m.\u001b[0m\u001b[0mlib\u001b[0m\u001b[0;34m.\u001b[0m\u001b[0m_datasource\u001b[0m\u001b[0;34m.\u001b[0m\u001b[0mopen\u001b[0m\u001b[0;34m(\u001b[0m\u001b[0mfname\u001b[0m\u001b[0;34m,\u001b[0m \u001b[0;34m'rt'\u001b[0m\u001b[0;34m,\u001b[0m \u001b[0mencoding\u001b[0m\u001b[0;34m=\u001b[0m\u001b[0mencoding\u001b[0m\u001b[0;34m)\u001b[0m\u001b[0;34m\u001b[0m\u001b[0;34m\u001b[0m\u001b[0m\n\u001b[0m\u001b[1;32m   1814\u001b[0m             \u001b[0mfid_ctx\u001b[0m \u001b[0;34m=\u001b[0m \u001b[0mcontextlib\u001b[0m\u001b[0;34m.\u001b[0m\u001b[0mclosing\u001b[0m\u001b[0;34m(\u001b[0m\u001b[0mfid\u001b[0m\u001b[0;34m)\u001b[0m\u001b[0;34m\u001b[0m\u001b[0;34m\u001b[0m\u001b[0m\n\u001b[1;32m   1815\u001b[0m         \u001b[0;32melse\u001b[0m\u001b[0;34m:\u001b[0m\u001b[0;34m\u001b[0m\u001b[0;34m\u001b[0m\u001b[0m\n",
            "\u001b[0;32m/usr/local/lib/python3.9/dist-packages/numpy/lib/_datasource.py\u001b[0m in \u001b[0;36mopen\u001b[0;34m(path, mode, destpath, encoding, newline)\u001b[0m\n\u001b[1;32m    191\u001b[0m \u001b[0;34m\u001b[0m\u001b[0m\n\u001b[1;32m    192\u001b[0m     \u001b[0mds\u001b[0m \u001b[0;34m=\u001b[0m \u001b[0mDataSource\u001b[0m\u001b[0;34m(\u001b[0m\u001b[0mdestpath\u001b[0m\u001b[0;34m)\u001b[0m\u001b[0;34m\u001b[0m\u001b[0;34m\u001b[0m\u001b[0m\n\u001b[0;32m--> 193\u001b[0;31m     \u001b[0;32mreturn\u001b[0m \u001b[0mds\u001b[0m\u001b[0;34m.\u001b[0m\u001b[0mopen\u001b[0m\u001b[0;34m(\u001b[0m\u001b[0mpath\u001b[0m\u001b[0;34m,\u001b[0m \u001b[0mmode\u001b[0m\u001b[0;34m,\u001b[0m \u001b[0mencoding\u001b[0m\u001b[0;34m=\u001b[0m\u001b[0mencoding\u001b[0m\u001b[0;34m,\u001b[0m \u001b[0mnewline\u001b[0m\u001b[0;34m=\u001b[0m\u001b[0mnewline\u001b[0m\u001b[0;34m)\u001b[0m\u001b[0;34m\u001b[0m\u001b[0;34m\u001b[0m\u001b[0m\n\u001b[0m\u001b[1;32m    194\u001b[0m \u001b[0;34m\u001b[0m\u001b[0m\n\u001b[1;32m    195\u001b[0m \u001b[0;34m\u001b[0m\u001b[0m\n",
            "\u001b[0;32m/usr/local/lib/python3.9/dist-packages/numpy/lib/_datasource.py\u001b[0m in \u001b[0;36mopen\u001b[0;34m(self, path, mode, encoding, newline)\u001b[0m\n\u001b[1;32m    530\u001b[0m                                       encoding=encoding, newline=newline)\n\u001b[1;32m    531\u001b[0m         \u001b[0;32melse\u001b[0m\u001b[0;34m:\u001b[0m\u001b[0;34m\u001b[0m\u001b[0;34m\u001b[0m\u001b[0m\n\u001b[0;32m--> 532\u001b[0;31m             \u001b[0;32mraise\u001b[0m \u001b[0mFileNotFoundError\u001b[0m\u001b[0;34m(\u001b[0m\u001b[0;34mf\"{path} not found.\"\u001b[0m\u001b[0;34m)\u001b[0m\u001b[0;34m\u001b[0m\u001b[0;34m\u001b[0m\u001b[0m\n\u001b[0m\u001b[1;32m    533\u001b[0m \u001b[0;34m\u001b[0m\u001b[0m\n\u001b[1;32m    534\u001b[0m \u001b[0;34m\u001b[0m\u001b[0m\n",
            "\u001b[0;31mFileNotFoundError\u001b[0m: creditset2.csv not found."
          ]
        }
      ]
    },
    {
      "cell_type": "markdown",
      "source": [
        "#4. pandas의 dataframe "
      ],
      "metadata": {
        "id": "x2OZGb2I6jpC"
      }
    },
    {
      "cell_type": "code",
      "source": [
        "import pandas as pd\n",
        "\n",
        "b= [[1,2],[3,4]]\n",
        "#데이터프레임 만드는 법\n",
        "pd.DataFrame([[1,2], [3,4]])\n",
        "pd.DataFrame(b)\n",
        "\n",
        "#딕셔너리구조로 만들면 컬럼 이름 지정 가능\n",
        "d1 = {\"a\":[1,2], \"b\":[3,4]}\n",
        "pd.DataFrame(d1)\n",
        "\n",
        "#col, row 이름 지정\n",
        "pd.DataFrame(b, columns = [\"col1\", \"col2\"], index = [\"row1\",\"row2\"])\n",
        "\n",
        "df1 = pd.DataFrame(b, columns = [\"col1\", \"col2\"], index = [\"row1\",\"row2\"])\n",
        "\n",
        "#모든 정보를 볼 수 있음.\n",
        "#df1.info()\n",
        "\n",
        "#데이터 프레임은 아래의 3개의 구성으로 되어있다.\n",
        "df1.columns\n",
        "df1.index\n",
        "df1.values\n",
        "\n",
        "#특정 컬럼 선택해서 확인 가능\n",
        "df1.col1\n",
        "df1[\"col1\"]\n",
        "\n",
        "#데이터 추가 가능\n",
        "df1[\"col3\"] = [7,8] "
      ],
      "metadata": {
        "colab": {
          "base_uri": "https://localhost:8080/"
        },
        "id": "oRjlvraNcguE",
        "outputId": "96361a09-b7c0-45ce-c702-cfb81f0ab334"
      },
      "execution_count": null,
      "outputs": [
        {
          "output_type": "stream",
          "name": "stdout",
          "text": [
            "<class 'pandas.core.frame.DataFrame'>\n",
            "Index: 2 entries, row1 to row2\n",
            "Data columns (total 3 columns):\n",
            " #   Column  Non-Null Count  Dtype\n",
            "---  ------  --------------  -----\n",
            " 0   col1    2 non-null      int64\n",
            " 1   col2    2 non-null      int64\n",
            " 2   col3    2 non-null      int64\n",
            "dtypes: int64(3)\n",
            "memory usage: 64.0+ bytes\n"
          ]
        }
      ]
    },
    {
      "cell_type": "code",
      "source": [],
      "metadata": {
        "colab": {
          "base_uri": "https://localhost:8080/"
        },
        "id": "y1Y2ZKe8eVcN",
        "outputId": "a2ff30c9-a54a-407d-caff-29cb5648c4b6"
      },
      "execution_count": null,
      "outputs": [
        {
          "output_type": "stream",
          "name": "stdout",
          "text": [
            "<class 'pandas.core.frame.DataFrame'>\n",
            "Index: 2 entries, row1 to row2\n",
            "Data columns (total 2 columns):\n",
            " #   Column  Non-Null Count  Dtype\n",
            "---  ------  --------------  -----\n",
            " 0   col1    2 non-null      int64\n",
            " 1   col2    2 non-null      int64\n",
            "dtypes: int64(2)\n",
            "memory usage: 156.0+ bytes\n"
          ]
        }
      ]
    },
    {
      "cell_type": "code",
      "execution_count": null,
      "metadata": {
        "id": "-nbXXQm37Zp6",
        "colab": {
          "base_uri": "https://localhost:8080/",
          "height": 454
        },
        "outputId": "4c04dfbf-0b56-4d3d-c35e-6a58fb85d4da"
      },
      "outputs": [
        {
          "output_type": "stream",
          "name": "stdout",
          "text": [
            "<class 'pandas.core.frame.DataFrame'>\n",
            "Index: 2 entries, r1 to r2\n",
            "Data columns (total 2 columns):\n",
            " #   Column  Non-Null Count  Dtype\n",
            "---  ------  --------------  -----\n",
            " 0   c1      2 non-null      int64\n",
            " 1   c2      2 non-null      int64\n",
            "dtypes: int64(2)\n",
            "memory usage: 48.0+ bytes\n"
          ]
        },
        {
          "output_type": "execute_result",
          "data": {
            "text/plain": [
              "             c3        c2\n",
              "count  2.000000  2.000000\n",
              "mean   2.000000  3.000000\n",
              "std    1.414214  1.414214\n",
              "min    1.000000  2.000000\n",
              "25%    1.500000  2.500000\n",
              "50%    2.000000  3.000000\n",
              "75%    2.500000  3.500000\n",
              "max    3.000000  4.000000"
            ],
            "text/html": [
              "\n",
              "  <div id=\"df-1f7b1c33-d21b-454e-a6cc-ba88fb071ddf\">\n",
              "    <div class=\"colab-df-container\">\n",
              "      <div>\n",
              "<style scoped>\n",
              "    .dataframe tbody tr th:only-of-type {\n",
              "        vertical-align: middle;\n",
              "    }\n",
              "\n",
              "    .dataframe tbody tr th {\n",
              "        vertical-align: top;\n",
              "    }\n",
              "\n",
              "    .dataframe thead th {\n",
              "        text-align: right;\n",
              "    }\n",
              "</style>\n",
              "<table border=\"1\" class=\"dataframe\">\n",
              "  <thead>\n",
              "    <tr style=\"text-align: right;\">\n",
              "      <th></th>\n",
              "      <th>c3</th>\n",
              "      <th>c2</th>\n",
              "    </tr>\n",
              "  </thead>\n",
              "  <tbody>\n",
              "    <tr>\n",
              "      <th>count</th>\n",
              "      <td>2.000000</td>\n",
              "      <td>2.000000</td>\n",
              "    </tr>\n",
              "    <tr>\n",
              "      <th>mean</th>\n",
              "      <td>2.000000</td>\n",
              "      <td>3.000000</td>\n",
              "    </tr>\n",
              "    <tr>\n",
              "      <th>std</th>\n",
              "      <td>1.414214</td>\n",
              "      <td>1.414214</td>\n",
              "    </tr>\n",
              "    <tr>\n",
              "      <th>min</th>\n",
              "      <td>1.000000</td>\n",
              "      <td>2.000000</td>\n",
              "    </tr>\n",
              "    <tr>\n",
              "      <th>25%</th>\n",
              "      <td>1.500000</td>\n",
              "      <td>2.500000</td>\n",
              "    </tr>\n",
              "    <tr>\n",
              "      <th>50%</th>\n",
              "      <td>2.000000</td>\n",
              "      <td>3.000000</td>\n",
              "    </tr>\n",
              "    <tr>\n",
              "      <th>75%</th>\n",
              "      <td>2.500000</td>\n",
              "      <td>3.500000</td>\n",
              "    </tr>\n",
              "    <tr>\n",
              "      <th>max</th>\n",
              "      <td>3.000000</td>\n",
              "      <td>4.000000</td>\n",
              "    </tr>\n",
              "  </tbody>\n",
              "</table>\n",
              "</div>\n",
              "      <button class=\"colab-df-convert\" onclick=\"convertToInteractive('df-1f7b1c33-d21b-454e-a6cc-ba88fb071ddf')\"\n",
              "              title=\"Convert this dataframe to an interactive table.\"\n",
              "              style=\"display:none;\">\n",
              "        \n",
              "  <svg xmlns=\"http://www.w3.org/2000/svg\" height=\"24px\"viewBox=\"0 0 24 24\"\n",
              "       width=\"24px\">\n",
              "    <path d=\"M0 0h24v24H0V0z\" fill=\"none\"/>\n",
              "    <path d=\"M18.56 5.44l.94 2.06.94-2.06 2.06-.94-2.06-.94-.94-2.06-.94 2.06-2.06.94zm-11 1L8.5 8.5l.94-2.06 2.06-.94-2.06-.94L8.5 2.5l-.94 2.06-2.06.94zm10 10l.94 2.06.94-2.06 2.06-.94-2.06-.94-.94-2.06-.94 2.06-2.06.94z\"/><path d=\"M17.41 7.96l-1.37-1.37c-.4-.4-.92-.59-1.43-.59-.52 0-1.04.2-1.43.59L10.3 9.45l-7.72 7.72c-.78.78-.78 2.05 0 2.83L4 21.41c.39.39.9.59 1.41.59.51 0 1.02-.2 1.41-.59l7.78-7.78 2.81-2.81c.8-.78.8-2.07 0-2.86zM5.41 20L4 18.59l7.72-7.72 1.47 1.35L5.41 20z\"/>\n",
              "  </svg>\n",
              "      </button>\n",
              "      \n",
              "  <style>\n",
              "    .colab-df-container {\n",
              "      display:flex;\n",
              "      flex-wrap:wrap;\n",
              "      gap: 12px;\n",
              "    }\n",
              "\n",
              "    .colab-df-convert {\n",
              "      background-color: #E8F0FE;\n",
              "      border: none;\n",
              "      border-radius: 50%;\n",
              "      cursor: pointer;\n",
              "      display: none;\n",
              "      fill: #1967D2;\n",
              "      height: 32px;\n",
              "      padding: 0 0 0 0;\n",
              "      width: 32px;\n",
              "    }\n",
              "\n",
              "    .colab-df-convert:hover {\n",
              "      background-color: #E2EBFA;\n",
              "      box-shadow: 0px 1px 2px rgba(60, 64, 67, 0.3), 0px 1px 3px 1px rgba(60, 64, 67, 0.15);\n",
              "      fill: #174EA6;\n",
              "    }\n",
              "\n",
              "    [theme=dark] .colab-df-convert {\n",
              "      background-color: #3B4455;\n",
              "      fill: #D2E3FC;\n",
              "    }\n",
              "\n",
              "    [theme=dark] .colab-df-convert:hover {\n",
              "      background-color: #434B5C;\n",
              "      box-shadow: 0px 1px 3px 1px rgba(0, 0, 0, 0.15);\n",
              "      filter: drop-shadow(0px 1px 2px rgba(0, 0, 0, 0.3));\n",
              "      fill: #FFFFFF;\n",
              "    }\n",
              "  </style>\n",
              "\n",
              "      <script>\n",
              "        const buttonEl =\n",
              "          document.querySelector('#df-1f7b1c33-d21b-454e-a6cc-ba88fb071ddf button.colab-df-convert');\n",
              "        buttonEl.style.display =\n",
              "          google.colab.kernel.accessAllowed ? 'block' : 'none';\n",
              "\n",
              "        async function convertToInteractive(key) {\n",
              "          const element = document.querySelector('#df-1f7b1c33-d21b-454e-a6cc-ba88fb071ddf');\n",
              "          const dataTable =\n",
              "            await google.colab.kernel.invokeFunction('convertToInteractive',\n",
              "                                                     [key], {});\n",
              "          if (!dataTable) return;\n",
              "\n",
              "          const docLinkHtml = 'Like what you see? Visit the ' +\n",
              "            '<a target=\"_blank\" href=https://colab.research.google.com/notebooks/data_table.ipynb>data table notebook</a>'\n",
              "            + ' to learn more about interactive tables.';\n",
              "          element.innerHTML = '';\n",
              "          dataTable['output_type'] = 'display_data';\n",
              "          await google.colab.output.renderOutput(dataTable, element);\n",
              "          const docLink = document.createElement('div');\n",
              "          docLink.innerHTML = docLinkHtml;\n",
              "          element.appendChild(docLink);\n",
              "        }\n",
              "      </script>\n",
              "    </div>\n",
              "  </div>\n",
              "  "
            ]
          },
          "metadata": {},
          "execution_count": 123
        }
      ],
      "source": [
        "import pandas as pd\n",
        "import numpy as np\n",
        "\n",
        "s1 = pd.Series( [1,2,3], index=[\"r1\",\"r2\",\"r3\"]   )\n",
        "s2 = pd.Series( [1,2,3], index=[\"r3\",\"r2\",\"r1\"]   )\n",
        "\n",
        "#Series == columns 없음\n",
        "s1.index\n",
        "s1.values\n",
        "\n",
        "#각 인덱스별로 덧셈이 된다.\n",
        "s1+s2 #4 4 4\n",
        "\n",
        "df1=pd.DataFrame([[1,2],[3,4]],index=[\"r1\",\"r2\"],columns=[\"c1\",\"c2\"] )\n",
        "df2=pd.DataFrame([[1,2], [3,4]],index=[\"r3\",\"r2\"],columns=[\"c3\",\"c2\"])\n",
        "\n",
        "#df1.index # df1.columns #df1.values\n",
        "df1.info()\n",
        "\n",
        "#c2외 겹치지 않기에r2,c2만 8, 나머지 NaN \n",
        "df1+df2\n",
        "\n",
        "#컬럼명 수정하면 잘 더해짐\n",
        "df1.columns=[\"c3\", \"c2\"]\n",
        "df1+df2\n",
        "\n",
        "#요약 값 출력\n",
        "df1.describe()"
      ]
    },
    {
      "cell_type": "code",
      "execution_count": null,
      "metadata": {
        "colab": {
          "base_uri": "https://localhost:8080/",
          "height": 417
        },
        "id": "j2rw5_NQzVdu",
        "outputId": "bb7e0e9a-80fa-48ed-e92b-1c8232c99449"
      },
      "outputs": [
        {
          "output_type": "execute_result",
          "data": {
            "text/plain": [
              "        X86     X87\n",
              "9    2.4069  0.9680\n",
              "10   2.4532  0.9883\n",
              "11   2.3588  0.9695\n",
              "12   2.3652  0.9642\n",
              "13   2.3588  0.9890\n",
              "..      ...     ...\n",
              "105  2.4392  0.9887\n",
              "106  2.4367  0.9875\n",
              "107  2.4077  0.9824\n",
              "108  2.3746  0.9894\n",
              "109  2.3633  0.9847\n",
              "\n",
              "[101 rows x 2 columns]"
            ],
            "text/html": [
              "\n",
              "  <div id=\"df-0ecfad5a-9092-46d9-b02f-fa08e2730970\">\n",
              "    <div class=\"colab-df-container\">\n",
              "      <div>\n",
              "<style scoped>\n",
              "    .dataframe tbody tr th:only-of-type {\n",
              "        vertical-align: middle;\n",
              "    }\n",
              "\n",
              "    .dataframe tbody tr th {\n",
              "        vertical-align: top;\n",
              "    }\n",
              "\n",
              "    .dataframe thead th {\n",
              "        text-align: right;\n",
              "    }\n",
              "</style>\n",
              "<table border=\"1\" class=\"dataframe\">\n",
              "  <thead>\n",
              "    <tr style=\"text-align: right;\">\n",
              "      <th></th>\n",
              "      <th>X86</th>\n",
              "      <th>X87</th>\n",
              "    </tr>\n",
              "  </thead>\n",
              "  <tbody>\n",
              "    <tr>\n",
              "      <th>9</th>\n",
              "      <td>2.4069</td>\n",
              "      <td>0.9680</td>\n",
              "    </tr>\n",
              "    <tr>\n",
              "      <th>10</th>\n",
              "      <td>2.4532</td>\n",
              "      <td>0.9883</td>\n",
              "    </tr>\n",
              "    <tr>\n",
              "      <th>11</th>\n",
              "      <td>2.3588</td>\n",
              "      <td>0.9695</td>\n",
              "    </tr>\n",
              "    <tr>\n",
              "      <th>12</th>\n",
              "      <td>2.3652</td>\n",
              "      <td>0.9642</td>\n",
              "    </tr>\n",
              "    <tr>\n",
              "      <th>13</th>\n",
              "      <td>2.3588</td>\n",
              "      <td>0.9890</td>\n",
              "    </tr>\n",
              "    <tr>\n",
              "      <th>...</th>\n",
              "      <td>...</td>\n",
              "      <td>...</td>\n",
              "    </tr>\n",
              "    <tr>\n",
              "      <th>105</th>\n",
              "      <td>2.4392</td>\n",
              "      <td>0.9887</td>\n",
              "    </tr>\n",
              "    <tr>\n",
              "      <th>106</th>\n",
              "      <td>2.4367</td>\n",
              "      <td>0.9875</td>\n",
              "    </tr>\n",
              "    <tr>\n",
              "      <th>107</th>\n",
              "      <td>2.4077</td>\n",
              "      <td>0.9824</td>\n",
              "    </tr>\n",
              "    <tr>\n",
              "      <th>108</th>\n",
              "      <td>2.3746</td>\n",
              "      <td>0.9894</td>\n",
              "    </tr>\n",
              "    <tr>\n",
              "      <th>109</th>\n",
              "      <td>2.3633</td>\n",
              "      <td>0.9847</td>\n",
              "    </tr>\n",
              "  </tbody>\n",
              "</table>\n",
              "<p>101 rows × 2 columns</p>\n",
              "</div>\n",
              "      <button class=\"colab-df-convert\" onclick=\"convertToInteractive('df-0ecfad5a-9092-46d9-b02f-fa08e2730970')\"\n",
              "              title=\"Convert this dataframe to an interactive table.\"\n",
              "              style=\"display:none;\">\n",
              "        \n",
              "  <svg xmlns=\"http://www.w3.org/2000/svg\" height=\"24px\"viewBox=\"0 0 24 24\"\n",
              "       width=\"24px\">\n",
              "    <path d=\"M0 0h24v24H0V0z\" fill=\"none\"/>\n",
              "    <path d=\"M18.56 5.44l.94 2.06.94-2.06 2.06-.94-2.06-.94-.94-2.06-.94 2.06-2.06.94zm-11 1L8.5 8.5l.94-2.06 2.06-.94-2.06-.94L8.5 2.5l-.94 2.06-2.06.94zm10 10l.94 2.06.94-2.06 2.06-.94-2.06-.94-.94-2.06-.94 2.06-2.06.94z\"/><path d=\"M17.41 7.96l-1.37-1.37c-.4-.4-.92-.59-1.43-.59-.52 0-1.04.2-1.43.59L10.3 9.45l-7.72 7.72c-.78.78-.78 2.05 0 2.83L4 21.41c.39.39.9.59 1.41.59.51 0 1.02-.2 1.41-.59l7.78-7.78 2.81-2.81c.8-.78.8-2.07 0-2.86zM5.41 20L4 18.59l7.72-7.72 1.47 1.35L5.41 20z\"/>\n",
              "  </svg>\n",
              "      </button>\n",
              "      \n",
              "  <style>\n",
              "    .colab-df-container {\n",
              "      display:flex;\n",
              "      flex-wrap:wrap;\n",
              "      gap: 12px;\n",
              "    }\n",
              "\n",
              "    .colab-df-convert {\n",
              "      background-color: #E8F0FE;\n",
              "      border: none;\n",
              "      border-radius: 50%;\n",
              "      cursor: pointer;\n",
              "      display: none;\n",
              "      fill: #1967D2;\n",
              "      height: 32px;\n",
              "      padding: 0 0 0 0;\n",
              "      width: 32px;\n",
              "    }\n",
              "\n",
              "    .colab-df-convert:hover {\n",
              "      background-color: #E2EBFA;\n",
              "      box-shadow: 0px 1px 2px rgba(60, 64, 67, 0.3), 0px 1px 3px 1px rgba(60, 64, 67, 0.15);\n",
              "      fill: #174EA6;\n",
              "    }\n",
              "\n",
              "    [theme=dark] .colab-df-convert {\n",
              "      background-color: #3B4455;\n",
              "      fill: #D2E3FC;\n",
              "    }\n",
              "\n",
              "    [theme=dark] .colab-df-convert:hover {\n",
              "      background-color: #434B5C;\n",
              "      box-shadow: 0px 1px 3px 1px rgba(0, 0, 0, 0.15);\n",
              "      filter: drop-shadow(0px 1px 2px rgba(0, 0, 0, 0.3));\n",
              "      fill: #FFFFFF;\n",
              "    }\n",
              "  </style>\n",
              "\n",
              "      <script>\n",
              "        const buttonEl =\n",
              "          document.querySelector('#df-0ecfad5a-9092-46d9-b02f-fa08e2730970 button.colab-df-convert');\n",
              "        buttonEl.style.display =\n",
              "          google.colab.kernel.accessAllowed ? 'block' : 'none';\n",
              "\n",
              "        async function convertToInteractive(key) {\n",
              "          const element = document.querySelector('#df-0ecfad5a-9092-46d9-b02f-fa08e2730970');\n",
              "          const dataTable =\n",
              "            await google.colab.kernel.invokeFunction('convertToInteractive',\n",
              "                                                     [key], {});\n",
              "          if (!dataTable) return;\n",
              "\n",
              "          const docLinkHtml = 'Like what you see? Visit the ' +\n",
              "            '<a target=\"_blank\" href=https://colab.research.google.com/notebooks/data_table.ipynb>data table notebook</a>'\n",
              "            + ' to learn more about interactive tables.';\n",
              "          element.innerHTML = '';\n",
              "          dataTable['output_type'] = 'display_data';\n",
              "          await google.colab.output.renderOutput(dataTable, element);\n",
              "          const docLink = document.createElement('div');\n",
              "          docLink.innerHTML = docLinkHtml;\n",
              "          element.appendChild(docLink);\n",
              "        }\n",
              "      </script>\n",
              "    </div>\n",
              "  </div>\n",
              "  "
            ]
          },
          "metadata": {},
          "execution_count": 132
        }
      ],
      "source": [
        "#data.csv를 이용해서 data라는 데이터프레임 생성\n",
        "import pandas as pd\n",
        "data = pd.read_csv(\"data.csv\")\n",
        "\n",
        "#컬럼명을 확인\n",
        "data.index\n",
        "data.columns\n",
        "data.values\n",
        "\n",
        "#data.info()\n",
        "\n",
        "#몇행 몇열 인가.\n",
        "data.shape\n",
        "\n",
        "#2-3열, 10-110행 부분집합으로 출력(iloc)\n",
        "data.iloc[ 9:110   , 1:3   ]\n",
        "\n",
        "#두번째 컬럼을 3가지 방법으로 출력\n",
        "#data.X86\n",
        "#data[  \"X86\" ]\n",
        "#data.iloc[ :, 1 ]\n",
        "\n",
        "#data[  [\"X86\", \"X87\"] ]#2개 이상의 컬럼\n"
      ]
    },
    {
      "cell_type": "code",
      "source": [
        "# Q. data,csv를 읽은 data에서 \n",
        "# 각 변수의 요약 값 찾기\n",
        "# 첫번째 변수와 두번째 변수를 더해서 x0 만들기\n",
        "# 10-12행, 3-4열에 해당되는 값에 b라는 어레이에 넣기\n",
        "# 5-6번 컬럼명 x -> v 변경\n",
        "import pandas as pd\n",
        "data = pd.read_csv(\"data.csv\")\n",
        "\n",
        "#1\n",
        "#data.describe()\n",
        "\n",
        "#2.\n",
        "data[\"X0\"] = data[\"X20\"] + data[\"X86\"]\n",
        "\n",
        "#3.\n",
        "b = data.iloc[9:12, 2:4]\n",
        "b\n",
        "\n",
        "#4.\n",
        "#data.columns = [..., \"V113\", \"V115\", ...]"
      ],
      "metadata": {
        "colab": {
          "base_uri": "https://localhost:8080/",
          "height": 369
        },
        "id": "8KuDzKkVnjLE",
        "outputId": "1247d74b-dd0c-43e3-dc57-900c1a71a45b"
      },
      "execution_count": null,
      "outputs": [
        {
          "output_type": "error",
          "ename": "ValueError",
          "evalue": "ignored",
          "traceback": [
            "\u001b[0;31m---------------------------------------------------------------------------\u001b[0m",
            "\u001b[0;31mValueError\u001b[0m                                Traceback (most recent call last)",
            "\u001b[0;32m<ipython-input-156-b1f6916fc872>\u001b[0m in \u001b[0;36m<cell line: 20>\u001b[0;34m()\u001b[0m\n\u001b[1;32m     18\u001b[0m \u001b[0;34m\u001b[0m\u001b[0m\n\u001b[1;32m     19\u001b[0m \u001b[0;31m#4.\u001b[0m\u001b[0;34m\u001b[0m\u001b[0;34m\u001b[0m\u001b[0m\n\u001b[0;32m---> 20\u001b[0;31m \u001b[0mdata\u001b[0m\u001b[0;34m.\u001b[0m\u001b[0mcolumns\u001b[0m \u001b[0;34m=\u001b[0m \u001b[0;34m[\u001b[0m\u001b[0;34m...\u001b[0m\u001b[0;34m,\u001b[0m \u001b[0;34m\"V113\"\u001b[0m\u001b[0;34m,\u001b[0m \u001b[0;34m\"V115\"\u001b[0m\u001b[0;34m,\u001b[0m \u001b[0;34m...\u001b[0m\u001b[0;34m]\u001b[0m\u001b[0;34m\u001b[0m\u001b[0;34m\u001b[0m\u001b[0m\n\u001b[0m",
            "\u001b[0;32m/usr/local/lib/python3.9/dist-packages/pandas/core/generic.py\u001b[0m in \u001b[0;36m__setattr__\u001b[0;34m(self, name, value)\u001b[0m\n\u001b[1;32m   5586\u001b[0m         \u001b[0;32mtry\u001b[0m\u001b[0;34m:\u001b[0m\u001b[0;34m\u001b[0m\u001b[0;34m\u001b[0m\u001b[0m\n\u001b[1;32m   5587\u001b[0m             \u001b[0mobject\u001b[0m\u001b[0;34m.\u001b[0m\u001b[0m__getattribute__\u001b[0m\u001b[0;34m(\u001b[0m\u001b[0mself\u001b[0m\u001b[0;34m,\u001b[0m \u001b[0mname\u001b[0m\u001b[0;34m)\u001b[0m\u001b[0;34m\u001b[0m\u001b[0;34m\u001b[0m\u001b[0m\n\u001b[0;32m-> 5588\u001b[0;31m             \u001b[0;32mreturn\u001b[0m \u001b[0mobject\u001b[0m\u001b[0;34m.\u001b[0m\u001b[0m__setattr__\u001b[0m\u001b[0;34m(\u001b[0m\u001b[0mself\u001b[0m\u001b[0;34m,\u001b[0m \u001b[0mname\u001b[0m\u001b[0;34m,\u001b[0m \u001b[0mvalue\u001b[0m\u001b[0;34m)\u001b[0m\u001b[0;34m\u001b[0m\u001b[0;34m\u001b[0m\u001b[0m\n\u001b[0m\u001b[1;32m   5589\u001b[0m         \u001b[0;32mexcept\u001b[0m \u001b[0mAttributeError\u001b[0m\u001b[0;34m:\u001b[0m\u001b[0;34m\u001b[0m\u001b[0;34m\u001b[0m\u001b[0m\n\u001b[1;32m   5590\u001b[0m             \u001b[0;32mpass\u001b[0m\u001b[0;34m\u001b[0m\u001b[0;34m\u001b[0m\u001b[0m\n",
            "\u001b[0;32m/usr/local/lib/python3.9/dist-packages/pandas/_libs/properties.pyx\u001b[0m in \u001b[0;36mpandas._libs.properties.AxisProperty.__set__\u001b[0;34m()\u001b[0m\n",
            "\u001b[0;32m/usr/local/lib/python3.9/dist-packages/pandas/core/generic.py\u001b[0m in \u001b[0;36m_set_axis\u001b[0;34m(self, axis, labels)\u001b[0m\n\u001b[1;32m    767\u001b[0m     \u001b[0;32mdef\u001b[0m \u001b[0m_set_axis\u001b[0m\u001b[0;34m(\u001b[0m\u001b[0mself\u001b[0m\u001b[0;34m,\u001b[0m \u001b[0maxis\u001b[0m\u001b[0;34m:\u001b[0m \u001b[0mint\u001b[0m\u001b[0;34m,\u001b[0m \u001b[0mlabels\u001b[0m\u001b[0;34m:\u001b[0m \u001b[0mIndex\u001b[0m\u001b[0;34m)\u001b[0m \u001b[0;34m->\u001b[0m \u001b[0;32mNone\u001b[0m\u001b[0;34m:\u001b[0m\u001b[0;34m\u001b[0m\u001b[0;34m\u001b[0m\u001b[0m\n\u001b[1;32m    768\u001b[0m         \u001b[0mlabels\u001b[0m \u001b[0;34m=\u001b[0m \u001b[0mensure_index\u001b[0m\u001b[0;34m(\u001b[0m\u001b[0mlabels\u001b[0m\u001b[0;34m)\u001b[0m\u001b[0;34m\u001b[0m\u001b[0;34m\u001b[0m\u001b[0m\n\u001b[0;32m--> 769\u001b[0;31m         \u001b[0mself\u001b[0m\u001b[0;34m.\u001b[0m\u001b[0m_mgr\u001b[0m\u001b[0;34m.\u001b[0m\u001b[0mset_axis\u001b[0m\u001b[0;34m(\u001b[0m\u001b[0maxis\u001b[0m\u001b[0;34m,\u001b[0m \u001b[0mlabels\u001b[0m\u001b[0;34m)\u001b[0m\u001b[0;34m\u001b[0m\u001b[0;34m\u001b[0m\u001b[0m\n\u001b[0m\u001b[1;32m    770\u001b[0m         \u001b[0mself\u001b[0m\u001b[0;34m.\u001b[0m\u001b[0m_clear_item_cache\u001b[0m\u001b[0;34m(\u001b[0m\u001b[0;34m)\u001b[0m\u001b[0;34m\u001b[0m\u001b[0;34m\u001b[0m\u001b[0m\n\u001b[1;32m    771\u001b[0m \u001b[0;34m\u001b[0m\u001b[0m\n",
            "\u001b[0;32m/usr/local/lib/python3.9/dist-packages/pandas/core/internals/managers.py\u001b[0m in \u001b[0;36mset_axis\u001b[0;34m(self, axis, new_labels)\u001b[0m\n\u001b[1;32m    212\u001b[0m     \u001b[0;32mdef\u001b[0m \u001b[0mset_axis\u001b[0m\u001b[0;34m(\u001b[0m\u001b[0mself\u001b[0m\u001b[0;34m,\u001b[0m \u001b[0maxis\u001b[0m\u001b[0;34m:\u001b[0m \u001b[0mint\u001b[0m\u001b[0;34m,\u001b[0m \u001b[0mnew_labels\u001b[0m\u001b[0;34m:\u001b[0m \u001b[0mIndex\u001b[0m\u001b[0;34m)\u001b[0m \u001b[0;34m->\u001b[0m \u001b[0;32mNone\u001b[0m\u001b[0;34m:\u001b[0m\u001b[0;34m\u001b[0m\u001b[0;34m\u001b[0m\u001b[0m\n\u001b[1;32m    213\u001b[0m         \u001b[0;31m# Caller is responsible for ensuring we have an Index object.\u001b[0m\u001b[0;34m\u001b[0m\u001b[0;34m\u001b[0m\u001b[0m\n\u001b[0;32m--> 214\u001b[0;31m         \u001b[0mself\u001b[0m\u001b[0;34m.\u001b[0m\u001b[0m_validate_set_axis\u001b[0m\u001b[0;34m(\u001b[0m\u001b[0maxis\u001b[0m\u001b[0;34m,\u001b[0m \u001b[0mnew_labels\u001b[0m\u001b[0;34m)\u001b[0m\u001b[0;34m\u001b[0m\u001b[0;34m\u001b[0m\u001b[0m\n\u001b[0m\u001b[1;32m    215\u001b[0m         \u001b[0mself\u001b[0m\u001b[0;34m.\u001b[0m\u001b[0maxes\u001b[0m\u001b[0;34m[\u001b[0m\u001b[0maxis\u001b[0m\u001b[0;34m]\u001b[0m \u001b[0;34m=\u001b[0m \u001b[0mnew_labels\u001b[0m\u001b[0;34m\u001b[0m\u001b[0;34m\u001b[0m\u001b[0m\n\u001b[1;32m    216\u001b[0m \u001b[0;34m\u001b[0m\u001b[0m\n",
            "\u001b[0;32m/usr/local/lib/python3.9/dist-packages/pandas/core/internals/base.py\u001b[0m in \u001b[0;36m_validate_set_axis\u001b[0;34m(self, axis, new_labels)\u001b[0m\n\u001b[1;32m     67\u001b[0m \u001b[0;34m\u001b[0m\u001b[0m\n\u001b[1;32m     68\u001b[0m         \u001b[0;32melif\u001b[0m \u001b[0mnew_len\u001b[0m \u001b[0;34m!=\u001b[0m \u001b[0mold_len\u001b[0m\u001b[0;34m:\u001b[0m\u001b[0;34m\u001b[0m\u001b[0;34m\u001b[0m\u001b[0m\n\u001b[0;32m---> 69\u001b[0;31m             raise ValueError(\n\u001b[0m\u001b[1;32m     70\u001b[0m                 \u001b[0;34mf\"Length mismatch: Expected axis has {old_len} elements, new \"\u001b[0m\u001b[0;34m\u001b[0m\u001b[0;34m\u001b[0m\u001b[0m\n\u001b[1;32m     71\u001b[0m                 \u001b[0;34mf\"values have {new_len} elements\"\u001b[0m\u001b[0;34m\u001b[0m\u001b[0;34m\u001b[0m\u001b[0m\n",
            "\u001b[0;31mValueError\u001b[0m: Length mismatch: Expected axis has 50 elements, new values have 4 elements"
          ]
        }
      ]
    },
    {
      "cell_type": "markdown",
      "source": [
        "- CSV 읽기 "
      ],
      "metadata": {
        "id": "Y7GK9ZHSOGYZ"
      }
    },
    {
      "cell_type": "code",
      "source": [
        "!wget https://github.com/rickiepark/python-machine-learning-book-3rd-edition/raw/master/ch08/ratings_train.txt -O ratings_train.txt\n",
        "!wget https://github.com/rickiepark/python-machine-learning-book-3rd-edition/raw/master/ch08/ratings_train.txt -O ratings_test.txt"
      ],
      "metadata": {
        "id": "gmFPAUmAOZVo",
        "colab": {
          "base_uri": "https://localhost:8080/"
        },
        "outputId": "7ca727c3-53e5-4316-cc32-74c4ad29be6f"
      },
      "execution_count": null,
      "outputs": [
        {
          "output_type": "stream",
          "name": "stdout",
          "text": [
            "--2023-04-10 05:34:21--  https://github.com/rickiepark/python-machine-learning-book-3rd-edition/raw/master/ch08/ratings_train.txt\n",
            "Resolving github.com (github.com)... 140.82.114.3\n",
            "Connecting to github.com (github.com)|140.82.114.3|:443... connected.\n",
            "HTTP request sent, awaiting response... 302 Found\n",
            "Location: https://raw.githubusercontent.com/rickiepark/python-machine-learning-book-3rd-edition/master/ch08/ratings_train.txt [following]\n",
            "--2023-04-10 05:34:21--  https://raw.githubusercontent.com/rickiepark/python-machine-learning-book-3rd-edition/master/ch08/ratings_train.txt\n",
            "Resolving raw.githubusercontent.com (raw.githubusercontent.com)... 185.199.108.133, 185.199.109.133, 185.199.110.133, ...\n",
            "Connecting to raw.githubusercontent.com (raw.githubusercontent.com)|185.199.108.133|:443... connected.\n",
            "HTTP request sent, awaiting response... 200 OK\n",
            "Length: 14628807 (14M) [text/plain]\n",
            "Saving to: ‘ratings_train.txt’\n",
            "\n",
            "\rratings_train.txt     0%[                    ]       0  --.-KB/s               \rratings_train.txt   100%[===================>]  13.95M  --.-KB/s    in 0.08s   \n",
            "\n",
            "2023-04-10 05:34:21 (179 MB/s) - ‘ratings_train.txt’ saved [14628807/14628807]\n",
            "\n",
            "--2023-04-10 05:34:21--  https://github.com/rickiepark/python-machine-learning-book-3rd-edition/raw/master/ch08/ratings_train.txt\n",
            "Resolving github.com (github.com)... 140.82.113.4\n",
            "Connecting to github.com (github.com)|140.82.113.4|:443... connected.\n",
            "HTTP request sent, awaiting response... 302 Found\n",
            "Location: https://raw.githubusercontent.com/rickiepark/python-machine-learning-book-3rd-edition/master/ch08/ratings_train.txt [following]\n",
            "--2023-04-10 05:34:21--  https://raw.githubusercontent.com/rickiepark/python-machine-learning-book-3rd-edition/master/ch08/ratings_train.txt\n",
            "Resolving raw.githubusercontent.com (raw.githubusercontent.com)... 185.199.110.133, 185.199.111.133, 185.199.109.133, ...\n",
            "Connecting to raw.githubusercontent.com (raw.githubusercontent.com)|185.199.110.133|:443... connected.\n",
            "HTTP request sent, awaiting response... 200 OK\n",
            "Length: 14628807 (14M) [text/plain]\n",
            "Saving to: ‘ratings_test.txt’\n",
            "\n",
            "ratings_test.txt    100%[===================>]  13.95M  --.-KB/s    in 0.06s   \n",
            "\n",
            "2023-04-10 05:34:21 (227 MB/s) - ‘ratings_test.txt’ saved [14628807/14628807]\n",
            "\n"
          ]
        }
      ]
    },
    {
      "cell_type": "code",
      "source": [
        "import pandas as pd\n",
        "\n",
        "train_df = pd.read_csv('ratings_train.txt', sep='\\t')\n",
        "\n",
        "#상위 데이터 확인\n",
        "#train_df.head(3)\n",
        "\n",
        "#각 컬럼이 가지는 유니크한 데이터의 개수(\"select count(1) from dual group by col\")\n",
        "#train_df['label'].value_counts()\n",
        "\n",
        "#document 타입이 non-null이 5개가 빈다.\n",
        "#missing value 처리 해야함\n",
        "#train_df.info()\n",
        "\n",
        "#isnull의 평균은 각 missing Value의 비율을 알 수 있다.\n",
        "train_df.isnull().mean()\n",
        "\n",
        "#결측치를 그냥 날림(dropna) / true값이 하나라도 있는가 (isnull().any())\n",
        "train_df.dropna().isnull().any()\n",
        "\n",
        "#위의 결과를 반영하려면 새롭게 할당\n",
        "#1) train_df = train_df.dropna()\n",
        "#2) dropna(inplace=True)\n",
        "train_df.dropna(inplace=True)"
      ],
      "metadata": {
        "id": "QHaT0uUuOZVo"
      },
      "execution_count": null,
      "outputs": []
    },
    {
      "cell_type": "markdown",
      "source": [
        "-apply 함수 활용 missing value 처리"
      ],
      "metadata": {
        "id": "JuHaC0HjWM5J"
      }
    },
    {
      "cell_type": "code",
      "source": [
        "import numpy as np\n",
        "import pandas as pd\n",
        "data = pd.read_csv(\"titanic_raw.csv\")\n",
        "# 1. 결측치 어떻게 처리\n",
        "\n",
        "#data.info()를 보면 개수만 보면 결측이 없다.\n",
        "#but. age가 object가 되어있다. / 데이터에 ?가 들어가있다.\n",
        "data = data.replace('?', np.nan)\t#치환\n",
        "#data.info()\n",
        "\n",
        "# 2. Cabin 어떻게 처리\n",
        "#Cabin이 공백을 기준으로 여러 값이 있어서 가장 처음 값만 쓰기로 함.\n",
        "#함수를 만든다. / 공백 기준으로 0번째 or nan 리턴\n",
        "def get_first_cabin(row):\n",
        "\ttry:\n",
        "\t\treturn row.split()[0]\t#공백을 기준으로 나눈 첫번째 값\n",
        "\texcept:\n",
        "\t\treturn np.nan\n",
        "\n",
        "#apply = 각 컬럼에 함수를 실행\n",
        "#applymap = 데이터 프레임 전체에 적용\n",
        "data['cabin'] = data['cabin'].apply(get_first_cabin) #cabin컬럼에 함수 적용\n",
        "data.head()\n",
        "\n",
        "#저장 후 확인\n",
        "data.to_csv('titanic.csv', index=False)\n"
      ],
      "metadata": {
        "id": "8Vry3m4FzKbe"
      },
      "execution_count": null,
      "outputs": []
    },
    {
      "cell_type": "code",
      "source": [
        "import numpy as np\n",
        "import pandas as pd\n",
        "#Q. creditApprovalUCI\n",
        "#결측치 파악\n",
        "#결측치 제거 데이터프레임 생성\n",
        "#값 저장\n",
        "\n",
        "data = pd.read_csv(\"creditApprovalUCI.csv\")\n",
        "\n",
        "#1. 결측치\n",
        "data.isnull().mean()\n",
        "\n",
        "#2. 제거\n",
        "data.dropna(inplace=True)\n",
        "\n",
        "#저장\n",
        "data.to_csv(\"after_creditApprovalUCI.csv\")"
      ],
      "metadata": {
        "id": "VffFwkCC0fe7"
      },
      "execution_count": null,
      "outputs": []
    },
    {
      "cell_type": "markdown",
      "source": [
        "- Category Encoding"
      ],
      "metadata": {
        "id": "IaZXK_RC-6Xv"
      }
    },
    {
      "cell_type": "code",
      "source": [
        "import random\n",
        "import pandas as pd\n",
        "import numpy as np\n",
        "\n",
        "#헤더가 없음.\n",
        "data = pd.read_csv('crx.data', header=None)\n",
        "\n",
        "#헤더 생성\n",
        "varnames = ['A'+str(s) for s in range(1,17)]\n",
        "data.columns = varnames\n",
        "data.info()\n",
        "\n",
        "data = data.replace('?', np.nan)"
      ],
      "metadata": {
        "id": "Su6dir1cy47s",
        "colab": {
          "base_uri": "https://localhost:8080/"
        },
        "outputId": "9163a186-a6a3-456a-d955-6ecf3fc7cd32"
      },
      "execution_count": null,
      "outputs": [
        {
          "output_type": "stream",
          "name": "stdout",
          "text": [
            "<class 'pandas.core.frame.DataFrame'>\n",
            "RangeIndex: 690 entries, 0 to 689\n",
            "Data columns (total 16 columns):\n",
            " #   Column  Non-Null Count  Dtype  \n",
            "---  ------  --------------  -----  \n",
            " 0   A1      690 non-null    object \n",
            " 1   A2      690 non-null    object \n",
            " 2   A3      690 non-null    float64\n",
            " 3   A4      690 non-null    object \n",
            " 4   A5      690 non-null    object \n",
            " 5   A6      690 non-null    object \n",
            " 6   A7      690 non-null    object \n",
            " 7   A8      690 non-null    float64\n",
            " 8   A9      690 non-null    object \n",
            " 9   A10     690 non-null    object \n",
            " 10  A11     690 non-null    int64  \n",
            " 11  A12     690 non-null    object \n",
            " 12  A13     690 non-null    object \n",
            " 13  A14     690 non-null    object \n",
            " 14  A15     690 non-null    int64  \n",
            " 15  A16     690 non-null    object \n",
            "dtypes: float64(2), int64(2), object(12)\n",
            "memory usage: 86.4+ KB\n"
          ]
        },
        {
          "output_type": "execute_result",
          "data": {
            "text/plain": [
              "0      1\n",
              "1      1\n",
              "2      1\n",
              "3      1\n",
              "4      1\n",
              "      ..\n",
              "685    0\n",
              "686    0\n",
              "687    0\n",
              "688    0\n",
              "689    0\n",
              "Name: A16, Length: 690, dtype: int64"
            ]
          },
          "metadata": {},
          "execution_count": 222
        }
      ]
    },
    {
      "cell_type": "code",
      "source": [
        "#re-cast to float\n",
        "#특정 컬럼의 type을 변환하는 메소드\n",
        "data['A2'] = data['A2'].astype('float') \n",
        "data['A14'] = data['A14'].astype('float')\n",
        "\n",
        "#변환할 데이터가 많아지면 보기 힘듦\n",
        "data[\"A16\"].replace(\"+\", 1).replace(\"-\", 0)\n",
        "\n",
        "#map으로 변환가능\n",
        "data['A16'] = data['A16'].map({'+':1, '-':0}) #딕셔너리 대로 값을 변환(키->밸류)\n",
        "\n",
        "#Q \n",
        "# 결측치 제거\n",
        "# a4의 unique() 파악\n",
        "# map으로 범주를 수치로\n",
        "data['A4'].dropna().unique()\n",
        "t1 = data['A4'].dropna().map({\"u\":1, \"y\":2, \"l\":3})\n",
        "t1\n"
      ],
      "metadata": {
        "id": "vb46UaV8aW6I",
        "colab": {
          "base_uri": "https://localhost:8080/"
        },
        "outputId": "da296b6c-d1da-48a2-8bc7-b70722abe5b6"
      },
      "execution_count": null,
      "outputs": [
        {
          "output_type": "execute_result",
          "data": {
            "text/plain": [
              "0      1\n",
              "1      1\n",
              "2      1\n",
              "3      1\n",
              "4      1\n",
              "      ..\n",
              "685    2\n",
              "686    1\n",
              "687    2\n",
              "688    1\n",
              "689    1\n",
              "Name: A4, Length: 684, dtype: int64"
            ]
          },
          "metadata": {},
          "execution_count": 246
        }
      ]
    },
    {
      "cell_type": "code",
      "source": [
        "#data[\"A1\"].dtype로 타입을 볼 수 있음 O== object, float = float64 등등\n",
        "\n",
        "#Object만 뽑으니까 범주형 변수\n",
        "cat_cols = [c for c in data.columns if data[c].dtypes=='O']\n",
        "\n",
        "#Object를 뽑지않으니 수치형 변수\n",
        "num_cols = [c for c in data.columns if data[c].dtypes!='O']\n",
        "\n",
        "#missing 처리: inputing \n",
        "data[num_cols] = data[num_cols].fillna(0) #수치형변수만 선택->결측치->0으로 채우기기\n",
        "data[cat_cols] = data[cat_cols].fillna('Missing')#범주형변수만 선택->결측치->Missing으로..\n",
        "\n",
        "data.to_csv('creditApprovalUCI.csv', index=False) #행이름 제외하고 저장\n"
      ],
      "metadata": {
        "id": "uaQ1gw_j9DJz"
      },
      "execution_count": null,
      "outputs": []
    },
    {
      "cell_type": "markdown",
      "source": [
        "- One Hot Encoding\n",
        " - onehot encoding \n",
        " - 예: 성별->각 범주가 컬럼이 되고, 값은 1또는 0 또는 한 변수에서 값이 1과 0\n",
        " - 범주 수(k)-1개의 변수로 표현\n",
        " - 경우에 따라 범주 개수 만큼의 변수로 인코딩할 수 있음: \n",
        " - DT와 같이 재귀적이고 분할하여 모델링하는 경우, 각 범주가 분리되는 것이 효과적"
      ],
      "metadata": {
        "id": "J-Ycc5c-QSXb"
      }
    },
    {
      "cell_type": "code",
      "source": [
        "import pandas as pd\n",
        "from sklearn.model_selection import train_test_split\n",
        "from sklearn.preprocessing import OneHotEncoder\n",
        "\n",
        "data = pd.read_csv('creditApprovalUCI.csv')\n",
        "\n",
        "X_train, X_test, y_train, y_test = train_test_split(data.drop(labels=['A16'], axis=1), data['A16'], test_size=0.3,random_state=0)\n",
        "X_train['A4'].unique()\n",
        "X_train['A4'].isnull().mean()\n",
        "X_train['A4'].value_counts()\n"
      ],
      "metadata": {
        "colab": {
          "base_uri": "https://localhost:8080/"
        },
        "id": "PIYLHCRzpKWa",
        "outputId": "4a5fdc1c-d5ad-466b-d71b-756da095a900"
      },
      "execution_count": null,
      "outputs": [
        {
          "output_type": "execute_result",
          "data": {
            "text/plain": [
              "u    363\n",
              "y    115\n",
              "l      1\n",
              "Name: A4, dtype: int64"
            ]
          },
          "metadata": {},
          "execution_count": 248
        }
      ]
    },
    {
      "cell_type": "code",
      "source": [
        "#범주형 변수를 만들어주는 pandas 함수 get_dummies\n",
        "#drop_first=True, OHE 할 때 컬럼을 줄여줌\n",
        "tmp = pd.get_dummies( X_train['A4'], drop_first=False)\n",
        "tmp"
      ],
      "metadata": {
        "id": "icc_MvuM2ryg",
        "colab": {
          "base_uri": "https://localhost:8080/",
          "height": 417
        },
        "outputId": "589b6b9b-c5ee-48a9-8e73-b0a061accfb8"
      },
      "execution_count": null,
      "outputs": [
        {
          "output_type": "execute_result",
          "data": {
            "text/plain": [
              "     l  u  y\n",
              "596  0  1  0\n",
              "303  0  1  0\n",
              "204  0  0  1\n",
              "351  0  0  1\n",
              "118  0  1  0\n",
              "..  .. .. ..\n",
              "359  0  1  0\n",
              "192  0  1  0\n",
              "629  0  1  0\n",
              "559  0  1  0\n",
              "684  0  1  0\n",
              "\n",
              "[483 rows x 3 columns]"
            ],
            "text/html": [
              "\n",
              "  <div id=\"df-51b87cbc-13af-469e-8085-39944e623f54\">\n",
              "    <div class=\"colab-df-container\">\n",
              "      <div>\n",
              "<style scoped>\n",
              "    .dataframe tbody tr th:only-of-type {\n",
              "        vertical-align: middle;\n",
              "    }\n",
              "\n",
              "    .dataframe tbody tr th {\n",
              "        vertical-align: top;\n",
              "    }\n",
              "\n",
              "    .dataframe thead th {\n",
              "        text-align: right;\n",
              "    }\n",
              "</style>\n",
              "<table border=\"1\" class=\"dataframe\">\n",
              "  <thead>\n",
              "    <tr style=\"text-align: right;\">\n",
              "      <th></th>\n",
              "      <th>l</th>\n",
              "      <th>u</th>\n",
              "      <th>y</th>\n",
              "    </tr>\n",
              "  </thead>\n",
              "  <tbody>\n",
              "    <tr>\n",
              "      <th>596</th>\n",
              "      <td>0</td>\n",
              "      <td>1</td>\n",
              "      <td>0</td>\n",
              "    </tr>\n",
              "    <tr>\n",
              "      <th>303</th>\n",
              "      <td>0</td>\n",
              "      <td>1</td>\n",
              "      <td>0</td>\n",
              "    </tr>\n",
              "    <tr>\n",
              "      <th>204</th>\n",
              "      <td>0</td>\n",
              "      <td>0</td>\n",
              "      <td>1</td>\n",
              "    </tr>\n",
              "    <tr>\n",
              "      <th>351</th>\n",
              "      <td>0</td>\n",
              "      <td>0</td>\n",
              "      <td>1</td>\n",
              "    </tr>\n",
              "    <tr>\n",
              "      <th>118</th>\n",
              "      <td>0</td>\n",
              "      <td>1</td>\n",
              "      <td>0</td>\n",
              "    </tr>\n",
              "    <tr>\n",
              "      <th>...</th>\n",
              "      <td>...</td>\n",
              "      <td>...</td>\n",
              "      <td>...</td>\n",
              "    </tr>\n",
              "    <tr>\n",
              "      <th>359</th>\n",
              "      <td>0</td>\n",
              "      <td>1</td>\n",
              "      <td>0</td>\n",
              "    </tr>\n",
              "    <tr>\n",
              "      <th>192</th>\n",
              "      <td>0</td>\n",
              "      <td>1</td>\n",
              "      <td>0</td>\n",
              "    </tr>\n",
              "    <tr>\n",
              "      <th>629</th>\n",
              "      <td>0</td>\n",
              "      <td>1</td>\n",
              "      <td>0</td>\n",
              "    </tr>\n",
              "    <tr>\n",
              "      <th>559</th>\n",
              "      <td>0</td>\n",
              "      <td>1</td>\n",
              "      <td>0</td>\n",
              "    </tr>\n",
              "    <tr>\n",
              "      <th>684</th>\n",
              "      <td>0</td>\n",
              "      <td>1</td>\n",
              "      <td>0</td>\n",
              "    </tr>\n",
              "  </tbody>\n",
              "</table>\n",
              "<p>483 rows × 3 columns</p>\n",
              "</div>\n",
              "      <button class=\"colab-df-convert\" onclick=\"convertToInteractive('df-51b87cbc-13af-469e-8085-39944e623f54')\"\n",
              "              title=\"Convert this dataframe to an interactive table.\"\n",
              "              style=\"display:none;\">\n",
              "        \n",
              "  <svg xmlns=\"http://www.w3.org/2000/svg\" height=\"24px\"viewBox=\"0 0 24 24\"\n",
              "       width=\"24px\">\n",
              "    <path d=\"M0 0h24v24H0V0z\" fill=\"none\"/>\n",
              "    <path d=\"M18.56 5.44l.94 2.06.94-2.06 2.06-.94-2.06-.94-.94-2.06-.94 2.06-2.06.94zm-11 1L8.5 8.5l.94-2.06 2.06-.94-2.06-.94L8.5 2.5l-.94 2.06-2.06.94zm10 10l.94 2.06.94-2.06 2.06-.94-2.06-.94-.94-2.06-.94 2.06-2.06.94z\"/><path d=\"M17.41 7.96l-1.37-1.37c-.4-.4-.92-.59-1.43-.59-.52 0-1.04.2-1.43.59L10.3 9.45l-7.72 7.72c-.78.78-.78 2.05 0 2.83L4 21.41c.39.39.9.59 1.41.59.51 0 1.02-.2 1.41-.59l7.78-7.78 2.81-2.81c.8-.78.8-2.07 0-2.86zM5.41 20L4 18.59l7.72-7.72 1.47 1.35L5.41 20z\"/>\n",
              "  </svg>\n",
              "      </button>\n",
              "      \n",
              "  <style>\n",
              "    .colab-df-container {\n",
              "      display:flex;\n",
              "      flex-wrap:wrap;\n",
              "      gap: 12px;\n",
              "    }\n",
              "\n",
              "    .colab-df-convert {\n",
              "      background-color: #E8F0FE;\n",
              "      border: none;\n",
              "      border-radius: 50%;\n",
              "      cursor: pointer;\n",
              "      display: none;\n",
              "      fill: #1967D2;\n",
              "      height: 32px;\n",
              "      padding: 0 0 0 0;\n",
              "      width: 32px;\n",
              "    }\n",
              "\n",
              "    .colab-df-convert:hover {\n",
              "      background-color: #E2EBFA;\n",
              "      box-shadow: 0px 1px 2px rgba(60, 64, 67, 0.3), 0px 1px 3px 1px rgba(60, 64, 67, 0.15);\n",
              "      fill: #174EA6;\n",
              "    }\n",
              "\n",
              "    [theme=dark] .colab-df-convert {\n",
              "      background-color: #3B4455;\n",
              "      fill: #D2E3FC;\n",
              "    }\n",
              "\n",
              "    [theme=dark] .colab-df-convert:hover {\n",
              "      background-color: #434B5C;\n",
              "      box-shadow: 0px 1px 3px 1px rgba(0, 0, 0, 0.15);\n",
              "      filter: drop-shadow(0px 1px 2px rgba(0, 0, 0, 0.3));\n",
              "      fill: #FFFFFF;\n",
              "    }\n",
              "  </style>\n",
              "\n",
              "      <script>\n",
              "        const buttonEl =\n",
              "          document.querySelector('#df-51b87cbc-13af-469e-8085-39944e623f54 button.colab-df-convert');\n",
              "        buttonEl.style.display =\n",
              "          google.colab.kernel.accessAllowed ? 'block' : 'none';\n",
              "\n",
              "        async function convertToInteractive(key) {\n",
              "          const element = document.querySelector('#df-51b87cbc-13af-469e-8085-39944e623f54');\n",
              "          const dataTable =\n",
              "            await google.colab.kernel.invokeFunction('convertToInteractive',\n",
              "                                                     [key], {});\n",
              "          if (!dataTable) return;\n",
              "\n",
              "          const docLinkHtml = 'Like what you see? Visit the ' +\n",
              "            '<a target=\"_blank\" href=https://colab.research.google.com/notebooks/data_table.ipynb>data table notebook</a>'\n",
              "            + ' to learn more about interactive tables.';\n",
              "          element.innerHTML = '';\n",
              "          dataTable['output_type'] = 'display_data';\n",
              "          await google.colab.output.renderOutput(dataTable, element);\n",
              "          const docLink = document.createElement('div');\n",
              "          docLink.innerHTML = docLinkHtml;\n",
              "          element.appendChild(docLink);\n",
              "        }\n",
              "      </script>\n",
              "    </div>\n",
              "  </div>\n",
              "  "
            ]
          },
          "metadata": {},
          "execution_count": 251
        }
      ]
    },
    {
      "cell_type": "code",
      "source": [
        "pd.get_dummies(X_train['A4'], drop_first=True)\n",
        "tmp = pd.get_dummies(X_train['A4'], drop_first=True)\t#k-1개로 인코딩\n",
        "tmp.head()"
      ],
      "metadata": {
        "id": "5702IV4SUvAL",
        "colab": {
          "base_uri": "https://localhost:8080/",
          "height": 203
        },
        "outputId": "42f3cb94-c6c4-4617-cefa-9852feea2adb"
      },
      "execution_count": null,
      "outputs": [
        {
          "output_type": "execute_result",
          "data": {
            "text/plain": [
              "     u  y\n",
              "596  1  0\n",
              "303  1  0\n",
              "204  0  1\n",
              "351  0  1\n",
              "118  1  0"
            ],
            "text/html": [
              "\n",
              "  <div id=\"df-63cc6748-74ed-43b0-a1dc-dbfb0a311284\">\n",
              "    <div class=\"colab-df-container\">\n",
              "      <div>\n",
              "<style scoped>\n",
              "    .dataframe tbody tr th:only-of-type {\n",
              "        vertical-align: middle;\n",
              "    }\n",
              "\n",
              "    .dataframe tbody tr th {\n",
              "        vertical-align: top;\n",
              "    }\n",
              "\n",
              "    .dataframe thead th {\n",
              "        text-align: right;\n",
              "    }\n",
              "</style>\n",
              "<table border=\"1\" class=\"dataframe\">\n",
              "  <thead>\n",
              "    <tr style=\"text-align: right;\">\n",
              "      <th></th>\n",
              "      <th>u</th>\n",
              "      <th>y</th>\n",
              "    </tr>\n",
              "  </thead>\n",
              "  <tbody>\n",
              "    <tr>\n",
              "      <th>596</th>\n",
              "      <td>1</td>\n",
              "      <td>0</td>\n",
              "    </tr>\n",
              "    <tr>\n",
              "      <th>303</th>\n",
              "      <td>1</td>\n",
              "      <td>0</td>\n",
              "    </tr>\n",
              "    <tr>\n",
              "      <th>204</th>\n",
              "      <td>0</td>\n",
              "      <td>1</td>\n",
              "    </tr>\n",
              "    <tr>\n",
              "      <th>351</th>\n",
              "      <td>0</td>\n",
              "      <td>1</td>\n",
              "    </tr>\n",
              "    <tr>\n",
              "      <th>118</th>\n",
              "      <td>1</td>\n",
              "      <td>0</td>\n",
              "    </tr>\n",
              "  </tbody>\n",
              "</table>\n",
              "</div>\n",
              "      <button class=\"colab-df-convert\" onclick=\"convertToInteractive('df-63cc6748-74ed-43b0-a1dc-dbfb0a311284')\"\n",
              "              title=\"Convert this dataframe to an interactive table.\"\n",
              "              style=\"display:none;\">\n",
              "        \n",
              "  <svg xmlns=\"http://www.w3.org/2000/svg\" height=\"24px\"viewBox=\"0 0 24 24\"\n",
              "       width=\"24px\">\n",
              "    <path d=\"M0 0h24v24H0V0z\" fill=\"none\"/>\n",
              "    <path d=\"M18.56 5.44l.94 2.06.94-2.06 2.06-.94-2.06-.94-.94-2.06-.94 2.06-2.06.94zm-11 1L8.5 8.5l.94-2.06 2.06-.94-2.06-.94L8.5 2.5l-.94 2.06-2.06.94zm10 10l.94 2.06.94-2.06 2.06-.94-2.06-.94-.94-2.06-.94 2.06-2.06.94z\"/><path d=\"M17.41 7.96l-1.37-1.37c-.4-.4-.92-.59-1.43-.59-.52 0-1.04.2-1.43.59L10.3 9.45l-7.72 7.72c-.78.78-.78 2.05 0 2.83L4 21.41c.39.39.9.59 1.41.59.51 0 1.02-.2 1.41-.59l7.78-7.78 2.81-2.81c.8-.78.8-2.07 0-2.86zM5.41 20L4 18.59l7.72-7.72 1.47 1.35L5.41 20z\"/>\n",
              "  </svg>\n",
              "      </button>\n",
              "      \n",
              "  <style>\n",
              "    .colab-df-container {\n",
              "      display:flex;\n",
              "      flex-wrap:wrap;\n",
              "      gap: 12px;\n",
              "    }\n",
              "\n",
              "    .colab-df-convert {\n",
              "      background-color: #E8F0FE;\n",
              "      border: none;\n",
              "      border-radius: 50%;\n",
              "      cursor: pointer;\n",
              "      display: none;\n",
              "      fill: #1967D2;\n",
              "      height: 32px;\n",
              "      padding: 0 0 0 0;\n",
              "      width: 32px;\n",
              "    }\n",
              "\n",
              "    .colab-df-convert:hover {\n",
              "      background-color: #E2EBFA;\n",
              "      box-shadow: 0px 1px 2px rgba(60, 64, 67, 0.3), 0px 1px 3px 1px rgba(60, 64, 67, 0.15);\n",
              "      fill: #174EA6;\n",
              "    }\n",
              "\n",
              "    [theme=dark] .colab-df-convert {\n",
              "      background-color: #3B4455;\n",
              "      fill: #D2E3FC;\n",
              "    }\n",
              "\n",
              "    [theme=dark] .colab-df-convert:hover {\n",
              "      background-color: #434B5C;\n",
              "      box-shadow: 0px 1px 3px 1px rgba(0, 0, 0, 0.15);\n",
              "      filter: drop-shadow(0px 1px 2px rgba(0, 0, 0, 0.3));\n",
              "      fill: #FFFFFF;\n",
              "    }\n",
              "  </style>\n",
              "\n",
              "      <script>\n",
              "        const buttonEl =\n",
              "          document.querySelector('#df-63cc6748-74ed-43b0-a1dc-dbfb0a311284 button.colab-df-convert');\n",
              "        buttonEl.style.display =\n",
              "          google.colab.kernel.accessAllowed ? 'block' : 'none';\n",
              "\n",
              "        async function convertToInteractive(key) {\n",
              "          const element = document.querySelector('#df-63cc6748-74ed-43b0-a1dc-dbfb0a311284');\n",
              "          const dataTable =\n",
              "            await google.colab.kernel.invokeFunction('convertToInteractive',\n",
              "                                                     [key], {});\n",
              "          if (!dataTable) return;\n",
              "\n",
              "          const docLinkHtml = 'Like what you see? Visit the ' +\n",
              "            '<a target=\"_blank\" href=https://colab.research.google.com/notebooks/data_table.ipynb>data table notebook</a>'\n",
              "            + ' to learn more about interactive tables.';\n",
              "          element.innerHTML = '';\n",
              "          dataTable['output_type'] = 'display_data';\n",
              "          await google.colab.output.renderOutput(dataTable, element);\n",
              "          const docLink = document.createElement('div');\n",
              "          docLink.innerHTML = docLinkHtml;\n",
              "          element.appendChild(docLink);\n",
              "        }\n",
              "      </script>\n",
              "    </div>\n",
              "  </div>\n",
              "  "
            ]
          },
          "metadata": {},
          "execution_count": 252
        }
      ]
    },
    {
      "cell_type": "code",
      "source": [
        "pd.get_dummies(X_train['A4'], drop_first=True, dummy_na=True)"
      ],
      "metadata": {
        "colab": {
          "base_uri": "https://localhost:8080/",
          "height": 417
        },
        "id": "PCDdzBbbVt-k",
        "outputId": "7562907e-ba7f-4984-c537-7350521fd333"
      },
      "execution_count": null,
      "outputs": [
        {
          "output_type": "execute_result",
          "data": {
            "text/plain": [
              "     u  y  NaN\n",
              "596  1  0    0\n",
              "303  1  0    0\n",
              "204  0  1    0\n",
              "351  0  1    0\n",
              "118  1  0    0\n",
              "..  .. ..  ...\n",
              "359  1  0    0\n",
              "192  1  0    0\n",
              "629  1  0    0\n",
              "559  1  0    0\n",
              "684  1  0    0\n",
              "\n",
              "[483 rows x 3 columns]"
            ],
            "text/html": [
              "\n",
              "  <div id=\"df-49b52c52-69c4-4f9a-b298-075632fa6842\">\n",
              "    <div class=\"colab-df-container\">\n",
              "      <div>\n",
              "<style scoped>\n",
              "    .dataframe tbody tr th:only-of-type {\n",
              "        vertical-align: middle;\n",
              "    }\n",
              "\n",
              "    .dataframe tbody tr th {\n",
              "        vertical-align: top;\n",
              "    }\n",
              "\n",
              "    .dataframe thead th {\n",
              "        text-align: right;\n",
              "    }\n",
              "</style>\n",
              "<table border=\"1\" class=\"dataframe\">\n",
              "  <thead>\n",
              "    <tr style=\"text-align: right;\">\n",
              "      <th></th>\n",
              "      <th>u</th>\n",
              "      <th>y</th>\n",
              "      <th>NaN</th>\n",
              "    </tr>\n",
              "  </thead>\n",
              "  <tbody>\n",
              "    <tr>\n",
              "      <th>596</th>\n",
              "      <td>1</td>\n",
              "      <td>0</td>\n",
              "      <td>0</td>\n",
              "    </tr>\n",
              "    <tr>\n",
              "      <th>303</th>\n",
              "      <td>1</td>\n",
              "      <td>0</td>\n",
              "      <td>0</td>\n",
              "    </tr>\n",
              "    <tr>\n",
              "      <th>204</th>\n",
              "      <td>0</td>\n",
              "      <td>1</td>\n",
              "      <td>0</td>\n",
              "    </tr>\n",
              "    <tr>\n",
              "      <th>351</th>\n",
              "      <td>0</td>\n",
              "      <td>1</td>\n",
              "      <td>0</td>\n",
              "    </tr>\n",
              "    <tr>\n",
              "      <th>118</th>\n",
              "      <td>1</td>\n",
              "      <td>0</td>\n",
              "      <td>0</td>\n",
              "    </tr>\n",
              "    <tr>\n",
              "      <th>...</th>\n",
              "      <td>...</td>\n",
              "      <td>...</td>\n",
              "      <td>...</td>\n",
              "    </tr>\n",
              "    <tr>\n",
              "      <th>359</th>\n",
              "      <td>1</td>\n",
              "      <td>0</td>\n",
              "      <td>0</td>\n",
              "    </tr>\n",
              "    <tr>\n",
              "      <th>192</th>\n",
              "      <td>1</td>\n",
              "      <td>0</td>\n",
              "      <td>0</td>\n",
              "    </tr>\n",
              "    <tr>\n",
              "      <th>629</th>\n",
              "      <td>1</td>\n",
              "      <td>0</td>\n",
              "      <td>0</td>\n",
              "    </tr>\n",
              "    <tr>\n",
              "      <th>559</th>\n",
              "      <td>1</td>\n",
              "      <td>0</td>\n",
              "      <td>0</td>\n",
              "    </tr>\n",
              "    <tr>\n",
              "      <th>684</th>\n",
              "      <td>1</td>\n",
              "      <td>0</td>\n",
              "      <td>0</td>\n",
              "    </tr>\n",
              "  </tbody>\n",
              "</table>\n",
              "<p>483 rows × 3 columns</p>\n",
              "</div>\n",
              "      <button class=\"colab-df-convert\" onclick=\"convertToInteractive('df-49b52c52-69c4-4f9a-b298-075632fa6842')\"\n",
              "              title=\"Convert this dataframe to an interactive table.\"\n",
              "              style=\"display:none;\">\n",
              "        \n",
              "  <svg xmlns=\"http://www.w3.org/2000/svg\" height=\"24px\"viewBox=\"0 0 24 24\"\n",
              "       width=\"24px\">\n",
              "    <path d=\"M0 0h24v24H0V0z\" fill=\"none\"/>\n",
              "    <path d=\"M18.56 5.44l.94 2.06.94-2.06 2.06-.94-2.06-.94-.94-2.06-.94 2.06-2.06.94zm-11 1L8.5 8.5l.94-2.06 2.06-.94-2.06-.94L8.5 2.5l-.94 2.06-2.06.94zm10 10l.94 2.06.94-2.06 2.06-.94-2.06-.94-.94-2.06-.94 2.06-2.06.94z\"/><path d=\"M17.41 7.96l-1.37-1.37c-.4-.4-.92-.59-1.43-.59-.52 0-1.04.2-1.43.59L10.3 9.45l-7.72 7.72c-.78.78-.78 2.05 0 2.83L4 21.41c.39.39.9.59 1.41.59.51 0 1.02-.2 1.41-.59l7.78-7.78 2.81-2.81c.8-.78.8-2.07 0-2.86zM5.41 20L4 18.59l7.72-7.72 1.47 1.35L5.41 20z\"/>\n",
              "  </svg>\n",
              "      </button>\n",
              "      \n",
              "  <style>\n",
              "    .colab-df-container {\n",
              "      display:flex;\n",
              "      flex-wrap:wrap;\n",
              "      gap: 12px;\n",
              "    }\n",
              "\n",
              "    .colab-df-convert {\n",
              "      background-color: #E8F0FE;\n",
              "      border: none;\n",
              "      border-radius: 50%;\n",
              "      cursor: pointer;\n",
              "      display: none;\n",
              "      fill: #1967D2;\n",
              "      height: 32px;\n",
              "      padding: 0 0 0 0;\n",
              "      width: 32px;\n",
              "    }\n",
              "\n",
              "    .colab-df-convert:hover {\n",
              "      background-color: #E2EBFA;\n",
              "      box-shadow: 0px 1px 2px rgba(60, 64, 67, 0.3), 0px 1px 3px 1px rgba(60, 64, 67, 0.15);\n",
              "      fill: #174EA6;\n",
              "    }\n",
              "\n",
              "    [theme=dark] .colab-df-convert {\n",
              "      background-color: #3B4455;\n",
              "      fill: #D2E3FC;\n",
              "    }\n",
              "\n",
              "    [theme=dark] .colab-df-convert:hover {\n",
              "      background-color: #434B5C;\n",
              "      box-shadow: 0px 1px 3px 1px rgba(0, 0, 0, 0.15);\n",
              "      filter: drop-shadow(0px 1px 2px rgba(0, 0, 0, 0.3));\n",
              "      fill: #FFFFFF;\n",
              "    }\n",
              "  </style>\n",
              "\n",
              "      <script>\n",
              "        const buttonEl =\n",
              "          document.querySelector('#df-49b52c52-69c4-4f9a-b298-075632fa6842 button.colab-df-convert');\n",
              "        buttonEl.style.display =\n",
              "          google.colab.kernel.accessAllowed ? 'block' : 'none';\n",
              "\n",
              "        async function convertToInteractive(key) {\n",
              "          const element = document.querySelector('#df-49b52c52-69c4-4f9a-b298-075632fa6842');\n",
              "          const dataTable =\n",
              "            await google.colab.kernel.invokeFunction('convertToInteractive',\n",
              "                                                     [key], {});\n",
              "          if (!dataTable) return;\n",
              "\n",
              "          const docLinkHtml = 'Like what you see? Visit the ' +\n",
              "            '<a target=\"_blank\" href=https://colab.research.google.com/notebooks/data_table.ipynb>data table notebook</a>'\n",
              "            + ' to learn more about interactive tables.';\n",
              "          element.innerHTML = '';\n",
              "          dataTable['output_type'] = 'display_data';\n",
              "          await google.colab.output.renderOutput(dataTable, element);\n",
              "          const docLink = document.createElement('div');\n",
              "          docLink.innerHTML = docLinkHtml;\n",
              "          element.appendChild(docLink);\n",
              "        }\n",
              "      </script>\n",
              "    </div>\n",
              "  </div>\n",
              "  "
            ]
          },
          "metadata": {},
          "execution_count": 253
        }
      ]
    },
    {
      "cell_type": "markdown",
      "source": [
        "- 연습\n",
        " - df0.csv, df1.csv를 각각 df, df2로 읽으세요"
      ],
      "metadata": {
        "id": "X_DqogurNVH1"
      }
    },
    {
      "cell_type": "code",
      "source": [
        "import pandas as pd\n",
        "df = pd.read_csv(\"df0.csv\")\n",
        "df2 = pd.read_csv(\"df1.csv\")\n",
        "\n",
        "#두 파일은 형식이 다름, df1은 중복되는 날짜가 있음.\n",
        "#df0 date == 2023.03.01\n",
        "#df1 date == 2023-03-01"
      ],
      "metadata": {
        "id": "ma-IwkxbOnnS"
      },
      "execution_count": null,
      "outputs": []
    },
    {
      "cell_type": "code",
      "source": [
        "df2"
      ],
      "metadata": {
        "id": "08WvUFIQ-oiG"
      },
      "execution_count": null,
      "outputs": []
    },
    {
      "cell_type": "code",
      "source": [
        "#1보다 크면 1 아니면 0\n",
        "def func1( input):\n",
        "  if input > 1:\n",
        "    return 1\n",
        "  else:\n",
        "    return 0\n",
        "\n",
        "df2[\"target\"] = df2.change.apply(func1)\n",
        "df2.target"
      ],
      "metadata": {
        "id": "T6U4BsYnh5eo"
      },
      "execution_count": null,
      "outputs": []
    },
    {
      "cell_type": "code",
      "source": [
        "df.date"
      ],
      "metadata": {
        "colab": {
          "base_uri": "https://localhost:8080/"
        },
        "id": "67axzsg8CwFA",
        "outputId": "8b786eae-7990-4050-849a-f62500859f37"
      },
      "execution_count": null,
      "outputs": [
        {
          "output_type": "execute_result",
          "data": {
            "text/plain": [
              "0    2023.03.01\n",
              "1    2023.03.02\n",
              "2    2023.03.05\n",
              "3    2023.03.06\n",
              "4    2023.03.09\n",
              "5    2023.03.10\n",
              "6    2023.03.12\n",
              "7    2023.03.14\n",
              "Name: date, dtype: object"
            ]
          },
          "metadata": {},
          "execution_count": 260
        }
      ]
    },
    {
      "cell_type": "code",
      "source": [
        "#yyyyMMdd 형식으로 변환 \n",
        "#str은 필수 \n",
        "df[\"date2\"] = df.date.str.replace(\".\",\"\")\n",
        "df2[\"date2\"] = df2.date.str.replace(\"-\",\"\")"
      ],
      "metadata": {
        "id": "S6X0mT6GgmZD"
      },
      "execution_count": null,
      "outputs": []
    },
    {
      "cell_type": "code",
      "source": [
        "#단순하게 append느낌으로 추가\n",
        "#컬럼 방향으로 추가 axis=1\n",
        "#행 방향으로 추가 axis=0\n",
        "df3 = pd.concat( [df,df2 ], axis=1)\n",
        "print(df3)"
      ],
      "metadata": {
        "id": "NupJbb5b_I5w",
        "colab": {
          "base_uri": "https://localhost:8080/"
        },
        "outputId": "19c27130-1a41-46c8-da38-6408842f16ca"
      },
      "execution_count": null,
      "outputs": [
        {
          "output_type": "stream",
          "name": "stdout",
          "text": [
            "         date  value2     date2        date  value  change  target     date2\n",
            "0  2023.03.01   10005  20230301  2023-03-01   1000     1.5       1  20230301\n",
            "1  2023.03.02   10103  20230302  2023-03-02   1010     1.3       1  20230302\n",
            "2  2023.03.05   10089  20230305  2023-03-05   1008     0.9       0  20230305\n",
            "3  2023.03.06   10115  20230306  2023-03-05   1011     1.5       1  20230305\n",
            "4  2023.03.09   10005  20230309  2023-03-09   1000     1.5       1  20230309\n",
            "5  2023.03.10   10103  20230310  2023-03-10   1010     1.3       1  20230310\n",
            "6  2023.03.12   10089  20230312  2023-03-14   1008     0.9       0  20230314\n",
            "7  2023.03.14   10115  20230314  2023-03-14   1011     1.5       1  20230314\n"
          ]
        }
      ]
    },
    {
      "cell_type": "code",
      "source": [
        "#merge == join과 같음\n",
        "#왼쪽 데이터프레임(df)를 기준으로\n",
        "#on 기준으로\n",
        "df5 = pd.merge(df, df2, how=\"left\", on=\"date2\" )\n",
        "df5\n",
        "print(df5.dropna())#원본에 미적용\n",
        "df5.dropna(inplace=True)#원본에 적용"
      ],
      "metadata": {
        "id": "QXVVP8v_cGc8"
      },
      "execution_count": null,
      "outputs": []
    },
    {
      "cell_type": "code",
      "source": [
        "#df5에서 date2를 기준으로 value2의 평균을 group by\n",
        "#df, df2를 merge할 때 , how=\"right\"로 해보시고 결과를 df6 "
      ],
      "metadata": {
        "id": "cp3SotcBA132"
      },
      "execution_count": null,
      "outputs": []
    },
    {
      "cell_type": "code",
      "source": [
        "df5.groupby(['date2'])[\"value\"].mean() #df5에서 date2기준, value컬럼의 평균"
      ],
      "metadata": {
        "colab": {
          "base_uri": "https://localhost:8080/"
        },
        "id": "IrsFPb8YPwQV",
        "outputId": "ddaca6a6-4264-4405-fb61-4cf306a70e9c"
      },
      "execution_count": null,
      "outputs": [
        {
          "output_type": "execute_result",
          "data": {
            "text/plain": [
              "date2\n",
              "20230301    10005.0\n",
              "20230302    10103.0\n",
              "20230305    10089.0\n",
              "20230309    10005.0\n",
              "20230310    10103.0\n",
              "20230314    10115.0\n",
              "Name: value2, dtype: float64"
            ]
          },
          "metadata": {},
          "execution_count": 33
        }
      ]
    },
    {
      "cell_type": "code",
      "source": [
        "pd.merge( df2, df, how=\"left\", on=\"date2\")"
      ],
      "metadata": {
        "colab": {
          "base_uri": "https://localhost:8080/",
          "height": 300
        },
        "id": "BfDdVZRNCpes",
        "outputId": "e2004bb5-73f5-4b84-89c0-0ca37d2f9d08"
      },
      "execution_count": null,
      "outputs": [
        {
          "output_type": "execute_result",
          "data": {
            "text/plain": [
              "       date_x  value  change  target     date2      date_y  value2\n",
              "0  2023-03-01   1000     1.5       1  20230301  2023.03.01   10005\n",
              "1  2023-03-02   1010     1.3       1  20230302  2023.03.02   10103\n",
              "2  2023-03-05   1008     0.9       0  20230305  2023.03.05   10089\n",
              "3  2023-03-05   1011     1.5       1  20230305  2023.03.05   10089\n",
              "4  2023-03-09   1000     1.5       1  20230309  2023.03.09   10005\n",
              "5  2023-03-10   1010     1.3       1  20230310  2023.03.10   10103\n",
              "6  2023-03-14   1008     0.9       0  20230314  2023.03.14   10115\n",
              "7  2023-03-14   1011     1.5       1  20230314  2023.03.14   10115"
            ],
            "text/html": [
              "\n",
              "  <div id=\"df-c56aeb6d-3005-4f94-af70-156a6739badd\">\n",
              "    <div class=\"colab-df-container\">\n",
              "      <div>\n",
              "<style scoped>\n",
              "    .dataframe tbody tr th:only-of-type {\n",
              "        vertical-align: middle;\n",
              "    }\n",
              "\n",
              "    .dataframe tbody tr th {\n",
              "        vertical-align: top;\n",
              "    }\n",
              "\n",
              "    .dataframe thead th {\n",
              "        text-align: right;\n",
              "    }\n",
              "</style>\n",
              "<table border=\"1\" class=\"dataframe\">\n",
              "  <thead>\n",
              "    <tr style=\"text-align: right;\">\n",
              "      <th></th>\n",
              "      <th>date_x</th>\n",
              "      <th>value</th>\n",
              "      <th>change</th>\n",
              "      <th>target</th>\n",
              "      <th>date2</th>\n",
              "      <th>date_y</th>\n",
              "      <th>value2</th>\n",
              "    </tr>\n",
              "  </thead>\n",
              "  <tbody>\n",
              "    <tr>\n",
              "      <th>0</th>\n",
              "      <td>2023-03-01</td>\n",
              "      <td>1000</td>\n",
              "      <td>1.5</td>\n",
              "      <td>1</td>\n",
              "      <td>20230301</td>\n",
              "      <td>2023.03.01</td>\n",
              "      <td>10005</td>\n",
              "    </tr>\n",
              "    <tr>\n",
              "      <th>1</th>\n",
              "      <td>2023-03-02</td>\n",
              "      <td>1010</td>\n",
              "      <td>1.3</td>\n",
              "      <td>1</td>\n",
              "      <td>20230302</td>\n",
              "      <td>2023.03.02</td>\n",
              "      <td>10103</td>\n",
              "    </tr>\n",
              "    <tr>\n",
              "      <th>2</th>\n",
              "      <td>2023-03-05</td>\n",
              "      <td>1008</td>\n",
              "      <td>0.9</td>\n",
              "      <td>0</td>\n",
              "      <td>20230305</td>\n",
              "      <td>2023.03.05</td>\n",
              "      <td>10089</td>\n",
              "    </tr>\n",
              "    <tr>\n",
              "      <th>3</th>\n",
              "      <td>2023-03-05</td>\n",
              "      <td>1011</td>\n",
              "      <td>1.5</td>\n",
              "      <td>1</td>\n",
              "      <td>20230305</td>\n",
              "      <td>2023.03.05</td>\n",
              "      <td>10089</td>\n",
              "    </tr>\n",
              "    <tr>\n",
              "      <th>4</th>\n",
              "      <td>2023-03-09</td>\n",
              "      <td>1000</td>\n",
              "      <td>1.5</td>\n",
              "      <td>1</td>\n",
              "      <td>20230309</td>\n",
              "      <td>2023.03.09</td>\n",
              "      <td>10005</td>\n",
              "    </tr>\n",
              "    <tr>\n",
              "      <th>5</th>\n",
              "      <td>2023-03-10</td>\n",
              "      <td>1010</td>\n",
              "      <td>1.3</td>\n",
              "      <td>1</td>\n",
              "      <td>20230310</td>\n",
              "      <td>2023.03.10</td>\n",
              "      <td>10103</td>\n",
              "    </tr>\n",
              "    <tr>\n",
              "      <th>6</th>\n",
              "      <td>2023-03-14</td>\n",
              "      <td>1008</td>\n",
              "      <td>0.9</td>\n",
              "      <td>0</td>\n",
              "      <td>20230314</td>\n",
              "      <td>2023.03.14</td>\n",
              "      <td>10115</td>\n",
              "    </tr>\n",
              "    <tr>\n",
              "      <th>7</th>\n",
              "      <td>2023-03-14</td>\n",
              "      <td>1011</td>\n",
              "      <td>1.5</td>\n",
              "      <td>1</td>\n",
              "      <td>20230314</td>\n",
              "      <td>2023.03.14</td>\n",
              "      <td>10115</td>\n",
              "    </tr>\n",
              "  </tbody>\n",
              "</table>\n",
              "</div>\n",
              "      <button class=\"colab-df-convert\" onclick=\"convertToInteractive('df-c56aeb6d-3005-4f94-af70-156a6739badd')\"\n",
              "              title=\"Convert this dataframe to an interactive table.\"\n",
              "              style=\"display:none;\">\n",
              "        \n",
              "  <svg xmlns=\"http://www.w3.org/2000/svg\" height=\"24px\"viewBox=\"0 0 24 24\"\n",
              "       width=\"24px\">\n",
              "    <path d=\"M0 0h24v24H0V0z\" fill=\"none\"/>\n",
              "    <path d=\"M18.56 5.44l.94 2.06.94-2.06 2.06-.94-2.06-.94-.94-2.06-.94 2.06-2.06.94zm-11 1L8.5 8.5l.94-2.06 2.06-.94-2.06-.94L8.5 2.5l-.94 2.06-2.06.94zm10 10l.94 2.06.94-2.06 2.06-.94-2.06-.94-.94-2.06-.94 2.06-2.06.94z\"/><path d=\"M17.41 7.96l-1.37-1.37c-.4-.4-.92-.59-1.43-.59-.52 0-1.04.2-1.43.59L10.3 9.45l-7.72 7.72c-.78.78-.78 2.05 0 2.83L4 21.41c.39.39.9.59 1.41.59.51 0 1.02-.2 1.41-.59l7.78-7.78 2.81-2.81c.8-.78.8-2.07 0-2.86zM5.41 20L4 18.59l7.72-7.72 1.47 1.35L5.41 20z\"/>\n",
              "  </svg>\n",
              "      </button>\n",
              "      \n",
              "  <style>\n",
              "    .colab-df-container {\n",
              "      display:flex;\n",
              "      flex-wrap:wrap;\n",
              "      gap: 12px;\n",
              "    }\n",
              "\n",
              "    .colab-df-convert {\n",
              "      background-color: #E8F0FE;\n",
              "      border: none;\n",
              "      border-radius: 50%;\n",
              "      cursor: pointer;\n",
              "      display: none;\n",
              "      fill: #1967D2;\n",
              "      height: 32px;\n",
              "      padding: 0 0 0 0;\n",
              "      width: 32px;\n",
              "    }\n",
              "\n",
              "    .colab-df-convert:hover {\n",
              "      background-color: #E2EBFA;\n",
              "      box-shadow: 0px 1px 2px rgba(60, 64, 67, 0.3), 0px 1px 3px 1px rgba(60, 64, 67, 0.15);\n",
              "      fill: #174EA6;\n",
              "    }\n",
              "\n",
              "    [theme=dark] .colab-df-convert {\n",
              "      background-color: #3B4455;\n",
              "      fill: #D2E3FC;\n",
              "    }\n",
              "\n",
              "    [theme=dark] .colab-df-convert:hover {\n",
              "      background-color: #434B5C;\n",
              "      box-shadow: 0px 1px 3px 1px rgba(0, 0, 0, 0.15);\n",
              "      filter: drop-shadow(0px 1px 2px rgba(0, 0, 0, 0.3));\n",
              "      fill: #FFFFFF;\n",
              "    }\n",
              "  </style>\n",
              "\n",
              "      <script>\n",
              "        const buttonEl =\n",
              "          document.querySelector('#df-c56aeb6d-3005-4f94-af70-156a6739badd button.colab-df-convert');\n",
              "        buttonEl.style.display =\n",
              "          google.colab.kernel.accessAllowed ? 'block' : 'none';\n",
              "\n",
              "        async function convertToInteractive(key) {\n",
              "          const element = document.querySelector('#df-c56aeb6d-3005-4f94-af70-156a6739badd');\n",
              "          const dataTable =\n",
              "            await google.colab.kernel.invokeFunction('convertToInteractive',\n",
              "                                                     [key], {});\n",
              "          if (!dataTable) return;\n",
              "\n",
              "          const docLinkHtml = 'Like what you see? Visit the ' +\n",
              "            '<a target=\"_blank\" href=https://colab.research.google.com/notebooks/data_table.ipynb>data table notebook</a>'\n",
              "            + ' to learn more about interactive tables.';\n",
              "          element.innerHTML = '';\n",
              "          dataTable['output_type'] = 'display_data';\n",
              "          await google.colab.output.renderOutput(dataTable, element);\n",
              "          const docLink = document.createElement('div');\n",
              "          docLink.innerHTML = docLinkHtml;\n",
              "          element.appendChild(docLink);\n",
              "        }\n",
              "      </script>\n",
              "    </div>\n",
              "  </div>\n",
              "  "
            ]
          },
          "metadata": {},
          "execution_count": 35
        }
      ]
    },
    {
      "cell_type": "code",
      "source": [
        "!pip install pykrx"
      ],
      "metadata": {
        "id": "VR5ExsG5FMqJ"
      },
      "execution_count": null,
      "outputs": []
    },
    {
      "cell_type": "code",
      "source": [
        "from pykrx import stock, bond\n",
        "\n",
        "df3 = stock.get_market_ohlcv(\"20220720\", \"20220810\", \"005930\")\n",
        "df3"
      ],
      "metadata": {
        "id": "BBLpOTuIFbnm"
      },
      "execution_count": null,
      "outputs": []
    },
    {
      "cell_type": "code",
      "source": [
        "# 다른 종목코드 찾기.\n",
        "# df4 = 0730 - 0820에 대한 주가정보\n",
        "# df5 = 0720 - 0810 수집\n",
        "df4 = stock.get_market_ohlcv(\"20220730\", \"20220820\", \"086520\")\n",
        "df5 = stock.get_market_ohlcv(\"20220720\", \"20220810\", \"086520\")\n",
        "# 1. df3과 df4 merge\n",
        "# 2. df3과 df5 concat\n",
        "# 3. 086520 \n",
        "result1 = pd.merge(df3, df4, how=\"left\", on=\"날짜\" )\n",
        "result2 = pd.concat([df3, df5], axis=1 )\n",
        "result2"
      ],
      "metadata": {
        "id": "EKKea5-FGB4D"
      },
      "execution_count": null,
      "outputs": []
    },
    {
      "cell_type": "markdown",
      "source": [
        "# Date, time 실습"
      ],
      "metadata": {
        "id": "NXdIIEYSOMQa"
      }
    },
    {
      "cell_type": "markdown",
      "source": [
        "- Dates, Time 변수 "
      ],
      "metadata": {
        "id": "thT2MSy5SG3b"
      }
    },
    {
      "cell_type": "code",
      "source": [
        "import pandas as pd\n",
        "\n",
        "#다양한 날짜 형식 모두 인식\n",
        "pd.date_range(start='1/1/2018', end='1/08/2018')\n",
        "pd.date_range(start='2018-01-01', end='1/08/2018')\n",
        "\n",
        "#periods == 개수\n",
        "pd.date_range('2019-03-05', periods=20, freq='D')\n",
        "pd.date_range('2019-03-05', periods=20, freq='3M')\n",
        "pd.date_range('2019-03-05', periods=20, freq='3M')\n",
        "pd.date_range('2019-03-05', periods=20, freq='T')#Time간격\n",
        "pd.date_range('2019-03-05', periods=20, freq='3H')"
      ],
      "metadata": {
        "id": "WQbttpZHXgT9",
        "colab": {
          "base_uri": "https://localhost:8080/"
        },
        "outputId": "d15cc10c-abaf-445f-e536-3634d629c2fa"
      },
      "execution_count": null,
      "outputs": [
        {
          "output_type": "execute_result",
          "data": {
            "text/plain": [
              "DatetimeIndex(['2019-03-05 00:00:00', '2019-03-05 03:00:00',\n",
              "               '2019-03-05 06:00:00', '2019-03-05 09:00:00',\n",
              "               '2019-03-05 12:00:00', '2019-03-05 15:00:00',\n",
              "               '2019-03-05 18:00:00', '2019-03-05 21:00:00',\n",
              "               '2019-03-06 00:00:00', '2019-03-06 03:00:00',\n",
              "               '2019-03-06 06:00:00', '2019-03-06 09:00:00',\n",
              "               '2019-03-06 12:00:00', '2019-03-06 15:00:00',\n",
              "               '2019-03-06 18:00:00', '2019-03-06 21:00:00',\n",
              "               '2019-03-07 00:00:00', '2019-03-07 03:00:00',\n",
              "               '2019-03-07 06:00:00', '2019-03-07 09:00:00'],\n",
              "              dtype='datetime64[ns]', freq='3H')"
            ]
          },
          "metadata": {},
          "execution_count": 290
        }
      ]
    },
    {
      "cell_type": "code",
      "source": [
        "rng_ = pd.date_range('2019-03-05', periods=20, freq='T')\n",
        "type(rng_)\n",
        "df = pd.DataFrame({'date': rng_})\n",
        "df.head()\n",
        "df.shape\n",
        "df.dtypes\n",
        "df[\"date\"].dt.date\n",
        "df[\"date\"].dt.time\n",
        "df"
      ],
      "metadata": {
        "id": "Msp31NhFw54n"
      },
      "execution_count": null,
      "outputs": []
    },
    {
      "cell_type": "code",
      "source": [
        "df['date'].dt.time\n",
        "df['date_part'] = df['date'].dt.date\n",
        "df['date_part'].head()\n",
        "\n",
        "df['time_part'] = df['date'].dt.time\n",
        "df['time_part'].head()\n",
        "df"
      ],
      "metadata": {
        "id": "TX_rIAhCQiys"
      },
      "execution_count": null,
      "outputs": []
    },
    {
      "cell_type": "code",
      "source": [
        "df = pd.DataFrame({'date_var':['Jan-2015', 'Apr-2013', 'Jun-2014','Jan-2015']})\n",
        "pd.to_datetime(df['date_var'])\n",
        "df['datetime_var'] = pd.to_datetime(df['date_var'])"
      ],
      "metadata": {
        "id": "GWLeydppYiyu"
      },
      "execution_count": null,
      "outputs": []
    },
    {
      "cell_type": "code",
      "source": [
        "df['date'] = df['datetime_var'].dt.date\n",
        "df['time'] = df['datetime_var'].dt.time\n",
        "df"
      ],
      "metadata": {
        "id": "TE139hXCfp3Z"
      },
      "execution_count": null,
      "outputs": []
    },
    {
      "cell_type": "code",
      "source": [
        "#달과 연도 표시\n",
        "import numpy as np\n",
        "import pandas as pd\n",
        "rng_ = pd.date_range('2019-03-05', periods=20, freq='M')\n",
        "df = pd.DataFrame({'date': rng_})\n",
        "df.head()\n",
        "df['year'] = df['date'].dt.year\n",
        "df.head()\n",
        "df['month'] = df['date'].dt.month\n",
        "df.head()\n",
        "df['day'] = df['date'].dt.day\n",
        "df.head()\n",
        "df['quarter'] = df['date'].dt.quarter\n",
        "df.head()"
      ],
      "metadata": {
        "id": "cROzRT5w0yYT"
      },
      "execution_count": null,
      "outputs": []
    },
    {
      "cell_type": "code",
      "source": [
        "#numpy의 where 조건 사용법\n",
        "#isin == []에 값에 포함되어 있으면\n",
        "np.where(df['quarter'].isin([1,2]), \"1학기\", \"2학기\") "
      ],
      "metadata": {
        "id": "q2KIAk6W1Vkw"
      },
      "execution_count": null,
      "outputs": []
    },
    {
      "cell_type": "code",
      "source": [
        "df['semester'] = np.where(df['quarter'].isin([1,2]), 1, 2)  #np의 if 기능능\n",
        "df.head()"
      ],
      "metadata": {
        "id": "j4JY5elJhA8G"
      },
      "execution_count": null,
      "outputs": []
    },
    {
      "cell_type": "code",
      "source": [
        "#day week표현\n",
        "import numpy as np\n",
        "import pandas as pd\n",
        "rng_ = pd.date_range('2019-03-05', periods=20, freq='D')\n",
        "df = pd.DataFrame({'date': rng_})\n",
        "df.head()\n",
        "df['day_mo'] = df['date'].dt.day\n",
        "df.head()\n",
        "\n",
        "#월요일 0부터 시작.\n",
        "df['day_week'] = df['date'].dt.dayofweek\n",
        "df\n",
        "df['day_week'].unique()"
      ],
      "metadata": {
        "colab": {
          "base_uri": "https://localhost:8080/"
        },
        "id": "QQRaWVkah0JJ",
        "outputId": "332c4982-5a00-4da5-a910-8024bdb47da7"
      },
      "execution_count": null,
      "outputs": [
        {
          "output_type": "execute_result",
          "data": {
            "text/plain": [
              "array([1, 2, 3, 4, 5, 6, 0])"
            ]
          },
          "metadata": {},
          "execution_count": 310
        }
      ]
    },
    {
      "cell_type": "code",
      "source": [
        "df['week'] = df['date'].dt.week\n",
        "df.head()"
      ],
      "metadata": {
        "id": "Jqa27SwV2sUI"
      },
      "execution_count": null,
      "outputs": []
    },
    {
      "cell_type": "code",
      "source": [
        "#datetime에서 time 추출\n",
        "import numpy as np\n",
        "import pandas as pd\n",
        "\n",
        "rng_ = pd.date_range('2019-03-05', periods=20, freq='1h15min10s')\n",
        "df = pd.DataFrame({'date': rng_})\n",
        "df.head()\n",
        "df['hour'] = df['date'].dt.hour\n",
        "df['min'] = df['date'].dt.minute\n",
        "df['sec'] = df['date'].dt.second\n",
        "df.head()\n",
        "df.info()"
      ],
      "metadata": {
        "id": "G4EsB63LiP8u"
      },
      "execution_count": null,
      "outputs": []
    },
    {
      "cell_type": "code",
      "source": [
        "df[['h','m','s']] = pd.DataFrame(\n",
        "    [   (x.hour, x.minute, x.second)    for x in df['date']]#한개씩..\n",
        ")\n",
        "df.head()\n",
        "#to_datetime()를 사용하면 object에서 datetime으로 변환\n",
        "df['is_morning'] = np.where( (df['hour'] < 12) & (df['hour'] > 6), \n",
        "                            1, 0 )\n",
        "df.head()\n"
      ],
      "metadata": {
        "id": "9gpg0Vsq4HmF"
      },
      "execution_count": null,
      "outputs": []
    },
    {
      "cell_type": "code",
      "source": [
        "#datetime 변수간 측정된 기간 표현\n",
        "import datetime\n",
        "import numpy as np\n",
        "import pandas as pd\n",
        "\n",
        "rng_hr = pd.date_range('2019-03-05', periods=20, freq='H')\n",
        "rng_month = pd.date_range('2019-03-05', periods=20, freq='M')\n",
        "df = pd.DataFrame({'date1': rng_hr, 'date2': rng_month})\n",
        "df.head()\n",
        "df['elapsed_days'] = (df['date2'] - df['date1']).dt.days\n",
        "df.head(2)"
      ],
      "metadata": {
        "id": "_vkpe1Wj5TYU"
      },
      "execution_count": null,
      "outputs": []
    },
    {
      "cell_type": "code",
      "source": [
        "df['months_passed'] = ((df['date2'] - df['date1']) / np.timedelta64(1, 'M')) #시간 간격, 월\n",
        "df['months_passed'] = np.round(df['months_passed'],0) #반올림\n",
        "df.head()\n",
        "\n",
        "df['diff_seconds'] = (df['date2'] - df['date1'])/np.timedelta64(1,'s')  #시간 간격, 초\n",
        "df['diff_minutes'] = (df['date2'] - df['date1'])/np.timedelta64(1,'m')  #시간 간격, 분\n",
        "df.head()"
      ],
      "metadata": {
        "id": "UPScEko43u-L"
      },
      "execution_count": null,
      "outputs": []
    },
    {
      "cell_type": "code",
      "source": [
        "df['to_today'] = (datetime.datetime.today() - df['date1'])  #오늘까지의 시간\n",
        "df.head()"
      ],
      "metadata": {
        "id": "mmv1_EZc56Bu"
      },
      "execution_count": null,
      "outputs": []
    }
  ]
}