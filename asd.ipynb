{
  "nbformat": 4,
  "nbformat_minor": 0,
  "metadata": {
    "colab": {
      "provenance": []
    },
    "kernelspec": {
      "name": "python3",
      "display_name": "Python 3"
    },
    "language_info": {
      "name": "python"
    }
  },
  "cells": [
    {
      "cell_type": "code",
      "source": [
        "!pip install xmltodict"
      ],
      "metadata": {
        "colab": {
          "base_uri": "https://localhost:8080/"
        },
        "id": "q1muMGPVX8DA",
        "outputId": "ea13191d-7e64-417b-ca6a-9e110d5dfc25"
      },
      "execution_count": null,
      "outputs": [
        {
          "output_type": "stream",
          "name": "stdout",
          "text": [
            "Requirement already satisfied: xmltodict in /usr/local/lib/python3.10/dist-packages (0.13.0)\n"
          ]
        }
      ]
    },
    {
      "cell_type": "code",
      "source": [
        "serviceKey = '9BxqpqctLXTb6q/N8njFkGWl7fjYc5lSu4Xk+ph3ZFNGMqiRN4MnR6PgPTWcrBB34OZQg1WEuYBp8yxKQcLhZQ=='"
      ],
      "metadata": {
        "id": "IEqQ7OC5Xo2Y"
      },
      "execution_count": null,
      "outputs": []
    },
    {
      "cell_type": "code",
      "source": [
        "total = []"
      ],
      "metadata": {
        "id": "RZOPW9j0NGkP"
      },
      "execution_count": null,
      "outputs": []
    },
    {
      "cell_type": "code",
      "execution_count": null,
      "metadata": {
        "id": "T8Bo8Q5DQuxo"
      },
      "outputs": [],
      "source": [
        "#디테일 정보 가져오는거\n",
        "import requests\n",
        "import chardet\n",
        "import xmltodict\n",
        "import json\n",
        "\n",
        "url = 'http://apis.data.go.kr/1613000/AptBasisInfoService1/getAphusDtlInfo'\n",
        "cnt = 0;\n",
        "for aptCode in arr:\n",
        "  params ={'serviceKey' : '9BxqpqctLXTb6q/N8njFkGWl7fjYc5lSu4Xk+ph3ZFNGMqiRN4MnR6PgPTWcrBB34OZQg1WEuYBp8yxKQcLhZQ==', 'kaptCode' : aptCode }\n",
        "  response = requests.get(url, params=params)\n",
        "  xmlData = response.content.decode('utf-8')\n",
        "  parseData = xmltodict.parse(xmlData)\n",
        "  jData = json.loads(json.dumps(parseData))\n",
        "  total.append(jData['response']['body']['item'])\n",
        "  cnt +=1;\n",
        "  print(cnt)"
      ]
    },
    {
      "cell_type": "code",
      "source": [
        "total\n"
      ],
      "metadata": {
        "id": "AIqtTBe5SCzU"
      },
      "execution_count": null,
      "outputs": []
    },
    {
      "cell_type": "code",
      "source": [
        "import requests\n",
        "import time\n",
        "import xmltodict\n",
        "import json\n",
        "\n",
        "sido = 11\n",
        "url = 'http://apis.data.go.kr/1613000/AptListService2/getSidoAptList'\n",
        "\n",
        "param ={'serviceKey' : '9BxqpqctLXTb6q%2FN8njFkGWl7fjYc5lSu4Xk%2Bph3ZFNGMqiRN4MnR6PgPTWcrBB34OZQg1WEuYBp8yxKQcLhZQ%3D%3D', 'sidoCode' : sido, 'pageNo' : 1, 'numOfRows' : '1' }\n",
        "r = requests.get(url, params=param)\n",
        "time.sleep(5)\n",
        "\n",
        "xmlData = r.content.decode('utf-8')\n",
        "parseData = xmltodict.parse(xmlData)\n",
        "jData = json.loads(json.dumps(parseData))\n",
        "print(jData)\n",
        "rows = jData['response']['body']['totalCount']\n",
        "print(f'단지 코드수 : {int(rows):,} 개')\n",
        "\n",
        "pages = int(int(rows)/100) + 1\n",
        "print(f'pages: {pages}')\n",
        "\n",
        "row_cnt = 1\n",
        "for i in range(1, pages + 1):\n",
        "    params ={'serviceKey' : '9BxqpqctLXTb6q%2FN8njFkGWl7fjYc5lSu4Xk%2Bph3ZFNGMqiRN4MnR6PgPTWcrBB34OZQg1WEuYBp8yxKQcLhZQ%3D%3D', 'sidoCode' : sido, 'pageNo' : i, 'numOfRows' : '100' }\n",
        "\n",
        "    response = requests.get(url, params=params)\n",
        "    time.sleep(5)\n",
        "    # print(response.content)  # ascii\n",
        "\n",
        "    xml_data = response.content.decode('utf-8')\n",
        "    # print(xml_data)\n",
        "\n",
        "    parse_data = xmltodict.parse(xml_data)\n",
        "    print(parse_data)\n",
        "\n",
        "    ord_data = parse_data['response']['body']['items']['item']\n",
        "    print(ord_data)\n",
        "    print(f'page: {i} End\\n{\"=\" * 50}')\n",
        "\n",
        "    try:\n",
        "        ## json() 활용하여 데이터 변환\n",
        "        jdata = json.loads(json.dumps(ord_data))\n",
        "\n",
        "        for code_data in jdata:\n",
        "            print(f'{code_data}')\n",
        "            row_cnt += 1\n",
        "\n",
        "    except Exception as e:\n",
        "        print(f'Error: {e}\\n')\n",
        "        break"
      ],
      "metadata": {
        "id": "FcpUrtg1XlPu"
      },
      "execution_count": null,
      "outputs": []
    },
    {
      "cell_type": "code",
      "source": [
        "total = []"
      ],
      "metadata": {
        "id": "nayMLCzSoemW"
      },
      "execution_count": null,
      "outputs": []
    },
    {
      "cell_type": "code",
      "source": [
        "#아파트 코드 가져오는거\n",
        "import requests\n",
        "import time\n",
        "import xmltodict\n",
        "import json\n",
        "sido = 11\n",
        "url = 'http://apis.data.go.kr/1613000/AptListService2/getSidoAptList'\n",
        "\n",
        "params ={'serviceKey' : '9BxqpqctLXTb6q%2FN8njFkGWl7fjYc5lSu4Xk%2Bph3ZFNGMqiRN4MnR6PgPTWcrBB34OZQg1WEuYBp8yxKQcLhZQ%3D%3D', 'sidoCode' : sido, 'pageNo' : 30, 'numOfRows' : '100' }\n",
        "\n",
        "response = requests.get(url, params=params)\n",
        "xml_data = response.content.decode('utf-8')\n",
        "parse_data = xmltodict.parse(xml_data)\n",
        "\n",
        "ord_data = parse_data['response']['body']['items']['item']\n",
        "try:\n",
        "    jdata = json.loads(json.dumps(ord_data))\n",
        "    for i in range(0, len(jdata)):\n",
        "        total.append(jdata[i])\n",
        "\n",
        "except Exception as e:\n",
        "    print(f'Error: {e}\\n')"
      ],
      "metadata": {
        "id": "ze9iQm8RhTAb"
      },
      "execution_count": null,
      "outputs": []
    },
    {
      "cell_type": "code",
      "source": [
        "total[2974]"
      ],
      "metadata": {
        "colab": {
          "base_uri": "https://localhost:8080/"
        },
        "id": "t_UZH8G1hw4J",
        "outputId": "4e891847-d108-46cf-d939-c89bd6659558"
      },
      "execution_count": null,
      "outputs": [
        {
          "output_type": "execute_result",
          "data": {
            "text/plain": [
              "{'as1': '서울특별시',\n",
              " 'as2': '강동구',\n",
              " 'as3': '강일동',\n",
              " 'bjdCode': '1174011000',\n",
              " 'kaptCode': 'A10024421',\n",
              " 'kaptName': '강동 리버스트 7단지 아파트'}"
            ]
          },
          "metadata": {},
          "execution_count": 144
        }
      ]
    },
    {
      "cell_type": "code",
      "source": [
        "import pandas as pd\n",
        "df = pd.DataFrame(total)\n",
        "df.head()\n",
        "df.to_csv(\"houseInfo.csv\", index = False)"
      ],
      "metadata": {
        "id": "8QIqrZkvinSx"
      },
      "execution_count": null,
      "outputs": []
    },
    {
      "cell_type": "code",
      "source": [
        "arr = ['A15003001'\n",
        ",'A15003002'\n",
        ",'A10026311'\n",
        ",'A10024490'\n",
        ",'A10025518'\n",
        ",'A15003701'\n",
        ",'A10026816'\n",
        ",'A10026801'\n",
        ",'A10024567'\n",
        ",'A15003801'\n",
        ",'A15003802'\n",
        ",'A15089513'\n",
        ",'A15089307'\n",
        ",'A15076302'\n",
        ",'A15089421'\n",
        ",'A15001020'\n",
        ",'A15088717'\n",
        ",'A15001004'\n",
        ",'A15001016'\n",
        ",'A15001009'\n",
        ",'A15089510'\n",
        ",'A15089411'\n",
        ",'A15088614'\n",
        ",'A15001005'\n",
        ",'A15001003'\n",
        ",'A15088208'\n",
        ",'A15088918'\n",
        ",'A15076301'\n",
        ",'A15001012'\n",
        ",'A15001019'\n",
        ",'A15001001'\n",
        ",'A15088915'\n",
        ",'A15088802'\n",
        ",'A10024981'\n",
        ",'A15080002'\n",
        ",'A15004101'\n",
        ",'A15075001'\n",
        ",'A15004201'\n",
        ",'A15004202'\n",
        ",'A10023489'\n",
        ",'A15080402'\n",
        ",'A15072001'\n",
        ",'A15080204'\n",
        ",'A15080205'\n",
        ",'A15072002'\n",
        ",'A10024834'\n",
        ",'A15004406'\n",
        ",'A15080507'\n",
        ",'A15004403'\n",
        ",'A15004405'\n",
        ",'A15080501'\n",
        ",'A15072201'\n",
        ",'A10027684'\n",
        ",'A10026797'\n",
        ",'A15004507'\n",
        ",'A15004503'\n",
        ",'A15004502'\n",
        ",'A15004506'\n",
        ",'A15004505'\n",
        ",'A15004501'\n",
        ",'A10024789'\n",
        ",'A15081001'\n",
        ",'A15081002'\n",
        ",'A15083202'\n",
        ",'A15083201'\n",
        ",'A15076702'\n",
        ",'A15076701'\n",
        ",'A15009201'\n",
        ",'A15083602'\n",
        ",'A15083404'\n",
        ",'A15083603'\n",
        ",'A15076801'\n",
        ",'A10027023'\n",
        ",'A15083601'\n",
        ",'A10024832'\n",
        ",'A15009402'\n",
        ",'A15009401'\n",
        ",'A15009505'\n",
        ",'A15009503'\n",
        ",'A15009501'\n",
        ",'A15009504'\n",
        ",'A15009502'\n",
        ",'A10026197'\n",
        ",'A15009607'\n",
        ",'A15009606'\n",
        ",'A15009602'\n",
        ",'A15009605'\n",
        ",'A15009604'\n",
        ",'A15009603'\n",
        ",'A15009601'\n",
        ",'A10027512'\n",
        ",'A10024925'\n",
        ",'A10024495'\n",
        ",'A15086202'\n",
        ",'A15086201'\n",
        ",'A10024316'\n",
        ",'A15010203'\n",
        ",'A15010202'\n",
        ",'A15010201'\n",
        ",'A10025034'\n",
        ",'A15010303'\n",
        ",'A15010305'\n",
        ",'A15010302'\n",
        ",'A15010307'\n",
        ",'A15010304'\n",
        ",'A15010306'\n",
        ",'A15010301'\n",
        ",'A10026457'\n",
        ",'A15086601'\n",
        ",'A15086702'\n",
        ",'A15086603'\n",
        ",'A15010501'\n",
        ",'A15010502'\n",
        ",'A15010602'\n",
        ",'A15010601'\n",
        ",'A15005401'\n",
        ",'A15005301'\n",
        ",'A15005402'\n",
        ",'A15005001'\n",
        ",'A15085404'\n",
        ",'A15005002'\n",
        ",'A15086007'\n",
        ",'A15005102'\n",
        ",'A15083703'\n",
        ",'A15005302'\n",
        ",'A15086001'\n",
        ",'A15096001'\n",
        ",'A15085805'\n",
        ",'A15005705'\n",
        ",'A15083701'\n",
        ",'A15005602'\n",
        ",'A15005501'\n",
        ",'A15005303'\n",
        ",'A15086006'\n",
        ",'A15005603'\n",
        ",'A15086004'\n",
        ",'A10027755'\n",
        ",'A10027073'\n",
        ",'A10026182'\n",
        ",'A10025024'\n",
        ",'A10025562'\n",
        ",'A10025070'\n",
        ",'A10024470'\n",
        ",'A10024615'\n",
        ",'A10023715'\n",
        ",'A15081503'\n",
        ",'A15081107'\n",
        ",'A15007201'\n",
        ",'A15081201'\n",
        ",'A15007002'\n",
        ",'A15081802'\n",
        ",'A15081602'\n",
        ",'A15007101'\n",
        ",'A15081604'\n",
        ",'A15081105'\n",
        ",'A15095002'\n",
        ",'A15081606'\n",
        ",'A15095001'\n",
        ",'A10027935'\n",
        ",'A10027381'\n",
        ",'A10025122'\n",
        ",'A10026761'\n",
        ",'A10024725'\n",
        ",'A10024829'\n",
        ",'A10023516']"
      ],
      "metadata": {
        "id": "avm3I7CKOscx"
      },
      "execution_count": null,
      "outputs": []
    }
  ]
}