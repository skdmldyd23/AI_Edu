{
  "nbformat": 4,
  "nbformat_minor": 0,
  "metadata": {
    "colab": {
      "provenance": []
    },
    "kernelspec": {
      "name": "python3",
      "display_name": "Python 3"
    },
    "language_info": {
      "name": "python"
    }
  },
  "cells": [
    {
      "cell_type": "markdown",
      "source": [
        "개인적으로 무의미하다 판단했던 데이터에 대해서 따로 사용을 하신 방향이 있는지?  \n",
        "Y 결측치에 대해서 어떻게 처리를 했는지?  \n",
        "현재 Y결측치 dropna로 날리고 해서 날라가는 데이터들이 너무 아까움.  \n",
        "(selftrainingclassifier 셀프트레이닝이 있더라)  \n",
        "https://machinelearningmastery.com/semi-supervised-learning-with-label-propagation/\n",
        "https://scikit-learn.org/stable/modules/semi_supervised.html"
      ],
      "metadata": {
        "id": "_G2X64Cvb-FP"
      }
    },
    {
      "cell_type": "code",
      "source": [
        "!pip install lightgbm"
      ],
      "metadata": {
        "id": "UfpL9P3W6puZ"
      },
      "execution_count": null,
      "outputs": []
    },
    {
      "cell_type": "code",
      "source": [
        "import pandas as pd\n",
        "import numpy as np\n",
        "train = pd.read_csv('train.csv')\n",
        "test = pd.read_csv('test.csv')\n",
        "\n",
        "train.info()"
      ],
      "metadata": {
        "id": "6-_sBRuAWdIN"
      },
      "execution_count": null,
      "outputs": []
    },
    {
      "cell_type": "code",
      "execution_count": null,
      "metadata": {
        "id": "IADq6LA1zEZr"
      },
      "outputs": [],
      "source": [
        "import pandas as pd\n",
        "import numpy as np\n",
        "train = pd.read_csv('train.csv')\n",
        "test = pd.read_csv('test.csv')\n",
        "\n",
        "# 값이 무의미 \"Cancelled\", \"Diverted\"\n",
        "#  _ID로 대체가능 \"Origin_Airport\", \"Destination_Airport\" \"Origin_State\", \"Destination_State\", \"Airline\"\n",
        "# IATA 공항 코드, 단 다른 항공사가 같은 코드를 보유할 수도 있음 So, 제거 Carrier_Code(IATA)\n",
        "train = train.drop([\"ID\",\"Cancelled\", \"Diverted\", \"Origin_Airport\", \"Destination_Airport\", \"Origin_State\", \"Destination_State\", \"Airline\", \"Carrier_Code(IATA)\"], axis=1)\n",
        "test = test.drop([\"ID\",\"Cancelled\", \"Diverted\", \"Origin_Airport\", \"Destination_Airport\", \"Origin_State\", \"Destination_State\", \"Airline\", \"Carrier_Code(IATA)\"], axis=1)\n",
        "\n",
        "# Month 출발일, Day_of_Month 출발날짜 \n",
        "# Origin_Airport_ID 출발 항공사 ID, Destination_Airport 도착 항공사 ID\n",
        "# Distance  mile 거리, Tail_Number 항공기의 고유 등록번호, Delay\n",
        "# Estimated_Departure_Time 출발시간, Estimated_Arrival_Time 도착시간 // 결측치 존재\n",
        "# Carrier_ID(DOT) 항공사 고유 ID 결측치 존재\n",
        "# Delay 결측치 존재\n",
        "\n",
        "#출발도착 둘 다 널, 고유ID 최빈값으로 넣음\n",
        "train['Carrier_ID(DOT)'] = train['Carrier_ID(DOT)'].fillna(train['Carrier_ID(DOT)'].mode()[0])\n",
        "train.loc[ train['Estimated_Departure_Time'].isnull()&train['Estimated_Arrival_Time'].isnull(), ['Estimated_Departure_Time']] = train['Estimated_Departure_Time'].mode()[0]\n",
        "\n",
        "test['Carrier_ID(DOT)'] = test['Carrier_ID(DOT)'].fillna(test['Carrier_ID(DOT)'].mode()[0])\n",
        "test.loc[ test['Estimated_Departure_Time'].isnull()&test['Estimated_Arrival_Time'].isnull(), ['Estimated_Departure_Time']] = test['Estimated_Departure_Time'].mode()[0]\n",
        "\n",
        "def to_minutes(row):\n",
        "  try:\n",
        "    row = int(row)\n",
        "    row = str(row)\n",
        "    if len(row) > 2:\n",
        "      return int(row[:-2])*60 + int(row[-2:])\n",
        "    else:\n",
        "      return int(row[-2:])\n",
        "  except:\n",
        "    return np.nan\n",
        "\n",
        "train['Estimated_Departure_Time'] = train['Estimated_Departure_Time'].apply(to_minutes)\n",
        "train['Estimated_Arrival_Time'] = train['Estimated_Arrival_Time'].apply(to_minutes)\n",
        "\n",
        "test['Estimated_Departure_Time'] = test['Estimated_Departure_Time'].apply(to_minutes)\n",
        "test['Estimated_Arrival_Time'] = test['Estimated_Arrival_Time'].apply(to_minutes)\n",
        "\n",
        "# apply가 왜 안돼\n",
        "# 7.767\n",
        "# 출발 도착으로 운행시간을 만들자.\n",
        "# 거리합/(도착합-출발합) = 평균 분당 거리로 가정 7.767\n",
        "# 출발 is null then 도착 - 거리/시간\n",
        "# 도착 is null then 출발 + 거리/시간\n",
        "for i, r in train.iterrows():\n",
        "  if(pd.isnull(train['Estimated_Departure_Time'][i])):\n",
        "    train['Estimated_Departure_Time'][i] = train['Estimated_Arrival_Time'][i] - (train['Distance'][i]/7.767)\n",
        "  elif(pd.isnull(train['Estimated_Arrival_Time'][i])):\n",
        "    train['Estimated_Arrival_Time'][i] = int(train['Estimated_Departure_Time'][i] + train['Distance'][i]/7.767)\n",
        "\n",
        "for i, r in test.iterrows():\n",
        "  if(pd.isnull(test['Estimated_Departure_Time'][i])):\n",
        "    test['Estimated_Departure_Time'][i] = test['Estimated_Arrival_Time'][i] - (test['Distance'][i]/7.767)\n",
        "  elif(pd.isnull(train['Estimated_Arrival_Time'][i])):\n",
        "    test['Estimated_Arrival_Time'][i] = int(test['Estimated_Departure_Time'][i] + test['Distance'][i]/7.767)\n",
        "\n",
        "# ------ 결측치 제거 완료\n",
        "train['Delay'].map(lambda x : 0 if x==\"Not_Delayed\" else 1)\n",
        "train = train.dropna(subset=['Delay'], how='any')\n",
        "\n",
        "# OrdinalEncoder로 시도했으나 에러 해결 못함.\n",
        "#categorical[Tail_Number\"\"]\n",
        "#from sklearn.preprocessing import OrdinalEncoder\n",
        "#oe = OrdinalEncoder(handle_unknown='use_encoded_value', unknown_value=np.nan).fit(train[categorical])\n",
        "#train_enc = pd.DataFrame( oe.transform(train[categorical]), index=train.index)\n",
        "#test_enc = pd.DataFrame( oe.transform(test[categorical]), index=test.index )\n",
        "\n",
        "from sklearn.preprocessing import LabelEncoder\n",
        "le = LabelEncoder()\n",
        "le.fit(train['Tail_Number'].astype(str))\n",
        "train['Tail_Number'] = le.transform(train['Tail_Number'].astype(str))\n",
        "\n",
        "prev_class = list(le.classes_)\n",
        "\n",
        "for label in np.unique(test['Tail_Number'].astype(str)):\n",
        "  if label not in prev_class:\n",
        "    prev_class.append(label)\n",
        "\n",
        "le.classes_ = np.array(prev_class)\n",
        "test['Tail_Number'] = le.transform(test['Tail_Number'].astype(str))\n",
        "\n",
        "train = train.dropna(subset=['Delay'], how='any')\n",
        "train = train.reset_index(drop=True)\n",
        "train['Delay'] = train['Delay'].map(lambda x : 0 if x==\"Not_Delayed\" else 1)\n",
        "\n",
        "y_train = train.Delay\n",
        "x_train = train.drop(['Delay'], axis=1);"
      ]
    },
    {
      "cell_type": "code",
      "source": [
        "#공유하고싶은 내용\n",
        "\n",
        "import pandas as pd\n",
        "import numpy as np\n",
        "from sklearn.datasets import load_iris\n",
        "from sklearn.preprocessing import OneHotEncoder, LabelEncoder\n",
        "from sklearn import feature_selection\n",
        "from sklearn import model_selection\n",
        "from sklearn import metrics\n",
        "\n",
        "X = x_train\n",
        "y = y_train\n",
        "\n",
        "#다양한 분류모형 비교\n",
        "from sklearn import svm, tree, linear_model, neighbors, naive_bayes, ensemble, discriminant_analysis, gaussian_process\n",
        "from xgboost import XGBClassifier\n",
        "from lightgbm import LGBMClassifier\n",
        "from sklearn.neighbors import KNeighborsClassifier\n",
        "\n",
        "MLA = [\n",
        "    #Tree, Ensemble Methods\n",
        "    tree.DecisionTreeClassifier(),\n",
        "    XGBClassifier(),\n",
        "    LGBMClassifier(),\n",
        "    ensemble.AdaBoostClassifier(),\n",
        "    ensemble.GradientBoostingClassifier(),\n",
        "    ensemble.RandomForestClassifier(),\n",
        "    \n",
        "    #GLM\n",
        "    linear_model.LogisticRegressionCV(),\n",
        "    \n",
        "    #Nearest Neighbor\n",
        "    KNeighborsClassifier()]"
      ],
      "metadata": {
        "id": "IkKwEYpJlsZq"
      },
      "execution_count": null,
      "outputs": []
    },
    {
      "cell_type": "code",
      "source": [
        "#http://scikit-learn.org/stable/modules/generated/sklearn.model_selection.ShuffleSplit.html#sklearn.model_selection.ShuffleSplit\n",
        "\n",
        "#train_test_split보다 편하게 여러개 생성 가능 (10개를 만들거임 60:30으로 10은 뺴두기)\n",
        "cv_split = model_selection.ShuffleSplit(n_splits = 10, test_size = .3, train_size = .6, random_state = 0 ) # run model 10x with 60/30 split intentionally leaving out 10%\n",
        "\n",
        "#MLA 비교\n",
        "MLA_columns = ['MLA Name', 'MLA Parameters','MLA Train Accuracy Mean', 'MLA Test Accuracy Mean', 'MLA Test Accuracy 3*STD' ,'MLA Time']\n",
        "MLA_compare = pd.DataFrame(columns = MLA_columns)\n",
        "\n",
        "#create table to compare MLA predictions\n",
        "MLA_predict = pd.DataFrame(y)\n",
        "\n",
        "#index through MLA and save performance to table\n",
        "row_index = 0\n",
        "for alg in MLA:\n",
        "\n",
        "    #set name and parameters\n",
        "    MLA_name = alg.__class__.__name__\n",
        "    MLA_compare.loc[row_index, 'MLA Name'] = MLA_name\n",
        "    MLA_compare.loc[row_index, 'MLA Parameters'] = str(alg.get_params())\n",
        "    \n",
        "    #CV score: http://scikit-learn.org/stable/modules/generated/sklearn.model_selection.cross_validate.html#sklearn.model_selection.cross_validate\n",
        "    cv_results = model_selection.cross_validate(alg, X, y, cv  = cv_split,return_train_score=True)\n",
        "\n",
        "    MLA_compare.loc[row_index, 'MLA Time'] = cv_results['fit_time'].mean()\n",
        "    MLA_compare.loc[row_index, 'MLA Train Accuracy Mean'] = cv_results['train_score'].mean()\n",
        "    MLA_compare.loc[row_index, 'MLA Test Accuracy Mean'] = cv_results['test_score'].mean()   \n",
        "    #if this is a non-bias random sample, then +/-3 standard deviations (std) from the mean, should statistically capture 99.7% of the subsets\n",
        "    MLA_compare.loc[row_index, 'MLA Test Accuracy 3*STD'] = cv_results['test_score'].std()*3   #let's know the worst that can happen!\n",
        "    \n",
        "    #save MLA predictions\n",
        "    alg.fit(X, y)\n",
        "    MLA_predict[MLA_name] = alg.predict(X)\n",
        "    row_index+=1\n",
        " \n",
        "\n",
        "MLA_compare.sort_values(by = ['MLA Test Accuracy Mean'], ascending = False, inplace = True)\n",
        "MLA_compare\n",
        "\n",
        "#결과가 LGBMClassifier이 좋다고 나왔다."
      ],
      "metadata": {
        "id": "m0WU0Imwl4zQ"
      },
      "execution_count": null,
      "outputs": []
    },
    {
      "cell_type": "markdown",
      "source": [
        "![캡처.PNG](data:image/png;base64,iVBORw0KGgoAAAANSUhEUgAABUAAAAFNCAYAAADB18X2AAAAAXNSR0IArs4c6QAAAARnQU1BAACxjwv8YQUAAAAJcEhZcwAAEnQAABJ0Ad5mH3gAAJL+SURBVHhe7b1LriU3kmj7RnVvTSAncGdwRyBkT6hW4Q0g1FF2svoSkEKheu9AgiaQKVUzxnOe8+dOM5qRdN/u+xersaCz+TEa7UdunlDE//Nv//ZvnwAAAAAAAAAAAADvCA+gAAAAAAAAAAAA8LbwAAoAAAAAAAAAAABvCw+gAAAAAAAAAAAA8LbwAAoAAAAAAAAAAABvCw+gAAAAAAAAAAAA8LbwAAoAAAAAAAAAAABvCw+gAAAAAAAAAAAA8LbwAAoAAAAAAAAAAABvCw+gAAAAAAAAAAAA8LbwAAoAAAAAAAAAAABvCw+gAAAAAAAAAAAA8LbwAAoAAAAAAAAAAABvCw+g8EC+fH58/fr59evH5xe33RvjsXd8zYw+dTsAvAczub+3DtxSN8pczbvUoFts80x4+6jb9+71FtuUuR5X2fsWnfdyz7XeCc9ur2rPmf3s3dsttihzPa6w7y36as6U9S3h2e1V7Tmzn717u8UWZa7HFfa9RV/NmbK+NSzfnxlDRdZMjI1knIEXK3W7N8Zj7/gab8+Fnp51+3PCAyg8EC9Z6va9CXVLApa5ev4tMgHg+fFyvG7fWwduqRvW3FvkPRvvshdvH3X73r2eZZt72vhd13onPLu9qj1n9rN3b2fZ4l42PXOde+n8bnh2e1V7zuxn797OssW9bHrmOvfS+d2w7HbElt6cM9qP6NNjZu29a56l44ycs9a6DzyAwgMpyVInjG7bm1C3JKClT91+RCYAPD9W7uu2vXXglrrhzb1F5jPxbvuo96Lb9u71LNu8i40177qvq9Fx6bW9CjP72Rsre8d7nCVnxJnr3Evnd6PYrbad1fYqzOxnb6zsHe9xlpwRZ65zL53fDctuR2zpzTmj/Yg+PYq8WqZu27vmWTqevdfHwwMoPJCzkz2N/fjhaKLmef/84/MPMf+oPAB4DUqOW3lf2vbUgTT25lrUzDsq79l4t33Ue9Fte/aaxh6Pm5ozZDwbZ9rnW6PYrLab1fYqzOxnT5yksa+Ve2etc+bevzWKzWq7WW2vwsx+9sRJGkte3UPvd8ezY27/+FK1qb5p2w/WmG4/QpFVy9Nte9ZLY18r9+4HD6DwQHJC5QfHkqQyWfcknTXfGueR5w0fQMvnmnot2b/po8dZsvbqDAC3k/Pw2WqRWy9Ke/lcY8+RdUiPG8mR/cdrmrVOYY+crf+2fd1Klv80cVPTk6HXKdRjdZ/ur/HWmllnD1qev7e+3r0xlmy/7Rwb9sZZa/faPfL4bqyqsSve2t4YLdsacytZ9svlXt1f0ON0vx5j9ReO6J3k9fc+0mk0xpLtt/Vjp7dOTW+ctXav3SOPJ68crPnWuBlGMkp/QY/T/XqM1V84oneS19/7SKfRGEu239aPnd46Nb1x1tq99j1oGenzuqePjxPW9sbubT9ClvWSuRfwxpT2hIzB/tjbdO7DAyg8kBzoT5Psed4/f/78Tqzr/azmrW2zc0efAeA+5Nx7tlok5um2mTF1m27X/bNreT+P5hXZvXav3xpf2jw5vTneunvJ8l7uwlr6Rv1134w83Wet05MzIs317WO167bRmBkZdZtu1/2zcrw2q9+b1yOP78ZqNW76c2/MaN4tZHkvm3ulb/TZa+u17yXJ8fc+o9NozIyMuk236/5ZOV6b1e/N65HHk1cO1nxr3Aw9Gbpv9Nlr67XvJcnx9z6j02jMjIy6Tbfr/lk5XpvV780bUebUeHK9fmtcT4e9+nvtR8iyXi73Ct6Yut372ZrvyTsHHkDhgeTg3v3gaKHHzc6ryXO6+nTmmWvP/NyTBQDXk/Pu2WpRw961vbYRvT3M/NyT5bWN+nR7T8ZM/xnkNZ4mbmp684/IPiLPaj+ydkDPG322ODpmtm2EnjMr4+i8mjznUKyO1tP91viRjL1keS+VezPte9a+Vc+AljH6bHF0zGzbCD1nVsbReTV5DnlloMfNzvPw5s+071n7Vj0DWsbos8XRMbNtI/ScWRlH542w5KS2+Ue+0Tivf2/7EbKsl7tPFrwxdfvMz97cuv12eACFB5ID+2mSPc+J+myf28JaPmustUc/exRZAHA9OR+frRZNr6Wp583IGsmpZYx+9qjXr+eVNt3nUeb0ZBRqWb1xR8nyX+7COiO7jNHskWe1z6xtoeeNPlscHTPbpiljNGXOjIyAHjc7rybPmYpVD73+qL/Wz2q7hSzvpXKvtHvo9es2i1v1DGgZo88WR8fMtmnKGE2ZMyMjoMfNzqvJc8grAz1udp6HN7+0e+j16zaLW/UMaBmjzxZHx8y2acoYTZkzIyOgx83OGzGSe1S/mb697UfIsl7uPlnwxtTto589eusegwdQeCA54E9Nds2epKn12T6P//i5bvPGj+QAwGPI+fhstag7xxoz21YzM6f+PPNzkePRGzsr58h6s+NnyXKfJm5qeuuOdLL6j8jbK6dHmacpcmbkHh0z21YzM2ckoyaNPf6/s+V5N8eqNUa3zYy5lSzvpXJvVp9CrZc1Z688i9HeZ9Y4Oma2rWZmzkhGTRpLXhWyPPLqBj0Do73PrHF0zGxbzcyckYyaNPZ4XlncQ9ZZ7UfIsl7uPlnwxnj6ez/Xc6+DB1B4IDngY7Ib7dNJ4Y3Zm1CWPkVGkWPJ1G3155mfixwAeAw5H5+tFu1ea7atZmZO/Xnm5yLHozd2Vs6e9QpH5vTI8p4mbmp6c0dyrf4j8vbK8ZiRPyP36JjZtpqZOSMZNWnsOQ81RnuUNyPbGqPbZsbcSpb3Url3VOYVOgZm5M6scXTMbFvNzJyRjJo0lrwqZHnk1UEdAzNyZ9Y4Oma2rWZmzkhGTRp7c1519ZnBm3NG+xF9emR5L3efLMysO/NzPfc6eACFB5ID/mmS3dKnyChyLJm6rf7s/WzN89oA4Fpy3j1bLdq91mxbzcyc+rP386wsr61mZs4ZMm4ly3u5C+tIrtV/RN5eOR6z8mfWG42ZkeG11dwix5M9WrNHntuNVeuzbhv1z8gobbeQ5b1F7tVto/7S1mufZVbujE6jMTMyvLaaW+R4skdr9shzySuFN+YWfXtzrb66bdRf2nrts8zKndFpNGZGhtdWc4scT/ZozR571umxV7c97Uf06ZHlvVzuFWbW9X725nsyb4cHUHggObCnkt2ilzS9do8ZferPG/K3XDM/a9k1dT8AXE/Ow2erRcPxrU7tb9xnZI3kzPzsy7LX1uP0mJEca23NrC5HyfKfJm5qenNn5LZ6+3+aY0/7zNqaI/JrvHneGKvfG6Nl17RybBuO9NHjemt65LnD+03dVtPv9+uFnnNEd4ss7+Vyr+6vqceO+mv02D36enpa7TM6jcZY/d4YLbumlUNeHdHdIssjr9TYPfp6elrtMzqNxlj93hgtu6aV87i8CsyuM8KS48nydN4j4yh5jZfMvcDMut7PemxNb83j8AAKAAAAAPB06C8E13wZAPi2IK8Azoe8gteAB1AAAAAAAAAAAAB4W3gABQAAAAAAAAAAgLeFB1AAAAAAAAAAAAB4W3gABQAAAAAAAAAAgLeFB1AAAAAAAAAAAAB4W3gABQAAAAAAAAAAgLeFB1AAAAAAAAAAAAB4W3gABQAAAAAAAAAAgLeFB1AAAAAAAAAAAAB4W3gABQAAAAAAAAAAgLeFB1AAAAAAAAAAAAB4W3gABQAAAAAAAAAAgLdl9wPo//2//xcAAAAAAAAAAADgIVhvlj12P4D+n//zfwAAAAAAAAAAAAAegvVm2YMHUAAAAAAAAAAAAHgZrDfLHjyAAgAAAAAAAAAAwMtgvVn24AEUAAAAAAAAAAAAXgbrzbIHD6AAAAAAAAAAAADwMlhvlj14AAUAAAAAAAAAAICXwXqz7MEDKAAAAAAAAAAAALwM1ptlDx5AAQAAAAAAAAAA4GWw3ix78AAKAAAAAAAAAAAAL4P1ZtmDB1AAAAAAAAAAAAB4Gaw3yx48gML78J+/f379+vvn362+y/n75+9fvy7rf/38/T+t/tfh778v+/j972YfvCv/8fnff3z9/J//+g+jb8wzxAxxG7jNjwAAAAAAAK+C9WbZ45oH0P/3vz//Jz8GFV79Ueg9SY92Q9/Eh0XpT/3QEB8f1Bj9JbyM6a+XvsB7D5n/8V//I9YQ4+70ANo+tOhHhxd4hIi2+p/P//5/y8+b3Z7/IelbeuQ5stfJvBbcZtOZmIm5+8d/f/6H0Wezbx/PH7c7OVTPjvtxv3+2mu6tF/q/jTwFOIa80+Qz2Ri3ou5jsj6m/K/7p+pys66WY9Wh7Ze+Ea92qO8D+84lgCOo+J041/p5qGJ9oT3XJnJG5W47zsjfhXUtc35h710B4ApUrgzv5BO52j3zdO4GxjlVqPNYy2nOqmH+viBhT7P3/smz3Lr3tz6qqNYf+qCD9WbZ44IH0PagOLIRuAejB4ZSONoED0Faz2sfH5LsOgnKl+Vusq0JptfMcdUU06W9tMXidH0xsvdaX5iS3doL0rOg9I023+zW7u/ZeHb7not1mPRJ9tlXb2+z6VTM7DloI/v28fxxu5ND9ewGP+72T7a5Wa+3/m8lTwH2ki77W+7ozw2xJuizu6qRy+ffRb559ybVrx58/uO/fleflV563Vx3mnWivmrc7/tqDMA+dCw6sVnRxLfOs+WzuIfk+K/PtmHOBIZnbNJ19s5TeLu7D7wo6TzZ8kJ/1kzkqpGL8rxa5qgzJd1LO+doIObwJifOqXOzWSe37bwjPy25hg3fZArRHv2zPNW8JHPu3p/8vY7V95fmntHHerPscc0DqCrE65ckCvSTkYqTF1x7DlVrbEyGqi0VmP8RRUezjamLl0oSj5igg6J3BaqQPj1R38pO4XNVAPf4/Xr6MXpPYjw/4PAL/ti3/5Ave+NxMsccdMyYtgr5uSuu9u3jueL2Ucz58Rz/1PXatn3oPxpTAO+Ndbb189fKp2Hd69yLUh3o38kSQddtjL2mHPNMZzd8Q1jx3r2jp5zbk4eB8X1Q50Oe0z1j2zlD9H0e4EG490ovPoe5aufh8MybOHvEWerUB52v4/x9FSr7BB8Mv9dOnOWVL617isnE2tOyFqw3yx73+TtAo2HCF6WRkeG+dIJ656FqFSTdlj7/d+dikfX5L7X2VIIuVAlo9l9F93L1hGjfhs+VfS1fPo6Jwnsnxhfeawj+2Lf/cGnYG4/jC38PHTPuRWhXXO3bx3PF7aOY8+M5/tlsHuUZeRr6j8YUwFvj3LF654yVT8O6593lSnv876jOhnN4G2Pntao9j7qPwTdNzJ8mH3rnYuqTZ9fEOTr8XiJzJmDrVtPOGTHMf4A7YZ8L/ne4ca46+TA8W6ycrtBnnndGqnXG+fuCDOvYws6z3I4DzUSNXZiTlbDeLHvc5QE0FuglASjSz8bewuTTHMJGwpQxUbaRTLE9JKIqRtMJYCVpbMvxt6DlrLEZUPv1+uq9pr1U4+L6dmLrscLuRfe49yKn6j8Tr9hn1v0p27VxkvZZjzH9pOS4vi/9pRg384oOyr7rYSb1sXSRPljm/GeZK8dJ2n1GHYvP9Piq/bgtHf/k+LBytk/K9VX+olMdx7VNGxs1tunJcmwl5t9GXGuVv9lJ7icwsqnch7DpmoeBUXwsWLEQ2+TcaNvKHlM1oXyOHPVjkTPpn8k4a/0u9Q39TR6qXLDtFto6/omM/AvwxIQ4t3LPaw+sZ53z2cKUt9WJsYycZ1VtbWvtNq7kuz0G4FrMM6fTHlnPHOezQTxf3fhucybQnxMIZ97EfaMwk/8AdyHFvHdPs+6Sw1yN8W3kode+0s+j5mzy8kjVgXH+viC9+0amsdeAbq0tzNbYwZga682yx+UPoNuXMIr085G+YO4pTB4xQdYvogktd0sia92qTRQ3v3g26IQKcpoit8lqkvo//3uN0V19TfGUXwTWOXWRUbok3f9n0bdfiE5B2Lcl6rroJvcf9Kv9kPwlxhhtKf9l7uu2+FnZ5r/VOtL/yr7ZlmIdbd+FtK9631lfpZ9Ho6epW1qn6LbHlnW8JBsZPjL2NSTPaeXXeiWbhrZ2XGvXvizLVmeQdVSxUv7OmGjrSoe//y79GvvXua3v/v5fuS/usZ67rPtflf9MDHnZ97pNxIbai/CtVc+W/v1+zG17/KN1cRA2N/Sr9xto4slqy/kh9p7r4zZvR84APCFuDuq81+Q8Szkic6mlzZOAWDvK03K2OhJo6oBRH0q9K2uV3E95WWSRn3AlKW51vAfEWWWxnjsTcWqej4OcWSg54q4jcjth7aUQc6u3J4C70d6BE15OTuSqdxaaZ9ZGnO/eb4Oe7dxmzpqL2/rD/H1Fgo173wUWwr73nOVlvNVX8MaINXbWNuvNsseFD6D1YTC6pMFj8AqWE5zigiD7Y2EQwZr9X7XVY8QFPFAXulh4SnIlOZaODV6xXKkLrl98+33GXptirOaL/WwIOVH3++RJY3tF1Mvory9brgxhi358FVmNPQWWDMu+7TpBrhxj2NdrN7D2XNskIQ/XaVs2+/dttxfPvrI92dQbV+w4J6sTH7cwOKg93VaaGuP4fVhHbGo7lTj4/ffat1VsxPVnasI2Zs72jh+VrLP8o3WKclX8S5uM60HSVfsm7avMvTpnAK7GzcFO/Un5Vff1Yj71jWrBzBkY81PrFOeF9sTv/1mfy7kOLe1b/lv6A5xJHYOyT59VTV+di72cyHFvrVFj5oxiOKa7ljwTAR6LdxZ5OTmRq95Z2MnPYU4Fmc7dN83NhDGds3gb38/xp6djj8T+szzYpV8fQ6z07xyRaP/5Gme9Wfa46AE0X7wiLx4cb41/eV4LkGov6AA3x6siJcaIPlUIY1+JG79INpjFqo7FxCorJ5cZo52+Zq9NMVY6r7IMihxT9/Nxv3RVuL4POua57pg6pjqHlNAjjgv2sMZaMWrFSztX6OjZt6OjxrRdnF/JDetUdpm2ZYkHxWzh9/HzR+rmj4v7juNmZc3F2V5cW2as/qiHsOnmq9Xujcy0z9Bn7dWl8mmMi/BzHXelrYwVelUUfeq5t/pRyDrPP63Nc73NskP/qksn14Q+SteE3NfqO4PbcwbgetwcDPFv5mbILSN/rHyJbVa9MM7TyTNQ5LJJytEkO9fQprZa5znAWfTPSTN+9R0uY+VnuU/Mxu9sznTHmOdhpx3gIXi1vT4X2vZurnoxbuasvHuK8SsT+VYT1j9T3jMyucc9Z/mo7u36/jHUb8N6s+xxwQNoNtYwEOHxdC6jg8NVB3j4PEoQPWb9rIuZ+jydLErndFmRF3srMculxtqv1dfstfkCoYriwJaRmTEnMbKn7Us5zxsjfN7YZcPUIdog2LqeY8Wosq+zjtAxyLb23NFRY9ut1iX9XOt6my3PoNWpINdVNjXHzcoax9gRwhqWfgWpQ4obYVdVVxJpTzHu6rGRLGOht+5GGJ9iKew/zbHalrG7a8KNflTrneUf7fdIzuOgg/DZbD0wbSP3Za4L8Eo4NSDmghXbZv0q7Vtexfm9PMs1zaSTU65eBaWHnaNOfQI4iV7cWednzEPrLFT5GeVa+ddhmDML4oy0cPKeMxCeC6+2b3dg2T6Rq96dUedsHDdxrnjyHGZybJi/z45X/yp6frL23rfJzjuAU/8srDfLHuc/gOZA3HtQwCNIX/DNS8EgSHWAmwmiik0zJgf27077Gj85pmw9K8SFpSqi65jenub77H3URVXJavoN1GXrUrR9FXF/RkGs9x0vdlbRFLL9+AqybFtr+1oy5uwr5Hg+iHYf+Cbj7rkcIIZdb7LlSUh7FpINt3b9WY5zY78aU7dfsaeRTKGbdaj3csyLj8B0biY7pP8VdJMV9Pqf//q7aOuuV1Dr7vFjk1tK1ln+sXXK7ct6obZvukzWA9Pecl9X5wzA9UycbTXdMyzny0xd0UzOETlqEHO+zsmgV5OjvTsnwAlY58eB812cMc6YEaOcmckH+6xLdYI8gmfCjNVe7gxz1T4P41kzuvNahPWaXHKIeoxy7A3OsxmbmGMm7/MNYd6OO8oOn1lvlj1OfwCNCbAYxWQ28OBODJI3FwDvS3cd4LIgbWPqNneMToa4riqKsVAaSRXGFplxTJnnrL/KWPrFPziUxidb9PqMfYiCvY1v7KP29B//9fs2R+h+MZZ9K6SdUlvK63qPKXakP1Nbf15p29b/++9Sl7D+JqO1ZdPW2D8h/ZTmiBoU54W9tnNNXB+lgh7+vkep5y22XPS1/kGsrPOuAzfnTj2n6NXYxxxX7XlKVhnnx1ix2ZTdVww7LfYw/xGkuH4lf/V11qmat/XnvmWusG+QNXl2Rd/+scRBPT7OX9qUPRrbLnRrQvw850cdh7YsubZgMs6EzQXZVwv92G/rga2b3tcgZ5T+Uc/ik8m9AVxNqhdbrdC5oD+LOI6kPCh5Eceb+dgh5oM6j1S9a3J0mVPXz9Sv63lbi1r9Ac5Gx136XOeFjMO23zo/6jhumciZ+nzKNPmwnH3iXPLOqtiuz0iAR5POoy1e5fnUfh7nqn131Xf7uVzo5bH8Hpr0dO+Xmbc4z4I9mz2M/NTfe7demusl9D9c69Y/B+vNsgcPoN80OckbZDGJga7HqEu2NUYnQByj5sVk0G1uQcvFsV6njildKNX+QhKJxMzJVfqFvp2+Zh9xbJ24bbEIaBuJ/kb3C3Htmyj7k7k85w+zUMW9VeOcYrv2WzGS+5J8Zd/G/ok23pS+QQ9nrk01X+0h+dbXYWxLnYuOTjkuZw+EFeWDkgubfTabpr1krJo9lBXwbRUJ+7Dahxg+zH1aB2HzME7FvfSJtLewwZ68zP6RuZ99K+yTkOtM1IQdflznrPNqWRP+yfJFu6L1e0XW1dYlr22tb+3b3FcnZ5T+Uc+yzuTeAO5Br9akGiXbejVD99W48R7zQZ03oxxd6Om9oXLUqjUAp9O/U4rzIKLuFQtbvrR9G1XeTORMM6Y5O/Vazj0wyCGX4BnJ96sSw9adrXuPM+6Tvbt6k1M1QlbKrf45uM1t7q2BYf6+IGYtmfBTp/6E+mrabyH60rWbWsOrfw7Wm2WPi/4RJAB4WmKh976wfGNYX/4O4BX1eNF+0kPykboFe3kHJOzjmWMMAAAAAADgKqw3yx48gAJ8c4Tfstz+6PcOxIfL/Jus+JAkfvtUGNnK/83i8z5Opd+0PepPwTX/q8MroH5DLHiYjx/rRwAAAAAAgEdhvVn24AEU4Fsk/lH+b+kRNDxSqj/1mv93hlsfj+pHVN33FA+gyz7ln7bM/5sV/wvVa4EfAQAAAAAAVqw3yx48gALAN4L++0VufPzMD6j+33/2PH8CND7S1nvn0ewlwY8AAAAAAAAJ682yBw+gAAAAAAAAAAAA8DJYb5Y9eAAFAAAAAAAAAACAl8F6s+zBAygAAAAAAAAAAAC8DNabZQ8eQAEAAAAAAAAAAOBlsN4se/AACgAAAAAAAAAAAC+D9WbZgwdQAAAAAAAAAAAAeBmsN8sePIACAAAAAAAAAADAy2C9WfbgARQAAAAAAAAAAABeBuvNssfuB1AAAAAAAAAAAACAV4EHUAAAAAAAAAAAAHhbeAAFAAAAAAAAAACAt4UHUAAAAAAAAAAAAHhbeAAFAAAAAAAAAACAt4UHUAAAAAAAAAAAAHhbeAAFAAAAAAAAAACAt4UHUAAAAAAAAAAAAHhbeAAFAAAAAAAAAACAt4UHUAAAAAAAAAAAAHhbeAAFAAAAAAAAAACAt4UH0Dfky8fXz68fX8y+t+aHj8+vXz8+v1h9l/Pl8+PrYveFjx+s/hfloTb1+O7z539+/fzjp++MPnhLnjIO4X6k+vpWtRUAAAAAAO7KRQ+g22NQgi+uR/nupz9222/vA2hao/bXvvn3pNW1ss2dHkla++oHued6oIv6/vPnz++Wn6P98s/W2IZ7Pzz99efPP77+8fnzX42+lSvte+ChxbJRbKvi1LV5Ws/bS4n30V6jj4XdSg0e+C7aexlXxXOSpfF8omt9QtrviL+UH761B9CpPHhG9ufPXE3aLxfgFZB3momcV2eLVWvrfusup+9R/bzKMns5mnVq5ajz4UnvlfBuqDyYuPP287C957T3GZ177X1F5519pxnnzL78Bbgne2v+RK52z7zZvJqvCeE7kP19Re1toq6cSbvPigld/H3p733Wd0mb1Rflu6RA1VH9vTjifK8LYy+27wUPoPoQKLzil7lHEwLvj88/FnvueTyIgbzjohmTSgRa9uFTXVZzEjY6Le2lLSbX9Y8krX2Tn7b4Tvbb9+BzEbqI7C0qd7LpysMfQJPsXRfKqPNmo3RIKZstdrRkptxbctyx8Xbg9XxQDij70OrZaZVfxfO++pHWEXvLB2Hd1jt4bZQf7h2Hj+ZlH0AP5M9UTTLiDODF0WeFeXbUxDpY1QVda5fPH6LO5nOgrud6jFGvBXHNRYaboynnwxgpI6291f08bvpsATiCjrNx3DV5p/Ns+SxiO+dMfaf57qcPcV63ubzo8SFzKD061GPGORPn6Dv9S94V4P3Q8as/ayZy1chFGe8zeTWRRwvr9yFH5y8f8my2ZNyftDffxqN9tbYZ3kMC0Q/VmFgTJ+aM7JVra9T3Ytte9ABaGyFfwBb48rKTEiwzQVMRk7IuIANisGv5O9c8DZ1UkXGCR8y5dyAm7HNeQKJv9WGyIzYeZtMVy/eT8XCIIHunL4P/11xJ9W6u1qV9fPxQ/tuOSbkZHkh9mduYWu988Vja/TyuxuiLwXSM2PvVcRdk7qv/yg8Pj8MLeeje9sTrDAfyZ6omna0nwKOxYjqdBd7ZFuqo7hvW64n6YslNZH1650iQv/Q3Z1RsN+6V71rH4TmwYqx7R7fuX/08DJjfmwQhv0dnoaoBo5xx9tHc8wEegJkTvZo/zFU7D8ffUVReRZmDmlDp4p+HCkvuvbFqRs1oX45/+jYwauZIj4Vxnar8NiHvVu7wd4AmQ/EAup8tAGcO0o1xcZBYRWt8uF+ElYyzieAk8uU4l5JnoCk4wUZ7LkqPsumKdQCOL6fHCbJ3+jL4f41PdfD2qA5P72Aoefizm9PFFj+rGpH1WNrd2My+/Vmtva9+2PvV9SPI3Ff/lR8eHocX8tC97YjXKQ7kz1RNOltPgAfjfHnq3b2sLyXDej3xJc2SGyjnkq9TyMuQ70Z+hrzWc965jsNTUGJWtvfujKlPni298RkrvgUlN6y+glp7lDNeLpNX8ATY54h/dxvnqpNDw3hXeWXlTWyz89M7DxsmztZrmahTFea+nDrWu4eY9nfk1Nj+dpiQdyvXP4DGAAkPoBTnfYTE32zmJ2QqLuWPN4fgCmNlkKUkWccoXzSB7hYGtdZCW9T0WpbeUk6REfWu2oue08XIS8pKppYj1lSJ6fXV9o22K2MiYX27KOmxwnZF95PzZabgSLsrv0/Y9OOH5E8ZC+M4KHZc7RL0rGNvtYWWsdlX2lTq2cgPmH7zbZ3G7fNFsud4TpC92iTutZ0T1w+5GW3euwgEH9T9xSfZD00MKBtW/XV8j7F8v1fGBGKfwb4ZvYaOmW6/tqeO2X1+lzHl2KT0Z71EWySvWedB+Fz2L/Svx24y9Lo6X9eYU+2Beq7ej76MFB+v4wx/xzFHLjFKt7kas89fAA8lxLiVG157QNcF/dmiJ28h5a+RO5XsOMaQsdV5Pz/XetN8BjifEJNWjHntkXjeVDmgPxvEnDDOvEQ+m9z+QsibOn8HOePl+4S+ANeSYrW5f7rtE7ka4907m3rxrvOqPqvszzXdWrGSzrzxuAvZmffmvhwZ3pnf1qhMkNO5ZwT6NVMxIe9WrnkAjcEZvpAUBhc0aAnOrwPFCtJs5zoQ02VWJ7pRCKrAWudUNMFtrNW2pYIgA1y3pc91MfzyUxXkzT794tmg5wb9al2yvkVWUwB/+Hm1066+KLd3iWltrnVJuv+x6Htuwo8KTuivbZtiobKhsmnqb/caYmaTMxMHxSbL+k1M9W1Zr7m15zYtX4xJOsj/5budV9PYY4pNP09uGjPaZ14/xo3VX7eFvdXyqjyzakfVFtcw7CZwD6JqndKWY3nT5QSizKBLvQ8dU8tnoWfqX21mxdZP1dx67MIe34/yO/bXsVDVE9M/Wtey/2qNkj/1RbDROcip11V6mf5bSDEgddJtZX35dw5K0hgvdmzSHtrcCPvXeh/1F8CjifFq5YZVD2pyDqd6OKqzbZ4EUq5kGeYZJc8bU1ehp11H6twNaD0AzkXGbU08i8xYz6x3jMDgHGnO0YCM9TYXWuzzsZ8zzZy1HnD2wSPpnwFtTk7kqncWxpj3zz7v3hnbc171akEYZ59VaY9JxujsvR5fTxt7fK43tT2M7xsr0fatT8SdwrGPsH+kU7OCDtb6J3KnB9CFizfyXqSAtA7Xui0Gk5HEXvuKKirW5TbKqNpcmZUs90JfF6tB4WoLnmULh2aupi649c+9cbrPsEWzJzXfKRhCTtT97ILa34eJ3ouwqXfAyfapOFg+6xizxth7SG1NPCr/W/JTkVa+CPMsfW8l7mXRwbKZtabRJmyp9idtFXxQ2632SWvDOvbiGpUtm/juUl8IMtNzdxD3Xu8vE23Q5lahzTF7rLZBwot3haPDtvYgDy29dB5Y+8/xJfXTcaDRuhh71GuvyLlWft2OZ3PZfpO/AJ4AUdtrRnVK9PViPvUN63FcT8rQZ0Cja1MjDD2M+rTvbAHYi3/W9mKvOcvcM7D0dc7zTJTp5LHbP5kzaW4m6N2pGQD3wTuLvJycyFUvrjv5aedd0q1eyz1/F4KMUX4X/T0Z1xP21Lvrt/j7ynspNWWxvWef2D5xhqe7Sl8/21eZ4PuLbXvXvwN0xmiwkA/BNRhrVhtOFI+qLQVjLWsLOjvQ62Lmr1UXImvdhCyMKeidsU3B66ytMYtlWrve+yorjg9tRgJ2+pp9NsVY6bzKMihyTN1vYa/dar2qvdR6uYeO4d/ZONDjRrZ02xaUDS35ZqyfbntFtm99MVhzoEHaV+rbs1/oq+fKsUKOsnHsq+zk+89CrpNky72egusjve8UG8Km6162Ph07vj8m9pL9a1LWXscYe7D2pvNgZkxE+aNqq/Xa9m+Md20tY2NfnExi7ikg9bzJXwBPgH3vWgj5Z7U3tS5j5Wtsmzz/A/Wahjypq3X+tnUk5Gi7vlFvAE7DuRsu2PG4EM+c9ryz8jO27YjfXg5YOX44Z9yaAXAvvDhNOem1d3PVOtsCZs76eaW/4yQO1IoGb2/X494fOszvy7PZvvM7rNf/juD74B417Q4PoAsxiO3AhBY78BZE0vuJJ4MuF4VanioediLVgdkJ0uoLqx/sVtIkmTEu6jnDy3cHNTfOU18YrAKQxgVddEG1+5p9VjZIbcpeXhGvmRmzm47fqn5p2+Crai+1XuahE5D+nY0Dc9zIlm7bgrKhJd+MpUtsL5HrKhtX6PjU+m6ftQzrc51z2+coo7KL/uz7z0Kvs3CFPT2ZdbzEMVIXvbdE0jmMLbbet2fFjv1GfeLa1Xhrvs6DmTER6Y+0nhwjY2yf/2o73WQzj5trDMCL4OSZXbMWvNxQdcDK+SGr7HwniDXK5uP/C3rbfZF4PiU5oq5EnLMb4CTss8GLx4WQh/pOWNqrfItyzbPJp8nlmGde/B/PGc5DeDxenIa7m30eDXNVnW0rOme7eZXWsfq8vPHGW+wZex7jmmAxr6sjv/PdwMK9y1S4Onl1+UTOfwANSosNJ0PGixEFeoIq+Z2+Eix28mZ7l3YriFQQxyBtAm3yC2cl35azsF6uVfvaVxU4pds2xrNJhZhr2VHaTzLf19iiKdJKVtNvYO37BLoFyPJL1x/GY8k6Z2ufjQMzphpbWX5xfKVsaMk3dbvI9jVi3bCeZZ/SV+nS6psuEx8fdvtmt9ZXKRY+nPbNTm6um1gxkfwzL2OCaBcjhyp7Bb11THT3Us0142KWJmZHqPhVPo9089AZE6n9kdaxfLPZyfCfux8pb1+czGLF00LUaWu/yV8AT4FfO5uzLeDlZV0b3NwdEGR08mmcb3ov3j6c/AY4i+mzMmONXxAx74wZIe8kndzu9g9yRp2NAI/CPCd6uTPMVTsn5N1zlFfeXdWfJ/O2R5Jx/9wLNWH/OT+9r+iXVn707/Sdf+yXbm0LOlx8x7/mAXTZUMuBS9m3SK9YLLSHsgyemOjB3iVIdSDnw7JewypaUU7dlueJYG4O3hTMMkFS2zpvmdP+ozfVfuNnI1byXptkCuPFXouslHy1LsU2ScbSL/7BobqQ9fqynHqPjc5pfK1rWlv69bufPrY5A78fpVuwot6G/+q9KL3afZQ5O+NgobFjwPB/O661b8TSVcnfe0DH8bv8suyzKdr13h3d1dhiSzc3hb0DYV5tNyknkv2t5ekYMf2yUu9l+yx1WTD8uKF1nSD6SOme91N0iXpX/cl31V4WGULPIHMdn/bRxNnkP0qWfCLjZMtvLSfFwKqLZSvdZsWoaePaH2mdxreVzbx4tPaj7Rs/u3GS0HNmaNfOvln3VbV5/sqxUcYLPVQfwKPQ9V2fN/pzm08pD0r+6lpuof9RzJl80Hq21HUnE2uWXOtIPQDYhz7TnHNwjcO23zo/9BkpWeJfxbXO3SRTnqkNEznz5cM4Gwc5D3Af9Dkgz6f28zhXm7uvzpGZvDLOuCY/K8x8DzJUnj3sPAs2cNbdva9g8/r7SbaVOW7xjXdPkHXJ0kOts9C1X2ePZ3HJ/wKfNr5sbGUQnLAyTKgYnFXyx2Kw2ToEZ5RRJarwR5CtCkbrrwXzQM2H7Yq6SEdyAavG6YSR67Uyov6xT8dNK1vYShdKpW+xzZrYOdFLv0j4Tp+2b+OTrKcuINu+Wpmt7ucQbW36MiPiJ6wfbKbjS+ol91HmaD+P46CxY6CxZWlLMpLNbPtqXS350R46vzq2T7Fq97mo2BF7z33aFjW13qa+QUZTI5TfTJ8k2bpNx4j070ayd5K72d5eZ5Nj2M7Uf0DxkbKtXFfGXNCxvzetW9rL1t/Wph7abiI+ld46dre5Wac4vp+HzZiI9ofcU2gPa4n1o+ytv7Sn2N/m6lyKOqs2TRyz19cL0pZh31acdfyV7V3GCz1UH8AjaWN967POHzle5rLuq9nifX+dM88hgZWfC1VtiRyoBQD7UTFunV0iFnv31bZvQ5/RVZ+Odd1fU+s3kjO4SwA8lG58pry02sp4604p76LqvJrNK6VXc5+uCPXByqvRnfheRD2cta07Q8Hbl7ahfTcOfurcFbR9rbNe+6pnvzD24vvCff4OUAB4CL1CeR7Olx8AgxCTXNoBAAAAAADgnvAACvDO3OG3KOm3Ov5v0wBqmv8F8+lRv6GuuTq3AAAAAAAA4BR4AAV4c9r/3ec43t8fxp/oAwAAAAAAAIBnhQdQANhB+/ch8fgJAAAAAAAAAM8MD6AAAAAAAAAAAADwtvAACgAAAAAAAAAAAG8LD6AAAAAAAAAAAADwtvAACgAAAAAAAAAAAG8LD6AAAAAAAAAAAADwtvAACgAAAAAAAAAAAG8LD6AAAAAAAAAAAADwtux+AP3LX/4CAAAAAAAAAAAA8BCsN8sePIACAAAAAAAAAADAy2C9WfbgARQAAAAAAAAAAABeBuvNsgcPoAAAAAAAAAAAAPAyWG+WPXgABQAAAAAAAAAAgJfBerPswQMoAAAAAAAAAAAAvAzWm2UPHkABAAAAAAAAAADgZbDeLHvwAAoAAAAAAAAAAAAvg/Vm2YMHUAAAAAAAAAAAAHgZrDfLHjyAAgAAAAAAAAAAwMtgvVn24AEUAAAAAAAAAAAAXgbrzbIHD6AAABfw429fP7/+9qPZ983w7798/vn1z89f/t3oAwAAAAAAADiI9WbZ48IH0O8/f/nX18+vXzf+/Mf3xrjX5/t//Pn59V+/fH5v9J3KrY8JO+fHfVX+i9xjn1fzt1+Xvfz6+aPVdxo/fv6qbJfiP7X/+jdrTuYu+h0nPuzlOPBjv83/ucfACfv0iDHu2U75ZPfj5D7d3u4B9Ehc3lCzjtTVaPPFR95ZE/qf9xy6MfZrDvsq2M+Z182tx3O3cxjgROQ9a6JWxtwu43W9mDt39d2uX3OyzF5uZZ1aObeeuQBHUHkwcS7081DF8UJ7j9C5156VOu/ss3acM/vyF+Ce7K35E7naPfNm82q+JvjfE9TeHnjfLN91ZvSYqRdC3uAekuSpMev3h1k52ZZNfOyNnw3rzbLHRQ+gagOZ5/3ieRsxGO6RCDc8JkR2zrf2FZPkgUl/CkceB3ZgFofY/mtsizbsJPWo/6EE29X+159L25LvTZFd2scXtXRI7b/Q1TXHv1RuNUh/nmGfbk/txyMcyZtbapYVWwO2Q9zWM/Q/7zl0NPYNjjxWVhcY00ZHZN6TA/EC8EjSXWHLKf25Idbgqp7mnF1rxvL5V5G7+VyszyE9RsvQxDUXGW5ubV8spQx9xuZx73QmwhOi42wcd03e6TxbPovYzjlTn5Plfr991rm86PGbzKF0X6nHjHMmztF38KN3LIBT2fs9ayJXjVyU8T6TVxN5tJByNsy1df7xN3k2WzKuJ+9F1QDv/B7Xi9Y2/XtIvlPomhNrojenZbV17esb7wzWm2WPSx5AU/At3D0wHkN05NPtNQWSe6mdwN5XkMth6xKLy6AINAWo5rntG2NCH07151gEb9E/FLy981ORjEXTKcJmLM/4SrBPt1gHJwv32zIZD65/dtovHfZ/xi8n1tzQ71/GHs2R2HcIdt97JmVf/RkuHJbPnNx6Gg7EC8DjsO5o1Vkmxias+jU8ZybOOb8uZn2WuuTecYP8XHPFXmL7rWcuwE6sGOveQ1KM78nDwPh738xdXtWAUc44+2ju5QAPYPf3rGGu2nk4PPN0Xll3V51LlS7T3xMsuRczrjsVM/XC8Y9ng7R+OO+V3CBnVq9cG+N3jdqPlgxHPwvrzbLH+Q+g0eDhC9R9g+KR7ArIu2Fdrvdh7+t2ue+LdZGySDY0C+yuInJ/ROEMBH2rz9MHh0uwYVuwp3EOJFuvvbG8T7fxIf0N4BzAGrPWqNiaodg8yjN8e3t8XsmNsV8T7L63jqy+SnnR+MPJrafhQLwAPAwnn3r3Sat+Dc+Zibz16mI5732dQq3Yaoaot9ZdJrR9Q98N4P6UmJXt9kNK3SfvCr3xGSu+BSU3rL6CWnuUM14uk1fwBNjniP89a5yrTg4N413llZU3sc3Oz+nvCRNn67lM1KWamXph1ZwF88wv8izbOXIsin2bu4slY+jrDevNssfpD6DRaEuwr5sLX6SsL1NvhH85LKSgXW2R7dOMi47exvz6N1U4jKATNi6BpOQEogwraLWMKtD8BDACv1qr3Zva/yLzRyW7JEKJny0pkg3qua0+pV/qtcrS88yEUussyIK9FR5XbtRlLlG9mAl2MGPjSYh6NwdWwTmsTKS9rcMxkGw9Z9OI6QN1GA7b9+HlT4npbayuA/0YFHp14tzEivHYZuRIFYcitrUOrsx6fNrDOm+tF2rvq120TRaMvCj7H/lqs3mRK/W18kvvuVl/3fcoZmW/uY8DWPHVxlYg79nIzzh+pM/qq+Xn7FdhKzO31J4XpF2STt26menGHsC7EXLMykmvPVDnqPXZoidvIeWdzuuFSnYcY8jY6pCq+5Et9+3PAOdjnfG99sh6xjufDWJOGGdtwj+LJSFv6vwd5IyX7xP6AlxLitX23ua1T+Sqeedc8NpXdF7VZ5X9uaZbK1bSmTcedyIz533NTL1wakd75le1yJIb5HTuGSvVeq0PBvVvgPVm2eP0B9C4oepLjGB4GLwm3uUwkb8gir23bekSWgdUcnyw21o4VNA1wfO3X6r5aQ1RdJqgzWvUui9jyt8P5SVAq3edPLooGPuPCSDXjXv515/Dv5sqjcvzrP38I63T6L6M/aXI0Qmf1xFJ1rRt/mjayt5mC0Cg0d1pezKiXWtf1kT920La0sbmj/+w7dbG1wBTByMXIsl/s8W1JftfxVmJYZ2fP/4mfStiuWeTJi62OPcx5IX1jLayf6nPQly3Gq/yJvlG6ZVzZJ2TZYhxWm6R1csdY46FsHmeU/u33u86XsVL01bqVdPW31Njz9104kvXsNzn1Y8pXdT8xg6xX39W+dO0bTHRtIncaPc542+AV8WteVZu1+TcSDXJzveNdA6IHF1ItTvLMM/zlKNlnqmr0LN/xpa1tB4A5yLjtiaeMd7dNbCe84FO/gXM80nG+szZZZ/L/ZzxzsqhzgCXsvd71kSuemdhjHn/7LPzKrfnvOrVgjDOPqvSHpOM0dl7AXHfwR61Hp6uiXG9yPWmtkephdU8cQcw7C/uFBHLPjJGVj+LMf3618N6s+xx4QNoFbTrwfKAgLkD7kW21ycCyCscql3M8YtHwpCpgzb4xdE7MA7osEbr03rP3v51e5Okua3ZX70Hrzgu2ImVUfPcsWKcUSTKmKL3wJ6S1n/RJp7OT8Eg5qJvbH8IdByeiamDl1+jHBow8Hc3BgN1fPVsIuJwHpk/KVd//a2OsSp/Hd+JPQg9PJuq9ii3Hadt49WJvZhyK7sKm7g2V3ER963HpTFlX9LWmZ5PZ+jGl1w/cHP9aPRNvlxlqhjRtl4RcZL0bMbVe1NyC658gDfArXkifySpntV9Xh3e+oY5FNeTMsw6Wuvq1AqhRxzTlwtwLv6drhd7sa8b3xU5rq01aqJMJ4/d/smcSXMzQe9OzQC4D95Z5OXkRK56cd3JTzvvkm71Wu75uxBkjPJ7vds6Mi4hn9Vyf+3eNON6kfdSxiy2F/bR43v1MZPuKvWY1t+rn/Pn2frnYb1Z9rjsAVQ6I1/EBgZ7VUaJZDuvKhZuMKmCoseZyVBQcwNq/iiw9L7i+HqfOVjXpKnJ47w1TNlinEpIQdnDNqZJ/lU3w64imdukXBH2csbVspqi0kfaIMlvD49noWOngo7PDtHfwT+ThW2aqIP2gZELkdtsPsofqz8dCnnvkU1X3yZJz9DXtb8mxGOJr2CX8HMdo6WtjBV6VRR99FzT14OaldG26dXQPbQ2T/rU9Wi1YSdfhRxzXJ0Pm39a5vLBot2L5PT6YfiqxGuUG/uLHer9b+MjQo4zrrbpTOwBvBluzQv5YNbCUMuMemLVp5xT0+dFvaYhz6o1UnZ7xopa2xkHcB7+uWTH44I41zas/BTnYdXu0csBK8cP54xbMwDuhRen3t10Iletsy1g5qyfVzFvm7vkgVrR4O3tIqI92juAe5fwmKgXm80MvxrfFSyCHYvdLR3r/vL5UP3LWG+WPS79O0C39hyYEwZ7RXrBpx28UTnVOYAbxztBV2wuC8U4aEdJ3u5LFYyJJPDW0LJbO/nFqaXElzE+FgwVe6KodtYR+3PGCVmGzbuE8Vm+GwPPxMgne3wWSOOjf8wcOYBpR0+vyv6ifY5R/siYzjFa77Ojq22TTpybbPsL+ZbmWG3LWBHHDvUYN16TjqOapfO9rTXHaOvIQq4BYa/CZ509CznmuDqm9sb9HEJXi9q2Qcdb7Wf6qsTjsn/h886ehRxnXG3Tjh8A3hYn7mMtbGr/gsg/3b7lbZxv1Nwuq+yS7z6//hr0tvsisQ4lOe1dqFM3AE7AvAO48bjgnZ0qP6PcnedUk8sxz7z4P54z9p4B7okXp9t3Dtk+kavqbFvROdvNK/8u7eWNN95iz9ib6dljR23y9r2x+TLdJ0Ltc+jI2erf9t3VJuzpeP0rWG+WPU5/AC2BWF/ANgPuOzxehbg/58un2xftVOyhHg3EmKrdC/6IDhJDpprf09vtj4lWZDh6V3hrxASs2q2EHCepolMEhCzrYmOtI4qsk4SWrI5NNWH8WmT27PVBjPSM/XvzvBvXOxF5teHH8k5dK7zYLjQxt2f9nk2m9S4HSvjvJivF3I+ibcoHYt3bapbOuZEtZ9FyRfui+69x7zmH3T0Xu+XPpr1lPfDWvYUZmyRfqofdo3j2yD7987dfl/9udnD3LGJ9om66fgB4Z6wa6uRLwMuTM3JJ5GzLuBbpvXj7GN8ZAW7COq97eWGNXxAx74wZIc/lTm53+wc5k89ncgoejXlO9HJnmKt2Tsi75yivvLuqP2/+Pp1k3C/37PV2fX+aqRfRL517xNQ9Y69fvPHzdwbrzbLH+Q+gC3FTi8Kady3Q/eBLzpPJl9pqRyeb1YUgz6vtpgvDb/WaOjGMYGqC1tBtGeP/I0iJOmjjGJ0IS/JInaUeac4io5ItE8GfG3Uu4+p18uci88fly3pdVIP8VY4uutY6ua1rz4CWlcdZBV//IziRqPOyj/ox6omJvtN+UqRYbvcT5kZ7VjEWibZu7RVIsWL3mbiyUqxv/tQ5GD7v9UE/f0RMxzip5Of4WvfWs8ky14vztc0h2m+JrfV/dQ/E+UubslPym2z7/h+/bjrHPWz97fhsj9rOcR+tXYVtAkp2Q7aXsINBI3dl063OYWvPsU3bq9FN1YOsn6wPy5qrLufHV8TxpabZk4Xjq8Bas+t1rD03fpqrm5Yf6tibqTsCpYfYf6MjwGNI9XnLS33e6c9tHqcaUfJrJk+ae8hEPmg9W5IeQkbMcbnWVB0CuAl95uQ7eZUXMg7bfuv8aM4wwRL/Kq517iaZ8oxrmMgZ+d3GuCMAPAx9Dsjzqf08ztXm/q1zZCavjDOuyc8KM9+DDJVnDznPtD3U3to7Q71Hq14sNq/fkrK8br2LY3Sdkrbs2bcQ7df4+vidwXqz7HHJA2ggKh0MnREXozcjOVruN9AkddVn2UPaLASOKiY66HKgljlNwMZgSn1RhhG0jW5VoMV9WYGnEqTZvz6MDT217CYRCmquTqjWZqUvJ3qhSTKdmGq8YyfbxkaSV7Yv2DmQ1713ET1I9JvlJ03jN2k7GTPa1htpnGFfj7iuM96IQ9F3yAd+/uiYFnsO45SuPZv4cT4g71nGrXUIJuQ6ap4R661eg5pVzxPrV3a0/JD3YefQRiu3IuekzmFpd2O+meNGPcg6brKqOaHv5PhK+L6siXYZre/4KlH00HY4r272Yi/0jXwvUPEi9j8ZSwD3QMa9zAnr/BvlSd1Xs8X7KGdboh7d+qHqfkHfgw7VQIC9qBhX56M4DyLqnF3YYrnt26hyZxTrur+m1m8kR90zmrMV4JF04zPlpdVWxlt32d53o+m8Unq1d9mNUB+svBp+V7gTWo/63G3uDDP1QtlweDeOMpUftH0nzvpYh7UNR/Wvg/Vm2eOyB1A4A+dS+QaML9TwjES/PajoX0nYFxfJM3jfmnULxNcthJjyL6sAAAAAAPBtYr1Z9uAB9JmJL+Hv+MXP+VNB8PyEmHzDh2vzryd4ctJv+qrflFU87AHybWvWbbxifD0N4TfLb/hLFwAAAAAAuA3rzbIHD6BPgvf3Mr38I6Hx5TX9b1o8krwq7f8+BN8ib1uzAAAAAAAA4Omx3ix78AD6NLR/z8zbPCTov9OBx0+AN+CNaxYAAAAAAAA8NdabZQ8eQAEAAAAAAAAAAOBlsN4se/AACgAAAAAAAAAAAC+D9WbZgwdQAAAAAAAAAAAAeBmsN8sePIACAAAAAAAAAADAy2C9WfbgARQAAAAAAAAAAABeBuvNsgcPoAAAAAAAAAAAAPAyWG+WPXgABQAAAAAAAAAAgJfBerPssfsBFAAAAAAAAAAAAOBV4AEUAAAAAAAAAAAA3hYeQAEAAAAAAAAAAOBt4QEUAAAAAAAAAAAA3hYeQAEAAAAAAAAAAOBt4QEUAAAAAAAAAAAA3hYeQAEAAAAAAAAAAOBt4QEUAAAAAAAAAAAA3hYeQAEAAAAAAAAAAOBt4QEUAAAAAAAAAAAA3hYeQAEAAAAAAAAAAOBt4QF0J18+vn5+/fhi9sGD+eHj8+vXj88vVt/lfPn8+LrExsLHD1Y/PJJDefvQeIKX4q8/f/4R8/+Pz5//avSfyHc//fH59Z8/f35n9AEAAAAAAIDN9Q+g8REhfDG86CFhlV9x4QOlfEj57vPnf379/OOn78SYa9ge2Dau/7I9z31sEb/8CxtUcXWnB6v2MU3v/Z5xcU/SvtLeX2uPj3sATXm7/1Fc5ftQ9+ybMn73A9kZ/rw2Ji755dNuH1t7nPTxSfWJB1Ab7ALvyd7aPhrf3iXbmq1kjOpWvodvNdC6r27wS2K4lr05o79b6O9W5+RM9/vLnpzJ+Wb2ATwUFcdnfHcZxHs/rwrzNSF819D53a5RMVFfZtHrtLmt7NtbW9lN0qk9psyOX6fXScTvcqXfWmv9AyWJq+rbxQ+gdcBZAXkLRXYrNwTQVQaTX8KTDld94Zek4BP7ikH3LI+gV9siJ19TTJf20hbtcXactbQPMUG32g/3jIv7EQtztW/rkHhWWp9NcEo8pVjYV49SrG+21Z81uRau+9Of57jdn9fG/SEfjogH7T4fN3aalXFSfYp5eOKF620I9sUu8Fbsre1tf6ybdV4seSLOo/xlo65p3/30Ie6V6UuZV7vymvp+anGnOxp8y+zNGSO+Y5xWd/pTcmbR40OeTzE3R/mgc0brlnXZd8cEuIILvrsYuSjfPWbyqpXbnIsLKWfD3J7ONUnu3NgJllz+qGUZuf3lQ9YLax8j4hxhi5FM7UfDTwZ6nXVe7z4S/VvvufXvWVz7AJo3khgU+Z20hr0Pd1k32k3bKwWgPORSMN3/4Ds56YdMrmfa7Q7EIlUX5PckxH7tg/D5/rF3jEN5e0o8hdjdFxvmA1dPF6vvQEye789714kDBDsduDwIO9257pjxAckPD7gTAFzG3toe+/afBeOaEu6fjoyg43LGjR9hHnVfhW+K3fchKy7Hd5ebcmbF+l5X0+qm7+GljbMPHs35313sPBzHu8qrmXOx0sXKMZN49l17Fx/qYu2tx8x4PcbaZ8+vAWOduZp5vzvChQ+gaSNfPz7Sf/c4aMReh5/IXQ4aM7CswLhvsGyMLwenMltkRgl5FTEeRxed10cX4vD5/rF3jEN5e0o8hVzZFxv2gefnejxUmr3tz9Hz/XnnOnGEkLs7LzCNne5cd8aXiG+U4Ae+BMIbsbu2W3fjmfvJ8I4Vzh9LRmmfuIs+6n4G3xT770OpT8buxN3lcM7UWGtXGDlj3Q8P3W8BTub87y5ODg3PEpVXO89Fex+aiRpxAkNdrL11mKoVWqZV6wY+aNeZrKk79nIrlz2AxsCOG0nBf+am7KRxWIO86LEFfHRQbJPtG2VOZllTOtVyaGrb5Mp9r/Ojo9sxUqe6ry0ibYAlku0rGeYhrfa2oAuUkFNkRHvKeWn/2hbbZ1NOhdR38cMPsjCFfXaTpmAlj7BzK0fYW9nS66vt3tg6rm8nuh4r7F10X+2r9vEETPlB2VvGlMqNNRacWDFz0kPJVvarfSY+9/Rd40nmSmMDnRMqjmriumY+FtI+dC767b5fpvw1wrOPGa+bH/06Yctt+7Ts1oeBJv+0bR0fWnYsNXGPzaJOldy0/maH0h9lrrrUMlQdbmJDxfXS/yXsuRpX7CJske0k7aPX1vqrfNtlu5bDeonY0TVA2cPYE8C7EHLIqkdee+mr66T+bBHz0R2Tc87o32SnGuHXhupsMPsBzuFIzjRns3lWS47mjCTkjXfPdXImno/VHP0Z4CGkeG3PAK99IldjbBt56LWvtHm1nVX255purShM1IhbSffk0T4ndC1M1QpLpq5FTm0qWOtMrN3zyRVc8wAaN1qMk4x5ZqBMBWchG/2Pf8r1Q2DVCdkEmthDPaZ2kA6CNnC03OhgISO31V98Z74oR1qbJvmyvWkz9qbbot61Tkv/z6u9rOC3EyTo2bTpvQt9yz5LoqQ5U1+6td3CnupkynsssuLadf8Pyx5zcu7qi3LrxG7tE+coe9a6JN2XOL3o77o4g7AH6XNJinVlh3U/2a/CpuXv/rBixZLn8+VDjtP21j6Lnw19Qpv0SRhXxVT207bWsq/ar0YNqGnioCHNb+O9jal+e7vnvXT9acar1sXWTdfExmambM+HtRyjbcqHhb7vXKK8Wo+873+qv4taj9M1YEHGR9LHitEmtoXeeR/L+tvcpFMtK/ihXrvxyy7btRzSy6qlP5WxrX/aWAJ4F+z6GYi5VdcFRcm9SGdcxKhDa15mGe15tCDqWcpNc1wgrkGewtUcz5ntvAsMYvVoziiiTt59sJczef201tx5DHAt3hng5eREroozpiLGvx/3Xl7NnothnKVXzcyYI6Q7bU/HZOcjuR9lH5Yp61tv7+Y6az2r15Jyik2FDS68N1zwAJo3p7/EnbgJM/DE4VX1mweVgUqomChGoMh2mcB2cKX9l/XjfJ2Ya2Dkz2bSSznbvKpN7WFD6untrV7XHROxCpduy8miZYQ1yv49fUV7kjP0X8Arliu1jtYerHG6z7BNsw81P/a3egk5UXfLd8+CEX9Nv6+/X3gDyV5Wf7CR54cuKha0z+Jn44AUepo+6cdGoImPXXh29tb19bldj048TtnG0s2WG+1e/OHkgtjPZK3r6TlVU2ZQsVbkN7ZX48J+Gr9V+xI2qdDtVizHMbrmhPUNeSvapjfa7pBejS034twmnkd1CeBVsepnwq/tKR/qOV4dicSct9eoievVednU334e2rkLcDZHcsY4q9z7Rek7kDOKUb+XM+0ZyhkIz4AXh15OTuSqdx/s5KedV/vOxSCjn99BnlMfziTuv5fbyYbu+S5IY8d1wpCZa149d/VRGbPirJP3YtWuZOu8ruWnTp28hdMfQFPwtRejMzfgG37rXw3YO8hWhxTKuOQIKwHk2nJc2rtNCQZTd62jmfR2cRFJ7BWLhW1df29Cjxzw1kOELUO3OevUOnr6Cnt09NV07Fb7YpUVx4c2Q4dOX+PDJsaUzqssgyLHs8VTYMeeoKv/yId+v3cJtEiFsrbvpo/2mZmHgbCPbj5ZuqY2sfakzi2erdMaXrtlu7BH3+YDRvE4ZRtDt7WuGAzqmPBZR7/xON9mh2jWcOSLcWmMaYdcS7wY1Rc3a5weE7FsEdvatd3xO2x3TK/NLnqNKE/outGtTQAviZ9rIResdvu8tOWU83I2d7Y1LXm9O8LE/QHgFPbnTLqT6HPOPquO50zdnr+T6HNQ4OVMaDe+k5lnNcA98WI25aTX3s1VL67NnPXzas+5GHBrRcaqDZcRbNBdy7OvYleNkDJ7daxZ11sntre1a7NlWrP1kxdXt3PyA2gOwA6nbGLgSOGs5nEqkA0tgiroXsb5ARVkbw5K48pass/GHKN1NPc3EWwdu2zrSp0Flq2izGWuaLdk6DZnHa2vldhKj+lio/afLityPyI2xLiwx9Z2Vl/jw8Zuau8dv6zMjHkogyLk+TKS7OHnvhMrCzM5tdadxie+zzy5ItZMn1i+lXuLMoY6e3i2qOuTxN7LyOYDuv5cmLGNtRerxmhM2Wqfzpi5cZ6ND9Ks4cgX48Y6hH1Y/SJGFyz/6zERY305RsXYjbY7plch5/RCWcuSB/DO2DGfctCq7V7N0HLi5ybn+qznWszXlJsmU/kNcA17cybGp47Z0l7F7U05U9ri/Wfi/PRyRt1rZfvgXgVwKd7d8IbvLl5c65wd5FVYZ+ZcrNv9HJ2/A5+Cl/MVfX0T3l49Nple7bTt4K7T82Xenz33Onu/5gPowCAiGCyjWwGlxvUcsbVLPcwvdwpTrtbRPPySbbX9xJpegGU9y1w3QHVRqZBzLPvrNmvMQr03T984pmqP4yZiR9hN7jnh6LSzr7Ffsw8ly/VLhenz5yLs27bPwmCPbsxFkr3a/p5PKqy4VfbU68fPRqyLcaZP2ljQ+vX3Omb+kajTNxNzPUbzJ2xj+8+uYwJnr8Kurn5pzVX+lJ430qzhyFfjRnHinSdxXtVuyRnGULSfsou26Y22O6SXpurz7AHwtli50anNdk1ROdvLtw5Btp/3fl2PedupcwCnsjNnvHwQ580pOTN/dro54+3joH4AZ3LL/W5tEzFu54w858Z5NXUuVozPOqeWXEGwUffem/bRfx+ZGVNTj/fsZJ35vXXsvqbONnud+M54kGv+ESRBUv704hyTZCKorQMjz90MWnSsxsXElEaPSSTW1IGR5QidljHVP+ZhJqLW0dLZCoJmH0VHaevYVgdVnicCWsn68tHKqMe3+9C20J8zouClMZZuzR+Vzv5o5IXxRQ9LdqVjsk2RIf1Sxqf99/qMvUeda33T+MZeyi/f/fSh4k32Pxs6BjTtHis7WjG37Hm1d/BVFX+2PIdoO50/cq72WZIt9YmFuJZj+kT6Nsqp4jfJkGvV6PE2OtfT501X/VnHW7bnqkP6XNt2htb+i5zizwnbrDKULRo7B9ZYSD9bfteyWv0M+07qmdB2naRZw5Gvx1k5EXQoezT61/iq9ujaWMdZvX6WrWNsb/z3OKTX8rOI09C3js86CplVTNao/Ym4aPYO8KzofEuftxxQNcuI7VQztjwOudDP30WmylEtoyXp0eZU0pdcg/sxyhl9T2j7rfPj5pyJMns5VOjnjNQ9oGoAwMPQ54COTf15nKvNPTR+1t/3Bnk1cS7WdPNd3EnPRf9jvo3e4bO4/7b1wNxXz0YTMhubW2MCvXUC2pd6f008OOucxOs+gGaicaL8iuYgU0EViI4oc4JuQU81ToxJTorrrfJbZ237LRhBo4LN0nHbV7Gblhsw9rWQEqAap9eL9PVs+k2dU1/av13ImiKiE6AUvLJOCHTPZ3psGV/6G9lyD8V/q07VHgJC105f48NGX3vvm09bma3uz4ewnYOMvdmY2uwlbLSj6Il11xja7Kl9Vj5LfZX9TZ9o38qYDO1Rps6XTFx3Zl+92Mx2tNrKeLl+6DsWW64/p2yzUO2jbpdyF2p9nVzQPgx05QRm9YxYdp2gWcORb+mi/DzqDzLjnqsYcu2i40yvHz/X64b9H/Cxw1G94jyhVzVWx7l5Tixku5WLlcg71Qfw3Ixqu8rHbk2R55VE537VNzyzkh5tTqmaAnAXejmjzoNImxdbLJ+UM7q/psnpfs7IM/LAnQXgKow769ZvnFeDXA3Ie77Kjdm86p6LkpBfXk5FXQwdz0HZwqgD0hYLSpfUr/YWbNQ5w0cyIzN3gsE6Ab2WfWcYrHMSd3gABdhJLFRcmp+N3qFwG/OPKmcRL5CXHWJPRjiUvpW9AgAAAAAAABjwAApPR/wNwYWv/nCM6JdLHtJGD6D6t2IVB+PkW3oADX7jT7vB2eg/hbLBL68AAAAAAOD54AEUHkh4+DL+qPbyJZoHm2ck/69Apz8c8idAAQAAAAAAAOA6eACFB9P+6T4eP781eAAFAAAAAAAAgOvgARQAAAAAAAAAAADeFh5AAQAAAAAAAAAA4G3hARQAAAAAAAAAAADeFh5AAQAAAAAAAAAA4G3hARQAAAAAAAAAAADeFh5AAQAAAAAAAAAA4G3hARQAAAAAAAAAAADeFh5AAQAAAAAAAAAA4G3Z/QD6l7/8BQAAAAAAAAAAAOAhWG+WPXgABQAAAAAAAAAAgJfBerPswQMoAAAAAAAAAAAAvAzWm2UPHkABAAAAAAAAAADgZbDeLHvwAAoAAAAAAAAAAAAvg/Vm2YMHUAAAAAAAAAAAAHgZrDfLHjyAAgAAAAAAAAAAwMtgvVn24AEUAAAAAAAAAAAAXgbrzbIHD6AAAAAAAAAAAADwMlhvlj14AAUAAAAAAAAAAICXwXqz7MEDKLwPf/v18+vXXz9/tPou58fPX79+Xdb/+vnr36x+mOahfnxefvxtia/ffjT7XgL8+gR8//nLv75+/vmP740+i73jPc6SAwAAAAAAkLDeLHtc+wD67798/hkehf71y+f3Vj+8FN//40/3gS8+zjSPG+lLb5iz8efnL/++jSkyBZ1HnnZ8teadHljahyj95f5b/rKffR7tc9AOM36MtUXG0vmc6cf0QL7rcVzZYeoB9C52OciF+Xnr4/Cu+bv38Uz1YK8uZ+n+TDYAeB7knWaidsf6U8YbZ4rqt3Nu+4VtpFv7Uu7a93gpx83voBPfA+Bu5JgtsTkRe/08VPmy0MS6yrteLqfvSxlPt6mc6eUmwCPYc7YEJnJ1cOZ13wUEc+dVyE/dZ75VFK7IPyP/b9fBrxeje4he2/wuO/BTExsDndOa899nrTfLHhc9gO4/fOA1iAe39qf16JIToS0wSwJU82OAC3k5dpqimRPHai9tcc1rHlhq2seSoFu9/7QH98vAGxP9WdnGOkiGzPjx5R5Ak6xdD6Bxj5sd2rgz4AH0ELvmK7/McCgPLmFvTJ+VA99uTQTwSBf8rZbozw2xhlb1Pdai+lyp7kPlc3MP023WmIp8l7PvfXLej78p3fMYvgfA/UhnzXae688tTd7pPFs+i7vbROwnmfoulnWpc8GRPZUzXm4CPISdZ8tMrhq5KPNqmfObjP94n9fn6HTOhrk9nWuSvnNjJ9l9Zu7QwakXw/q36PRrLT/rKOqWMUeP0faOfnL3mGKnraE+1ptljwseQHMAR8UzFOf3oSkiRsGKY+aCNiaejo+QSKJtMsFjAqqidw927Pfd0Q894bMokjM8xI+p2O7WdZoQwztjJMRVlQfxsOhc4p+eR+Wnwqw5e1B+meFQHlzCjstSZO94j7PkALwL1pnTzxN9vpa24eNO1e/euczanPVZzq79d7Jqf82dDuAirFju3tFTLO/Jw8D4HtHKGM/ZkzNebgI8hn1ni9MnctXOw/F3IX22jvO51sU6Z02GObqXA2fmtA5evUjte+ufttGRu0nytR0bKZb+3PW2Yr1Z9rjuATQYOAZU/tkcC69IDMwctPXPpX+6eCxYBbNp21MInGS6lO7l6tvCKoqysE7wED9aX0bPJNRFHkAfkp8Kq+bsQvllhkN5cAnji41k73iPs+QAvAnO5b9Xn6y71ehciPKqfkuGd/6VuY1Oe+88s3c4gBvR8Z7onT+pb+8DwExMy1zbeQYO5Lu5CfAg9pwtgXGuhrnGOTP8LqFyeud5Ze9DszOf9zJ1Zs7r4NcLZauqrSdX28iyWWhr/Vvh3IHW9p1+s94se1z7d4DGIOUB9P1IBe3Pf/yS/1sHvVOwHJpkNAJ+rhgtWEWxxGDGTNDSrxLV66uTOupfxkTC+nbx0GNFwSm6x/0XOVX/izDjq8Zmuj6sfkxxto6r/WMWxmT3TbZhw9W+iairipFA8k3tR+9AKLlQ2pXOTu1LNtjn4zXulL4ijrRd1s/SNs0+lF1kLmx7Lzmx/izGJdb2LHPVb/VrNb6xvWUT5dfFpj+qutHoIvZT7KHkZFlBhrkXZZPW90dJMSIvHF4tLOvrWB/UExcrjrVdah9s4+V6rT792LfW7TEnS+gkxgA8OaH2WTHrtQdiTbDqezWmJtbXuj/lTlsrjPZKtq5NTa0a0dsTwImEs9w6Z7z2SMyT6tzTnw1iDhj3nw2VU6Nc1UzWgd25CHAJO86WzDBXY5wbeei1r4T745Zre3OkWysKEzXiJmbOzFkdRvVCyxnIjTJ0v65v+nNDuuO3dk7xsvm/J0NivVn24AEUjuH5dliYJCmR8hfYjEwIv3g26KQNuhiPIkVWKHLiAvO3X9ZE29XXJGmVwHlMnFPbSumSdP9z0fe1c2V0cEQ7qPho2kpsiXH5QaTYvbF5W0ybIp3l1rG0/Z0kab6MM+nH4cGhfbrQ+D1jHiADkp0qGwT0nrRdsk7iS3Cj57J3oaO2ZbbDv/6U9qn3vhLm5rX0Omp8skHtQ6st6WLtubZrtI0bG4v+/9jmW34U8wParnHMPn/5WLGm9BrsoYmrxqceVm2SPpCy0/hgiza3qnnG+pacWobLpCypU26rfQjwxFh1KGLW1YqcH7EGqvoZKfUx0Mi3a0+bn/Kz1jV+DrlWr2XpUgjjrL0CnIp/zjRnvEbE8uCsnzhv0xlZyYlzwud8p8m4Z6KbM/3cBHgMs2fLqL3K1ZiTRi7GXPLPG3lf3H9ehfluXmZmxtzExJk5p8NkvRjUv1TPcr9XR0d3E1H7bPsL/QZ+1lhvlj14AIVjeL5dD/mqLSdgCvrA1m8loyxeaW7vorESdTKK5UpdCPzi2+/L+tUFoElSNd+0iZITdZ9P9OfEOwAzbjFT9vJsUdtRyVoPuHq80Cet4ceRpbuOgzBG6lUfQOZh5O55PzIvNsTe9Xrxc7tvU9cKEZvZDq19DZsG33n1XuSnHyv12lZ9sNqFvoM64NYctV8/Vm7F3rvQq7eHOg8q5B48dEwbiLU936f15mN/Yt3MrKxGp17sATwZXm3r5X6cI/r8OhrJ9X/LJ2+8zE9dS8x6u8gRORj1ds46chPugn/O6Jhu+ur4FOeNosmplpSnan7Mj5A3bf6aspycGeUmwGOYO1vG7VWMe2dhJz/T2STnpDaZN73zKozv5Xfaq1MfzmJ4Zs7pMFMv4pjZ+hfItaz29e67SbnH1+tqf4/0UFhvlj14AIUDlEPb+F/gRwEb+7cAtw/vOnH8ItmgkyeSZKWLR2KVVeKzmdPv0wWl3bPSeZVlUOSYur8So2K30NmjsKk7LqyR7axsHudr22aiTsNCaunfxp70faVPKeZq7URv3XmauCsEe5Uc0vt09t3KMvRf+/0cjPlbyQly3Rio/drxR10TvD3ruiHHbXtxdVY1R8wfxsqt2Lki9ersIdox9TUYtpLYvoxrC1kl/2Z8v+naUuzoy5HcIKtTXwCeDasORep6LqjPm4pR3Md6Vvrt2lNyKrYb8rSusV42OnZy3N0TwJn4MRhi1oxNkR8bVn6Wc9K946znl5GPMa/a/N1VByZyE+AxTJwtRns3V414j5g5m9a3cmHveeXWisxdcm5wZk7pMFMvdtQ/gdDv4N1ExIYRPzu/i1lvlj14AIXd1MUkJokIUL+oRFSy2UkmZUwlekAlW6ubXdjSOPvSYvXF/dcPDU2SKhsMi8DCzJinxzsAM509Cpt642o7K5s3PtGouGuxdDdiudItxsa65iDuT8Dbo8gPHYtNbCZae8u9T++t8UnHxrVfHb0C9X6Cnta6Ys8Ltm3yhWihlqHnBsT80T5uxs4TSy9zD508GqN9meXXthP7932/2Wwm9mfz4wZZN9kF4M448Sprb4VXlzq1NBFyvPR7+VXGpP5057EJdcuuVV4dXgh7NcYDnI0dgymuzbupF5sqP6Pc7vlinKU1Xp5651aj11xuChkAd2N0ttRtiWGu9nKmzo04zr837j2vQrt/B/X2eTJeXYrM6DBZL7x1vLpUqO8j9c/NGNv3hWLr6CNDxxWvrlZYb5Y9eACFfUSf1gGdk6wOzl7iqETpfelfD/Nc3IaHu1i3KqLrmF7RmO9rimaT5ErWRBEYFpsXoXtwuHZQvmpirG7PNlKyvANuQ8XUVL8VE0VXpfOCd5ieRZRv7FGsq23s2LyeY/lM7sWygxwb+qIPevsXMe77o9ane3Gp2qW+CpVblkw5fxQrt2LL13sSdGJ/H8qXQa5eU9grjW9tK+V07R/px1DNYVnKzwDPzeyZk/HyfhT3cV6//o1kNHOUzERHd6vOAFyBFcu9M9OJfRHzoxxbmD239Lnv3XFmc8adD3Bndp8tw1y1zxSZa51zp7DzvAryfXnh3D56/95BN/+P69D4yPHPsK7U+nn1tef7iF0TV3p128B6s+zBAyjsIF3Ym8KQ/VwHcSxQEwlhJVmcq2Mmr9GsHRKkFEIhOyVWfSFJOhUZS7/4B4fqROz16eK70CRpGl/rmtaWheD7f/y6zVF2eVXCPv2Dw7ZDbKv9nX0t2qKNK9mNzVNsyguo9GOMNRWT2z9s0/rMbisx++fnnzpGtY6RRS+hUyLpss/fyXZSfrMnbZfGTokoK+ul7Z9k1ra07bAS/PWvXz9/XWwi1sn2WOuCinHLH41dDJuu+lU61/sJ64gDNepX+UrpERDzFyzd7H8EKdlGrDeBtnnSqWob7CHOV3sQ9cRF+TKuq+Ollp3GB91qfZr1DT/J2B/EUM1RWbVfVewJe6s+gEcR60yV17r+6c9N3VB3sjBexrXsr9u2cdYYidYzEHVpamZVE2pU/QK4Dn0+5DOsilWZR22/dX708iPlUHvPaqjPqEDvLJrMGSs3AR7D6GzRn8e52uRM/KzvrM65U7HnvOrm+73Ost46nb7uObzQ1ouZ+qdqm1G3ZE0NKF+HOfUaC+0cRVxnoq5mrDfLHjyAwiQ5SToFo+nLSRJjYEUGc0pWNUYlyUbRoaKOrRhvtQ4pAcvYkKyisCn9RMHr9MW9NsWi3pcu6olkI1tmq/trIuzr0Phc+7vYQvlAXBIbmwekv3WsRUpNygiZVV9qt/1YYsPcp9LZ8+nokLIocSftp2Rou5h20jEs8yrsK66h+n2/ZrvrOp9tsdrYinHlD/OsUDZd9avG6pyUuabtXO03y9DzI71YWQl73+fHhLT56le9p3X9dg3Z3/NPTetLEU9h/Wjvst42Xqw34Sep8yiGFEdk1fGlYi/qXnRWfQCPpJfnKTdlWz/vVV1ZMONc5dcoL3VtSui1pJ6CkJtWzQC4BHUXVGe7OA8ivbxp+zby3ao5rypU3IvzdsE9hyZzxs5NgAfRPVtSXlpta07oe/iCzBn1fUZ/h6gRsubPq1AfvDMx6mLoeDqd/O/pkGzl782uF6N7g/KR9d16oX830X5cGNkxxpK9loX1Ztnj2gdQAPim6B0cp7KzMMKVpMPzng9K9iH+AMIl5R6XIQAAAAAAABBYb5Y9eAAFgNPo/WbqVOJv/Tp/4gTuR3yMvqcv0oPrXR7aB4R4v+fD7xj9m9qKJ/lTIs1vgSuey5YAAAAAAPDMWG+WPXgABYATyX+U/tJH0Od5AIOLfREeV1Uspf/NgsdvAAAAAACAbxnrzbIHD6AA8BrUf7cM/9vxw1n/vperfdH8HT88fgIAAAAAAHzrWG+WPXgABQAAAAAAAAAAgJfBerPswQMoAAAAAAAAAAAAvAzWm2UPHkABAAAAAAAAAADgZbDeLHvwAAoAAAAAAAAAAAAvg/Vm2YMHUAAAAAAAAAAAAHgZrDfLHjyAAgAAAAAAAAAAwMtgvVn24AEUAAAAAAAAAAAAXgbrzbIHD6AAAAAAAAAAAADwMlhvlj12P4ACAAAAAAAAAAAAvAo8gAIAAAAAAAAAAMDbwgMoAAAAAAAAAAAAvC08gAIAAAAAAAAAAMDbwgMoAAAAAAAAAAAAvC08gAIAAAAAAAAAAMDbwgMoAAAAAAAAAAAAvC08gAIAAAAAAAAAAMDbwgMoAAAAAAAAAAAAvC08gAIAAAAAAAAAAMDbwgMoAAAAAAAAAAAAvC08gD4RXz6+fn79+GL2wQQ/fHx+/frx+cXqu5wvnx9fF/8tfPxg9X8LfPf58z+/fv7x03dGH8Cd+evPn398/ePz578afS7EsA+2AQAAAACA1+WSB9D4kJcfg2qe+mEoflnWOu/98nwb93wA/e6nP9ReE8/+eNfqXT143ukBtPWTfhh454eCtLe0/29p30fZaROzDlX88+fP76x5dyM99L/EI/8DH0BjnTrgK1nfJnSPNW+Lj91+2VUzyW+As9mb8/oO1Ob89svYiFWH9Dlj3DvH66R6sI5p1lF6LFA74D6MYrNlOg/DmenIG+dMQnxHFrLmc0au9ag/+AGgUTE8fNOYyNXBPVfnnZUP5ruUo1sYa+fdxNl6NcoWCbVfNWZ87u7bV7K3USMHfhqvo2Ihc9W94YIHUHsDAe8weAqsL8vRmRNfQk/i7g+gj0jew+TEaeyztJe26K9HPIAG3eo4STnwjpf9GDfV3uVB8b77vgX/MB3xjPZMOj11LS888AE01qKd9TVdKrb6pT836PPpyHkVbTRbM8lvgDPZm/Px7lHXFZ3z+WFzq88pZ8V9pakT6W5V5/VwHUOuNUecE1k36gdci45NIwcUTd5ZZ2mO3/h91jjbxzkTyLp4eTKZM3GtWt9l3Ad5BQ9HnyXt2SKZyFWdR01eLXM+ZD42+ZHbRmdPqgNhrj32y0cr06oFlxL2312zehMpn7s+2LuvJK+pbdovzV1kZp3kf1EDL+TCB1C50acnOksfVslBo6Q5ixgMnUP6TGKi3ztxJ7D1SjE19ENMwAfEnRM774jOh/B5K1aTfjqT3T5PxfteBTYgbbSHB9hzSNDpRWL9UF6eZPMQl7tquRWXPV3svt1nSLDR9DnwjPEI8KrszHmnnsU7U855O//DOmWeIz/KzufoxDpifMGZV/Os9054I6w7YTc2U07087DK1SBfx/BMzpTPO+O/mfOo7zkAA8z47sXrMFft82p8z9Vnq5XjikqXIH/qnmudgxeja8oMu+d09pV8/EdT7yybDf3UrFPfVa7nggfQFHgvV6CdA2ycaOdxz7XMQvUEuAV0RtdHXQyc2HlHdJELn/UhM3VwnMVun+uD8XqkjfbwAHsOCTq9SKwfysuTbB7i8oQLh1+nnYvC3nwI606fA88YjwAvyt6cd8bXOa/P50Sdt+nn9jyqzsWJdcwxsW1Qb4OM6XoDsJ+YP83Z2zu7rJzojLdieCZnujp0UOvd83siwB7s88f/zjXO1aP3XJ3TVo772Psw8PL+Qmyb9dk9x9tXaTfOestmw1rVrOP4+yIufACtud+GDmM41DuwolOdva0OjwlaxlgJouy0zLGCJQZuPU4fvKUQRP3LuLyeaJPJH+UOLqL71y77THbb5ur9y70nvfSchbyelVgmVlEUfhj4Utne66v91Ngorm/HjR4rirFry+ei74tt33KvVv63dcI6nHoxKPwT2Wwm5pU5KhYCdewFvYvMdY+9+FlrhordXl5l/1p7bTHiaF2z2G9bX4wLWPmg7d7TdZrB/pUN172v+rW1cJM9YMo/+nNP382WMvbafJTxV62jmfF52IflC689yjRqhNe+C88+Rpzlva1jte9Ev7SRmaMd6ror2hz/1eMAno5DOW/UmVgDU85bOSJzwsuPVINjjZpYJ3zWa9lrS2LOD8YA3EKIQ6v+e+0RFdvN5xorP2dyxhszQOZMladqHMBjSWdLG5te+0Suxpwx8tBrXwl5Uuear4NFt1aspFwcjzuX3WdorEF76o63r+ruYNUy3Tasd9Y62m/XcqcH0MD9NnUIw1npC5pMstBWJ5EeExIn7ldfDOsDM64lHZ/kGPPU+k1bDG4pP60X/ojyNk7rua4n0PuYWXtZR/z9G21Qy7VTf23DLz9t8+NYcbnYUbjqy0Yg2LkuFNnuRVbcT93/w8+r/3f1NbFTFYo8Js4xYmDdl2nL5yPsQxasmrTvEEut/yv7GPFvtUWbTcWgHNPE0CL75zV+2vhb/bXkjGgPOnXip3yWtS3bQMRwhZbRpY2jNH+Jk3/WezbGBax8UGs3cbmbXO9Frmx/j1Xj+6BrifGon/KnJc8j7Gfonzbu+v7Kn5dxmz1zW7VW2Fdtx7RPGYcrht01TcwWjPjutus976bnTx1ny1ihc5q79je6LPN/SnL7OerQ7Dnr2rTdsn+A+7A75xe8e8Q63qg16cys8jLKN2pgNW+4TqbIjoxqtqEbwLnoM2ojxmovRmNelHi2828dZ+TtXG6Gn8u5lbB0XWlyppxvW85GRrkHcDkprtv67uXkRK56Z2HMC/+e1+SiyrlRzoT5dl7Wch5zz4x7q/dh2aeuZUatahnvS9xXPPuvNc+TM1hHzE906+ONXPAAqqk2/MxF+qjhVSC0iVfGbEG6Jnc9RrcruRuqaDSX2YW8F1mIgh+2ce7lO3DD2lFus7cUA1EfV3ai1SutOXVp9orlSq2/X3z7fYb/mj2p+bG/1UvIsfz4dFR+NPvTvr3YLvbw4l/4b1cMStu68iPWHny9JZZfLXvIXDuOWi9grmmMCyjb1D5Yce08h53vhYEdvJh38mWM5Z9K/pS/nFgw4kxwhh2teuyt67Vf6k8nzirammbbrJ+jHiqegvx/fnx+LDqtPo1tzrkG8ETszvlMzJ2ljkXCfD0+17ky5uMHI2/jnDIm5FR7LvbXSeNrme5+AlmnXu0AuB3/jOqdObGvjt3eOdo5Y7o5s+ZcndttHq1YObPmdq2bc2cBuCvtGZLwcnIiV8WZU9HJz5SDxhxB0rVXD8ycFOS88868OzHc7+6z19iX9oNh/3j+G7WtjYfChP12676POzyAFsP4wfYUaIdGh3cOwLCflW3cmrj1eCF7IunDZy/xF4bjjODUwdi9rN6wdkpGm7L2OsaIh1Yv314Npt650FWssuL40GbstdMnbBBo7K10XmUZTPj7ORgVs4Dvq+jXuNeOP2s7duwxF//BvjoHAtY+ejHWiR8zzwJJXt9WMxh6mWs6+gvbpDH1PjasPczQs9vCKKbd/mDzWZ12+GfKXzO2rNvqtY/asVOPwxpeu2W7uMeOzbsM/Gn2pzZhh7U2bn2NzKhn6Ntns5D7RVawWfi5rgelrZ4D8IzsznmP4fiUh/3zaKLmVuts53k9xq4fceyS67efhwAj7BgM1GeHwDkzT8nPemz42cgxax03Z/K52bRH2UfPfYAzsL5bBbzzZyJXvbg2czZ/F5jNzSjDPvPcWtEwc7ZejW/HFafG+dT7Mvza2M65Pwzr0oT9LqxtPIAWjGRoD6bkLNkmHV9/GVsRsn2Hi7kdpw/HmYktg9g93AM3rG3u3yTbUsWFexmYKWpKnxR30g5BP10o0rigS7tnq6/ZY2PvtLd1nY49V2bGPByjEArUvis2m/ljhB1viMGV2Bd8V/vG2oOt0zB+zDwLjOw0i6GXuaZjU2Gbjt0Pk2S6+wzr9/LW851rV8lu/0z5a96WvXNgN44t4h6teurtZWTzLgN/attEneV4W99k3zDWtqvO0Q7r/oIueY7VZs0FeCZi7O/IeYfmPqKZqaeOLjX1OqLOOmPWzwO5AGdi50PnbFvPD6Pdil1vvIHQpXdmV+v0c8a5W87kOMClqPvhin83Hubq7D03jrPPJJ++XrOy9oy9irEO+7+fFJnpe1aoSQ7Bf9H+Rs2aqEtD3T3ZJ3D+A+gSmKI458AMhnp0kHQxHZUOm1VvyxFqXnBmk9AzY3LSDw9LfZBbh3RnL2VeDGrvEL9h7a5cC7WWOT+OMQ59jdBH6Vq12XE439f4r7GXkuXas8Ly4xPSL1Zp315su/YrBBsU398Qgxq5nsyDhPJX1dYd58XljL+nMPQyZVv651yqbOPa/Qa6Mkd2iL4z+qdyYdY/lfwpf9m2FDrF8Uq/0V6HzMZlv+9WH/fnyzXD2F3rd/w6rXexffjvek7ky90PdRvAs7M35w1iPhg1rSLmVjcv0prd/FPr2PmqdJ+q4wAnY8Vd73x24tT9LhPGz5wzTW6m/NC5KtaZyBnr3CXX4Bkwc6YXm1afyFX7PJTnz84zs9DRy8wxEzun74t1j1BEm+6pD4N96Xrq1ddhXRrbz63DJ3DJA2jzQhy4aAOnMePAOKZ2Vgq8+ku8eTHUsrONaqfHeUFWNTe1yeCJbbUtrQAz9yKTZBRUh9cuNhE2WIK8/MMni24fdWGJulYyTJml3ShKYX5ZS8xNidXas8iodKrGJ/v0+rKcen+NvdP4WlfLnt/99KFiwtj3kxH24R8Mad92bFd7i/ZScnJbd15pq2OwsX0Y087Z1mp902vz42dpyzpLHa34rzD26WPoZew3EPPZsPHQ7kHfVdegeyu7iyVziWWRK8I+y570P4LU+FPraDHrn2o/lk0af1mxsFDnZ5az+TDL8GzXjLfRNVn7tPGxrhnxc6VD+Nyp8SaW/Rc5SXdpG52LSb/Kluu8TKVPP0d7ZB3CP/JXjY/zl7Z1bWVzoeukPwCuZm/Oy7wxzpoltuv7VZqv6pLKy1Q3dT6O19E51Oo6m9MAZ6LPcOeusOZd2989I5xzdZgzgTC3zjXjnBrmTJxT53Rai1yDx5NiccsbHZv68zhXm5yJn/W9vs49g2WMeHcY5IyZh2Edlc+yjtyDxT7ibaLVIZzDsm61exVzjuyrqUHWHLXuzDrqbpLWue6ufsn/Ah83tSi9og+BZ8RwaCInZHFSTL6yt5B0wcnbvLh3vV9LtpCTHGzNTZfKbdzwQA2Ye0nBWAIpyu0F+MKhtSNprW2u1EXK1Xpme4e+Rr+qr6CSR+oj9Sg2FglZ9YuC1+lr/NTYO+kp5C3ovBD9ri2fC2G/hm3fYq9mnPVjpDCMwYVtrWI/JduM29SX8sH211z8BL3lON8+CzmuSh72MfRqYm2jsblbG6pxdX/oG9QEm7693Xwv+imd5mwTmPVPHr9+7vnLiQVtyyqGUnuQaful2HxmX8KHynfJjlZbGS/XD33dWHTx/Kltkz6XcaE96lP5399PP2Z6pD0rW2d/rDZWNo96lNje4Q+Aq9mV8zl2y3grv3vyEjJvzfN5Yh09Rq6l1hA4dRLgNPrnizgPIm28uudDOGuO5syCPLPrdXbkjLh/+GsB3J1uHqS8tNrWeDbugjJn+rkgcO+i/ftfGGvllM7dPffW09D7bXQY1zJd/3bvK/q4Pce1jbUNx+to3a+9K9zl7wAFgPfAOxi+SZxD4FUJh9NdfRsPcusL+kW8mb/6hIvEt7JXAAAAAACAMTyAAsA08Tc4j/it1zPyZg9qXz7uvJfRA6j6TbLgSAx+Uw+gXz4/rD+l8uQ0vyGu4E9sAgAAAADALfAACgA7yH9EnUfQb+xB7QL4E6AAAAAAAABwJ3gABQA4Ag9qt8EDKAAAAAAAANwJHkABAAAAAAAAAADgbeEBFAAAAAAAAAAAAN4WHkABAAAAAAAAAADgbeEBFAAAAAAAAAAAAN4WHkABAAAAAAAAAADgbeEBFAAAAAAAAAAAAN4WHkABAAAAAAAAAADgbdn9APqXv/wFAAAAAAAAAAAA4CFYb5Y9eAAFAAAAAAAAAACAl8F6s+zBAygAAAAAAAAAAAC8DNabZQ8eQAEAAAAAAAAAAOBlsN4se/AACgAAAAAAAAAAAC+D9WbZgwdQAAAAAAAAAAAAeBmsN8sePIACAAAAAAAAAADAy2C9WfbgARQAAAAAAAAAAABeBuvNsgcPoAAAAAAAAAAAAPAyWG+WPXgABQAAAAAAAAAAgJfBerPswQMoAAAAAAAAAAAAvAzWm2UPHkC/eb7//OVfXz///Mf3Rt/Gj799/fz6249m39Pwt18/v3799fNHq+9yfvz89etio4Vf/2b1w3HmYvTu/Psvn39+/fPzl383+uAmrqo33//jz5ijX//1y+f3Rj8AAAAAAAC8BtabZY+TH0DTQ0X8gmny7TwWmF/g44PJ1r5+GXe+6Mf+PY8Ahx5kXusBdLXZSvXgeacH0NYW2oZP+mD3UHJtiHbba58H2HMmlq58AD0QyzE3nuFh7wTdL6k3J9WH03Q7qI+ugeYvXKLswZgeJ9nqVPiFA7whMp8n4nuU26rfPDfLXbTQrWf57BZnS24byth+MTxeB+AsVHx27kXtd4qKet5kzkh52xk6t47KlwXv3uutA/BY9tb8iVwd3mfVmma+j9bRZ5qdU/H+v455zH10351hbl9TMlUNFH7Q9TGyyZmrf4HjdwbrzbLHnR9Av50i3X5Jzk6t2raAsIMt9u9w/rEviMlno8elSx4kdtHab20vbXf60m77trb7nE2/JXQsBxvO2+cB9pyJpUP5NkmUvTOWg87mwX9nTtD9inqzu546nKbbETstc36t8yDKUBeRGLtVXOrPMxzR7WqiThflG8ADSHfALc/05wady03+V/eh8nnpF2dnUw+MMTVx/FLz6rNF16Eso70X1XLz94OT6zqARMfZkbhTd87JnIl3gzp/mzzRtOtYjwq3rwNwD3ReDM6WmVzVudfkYsgHeWbG/BDfhcbrfP+PX4XM9iy25gzO6wvYe2cY78toM2yc2uq7xmKP3+SdYP93hmRTP15am/ew3ix73OV/gU/G7SXB+yG/JGcnqseJaJd//RkPOOvhIvZPOv44OgBtTvvSf4g5HVOC7k3AE4iJr4oFCEL81P4Ln8VFr8uk/6/Eiq0r/R5kGzWhS9Dx7Bw9klMn6H5FvXlsDTM4YicDmVt2ruze+0m6jXmC3AZ4COmyL8/Bfj7IXN/aerkt75GO/HiWWXU+j1/uqdYdVaDPivBZzzlyngDswYqxGN877moididz5khsWzmiSN8TqzHkEDwpTawGevFq9YlctXNveJ+dyc1hTQjnc9Xv7MM6k69j/52hRe0rz+/LtNZVBPsMalmDnmPJcOxuYb1Z9rjDA2gy3OwG3oU6QePPxv7XYhEd3AYwD6CZ2cTakSinsvdy9Q2iD4nwmQfQDkH2kcPk7Bw9klMn6H5FvXloDbM4YicDmVv6cpPZ68eTdBvzBLkN8Aji+dG5F6r2gD5HS1uvrsl7pPVlJ2B/wSlzezqt6P2EmqPnHDlPAHZgf2/ac87osXM5s/9+MamTyqOnu8cAZKzzqfd4Ns7Vg/dZdRYdqwlqbes8W5g6G8/iwJ2hRdvUqm/KNjPntmMfH8P+loyZtTPWm2WPyx9Ao2OMx713pxxSaf+28+qgjeNVosd+nbQxGMLYhLBrTA5dLFLxWecs8uQBugVh8VVC6rzOUet7lwJ/zLZe2vO2B7F+lQRh3FT8WInSs9dC0SGibO31rbZYfpY2C4T1jcQ2xgq7FN2jD4ucqv/FGfsw2UzaUfb17bnE/d8m4n9hKh6rWBJxEMm6rfmmdBdx1MoPlL0I2Z3DI47bdbgE9tt0at8RLduQdQNxbZWP3fwJuLnexsBYVzmnXqvWrc3/TK37oAYVjvg4rV/5xbkgue2zNPUpkOWJth1+UfPqvmLj1b7BnnG8zm8dpzfsEeCehLyw8t1rD+gccHJiJeZe3e/U/VzvRO5WsmMejmpTo7dey1sb4DzCeWDFmNfeEHOmPkdmcsbInxHNOjYx99b7xIF1AO5CypM2Nr32iVyNZ5CRI157JOVILXd/TUg6t/f4ds2ps/EsmjN20N5g7Cug96Y+Bzs1czTTOmT0mhFda/XnPtabZY+LH0BTIDZ/l8A3QAyYwd5l4mRbVUEmD778WQSMSnTzciyDJ8mo18kJIca1SbLup06CGMBVYTPWa9tyQP/rT1EQmyKyzPsl9qfxUwe+Tqiwdq1v1qXIapL6b8ua2Xa7+qLc/peMOEftr9Yl6f7nou+OAvJChP2LuFD8+JvME2kvx55GLoh8yzY+Eo9NLFnFOsuy1txkJflmnoS//mLVoz20a5r4mWCvTSMz+zZqld12nKhrJavZv7Zz+NzkZO2HVqZP2ouY+49t7a4cZa9hza5o9uiw1vCA1sP010K0h4yHXUS5Ur+kb/grXPz9jvdvx2GR3f59p/Uecm6puODvQoNXoLnzFLwcLuTalmqAkdMlV1W+yn4jj5bx+twqeenquuLVtU12wKp7AOdhnyeB2fM/jGvmD3MmxH/ol/HeW89cR9PcY/avA3Af0hlQ35sTXk5O5Kp3FjZ3wbR2yoe6PTCxTjWu5JS3D5Fr5aztno3ncezOMNpXpuwlImWVWpXu8/YY2RfQfpD49U/qa4+xsd4se1z7AFoM+g0W55hY8cuhv/8mmLO9SoDG/nVuOfjy2IyQoYqCTO4NM+n1OJVQaT9t4tU6eutJWfZ67tw83k3aGqVzS5KVEqr+uTdO9xm6NsVYzY/9rV5CTtS9XzBeF+9g7GDEjLSnYavJ+J+JxyaWrNiK67X7kuva8uMYlU8y3y+gZ1NzjPF5oalbBc8vBxA2nMmfhnZ//fEVg324cpp4mKjZtxL9U61pxWngVt9EuWp+s99AveeZ/dtxaOVHs4eg01l2BLgzbh3wcnghzhF9g7M156hd55cci4ScknJ0jevXrDS3qYlGfZiuwQCHcO41C3OxZ59ZkV7O5FiXZ6R990t01ilYubt7HYB7Ic+QDS8nJ3LVOwtjHnj5k/NhcMcM9GpC7GvWzrJjDqa5p97nBxy5M2isfcW2Wq6w77bn2obtXUSS+j0fOfUv17ejdwbrzbLHhQ+gm9HahHh/VqflQ9NKvjaYi81SUMX+4vj14DMoMoygHSe9M04llBuEYVxc319vSq91fzopOnI1ZhFIRbm21yor+8ZM4k5fYwuxv4DSeZVlUOSYur8D3qHYkgpmbZ9iD8uehq0m439qnF7DWrPxe2Imv6x8auvB7UzbtDCxb7cW7PD1CLFG1KHeQ4XQo5PrWuaAOLaRX/U17YY915pmcKafg32KPCtOA1EXo30WS64Z/1UMTO1/Pj/0env8CfBsuPW+zmdByK32vHFzvjCV+5VsQ15X1yWfm3NkIeRn237eGQHQ4txrFux4lOy7g1U5k8+6Jq6d3BytU+5tjbyd6wDcD6+2p5z02ru56sX18Eyr1zxeE6Zrxp3uod1zeLpuqX05ttzWSvZr9zg+y8M6lm28fdj2nr8zWG+WPa57AM2F+lstyrXjvcPMDIJit2Vu7C/BE9uNy2+NGOMVHR2UTnFQhWccyH6RsfRyi0pcN8TNtlcvWRqUzsnu0mZWgqVxYU2nCKi+xhaNb9QevSJeMzPmZRkVsNTf2rTYw7CnFQ+zcTYzTvvD8k/j98RMfln5NB3nU+y0aWFi314t2HNQjRBrWLZXzOS6r7dHslHM/2retO+c+Did2q/emsGGt8TWdPxXMTC1//n80PK0fwFeCqeuxVpi1ak6z5v2Xp6FnBzk4apLVfMcSn23au5GktOeBc65A3AS9jnvxWPNztgU+evcfczc7K8T9bfyPLJnHYB74sW1f/4Mc9WL64n7bH0/PFoT3LN4ZWfNuJW9dwYHMd6zZbVWz369vdt6efM8f8zb2Hqz7HHdA2g0nmW0bwMdMPGzSuQYHEbgxfZl7K+/1cHjHHw1qlj0gnZrd4JLJVqUZehar2GvtyASbC6Yhay4r8HeA0JnK5l6a8/3NftsirSSNXM5UfZ+N4LNXJ+L+KjalC+H9oxzRvGfx43iUftDfw44esh1bfmWbl49OITYY9Xm2TSTak9/366e0R7KRgcR9hnmT9rLKNfdeBih1m/kWLERmajZZyB8PR9vu7D2aPql3vPM/nfoq9Y7NV8A7o6VH3Y+RLw66NafTJzXq8tpzV59aHLN02XF28edaiJ8u0yfVZoQm6MxhTZnwpnVxLuZm511Rrm8ML8OwH0x72S92Bzm6o77oSDNW8+Z4To2Zq7VRLmzNeMMdt4ZHMS+HP8IX4YxzV17dJb37gCWzXrj5+4M1ptlj8seQGOALkrvcco70SZocm4daP4XuDJWyojjdeAsgbkGhk7oGNgycIpfNrlO0KmksPzZ6BPXV7Jy26aDvd6Pv8kEFAkayHtp9Azyy16EztmGlf3kHpZ+8Q8OpfFJz15fllP7timkaXyta1pb7vH7f/yqfCX734nGnzVx720caV9u89Pn9gtZmHNOPDb+aHzstC3I+LDlNzG04NeDPN7pMxnatOSv3qMcY+8xHUhS/9Rm+Tiuo/Y6Qtsnfq71WtjyJ8dDM17qY9ncZNlz+4/vbGtLOf3DeVizK6LcgY/1P2xVfCbk6djVsRA+74mlgJYZ6MRG0Wdm/5ZfTF816xlxWHyn7CJsa9kM4AHomq9rsv7c1ghZd8N4GddGXbbyT+e2wtRzVEt13Vlo9Qc4G+e+WMWrGYe9c3EmZ5zzqbkTddYJcpvxmtl1AO5OisUtV3Rs6s/jXE3nSJVr+lwJ+aDOoja/R+sseqmc1GdvnFO/C+R75L3zzjyLKz3l58l9aZs3d2Rtv9bG+g2nXSczqLO33BmsN8seFz2AZoMKA35bRKeppCzJXxysA1mQA1DLSEGVbBtpglYGTwqobXzwh9StDext3ha8ZY5c3wjudY8FpY+3np7X2C6wxdVKbT+ls5ZZ9r6uXWycETp1+hrfNna39xjnOTJb3d8LYXcDEVfBp9GmxR6WPVUsrHN0vB2MR8Mfm/9yu7mejo9OLKgY79WDON6rFQ59mya2PeUxM/uOKPsveLU+zN97Dlj2EbouSJsOcr3MN+tKi6xz0sebnNYGK5WvpKwFR4cod+jjUTwnevqHvibeR1j1qZNvtb+H+49yUl/Ry/SVuZ5RB9axmx7CtqoP4JHE2Czxq3Is5U6nZi/IXJ6py07OdIh6VOO0DjVivVg3qv6JtQBuR52T6iwR50EmxrhzNk/njIp365z11+ncJ/S5N7EOwEOo7nNtbKa8tNrWeDZyQ94h2zuv7LdlDNeZOavUmEfdIXfdGabO4Jl7g7KflqP87tXIfp1dmNLXxnqz7HHhP4IEz0pMnl4AApxMiLnLL2nmAwk8lnBoqoczeCDhokOOAAAAAADA62O9WfbgAfSbI73i86df4J4Mf+tzAnGNHb8tgjsQHqWf8JctzW+MK967Ni71nxwBAAAAAIA3wHqz7MED6Dvzt1/Vn7rLf8yZL8Bwd3LsnfIYFmSpP1WY/9g8D/sAAAAAAAAA74/1ZtmDB9A3p/mTTjx+wlug/j6SBR4/AQAAAAAAAL4NrDfLHjyAAgAAAAAAAAAAwMtgvVn24AEUAAAAAAAAAAAAXgbrzbIHD6AAAAAAAAAAAADwMlhvlj14AAUAAAAAAAAAAICXwXqz7MEDKAAAAAAAAAAAALwM1ptlDx5AAQAAAAAAAAAA4GWw3ix78AAKAAAAAAAAAAAAL4P1Ztlj9wMoAAAAAAAAAAAAwKvAAygAAAAAAAAAAAC8LTyAAgAAAAAAAAAAwNvCAygAAAAAAAAAAAC8LTyAAgAAAAAAAAAAwNvCAygAAAAAAAAAAAC8LTyAAgAAAAAAAAAAwNvCAygAAAAAAAAAAAC8LTyAAgAAAAAAAAAAwNvCAygAAAAAAAAAAAC8LTyAAgAAAAAAAAAAwNvCAyi8Dz98fH79+vH5xeq7nC+fH1+/Lut//fz4weqHx/Pd58///Pr5x0/fGX0dHhpXz82XjyXmP76Yfd8OB+MKAAAAAAAA7sZlD6Dxi3F+EPr69Y/Pn/9qj3t1vvvpj2qfFRc8Csw/Nlz0hTw+BKl91tzhIaS1d/UwdaeHqtYP2t7v/iCS9pds8Ep7PajrGXF1VIbKufHj+vYQH9mdk2n+7CP+2z2AHvLT8RyI9eyfP39+Z/R5lLPVWy/0P28+7osvk7/+/PnHG98pAJ6eUCen6tat5xHAVczGphqnsM6y8Rmc7gzWXP0dp3dWPvdZD98me2t+/j5Zxlvnyq7vQXl9tW65NwvUmFHudd8f7sRuHZTtvPc4KVePaWtgU3fivVyOsdaSfujf45NO1931L3gAVcE8udFXJTqoSdhig3P3HANn6gJ5/Av5PCkh+oXoTOyiFttL26HHi/20fgi61b6+h/0fR4z5av+vcwk76Jcz4ioeDjtlxHWruNKfG1KObPvTn2dINprN6/ma9CIc8vUN+R7WO/gA6un53Pm4L75MeAAFeAz1l5xh3TrjPAK4ghNi07gr1I8Inqzt/DbOwSW/Pup5Od96DzHkEzwPe/Mq3Qe37xD688LO70FrbqjvJaN7cczL+kxr1ll0+5BnXsrlG78b7mK/Dl8+rBol7ZfaqnGGzUUNynVJ2DO29WzR+rZZV5Bip+frWzn/ATQaTiq9Fvx3+qKciQ50LoJ95746KThv+iI7TUqc4UEfY+8B9o6Jf12SPhv6IAmf7xMHtzIZR5oz4irEyK6HLlvXWEudOmrWot26h3XnY7mnz7fDXFy5/tlpv2jzxUfxIcKYq/PzudgXX3MczGsA2EF15wt1a3CenXMeAZzP7bGZzhxx763me2fwtq4x36GRNbEOwCPYnVdWn/g+bd/t4h3YvDeHM2q5Gy9zZP8g35zv8HE/3fv5Pd9BPPbqoG1q2ca2e03j6+BL7fsaJw76tTJ8z7nubeX0B9AYmPqLWdx4aHeS4IUxE37lGZLjKu64t1FiFZwEuxweQF8kxsdF3eSMuNr9AJoO8iamOrrYB8mRw3E+lmO9714QvgXm4sq9HO60X7F5lGf41o6DZ2FffM1xMK8B4BgTd7JzziOA87k5Ngd3wvEZnM6smbV6sp77rIdvjb15Fe+wzf23vs/t+x5U1g//lXIH+Ra/wxv5PMjzPXl8Hft1kH6y5tc+qNsr9B1gdCdw+s3vRcUfF7+tnPwAmozWfilLCXDlH2V9FP0H0BRoMhGLLTLG3DhnHbMl30jWZnM7eMsX5hW19io/Jn0Z5yV/W9TK/HWdVdctLlyZYk2pe5DbTcRClKFkd+QGhK2Fbf2+1U7Lz41N4/pz9hc5UnSPCV/kVP1PxIw/hO30XtY9JlZZa7FT8dLJr5ZerGm/bJ+lb1SdWuNK5ltjg0GsbSQ5fv9COQBm2/NeZN3tte/D82edC4me/QNezVoQcTFxVqzxotuc3BKfNx2EH/TYiNQ57Ffu24ujIkfbZMGM6Ym4WNjWLnKlvqG/kaH23Oxx3XfHP5GRf48xii9xptR+FzGTGNkPAG4k1IvuuZzqxFXnEcBxbo3NNK53zphnsGBurXTu+WfseB2Ae7E/r7z4Xdvj/c6If6u9uruXe+M2Z5Bv9Z2ybje/D9SE+/LEd5VL2auDYQu9z+G+c22qbTy6EzgyoxwxL+m3+f86+/IAeiOt84z+EiT5y1ptm5io6/xsv1reMqf8nTAyqZNNhayfpJy6sMS5Kvh0W/pcr5HbzP0Z68exf8i/wyaPq3XRh7r+LOcYyeqhEyzYu05QZf+or0jgn9f43NXXJKljf+VXEQtR9z8WfS1bPxdhL/XeJP0YTvvUcZN9lm0i64Qhr8OXD1ljpN21X7LsNdbSnBSPlZyss4it7K91TNC9E2uSNicadCwXoly5x0Sbj4k2FvfR96fOhb79jZpRalazr2Xdnyp7mrR7S74z2rKO/VqzfNZ2z3601tj2bcVRbqtsE+d143giLhaEzQ39dH4mfaVfmraZGDf0a+25l4n40meKFSsqDgDgQkJtmKhl559HALdyY2zG86d/5ukzuCWtZd0P1/tFoLo/WIzXAbgXe/PKz7f1jjv9PUiuvc5f56T+Na8CKrfSXVPeQ9P3UT/XmzkPYK8O7p19/Q7Q33Mk26b2tahbEfmdo/hb2L2sWekf5ZTPjZ/PhQfQGxHOMqgTMfzcJHvt4MGlspbVDwxVWNyxcpyZSHGulQxtsbPmR/uoQiPnhp9b3Ta7Jh1lPDl4xXKl3q+ykTtO9yk/BBr7qvmODYWcqLvnz2ei9bugG8MDX0Y7Wf12jEwhYkL7NX1u4zP5Zh1n+qYfI+P+AV4su7ns+eUEPWZrkkW9D1f3BW+/A2R9SXv9+Kh1zm3RLqNas3xWenj7k+1pjWackjU6K2bROkW51b5E7HbyVciJutoxXuZKWxcG9WBEWHcUX7p/VG8B4FoGeXvZeQRwM7fFpn0OSuQZbCHPVpd4LvvjxusA3Iu9eeXn23o3VXfoFXEHbOWIu61J0lWPifNCeyCcb97669j931nOZK8O+rtCIcqpz/Ped7XYN6479lrJV6uNF/vHcWVtbe+eHifAA+iNCOcZhMBKgaIcL0h2iUHYSVrdn4LfmqMKwiiJ83xzfTcA22JnzV91NIhzczJZ/cmubXFzMfdZYm9D2iW0Gbbp9DX7bGxk2X9bX1DkdHz0PHgH3IYZQ4VRMXP7kz1769akwlvbudhVx5IfW1FG1zfW3E6s7cWLh2gjK0483+yznabrzwWr37d/VQ8amUnP3TYT9gg2WH4WcZTb1rFFJ4V5APvxIfftjFM+HJ0Vs7Q2z3GXZYf+VRc3p5Q+EzG++s7gnvHV7sn3EwBcQKgX3Vp2zXkEcDu3xKY3VyLOYJMdedDJtfE6APdib17597Y1rs176UJ177fu1aN7ZaRzN14xc0/et8X4u7FXh2TrkS3rdsuu5bvdVN1amPFDlBnHGPEz46MbuOwfQRJBHYPYMf6LYwXJRnBocZ6f7IXRYWYHUwnsuk+t5RWRhVqmKd8NwDZYrfm2zhUTAd63cYXaZ0pWKTvoo21cktqykdXX7KnZw7z9V2bGPAVGkaqw7LviFFrZPxdrNmlc65uyps5BPyeFj03fyLmzsTaNZ4ugi5kL3l7qGrSf0R5kLozsX0i6yppVyDIW5myXZMXYCLaJ8qy25Wc3viqErys5apzct2N7FTfTdWyAXDsT10o6CJ919iz0Ubom5L7MdW9E6GpgrtnsybE/AFxDqBfdWubl5G3nEcDt3BCb5jnZMjrXig7jO+2CeYdKjNcBuBf788q+U1a54d1f1/Nn+75g08vncb43+kV9Hpxzu3XINvLu7t5ZrmpdtMVE7auJ3zG63xm2mNneWhy6co5x+gNoMlpQuBgqbfCqDTya3pdanTx2sm+MviB354tCoQqRV0TqQrN8NuW7c1NS1Qe4NX+0J0tOQ0744WVBJKzcW0LZRTDf1+yzsZGS5dqwQhWbZybs37bTyN8DX3t+nrFfwCrkRkxsuqfPbU6pcaZv6jHp5/lYm8Ge36sBpu1vjKtdNWlof0XPrzv0LvEY/lt8EPVe9KrbpmqNWte2d/LN1u74Wska18I5bJ1y+7Lex/LfTRd/z2H8Os60t9zXWfrX7IqvwqjeAsC1hHoxqAVmbu+o6wBXcTQ24zzj7NWIs9UknVndu0ihk2vjdQDux+68svrE/c6+25n3wopRf2SU78330We4Z+7XYWgLxw7ClyNbmUzoGuV2vtvPfvc/yPkPoPkLl3i5jew13mtgJnyxgW7PCSUDYhm7BmeeVwfrMsf8B0eq9vLZ/5Nuea7yQWyrdDQTxQ3A9ou1nWjGnoJ+1T/2E22o11gSQ1wOYqIYyRT0K7JFkiYb1OsmGxQZUocyPq3Z6zP22dgojR/Z/7ufPrY5hwrMYwh7afyw0o9hy9ftP4JU28GKHwddTBt52i/pc4iJJo5rHUzf1LKyHDfW6nmBtCffhhm9rrO/TXedk3qdpGe91zF9f4pcGNm/mrf1575lrtAryGrqqkMc+8cmKxBlL21Lex1rw1oT96BtbsVHbRMdVxlTVvW5YS4uhM0F2VdKhrXn1DbSTe/LiIUwZq2VF8dX1a/PpGZcHLPpEvtLPKk+ANhJqBfO/XbLq5Tb+vOovgFczyA2zTNi/nwL500/zm1Z+h+RHJ1V43UA7smo5uvP+o6ZPou7nHmPVnmisO6D4rtHo0eYU99/U397p+zd3+/AhA7ybh/20beVaXNVd2bqjLSf8R0jrFO/q+Q1unLjmJH+x7ngATSQDRoCKPLgoLmQ5OR6r4GOw7LTt7HaNsp2nQdKuXa9ZpKhA6vRtQ74haZoBNwATAWiPpjN+ZFcTFZaeSPdEjquFupLePMlXq4bdBWJrHwh7NXpa/bZ2Mi2f5znyLQfIJ4TYUMTP4Yjca9b/xpDqx2l3/prSUQchXWjzGJX7Zfts/CNqa+dp5usQawJ0tiZffk5vpBjtM7BbkzHdY/EmO9PnQt9+/f3I/Njj57Z9qJmZJ21Lxe6tcbytRGvct86Fup5tazKjoZes3GhbS7Iutq65LWt9a19m/uScS59eH18RdY6odvS/Kivyo0op8hVfQCwk1AvdA2x8qrKyzU36zkAj6IXm+YZEc43de44hPOmH+vpzGvPoN752jJeB+DOdGu+dcdVMW/cbbvfgwyse2Nsq9Zpcm90Vuk7dI13Hz+bCR2SrfI9XO1JIM5vdQdf2OzT9m1UvtBr6ftBQOnf1j9FlDlXc49w0QMoALwrl126Li52LdYDzxsTDp97HdRvjnXB+uYhvgAAAAAA4InhARQAdhF/w3TFQ8fwAVT/drzC+m3TkG/rATT4bfgbt2ej9xvMhz22pTh8OVtezEvGFwAAAAAAfDPwAAoAO8l/JP7sByj+BCg8Gz98qPjIsX/owR0AAAAAAAAeBQ+gAPAc8AAKT4j8+4d4/AQAAAAAAHhFeAAFAAAAAAAAAACAt4UHUAAAAAAAAAAAAHhbeAAFAAAAAAAAAACAt4UHUAAAAAAAAAAAAHhbeAAFAAAAAAAAAACAt4UHUAAAAAAAAAAAAHhbeAAFAAAAAAAAAACAt4UHUAAAAAAAAAAAAHhbeAAFAAAAAAAAAACAt4UHUAAAAAAAAAAAAHhbeAAFAAAAAAAAAACAt4UHUAAAAAAAAAAAAHhbeAAFAAAAAAAAAACAt4UHUAAAAAAAAAAAAHhbeAAFAAAAAAAAAIC34H//7/8N0MADKAAAAAAAAAAAvCzWgxdADQ+gAAAAAAAAAADwcuhHrv/1v/4XgAkPoAAAAAAAAAAA8FLox09rDECBB1AAAAAAAAAAAHgpyp/45PETZuABFAAAAAAAAAAAXobypz7DA6jVDyD5t8//H5sGGTclWSc+AAAAAElFTkSuQmCC)"
      ],
      "metadata": {
        "id": "_p8yvG1G4dOA"
      }
    },
    {
      "cell_type": "code",
      "source": [
        "#!pip install optuna\n",
        "# optuna로 optimaze할 수 있으면 해서 파라메타 구한 후에 그걸로 fit하면 더 좋은 결과 가능\n",
        "# 아래에 예시 작성했음."
      ],
      "metadata": {
        "id": "ICLRoW-NYTtM"
      },
      "execution_count": null,
      "outputs": []
    },
    {
      "cell_type": "code",
      "source": [
        "!pip install optuna"
      ],
      "metadata": {
        "id": "KKmcGnhTs5Mf"
      },
      "execution_count": null,
      "outputs": []
    },
    {
      "cell_type": "code",
      "source": [
        "import optuna\n",
        "from sklearn.model_selection import StratifiedKFold, cross_val_score, cross_validate, train_test_split\n",
        "from sklearn import datasets\n",
        "from sklearn.metrics import make_scorer, accuracy_score\n",
        "from functools import partial\n",
        "\n",
        "def objective(X, y, trial):\n",
        "    params = {\n",
        "        'booster':trial.suggest_categorical('booster', ['gbtree', 'dart', 'gblinear']),\n",
        "        'learning_rate':trial.suggest_uniform(\"learning_rate\", 0.01, 0.02),\n",
        "        'max_depth':trial.suggest_int(\"max_depth\", 2, 4)\n",
        "            }\n",
        "\n",
        "    model = LGBMClassifier(**params)\n",
        "    score = cross_val_score(model, x_train, y_train, cv=2, scoring=make_scorer(accuracy_score))\n",
        "\n",
        "    return 1 - score.mean()\n",
        "\n",
        "f = partial(objective, x_train, y_train)\n",
        "\n",
        "study = optuna.create_study()\n",
        "study.optimize(f, n_trials=100) #n_trials이 반복 횟수\n",
        "\n",
        "model = LGBMClassifier(**study.best_params)\n",
        "model.fit(x_train, y_train)\n",
        "y_pred = model.predict(test)\n",
        "print(\"best_trial - \", study.best_trial)"
      ],
      "metadata": {
        "id": "ghHIi-dAZQtn"
      },
      "execution_count": null,
      "outputs": []
    },
    {
      "cell_type": "code",
      "source": [
        "from lightgbm import LGBMClassifier\n",
        "lgbModel = LGBMClassifier(booster = 'gbtree', learning_rate = 0.01401744797513704, max_depth = 3)\n",
        "lgbModel.fit(x_train, y_train)\n",
        "lgb_pred = lgbModel.predict_proba(test)\n",
        "\n",
        "print(lgbModel.score(x_train, y_train))\n",
        "print(\"lgb_pred - \", lgb_pred)"
      ],
      "metadata": {
        "id": "KsMpIRpECfHG",
        "colab": {
          "base_uri": "https://localhost:8080/"
        },
        "outputId": "b83902b4-221e-4ff4-8e36-355066a0e4e9"
      },
      "execution_count": null,
      "outputs": [
        {
          "output_type": "stream",
          "name": "stdout",
          "text": [
            "[LightGBM] [Warning] Unknown parameter: booster\n",
            "0.8235301038035145\n",
            "lgb_pred -  [[0.79956328 0.20043672]\n",
            " [0.81749419 0.18250581]\n",
            " [0.77952898 0.22047102]\n",
            " ...\n",
            " [0.75244197 0.24755803]\n",
            " [0.82020146 0.17979854]\n",
            " [0.84196836 0.15803164]]\n"
          ]
        }
      ]
    },
    {
      "cell_type": "code",
      "source": [
        "#전처리까지는 끝냈는데 이걸 어떻게 적용시키는지를 모르겠어서 제출을 못함\n",
        "import pandas as pd\n",
        "submit = pd.read_csv(\"sample_submission.csv\")\n",
        "\n",
        "submission = pd.DataFrame(data=lgb_pred, columns=submit.columns, index=submit.index)\n",
        "submission"
      ],
      "metadata": {
        "id": "0wx04ceJBcyM"
      },
      "execution_count": null,
      "outputs": []
    }
  ]
}