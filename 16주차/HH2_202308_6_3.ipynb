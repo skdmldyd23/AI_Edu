{
  "nbformat": 4,
  "nbformat_minor": 0,
  "metadata": {
    "colab": {
      "provenance": [],
      "gpuType": "T4"
    },
    "kernelspec": {
      "name": "python3",
      "display_name": "Python 3"
    },
    "accelerator": "GPU"
  },
  "cells": [
    {
      "cell_type": "markdown",
      "source": [
        "## 1. GRU\n",
        " - Gated Recurrent Unit\n",
        " - LSTM의 복잡한 구조를 단순화: 기존 출력/입력/삭제 게이트를 업데이트와 리셋 게이트로 정리\n",
        " - 속도 개선, 성능은 유지"
      ],
      "metadata": {
        "id": "BH6HbGyAdgWR"
      }
    },
    {
      "cell_type": "code",
      "source": [
        "def make_sequence(time_series, n):  #시계열에서 1부터 n번째까지 선택해서 x로 지정, n+1번째값은 y, 이런 식으로 시계열 값을 계속 윈도우 n크기로 슬라이딩\n",
        "    x_train, y_train = list(), list()\n",
        "\n",
        "    for i in range(len(time_series)):\n",
        "        x = time_series[i:(i + n)]\n",
        "        if (i + n) < len(time_series):\n",
        "            x_train.append(x)\n",
        "            y_train.append(time_series[i + n])\n",
        "        else:\n",
        "            break\n",
        "\n",
        "    return np.array(x_train), np.array(y_train)"
      ],
      "metadata": {
        "id": "XWmMNuQ_wo7a"
      },
      "execution_count": null,
      "outputs": []
    },
    {
      "cell_type": "code",
      "source": [
        "#구글 트랜드 특정 검색어에 대한 검색량을 다운로드\n",
        "#GRU로 피팅\n",
        "import numpy as np\n",
        "import pandas as pd\n",
        "from tensorflow.keras.layers import SimpleRNN, Flatten, Dense, LSTM, GRU\n",
        "from tensorflow.keras.models import Sequential\n",
        "\n",
        "trend = pd.read_csv(\"multiTimeline2.csv\")\n",
        "data = trend.search.values / 100\n",
        "\n",
        "x, y = make_sequence( data, 3 )\n",
        "\n",
        "x = x.reshape(-1, 3, 1)\n",
        "y = y.reshape(-1, 1)\n",
        "x_train = x[0:40]\n",
        "x_test = x[40:]\n",
        "y_train = y[0:40]\n",
        "y_test = y[40:]\n",
        "\n",
        "model1 = Sequential()\n",
        "model1.add(GRU(units = 8, activation = 'tanh', input_shape = (3, 1))) #units: output의 dimension, relu대신 tanh 사용\n",
        "model1.add(Dense(1, activation = 'linear'))\n",
        "model1.compile(optimizer = 'adam', loss = 'mse')  #mean squared error\n",
        "model1.fit(x_train, y_train, epochs=10)\n",
        "\n",
        "\n",
        "model2 = Sequential()\n",
        "model2.add(LSTM(units = 8, activation = 'tanh', input_shape = (3, 1))) #units: output의 dimension, relu대신 tanh 사용\n",
        "model2.add(Dense(1, activation = 'linear'))\n",
        "model2.compile(optimizer = 'adam', loss = 'mse')  #mean squared error\n",
        "model2.fit(x_train, y_train, epochs=10)\n",
        "\n",
        "print(\"GRU - \", model1.evaluate(x_test, y_test))\n",
        "print(\"LSTM - \", model2.evaluate(x_test, y_test))"
      ],
      "metadata": {
        "colab": {
          "base_uri": "https://localhost:8080/"
        },
        "id": "iJMjtOUhvcK1",
        "outputId": "1c85e33d-ff88-43a2-95cb-fa3f87f85abd"
      },
      "execution_count": null,
      "outputs": [
        {
          "output_type": "stream",
          "name": "stdout",
          "text": [
            "Epoch 1/10\n",
            "2/2 [==============================] - 2s 9ms/step - loss: 7.8620e-04\n",
            "Epoch 2/10\n",
            "2/2 [==============================] - 0s 7ms/step - loss: 8.0505e-04\n",
            "Epoch 3/10\n",
            "2/2 [==============================] - 0s 6ms/step - loss: 7.9856e-04\n",
            "Epoch 4/10\n",
            "2/2 [==============================] - 0s 6ms/step - loss: 7.5439e-04\n",
            "Epoch 5/10\n",
            "2/2 [==============================] - 0s 12ms/step - loss: 7.4045e-04\n",
            "Epoch 6/10\n",
            "2/2 [==============================] - 0s 7ms/step - loss: 7.3024e-04\n",
            "Epoch 7/10\n",
            "2/2 [==============================] - 0s 7ms/step - loss: 7.1204e-04\n",
            "Epoch 8/10\n",
            "2/2 [==============================] - 0s 10ms/step - loss: 6.9417e-04\n",
            "Epoch 9/10\n",
            "2/2 [==============================] - 0s 10ms/step - loss: 6.8175e-04\n",
            "Epoch 10/10\n",
            "2/2 [==============================] - 0s 8ms/step - loss: 6.7722e-04\n",
            "Epoch 1/10\n",
            "2/2 [==============================] - 2s 9ms/step - loss: 6.2685e-04\n",
            "Epoch 2/10\n",
            "2/2 [==============================] - 0s 7ms/step - loss: 5.5115e-04\n",
            "Epoch 3/10\n",
            "2/2 [==============================] - 0s 7ms/step - loss: 5.0456e-04\n",
            "Epoch 4/10\n",
            "2/2 [==============================] - 0s 7ms/step - loss: 5.0198e-04\n",
            "Epoch 5/10\n",
            "2/2 [==============================] - 0s 7ms/step - loss: 5.0443e-04\n",
            "Epoch 6/10\n",
            "2/2 [==============================] - 0s 7ms/step - loss: 5.0550e-04\n",
            "Epoch 7/10\n",
            "2/2 [==============================] - 0s 7ms/step - loss: 5.0462e-04\n",
            "Epoch 8/10\n",
            "2/2 [==============================] - 0s 7ms/step - loss: 5.0257e-04\n",
            "Epoch 9/10\n",
            "2/2 [==============================] - 0s 7ms/step - loss: 5.0116e-04\n",
            "Epoch 10/10\n",
            "2/2 [==============================] - 0s 7ms/step - loss: 5.0001e-04\n",
            "1/1 [==============================] - 0s 346ms/step - loss: 0.0093\n",
            "GRU -  0.009297375567257404\n",
            "1/1 [==============================] - 0s 363ms/step - loss: 0.0137\n",
            "LSTM -  0.013743762858211994\n"
          ]
        }
      ]
    },
    {
      "cell_type": "code",
      "source": [
        "!pip install -U pykrx"
      ],
      "metadata": {
        "id": "kFt2bxbUdoMr"
      },
      "execution_count": null,
      "outputs": []
    },
    {
      "cell_type": "code",
      "source": [
        "import numpy as np # linear algebra\n",
        "import pandas as pd # data processing, CSV file I/O (e.g. pd.read_csv)\n",
        "import matplotlib.pyplot as plt\n",
        "import seaborn as sns"
      ],
      "metadata": {
        "id": "Q_REfW0Ldge2"
      },
      "execution_count": null,
      "outputs": []
    },
    {
      "cell_type": "code",
      "source": [
        "from pykrx import stock\n",
        "\n",
        "stock1 = stock.get_market_ticker_name(\"000660\")\n",
        "stock1\n",
        "\n",
        "stocks = stock.get_market_ohlcv_by_date(\"20210104\", \"20211231\", \"005930\")"
      ],
      "metadata": {
        "id": "OH1CWnKDdpeu"
      },
      "execution_count": null,
      "outputs": []
    },
    {
      "cell_type": "code",
      "source": [
        "stocks"
      ],
      "metadata": {
        "colab": {
          "base_uri": "https://localhost:8080/",
          "height": 455
        },
        "id": "c-8qjuzahhRu",
        "outputId": "554b09e4-0556-444f-941d-18d6852f1785"
      },
      "execution_count": null,
      "outputs": [
        {
          "output_type": "execute_result",
          "data": {
            "text/plain": [
              "               시가     고가     저가     종가       거래량       등락률\n",
              "날짜                                                        \n",
              "2021-01-04  81000  84400  80200  83000  38655276  2.469136\n",
              "2021-01-05  81600  83900  81600  83900  35335669  1.084337\n",
              "2021-01-06  83300  84500  82100  82200  42089013 -2.026222\n",
              "2021-01-07  82800  84200  82700  82900  32644642  0.851582\n",
              "2021-01-08  83300  90000  83000  88800  59013307  7.117008\n",
              "...           ...    ...    ...    ...       ...       ...\n",
              "2021-12-24  80200  80800  80200  80500  12086380  0.750939\n",
              "2021-12-27  80600  80600  79800  80200  10783368 -0.372671\n",
              "2021-12-28  80200  80400  79700  80300  18226325  0.124688\n",
              "2021-12-29  80200  80200  78500  78800  19794795 -1.867995\n",
              "2021-12-30  78900  79500  78100  78300  14236700 -0.634518\n",
              "\n",
              "[248 rows x 6 columns]"
            ],
            "text/html": [
              "\n",
              "  <div id=\"df-d7fbdd8c-a6f3-40cf-aab4-1d82a60a6d2e\" class=\"colab-df-container\">\n",
              "    <div>\n",
              "<style scoped>\n",
              "    .dataframe tbody tr th:only-of-type {\n",
              "        vertical-align: middle;\n",
              "    }\n",
              "\n",
              "    .dataframe tbody tr th {\n",
              "        vertical-align: top;\n",
              "    }\n",
              "\n",
              "    .dataframe thead th {\n",
              "        text-align: right;\n",
              "    }\n",
              "</style>\n",
              "<table border=\"1\" class=\"dataframe\">\n",
              "  <thead>\n",
              "    <tr style=\"text-align: right;\">\n",
              "      <th></th>\n",
              "      <th>시가</th>\n",
              "      <th>고가</th>\n",
              "      <th>저가</th>\n",
              "      <th>종가</th>\n",
              "      <th>거래량</th>\n",
              "      <th>등락률</th>\n",
              "    </tr>\n",
              "    <tr>\n",
              "      <th>날짜</th>\n",
              "      <th></th>\n",
              "      <th></th>\n",
              "      <th></th>\n",
              "      <th></th>\n",
              "      <th></th>\n",
              "      <th></th>\n",
              "    </tr>\n",
              "  </thead>\n",
              "  <tbody>\n",
              "    <tr>\n",
              "      <th>2021-01-04</th>\n",
              "      <td>81000</td>\n",
              "      <td>84400</td>\n",
              "      <td>80200</td>\n",
              "      <td>83000</td>\n",
              "      <td>38655276</td>\n",
              "      <td>2.469136</td>\n",
              "    </tr>\n",
              "    <tr>\n",
              "      <th>2021-01-05</th>\n",
              "      <td>81600</td>\n",
              "      <td>83900</td>\n",
              "      <td>81600</td>\n",
              "      <td>83900</td>\n",
              "      <td>35335669</td>\n",
              "      <td>1.084337</td>\n",
              "    </tr>\n",
              "    <tr>\n",
              "      <th>2021-01-06</th>\n",
              "      <td>83300</td>\n",
              "      <td>84500</td>\n",
              "      <td>82100</td>\n",
              "      <td>82200</td>\n",
              "      <td>42089013</td>\n",
              "      <td>-2.026222</td>\n",
              "    </tr>\n",
              "    <tr>\n",
              "      <th>2021-01-07</th>\n",
              "      <td>82800</td>\n",
              "      <td>84200</td>\n",
              "      <td>82700</td>\n",
              "      <td>82900</td>\n",
              "      <td>32644642</td>\n",
              "      <td>0.851582</td>\n",
              "    </tr>\n",
              "    <tr>\n",
              "      <th>2021-01-08</th>\n",
              "      <td>83300</td>\n",
              "      <td>90000</td>\n",
              "      <td>83000</td>\n",
              "      <td>88800</td>\n",
              "      <td>59013307</td>\n",
              "      <td>7.117008</td>\n",
              "    </tr>\n",
              "    <tr>\n",
              "      <th>...</th>\n",
              "      <td>...</td>\n",
              "      <td>...</td>\n",
              "      <td>...</td>\n",
              "      <td>...</td>\n",
              "      <td>...</td>\n",
              "      <td>...</td>\n",
              "    </tr>\n",
              "    <tr>\n",
              "      <th>2021-12-24</th>\n",
              "      <td>80200</td>\n",
              "      <td>80800</td>\n",
              "      <td>80200</td>\n",
              "      <td>80500</td>\n",
              "      <td>12086380</td>\n",
              "      <td>0.750939</td>\n",
              "    </tr>\n",
              "    <tr>\n",
              "      <th>2021-12-27</th>\n",
              "      <td>80600</td>\n",
              "      <td>80600</td>\n",
              "      <td>79800</td>\n",
              "      <td>80200</td>\n",
              "      <td>10783368</td>\n",
              "      <td>-0.372671</td>\n",
              "    </tr>\n",
              "    <tr>\n",
              "      <th>2021-12-28</th>\n",
              "      <td>80200</td>\n",
              "      <td>80400</td>\n",
              "      <td>79700</td>\n",
              "      <td>80300</td>\n",
              "      <td>18226325</td>\n",
              "      <td>0.124688</td>\n",
              "    </tr>\n",
              "    <tr>\n",
              "      <th>2021-12-29</th>\n",
              "      <td>80200</td>\n",
              "      <td>80200</td>\n",
              "      <td>78500</td>\n",
              "      <td>78800</td>\n",
              "      <td>19794795</td>\n",
              "      <td>-1.867995</td>\n",
              "    </tr>\n",
              "    <tr>\n",
              "      <th>2021-12-30</th>\n",
              "      <td>78900</td>\n",
              "      <td>79500</td>\n",
              "      <td>78100</td>\n",
              "      <td>78300</td>\n",
              "      <td>14236700</td>\n",
              "      <td>-0.634518</td>\n",
              "    </tr>\n",
              "  </tbody>\n",
              "</table>\n",
              "<p>248 rows × 6 columns</p>\n",
              "</div>\n",
              "    <div class=\"colab-df-buttons\">\n",
              "\n",
              "  <div class=\"colab-df-container\">\n",
              "    <button class=\"colab-df-convert\" onclick=\"convertToInteractive('df-d7fbdd8c-a6f3-40cf-aab4-1d82a60a6d2e')\"\n",
              "            title=\"Convert this dataframe to an interactive table.\"\n",
              "            style=\"display:none;\">\n",
              "\n",
              "  <svg xmlns=\"http://www.w3.org/2000/svg\" height=\"24px\" viewBox=\"0 -960 960 960\">\n",
              "    <path d=\"M120-120v-720h720v720H120Zm60-500h600v-160H180v160Zm220 220h160v-160H400v160Zm0 220h160v-160H400v160ZM180-400h160v-160H180v160Zm440 0h160v-160H620v160ZM180-180h160v-160H180v160Zm440 0h160v-160H620v160Z\"/>\n",
              "  </svg>\n",
              "    </button>\n",
              "\n",
              "  <style>\n",
              "    .colab-df-container {\n",
              "      display:flex;\n",
              "      gap: 12px;\n",
              "    }\n",
              "\n",
              "    .colab-df-convert {\n",
              "      background-color: #E8F0FE;\n",
              "      border: none;\n",
              "      border-radius: 50%;\n",
              "      cursor: pointer;\n",
              "      display: none;\n",
              "      fill: #1967D2;\n",
              "      height: 32px;\n",
              "      padding: 0 0 0 0;\n",
              "      width: 32px;\n",
              "    }\n",
              "\n",
              "    .colab-df-convert:hover {\n",
              "      background-color: #E2EBFA;\n",
              "      box-shadow: 0px 1px 2px rgba(60, 64, 67, 0.3), 0px 1px 3px 1px rgba(60, 64, 67, 0.15);\n",
              "      fill: #174EA6;\n",
              "    }\n",
              "\n",
              "    .colab-df-buttons div {\n",
              "      margin-bottom: 4px;\n",
              "    }\n",
              "\n",
              "    [theme=dark] .colab-df-convert {\n",
              "      background-color: #3B4455;\n",
              "      fill: #D2E3FC;\n",
              "    }\n",
              "\n",
              "    [theme=dark] .colab-df-convert:hover {\n",
              "      background-color: #434B5C;\n",
              "      box-shadow: 0px 1px 3px 1px rgba(0, 0, 0, 0.15);\n",
              "      filter: drop-shadow(0px 1px 2px rgba(0, 0, 0, 0.3));\n",
              "      fill: #FFFFFF;\n",
              "    }\n",
              "  </style>\n",
              "\n",
              "    <script>\n",
              "      const buttonEl =\n",
              "        document.querySelector('#df-d7fbdd8c-a6f3-40cf-aab4-1d82a60a6d2e button.colab-df-convert');\n",
              "      buttonEl.style.display =\n",
              "        google.colab.kernel.accessAllowed ? 'block' : 'none';\n",
              "\n",
              "      async function convertToInteractive(key) {\n",
              "        const element = document.querySelector('#df-d7fbdd8c-a6f3-40cf-aab4-1d82a60a6d2e');\n",
              "        const dataTable =\n",
              "          await google.colab.kernel.invokeFunction('convertToInteractive',\n",
              "                                                    [key], {});\n",
              "        if (!dataTable) return;\n",
              "\n",
              "        const docLinkHtml = 'Like what you see? Visit the ' +\n",
              "          '<a target=\"_blank\" href=https://colab.research.google.com/notebooks/data_table.ipynb>data table notebook</a>'\n",
              "          + ' to learn more about interactive tables.';\n",
              "        element.innerHTML = '';\n",
              "        dataTable['output_type'] = 'display_data';\n",
              "        await google.colab.output.renderOutput(dataTable, element);\n",
              "        const docLink = document.createElement('div');\n",
              "        docLink.innerHTML = docLinkHtml;\n",
              "        element.appendChild(docLink);\n",
              "      }\n",
              "    </script>\n",
              "  </div>\n",
              "\n",
              "\n",
              "<div id=\"df-685669c1-74de-4db8-bc69-3cded9cfc7a8\">\n",
              "  <button class=\"colab-df-quickchart\" onclick=\"quickchart('df-685669c1-74de-4db8-bc69-3cded9cfc7a8')\"\n",
              "            title=\"Suggest charts.\"\n",
              "            style=\"display:none;\">\n",
              "\n",
              "<svg xmlns=\"http://www.w3.org/2000/svg\" height=\"24px\"viewBox=\"0 0 24 24\"\n",
              "     width=\"24px\">\n",
              "    <g>\n",
              "        <path d=\"M19 3H5c-1.1 0-2 .9-2 2v14c0 1.1.9 2 2 2h14c1.1 0 2-.9 2-2V5c0-1.1-.9-2-2-2zM9 17H7v-7h2v7zm4 0h-2V7h2v10zm4 0h-2v-4h2v4z\"/>\n",
              "    </g>\n",
              "</svg>\n",
              "  </button>\n",
              "\n",
              "<style>\n",
              "  .colab-df-quickchart {\n",
              "    background-color: #E8F0FE;\n",
              "    border: none;\n",
              "    border-radius: 50%;\n",
              "    cursor: pointer;\n",
              "    display: none;\n",
              "    fill: #1967D2;\n",
              "    height: 32px;\n",
              "    padding: 0 0 0 0;\n",
              "    width: 32px;\n",
              "  }\n",
              "\n",
              "  .colab-df-quickchart:hover {\n",
              "    background-color: #E2EBFA;\n",
              "    box-shadow: 0px 1px 2px rgba(60, 64, 67, 0.3), 0px 1px 3px 1px rgba(60, 64, 67, 0.15);\n",
              "    fill: #174EA6;\n",
              "  }\n",
              "\n",
              "  [theme=dark] .colab-df-quickchart {\n",
              "    background-color: #3B4455;\n",
              "    fill: #D2E3FC;\n",
              "  }\n",
              "\n",
              "  [theme=dark] .colab-df-quickchart:hover {\n",
              "    background-color: #434B5C;\n",
              "    box-shadow: 0px 1px 3px 1px rgba(0, 0, 0, 0.15);\n",
              "    filter: drop-shadow(0px 1px 2px rgba(0, 0, 0, 0.3));\n",
              "    fill: #FFFFFF;\n",
              "  }\n",
              "</style>\n",
              "\n",
              "  <script>\n",
              "    async function quickchart(key) {\n",
              "      const charts = await google.colab.kernel.invokeFunction(\n",
              "          'suggestCharts', [key], {});\n",
              "    }\n",
              "    (() => {\n",
              "      let quickchartButtonEl =\n",
              "        document.querySelector('#df-685669c1-74de-4db8-bc69-3cded9cfc7a8 button');\n",
              "      quickchartButtonEl.style.display =\n",
              "        google.colab.kernel.accessAllowed ? 'block' : 'none';\n",
              "    })();\n",
              "  </script>\n",
              "</div>\n",
              "    </div>\n",
              "  </div>\n"
            ]
          },
          "metadata": {},
          "execution_count": 19
        }
      ]
    },
    {
      "cell_type": "code",
      "source": [
        "stocks.columns = ['Open', 'High', 'Low', 'Close', 'Volume', 'amount']\n",
        "stocks[\"date\"] = stocks.index"
      ],
      "metadata": {
        "id": "zYb9AWFadrFh"
      },
      "execution_count": null,
      "outputs": []
    },
    {
      "cell_type": "code",
      "source": [
        "stocks['date'] = pd.to_datetime(stocks['date'], format='%Y%m%d')\n",
        "stocks['year'] = stocks['date'].dt.year"
      ],
      "metadata": {
        "id": "g0ZMVXmMdsoT"
      },
      "execution_count": null,
      "outputs": []
    },
    {
      "cell_type": "code",
      "source": [
        "plt.figure(figsize=(16, 9))\n",
        "sns.lineplot(y=stocks['Volume'], x=stocks['Close'])\n",
        "plt.xlabel('time')\n",
        "plt.ylabel('price')"
      ],
      "metadata": {
        "id": "I4YhiSHIeNuZ",
        "colab": {
          "base_uri": "https://localhost:8080/",
          "height": 797
        },
        "outputId": "b597dcfe-b163-4bbf-dd64-13f3de0cbb5a"
      },
      "execution_count": null,
      "outputs": [
        {
          "output_type": "execute_result",
          "data": {
            "text/plain": [
              "Text(0, 0.5, 'price')"
            ]
          },
          "metadata": {},
          "execution_count": 22
        },
        {
          "output_type": "display_data",
          "data": {
            "text/plain": [
              "<Figure size 1600x900 with 1 Axes>"
            ],
            "image/png": "[encoded data removed]"
          },
          "metadata": {}
        }
      ]
    },
    {
      "cell_type": "code",
      "source": [
        "plt.figure(figsize=(16, 9))\n",
        "sns.lineplot(y=stocks['Close'], x=stocks['date'])\n",
        "plt.xlabel('time')\n",
        "plt.ylabel('price')"
      ],
      "metadata": {
        "id": "2YEG8tzCeaL_",
        "colab": {
          "base_uri": "https://localhost:8080/",
          "height": 766
        },
        "outputId": "49d4a7a5-1c3f-4ed5-f577-210780688c71"
      },
      "execution_count": null,
      "outputs": [
        {
          "output_type": "execute_result",
          "data": {
            "text/plain": [
              "Text(0, 0.5, 'price')"
            ]
          },
          "metadata": {},
          "execution_count": 23
        },
        {
          "output_type": "display_data",
          "data": {
            "text/plain": [
              "<Figure size 1600x900 with 1 Axes>"
            ],
            "image/png": "[encoded data removed]"
          },
          "metadata": {}
        }
      ]
    },
    {
      "cell_type": "code",
      "source": [
        "from sklearn.preprocessing import MinMaxScaler\n",
        "\n",
        "stocks.sort_index(ascending=False).reset_index(drop=True)\n",
        "\n",
        "scaler = MinMaxScaler()\n",
        "scale_cols =  ['Open', 'High', 'Low', 'Close', 'Volume', 'amount']\n",
        "df_scaled = scaler.fit_transform(stocks[scale_cols])\n",
        "df_scaled = pd.DataFrame(df_scaled)\n",
        "df_scaled.columns = scale_cols\n",
        "\n",
        "df_scaled"
      ],
      "metadata": {
        "colab": {
          "base_uri": "https://localhost:8080/",
          "height": 423
        },
        "id": "ia7-GxF3ej2t",
        "outputId": "16798488-2cf0-44e4-adcc-1fe231761870"
      },
      "execution_count": null,
      "outputs": [
        {
          "output_type": "execute_result",
          "data": {
            "text/plain": [
              "         Open      High       Low     Close    Volume    amount\n",
              "0    0.569444  0.544118  0.561321  0.639640  0.369920  0.562080\n",
              "1    0.597222  0.525735  0.627358  0.680180  0.329425  0.431605\n",
              "2    0.675926  0.547794  0.650943  0.603604  0.411808  0.138529\n",
              "3    0.652778  0.536765  0.679245  0.635135  0.296598  0.409674\n",
              "4    0.675926  0.750000  0.693396  0.900901  0.618264  1.000000\n",
              "..        ...       ...       ...       ...       ...       ...\n",
              "243  0.532407  0.411765  0.561321  0.527027  0.045812  0.400192\n",
              "244  0.550926  0.404412  0.542453  0.513514  0.029916  0.294326\n",
              "245  0.532407  0.397059  0.537736  0.518018  0.120712  0.341187\n",
              "246  0.532407  0.389706  0.481132  0.450450  0.139845  0.153437\n",
              "247  0.472222  0.363971  0.462264  0.427928  0.072043  0.269655\n",
              "\n",
              "[248 rows x 6 columns]"
            ],
            "text/html": [
              "\n",
              "  <div id=\"df-e448ac09-2277-4ec3-a24a-38698353ece4\" class=\"colab-df-container\">\n",
              "    <div>\n",
              "<style scoped>\n",
              "    .dataframe tbody tr th:only-of-type {\n",
              "        vertical-align: middle;\n",
              "    }\n",
              "\n",
              "    .dataframe tbody tr th {\n",
              "        vertical-align: top;\n",
              "    }\n",
              "\n",
              "    .dataframe thead th {\n",
              "        text-align: right;\n",
              "    }\n",
              "</style>\n",
              "<table border=\"1\" class=\"dataframe\">\n",
              "  <thead>\n",
              "    <tr style=\"text-align: right;\">\n",
              "      <th></th>\n",
              "      <th>Open</th>\n",
              "      <th>High</th>\n",
              "      <th>Low</th>\n",
              "      <th>Close</th>\n",
              "      <th>Volume</th>\n",
              "      <th>amount</th>\n",
              "    </tr>\n",
              "  </thead>\n",
              "  <tbody>\n",
              "    <tr>\n",
              "      <th>0</th>\n",
              "      <td>0.569444</td>\n",
              "      <td>0.544118</td>\n",
              "      <td>0.561321</td>\n",
              "      <td>0.639640</td>\n",
              "      <td>0.369920</td>\n",
              "      <td>0.562080</td>\n",
              "    </tr>\n",
              "    <tr>\n",
              "      <th>1</th>\n",
              "      <td>0.597222</td>\n",
              "      <td>0.525735</td>\n",
              "      <td>0.627358</td>\n",
              "      <td>0.680180</td>\n",
              "      <td>0.329425</td>\n",
              "      <td>0.431605</td>\n",
              "    </tr>\n",
              "    <tr>\n",
              "      <th>2</th>\n",
              "      <td>0.675926</td>\n",
              "      <td>0.547794</td>\n",
              "      <td>0.650943</td>\n",
              "      <td>0.603604</td>\n",
              "      <td>0.411808</td>\n",
              "      <td>0.138529</td>\n",
              "    </tr>\n",
              "    <tr>\n",
              "      <th>3</th>\n",
              "      <td>0.652778</td>\n",
              "      <td>0.536765</td>\n",
              "      <td>0.679245</td>\n",
              "      <td>0.635135</td>\n",
              "      <td>0.296598</td>\n",
              "      <td>0.409674</td>\n",
              "    </tr>\n",
              "    <tr>\n",
              "      <th>4</th>\n",
              "      <td>0.675926</td>\n",
              "      <td>0.750000</td>\n",
              "      <td>0.693396</td>\n",
              "      <td>0.900901</td>\n",
              "      <td>0.618264</td>\n",
              "      <td>1.000000</td>\n",
              "    </tr>\n",
              "    <tr>\n",
              "      <th>...</th>\n",
              "      <td>...</td>\n",
              "      <td>...</td>\n",
              "      <td>...</td>\n",
              "      <td>...</td>\n",
              "      <td>...</td>\n",
              "      <td>...</td>\n",
              "    </tr>\n",
              "    <tr>\n",
              "      <th>243</th>\n",
              "      <td>0.532407</td>\n",
              "      <td>0.411765</td>\n",
              "      <td>0.561321</td>\n",
              "      <td>0.527027</td>\n",
              "      <td>0.045812</td>\n",
              "      <td>0.400192</td>\n",
              "    </tr>\n",
              "    <tr>\n",
              "      <th>244</th>\n",
              "      <td>0.550926</td>\n",
              "      <td>0.404412</td>\n",
              "      <td>0.542453</td>\n",
              "      <td>0.513514</td>\n",
              "      <td>0.029916</td>\n",
              "      <td>0.294326</td>\n",
              "    </tr>\n",
              "    <tr>\n",
              "      <th>245</th>\n",
              "      <td>0.532407</td>\n",
              "      <td>0.397059</td>\n",
              "      <td>0.537736</td>\n",
              "      <td>0.518018</td>\n",
              "      <td>0.120712</td>\n",
              "      <td>0.341187</td>\n",
              "    </tr>\n",
              "    <tr>\n",
              "      <th>246</th>\n",
              "      <td>0.532407</td>\n",
              "      <td>0.389706</td>\n",
              "      <td>0.481132</td>\n",
              "      <td>0.450450</td>\n",
              "      <td>0.139845</td>\n",
              "      <td>0.153437</td>\n",
              "    </tr>\n",
              "    <tr>\n",
              "      <th>247</th>\n",
              "      <td>0.472222</td>\n",
              "      <td>0.363971</td>\n",
              "      <td>0.462264</td>\n",
              "      <td>0.427928</td>\n",
              "      <td>0.072043</td>\n",
              "      <td>0.269655</td>\n",
              "    </tr>\n",
              "  </tbody>\n",
              "</table>\n",
              "<p>248 rows × 6 columns</p>\n",
              "</div>\n",
              "    <div class=\"colab-df-buttons\">\n",
              "\n",
              "  <div class=\"colab-df-container\">\n",
              "    <button class=\"colab-df-convert\" onclick=\"convertToInteractive('df-e448ac09-2277-4ec3-a24a-38698353ece4')\"\n",
              "            title=\"Convert this dataframe to an interactive table.\"\n",
              "            style=\"display:none;\">\n",
              "\n",
              "  <svg xmlns=\"http://www.w3.org/2000/svg\" height=\"24px\" viewBox=\"0 -960 960 960\">\n",
              "    <path d=\"M120-120v-720h720v720H120Zm60-500h600v-160H180v160Zm220 220h160v-160H400v160Zm0 220h160v-160H400v160ZM180-400h160v-160H180v160Zm440 0h160v-160H620v160ZM180-180h160v-160H180v160Zm440 0h160v-160H620v160Z\"/>\n",
              "  </svg>\n",
              "    </button>\n",
              "\n",
              "  <style>\n",
              "    .colab-df-container {\n",
              "      display:flex;\n",
              "      gap: 12px;\n",
              "    }\n",
              "\n",
              "    .colab-df-convert {\n",
              "      background-color: #E8F0FE;\n",
              "      border: none;\n",
              "      border-radius: 50%;\n",
              "      cursor: pointer;\n",
              "      display: none;\n",
              "      fill: #1967D2;\n",
              "      height: 32px;\n",
              "      padding: 0 0 0 0;\n",
              "      width: 32px;\n",
              "    }\n",
              "\n",
              "    .colab-df-convert:hover {\n",
              "      background-color: #E2EBFA;\n",
              "      box-shadow: 0px 1px 2px rgba(60, 64, 67, 0.3), 0px 1px 3px 1px rgba(60, 64, 67, 0.15);\n",
              "      fill: #174EA6;\n",
              "    }\n",
              "\n",
              "    .colab-df-buttons div {\n",
              "      margin-bottom: 4px;\n",
              "    }\n",
              "\n",
              "    [theme=dark] .colab-df-convert {\n",
              "      background-color: #3B4455;\n",
              "      fill: #D2E3FC;\n",
              "    }\n",
              "\n",
              "    [theme=dark] .colab-df-convert:hover {\n",
              "      background-color: #434B5C;\n",
              "      box-shadow: 0px 1px 3px 1px rgba(0, 0, 0, 0.15);\n",
              "      filter: drop-shadow(0px 1px 2px rgba(0, 0, 0, 0.3));\n",
              "      fill: #FFFFFF;\n",
              "    }\n",
              "  </style>\n",
              "\n",
              "    <script>\n",
              "      const buttonEl =\n",
              "        document.querySelector('#df-e448ac09-2277-4ec3-a24a-38698353ece4 button.colab-df-convert');\n",
              "      buttonEl.style.display =\n",
              "        google.colab.kernel.accessAllowed ? 'block' : 'none';\n",
              "\n",
              "      async function convertToInteractive(key) {\n",
              "        const element = document.querySelector('#df-e448ac09-2277-4ec3-a24a-38698353ece4');\n",
              "        const dataTable =\n",
              "          await google.colab.kernel.invokeFunction('convertToInteractive',\n",
              "                                                    [key], {});\n",
              "        if (!dataTable) return;\n",
              "\n",
              "        const docLinkHtml = 'Like what you see? Visit the ' +\n",
              "          '<a target=\"_blank\" href=https://colab.research.google.com/notebooks/data_table.ipynb>data table notebook</a>'\n",
              "          + ' to learn more about interactive tables.';\n",
              "        element.innerHTML = '';\n",
              "        dataTable['output_type'] = 'display_data';\n",
              "        await google.colab.output.renderOutput(dataTable, element);\n",
              "        const docLink = document.createElement('div');\n",
              "        docLink.innerHTML = docLinkHtml;\n",
              "        element.appendChild(docLink);\n",
              "      }\n",
              "    </script>\n",
              "  </div>\n",
              "\n",
              "\n",
              "<div id=\"df-35684824-f5b7-45a5-bffa-eeaf5e45e2f9\">\n",
              "  <button class=\"colab-df-quickchart\" onclick=\"quickchart('df-35684824-f5b7-45a5-bffa-eeaf5e45e2f9')\"\n",
              "            title=\"Suggest charts.\"\n",
              "            style=\"display:none;\">\n",
              "\n",
              "<svg xmlns=\"http://www.w3.org/2000/svg\" height=\"24px\"viewBox=\"0 0 24 24\"\n",
              "     width=\"24px\">\n",
              "    <g>\n",
              "        <path d=\"M19 3H5c-1.1 0-2 .9-2 2v14c0 1.1.9 2 2 2h14c1.1 0 2-.9 2-2V5c0-1.1-.9-2-2-2zM9 17H7v-7h2v7zm4 0h-2V7h2v10zm4 0h-2v-4h2v4z\"/>\n",
              "    </g>\n",
              "</svg>\n",
              "  </button>\n",
              "\n",
              "<style>\n",
              "  .colab-df-quickchart {\n",
              "    background-color: #E8F0FE;\n",
              "    border: none;\n",
              "    border-radius: 50%;\n",
              "    cursor: pointer;\n",
              "    display: none;\n",
              "    fill: #1967D2;\n",
              "    height: 32px;\n",
              "    padding: 0 0 0 0;\n",
              "    width: 32px;\n",
              "  }\n",
              "\n",
              "  .colab-df-quickchart:hover {\n",
              "    background-color: #E2EBFA;\n",
              "    box-shadow: 0px 1px 2px rgba(60, 64, 67, 0.3), 0px 1px 3px 1px rgba(60, 64, 67, 0.15);\n",
              "    fill: #174EA6;\n",
              "  }\n",
              "\n",
              "  [theme=dark] .colab-df-quickchart {\n",
              "    background-color: #3B4455;\n",
              "    fill: #D2E3FC;\n",
              "  }\n",
              "\n",
              "  [theme=dark] .colab-df-quickchart:hover {\n",
              "    background-color: #434B5C;\n",
              "    box-shadow: 0px 1px 3px 1px rgba(0, 0, 0, 0.15);\n",
              "    filter: drop-shadow(0px 1px 2px rgba(0, 0, 0, 0.3));\n",
              "    fill: #FFFFFF;\n",
              "  }\n",
              "</style>\n",
              "\n",
              "  <script>\n",
              "    async function quickchart(key) {\n",
              "      const charts = await google.colab.kernel.invokeFunction(\n",
              "          'suggestCharts', [key], {});\n",
              "    }\n",
              "    (() => {\n",
              "      let quickchartButtonEl =\n",
              "        document.querySelector('#df-35684824-f5b7-45a5-bffa-eeaf5e45e2f9 button');\n",
              "      quickchartButtonEl.style.display =\n",
              "        google.colab.kernel.accessAllowed ? 'block' : 'none';\n",
              "    })();\n",
              "  </script>\n",
              "</div>\n",
              "    </div>\n",
              "  </div>\n"
            ]
          },
          "metadata": {},
          "execution_count": 24
        }
      ]
    },
    {
      "cell_type": "code",
      "source": [
        "#Window size: 과거 몇 기간의 데이터로 예측을 할 것인지 지정\n",
        "TEST_SIZE = 20\n",
        "WINDOW_SIZE = 10\n",
        "\n",
        "train = df_scaled[:-TEST_SIZE]\n",
        "test = df_scaled[-TEST_SIZE:]\n",
        "\n",
        "def make_dataset(data, label, window_size=10):\n",
        "    feature_list = []\n",
        "    label_list = []\n",
        "    for i in range(len(data) - window_size):\n",
        "        feature_list.append(np.array(data.iloc[i:i+window_size]))\n",
        "        label_list.append(np.array(label.iloc[i+window_size]))\n",
        "    return np.array(feature_list), np.array(label_list)"
      ],
      "metadata": {
        "id": "IGi2TJhse4_o"
      },
      "execution_count": null,
      "outputs": []
    },
    {
      "cell_type": "code",
      "source": [
        "from sklearn.model_selection import train_test_split\n",
        "\n",
        "feature_cols = ['Open', 'High', 'Low', 'Volume', 'amount']\n",
        "label_cols = ['Close']\n",
        "\n",
        "train_feature = train[feature_cols]\n",
        "train_label = train[label_cols]\n",
        "\n",
        "train_feature, train_label = make_dataset(train_feature, train_label, 10)\n",
        "\n",
        "x_train, x_valid, y_train, y_valid = train_test_split(train_feature, train_label, test_size=0.2)\n",
        "x_train.shape, x_valid.shape"
      ],
      "metadata": {
        "colab": {
          "base_uri": "https://localhost:8080/"
        },
        "id": "L__UmXGyfGOs",
        "outputId": "5806b0dd-b0d1-409c-b4df-e66ad443ffc2"
      },
      "execution_count": null,
      "outputs": [
        {
          "output_type": "execute_result",
          "data": {
            "text/plain": [
              "((174, 10, 5), (44, 10, 5))"
            ]
          },
          "metadata": {},
          "execution_count": 26
        }
      ]
    },
    {
      "cell_type": "code",
      "source": [
        "test_feature = test[feature_cols]\n",
        "test_label = test[label_cols]\n",
        "\n",
        "test_feature.shape, test_label.shape\n",
        "\n",
        "test_feature, test_label = make_dataset(test_feature, test_label, 10)\n",
        "test_feature.shape, test_label.shape"
      ],
      "metadata": {
        "colab": {
          "base_uri": "https://localhost:8080/"
        },
        "id": "R56HgmV0fZBP",
        "outputId": "5d0a266d-9020-4fb1-e5f2-aff4cd65a670"
      },
      "execution_count": null,
      "outputs": [
        {
          "output_type": "execute_result",
          "data": {
            "text/plain": [
              "((10, 10, 5), (10, 1))"
            ]
          },
          "metadata": {},
          "execution_count": 27
        }
      ]
    },
    {
      "cell_type": "code",
      "source": [
        "from keras.models import Sequential\n",
        "from keras.layers import Dense\n",
        "from keras.callbacks import EarlyStopping, ModelCheckpoint\n",
        "from keras.layers import LSTM, GRU\n",
        "\n",
        "model = Sequential()\n",
        "model.add(GRU(16,\n",
        "               input_shape=(train_feature.shape[1], train_feature.shape[2]),\n",
        "               activation='relu',\n",
        "               return_sequences=False)\n",
        "          )\n",
        "model.add(Dense(1))"
      ],
      "metadata": {
        "id": "MO7qW1PxffxJ",
        "colab": {
          "base_uri": "https://localhost:8080/"
        },
        "outputId": "7d3e0a21-4d7a-4b20-cc77-6bf6d466fc86"
      },
      "execution_count": null,
      "outputs": [
        {
          "output_type": "stream",
          "name": "stderr",
          "text": [
            "WARNING:tensorflow:Layer gru will not use cuDNN kernels since it doesn't meet the criteria. It will use a generic GPU kernel as fallback when running on GPU.\n"
          ]
        }
      ]
    },
    {
      "cell_type": "code",
      "source": [
        "model.compile(loss='mean_squared_error', optimizer='adam')\n",
        "history = model.fit(x_train, y_train,\n",
        "                                    epochs=200,  #200\n",
        "                                    batch_size=16,\n",
        "                                    validation_data=(x_valid, y_valid))"
      ],
      "metadata": {
        "colab": {
          "base_uri": "https://localhost:8080/"
        },
        "id": "li17kihafk-d",
        "outputId": "d19b0bee-2e25-4681-afb8-d51d23cf009f"
      },
      "execution_count": null,
      "outputs": [
        {
          "output_type": "stream",
          "name": "stdout",
          "text": [
            "Epoch 1/200\n",
            "11/11 [==============================] - 11s 121ms/step - loss: 0.1845 - val_loss: 0.1767\n",
            "Epoch 2/200\n",
            "11/11 [==============================] - 1s 56ms/step - loss: 0.1129 - val_loss: 0.0891\n",
            "Epoch 3/200\n",
            "11/11 [==============================] - 1s 56ms/step - loss: 0.0486 - val_loss: 0.0265\n",
            "Epoch 4/200\n",
            "11/11 [==============================] - 1s 57ms/step - loss: 0.0148 - val_loss: 0.0066\n",
            "Epoch 5/200\n",
            "11/11 [==============================] - 1s 67ms/step - loss: 0.0104 - val_loss: 0.0069\n",
            "Epoch 6/200\n",
            "11/11 [==============================] - 1s 75ms/step - loss: 0.0098 - val_loss: 0.0058\n",
            "Epoch 7/200\n",
            "11/11 [==============================] - 1s 68ms/step - loss: 0.0084 - val_loss: 0.0061\n",
            "Epoch 8/200\n",
            "11/11 [==============================] - 1s 92ms/step - loss: 0.0078 - val_loss: 0.0056\n",
            "Epoch 9/200\n",
            "11/11 [==============================] - 1s 138ms/step - loss: 0.0072 - val_loss: 0.0051\n",
            "Epoch 10/200\n",
            "11/11 [==============================] - 1s 115ms/step - loss: 0.0066 - val_loss: 0.0048\n",
            "Epoch 11/200\n",
            "11/11 [==============================] - 1s 72ms/step - loss: 0.0060 - val_loss: 0.0046\n",
            "Epoch 12/200\n",
            "11/11 [==============================] - 1s 54ms/step - loss: 0.0055 - val_loss: 0.0042\n",
            "Epoch 13/200\n",
            "11/11 [==============================] - 1s 64ms/step - loss: 0.0051 - val_loss: 0.0040\n",
            "Epoch 14/200\n",
            "11/11 [==============================] - 1s 83ms/step - loss: 0.0048 - val_loss: 0.0038\n",
            "Epoch 15/200\n",
            "11/11 [==============================] - 1s 73ms/step - loss: 0.0046 - val_loss: 0.0036\n",
            "Epoch 16/200\n",
            "11/11 [==============================] - 1s 72ms/step - loss: 0.0044 - val_loss: 0.0036\n",
            "Epoch 17/200\n",
            "11/11 [==============================] - 1s 55ms/step - loss: 0.0043 - val_loss: 0.0035\n",
            "Epoch 18/200\n",
            "11/11 [==============================] - 1s 70ms/step - loss: 0.0044 - val_loss: 0.0035\n",
            "Epoch 19/200\n",
            "11/11 [==============================] - 1s 69ms/step - loss: 0.0042 - val_loss: 0.0035\n",
            "Epoch 20/200\n",
            "11/11 [==============================] - 0s 46ms/step - loss: 0.0042 - val_loss: 0.0034\n",
            "Epoch 21/200\n",
            "11/11 [==============================] - 1s 51ms/step - loss: 0.0041 - val_loss: 0.0035\n",
            "Epoch 22/200\n",
            "11/11 [==============================] - 0s 30ms/step - loss: 0.0043 - val_loss: 0.0034\n",
            "Epoch 23/200\n",
            "11/11 [==============================] - 0s 30ms/step - loss: 0.0041 - val_loss: 0.0036\n",
            "Epoch 24/200\n",
            "11/11 [==============================] - 0s 28ms/step - loss: 0.0039 - val_loss: 0.0034\n",
            "Epoch 25/200\n",
            "11/11 [==============================] - 0s 29ms/step - loss: 0.0039 - val_loss: 0.0034\n",
            "Epoch 26/200\n",
            "11/11 [==============================] - 0s 30ms/step - loss: 0.0040 - val_loss: 0.0035\n",
            "Epoch 27/200\n",
            "11/11 [==============================] - 0s 27ms/step - loss: 0.0038 - val_loss: 0.0034\n",
            "Epoch 28/200\n",
            "11/11 [==============================] - 0s 27ms/step - loss: 0.0038 - val_loss: 0.0035\n",
            "Epoch 29/200\n",
            "11/11 [==============================] - 0s 28ms/step - loss: 0.0037 - val_loss: 0.0034\n",
            "Epoch 30/200\n",
            "11/11 [==============================] - 0s 28ms/step - loss: 0.0036 - val_loss: 0.0034\n",
            "Epoch 31/200\n",
            "11/11 [==============================] - 1s 48ms/step - loss: 0.0035 - val_loss: 0.0034\n",
            "Epoch 32/200\n",
            "11/11 [==============================] - 1s 56ms/step - loss: 0.0035 - val_loss: 0.0034\n",
            "Epoch 33/200\n",
            "11/11 [==============================] - 1s 54ms/step - loss: 0.0034 - val_loss: 0.0034\n",
            "Epoch 34/200\n",
            "11/11 [==============================] - 1s 59ms/step - loss: 0.0034 - val_loss: 0.0033\n",
            "Epoch 35/200\n",
            "11/11 [==============================] - 1s 49ms/step - loss: 0.0033 - val_loss: 0.0033\n",
            "Epoch 36/200\n",
            "11/11 [==============================] - 0s 28ms/step - loss: 0.0033 - val_loss: 0.0033\n",
            "Epoch 37/200\n",
            "11/11 [==============================] - 0s 30ms/step - loss: 0.0032 - val_loss: 0.0033\n",
            "Epoch 38/200\n",
            "11/11 [==============================] - 0s 29ms/step - loss: 0.0032 - val_loss: 0.0033\n",
            "Epoch 39/200\n",
            "11/11 [==============================] - 0s 29ms/step - loss: 0.0031 - val_loss: 0.0033\n",
            "Epoch 40/200\n",
            "11/11 [==============================] - 0s 30ms/step - loss: 0.0031 - val_loss: 0.0033\n",
            "Epoch 41/200\n",
            "11/11 [==============================] - 0s 32ms/step - loss: 0.0031 - val_loss: 0.0033\n",
            "Epoch 42/200\n",
            "11/11 [==============================] - 0s 29ms/step - loss: 0.0031 - val_loss: 0.0033\n",
            "Epoch 43/200\n",
            "11/11 [==============================] - 0s 30ms/step - loss: 0.0031 - val_loss: 0.0033\n",
            "Epoch 44/200\n",
            "11/11 [==============================] - 0s 29ms/step - loss: 0.0030 - val_loss: 0.0033\n",
            "Epoch 45/200\n",
            "11/11 [==============================] - 0s 31ms/step - loss: 0.0029 - val_loss: 0.0033\n",
            "Epoch 46/200\n",
            "11/11 [==============================] - 0s 29ms/step - loss: 0.0029 - val_loss: 0.0033\n",
            "Epoch 47/200\n",
            "11/11 [==============================] - 0s 27ms/step - loss: 0.0029 - val_loss: 0.0033\n",
            "Epoch 48/200\n",
            "11/11 [==============================] - 0s 35ms/step - loss: 0.0028 - val_loss: 0.0033\n",
            "Epoch 49/200\n",
            "11/11 [==============================] - 0s 28ms/step - loss: 0.0028 - val_loss: 0.0033\n",
            "Epoch 50/200\n",
            "11/11 [==============================] - 0s 30ms/step - loss: 0.0027 - val_loss: 0.0033\n",
            "Epoch 51/200\n",
            "11/11 [==============================] - 0s 29ms/step - loss: 0.0027 - val_loss: 0.0033\n",
            "Epoch 52/200\n",
            "11/11 [==============================] - 0s 30ms/step - loss: 0.0027 - val_loss: 0.0032\n",
            "Epoch 53/200\n",
            "11/11 [==============================] - 0s 29ms/step - loss: 0.0027 - val_loss: 0.0032\n",
            "Epoch 54/200\n",
            "11/11 [==============================] - 0s 31ms/step - loss: 0.0026 - val_loss: 0.0032\n",
            "Epoch 55/200\n",
            "11/11 [==============================] - 0s 28ms/step - loss: 0.0026 - val_loss: 0.0032\n",
            "Epoch 56/200\n",
            "11/11 [==============================] - 0s 28ms/step - loss: 0.0025 - val_loss: 0.0032\n",
            "Epoch 57/200\n",
            "11/11 [==============================] - 0s 30ms/step - loss: 0.0026 - val_loss: 0.0032\n",
            "Epoch 58/200\n",
            "11/11 [==============================] - 0s 30ms/step - loss: 0.0025 - val_loss: 0.0032\n",
            "Epoch 59/200\n",
            "11/11 [==============================] - 0s 32ms/step - loss: 0.0025 - val_loss: 0.0032\n",
            "Epoch 60/200\n",
            "11/11 [==============================] - 0s 32ms/step - loss: 0.0025 - val_loss: 0.0032\n",
            "Epoch 61/200\n",
            "11/11 [==============================] - 0s 31ms/step - loss: 0.0025 - val_loss: 0.0032\n",
            "Epoch 62/200\n",
            "11/11 [==============================] - 0s 33ms/step - loss: 0.0024 - val_loss: 0.0032\n",
            "Epoch 63/200\n",
            "11/11 [==============================] - 0s 31ms/step - loss: 0.0024 - val_loss: 0.0032\n",
            "Epoch 64/200\n",
            "11/11 [==============================] - 0s 31ms/step - loss: 0.0024 - val_loss: 0.0032\n",
            "Epoch 65/200\n",
            "11/11 [==============================] - 0s 37ms/step - loss: 0.0023 - val_loss: 0.0032\n",
            "Epoch 66/200\n",
            "11/11 [==============================] - 1s 56ms/step - loss: 0.0023 - val_loss: 0.0032\n",
            "Epoch 67/200\n",
            "11/11 [==============================] - 1s 54ms/step - loss: 0.0023 - val_loss: 0.0032\n",
            "Epoch 68/200\n",
            "11/11 [==============================] - 1s 53ms/step - loss: 0.0024 - val_loss: 0.0032\n",
            "Epoch 69/200\n",
            "11/11 [==============================] - 1s 54ms/step - loss: 0.0023 - val_loss: 0.0032\n",
            "Epoch 70/200\n",
            "11/11 [==============================] - 0s 33ms/step - loss: 0.0023 - val_loss: 0.0032\n",
            "Epoch 71/200\n",
            "11/11 [==============================] - 0s 29ms/step - loss: 0.0023 - val_loss: 0.0032\n",
            "Epoch 72/200\n",
            "11/11 [==============================] - 0s 28ms/step - loss: 0.0024 - val_loss: 0.0032\n",
            "Epoch 73/200\n",
            "11/11 [==============================] - 0s 31ms/step - loss: 0.0023 - val_loss: 0.0032\n",
            "Epoch 74/200\n",
            "11/11 [==============================] - 0s 33ms/step - loss: 0.0022 - val_loss: 0.0032\n",
            "Epoch 75/200\n",
            "11/11 [==============================] - 0s 31ms/step - loss: 0.0023 - val_loss: 0.0032\n",
            "Epoch 76/200\n",
            "11/11 [==============================] - 0s 38ms/step - loss: 0.0022 - val_loss: 0.0032\n",
            "Epoch 77/200\n",
            "11/11 [==============================] - 0s 35ms/step - loss: 0.0022 - val_loss: 0.0032\n",
            "Epoch 78/200\n",
            "11/11 [==============================] - 0s 33ms/step - loss: 0.0022 - val_loss: 0.0033\n",
            "Epoch 79/200\n",
            "11/11 [==============================] - 0s 31ms/step - loss: 0.0022 - val_loss: 0.0032\n",
            "Epoch 80/200\n",
            "11/11 [==============================] - 0s 31ms/step - loss: 0.0022 - val_loss: 0.0032\n",
            "Epoch 81/200\n",
            "11/11 [==============================] - 0s 28ms/step - loss: 0.0022 - val_loss: 0.0033\n",
            "Epoch 82/200\n",
            "11/11 [==============================] - 0s 31ms/step - loss: 0.0021 - val_loss: 0.0032\n",
            "Epoch 83/200\n",
            "11/11 [==============================] - 0s 28ms/step - loss: 0.0021 - val_loss: 0.0033\n",
            "Epoch 84/200\n",
            "11/11 [==============================] - 0s 30ms/step - loss: 0.0021 - val_loss: 0.0032\n",
            "Epoch 85/200\n",
            "11/11 [==============================] - 0s 29ms/step - loss: 0.0022 - val_loss: 0.0033\n",
            "Epoch 86/200\n",
            "11/11 [==============================] - 0s 31ms/step - loss: 0.0022 - val_loss: 0.0032\n",
            "Epoch 87/200\n",
            "11/11 [==============================] - 0s 32ms/step - loss: 0.0021 - val_loss: 0.0032\n",
            "Epoch 88/200\n",
            "11/11 [==============================] - 0s 32ms/step - loss: 0.0021 - val_loss: 0.0032\n",
            "Epoch 89/200\n",
            "11/11 [==============================] - 0s 30ms/step - loss: 0.0021 - val_loss: 0.0033\n",
            "Epoch 90/200\n",
            "11/11 [==============================] - 0s 28ms/step - loss: 0.0021 - val_loss: 0.0032\n",
            "Epoch 91/200\n",
            "11/11 [==============================] - 0s 32ms/step - loss: 0.0022 - val_loss: 0.0032\n",
            "Epoch 92/200\n",
            "11/11 [==============================] - 0s 29ms/step - loss: 0.0021 - val_loss: 0.0033\n",
            "Epoch 93/200\n",
            "11/11 [==============================] - 0s 30ms/step - loss: 0.0021 - val_loss: 0.0032\n",
            "Epoch 94/200\n",
            "11/11 [==============================] - 0s 30ms/step - loss: 0.0021 - val_loss: 0.0033\n",
            "Epoch 95/200\n",
            "11/11 [==============================] - 0s 31ms/step - loss: 0.0021 - val_loss: 0.0034\n",
            "Epoch 96/200\n",
            "11/11 [==============================] - 0s 26ms/step - loss: 0.0023 - val_loss: 0.0033\n",
            "Epoch 97/200\n",
            "11/11 [==============================] - 0s 30ms/step - loss: 0.0021 - val_loss: 0.0033\n",
            "Epoch 98/200\n",
            "11/11 [==============================] - 0s 31ms/step - loss: 0.0021 - val_loss: 0.0032\n",
            "Epoch 99/200\n",
            "11/11 [==============================] - 0s 40ms/step - loss: 0.0021 - val_loss: 0.0032\n",
            "Epoch 100/200\n",
            "11/11 [==============================] - 1s 55ms/step - loss: 0.0020 - val_loss: 0.0032\n",
            "Epoch 101/200\n",
            "11/11 [==============================] - 1s 62ms/step - loss: 0.0020 - val_loss: 0.0032\n",
            "Epoch 102/200\n",
            "11/11 [==============================] - 1s 61ms/step - loss: 0.0020 - val_loss: 0.0033\n",
            "Epoch 103/200\n",
            "11/11 [==============================] - 1s 50ms/step - loss: 0.0021 - val_loss: 0.0032\n",
            "Epoch 104/200\n",
            "11/11 [==============================] - 0s 29ms/step - loss: 0.0020 - val_loss: 0.0033\n",
            "Epoch 105/200\n",
            "11/11 [==============================] - 0s 29ms/step - loss: 0.0020 - val_loss: 0.0032\n",
            "Epoch 106/200\n",
            "11/11 [==============================] - 0s 31ms/step - loss: 0.0021 - val_loss: 0.0032\n",
            "Epoch 107/200\n",
            "11/11 [==============================] - 0s 26ms/step - loss: 0.0020 - val_loss: 0.0033\n",
            "Epoch 108/200\n",
            "11/11 [==============================] - 0s 29ms/step - loss: 0.0021 - val_loss: 0.0033\n",
            "Epoch 109/200\n",
            "11/11 [==============================] - 0s 29ms/step - loss: 0.0020 - val_loss: 0.0033\n",
            "Epoch 110/200\n",
            "11/11 [==============================] - 0s 32ms/step - loss: 0.0020 - val_loss: 0.0032\n",
            "Epoch 111/200\n",
            "11/11 [==============================] - 0s 28ms/step - loss: 0.0020 - val_loss: 0.0033\n",
            "Epoch 112/200\n",
            "11/11 [==============================] - 0s 31ms/step - loss: 0.0020 - val_loss: 0.0032\n",
            "Epoch 113/200\n",
            "11/11 [==============================] - 0s 29ms/step - loss: 0.0020 - val_loss: 0.0032\n",
            "Epoch 114/200\n",
            "11/11 [==============================] - 0s 29ms/step - loss: 0.0020 - val_loss: 0.0032\n",
            "Epoch 115/200\n",
            "11/11 [==============================] - 0s 29ms/step - loss: 0.0020 - val_loss: 0.0032\n",
            "Epoch 116/200\n",
            "11/11 [==============================] - 0s 28ms/step - loss: 0.0020 - val_loss: 0.0032\n",
            "Epoch 117/200\n",
            "11/11 [==============================] - 0s 30ms/step - loss: 0.0020 - val_loss: 0.0032\n",
            "Epoch 118/200\n",
            "11/11 [==============================] - 0s 28ms/step - loss: 0.0020 - val_loss: 0.0032\n",
            "Epoch 119/200\n",
            "11/11 [==============================] - 0s 29ms/step - loss: 0.0020 - val_loss: 0.0032\n",
            "Epoch 120/200\n",
            "11/11 [==============================] - 0s 33ms/step - loss: 0.0020 - val_loss: 0.0032\n",
            "Epoch 121/200\n",
            "11/11 [==============================] - 0s 29ms/step - loss: 0.0020 - val_loss: 0.0032\n",
            "Epoch 122/200\n",
            "11/11 [==============================] - 0s 29ms/step - loss: 0.0020 - val_loss: 0.0032\n",
            "Epoch 123/200\n",
            "11/11 [==============================] - 0s 28ms/step - loss: 0.0020 - val_loss: 0.0033\n",
            "Epoch 124/200\n",
            "11/11 [==============================] - 0s 31ms/step - loss: 0.0020 - val_loss: 0.0032\n",
            "Epoch 125/200\n",
            "11/11 [==============================] - 0s 32ms/step - loss: 0.0020 - val_loss: 0.0033\n",
            "Epoch 126/200\n",
            "11/11 [==============================] - 0s 30ms/step - loss: 0.0020 - val_loss: 0.0032\n",
            "Epoch 127/200\n",
            "11/11 [==============================] - 0s 29ms/step - loss: 0.0020 - val_loss: 0.0032\n",
            "Epoch 128/200\n",
            "11/11 [==============================] - 0s 32ms/step - loss: 0.0019 - val_loss: 0.0032\n",
            "Epoch 129/200\n",
            "11/11 [==============================] - 0s 27ms/step - loss: 0.0020 - val_loss: 0.0033\n",
            "Epoch 130/200\n",
            "11/11 [==============================] - 0s 31ms/step - loss: 0.0019 - val_loss: 0.0032\n",
            "Epoch 131/200\n",
            "11/11 [==============================] - 0s 32ms/step - loss: 0.0020 - val_loss: 0.0032\n",
            "Epoch 132/200\n",
            "11/11 [==============================] - 0s 31ms/step - loss: 0.0020 - val_loss: 0.0032\n",
            "Epoch 133/200\n",
            "11/11 [==============================] - 0s 28ms/step - loss: 0.0020 - val_loss: 0.0032\n",
            "Epoch 134/200\n",
            "11/11 [==============================] - 1s 51ms/step - loss: 0.0020 - val_loss: 0.0032\n",
            "Epoch 135/200\n",
            "11/11 [==============================] - 1s 59ms/step - loss: 0.0019 - val_loss: 0.0032\n",
            "Epoch 136/200\n",
            "11/11 [==============================] - 1s 55ms/step - loss: 0.0019 - val_loss: 0.0032\n",
            "Epoch 137/200\n",
            "11/11 [==============================] - 1s 55ms/step - loss: 0.0019 - val_loss: 0.0032\n",
            "Epoch 138/200\n",
            "11/11 [==============================] - 0s 40ms/step - loss: 0.0019 - val_loss: 0.0032\n",
            "Epoch 139/200\n",
            "11/11 [==============================] - 0s 30ms/step - loss: 0.0020 - val_loss: 0.0033\n",
            "Epoch 140/200\n",
            "11/11 [==============================] - 0s 31ms/step - loss: 0.0020 - val_loss: 0.0032\n",
            "Epoch 141/200\n",
            "11/11 [==============================] - 0s 27ms/step - loss: 0.0020 - val_loss: 0.0033\n",
            "Epoch 142/200\n",
            "11/11 [==============================] - 0s 29ms/step - loss: 0.0021 - val_loss: 0.0032\n",
            "Epoch 143/200\n",
            "11/11 [==============================] - 0s 30ms/step - loss: 0.0019 - val_loss: 0.0032\n",
            "Epoch 144/200\n",
            "11/11 [==============================] - 0s 31ms/step - loss: 0.0020 - val_loss: 0.0032\n",
            "Epoch 145/200\n",
            "11/11 [==============================] - 0s 31ms/step - loss: 0.0019 - val_loss: 0.0032\n",
            "Epoch 146/200\n",
            "11/11 [==============================] - 0s 31ms/step - loss: 0.0019 - val_loss: 0.0032\n",
            "Epoch 147/200\n",
            "11/11 [==============================] - 0s 29ms/step - loss: 0.0020 - val_loss: 0.0032\n",
            "Epoch 148/200\n",
            "11/11 [==============================] - 0s 29ms/step - loss: 0.0020 - val_loss: 0.0032\n",
            "Epoch 149/200\n",
            "11/11 [==============================] - 0s 29ms/step - loss: 0.0020 - val_loss: 0.0032\n",
            "Epoch 150/200\n",
            "11/11 [==============================] - 0s 32ms/step - loss: 0.0019 - val_loss: 0.0032\n",
            "Epoch 151/200\n",
            "11/11 [==============================] - 0s 27ms/step - loss: 0.0020 - val_loss: 0.0032\n",
            "Epoch 152/200\n",
            "11/11 [==============================] - 0s 31ms/step - loss: 0.0019 - val_loss: 0.0032\n",
            "Epoch 153/200\n",
            "11/11 [==============================] - 0s 29ms/step - loss: 0.0019 - val_loss: 0.0032\n",
            "Epoch 154/200\n",
            "11/11 [==============================] - 0s 29ms/step - loss: 0.0020 - val_loss: 0.0031\n",
            "Epoch 155/200\n",
            "11/11 [==============================] - 0s 30ms/step - loss: 0.0019 - val_loss: 0.0031\n",
            "Epoch 156/200\n",
            "11/11 [==============================] - 0s 33ms/step - loss: 0.0020 - val_loss: 0.0033\n",
            "Epoch 157/200\n",
            "11/11 [==============================] - 0s 33ms/step - loss: 0.0020 - val_loss: 0.0032\n",
            "Epoch 158/200\n",
            "11/11 [==============================] - 0s 32ms/step - loss: 0.0021 - val_loss: 0.0031\n",
            "Epoch 159/200\n",
            "11/11 [==============================] - 0s 36ms/step - loss: 0.0020 - val_loss: 0.0032\n",
            "Epoch 160/200\n",
            "11/11 [==============================] - 0s 34ms/step - loss: 0.0019 - val_loss: 0.0031\n",
            "Epoch 161/200\n",
            "11/11 [==============================] - 0s 31ms/step - loss: 0.0019 - val_loss: 0.0031\n",
            "Epoch 162/200\n",
            "11/11 [==============================] - 0s 27ms/step - loss: 0.0019 - val_loss: 0.0031\n",
            "Epoch 163/200\n",
            "11/11 [==============================] - 0s 30ms/step - loss: 0.0019 - val_loss: 0.0031\n",
            "Epoch 164/200\n",
            "11/11 [==============================] - 0s 30ms/step - loss: 0.0019 - val_loss: 0.0031\n",
            "Epoch 165/200\n",
            "11/11 [==============================] - 0s 31ms/step - loss: 0.0020 - val_loss: 0.0031\n",
            "Epoch 166/200\n",
            "11/11 [==============================] - 0s 28ms/step - loss: 0.0019 - val_loss: 0.0031\n",
            "Epoch 167/200\n",
            "11/11 [==============================] - 0s 30ms/step - loss: 0.0019 - val_loss: 0.0032\n",
            "Epoch 168/200\n",
            "11/11 [==============================] - 0s 43ms/step - loss: 0.0019 - val_loss: 0.0031\n",
            "Epoch 169/200\n",
            "11/11 [==============================] - 1s 57ms/step - loss: 0.0019 - val_loss: 0.0031\n",
            "Epoch 170/200\n",
            "11/11 [==============================] - 1s 62ms/step - loss: 0.0019 - val_loss: 0.0031\n",
            "Epoch 171/200\n",
            "11/11 [==============================] - 1s 55ms/step - loss: 0.0019 - val_loss: 0.0033\n",
            "Epoch 172/200\n",
            "11/11 [==============================] - 1s 47ms/step - loss: 0.0021 - val_loss: 0.0032\n",
            "Epoch 173/200\n",
            "11/11 [==============================] - 0s 29ms/step - loss: 0.0019 - val_loss: 0.0032\n",
            "Epoch 174/200\n",
            "11/11 [==============================] - 0s 33ms/step - loss: 0.0019 - val_loss: 0.0031\n",
            "Epoch 175/200\n",
            "11/11 [==============================] - 0s 29ms/step - loss: 0.0020 - val_loss: 0.0031\n",
            "Epoch 176/200\n",
            "11/11 [==============================] - 0s 32ms/step - loss: 0.0019 - val_loss: 0.0031\n",
            "Epoch 177/200\n",
            "11/11 [==============================] - 0s 30ms/step - loss: 0.0019 - val_loss: 0.0031\n",
            "Epoch 178/200\n",
            "11/11 [==============================] - 0s 27ms/step - loss: 0.0020 - val_loss: 0.0032\n",
            "Epoch 179/200\n",
            "11/11 [==============================] - 0s 30ms/step - loss: 0.0019 - val_loss: 0.0032\n",
            "Epoch 180/200\n",
            "11/11 [==============================] - 0s 29ms/step - loss: 0.0019 - val_loss: 0.0031\n",
            "Epoch 181/200\n",
            "11/11 [==============================] - 0s 27ms/step - loss: 0.0019 - val_loss: 0.0031\n",
            "Epoch 182/200\n",
            "11/11 [==============================] - 0s 31ms/step - loss: 0.0019 - val_loss: 0.0031\n",
            "Epoch 183/200\n",
            "11/11 [==============================] - 0s 30ms/step - loss: 0.0019 - val_loss: 0.0031\n",
            "Epoch 184/200\n",
            "11/11 [==============================] - 0s 30ms/step - loss: 0.0020 - val_loss: 0.0031\n",
            "Epoch 185/200\n",
            "11/11 [==============================] - 0s 32ms/step - loss: 0.0019 - val_loss: 0.0031\n",
            "Epoch 186/200\n",
            "11/11 [==============================] - 0s 31ms/step - loss: 0.0021 - val_loss: 0.0033\n",
            "Epoch 187/200\n",
            "11/11 [==============================] - 0s 27ms/step - loss: 0.0019 - val_loss: 0.0032\n",
            "Epoch 188/200\n",
            "11/11 [==============================] - 0s 28ms/step - loss: 0.0019 - val_loss: 0.0032\n",
            "Epoch 189/200\n",
            "11/11 [==============================] - 0s 30ms/step - loss: 0.0019 - val_loss: 0.0031\n",
            "Epoch 190/200\n",
            "11/11 [==============================] - 0s 28ms/step - loss: 0.0019 - val_loss: 0.0032\n",
            "Epoch 191/200\n",
            "11/11 [==============================] - 0s 27ms/step - loss: 0.0019 - val_loss: 0.0032\n",
            "Epoch 192/200\n",
            "11/11 [==============================] - 0s 28ms/step - loss: 0.0020 - val_loss: 0.0031\n",
            "Epoch 193/200\n",
            "11/11 [==============================] - 0s 31ms/step - loss: 0.0020 - val_loss: 0.0032\n",
            "Epoch 194/200\n",
            "11/11 [==============================] - 0s 27ms/step - loss: 0.0019 - val_loss: 0.0031\n",
            "Epoch 195/200\n",
            "11/11 [==============================] - 0s 34ms/step - loss: 0.0019 - val_loss: 0.0031\n",
            "Epoch 196/200\n",
            "11/11 [==============================] - 0s 27ms/step - loss: 0.0020 - val_loss: 0.0032\n",
            "Epoch 197/200\n",
            "11/11 [==============================] - 0s 28ms/step - loss: 0.0019 - val_loss: 0.0031\n",
            "Epoch 198/200\n",
            "11/11 [==============================] - 0s 30ms/step - loss: 0.0019 - val_loss: 0.0032\n",
            "Epoch 199/200\n",
            "11/11 [==============================] - 0s 27ms/step - loss: 0.0019 - val_loss: 0.0032\n",
            "Epoch 200/200\n",
            "11/11 [==============================] - 0s 28ms/step - loss: 0.0019 - val_loss: 0.0031\n"
          ]
        }
      ]
    },
    {
      "cell_type": "code",
      "source": [
        "test_feature.shape"
      ],
      "metadata": {
        "colab": {
          "base_uri": "https://localhost:8080/"
        },
        "id": "ZtbnedM8g3Kn",
        "outputId": "7ae2daa6-98da-42a3-b3f7-ce8a470e6579"
      },
      "execution_count": null,
      "outputs": [
        {
          "output_type": "execute_result",
          "data": {
            "text/plain": [
              "(10, 10, 5)"
            ]
          },
          "metadata": {},
          "execution_count": 30
        }
      ]
    },
    {
      "cell_type": "code",
      "source": [
        "pred = model.predict(test_feature)\n",
        "pred.shape"
      ],
      "metadata": {
        "colab": {
          "base_uri": "https://localhost:8080/"
        },
        "id": "okas9peEfxJW",
        "outputId": "c8614f4e-8161-48fb-e33a-e9ec032760c6"
      },
      "execution_count": null,
      "outputs": [
        {
          "output_type": "stream",
          "name": "stdout",
          "text": [
            "1/1 [==============================] - 0s 178ms/step\n"
          ]
        },
        {
          "output_type": "execute_result",
          "data": {
            "text/plain": [
              "(10, 1)"
            ]
          },
          "metadata": {},
          "execution_count": 31
        }
      ]
    },
    {
      "cell_type": "code",
      "source": [
        "plt.figure(figsize=(12, 9))\n",
        "plt.plot(test_label, label = 'actual')\n",
        "plt.plot(pred, label = 'prediction')\n",
        "plt.legend()\n",
        "plt.show()"
      ],
      "metadata": {
        "colab": {
          "base_uri": "https://localhost:8080/",
          "height": 753
        },
        "id": "ivxtCfj_fyU-",
        "outputId": "830988da-d80b-48ae-d52e-71238edb06b6"
      },
      "execution_count": null,
      "outputs": [
        {
          "output_type": "display_data",
          "data": {
            "text/plain": [
              "<Figure size 1200x900 with 1 Axes>"
            ],
            "image/png": "[encoded data removed]"
          },
          "metadata": {}
        }
      ]
    },
    {
      "cell_type": "markdown",
      "source": [
        "##2. 하이퍼 파라미터 튜닝\n",
        " - DNN의 하이터파라미터: 층의 수, 노드의 수, 학습율, 배치크기 등\n",
        " - RadomizedSerachCV 또는 GridSearchCV 등 활용"
      ],
      "metadata": {
        "id": "oP4KLrxElL7C"
      }
    },
    {
      "cell_type": "code",
      "source": [
        "import tensorflow as tf\n",
        "from tensorflow import keras"
      ],
      "metadata": {
        "id": "oAGnxJuPmY3F"
      },
      "execution_count": null,
      "outputs": []
    },
    {
      "cell_type": "code",
      "source": [
        "!pip install -q -U keras-tuner"
      ],
      "metadata": {
        "colab": {
          "base_uri": "https://localhost:8080/"
        },
        "id": "k3fVM6f_maUK",
        "outputId": "bf7cac4c-5b60-4dfd-8185-c9fa93e69c26"
      },
      "execution_count": null,
      "outputs": [
        {
          "output_type": "stream",
          "name": "stdout",
          "text": [
            "\u001b[?25l     \u001b[90m━━━━━━━━━━━━━━━━━━━━━━━━━━━━━━━━━━━━━━━━\u001b[0m \u001b[32m0.0/176.1 kB\u001b[0m \u001b[31m?\u001b[0m eta \u001b[36m-:--:--\u001b[0m\r\u001b[2K     \u001b[91m━━━━━━━━━━━━━━━━━━━━━━━━━━━━━━━━━━━━━━\u001b[0m\u001b[91m╸\u001b[0m \u001b[32m174.1/176.1 kB\u001b[0m \u001b[31m5.0 MB/s\u001b[0m eta \u001b[36m0:00:01\u001b[0m\r\u001b[2K     \u001b[90m━━━━━━━━━━━━━━━━━━━━━━━━━━━━━━━━━━━━━━━\u001b[0m \u001b[32m176.1/176.1 kB\u001b[0m \u001b[31m3.9 MB/s\u001b[0m eta \u001b[36m0:00:00\u001b[0m\n",
            "\u001b[?25h"
          ]
        }
      ]
    },
    {
      "cell_type": "code",
      "source": [
        "import keras_tuner as kt"
      ],
      "metadata": {
        "id": "g3k8yPrBmbgh"
      },
      "execution_count": null,
      "outputs": []
    },
    {
      "cell_type": "code",
      "source": [
        "(img_train, label_train), (img_test, label_test) = keras.datasets.fashion_mnist.load_data()"
      ],
      "metadata": {
        "colab": {
          "base_uri": "https://localhost:8080/"
        },
        "id": "z9z_eexhmc41",
        "outputId": "3baf00cf-4bea-49c2-cfe2-a7b9ebbe24de"
      },
      "execution_count": null,
      "outputs": [
        {
          "output_type": "stream",
          "name": "stdout",
          "text": [
            "Downloading data from https://storage.googleapis.com/tensorflow/tf-keras-datasets/train-labels-idx1-ubyte.gz\n",
            "29515/29515 [==============================] - 0s 0us/step\n",
            "Downloading data from https://storage.googleapis.com/tensorflow/tf-keras-datasets/train-images-idx3-ubyte.gz\n",
            "26421880/26421880 [==============================] - 1s 0us/step\n",
            "Downloading data from https://storage.googleapis.com/tensorflow/tf-keras-datasets/t10k-labels-idx1-ubyte.gz\n",
            "5148/5148 [==============================] - 0s 0us/step\n",
            "Downloading data from https://storage.googleapis.com/tensorflow/tf-keras-datasets/t10k-images-idx3-ubyte.gz\n",
            "4422102/4422102 [==============================] - 1s 0us/step\n"
          ]
        }
      ]
    },
    {
      "cell_type": "code",
      "source": [
        "# Normalize pixel values between 0 and 1\n",
        "img_train = img_train.astype('float32') / 255.0\n",
        "img_test = img_test.astype('float32') / 255.0"
      ],
      "metadata": {
        "id": "l0fR79c4mePy"
      },
      "execution_count": null,
      "outputs": []
    },
    {
      "cell_type": "markdown",
      "source": [
        "- 하이퍼튜닝을 위한 모형 구축 시 하이퍼 파라미터 탐색 공간 정의\n",
        "- 하이퍼 모델: 하이퍼튜닝을 위해 설정하는 모델\n",
        "\n",
        "- 하이퍼 모형의 설정\n",
        " - 모델 빌더 함수 사용: Keras Tuner API의 HyperModel 클래스를 하위 클래스화\n",
        " - 컴파일된 모델을 반환하고 인라인으로 정의한 하이퍼파라미터를 사용하여 모델을 하이퍼튜닝"
      ],
      "metadata": {
        "id": "HceYF6u4mgyG"
      }
    },
    {
      "cell_type": "code",
      "source": [
        "def model_builder(hp):\n",
        "  model = keras.Sequential()\n",
        "  model.add(keras.layers.Flatten(input_shape=(28, 28)))\n",
        "\n",
        "  # Choose an optimal value between 32-512\n",
        "  hp_units = hp.Int('units', min_value=32, max_value=512, step=32)\n",
        "  model.add(keras.layers.Dense(units=hp_units, activation='relu'))\n",
        "  model.add(keras.layers.Dense(10))\n",
        "\n",
        "  # Choose an optimal value from 0.01, 0.001, or 0.0001\n",
        "  hp_learning_rate = hp.Choice('learning_rate', values=[1e-2, 1e-3, 1e-4])\n",
        "\n",
        "  model.compile(optimizer=keras.optimizers.Adam(learning_rate=hp_learning_rate),\n",
        "                loss=keras.losses.SparseCategoricalCrossentropy(from_logits=True),\n",
        "                metrics=['accuracy'])\n",
        "\n",
        "  return model"
      ],
      "metadata": {
        "id": "sgbc8HPbmjBs"
      },
      "execution_count": null,
      "outputs": []
    },
    {
      "cell_type": "markdown",
      "source": [
        "- tuner 객체 만들고 튜닝 수행\n",
        " - randomsearch, hyperband, bayesianoptimization, sklearn 등의 tuner 가능\n",
        " - Hyperband 사용 시: objective와 epoch 지정"
      ],
      "metadata": {
        "id": "VvqyTbwgnWx2"
      }
    },
    {
      "cell_type": "code",
      "source": [
        "tuner = kt.Hyperband(model_builder,\n",
        "                     objective='val_accuracy',\n",
        "                     max_epochs=10,\n",
        "                     factor=3,\n",
        "                     directory='my_dir',\n",
        "                     project_name='intro_to_kt')"
      ],
      "metadata": {
        "id": "9qYF4v38mlMY"
      },
      "execution_count": null,
      "outputs": []
    },
    {
      "cell_type": "code",
      "source": [
        "class ClearTrainingOutput(tf.keras.callbacks.Callback): #조기 학습 중단을 위해 사용\n",
        "  def on_train_end(*args, **kwargs):\n",
        "    IPython.display.clear_output(wait = True)"
      ],
      "metadata": {
        "id": "hGTUOE6_mnKx"
      },
      "execution_count": null,
      "outputs": []
    },
    {
      "cell_type": "code",
      "source": [
        "#하이퍼 파라미터 탐색 실행\n",
        "tuner.search(img_train, label_train, epochs=50, validation_split=0.2, callbacks=[tf.keras.callbacks.EarlyStopping(patience=1)])\n",
        "\n",
        "# Get the optimal hyperparameters\n",
        "best_hps=tuner.get_best_hyperparameters(num_trials=1)[0]\n",
        "\n",
        "print(f\"\"\"\n",
        "optimal number of units:  {best_hps.get('units')}\n",
        "optimal learning rate for the optimizer:  {best_hps.get('learning_rate')}\n",
        "\"\"\")"
      ],
      "metadata": {
        "colab": {
          "base_uri": "https://localhost:8080/"
        },
        "id": "xi0GjM7bmov5",
        "outputId": "01a4a480-6ecc-4cbb-edf4-bf2fcd6f9aab"
      },
      "execution_count": null,
      "outputs": [
        {
          "output_type": "stream",
          "name": "stdout",
          "text": [
            "Trial 30 Complete [00h 01m 23s]\n",
            "val_accuracy: 0.8552500009536743\n",
            "\n",
            "Best val_accuracy So Far: 0.8822500109672546\n",
            "Total elapsed time: 00h 12m 51s\n",
            "\n",
            "optimal number of units:  448\n",
            "optimal learning rate for the optimizer:  0.0001\n",
            "\n"
          ]
        }
      ]
    },
    {
      "cell_type": "code",
      "source": [
        "#탐색을 통해 찾은 하이퍼파라미터로 훈련 시 최적의 epoch을 발견\n",
        "model = tuner.hypermodel.build(best_hps)\n",
        "history = model.fit(img_train, label_train, epochs=50, validation_split=0.2)\n",
        "\n",
        "val_acc_per_epoch = history.history['val_accuracy']\n",
        "best_epoch = val_acc_per_epoch.index(max(val_acc_per_epoch)) + 1\n",
        "print('Best epoch: %d' % (best_epoch,))"
      ],
      "metadata": {
        "colab": {
          "base_uri": "https://localhost:8080/"
        },
        "id": "MDNF8PRYmqro",
        "outputId": "8eb57be8-647f-4d05-d972-aab7e3ef07c5"
      },
      "execution_count": null,
      "outputs": [
        {
          "output_type": "stream",
          "name": "stdout",
          "text": [
            "Epoch 1/50\n",
            "1500/1500 [==============================] - 6s 3ms/step - loss: 0.6385 - accuracy: 0.7909 - val_loss: 0.4968 - val_accuracy: 0.8241\n",
            "Epoch 2/50\n",
            "1500/1500 [==============================] - 5s 3ms/step - loss: 0.4465 - accuracy: 0.8480 - val_loss: 0.4553 - val_accuracy: 0.8371\n",
            "Epoch 3/50\n",
            "1500/1500 [==============================] - 5s 4ms/step - loss: 0.4022 - accuracy: 0.8623 - val_loss: 0.4123 - val_accuracy: 0.8547\n",
            "Epoch 4/50\n",
            "1500/1500 [==============================] - 5s 3ms/step - loss: 0.3761 - accuracy: 0.8700 - val_loss: 0.3755 - val_accuracy: 0.8682\n",
            "Epoch 5/50\n",
            "1500/1500 [==============================] - 5s 3ms/step - loss: 0.3567 - accuracy: 0.8736 - val_loss: 0.3697 - val_accuracy: 0.8706\n",
            "Epoch 6/50\n",
            "1500/1500 [==============================] - 5s 3ms/step - loss: 0.3407 - accuracy: 0.8814 - val_loss: 0.3643 - val_accuracy: 0.8717\n",
            "Epoch 7/50\n",
            "1500/1500 [==============================] - 5s 3ms/step - loss: 0.3278 - accuracy: 0.8836 - val_loss: 0.3485 - val_accuracy: 0.8761\n",
            "Epoch 8/50\n",
            "1500/1500 [==============================] - 6s 4ms/step - loss: 0.3148 - accuracy: 0.8883 - val_loss: 0.3458 - val_accuracy: 0.8752\n",
            "Epoch 9/50\n",
            "1500/1500 [==============================] - 5s 3ms/step - loss: 0.3054 - accuracy: 0.8910 - val_loss: 0.3333 - val_accuracy: 0.8798\n",
            "Epoch 10/50\n",
            "1500/1500 [==============================] - 5s 3ms/step - loss: 0.2971 - accuracy: 0.8936 - val_loss: 0.3392 - val_accuracy: 0.8805\n",
            "Epoch 11/50\n",
            "1500/1500 [==============================] - 5s 3ms/step - loss: 0.2873 - accuracy: 0.8981 - val_loss: 0.3296 - val_accuracy: 0.8799\n",
            "Epoch 12/50\n",
            "1500/1500 [==============================] - 5s 3ms/step - loss: 0.2794 - accuracy: 0.8994 - val_loss: 0.3399 - val_accuracy: 0.8770\n",
            "Epoch 13/50\n",
            "1500/1500 [==============================] - 6s 4ms/step - loss: 0.2718 - accuracy: 0.9028 - val_loss: 0.3185 - val_accuracy: 0.8874\n",
            "Epoch 14/50\n",
            "1500/1500 [==============================] - 5s 3ms/step - loss: 0.2648 - accuracy: 0.9062 - val_loss: 0.3179 - val_accuracy: 0.8849\n",
            "Epoch 15/50\n",
            "1500/1500 [==============================] - 6s 4ms/step - loss: 0.2591 - accuracy: 0.9079 - val_loss: 0.3165 - val_accuracy: 0.8846\n",
            "Epoch 16/50\n",
            "1500/1500 [==============================] - 5s 3ms/step - loss: 0.2544 - accuracy: 0.9095 - val_loss: 0.3235 - val_accuracy: 0.8823\n",
            "Epoch 17/50\n",
            "1500/1500 [==============================] - 5s 3ms/step - loss: 0.2484 - accuracy: 0.9122 - val_loss: 0.3099 - val_accuracy: 0.8901\n",
            "Epoch 18/50\n",
            "1500/1500 [==============================] - 6s 4ms/step - loss: 0.2421 - accuracy: 0.9136 - val_loss: 0.3053 - val_accuracy: 0.8901\n",
            "Epoch 19/50\n",
            "1500/1500 [==============================] - 5s 3ms/step - loss: 0.2370 - accuracy: 0.9157 - val_loss: 0.3037 - val_accuracy: 0.8893\n",
            "Epoch 20/50\n",
            "1500/1500 [==============================] - 6s 4ms/step - loss: 0.2323 - accuracy: 0.9183 - val_loss: 0.3010 - val_accuracy: 0.8923\n",
            "Epoch 21/50\n",
            "1500/1500 [==============================] - 5s 3ms/step - loss: 0.2271 - accuracy: 0.9184 - val_loss: 0.3014 - val_accuracy: 0.8932\n",
            "Epoch 22/50\n",
            "1500/1500 [==============================] - 5s 3ms/step - loss: 0.2233 - accuracy: 0.9202 - val_loss: 0.3021 - val_accuracy: 0.8929\n",
            "Epoch 23/50\n",
            "1500/1500 [==============================] - 7s 4ms/step - loss: 0.2184 - accuracy: 0.9221 - val_loss: 0.3059 - val_accuracy: 0.8909\n",
            "Epoch 24/50\n",
            "1500/1500 [==============================] - 5s 4ms/step - loss: 0.2138 - accuracy: 0.9250 - val_loss: 0.3008 - val_accuracy: 0.8945\n",
            "Epoch 25/50\n",
            "1500/1500 [==============================] - 5s 3ms/step - loss: 0.2088 - accuracy: 0.9266 - val_loss: 0.3028 - val_accuracy: 0.8920\n",
            "Epoch 26/50\n",
            "1500/1500 [==============================] - 5s 3ms/step - loss: 0.2057 - accuracy: 0.9264 - val_loss: 0.3195 - val_accuracy: 0.8870\n",
            "Epoch 27/50\n",
            "1500/1500 [==============================] - 5s 3ms/step - loss: 0.2006 - accuracy: 0.9301 - val_loss: 0.2989 - val_accuracy: 0.8917\n",
            "Epoch 28/50\n",
            "1500/1500 [==============================] - 6s 4ms/step - loss: 0.1985 - accuracy: 0.9300 - val_loss: 0.2944 - val_accuracy: 0.8946\n",
            "Epoch 29/50\n",
            "1500/1500 [==============================] - 5s 3ms/step - loss: 0.1937 - accuracy: 0.9326 - val_loss: 0.3012 - val_accuracy: 0.8944\n",
            "Epoch 30/50\n",
            "1500/1500 [==============================] - 5s 3ms/step - loss: 0.1898 - accuracy: 0.9337 - val_loss: 0.2989 - val_accuracy: 0.8967\n",
            "Epoch 31/50\n",
            "1500/1500 [==============================] - 5s 3ms/step - loss: 0.1864 - accuracy: 0.9354 - val_loss: 0.3101 - val_accuracy: 0.8932\n",
            "Epoch 32/50\n",
            "1500/1500 [==============================] - 5s 3ms/step - loss: 0.1835 - accuracy: 0.9358 - val_loss: 0.2951 - val_accuracy: 0.8956\n",
            "Epoch 33/50\n",
            "1500/1500 [==============================] - 5s 4ms/step - loss: 0.1790 - accuracy: 0.9371 - val_loss: 0.3018 - val_accuracy: 0.8930\n",
            "Epoch 34/50\n",
            "1500/1500 [==============================] - 5s 3ms/step - loss: 0.1766 - accuracy: 0.9379 - val_loss: 0.2964 - val_accuracy: 0.8958\n",
            "Epoch 35/50\n",
            "1500/1500 [==============================] - 5s 3ms/step - loss: 0.1721 - accuracy: 0.9399 - val_loss: 0.2959 - val_accuracy: 0.8965\n",
            "Epoch 36/50\n",
            "1500/1500 [==============================] - 6s 4ms/step - loss: 0.1682 - accuracy: 0.9411 - val_loss: 0.3078 - val_accuracy: 0.8920\n",
            "Epoch 37/50\n",
            "1500/1500 [==============================] - 5s 3ms/step - loss: 0.1650 - accuracy: 0.9423 - val_loss: 0.2950 - val_accuracy: 0.8982\n",
            "Epoch 38/50\n",
            "1500/1500 [==============================] - 5s 4ms/step - loss: 0.1624 - accuracy: 0.9428 - val_loss: 0.2954 - val_accuracy: 0.8962\n",
            "Epoch 39/50\n",
            "1500/1500 [==============================] - 5s 3ms/step - loss: 0.1605 - accuracy: 0.9443 - val_loss: 0.3204 - val_accuracy: 0.8888\n",
            "Epoch 40/50\n",
            "1500/1500 [==============================] - 5s 3ms/step - loss: 0.1573 - accuracy: 0.9450 - val_loss: 0.3032 - val_accuracy: 0.8949\n",
            "Epoch 41/50\n",
            "1500/1500 [==============================] - 5s 3ms/step - loss: 0.1529 - accuracy: 0.9477 - val_loss: 0.3049 - val_accuracy: 0.8969\n",
            "Epoch 42/50\n",
            "1500/1500 [==============================] - 5s 3ms/step - loss: 0.1515 - accuracy: 0.9485 - val_loss: 0.3018 - val_accuracy: 0.8982\n",
            "Epoch 43/50\n",
            "1500/1500 [==============================] - 5s 4ms/step - loss: 0.1478 - accuracy: 0.9496 - val_loss: 0.3010 - val_accuracy: 0.8961\n",
            "Epoch 44/50\n",
            "1500/1500 [==============================] - 5s 3ms/step - loss: 0.1447 - accuracy: 0.9508 - val_loss: 0.3069 - val_accuracy: 0.8965\n",
            "Epoch 45/50\n",
            "1500/1500 [==============================] - 5s 3ms/step - loss: 0.1424 - accuracy: 0.9513 - val_loss: 0.3061 - val_accuracy: 0.8964\n",
            "Epoch 46/50\n",
            "1500/1500 [==============================] - 5s 3ms/step - loss: 0.1394 - accuracy: 0.9529 - val_loss: 0.3023 - val_accuracy: 0.8978\n",
            "Epoch 47/50\n",
            "1500/1500 [==============================] - 5s 3ms/step - loss: 0.1368 - accuracy: 0.9544 - val_loss: 0.3220 - val_accuracy: 0.8928\n",
            "Epoch 48/50\n",
            "1500/1500 [==============================] - 5s 4ms/step - loss: 0.1339 - accuracy: 0.9543 - val_loss: 0.3021 - val_accuracy: 0.8977\n",
            "Epoch 49/50\n",
            "1500/1500 [==============================] - 5s 3ms/step - loss: 0.1320 - accuracy: 0.9562 - val_loss: 0.3034 - val_accuracy: 0.8999\n",
            "Epoch 50/50\n",
            "1500/1500 [==============================] - 5s 3ms/step - loss: 0.1289 - accuracy: 0.9573 - val_loss: 0.3131 - val_accuracy: 0.8960\n",
            "Best epoch: 49\n"
          ]
        }
      ]
    },
    {
      "cell_type": "code",
      "source": [
        "#최적 모형 객체 만들기\n",
        "hypermodel = tuner.hypermodel.build(best_hps)\n",
        "\n",
        "# 최적 epoch으로 학습\n",
        "hypermodel.fit(img_train, label_train, epochs=best_epoch, validation_split=0.2)"
      ],
      "metadata": {
        "colab": {
          "base_uri": "https://localhost:8080/"
        },
        "id": "bqgveVnlmr7T",
        "outputId": "7985e441-0552-4ed4-c68f-e11b0424d28d"
      },
      "execution_count": null,
      "outputs": [
        {
          "output_type": "stream",
          "name": "stdout",
          "text": [
            "Epoch 1/49\n",
            "1500/1500 [==============================] - 6s 4ms/step - loss: 0.6289 - accuracy: 0.7958 - val_loss: 0.4756 - val_accuracy: 0.8413\n",
            "Epoch 2/49\n",
            "1500/1500 [==============================] - 5s 3ms/step - loss: 0.4450 - accuracy: 0.8480 - val_loss: 0.4458 - val_accuracy: 0.8453\n",
            "Epoch 3/49\n",
            "1500/1500 [==============================] - 5s 3ms/step - loss: 0.4025 - accuracy: 0.8615 - val_loss: 0.3962 - val_accuracy: 0.8629\n",
            "Epoch 4/49\n",
            "1500/1500 [==============================] - 6s 4ms/step - loss: 0.3768 - accuracy: 0.8692 - val_loss: 0.3919 - val_accuracy: 0.8648\n",
            "Epoch 5/49\n",
            "1500/1500 [==============================] - 5s 3ms/step - loss: 0.3580 - accuracy: 0.8754 - val_loss: 0.3706 - val_accuracy: 0.8712\n",
            "Epoch 6/49\n",
            "1500/1500 [==============================] - 5s 3ms/step - loss: 0.3417 - accuracy: 0.8809 - val_loss: 0.3725 - val_accuracy: 0.8702\n",
            "Epoch 7/49\n",
            "1500/1500 [==============================] - 5s 3ms/step - loss: 0.3295 - accuracy: 0.8839 - val_loss: 0.3510 - val_accuracy: 0.8788\n",
            "Epoch 8/49\n",
            "1500/1500 [==============================] - 4s 3ms/step - loss: 0.3169 - accuracy: 0.8886 - val_loss: 0.3523 - val_accuracy: 0.8748\n",
            "Epoch 9/49\n",
            "1500/1500 [==============================] - 5s 4ms/step - loss: 0.3075 - accuracy: 0.8914 - val_loss: 0.3385 - val_accuracy: 0.8792\n",
            "Epoch 10/49\n",
            "1500/1500 [==============================] - 5s 3ms/step - loss: 0.2985 - accuracy: 0.8939 - val_loss: 0.3369 - val_accuracy: 0.8796\n",
            "Epoch 11/49\n",
            "1500/1500 [==============================] - 5s 4ms/step - loss: 0.2880 - accuracy: 0.8969 - val_loss: 0.3282 - val_accuracy: 0.8837\n",
            "Epoch 12/49\n",
            "1500/1500 [==============================] - 5s 3ms/step - loss: 0.2810 - accuracy: 0.8999 - val_loss: 0.3217 - val_accuracy: 0.8854\n",
            "Epoch 13/49\n",
            "1500/1500 [==============================] - 5s 3ms/step - loss: 0.2723 - accuracy: 0.9023 - val_loss: 0.3299 - val_accuracy: 0.8815\n",
            "Epoch 14/49\n",
            "1500/1500 [==============================] - 5s 4ms/step - loss: 0.2671 - accuracy: 0.9038 - val_loss: 0.3256 - val_accuracy: 0.8838\n",
            "Epoch 15/49\n",
            "1500/1500 [==============================] - 5s 3ms/step - loss: 0.2608 - accuracy: 0.9076 - val_loss: 0.3201 - val_accuracy: 0.8850\n",
            "Epoch 16/49\n",
            "1500/1500 [==============================] - 5s 3ms/step - loss: 0.2547 - accuracy: 0.9092 - val_loss: 0.3257 - val_accuracy: 0.8864\n",
            "Epoch 17/49\n",
            "1500/1500 [==============================] - 5s 3ms/step - loss: 0.2484 - accuracy: 0.9117 - val_loss: 0.3144 - val_accuracy: 0.8881\n",
            "Epoch 18/49\n",
            "1500/1500 [==============================] - 5s 3ms/step - loss: 0.2421 - accuracy: 0.9143 - val_loss: 0.3131 - val_accuracy: 0.8876\n",
            "Epoch 19/49\n",
            "1500/1500 [==============================] - 5s 4ms/step - loss: 0.2375 - accuracy: 0.9147 - val_loss: 0.3221 - val_accuracy: 0.8859\n",
            "Epoch 20/49\n",
            "1500/1500 [==============================] - 4s 3ms/step - loss: 0.2320 - accuracy: 0.9180 - val_loss: 0.3054 - val_accuracy: 0.8907\n",
            "Epoch 21/49\n",
            "1500/1500 [==============================] - 5s 3ms/step - loss: 0.2283 - accuracy: 0.9189 - val_loss: 0.3131 - val_accuracy: 0.8875\n",
            "Epoch 22/49\n",
            "1500/1500 [==============================] - 5s 4ms/step - loss: 0.2231 - accuracy: 0.9220 - val_loss: 0.3063 - val_accuracy: 0.8898\n",
            "Epoch 23/49\n",
            "1500/1500 [==============================] - 5s 3ms/step - loss: 0.2178 - accuracy: 0.9240 - val_loss: 0.3092 - val_accuracy: 0.8886\n",
            "Epoch 24/49\n",
            "1500/1500 [==============================] - 5s 4ms/step - loss: 0.2135 - accuracy: 0.9247 - val_loss: 0.3173 - val_accuracy: 0.8878\n",
            "Epoch 25/49\n",
            "1500/1500 [==============================] - 5s 3ms/step - loss: 0.2099 - accuracy: 0.9260 - val_loss: 0.3115 - val_accuracy: 0.8879\n",
            "Epoch 26/49\n",
            "1500/1500 [==============================] - 5s 3ms/step - loss: 0.2048 - accuracy: 0.9285 - val_loss: 0.2994 - val_accuracy: 0.8942\n",
            "Epoch 27/49\n",
            "1500/1500 [==============================] - 6s 4ms/step - loss: 0.2011 - accuracy: 0.9292 - val_loss: 0.3053 - val_accuracy: 0.8914\n",
            "Epoch 28/49\n",
            "1500/1500 [==============================] - 5s 3ms/step - loss: 0.1972 - accuracy: 0.9312 - val_loss: 0.3072 - val_accuracy: 0.8909\n",
            "Epoch 29/49\n",
            "1500/1500 [==============================] - 5s 4ms/step - loss: 0.1931 - accuracy: 0.9325 - val_loss: 0.3040 - val_accuracy: 0.8929\n",
            "Epoch 30/49\n",
            "1500/1500 [==============================] - 5s 3ms/step - loss: 0.1892 - accuracy: 0.9330 - val_loss: 0.3158 - val_accuracy: 0.8885\n",
            "Epoch 31/49\n",
            "1500/1500 [==============================] - 5s 3ms/step - loss: 0.1857 - accuracy: 0.9349 - val_loss: 0.3047 - val_accuracy: 0.8923\n",
            "Epoch 32/49\n",
            "1500/1500 [==============================] - 5s 4ms/step - loss: 0.1817 - accuracy: 0.9364 - val_loss: 0.3096 - val_accuracy: 0.8908\n",
            "Epoch 33/49\n",
            "1500/1500 [==============================] - 5s 3ms/step - loss: 0.1783 - accuracy: 0.9376 - val_loss: 0.2927 - val_accuracy: 0.8969\n",
            "Epoch 34/49\n",
            "1500/1500 [==============================] - 5s 3ms/step - loss: 0.1763 - accuracy: 0.9391 - val_loss: 0.3012 - val_accuracy: 0.8956\n",
            "Epoch 35/49\n",
            "1500/1500 [==============================] - 5s 4ms/step - loss: 0.1721 - accuracy: 0.9408 - val_loss: 0.2940 - val_accuracy: 0.8962\n",
            "Epoch 36/49\n",
            "1500/1500 [==============================] - 5s 3ms/step - loss: 0.1682 - accuracy: 0.9423 - val_loss: 0.2939 - val_accuracy: 0.8972\n",
            "Epoch 37/49\n",
            "1500/1500 [==============================] - 5s 4ms/step - loss: 0.1648 - accuracy: 0.9432 - val_loss: 0.3047 - val_accuracy: 0.8944\n",
            "Epoch 38/49\n",
            "1500/1500 [==============================] - 5s 3ms/step - loss: 0.1618 - accuracy: 0.9445 - val_loss: 0.3027 - val_accuracy: 0.8949\n",
            "Epoch 39/49\n",
            "1500/1500 [==============================] - 5s 3ms/step - loss: 0.1585 - accuracy: 0.9459 - val_loss: 0.3005 - val_accuracy: 0.8949\n",
            "Epoch 40/49\n",
            "1500/1500 [==============================] - 5s 4ms/step - loss: 0.1560 - accuracy: 0.9468 - val_loss: 0.2979 - val_accuracy: 0.8975\n",
            "Epoch 41/49\n",
            "1500/1500 [==============================] - 5s 4ms/step - loss: 0.1527 - accuracy: 0.9487 - val_loss: 0.3113 - val_accuracy: 0.8956\n",
            "Epoch 42/49\n",
            "1500/1500 [==============================] - 5s 4ms/step - loss: 0.1498 - accuracy: 0.9489 - val_loss: 0.3059 - val_accuracy: 0.8958\n",
            "Epoch 43/49\n",
            "1500/1500 [==============================] - 5s 3ms/step - loss: 0.1475 - accuracy: 0.9492 - val_loss: 0.2983 - val_accuracy: 0.8981\n",
            "Epoch 44/49\n",
            "1500/1500 [==============================] - 5s 4ms/step - loss: 0.1441 - accuracy: 0.9508 - val_loss: 0.2988 - val_accuracy: 0.8999\n",
            "Epoch 45/49\n",
            "1500/1500 [==============================] - 5s 3ms/step - loss: 0.1415 - accuracy: 0.9522 - val_loss: 0.3028 - val_accuracy: 0.8972\n",
            "Epoch 46/49\n",
            "1500/1500 [==============================] - 5s 3ms/step - loss: 0.1394 - accuracy: 0.9529 - val_loss: 0.3027 - val_accuracy: 0.8982\n",
            "Epoch 47/49\n",
            "1500/1500 [==============================] - 6s 4ms/step - loss: 0.1354 - accuracy: 0.9539 - val_loss: 0.3073 - val_accuracy: 0.8967\n",
            "Epoch 48/49\n",
            "1500/1500 [==============================] - 5s 3ms/step - loss: 0.1334 - accuracy: 0.9550 - val_loss: 0.3103 - val_accuracy: 0.8942\n",
            "Epoch 49/49\n",
            "1500/1500 [==============================] - 5s 3ms/step - loss: 0.1307 - accuracy: 0.9558 - val_loss: 0.3069 - val_accuracy: 0.8969\n"
          ]
        },
        {
          "output_type": "execute_result",
          "data": {
            "text/plain": [
              "<keras.callbacks.History at 0x7ca9723eb520>"
            ]
          },
          "metadata": {},
          "execution_count": 43
        }
      ]
    },
    {
      "cell_type": "code",
      "source": [
        "eval_result = hypermodel.evaluate(img_test, label_test)\n",
        "print(\"[test loss, test accuracy]:\", eval_result)"
      ],
      "metadata": {
        "colab": {
          "base_uri": "https://localhost:8080/"
        },
        "id": "yrRdslDnmtbh",
        "outputId": "8fbbe519-9366-4349-8661-dc0502a14603"
      },
      "execution_count": null,
      "outputs": [
        {
          "output_type": "stream",
          "name": "stdout",
          "text": [
            "313/313 [==============================] - 1s 3ms/step - loss: 0.3296 - accuracy: 0.8914\n",
            "[test loss, test accuracy]: [0.3296207785606384, 0.8913999795913696]\n"
          ]
        }
      ]
    },
    {
      "cell_type": "code",
      "source": [
        "!pip install -q -U keras-tuner"
      ],
      "metadata": {
        "colab": {
          "base_uri": "https://localhost:8080/"
        },
        "id": "vj4p4EJr7Btq",
        "outputId": "f098a37b-00e0-4dae-8b25-60930849e0fa"
      },
      "execution_count": null,
      "outputs": [
        {
          "output_type": "stream",
          "name": "stdout",
          "text": [
            "\u001b[?25l     \u001b[90m━━━━━━━━━━━━━━━━━━━━━━━━━━━━━━━━━━━━━━━━\u001b[0m \u001b[32m0.0/176.1 kB\u001b[0m \u001b[31m?\u001b[0m eta \u001b[36m-:--:--\u001b[0m\r\u001b[2K     \u001b[91m━━━━━━━━━━━━━━━━━━━━━━━━━━━━━━━━━━━━━━\u001b[0m\u001b[91m╸\u001b[0m \u001b[32m174.1/176.1 kB\u001b[0m \u001b[31m5.3 MB/s\u001b[0m eta \u001b[36m0:00:01\u001b[0m\r\u001b[2K     \u001b[90m━━━━━━━━━━━━━━━━━━━━━━━━━━━━━━━━━━━━━━━\u001b[0m \u001b[32m176.1/176.1 kB\u001b[0m \u001b[31m4.3 MB/s\u001b[0m eta \u001b[36m0:00:00\u001b[0m\n",
            "\u001b[?25h"
          ]
        }
      ]
    },
    {
      "cell_type": "code",
      "source": [
        "import tensorflow as tf\n",
        "from tensorflow import keras\n",
        "\n",
        "def model_builder(hp):\n",
        "  model = keras.Sequential()\n",
        "  model.add(keras.layers.Flatten(input_shape=(720, 1)))\n",
        "\n",
        "  # Choose an optimal value between 32-512\n",
        "  hp_units = hp.Int('units', min_value=32, max_value=512, step=32)\n",
        "  model.add(keras.layers.Dense(units=hp_units, activation='relu'))\n",
        "  model.add(keras.layers.Dense(10))\n",
        "\n",
        "  # Choose an optimal value from 0.01, 0.001, or 0.0001\n",
        "  hp_learning_rate = hp.Choice('learning_rate', values=[1e-2, 1e-3, 1e-4])\n",
        "\n",
        "  model.compile(optimizer=keras.optimizers.Adam(learning_rate=hp_learning_rate),\n",
        "                loss=keras.losses.SparseCategoricalCrossentropy(from_logits=True),\n",
        "                metrics=['accuracy'])\n",
        "\n",
        "  return model"
      ],
      "metadata": {
        "id": "RLUDNsPF7QSC"
      },
      "execution_count": null,
      "outputs": []
    },
    {
      "cell_type": "code",
      "source": [
        "import numpy as np\n",
        "import pandas as pd\n",
        "import keras_tuner as kt\n",
        "from tensorflow.keras.layers import SimpleRNN, Flatten, Dense, LSTM, GRU\n",
        "from tensorflow.keras.models import Sequential\n",
        "from sklearn.preprocessing import MinMaxScaler\n",
        "\n",
        "data=pd.read_csv('AMZN.csv', header=0,index_col=\"Date\")\n",
        "arr = MinMaxScaler().fit_transform(data)[:,3]\n",
        "\n",
        "x, y = make_sequence( arr, 3 )\n",
        "\n",
        "x = x.reshape(-1, 3, 1)\n",
        "y = y.reshape(-1, 1)\n",
        "x_train = x[0:40]\n",
        "x_test = x[40:]\n",
        "y_train = y[0:40]\n",
        "y_test = y[40:]\n",
        "\n",
        "tuner = kt.Hyperband(model_builder,\n",
        "                     #objective='val_accuracy',\n",
        "                     objective='val_mean_squared_error',\n",
        "                     max_epochs=10,\n",
        "                     factor=3,\n",
        "                     directory='my_dir',\n",
        "                     project_name='intro_to_kt')\n",
        "\n",
        "#하이퍼 파라미터 탐색 실행\n",
        "tuner.search(x_train, y_train, epochs=50, validation_split=0.2, callbacks=[tf.keras.callbacks.EarlyStopping(patience=1)])\n",
        "\n",
        "# Get the optimal hyperparameters\n",
        "best_hps=tuner.get_best_hyperparameters(num_trials=1)[0]\n",
        "\n",
        "print(f\"\"\"\n",
        "optimal number of units:  {best_hps.get('units')}\n",
        "optimal learning rate for the optimizer:  {best_hps.get('learning_rate')}\n",
        "\"\"\")\n"
      ],
      "metadata": {
        "colab": {
          "base_uri": "https://localhost:8080/"
        },
        "id": "SQGgdGqc6C6y",
        "outputId": "b39f19e8-6735-44b2-d67e-0297f220f522"
      },
      "execution_count": null,
      "outputs": [
        {
          "output_type": "stream",
          "name": "stdout",
          "text": [
            "Trial 26 Complete [00h 00m 02s]\n",
            "val_accuracy: 0.0\n",
            "\n",
            "Best val_accuracy So Far: 0.0\n",
            "Total elapsed time: 00h 00m 51s\n",
            "\n",
            "optimal number of units:  32\n",
            "optimal learning rate for the optimizer:  0.01\n",
            "\n"
          ]
        }
      ]
    },
    {
      "cell_type": "code",
      "source": [
        "model = Sequential()\n",
        "model.add(GRU(units = 32, activation = 'tanh', input_shape = (3, 1))) #units: output의 dimension, relu대신 tanh 사용\n",
        "model.add(Dense(1, activation = 'linear'))\n",
        "model.compile(optimizer = 'adam', loss = 'mse')  #mean squared error\n",
        "model.fit(x_train, y_train, epochs=10)\n",
        "print(\"LSTM - \", model.evaluate(x_test, y_test))"
      ],
      "metadata": {
        "colab": {
          "base_uri": "https://localhost:8080/"
        },
        "id": "2JZAcHuN8KUD",
        "outputId": "19917f44-05d3-41e9-9682-a315ec83548d"
      },
      "execution_count": null,
      "outputs": [
        {
          "output_type": "stream",
          "name": "stdout",
          "text": [
            "Epoch 1/10\n",
            "2/2 [==============================] - 3s 11ms/step - loss: 0.0452\n",
            "Epoch 2/10\n",
            "2/2 [==============================] - 0s 7ms/step - loss: 0.0328\n",
            "Epoch 3/10\n",
            "2/2 [==============================] - 0s 7ms/step - loss: 0.0228\n",
            "Epoch 4/10\n",
            "2/2 [==============================] - 0s 7ms/step - loss: 0.0150\n",
            "Epoch 5/10\n",
            "2/2 [==============================] - 0s 7ms/step - loss: 0.0093\n",
            "Epoch 6/10\n",
            "2/2 [==============================] - 0s 7ms/step - loss: 0.0057\n",
            "Epoch 7/10\n",
            "2/2 [==============================] - 0s 7ms/step - loss: 0.0040\n",
            "Epoch 8/10\n",
            "2/2 [==============================] - 0s 7ms/step - loss: 0.0037\n",
            "Epoch 9/10\n",
            "2/2 [==============================] - 0s 7ms/step - loss: 0.0044\n",
            "Epoch 10/10\n",
            "2/2 [==============================] - 0s 7ms/step - loss: 0.0053\n",
            "7/7 [==============================] - 0s 3ms/step - loss: 0.0122\n",
            "LSTM -  0.012244701385498047\n"
          ]
        }
      ]
    },
    {
      "cell_type": "code",
      "source": [
        "!wget https://s3.amazonaws.com/keras-datasets/jena_climate_2009_2016.csv.zip\n",
        "!unzip /content/jena_climate_2009_2016.csv.zip"
      ],
      "metadata": {
        "id": "8ELO9rsp53RC"
      },
      "execution_count": null,
      "outputs": []
    },
    {
      "cell_type": "code",
      "source": [
        "import numpy as np\n",
        "import pandas as pd\n",
        "import keras_tuner as kt\n",
        "from tensorflow.keras.layers import SimpleRNN, Flatten, Dense, LSTM, GRU\n",
        "from tensorflow.keras.models import Sequential\n",
        "from sklearn.preprocessing import MinMaxScaler\n",
        "\n",
        "data=pd.read_csv('jena_climate_2009_2016.csv', header=0,index_col=\"Date Time\")"
      ],
      "metadata": {
        "id": "4GdFLkPO-B97"
      },
      "execution_count": null,
      "outputs": []
    },
    {
      "cell_type": "code",
      "source": [
        "arr = MinMaxScaler().fit_transform(data)[:, 1]\n",
        "\n",
        "x, y = make_sequence( arr, 720 )\n",
        "\n",
        "x = x.reshape(-1, len(x), 1)\n",
        "y = y.reshape(-1, len(y))\n",
        "\n",
        "x_train = x[0: 321958]\n",
        "y_train = y[0: 321958]\n",
        "x_test = x[321958: ]\n",
        "y_test = y[321958: ]\n",
        "\n",
        "tuner = kt.Hyperband(model_builder,\n",
        "                     #objective='val_accuracy',\n",
        "                     objective='val_mean_squared_error',\n",
        "                     max_epochs=100,\n",
        "                     factor=3,\n",
        "                     directory='my_dir',\n",
        "                     project_name='intro_to_kt')\n",
        "\n",
        "#하이퍼 파라미터 탐색 실행\n",
        "tuner.search(x_train, y_train, epochs=200, validation_split=0.2, callbacks=[tf.keras.callbacks.EarlyStopping(patience=1)])\n",
        "\n",
        "# Get the optimal hyperparameters\n",
        "best_hps=tuner.get_best_hyperparameters(num_trials=1)[0]\n",
        "\n",
        "print(f\"\"\"\n",
        "optimal number of units:  {best_hps.get('units')}\n",
        "optimal learning rate for the optimizer:  {best_hps.get('learning_rate')}\n",
        "\"\"\")"
      ],
      "metadata": {
        "colab": {
          "base_uri": "https://localhost:8080/"
        },
        "id": "GzD-tard-hpU",
        "outputId": "69d5deaf-3d57-434a-c7bd-df562fd36553"
      },
      "execution_count": null,
      "outputs": [
        {
          "output_type": "stream",
          "name": "stdout",
          "text": [
            "\n",
            "optimal number of units:  96\n",
            "optimal learning rate for the optimizer:  0.001\n",
            "\n"
          ]
        }
      ]
    },
    {
      "cell_type": "code",
      "source": [
        "model = Sequential()\n",
        "model.add(GRU(units = 96, activation = 'tanh', input_shape = (720, 1))) #units: output의 dimension, relu대신 tanh 사용\n",
        "model.compile(optimizer = 'adam', loss = 'mse')  #mean squared error\n",
        "model.fit(x_test, y_test, epochs=10)\n",
        "print(\"LSTM - \", model.evaluate(x_test, y_test))"
      ],
      "metadata": {
        "id": "1865cOZM-jKM"
      },
      "execution_count": null,
      "outputs": []
    }
  ]
}