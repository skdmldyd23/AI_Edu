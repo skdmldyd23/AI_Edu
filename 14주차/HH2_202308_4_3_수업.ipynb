{
  "nbformat": 4,
  "nbformat_minor": 0,
  "metadata": {
    "colab": {
      "provenance": [],
      "gpuType": "T4"
    },
    "kernelspec": {
      "name": "python3",
      "display_name": "Python 3"
    },
    "language_info": {
      "name": "python"
    },
    "accelerator": "GPU"
  },
  "cells": [
    {
      "cell_type": "markdown",
      "source": [
        "# TensorFlow로 ANN 시작하기"
      ],
      "metadata": {
        "id": "-5tldUu0CFuG"
      }
    },
    {
      "cell_type": "code",
      "execution_count": null,
      "metadata": {
        "id": "Fy87cJCLCC3z"
      },
      "outputs": [],
      "source": [
        "import numpy as np\n",
        "import tensorflow as tf\n",
        "import matplotlib.pyplot as plt\n",
        "\n",
        "from tensorflow.keras.models import Sequential\n",
        "from tensorflow.keras.layers import Dense\n",
        "from tensorflow.keras.optimizers import SGD\n",
        "from tensorflow.keras.losses import mse\n",
        "\n",
        "tf.random.set_seed(1234) #random seed 설정\n"
      ]
    },
    {
      "cell_type": "code",
      "source": [
        "# 연습용 데이터\n",
        "x = np.array([[0,0],[1,0],[0,1],[1,1]])\n",
        "y = np.array([[0],[1],[1],[1]])"
      ],
      "metadata": {
        "id": "pqf9WWnNtKEP"
      },
      "execution_count": null,
      "outputs": []
    },
    {
      "cell_type": "code",
      "source": [
        "# 인공신경망 모형 구성(퍼셉트론)\n",
        "model = Sequential()\n",
        "model.add(Dense(3, input_shape = (2, ), activation = 'linear')) #\n",
        "model.add(Dense(3, input_shape = (2, ), activation = 'linear')) #\n",
        "model.add(Dense(1, activation = 'linear')) #\n",
        "#모형 컴파일\n",
        "model.compile(optimizer = 'SGD', loss = mse, metrics = ['acc']) #평가지표 설정\n",
        "#모형 학습 및 가중치 확인\n",
        "model.fit(x,y,epochs = 10)\n",
        "model.get_weights()"
      ],
      "metadata": {
        "id": "hiVRaq7qtHzE"
      },
      "execution_count": null,
      "outputs": []
    },
    {
      "cell_type": "code",
      "source": [
        "from sklearn.neural_network import MLPClassifier\n",
        "model = MLPClassifier( hidden_layer_sizes=(3,1) )\n",
        "model.fit( x,y)\n"
      ],
      "metadata": {
        "id": "XcSvd4W0yMPv"
      },
      "execution_count": null,
      "outputs": []
    },
    {
      "cell_type": "code",
      "source": [
        "#date_semi.csv를 읽으셔서 #Y: Pass.Fail #X: 나머지들...\n",
        "#인공신경망을 fitting #tensorflow, activation=relu, 마지막은닉층 softmax,#scaling, ohe\n",
        "#2시까지\n",
        "from tensorflow.keras.optimizers import SGD, Adam\n",
        "import pandas as pd\n",
        "data = pd.read_csv(\"data_semi.csv\")\n",
        "y = pd.get_dummies( data[\"Pass.Fail\"])\n",
        "X = data.drop(\"Pass.Fail\", axis=1)#credit[ [\"income\", \"age\", \"loan\"]]\n",
        "from sklearn.preprocessing import MinMaxScaler\n",
        "X_scaled = MinMaxScaler().fit_transform(X)\n",
        "from sklearn.model_selection import train_test_split\n",
        "X_train, X_test, y_train, y_test = train_test_split( X_scaled, y, stratify=y)\n",
        "model = Sequential()\n",
        "model.add( Dense( 8, activation=\"relu\", input_shape=(48,  ))    )\n",
        "model.add( Dense( 2, activation=\"softmax\") )\n",
        "model.compile(optimizer=Adam(learning_rate=0.0005),\n",
        "              loss=\"categorical_crossentropy\", metrics=['acc'])\n",
        "model.fit( X_train, y_train, epochs=30, batch_size=100)"
      ],
      "metadata": {
        "id": "LsEFn5vmwxu7"
      },
      "execution_count": null,
      "outputs": []
    },
    {
      "cell_type": "code",
      "source": [
        "pred = model.predict( X_test )\n",
        "import numpy as np\n",
        "pred_orig = np.argmax( pred, axis=1 ) #392개\n",
        "y_test_orig = np.argmax( y_test.values, axis=1)"
      ],
      "metadata": {
        "id": "-qSie_V1-YUZ"
      },
      "execution_count": null,
      "outputs": []
    },
    {
      "cell_type": "code",
      "source": [
        "from sklearn.metrics import classification_report\n",
        "print( classification_report( y_test_orig, pred_orig))"
      ],
      "metadata": {
        "colab": {
          "base_uri": "https://localhost:8080/"
        },
        "id": "0EJq_eLr_FLt",
        "outputId": "478eab41-d246-4b4a-9816-352809a23814"
      },
      "execution_count": null,
      "outputs": [
        {
          "output_type": "stream",
          "name": "stdout",
          "text": [
            "              precision    recall  f1-score   support\n",
            "\n",
            "           0       0.93      1.00      0.97       366\n",
            "           1       0.00      0.00      0.00        26\n",
            "\n",
            "    accuracy                           0.93       392\n",
            "   macro avg       0.47      0.50      0.48       392\n",
            "weighted avg       0.87      0.93      0.90       392\n",
            "\n"
          ]
        },
        {
          "output_type": "stream",
          "name": "stderr",
          "text": [
            "/usr/local/lib/python3.10/dist-packages/sklearn/metrics/_classification.py:1344: UndefinedMetricWarning: Precision and F-score are ill-defined and being set to 0.0 in labels with no predicted samples. Use `zero_division` parameter to control this behavior.\n",
            "  _warn_prf(average, modifier, msg_start, len(result))\n",
            "/usr/local/lib/python3.10/dist-packages/sklearn/metrics/_classification.py:1344: UndefinedMetricWarning: Precision and F-score are ill-defined and being set to 0.0 in labels with no predicted samples. Use `zero_division` parameter to control this behavior.\n",
            "  _warn_prf(average, modifier, msg_start, len(result))\n",
            "/usr/local/lib/python3.10/dist-packages/sklearn/metrics/_classification.py:1344: UndefinedMetricWarning: Precision and F-score are ill-defined and being set to 0.0 in labels with no predicted samples. Use `zero_division` parameter to control this behavior.\n",
            "  _warn_prf(average, modifier, msg_start, len(result))\n"
          ]
        }
      ]
    },
    {
      "cell_type": "code",
      "source": [],
      "metadata": {
        "id": "RLKUzDIl7AeY"
      },
      "execution_count": null,
      "outputs": []
    },
    {
      "cell_type": "markdown",
      "source": [
        "data.csv를 읽으셔서\n",
        "범주별로 고르게 포함되도록해서\n",
        "2000개 행만 샘플링하세요\n",
        "\n",
        "상황 컬럼을 target\n",
        "발화문 컬럼을 텍스트 처리하셔서\n",
        "DTM(또는 docvec으로)\n",
        "X변수들로 사용하세요.\n",
        "파티셔닝 8:2\n",
        "Y변수는 OHE\n",
        "\n",
        "상황 컬럼의 값을 분류하는\n",
        "분류모형을 만드세요\n",
        "->tensorflow를 이용하세요\n",
        "40분까지 해보세요"
      ],
      "metadata": {
        "id": "OyXdMbzGDwQg"
      }
    },
    {
      "cell_type": "code",
      "source": [
        "from tensorflow.keras.optimizers import SGD, Adam\n",
        "import pandas as pd\n",
        "data0 = pd.read_csv(\"data.csv\", encoding=\"CP949\")\n",
        "train, data = train_test_split( data0, stratify=data.상황, test_size=0.05)"
      ],
      "metadata": {
        "id": "Rt_QzN8QFwE4"
      },
      "execution_count": null,
      "outputs": []
    },
    {
      "cell_type": "code",
      "source": [
        "y = pd.get_dummies( data[\"상황\"])\n",
        "#!pip install konlpy\n",
        "from konlpy.tag import Okt\n",
        "okt = Okt()\n",
        "def token(text):\n",
        "  tmp = okt.nouns( text )\n",
        "  return tmp\n",
        "from sklearn.feature_extraction.text import TfidfVectorizer\n",
        "tfidf = TfidfVectorizer( tokenizer=token, stop_words=[\"것\", \"수\", \"가\",\"이\"], min_df=5 )\n",
        "X = tfidf.fit_transform( data.발화문)  #DTM, 2200*311"
      ],
      "metadata": {
        "id": "CJiqsUyBKR6K"
      },
      "execution_count": null,
      "outputs": []
    },
    {
      "cell_type": "code",
      "source": [
        "from sklearn.preprocessing import MinMaxScaler\n",
        "X_scaled = MinMaxScaler().fit_transform(X.toarray()  )\n",
        "from sklearn.model_selection import train_test_split\n",
        "X_train, X_test, y_train, y_test = train_test_split( X_scaled, y, stratify=y)\n",
        "model = Sequential()\n",
        "model.add( Dense( 64, activation=\"relu\", input_shape=(311,  ))    )#X변수 갯수\n",
        "model.add( Dense( 32, activation=\"relu\")    )#X변수 갯수\n",
        "model.add( Dense( 16, activation=\"relu\")    )#X변수 갯수\n",
        "model.add( Dense( 9, activation=\"softmax\") )  #target의 범주갯수\n",
        "model.compile(optimizer=Adam(learning_rate=0.0005),\n",
        "              loss=\"categorical_crossentropy\", metrics=['acc'])\n",
        "model.fit( X_train, y_train, epochs=30, batch_size=100) #80%..."
      ],
      "metadata": {
        "id": "GwUxst9FDvcE"
      },
      "execution_count": null,
      "outputs": []
    },
    {
      "cell_type": "code",
      "source": [
        "pred = model.predict( X_test )\n",
        "import numpy as np\n",
        "pred_orig = np.argmax( pred, axis=1 )\n",
        "y_test_orig = np.argmax( y_test.values, axis=1)"
      ],
      "metadata": {
        "id": "ioB91j6BDvcF"
      },
      "execution_count": null,
      "outputs": []
    },
    {
      "cell_type": "code",
      "source": [
        "from sklearn.metrics import classification_report\n",
        "print( classification_report( y_test_orig, pred_orig))"
      ],
      "metadata": {
        "colab": {
          "base_uri": "https://localhost:8080/"
        },
        "outputId": "bd1d74f1-1397-448e-c5f9-641e170e2e60",
        "id": "C3CpvxCVDvcF"
      },
      "execution_count": null,
      "outputs": [
        {
          "output_type": "stream",
          "name": "stdout",
          "text": [
            "              precision    recall  f1-score   support\n",
            "\n",
            "           0       0.63      0.69      0.65       105\n",
            "           1       0.66      0.56      0.61        41\n",
            "           2       0.72      0.72      0.72        58\n",
            "           3       0.55      0.52      0.53        52\n",
            "           4       0.72      0.68      0.70        57\n",
            "           5       0.76      0.54      0.63        41\n",
            "           6       0.61      0.75      0.67       139\n",
            "           7       0.62      0.43      0.51        35\n",
            "           8       0.67      0.45      0.54        22\n",
            "\n",
            "    accuracy                           0.64       550\n",
            "   macro avg       0.66      0.59      0.62       550\n",
            "weighted avg       0.65      0.64      0.64       550\n",
            "\n"
          ]
        }
      ]
    },
    {
      "cell_type": "markdown",
      "source": [
        "- 위에 있는 예제를 변형하셔서\n",
        "- 은닉층 2개인 ANN을 만드세요.\n",
        "- 은닉층1: 노드3,\n",
        "- 은닉층2: 노드1"
      ],
      "metadata": {
        "id": "e9N_CIGawKG2"
      }
    },
    {
      "cell_type": "markdown",
      "source": [
        "- Activation Function: Sigmoid VS ReLU VS TanH VS Step"
      ],
      "metadata": {
        "id": "4-hj8CLnCHg-"
      }
    },
    {
      "cell_type": "code",
      "source": [
        "\n",
        "def sigmoid(z):\n",
        "    return 1 / (1 + np.exp(-z))\n",
        "\n",
        "def relu(z):\n",
        "    return np.maximum(0, z)\n",
        "\n",
        "#함수 미분\n",
        "def derivative(f, z, eps=0.000001):\n",
        "    return (f(z + eps) - f(z - eps))/(2 * eps)\n",
        "\n",
        "z = np.linspace(-5, 5, 200)\n",
        "\n",
        "plt.figure(figsize=(11,4))\n",
        "plt.subplot(121)\n",
        "plt.plot(z, sigmoid(z), \"r--\", linewidth=2, label=\"Sigmoid\")\n",
        "plt.plot(z, relu(z), \"b-.\", linewidth=2, label=\"ReLU\")\n",
        "plt.grid(True)\n",
        "plt.legend(loc=\"center right\", fontsize=10)\n",
        "plt.title(\"Activation func\")\n",
        "\n",
        "plt.subplot(122)\n",
        "#plt.plot(z, derivative(np.sign, z), \"r-\", linewidth=1, label=\"Step\")\n",
        "#plt.plot(0, 0, \"ro\", markersize=5)\n",
        "#plt.plot(0, 0, \"rx\", markersize=10)\n",
        "plt.plot(z, derivative(sigmoid, z), \"r--\", linewidth=2, label=\"Sigmoid\")\n",
        "plt.plot(z, derivative(relu, z), \"b-.\", linewidth=2, label=\"ReLU\")\n",
        "plt.grid(True)\n",
        "plt.title(\"Derivatives\")\n",
        "plt.show()\n"
      ],
      "metadata": {
        "colab": {
          "base_uri": "https://localhost:8080/",
          "height": 281
        },
        "id": "UcKsKypKCHnY",
        "outputId": "1211ecd0-ad5b-4d6a-dc36-3342fe096516"
      },
      "execution_count": null,
      "outputs": [
        {
          "output_type": "display_data",
          "data": {
            "text/plain": [
              "<Figure size 792x288 with 2 Axes>"
            ],
            "image/png": "[encoded data removed]"
          },
          "metadata": {
            "needs_background": "light"
          }
        }
      ]
    },
    {
      "cell_type": "markdown",
      "source": [
        "# 학습율"
      ],
      "metadata": {
        "id": "qOzSKDsNCHsq"
      }
    },
    {
      "cell_type": "code",
      "source": [
        "tf.random.set_seed(1234)\n",
        "\n",
        "# XOR gate를 나타낸 X, Y\n",
        "x = np.array([[0,0],[1,0],[0,1],[1,1]])\n",
        "y = np.array([[0],[1],[1],[0]])\n",
        "\n",
        "#모형 구성\n",
        "model = Sequential()\n",
        "model.add(Dense(32, input_shape = (2, ), activation = 'relu')) #node의 수 32\n",
        "model.add(Dense(1, activation='sigmoid'))\n",
        "model.summary()\n",
        "\n",
        "#모형 컴파일\n",
        "model.compile(optimizer = 'adam', loss = mse, metrics = ['acc'])\n",
        "\n",
        "#학습\n",
        "model.fit(x,y,epochs = 50)\n",
        "\n",
        "#학습율과 경사하강\n",
        "lr_list = [0.001, 0.01, 0.1, 0.55]\n",
        "\n",
        "def get_derivative(lr_list):\n",
        "  weight_prev = 2\n",
        "  derivative = [weight_prev]\n",
        "  y = [weight_prev ** 2] # 손실 함수 y = x^2\n",
        "  for i in range(1,10):\n",
        "    dev_value = weight_prev **2 #미분값\n",
        "    #weight update\n",
        "    weight_new = weight_prev - lr * dev_value\n",
        "    weight_prev = weight_new\n",
        "    derivative.append(weight_prev) #weight\n",
        "    y.append(weight_prev ** 2) #loss\n",
        "  return derivative, y\n",
        "\n",
        "x = np.linspace(-3,3,90)\n",
        "x_square = [i**2 for i in x]\n",
        "\n",
        "#결과 비교\n",
        "fig = plt.figure(figsize=(8, 4))\n",
        "\n",
        "for i,lr in enumerate(lr_list):\n",
        "  derivative, y = get_derivative(lr)\n",
        "  ax = fig.add_subplot(2, 2, i+1)\n",
        "  ax.scatter(derivative, y, color = 'blue')\n",
        "  ax.plot(x, x_square)\n",
        "  ax.title.set_text('lr = '+str(lr))\n",
        "\n",
        "plt.show()\n"
      ],
      "metadata": {
        "colab": {
          "base_uri": "https://localhost:8080/",
          "height": 1000
        },
        "id": "8u1nw5Y1CHz6",
        "outputId": "fad141a3-a92b-44f4-d975-511f15072ee1"
      },
      "execution_count": null,
      "outputs": [
        {
          "output_type": "stream",
          "name": "stdout",
          "text": [
            "Model: \"sequential_1\"\n",
            "_________________________________________________________________\n",
            " Layer (type)                Output Shape              Param #   \n",
            "=================================================================\n",
            " dense_1 (Dense)             (None, 32)                96        \n",
            "                                                                 \n",
            " dense_2 (Dense)             (None, 1)                 33        \n",
            "                                                                 \n",
            "=================================================================\n",
            "Total params: 129\n",
            "Trainable params: 129\n",
            "Non-trainable params: 0\n",
            "_________________________________________________________________\n",
            "Epoch 1/50\n",
            "1/1 [==============================] - 0s 436ms/step - loss: 0.2535 - acc: 0.7500\n",
            "Epoch 2/50\n",
            "1/1 [==============================] - 0s 12ms/step - loss: 0.2529 - acc: 0.5000\n",
            "Epoch 3/50\n",
            "1/1 [==============================] - 0s 11ms/step - loss: 0.2523 - acc: 0.7500\n",
            "Epoch 4/50\n",
            "1/1 [==============================] - 0s 16ms/step - loss: 0.2517 - acc: 0.7500\n",
            "Epoch 5/50\n",
            "1/1 [==============================] - 0s 10ms/step - loss: 0.2511 - acc: 0.7500\n",
            "Epoch 6/50\n",
            "1/1 [==============================] - 0s 9ms/step - loss: 0.2505 - acc: 0.7500\n",
            "Epoch 7/50\n",
            "1/1 [==============================] - 0s 11ms/step - loss: 0.2499 - acc: 0.7500\n",
            "Epoch 8/50\n",
            "1/1 [==============================] - 0s 8ms/step - loss: 0.2493 - acc: 0.7500\n",
            "Epoch 9/50\n",
            "1/1 [==============================] - 0s 7ms/step - loss: 0.2487 - acc: 0.7500\n",
            "Epoch 10/50\n",
            "1/1 [==============================] - 0s 7ms/step - loss: 0.2481 - acc: 0.7500\n",
            "Epoch 11/50\n",
            "1/1 [==============================] - 0s 7ms/step - loss: 0.2475 - acc: 0.7500\n",
            "Epoch 12/50\n",
            "1/1 [==============================] - 0s 13ms/step - loss: 0.2469 - acc: 0.7500\n",
            "Epoch 13/50\n",
            "1/1 [==============================] - 0s 18ms/step - loss: 0.2464 - acc: 0.7500\n",
            "Epoch 14/50\n",
            "1/1 [==============================] - 0s 13ms/step - loss: 0.2458 - acc: 0.7500\n",
            "Epoch 15/50\n",
            "1/1 [==============================] - 0s 17ms/step - loss: 0.2452 - acc: 0.7500\n",
            "Epoch 16/50\n",
            "1/1 [==============================] - 0s 15ms/step - loss: 0.2446 - acc: 0.7500\n",
            "Epoch 17/50\n",
            "1/1 [==============================] - 0s 16ms/step - loss: 0.2441 - acc: 0.7500\n",
            "Epoch 18/50\n",
            "1/1 [==============================] - 0s 11ms/step - loss: 0.2435 - acc: 0.7500\n",
            "Epoch 19/50\n",
            "1/1 [==============================] - 0s 19ms/step - loss: 0.2430 - acc: 0.7500\n",
            "Epoch 20/50\n",
            "1/1 [==============================] - 0s 26ms/step - loss: 0.2425 - acc: 0.7500\n",
            "Epoch 21/50\n",
            "1/1 [==============================] - 0s 44ms/step - loss: 0.2419 - acc: 0.7500\n",
            "Epoch 22/50\n",
            "1/1 [==============================] - 0s 15ms/step - loss: 0.2414 - acc: 0.7500\n",
            "Epoch 23/50\n",
            "1/1 [==============================] - 0s 35ms/step - loss: 0.2409 - acc: 0.7500\n",
            "Epoch 24/50\n",
            "1/1 [==============================] - 0s 14ms/step - loss: 0.2403 - acc: 0.7500\n",
            "Epoch 25/50\n",
            "1/1 [==============================] - 0s 21ms/step - loss: 0.2398 - acc: 0.7500\n",
            "Epoch 26/50\n",
            "1/1 [==============================] - 0s 23ms/step - loss: 0.2393 - acc: 0.7500\n",
            "Epoch 27/50\n",
            "1/1 [==============================] - 0s 19ms/step - loss: 0.2388 - acc: 0.7500\n",
            "Epoch 28/50\n",
            "1/1 [==============================] - 0s 8ms/step - loss: 0.2383 - acc: 0.7500\n",
            "Epoch 29/50\n",
            "1/1 [==============================] - 0s 10ms/step - loss: 0.2378 - acc: 0.7500\n",
            "Epoch 30/50\n",
            "1/1 [==============================] - 0s 11ms/step - loss: 0.2373 - acc: 0.7500\n",
            "Epoch 31/50\n",
            "1/1 [==============================] - 0s 8ms/step - loss: 0.2367 - acc: 0.7500\n",
            "Epoch 32/50\n",
            "1/1 [==============================] - 0s 10ms/step - loss: 0.2362 - acc: 0.7500\n",
            "Epoch 33/50\n",
            "1/1 [==============================] - 0s 8ms/step - loss: 0.2357 - acc: 0.7500\n",
            "Epoch 34/50\n",
            "1/1 [==============================] - 0s 8ms/step - loss: 0.2352 - acc: 0.7500\n",
            "Epoch 35/50\n",
            "1/1 [==============================] - 0s 9ms/step - loss: 0.2347 - acc: 0.7500\n",
            "Epoch 36/50\n",
            "1/1 [==============================] - 0s 8ms/step - loss: 0.2342 - acc: 0.7500\n",
            "Epoch 37/50\n",
            "1/1 [==============================] - 0s 8ms/step - loss: 0.2338 - acc: 0.7500\n",
            "Epoch 38/50\n",
            "1/1 [==============================] - 0s 7ms/step - loss: 0.2333 - acc: 0.7500\n",
            "Epoch 39/50\n",
            "1/1 [==============================] - 0s 17ms/step - loss: 0.2328 - acc: 0.7500\n",
            "Epoch 40/50\n",
            "1/1 [==============================] - 0s 12ms/step - loss: 0.2324 - acc: 0.7500\n",
            "Epoch 41/50\n",
            "1/1 [==============================] - 0s 12ms/step - loss: 0.2319 - acc: 0.7500\n",
            "Epoch 42/50\n",
            "1/1 [==============================] - 0s 18ms/step - loss: 0.2315 - acc: 0.7500\n",
            "Epoch 43/50\n",
            "1/1 [==============================] - 0s 10ms/step - loss: 0.2311 - acc: 0.7500\n",
            "Epoch 44/50\n",
            "1/1 [==============================] - 0s 7ms/step - loss: 0.2307 - acc: 0.7500\n",
            "Epoch 45/50\n",
            "1/1 [==============================] - 0s 7ms/step - loss: 0.2303 - acc: 0.7500\n",
            "Epoch 46/50\n",
            "1/1 [==============================] - 0s 8ms/step - loss: 0.2299 - acc: 0.7500\n",
            "Epoch 47/50\n",
            "1/1 [==============================] - 0s 8ms/step - loss: 0.2295 - acc: 0.7500\n",
            "Epoch 48/50\n",
            "1/1 [==============================] - 0s 17ms/step - loss: 0.2291 - acc: 0.7500\n",
            "Epoch 49/50\n",
            "1/1 [==============================] - 0s 13ms/step - loss: 0.2287 - acc: 0.7500\n",
            "Epoch 50/50\n",
            "1/1 [==============================] - 0s 8ms/step - loss: 0.2283 - acc: 0.7500\n"
          ]
        },
        {
          "output_type": "display_data",
          "data": {
            "text/plain": [
              "<Figure size 576x288 with 4 Axes>"
            ],
            "image/png": "[encoded data removed]"
          },
          "metadata": {
            "needs_background": "light"
          }
        }
      ]
    },
    {
      "cell_type": "markdown",
      "source": [
        "#연습 1: creditset.csv에 DNN 적용, MLPClassifier와 비교"
      ],
      "metadata": {
        "id": "r8jmB17tC-d2"
      }
    },
    {
      "cell_type": "code",
      "execution_count": null,
      "metadata": {
        "id": "5jiwktasC2fs"
      },
      "outputs": [],
      "source": [
        "import pandas as pd\n",
        "import numpy as np\n",
        "from sklearn.model_selection import train_test_split\n",
        "from sklearn import preprocessing\n",
        "\n",
        "import tensorflow as tf\n",
        "from tensorflow.keras.models import Sequential\n",
        "from tensorflow.keras.layers import Dense\n",
        "from tensorflow.keras.optimizers import SGD\n",
        "from tensorflow.keras.losses import mse\n",
        "\n",
        "csv_data = pd.read_csv(\"creditset.csv\")\n",
        "X = csv_data.iloc[:, 1:4 ]\n",
        "y  = csv_data.iloc[:, 5 ]\n"
      ]
    },
    {
      "cell_type": "code",
      "source": [
        "#Partitioning\n",
        "X_train, X_test, y_train, y_test = train_test_split( X, y, test_size=0.3, random_state=42 )\n",
        "scaler = preprocessing.MinMaxScaler()\n",
        "X_train = scaler.fit_transform( X_train)\n",
        "X_test  = scaler.fit_transform( X_test  )"
      ],
      "metadata": {
        "id": "X8djrBQkUNEM"
      },
      "execution_count": null,
      "outputs": []
    },
    {
      "cell_type": "code",
      "source": [
        "from sklearn.neural_network import MLPClassifier\n",
        "mlp = MLPClassifier(hidden_layer_sizes=(6,3))\n",
        "mlp.fit(X_train,y_train)\n",
        "predictions = mlp.predict(X_test)\n",
        "\n",
        "np.mean( predictions == y_test )"
      ],
      "metadata": {
        "colab": {
          "base_uri": "https://localhost:8080/"
        },
        "id": "tg1nrQGOU0wy",
        "outputId": "b088d3d1-59ab-44d6-a817-3a7eb3440e72"
      },
      "execution_count": null,
      "outputs": [
        {
          "output_type": "stream",
          "name": "stderr",
          "text": [
            "/usr/local/lib/python3.7/dist-packages/sklearn/neural_network/_multilayer_perceptron.py:696: ConvergenceWarning: Stochastic Optimizer: Maximum iterations (200) reached and the optimization hasn't converged yet.\n",
            "  ConvergenceWarning,\n"
          ]
        },
        {
          "output_type": "execute_result",
          "data": {
            "text/plain": [
              "0.9333333333333333"
            ]
          },
          "metadata": {},
          "execution_count": 14
        }
      ]
    },
    {
      "cell_type": "code",
      "source": [
        "from sklearn.metrics import classification_report,confusion_matrix\n",
        "print( confusion_matrix(y_test,predictions) )\n",
        "print('\\n', classification_report(y_test,predictions) )"
      ],
      "metadata": {
        "colab": {
          "base_uri": "https://localhost:8080/"
        },
        "id": "fxrOjf7bT_Cs",
        "outputId": "8526ca15-c7f7-4905-bd9e-066ff6b0c95d"
      },
      "execution_count": null,
      "outputs": [
        {
          "output_type": "stream",
          "name": "stdout",
          "text": [
            "[[501   7]\n",
            " [ 33  59]]\n",
            "\n",
            "               precision    recall  f1-score   support\n",
            "\n",
            "           0       0.94      0.99      0.96       508\n",
            "           1       0.89      0.64      0.75        92\n",
            "\n",
            "    accuracy                           0.93       600\n",
            "   macro avg       0.92      0.81      0.85       600\n",
            "weighted avg       0.93      0.93      0.93       600\n",
            "\n"
          ]
        }
      ]
    },
    {
      "cell_type": "code",
      "source": [
        "#DNN\n",
        "from tensorflow.keras.utils import to_categorical\n",
        "y_train = to_categorical(y_train)\n",
        "y_test = to_categorical(y_test)\n",
        "np.argmax(y_test, axis = -1)"
      ],
      "metadata": {
        "id": "y8YKNkdTV2L4"
      },
      "execution_count": null,
      "outputs": []
    },
    {
      "cell_type": "code",
      "source": [
        "#모형 구성\n",
        "from tensorflow.keras.models import Sequential\n",
        "from tensorflow.keras.layers import Dense\n",
        "model = Sequential()\n",
        "model.add(Dense(6, activation = 'relu', input_shape = (3, ) ) ) # 은닉층1-입력:3, 출력 6를 표시\n",
        "model.add(Dense(3, activation = 'relu' ) ) # 은닉층2-입력:6, 출력 3를 표시\n",
        "model.add(Dense(2, activation = 'softmax'))  # 은닉층3-출력:2를 표시\n",
        "\n",
        "model.compile(optimizer = 'adam', loss = 'categorical_crossentropy', metrics = ['acc'])# 모형 컴파일\n",
        "\n",
        "# 학습\n",
        "history = model.fit(X_train, y_train, epochs = 20, batch_size = 100)\n",
        "history.history.keys()\n"
      ],
      "metadata": {
        "id": "JEd0fE1dDvpG"
      },
      "execution_count": null,
      "outputs": []
    },
    {
      "cell_type": "code",
      "source": [
        "# 모형 평가-train, test\n",
        "model.evaluate(X_test, y_test)\n",
        "results = model.predict(X_test)\n",
        "print(results.shape)\n",
        "\n",
        "#confusion matrix: skleanr.metrics의 기능\n",
        "from sklearn.metrics import classification_report, confusion_matrix\n",
        "print('\\n', classification_report(np.argmax(y_test, axis = -1), np.argmax(results, axis = -1)))"
      ],
      "metadata": {
        "id": "63j-dVrHXAPg"
      },
      "execution_count": null,
      "outputs": []
    },
    {
      "cell_type": "markdown",
      "source": [
        "- creditset.csv 에 대해서 tensorflow로 ANN모델링하세요.\n",
        "- 000000000 성능을 개선해보세요~\n",
        "- 4:25까지 해보세요"
      ],
      "metadata": {
        "id": "P0Bg-4CIXm9P"
      }
    },
    {
      "cell_type": "markdown",
      "source": [
        "#연습 2: 반도체 제조 data_semi.csv에 DNN 적용, ML과 비교"
      ],
      "metadata": {
        "id": "7WUcx7FXC_Qa"
      }
    },
    {
      "cell_type": "markdown",
      "source": [
        "- sklearn"
      ],
      "metadata": {
        "id": "of1H_iRlDQtD"
      }
    },
    {
      "cell_type": "code",
      "source": [
        "import pandas as pd\n",
        "import numpy as np\n",
        "csv_data = pd.read_csv(\"data_semi.csv\")\n",
        "csv_data.shape"
      ],
      "metadata": {
        "colab": {
          "base_uri": "https://localhost:8080/"
        },
        "id": "HcH60gDzbV28",
        "outputId": "fd95b725-4844-4798-a41a-ee9778e51cc4"
      },
      "execution_count": null,
      "outputs": [
        {
          "output_type": "execute_result",
          "data": {
            "text/plain": [
              "(1567, 49)"
            ]
          },
          "metadata": {},
          "execution_count": 24
        }
      ]
    },
    {
      "cell_type": "code",
      "source": [
        "from sklearn.model_selection import train_test_split\n",
        "from sklearn import preprocessing\n",
        "\n",
        "X = csv_data.iloc[:, 0:48 ]   #모든행, 1열~48열까지\n",
        "y = csv_data.iloc[:, 48 ]    #모든 행, 49열 인덱싱\n",
        "\n",
        "#Partitioning\n",
        "X_train, X_test, y_train, y_test = train_test_split( X, y, test_size=0.3, random_state=42 )\n",
        "scaler = preprocessing.MinMaxScaler()\n",
        "X_train = scaler.fit_transform( X_train)\n",
        "X_test  = scaler.fit_transform( X_test  )"
      ],
      "metadata": {
        "id": "hkMloSOxbwBO"
      },
      "execution_count": null,
      "outputs": []
    },
    {
      "cell_type": "code",
      "source": [
        "from sklearn.naive_bayes import MultinomialNB\n",
        "from sklearn.tree import DecisionTreeClassifier\n",
        "from sklearn.ensemble import RandomForestClassifier\n",
        "from sklearn.neighbors import KNeighborsClassifier\n",
        "from sklearn.svm import SVC\n",
        "from sklearn.neural_network import MLPClassifier\n",
        "\n",
        "#NB\n",
        "clf = MultinomialNB().fit(X_train, y_train)\n",
        "predicted = clf.predict(X_test)\n",
        "print('NB', np.mean(predicted == y_test))\n",
        "\n",
        "#DT\n",
        "dt1 = DecisionTreeClassifier().fit(X_train, y_train)\n",
        "pred = dt1.predict( X_test)\n",
        "print('DT', np.mean( pred == y_test ))\n",
        "\n",
        "#RF\n",
        "rf = RandomForestClassifier(n_estimators=300, random_state=42).fit(X_train, y_train)\n",
        "predicted = rf.predict(X_test)\n",
        "print('RF', np.mean( predicted == y_test ))\n",
        "\n",
        "#KNN\n",
        "knn = KNeighborsClassifier().fit(X_train, y_train)  #k=5\n",
        "predicted = knn.predict(X_test)\n",
        "print('KNN', np.mean( predicted == y_test ))\n",
        "\n",
        "#SVM\n",
        "svm = SVC().fit(X_train, y_train)\n",
        "predicted = svm.predict(X_test)\n",
        "print('SVM', np.mean( predicted == y_test ))\n",
        "\n",
        "#ANN\n",
        "mlp = MLPClassifier(hidden_layer_sizes=(24,12,6)).fit(X_train,y_train)\n",
        "predictions = mlp.predict(X_test)\n",
        "print('ANN',np.mean( predictions == y_test ))"
      ],
      "metadata": {
        "colab": {
          "base_uri": "https://localhost:8080/"
        },
        "id": "Ye5TDh89C_Wx",
        "outputId": "cc715adc-0fb4-4d71-fdba-fd3d4a4cbcfe"
      },
      "execution_count": null,
      "outputs": [
        {
          "output_type": "stream",
          "name": "stdout",
          "text": [
            "NB 0.9320594479830149\n",
            "DT 0.6093418259023354\n",
            "RF 0.9299363057324841\n",
            "KNN 0.9320594479830149\n",
            "SVM 0.9341825902335457\n",
            "ANN 0.9341825902335457\n"
          ]
        }
      ]
    },
    {
      "cell_type": "markdown",
      "source": [
        "- tensorflow"
      ],
      "metadata": {
        "id": "LwqTzpSDC_fy"
      }
    },
    {
      "cell_type": "code",
      "source": [
        "#DNN\n",
        "from tensorflow.keras.utils import to_categorical\n",
        "y_train = to_categorical(y_train)\n",
        "y_test = to_categorical(y_test)\n",
        "\n",
        "#모형 구성\n",
        "from tensorflow.keras.models import Sequential\n",
        "from tensorflow.keras.layers import Dense\n",
        "model = Sequential()\n",
        "model.add(Dense(24, activation = 'relu', input_shape = (48, ) ) )\n",
        "model.add(Dense(12, activation = 'relu' ) )\n",
        "model.add(Dense(6, activation = 'relu' ) )\n",
        "model.add(Dense(2, activation = 'softmax'))\n",
        "\n",
        "model.compile(optimizer = 'adam', loss = 'categorical_crossentropy', metrics = ['acc'])# 모형 컴파일\n",
        "\n",
        "# 학습\n",
        "history = model.fit(X_train, y_train, epochs = 20, batch_size = 100)\n",
        "history.history.keys()\n",
        "\n",
        "# 모형 평가-train, test\n",
        "model.evaluate(X_test, y_test)\n",
        "\n",
        "results = model.predict(X_test)\n",
        "print(results.shape)\n",
        "\n",
        "#confusion matrix: skleanr.metrics의 기능\n",
        "from sklearn.metrics import classification_report, confusion_matrix\n",
        "print('\\n', classification_report(np.argmax(y_test, axis = -1), np.argmax(results, axis = -1)))"
      ],
      "metadata": {
        "id": "dv3b75s5C_lm"
      },
      "execution_count": null,
      "outputs": []
    },
    {
      "cell_type": "markdown",
      "source": [
        "# 연습3: DNN 활용"
      ],
      "metadata": {
        "id": "wIfGaPlxgxHt"
      }
    },
    {
      "cell_type": "markdown",
      "source": [
        "- sp500_tm.csv 를 읽으셔서\n",
        "- train, test 파티셔닝 / minmax scaling 하셔서\n",
        "- y는 OHE 적용하세요\n",
        "- 8-4-2 ANN를 만들어보세요\n",
        "- relu, relu, softmax\n",
        "- epoch 10으로 지정하세요.\n"
      ],
      "metadata": {
        "id": "VmiCalJtGW87"
      }
    },
    {
      "cell_type": "code",
      "source": [
        "import pandas as pd\n",
        "csv = pd.read_csv(\"sp500_tm.csv\")\n",
        "from sklearn.model_selection import train_test_split\n",
        "X_train, X_test, y_train, y_test = train_test_split( csv.iloc[ :, 0:3], csv.Direction,\n",
        "                                                    test_size=0.3)\n",
        "from sklearn.preprocessing import MinMaxScaler\n",
        "scaler = MinMaxScaler()\n",
        "X_train = scaler.fit_transform( X_train)\n",
        "X_test = scaler.fit_transform( X_test)\n",
        "y_train = to_categorical( y_train )\n",
        "y_test = to_categorical( y_test )\n",
        "model = Sequential()\n",
        "model.add( Dense( 8, activation=\"relu\", input_shape=(3,)) )\n",
        "model.add( Dense( 4, activation=\"relu\") )\n",
        "model.add( Dense( 2,  activation=\"softmax\"))\n",
        "model.compile( optimizer='adam', loss='categorical_crossentropy', metrics=['acc'])\n",
        "model.fit( X_train, y_train, epochs=20)"
      ],
      "metadata": {
        "id": "fFc-izPZILt3"
      },
      "execution_count": null,
      "outputs": []
    },
    {
      "cell_type": "code",
      "source": [
        "#분류 보고서\n",
        "print('\\n', classification_report(np.argmax(y_test, axis = -1), np.argmax(results, axis = -1)))\n"
      ],
      "metadata": {
        "colab": {
          "base_uri": "https://localhost:8080/"
        },
        "id": "lCE-CzOlJGMd",
        "outputId": "30e09aa4-1d2c-4de7-ca2d-d42703b76f50"
      },
      "execution_count": null,
      "outputs": [
        {
          "output_type": "stream",
          "name": "stdout",
          "text": [
            "\n",
            "               precision    recall  f1-score   support\n",
            "\n",
            "           0       0.50      0.19      0.27        16\n",
            "           1       0.46      0.79      0.58        14\n",
            "\n",
            "    accuracy                           0.47        30\n",
            "   macro avg       0.48      0.49      0.43        30\n",
            "weighted avg       0.48      0.47      0.42        30\n",
            "\n"
          ]
        }
      ]
    },
    {
      "cell_type": "markdown",
      "source": [
        "# 연습4: MNIST"
      ],
      "metadata": {
        "id": "-oF7PFo5CkUG"
      }
    },
    {
      "cell_type": "code",
      "source": [
        "import tensorflow as tf\n",
        "(x_train, y_train), (x_test, y_test) = tf.keras.datasets.mnist.load_data()\n",
        "print(x_train.shape, y_train.shape,x_test.shape,y_test.shape)\n",
        "x_train.reshape(60000, 784).shape"
      ],
      "metadata": {
        "colab": {
          "base_uri": "https://localhost:8080/"
        },
        "id": "gMdbSz1l6jmg",
        "outputId": "a16ee39a-8f38-4065-f245-cc25cb45ef38"
      },
      "execution_count": null,
      "outputs": [
        {
          "output_type": "stream",
          "name": "stdout",
          "text": [
            "Downloading data from https://storage.googleapis.com/tensorflow/tf-keras-datasets/mnist.npz\n",
            "11490434/11490434 [==============================] - 0s 0us/step\n",
            "(60000, 28, 28) (60000,) (10000, 28, 28) (10000,)\n"
          ]
        },
        {
          "output_type": "execute_result",
          "data": {
            "text/plain": [
              "(60000, 784)"
            ]
          },
          "metadata": {},
          "execution_count": 2
        }
      ]
    },
    {
      "cell_type": "code",
      "source": [
        "#random하게 5개 이미지 확인\n",
        "import numpy as np\n",
        "sample_size = 2\n",
        "random_idx = np.random.randint(60000, size = sample_size)\n",
        "\n",
        "for idx in random_idx:\n",
        "  img = x_train[idx, :]\n",
        "  label = y_train[idx]\n",
        "  plt.figure()\n",
        "  plt.imshow(img)\n",
        "  plt.title('%d-th, label: %d' %(idx, label))"
      ],
      "metadata": {
        "id": "9LURpkBw7yB1"
      },
      "execution_count": null,
      "outputs": []
    },
    {
      "cell_type": "code",
      "source": [
        "# 파티셔닝: 7:3\n",
        "from sklearn.model_selection import train_test_split\n",
        "x_train,x_val,y_train,y_val = train_test_split(x_train,y_train, test_size = 0.3, random_state =1234)\n",
        "\n",
        "print(x_train.shape, y_train.shape)\n",
        "print(x_val.shape, y_val.shape)\n",
        "\n",
        "num_x_train = x_train.shape[0]\n",
        "num_x_val = x_val.shape[0]\n",
        "num_x_test = x_test.shape[0]"
      ],
      "metadata": {
        "id": "fSJyMy7N80tD"
      },
      "execution_count": null,
      "outputs": []
    },
    {
      "cell_type": "code",
      "source": [
        "#min_max scaling / flattening\n",
        "x_train = (x_train.reshape((num_x_train, 28*28))) / 255\n",
        "x_val = (x_val.reshape((num_x_val, 28*28))) / 255\n",
        "x_test = (x_test.reshape((num_x_test, 28*28)))/ 255"
      ],
      "metadata": {
        "id": "NPNEiXz69S43"
      },
      "execution_count": null,
      "outputs": []
    },
    {
      "cell_type": "code",
      "source": [
        "#Y: one hot encoding\n",
        "from tensorflow.keras.utils import to_categorical   #array로 변환\n",
        "y_train = to_categorical(y_train)\n",
        "y_val = to_categorical(y_val)\n",
        "y_test = to_categorical(y_test)"
      ],
      "metadata": {
        "id": "mZTSBOh_9red"
      },
      "execution_count": null,
      "outputs": []
    },
    {
      "cell_type": "code",
      "source": [
        "#모형 구성\n",
        "from tensorflow.keras.models import Sequential\n",
        "from tensorflow.keras.layers import Dense\n",
        "model = Sequential()\n",
        "# 은닉층1-입력:784, 출력 64를 표시\n",
        "model.add(Dense(64, activation = 'relu', input_shape = (784, ) ) )\n",
        "# 은닉층2-입력:32를 표시\n",
        "model.add(Dense(32, activation = 'relu')) #32개의 출력을 가지는 Dense층\n",
        "model.add(Dense(16, activation = 'relu')) #32개의 출력을 가지는 Dense층\n",
        "# 은닉층3-입력:10를 표시\n",
        "model.add(Dense(10, activation = 'softmax')) # 10개의 출력을 가지는 신경망\n",
        "\n",
        "# 모형 컴파일\n",
        "model.compile(optimizer = 'adam', loss = 'categorical_crossentropy', metrics = ['acc'])\n",
        "\n",
        "# 학습\n",
        "history = model.fit(x_train, y_train, epochs = 40,\n",
        "                    batch_size = 256, validation_data = (x_val,y_val))\n",
        "                                                  #validation_split=0.1"
      ],
      "metadata": {
        "id": "VJEtBef4CkcV"
      },
      "execution_count": null,
      "outputs": []
    },
    {
      "cell_type": "code",
      "source": [
        "history.history['loss']\n",
        "history.history['val_loss']\n",
        "history.history['acc']\n",
        "history.history['val_acc']"
      ],
      "metadata": {
        "id": "lx1TAluwWLMm"
      },
      "execution_count": null,
      "outputs": []
    },
    {
      "cell_type": "markdown",
      "source": [
        "- 현재 은닉층은 64-32-10 구성인데, 이 부분을 64-32-16-10(또는 다른 구조..)으로 변경해보세요\n",
        "- epcohs를 40으로 변경해보세요\n",
        "- batch_size=256으로 지정해보세요.\n",
        "- 학습과정에서 오버피팅 발생하는 epoch도 찾아보세요(train acc > val acc)\n",
        "- 56분까지 해보세요"
      ],
      "metadata": {
        "id": "clJ1BOnyBLgz"
      }
    },
    {
      "cell_type": "markdown",
      "source": [
        "- Confusion Matrix"
      ],
      "metadata": {
        "id": "X2Zo0Y8_Cnv8"
      }
    },
    {
      "cell_type": "code",
      "source": [
        "from sklearn.metrics import classification_report, confusion_matrix\n",
        "import matplotlib.pyplot as plt\n",
        "import seaborn as sns\n",
        "results = model.predict( x_test)\n",
        "#혼동행렬을 만듬.\n",
        "plt.figure(figsize = (7,7))\n",
        "cm = confusion_matrix(np.argmax(y_test, axis = -1), np.argmax(results, axis = -1))\n",
        "sns.heatmap(cm, annot = True, fmt = 'd')\n",
        "plt.xlabel('predicted')\n",
        "plt.ylabel('actual')\n",
        "plt.show()\n",
        "\n",
        "#분류 보고서\n",
        "print('\\n', classification_report(np.argmax(y_test, axis = -1), np.argmax(results, axis = -1)))\n",
        "\n",
        "\n"
      ],
      "metadata": {
        "colab": {
          "base_uri": "https://localhost:8080/",
          "height": 965
        },
        "id": "YfExEsdiCmw3",
        "outputId": "77f98e10-a96d-46ec-e761-fe8a0b6a2fc9"
      },
      "execution_count": null,
      "outputs": [
        {
          "output_type": "stream",
          "name": "stdout",
          "text": [
            "313/313 [==============================] - 1s 3ms/step\n"
          ]
        },
        {
          "output_type": "display_data",
          "data": {
            "text/plain": [
              "<Figure size 700x700 with 2 Axes>"
            ],
            "image/png": "[encoded data removed]"
          },
          "metadata": {}
        },
        {
          "output_type": "stream",
          "name": "stdout",
          "text": [
            "\n",
            "               precision    recall  f1-score   support\n",
            "\n",
            "           0       0.97      0.99      0.98       980\n",
            "           1       0.99      0.98      0.99      1135\n",
            "           2       0.97      0.98      0.97      1032\n",
            "           3       0.95      0.98      0.96      1010\n",
            "           4       0.97      0.97      0.97       982\n",
            "           5       0.97      0.96      0.97       892\n",
            "           6       0.98      0.97      0.97       958\n",
            "           7       0.97      0.97      0.97      1028\n",
            "           8       0.97      0.95      0.96       974\n",
            "           9       0.97      0.95      0.96      1009\n",
            "\n",
            "    accuracy                           0.97     10000\n",
            "   macro avg       0.97      0.97      0.97     10000\n",
            "weighted avg       0.97      0.97      0.97     10000\n",
            "\n"
          ]
        }
      ]
    }
  ]
}